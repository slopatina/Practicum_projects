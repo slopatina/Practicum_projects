{
 "cells": [
  {
   "cell_type": "markdown",
   "metadata": {
    "id": "-VFbjcb3Awb7"
   },
   "source": [
    "# Исследование объявлений о продаже квартир\n",
    "\n",
    "В вашем распоряжении данные сервиса Яндекс Недвижимость — архив объявлений о продаже квартир в Санкт-Петербурге и соседних населённых пунктах за несколько лет. Вам нужно научиться определять рыночную стоимость объектов недвижимости. Для этого проведите исследовательский анализ данных и установите параметры, влияющие на цену объектов. Это позволит построить автоматизированную систему: она отследит аномалии и мошенническую деятельность.\n",
    "\n",
    "По каждой квартире на продажу доступны два вида данных. Первые вписаны пользователем, вторые — получены автоматически на основе картографических данных. Например, расстояние до центра, аэропорта и других объектов — эти данные автоматически получены из геосервисов. Количество парков и водоёмов также заполняется без участия пользователя."
   ]
  },
  {
   "cell_type": "markdown",
   "metadata": {},
   "source": [
    "У нас есть следущая информация для дальшейшей обработки и выводов:  \n",
    "airports_nearest — расстояние до ближайшего аэропорта в метрах (м)  \n",
    "balcony — число балконов  \n",
    "ceiling_height — высота потолков (м)  \n",
    "city_centers_nearest — расстояние до центра города (м)  \n",
    "days_exposition — сколько дней было размещено объявление (от публикации до снятия)  \n",
    "first_day_exposition — дата публикации  \n",
    "floor — этаж  \n",
    "floors_total — всего этажей в доме  \n",
    "is_apartment — апартаменты (булев тип)  \n",
    "kitchen_area — площадь кухни в квадратных метрах (м²)  \n",
    "last_price — цена на момент снятия с публикации  \n",
    "living_area — жилая площадь в квадратных метрах (м²)  \n",
    "locality_name — название населённого пункта  \n",
    "open_plan — свободная планировка (булев тип)  \n",
    "parks_around_3000 — число парков в радиусе 3 км  \n",
    "parks_nearest — расстояние до ближайшего парка (м)  \n",
    "ponds_around_3000 — число водоёмов в радиусе 3 км  \n",
    "ponds_nearest — расстояние до ближайшего водоёма (м)  \n",
    "rooms — число комнат  \n",
    "studio — квартира-студия (булев тип)  \n",
    "total_area — общая площадь квартиры в квадратных метрах (м²)  \n",
    "total_images — число фотографий квартиры в объявлении  "
   ]
  },
  {
   "cell_type": "markdown",
   "metadata": {
    "id": "aeFLH07FAwb9"
   },
   "source": [
    "### Откройте файл с данными и изучите общую информацию"
   ]
  },
  {
   "cell_type": "code",
   "execution_count": 1,
   "metadata": {},
   "outputs": [],
   "source": [
    "import pandas as pd\n",
    "import matplotlib.pyplot as plt"
   ]
  },
  {
   "cell_type": "code",
   "execution_count": 2,
   "metadata": {},
   "outputs": [],
   "source": [
    "data = pd.read_csv('/datasets/real_estate_data.csv',sep='\\t')"
   ]
  },
  {
   "cell_type": "markdown",
   "metadata": {},
   "source": [
    "**Посмотрим на первые 10 строк.**"
   ]
  },
  {
   "cell_type": "code",
   "execution_count": 3,
   "metadata": {},
   "outputs": [
    {
     "data": {
      "text/html": [
       "<div>\n",
       "<style scoped>\n",
       "    .dataframe tbody tr th:only-of-type {\n",
       "        vertical-align: middle;\n",
       "    }\n",
       "\n",
       "    .dataframe tbody tr th {\n",
       "        vertical-align: top;\n",
       "    }\n",
       "\n",
       "    .dataframe thead th {\n",
       "        text-align: right;\n",
       "    }\n",
       "</style>\n",
       "<table border=\"1\" class=\"dataframe\">\n",
       "  <thead>\n",
       "    <tr style=\"text-align: right;\">\n",
       "      <th></th>\n",
       "      <th>total_images</th>\n",
       "      <th>last_price</th>\n",
       "      <th>total_area</th>\n",
       "      <th>first_day_exposition</th>\n",
       "      <th>rooms</th>\n",
       "      <th>ceiling_height</th>\n",
       "      <th>floors_total</th>\n",
       "      <th>living_area</th>\n",
       "      <th>floor</th>\n",
       "      <th>is_apartment</th>\n",
       "      <th>...</th>\n",
       "      <th>kitchen_area</th>\n",
       "      <th>balcony</th>\n",
       "      <th>locality_name</th>\n",
       "      <th>airports_nearest</th>\n",
       "      <th>cityCenters_nearest</th>\n",
       "      <th>parks_around3000</th>\n",
       "      <th>parks_nearest</th>\n",
       "      <th>ponds_around3000</th>\n",
       "      <th>ponds_nearest</th>\n",
       "      <th>days_exposition</th>\n",
       "    </tr>\n",
       "  </thead>\n",
       "  <tbody>\n",
       "    <tr>\n",
       "      <th>0</th>\n",
       "      <td>20</td>\n",
       "      <td>13000000.0</td>\n",
       "      <td>108.00</td>\n",
       "      <td>2019-03-07T00:00:00</td>\n",
       "      <td>3</td>\n",
       "      <td>2.70</td>\n",
       "      <td>16.0</td>\n",
       "      <td>51.00</td>\n",
       "      <td>8</td>\n",
       "      <td>NaN</td>\n",
       "      <td>...</td>\n",
       "      <td>25.00</td>\n",
       "      <td>NaN</td>\n",
       "      <td>Санкт-Петербург</td>\n",
       "      <td>18863.0</td>\n",
       "      <td>16028.0</td>\n",
       "      <td>1.0</td>\n",
       "      <td>482.0</td>\n",
       "      <td>2.0</td>\n",
       "      <td>755.0</td>\n",
       "      <td>NaN</td>\n",
       "    </tr>\n",
       "    <tr>\n",
       "      <th>1</th>\n",
       "      <td>7</td>\n",
       "      <td>3350000.0</td>\n",
       "      <td>40.40</td>\n",
       "      <td>2018-12-04T00:00:00</td>\n",
       "      <td>1</td>\n",
       "      <td>NaN</td>\n",
       "      <td>11.0</td>\n",
       "      <td>18.60</td>\n",
       "      <td>1</td>\n",
       "      <td>NaN</td>\n",
       "      <td>...</td>\n",
       "      <td>11.00</td>\n",
       "      <td>2.0</td>\n",
       "      <td>посёлок Шушары</td>\n",
       "      <td>12817.0</td>\n",
       "      <td>18603.0</td>\n",
       "      <td>0.0</td>\n",
       "      <td>NaN</td>\n",
       "      <td>0.0</td>\n",
       "      <td>NaN</td>\n",
       "      <td>81.0</td>\n",
       "    </tr>\n",
       "    <tr>\n",
       "      <th>2</th>\n",
       "      <td>10</td>\n",
       "      <td>5196000.0</td>\n",
       "      <td>56.00</td>\n",
       "      <td>2015-08-20T00:00:00</td>\n",
       "      <td>2</td>\n",
       "      <td>NaN</td>\n",
       "      <td>5.0</td>\n",
       "      <td>34.30</td>\n",
       "      <td>4</td>\n",
       "      <td>NaN</td>\n",
       "      <td>...</td>\n",
       "      <td>8.30</td>\n",
       "      <td>0.0</td>\n",
       "      <td>Санкт-Петербург</td>\n",
       "      <td>21741.0</td>\n",
       "      <td>13933.0</td>\n",
       "      <td>1.0</td>\n",
       "      <td>90.0</td>\n",
       "      <td>2.0</td>\n",
       "      <td>574.0</td>\n",
       "      <td>558.0</td>\n",
       "    </tr>\n",
       "    <tr>\n",
       "      <th>3</th>\n",
       "      <td>0</td>\n",
       "      <td>64900000.0</td>\n",
       "      <td>159.00</td>\n",
       "      <td>2015-07-24T00:00:00</td>\n",
       "      <td>3</td>\n",
       "      <td>NaN</td>\n",
       "      <td>14.0</td>\n",
       "      <td>NaN</td>\n",
       "      <td>9</td>\n",
       "      <td>NaN</td>\n",
       "      <td>...</td>\n",
       "      <td>NaN</td>\n",
       "      <td>0.0</td>\n",
       "      <td>Санкт-Петербург</td>\n",
       "      <td>28098.0</td>\n",
       "      <td>6800.0</td>\n",
       "      <td>2.0</td>\n",
       "      <td>84.0</td>\n",
       "      <td>3.0</td>\n",
       "      <td>234.0</td>\n",
       "      <td>424.0</td>\n",
       "    </tr>\n",
       "    <tr>\n",
       "      <th>4</th>\n",
       "      <td>2</td>\n",
       "      <td>10000000.0</td>\n",
       "      <td>100.00</td>\n",
       "      <td>2018-06-19T00:00:00</td>\n",
       "      <td>2</td>\n",
       "      <td>3.03</td>\n",
       "      <td>14.0</td>\n",
       "      <td>32.00</td>\n",
       "      <td>13</td>\n",
       "      <td>NaN</td>\n",
       "      <td>...</td>\n",
       "      <td>41.00</td>\n",
       "      <td>NaN</td>\n",
       "      <td>Санкт-Петербург</td>\n",
       "      <td>31856.0</td>\n",
       "      <td>8098.0</td>\n",
       "      <td>2.0</td>\n",
       "      <td>112.0</td>\n",
       "      <td>1.0</td>\n",
       "      <td>48.0</td>\n",
       "      <td>121.0</td>\n",
       "    </tr>\n",
       "    <tr>\n",
       "      <th>5</th>\n",
       "      <td>10</td>\n",
       "      <td>2890000.0</td>\n",
       "      <td>30.40</td>\n",
       "      <td>2018-09-10T00:00:00</td>\n",
       "      <td>1</td>\n",
       "      <td>NaN</td>\n",
       "      <td>12.0</td>\n",
       "      <td>14.40</td>\n",
       "      <td>5</td>\n",
       "      <td>NaN</td>\n",
       "      <td>...</td>\n",
       "      <td>9.10</td>\n",
       "      <td>NaN</td>\n",
       "      <td>городской посёлок Янино-1</td>\n",
       "      <td>NaN</td>\n",
       "      <td>NaN</td>\n",
       "      <td>NaN</td>\n",
       "      <td>NaN</td>\n",
       "      <td>NaN</td>\n",
       "      <td>NaN</td>\n",
       "      <td>55.0</td>\n",
       "    </tr>\n",
       "    <tr>\n",
       "      <th>6</th>\n",
       "      <td>6</td>\n",
       "      <td>3700000.0</td>\n",
       "      <td>37.30</td>\n",
       "      <td>2017-11-02T00:00:00</td>\n",
       "      <td>1</td>\n",
       "      <td>NaN</td>\n",
       "      <td>26.0</td>\n",
       "      <td>10.60</td>\n",
       "      <td>6</td>\n",
       "      <td>NaN</td>\n",
       "      <td>...</td>\n",
       "      <td>14.40</td>\n",
       "      <td>1.0</td>\n",
       "      <td>посёлок Парголово</td>\n",
       "      <td>52996.0</td>\n",
       "      <td>19143.0</td>\n",
       "      <td>0.0</td>\n",
       "      <td>NaN</td>\n",
       "      <td>0.0</td>\n",
       "      <td>NaN</td>\n",
       "      <td>155.0</td>\n",
       "    </tr>\n",
       "    <tr>\n",
       "      <th>7</th>\n",
       "      <td>5</td>\n",
       "      <td>7915000.0</td>\n",
       "      <td>71.60</td>\n",
       "      <td>2019-04-18T00:00:00</td>\n",
       "      <td>2</td>\n",
       "      <td>NaN</td>\n",
       "      <td>24.0</td>\n",
       "      <td>NaN</td>\n",
       "      <td>22</td>\n",
       "      <td>NaN</td>\n",
       "      <td>...</td>\n",
       "      <td>18.90</td>\n",
       "      <td>2.0</td>\n",
       "      <td>Санкт-Петербург</td>\n",
       "      <td>23982.0</td>\n",
       "      <td>11634.0</td>\n",
       "      <td>0.0</td>\n",
       "      <td>NaN</td>\n",
       "      <td>0.0</td>\n",
       "      <td>NaN</td>\n",
       "      <td>NaN</td>\n",
       "    </tr>\n",
       "    <tr>\n",
       "      <th>8</th>\n",
       "      <td>20</td>\n",
       "      <td>2900000.0</td>\n",
       "      <td>33.16</td>\n",
       "      <td>2018-05-23T00:00:00</td>\n",
       "      <td>1</td>\n",
       "      <td>NaN</td>\n",
       "      <td>27.0</td>\n",
       "      <td>15.43</td>\n",
       "      <td>26</td>\n",
       "      <td>NaN</td>\n",
       "      <td>...</td>\n",
       "      <td>8.81</td>\n",
       "      <td>NaN</td>\n",
       "      <td>посёлок Мурино</td>\n",
       "      <td>NaN</td>\n",
       "      <td>NaN</td>\n",
       "      <td>NaN</td>\n",
       "      <td>NaN</td>\n",
       "      <td>NaN</td>\n",
       "      <td>NaN</td>\n",
       "      <td>189.0</td>\n",
       "    </tr>\n",
       "    <tr>\n",
       "      <th>9</th>\n",
       "      <td>18</td>\n",
       "      <td>5400000.0</td>\n",
       "      <td>61.00</td>\n",
       "      <td>2017-02-26T00:00:00</td>\n",
       "      <td>3</td>\n",
       "      <td>2.50</td>\n",
       "      <td>9.0</td>\n",
       "      <td>43.60</td>\n",
       "      <td>7</td>\n",
       "      <td>NaN</td>\n",
       "      <td>...</td>\n",
       "      <td>6.50</td>\n",
       "      <td>2.0</td>\n",
       "      <td>Санкт-Петербург</td>\n",
       "      <td>50898.0</td>\n",
       "      <td>15008.0</td>\n",
       "      <td>0.0</td>\n",
       "      <td>NaN</td>\n",
       "      <td>0.0</td>\n",
       "      <td>NaN</td>\n",
       "      <td>289.0</td>\n",
       "    </tr>\n",
       "  </tbody>\n",
       "</table>\n",
       "<p>10 rows × 22 columns</p>\n",
       "</div>"
      ],
      "text/plain": [
       "   total_images  last_price  total_area first_day_exposition  rooms  \\\n",
       "0            20  13000000.0      108.00  2019-03-07T00:00:00      3   \n",
       "1             7   3350000.0       40.40  2018-12-04T00:00:00      1   \n",
       "2            10   5196000.0       56.00  2015-08-20T00:00:00      2   \n",
       "3             0  64900000.0      159.00  2015-07-24T00:00:00      3   \n",
       "4             2  10000000.0      100.00  2018-06-19T00:00:00      2   \n",
       "5            10   2890000.0       30.40  2018-09-10T00:00:00      1   \n",
       "6             6   3700000.0       37.30  2017-11-02T00:00:00      1   \n",
       "7             5   7915000.0       71.60  2019-04-18T00:00:00      2   \n",
       "8            20   2900000.0       33.16  2018-05-23T00:00:00      1   \n",
       "9            18   5400000.0       61.00  2017-02-26T00:00:00      3   \n",
       "\n",
       "   ceiling_height  floors_total  living_area  floor is_apartment  ...  \\\n",
       "0            2.70          16.0        51.00      8          NaN  ...   \n",
       "1             NaN          11.0        18.60      1          NaN  ...   \n",
       "2             NaN           5.0        34.30      4          NaN  ...   \n",
       "3             NaN          14.0          NaN      9          NaN  ...   \n",
       "4            3.03          14.0        32.00     13          NaN  ...   \n",
       "5             NaN          12.0        14.40      5          NaN  ...   \n",
       "6             NaN          26.0        10.60      6          NaN  ...   \n",
       "7             NaN          24.0          NaN     22          NaN  ...   \n",
       "8             NaN          27.0        15.43     26          NaN  ...   \n",
       "9            2.50           9.0        43.60      7          NaN  ...   \n",
       "\n",
       "   kitchen_area  balcony              locality_name  airports_nearest  \\\n",
       "0         25.00      NaN            Санкт-Петербург           18863.0   \n",
       "1         11.00      2.0             посёлок Шушары           12817.0   \n",
       "2          8.30      0.0            Санкт-Петербург           21741.0   \n",
       "3           NaN      0.0            Санкт-Петербург           28098.0   \n",
       "4         41.00      NaN            Санкт-Петербург           31856.0   \n",
       "5          9.10      NaN  городской посёлок Янино-1               NaN   \n",
       "6         14.40      1.0          посёлок Парголово           52996.0   \n",
       "7         18.90      2.0            Санкт-Петербург           23982.0   \n",
       "8          8.81      NaN             посёлок Мурино               NaN   \n",
       "9          6.50      2.0            Санкт-Петербург           50898.0   \n",
       "\n",
       "  cityCenters_nearest  parks_around3000  parks_nearest  ponds_around3000  \\\n",
       "0             16028.0               1.0          482.0               2.0   \n",
       "1             18603.0               0.0            NaN               0.0   \n",
       "2             13933.0               1.0           90.0               2.0   \n",
       "3              6800.0               2.0           84.0               3.0   \n",
       "4              8098.0               2.0          112.0               1.0   \n",
       "5                 NaN               NaN            NaN               NaN   \n",
       "6             19143.0               0.0            NaN               0.0   \n",
       "7             11634.0               0.0            NaN               0.0   \n",
       "8                 NaN               NaN            NaN               NaN   \n",
       "9             15008.0               0.0            NaN               0.0   \n",
       "\n",
       "   ponds_nearest  days_exposition  \n",
       "0          755.0              NaN  \n",
       "1            NaN             81.0  \n",
       "2          574.0            558.0  \n",
       "3          234.0            424.0  \n",
       "4           48.0            121.0  \n",
       "5            NaN             55.0  \n",
       "6            NaN            155.0  \n",
       "7            NaN              NaN  \n",
       "8            NaN            189.0  \n",
       "9            NaN            289.0  \n",
       "\n",
       "[10 rows x 22 columns]"
      ]
     },
     "metadata": {},
     "output_type": "display_data"
    }
   ],
   "source": [
    "display(data.head(10))"
   ]
  },
  {
   "cell_type": "markdown",
   "metadata": {},
   "source": [
    "**Переименуем названия колонок, чтобы соблюсти стилистику.**"
   ]
  },
  {
   "cell_type": "code",
   "execution_count": 4,
   "metadata": {},
   "outputs": [
    {
     "data": {
      "text/html": [
       "<div>\n",
       "<style scoped>\n",
       "    .dataframe tbody tr th:only-of-type {\n",
       "        vertical-align: middle;\n",
       "    }\n",
       "\n",
       "    .dataframe tbody tr th {\n",
       "        vertical-align: top;\n",
       "    }\n",
       "\n",
       "    .dataframe thead th {\n",
       "        text-align: right;\n",
       "    }\n",
       "</style>\n",
       "<table border=\"1\" class=\"dataframe\">\n",
       "  <thead>\n",
       "    <tr style=\"text-align: right;\">\n",
       "      <th></th>\n",
       "      <th>total_images</th>\n",
       "      <th>last_price</th>\n",
       "      <th>total_area</th>\n",
       "      <th>first_day_exposition</th>\n",
       "      <th>rooms</th>\n",
       "      <th>ceiling_height</th>\n",
       "      <th>floors_total</th>\n",
       "      <th>living_area</th>\n",
       "      <th>floor</th>\n",
       "      <th>is_apartment</th>\n",
       "      <th>...</th>\n",
       "      <th>kitchen_area</th>\n",
       "      <th>balcony</th>\n",
       "      <th>locality_name</th>\n",
       "      <th>airports_nearest</th>\n",
       "      <th>city_centers_nearest</th>\n",
       "      <th>parks_around_3000</th>\n",
       "      <th>parks_nearest</th>\n",
       "      <th>ponds_around_3000</th>\n",
       "      <th>ponds_nearest</th>\n",
       "      <th>days_exposition</th>\n",
       "    </tr>\n",
       "  </thead>\n",
       "  <tbody>\n",
       "    <tr>\n",
       "      <th>0</th>\n",
       "      <td>20</td>\n",
       "      <td>13000000.0</td>\n",
       "      <td>108.00</td>\n",
       "      <td>2019-03-07T00:00:00</td>\n",
       "      <td>3</td>\n",
       "      <td>2.70</td>\n",
       "      <td>16.0</td>\n",
       "      <td>51.0</td>\n",
       "      <td>8</td>\n",
       "      <td>NaN</td>\n",
       "      <td>...</td>\n",
       "      <td>25.00</td>\n",
       "      <td>NaN</td>\n",
       "      <td>Санкт-Петербург</td>\n",
       "      <td>18863.0</td>\n",
       "      <td>16028.0</td>\n",
       "      <td>1.0</td>\n",
       "      <td>482.0</td>\n",
       "      <td>2.0</td>\n",
       "      <td>755.0</td>\n",
       "      <td>NaN</td>\n",
       "    </tr>\n",
       "    <tr>\n",
       "      <th>1</th>\n",
       "      <td>7</td>\n",
       "      <td>3350000.0</td>\n",
       "      <td>40.40</td>\n",
       "      <td>2018-12-04T00:00:00</td>\n",
       "      <td>1</td>\n",
       "      <td>NaN</td>\n",
       "      <td>11.0</td>\n",
       "      <td>18.6</td>\n",
       "      <td>1</td>\n",
       "      <td>NaN</td>\n",
       "      <td>...</td>\n",
       "      <td>11.00</td>\n",
       "      <td>2.0</td>\n",
       "      <td>посёлок Шушары</td>\n",
       "      <td>12817.0</td>\n",
       "      <td>18603.0</td>\n",
       "      <td>0.0</td>\n",
       "      <td>NaN</td>\n",
       "      <td>0.0</td>\n",
       "      <td>NaN</td>\n",
       "      <td>81.0</td>\n",
       "    </tr>\n",
       "    <tr>\n",
       "      <th>2</th>\n",
       "      <td>10</td>\n",
       "      <td>5196000.0</td>\n",
       "      <td>56.00</td>\n",
       "      <td>2015-08-20T00:00:00</td>\n",
       "      <td>2</td>\n",
       "      <td>NaN</td>\n",
       "      <td>5.0</td>\n",
       "      <td>34.3</td>\n",
       "      <td>4</td>\n",
       "      <td>NaN</td>\n",
       "      <td>...</td>\n",
       "      <td>8.30</td>\n",
       "      <td>0.0</td>\n",
       "      <td>Санкт-Петербург</td>\n",
       "      <td>21741.0</td>\n",
       "      <td>13933.0</td>\n",
       "      <td>1.0</td>\n",
       "      <td>90.0</td>\n",
       "      <td>2.0</td>\n",
       "      <td>574.0</td>\n",
       "      <td>558.0</td>\n",
       "    </tr>\n",
       "    <tr>\n",
       "      <th>3</th>\n",
       "      <td>0</td>\n",
       "      <td>64900000.0</td>\n",
       "      <td>159.00</td>\n",
       "      <td>2015-07-24T00:00:00</td>\n",
       "      <td>3</td>\n",
       "      <td>NaN</td>\n",
       "      <td>14.0</td>\n",
       "      <td>NaN</td>\n",
       "      <td>9</td>\n",
       "      <td>NaN</td>\n",
       "      <td>...</td>\n",
       "      <td>NaN</td>\n",
       "      <td>0.0</td>\n",
       "      <td>Санкт-Петербург</td>\n",
       "      <td>28098.0</td>\n",
       "      <td>6800.0</td>\n",
       "      <td>2.0</td>\n",
       "      <td>84.0</td>\n",
       "      <td>3.0</td>\n",
       "      <td>234.0</td>\n",
       "      <td>424.0</td>\n",
       "    </tr>\n",
       "    <tr>\n",
       "      <th>4</th>\n",
       "      <td>2</td>\n",
       "      <td>10000000.0</td>\n",
       "      <td>100.00</td>\n",
       "      <td>2018-06-19T00:00:00</td>\n",
       "      <td>2</td>\n",
       "      <td>3.03</td>\n",
       "      <td>14.0</td>\n",
       "      <td>32.0</td>\n",
       "      <td>13</td>\n",
       "      <td>NaN</td>\n",
       "      <td>...</td>\n",
       "      <td>41.00</td>\n",
       "      <td>NaN</td>\n",
       "      <td>Санкт-Петербург</td>\n",
       "      <td>31856.0</td>\n",
       "      <td>8098.0</td>\n",
       "      <td>2.0</td>\n",
       "      <td>112.0</td>\n",
       "      <td>1.0</td>\n",
       "      <td>48.0</td>\n",
       "      <td>121.0</td>\n",
       "    </tr>\n",
       "    <tr>\n",
       "      <th>...</th>\n",
       "      <td>...</td>\n",
       "      <td>...</td>\n",
       "      <td>...</td>\n",
       "      <td>...</td>\n",
       "      <td>...</td>\n",
       "      <td>...</td>\n",
       "      <td>...</td>\n",
       "      <td>...</td>\n",
       "      <td>...</td>\n",
       "      <td>...</td>\n",
       "      <td>...</td>\n",
       "      <td>...</td>\n",
       "      <td>...</td>\n",
       "      <td>...</td>\n",
       "      <td>...</td>\n",
       "      <td>...</td>\n",
       "      <td>...</td>\n",
       "      <td>...</td>\n",
       "      <td>...</td>\n",
       "      <td>...</td>\n",
       "      <td>...</td>\n",
       "    </tr>\n",
       "    <tr>\n",
       "      <th>23694</th>\n",
       "      <td>9</td>\n",
       "      <td>9700000.0</td>\n",
       "      <td>133.81</td>\n",
       "      <td>2017-03-21T00:00:00</td>\n",
       "      <td>3</td>\n",
       "      <td>3.70</td>\n",
       "      <td>5.0</td>\n",
       "      <td>73.3</td>\n",
       "      <td>3</td>\n",
       "      <td>NaN</td>\n",
       "      <td>...</td>\n",
       "      <td>13.83</td>\n",
       "      <td>NaN</td>\n",
       "      <td>Санкт-Петербург</td>\n",
       "      <td>24665.0</td>\n",
       "      <td>4232.0</td>\n",
       "      <td>1.0</td>\n",
       "      <td>796.0</td>\n",
       "      <td>3.0</td>\n",
       "      <td>381.0</td>\n",
       "      <td>NaN</td>\n",
       "    </tr>\n",
       "    <tr>\n",
       "      <th>23695</th>\n",
       "      <td>14</td>\n",
       "      <td>3100000.0</td>\n",
       "      <td>59.00</td>\n",
       "      <td>2018-01-15T00:00:00</td>\n",
       "      <td>3</td>\n",
       "      <td>NaN</td>\n",
       "      <td>5.0</td>\n",
       "      <td>38.0</td>\n",
       "      <td>4</td>\n",
       "      <td>NaN</td>\n",
       "      <td>...</td>\n",
       "      <td>8.50</td>\n",
       "      <td>NaN</td>\n",
       "      <td>Тосно</td>\n",
       "      <td>NaN</td>\n",
       "      <td>NaN</td>\n",
       "      <td>NaN</td>\n",
       "      <td>NaN</td>\n",
       "      <td>NaN</td>\n",
       "      <td>NaN</td>\n",
       "      <td>45.0</td>\n",
       "    </tr>\n",
       "    <tr>\n",
       "      <th>23696</th>\n",
       "      <td>18</td>\n",
       "      <td>2500000.0</td>\n",
       "      <td>56.70</td>\n",
       "      <td>2018-02-11T00:00:00</td>\n",
       "      <td>2</td>\n",
       "      <td>NaN</td>\n",
       "      <td>3.0</td>\n",
       "      <td>29.7</td>\n",
       "      <td>1</td>\n",
       "      <td>NaN</td>\n",
       "      <td>...</td>\n",
       "      <td>NaN</td>\n",
       "      <td>NaN</td>\n",
       "      <td>село Рождествено</td>\n",
       "      <td>NaN</td>\n",
       "      <td>NaN</td>\n",
       "      <td>NaN</td>\n",
       "      <td>NaN</td>\n",
       "      <td>NaN</td>\n",
       "      <td>NaN</td>\n",
       "      <td>NaN</td>\n",
       "    </tr>\n",
       "    <tr>\n",
       "      <th>23697</th>\n",
       "      <td>13</td>\n",
       "      <td>11475000.0</td>\n",
       "      <td>76.75</td>\n",
       "      <td>2017-03-28T00:00:00</td>\n",
       "      <td>2</td>\n",
       "      <td>3.00</td>\n",
       "      <td>17.0</td>\n",
       "      <td>NaN</td>\n",
       "      <td>12</td>\n",
       "      <td>NaN</td>\n",
       "      <td>...</td>\n",
       "      <td>23.30</td>\n",
       "      <td>2.0</td>\n",
       "      <td>Санкт-Петербург</td>\n",
       "      <td>39140.0</td>\n",
       "      <td>10364.0</td>\n",
       "      <td>2.0</td>\n",
       "      <td>173.0</td>\n",
       "      <td>3.0</td>\n",
       "      <td>196.0</td>\n",
       "      <td>602.0</td>\n",
       "    </tr>\n",
       "    <tr>\n",
       "      <th>23698</th>\n",
       "      <td>4</td>\n",
       "      <td>1350000.0</td>\n",
       "      <td>32.30</td>\n",
       "      <td>2017-07-21T00:00:00</td>\n",
       "      <td>1</td>\n",
       "      <td>2.50</td>\n",
       "      <td>5.0</td>\n",
       "      <td>12.3</td>\n",
       "      <td>1</td>\n",
       "      <td>NaN</td>\n",
       "      <td>...</td>\n",
       "      <td>9.00</td>\n",
       "      <td>NaN</td>\n",
       "      <td>поселок Новый Учхоз</td>\n",
       "      <td>NaN</td>\n",
       "      <td>NaN</td>\n",
       "      <td>NaN</td>\n",
       "      <td>NaN</td>\n",
       "      <td>NaN</td>\n",
       "      <td>NaN</td>\n",
       "      <td>NaN</td>\n",
       "    </tr>\n",
       "  </tbody>\n",
       "</table>\n",
       "<p>23699 rows × 22 columns</p>\n",
       "</div>"
      ],
      "text/plain": [
       "       total_images  last_price  total_area first_day_exposition  rooms  \\\n",
       "0                20  13000000.0      108.00  2019-03-07T00:00:00      3   \n",
       "1                 7   3350000.0       40.40  2018-12-04T00:00:00      1   \n",
       "2                10   5196000.0       56.00  2015-08-20T00:00:00      2   \n",
       "3                 0  64900000.0      159.00  2015-07-24T00:00:00      3   \n",
       "4                 2  10000000.0      100.00  2018-06-19T00:00:00      2   \n",
       "...             ...         ...         ...                  ...    ...   \n",
       "23694             9   9700000.0      133.81  2017-03-21T00:00:00      3   \n",
       "23695            14   3100000.0       59.00  2018-01-15T00:00:00      3   \n",
       "23696            18   2500000.0       56.70  2018-02-11T00:00:00      2   \n",
       "23697            13  11475000.0       76.75  2017-03-28T00:00:00      2   \n",
       "23698             4   1350000.0       32.30  2017-07-21T00:00:00      1   \n",
       "\n",
       "       ceiling_height  floors_total  living_area  floor is_apartment  ...  \\\n",
       "0                2.70          16.0         51.0      8          NaN  ...   \n",
       "1                 NaN          11.0         18.6      1          NaN  ...   \n",
       "2                 NaN           5.0         34.3      4          NaN  ...   \n",
       "3                 NaN          14.0          NaN      9          NaN  ...   \n",
       "4                3.03          14.0         32.0     13          NaN  ...   \n",
       "...               ...           ...          ...    ...          ...  ...   \n",
       "23694            3.70           5.0         73.3      3          NaN  ...   \n",
       "23695             NaN           5.0         38.0      4          NaN  ...   \n",
       "23696             NaN           3.0         29.7      1          NaN  ...   \n",
       "23697            3.00          17.0          NaN     12          NaN  ...   \n",
       "23698            2.50           5.0         12.3      1          NaN  ...   \n",
       "\n",
       "       kitchen_area  balcony        locality_name  airports_nearest  \\\n",
       "0             25.00      NaN      Санкт-Петербург           18863.0   \n",
       "1             11.00      2.0       посёлок Шушары           12817.0   \n",
       "2              8.30      0.0      Санкт-Петербург           21741.0   \n",
       "3               NaN      0.0      Санкт-Петербург           28098.0   \n",
       "4             41.00      NaN      Санкт-Петербург           31856.0   \n",
       "...             ...      ...                  ...               ...   \n",
       "23694         13.83      NaN      Санкт-Петербург           24665.0   \n",
       "23695          8.50      NaN                Тосно               NaN   \n",
       "23696           NaN      NaN     село Рождествено               NaN   \n",
       "23697         23.30      2.0      Санкт-Петербург           39140.0   \n",
       "23698          9.00      NaN  поселок Новый Учхоз               NaN   \n",
       "\n",
       "      city_centers_nearest  parks_around_3000  parks_nearest  \\\n",
       "0                  16028.0                1.0          482.0   \n",
       "1                  18603.0                0.0            NaN   \n",
       "2                  13933.0                1.0           90.0   \n",
       "3                   6800.0                2.0           84.0   \n",
       "4                   8098.0                2.0          112.0   \n",
       "...                    ...                ...            ...   \n",
       "23694               4232.0                1.0          796.0   \n",
       "23695                  NaN                NaN            NaN   \n",
       "23696                  NaN                NaN            NaN   \n",
       "23697              10364.0                2.0          173.0   \n",
       "23698                  NaN                NaN            NaN   \n",
       "\n",
       "       ponds_around_3000  ponds_nearest  days_exposition  \n",
       "0                    2.0          755.0              NaN  \n",
       "1                    0.0            NaN             81.0  \n",
       "2                    2.0          574.0            558.0  \n",
       "3                    3.0          234.0            424.0  \n",
       "4                    1.0           48.0            121.0  \n",
       "...                  ...            ...              ...  \n",
       "23694                3.0          381.0              NaN  \n",
       "23695                NaN            NaN             45.0  \n",
       "23696                NaN            NaN              NaN  \n",
       "23697                3.0          196.0            602.0  \n",
       "23698                NaN            NaN              NaN  \n",
       "\n",
       "[23699 rows x 22 columns]"
      ]
     },
     "metadata": {},
     "output_type": "display_data"
    }
   ],
   "source": [
    "data = data.rename(columns={'cityCenters_nearest': 'city_centers_nearest', 'parks_around3000': 'parks_around_3000', 'ponds_around3000': 'ponds_around_3000'})\n",
    "\n",
    "display(data)"
   ]
  },
  {
   "cell_type": "code",
   "execution_count": 5,
   "metadata": {},
   "outputs": [
    {
     "name": "stdout",
     "output_type": "stream",
     "text": [
      "<class 'pandas.core.frame.DataFrame'>\n",
      "RangeIndex: 23699 entries, 0 to 23698\n",
      "Data columns (total 22 columns):\n",
      " #   Column                Non-Null Count  Dtype  \n",
      "---  ------                --------------  -----  \n",
      " 0   total_images          23699 non-null  int64  \n",
      " 1   last_price            23699 non-null  float64\n",
      " 2   total_area            23699 non-null  float64\n",
      " 3   first_day_exposition  23699 non-null  object \n",
      " 4   rooms                 23699 non-null  int64  \n",
      " 5   ceiling_height        14504 non-null  float64\n",
      " 6   floors_total          23613 non-null  float64\n",
      " 7   living_area           21796 non-null  float64\n",
      " 8   floor                 23699 non-null  int64  \n",
      " 9   is_apartment          2775 non-null   object \n",
      " 10  studio                23699 non-null  bool   \n",
      " 11  open_plan             23699 non-null  bool   \n",
      " 12  kitchen_area          21421 non-null  float64\n",
      " 13  balcony               12180 non-null  float64\n",
      " 14  locality_name         23650 non-null  object \n",
      " 15  airports_nearest      18157 non-null  float64\n",
      " 16  city_centers_nearest  18180 non-null  float64\n",
      " 17  parks_around_3000     18181 non-null  float64\n",
      " 18  parks_nearest         8079 non-null   float64\n",
      " 19  ponds_around_3000     18181 non-null  float64\n",
      " 20  ponds_nearest         9110 non-null   float64\n",
      " 21  days_exposition       20518 non-null  float64\n",
      "dtypes: bool(2), float64(14), int64(3), object(3)\n",
      "memory usage: 3.7+ MB\n"
     ]
    }
   ],
   "source": [
    "data.info()"
   ]
  },
  {
   "cell_type": "code",
   "execution_count": 7,
   "metadata": {},
   "outputs": [
    {
     "data": {
      "image/png": "[encoded data removed]",
      "text/plain": [
       "<Figure size 1080x1440 with 20 Axes>"
      ]
     },
     "metadata": {
      "needs_background": "light"
     },
     "output_type": "display_data"
    }
   ],
   "source": [
    "numeric_columns = []\n",
    "for column in data:\n",
    "    if data[column].dtype in ['float64', 'int64']:\n",
    "        numeric_columns.append(column)\n",
    "\n",
    "data[numeric_columns].hist(bins=30, figsize=(15, 20))\n",
    "\n",
    "plt.show()"
   ]
  },
  {
   "cell_type": "markdown",
   "metadata": {},
   "source": [
    "Первым этапом мы изучили общие данные датафрейма и убрали нарушения в стилистике.  \n",
    "На основании гистрограмм числовых значений можем сделать выводы о квартирах, которые продают чаще всего:  \n",
    "1. В основном продают квартиры общей площадью около 100 квадратных метров от 1 до 7 этажа.  \n",
    "2. Жилая площадь около 60 квадратных метров.  \n",
    "3. Площадь кухни занимает 12 квадратных метров.  \n",
    "4. В квартире либо есть 1 балкон, либо отсутствует.  \n",
    "5. В квартире 1-2 комнаты.  \n",
    "6. Аэропорт находится в 25 км от дома, а до центра города 20 км.  \n",
    "7. В радиуме 3 км нет парка или пруда. Либо есть в радиусе 1 км.  \n",
    "8. Объявления о продаже висят около 300 дней.  \n",
    "\n",
    "Подтвердить или опровергнуть эту информацию мы сможем после того, как посмотрим детальнее информацию о ряде пунктов."
   ]
  },
  {
   "cell_type": "markdown",
   "metadata": {
    "id": "-O5NtivEAwb9"
   },
   "source": [
    "### Выполните предобработку данных"
   ]
  },
  {
   "cell_type": "markdown",
   "metadata": {
    "id": "7v3vAeTuAwb-"
   },
   "source": [
    "**2.1 Для начала посмотрим, где есть пропуски в данных.**"
   ]
  },
  {
   "cell_type": "code",
   "execution_count": 8,
   "metadata": {},
   "outputs": [
    {
     "data": {
      "text/plain": [
       "total_images                0\n",
       "last_price                  0\n",
       "total_area                  0\n",
       "first_day_exposition        0\n",
       "rooms                       0\n",
       "ceiling_height           9195\n",
       "floors_total               86\n",
       "living_area              1903\n",
       "floor                       0\n",
       "is_apartment            20924\n",
       "studio                      0\n",
       "open_plan                   0\n",
       "kitchen_area             2278\n",
       "balcony                 11519\n",
       "locality_name              49\n",
       "airports_nearest         5542\n",
       "city_centers_nearest     5519\n",
       "parks_around_3000        5518\n",
       "parks_nearest           15620\n",
       "ponds_around_3000        5518\n",
       "ponds_nearest           14589\n",
       "days_exposition          3181\n",
       "dtype: int64"
      ]
     },
     "execution_count": 8,
     "metadata": {},
     "output_type": "execute_result"
    }
   ],
   "source": [
    "data.isna().sum()"
   ]
  },
  {
   "cell_type": "markdown",
   "metadata": {},
   "source": [
    "**2.2 Теперь заполним пропуски там, где это возможно. Удалим редкие и выбивающиеся значения.**"
   ]
  },
  {
   "cell_type": "code",
   "execution_count": 10,
   "metadata": {},
   "outputs": [
    {
     "data": {
      "text/html": [
       "<div>\n",
       "<style scoped>\n",
       "    .dataframe tbody tr th:only-of-type {\n",
       "        vertical-align: middle;\n",
       "    }\n",
       "\n",
       "    .dataframe tbody tr th {\n",
       "        vertical-align: top;\n",
       "    }\n",
       "\n",
       "    .dataframe thead th {\n",
       "        text-align: right;\n",
       "    }\n",
       "</style>\n",
       "<table border=\"1\" class=\"dataframe\">\n",
       "  <thead>\n",
       "    <tr style=\"text-align: right;\">\n",
       "      <th></th>\n",
       "      <th>total_images</th>\n",
       "      <th>last_price</th>\n",
       "      <th>total_area</th>\n",
       "      <th>rooms</th>\n",
       "      <th>ceiling_height</th>\n",
       "      <th>floors_total</th>\n",
       "      <th>living_area</th>\n",
       "      <th>floor</th>\n",
       "      <th>kitchen_area</th>\n",
       "      <th>balcony</th>\n",
       "      <th>airports_nearest</th>\n",
       "      <th>city_centers_nearest</th>\n",
       "      <th>parks_around_3000</th>\n",
       "      <th>parks_nearest</th>\n",
       "      <th>ponds_around_3000</th>\n",
       "      <th>ponds_nearest</th>\n",
       "      <th>days_exposition</th>\n",
       "    </tr>\n",
       "  </thead>\n",
       "  <tbody>\n",
       "    <tr>\n",
       "      <th>count</th>\n",
       "      <td>23699.000000</td>\n",
       "      <td>2.369900e+04</td>\n",
       "      <td>23699.000000</td>\n",
       "      <td>23699.000000</td>\n",
       "      <td>14504.000000</td>\n",
       "      <td>23613.000000</td>\n",
       "      <td>21796.000000</td>\n",
       "      <td>23699.000000</td>\n",
       "      <td>21421.000000</td>\n",
       "      <td>12180.000000</td>\n",
       "      <td>18157.000000</td>\n",
       "      <td>18180.000000</td>\n",
       "      <td>18181.000000</td>\n",
       "      <td>8079.000000</td>\n",
       "      <td>18181.000000</td>\n",
       "      <td>9110.000000</td>\n",
       "      <td>20518.000000</td>\n",
       "    </tr>\n",
       "    <tr>\n",
       "      <th>mean</th>\n",
       "      <td>9.858475</td>\n",
       "      <td>6.541549e+06</td>\n",
       "      <td>60.348651</td>\n",
       "      <td>2.070636</td>\n",
       "      <td>2.771499</td>\n",
       "      <td>10.673824</td>\n",
       "      <td>34.457852</td>\n",
       "      <td>5.892358</td>\n",
       "      <td>10.569807</td>\n",
       "      <td>1.150082</td>\n",
       "      <td>28793.672193</td>\n",
       "      <td>14191.277833</td>\n",
       "      <td>0.611408</td>\n",
       "      <td>490.804555</td>\n",
       "      <td>0.770255</td>\n",
       "      <td>517.980900</td>\n",
       "      <td>180.888634</td>\n",
       "    </tr>\n",
       "    <tr>\n",
       "      <th>std</th>\n",
       "      <td>5.682529</td>\n",
       "      <td>1.088701e+07</td>\n",
       "      <td>35.654083</td>\n",
       "      <td>1.078405</td>\n",
       "      <td>1.261056</td>\n",
       "      <td>6.597173</td>\n",
       "      <td>22.030445</td>\n",
       "      <td>4.885249</td>\n",
       "      <td>5.905438</td>\n",
       "      <td>1.071300</td>\n",
       "      <td>12630.880622</td>\n",
       "      <td>8608.386210</td>\n",
       "      <td>0.802074</td>\n",
       "      <td>342.317995</td>\n",
       "      <td>0.938346</td>\n",
       "      <td>277.720643</td>\n",
       "      <td>219.727988</td>\n",
       "    </tr>\n",
       "    <tr>\n",
       "      <th>min</th>\n",
       "      <td>0.000000</td>\n",
       "      <td>1.219000e+04</td>\n",
       "      <td>12.000000</td>\n",
       "      <td>0.000000</td>\n",
       "      <td>1.000000</td>\n",
       "      <td>1.000000</td>\n",
       "      <td>2.000000</td>\n",
       "      <td>1.000000</td>\n",
       "      <td>1.300000</td>\n",
       "      <td>0.000000</td>\n",
       "      <td>0.000000</td>\n",
       "      <td>181.000000</td>\n",
       "      <td>0.000000</td>\n",
       "      <td>1.000000</td>\n",
       "      <td>0.000000</td>\n",
       "      <td>13.000000</td>\n",
       "      <td>1.000000</td>\n",
       "    </tr>\n",
       "    <tr>\n",
       "      <th>25%</th>\n",
       "      <td>6.000000</td>\n",
       "      <td>3.400000e+06</td>\n",
       "      <td>40.000000</td>\n",
       "      <td>1.000000</td>\n",
       "      <td>2.520000</td>\n",
       "      <td>5.000000</td>\n",
       "      <td>18.600000</td>\n",
       "      <td>2.000000</td>\n",
       "      <td>7.000000</td>\n",
       "      <td>0.000000</td>\n",
       "      <td>18585.000000</td>\n",
       "      <td>9238.000000</td>\n",
       "      <td>0.000000</td>\n",
       "      <td>288.000000</td>\n",
       "      <td>0.000000</td>\n",
       "      <td>294.000000</td>\n",
       "      <td>45.000000</td>\n",
       "    </tr>\n",
       "    <tr>\n",
       "      <th>50%</th>\n",
       "      <td>9.000000</td>\n",
       "      <td>4.650000e+06</td>\n",
       "      <td>52.000000</td>\n",
       "      <td>2.000000</td>\n",
       "      <td>2.650000</td>\n",
       "      <td>9.000000</td>\n",
       "      <td>30.000000</td>\n",
       "      <td>4.000000</td>\n",
       "      <td>9.100000</td>\n",
       "      <td>1.000000</td>\n",
       "      <td>26726.000000</td>\n",
       "      <td>13098.500000</td>\n",
       "      <td>0.000000</td>\n",
       "      <td>455.000000</td>\n",
       "      <td>1.000000</td>\n",
       "      <td>502.000000</td>\n",
       "      <td>95.000000</td>\n",
       "    </tr>\n",
       "    <tr>\n",
       "      <th>75%</th>\n",
       "      <td>14.000000</td>\n",
       "      <td>6.800000e+06</td>\n",
       "      <td>69.900000</td>\n",
       "      <td>3.000000</td>\n",
       "      <td>2.800000</td>\n",
       "      <td>16.000000</td>\n",
       "      <td>42.300000</td>\n",
       "      <td>8.000000</td>\n",
       "      <td>12.000000</td>\n",
       "      <td>2.000000</td>\n",
       "      <td>37273.000000</td>\n",
       "      <td>16293.000000</td>\n",
       "      <td>1.000000</td>\n",
       "      <td>612.000000</td>\n",
       "      <td>1.000000</td>\n",
       "      <td>729.000000</td>\n",
       "      <td>232.000000</td>\n",
       "    </tr>\n",
       "    <tr>\n",
       "      <th>max</th>\n",
       "      <td>50.000000</td>\n",
       "      <td>7.630000e+08</td>\n",
       "      <td>900.000000</td>\n",
       "      <td>19.000000</td>\n",
       "      <td>100.000000</td>\n",
       "      <td>60.000000</td>\n",
       "      <td>409.700000</td>\n",
       "      <td>33.000000</td>\n",
       "      <td>112.000000</td>\n",
       "      <td>5.000000</td>\n",
       "      <td>84869.000000</td>\n",
       "      <td>65968.000000</td>\n",
       "      <td>3.000000</td>\n",
       "      <td>3190.000000</td>\n",
       "      <td>3.000000</td>\n",
       "      <td>1344.000000</td>\n",
       "      <td>1580.000000</td>\n",
       "    </tr>\n",
       "  </tbody>\n",
       "</table>\n",
       "</div>"
      ],
      "text/plain": [
       "       total_images    last_price    total_area         rooms  ceiling_height  \\\n",
       "count  23699.000000  2.369900e+04  23699.000000  23699.000000    14504.000000   \n",
       "mean       9.858475  6.541549e+06     60.348651      2.070636        2.771499   \n",
       "std        5.682529  1.088701e+07     35.654083      1.078405        1.261056   \n",
       "min        0.000000  1.219000e+04     12.000000      0.000000        1.000000   \n",
       "25%        6.000000  3.400000e+06     40.000000      1.000000        2.520000   \n",
       "50%        9.000000  4.650000e+06     52.000000      2.000000        2.650000   \n",
       "75%       14.000000  6.800000e+06     69.900000      3.000000        2.800000   \n",
       "max       50.000000  7.630000e+08    900.000000     19.000000      100.000000   \n",
       "\n",
       "       floors_total   living_area         floor  kitchen_area       balcony  \\\n",
       "count  23613.000000  21796.000000  23699.000000  21421.000000  12180.000000   \n",
       "mean      10.673824     34.457852      5.892358     10.569807      1.150082   \n",
       "std        6.597173     22.030445      4.885249      5.905438      1.071300   \n",
       "min        1.000000      2.000000      1.000000      1.300000      0.000000   \n",
       "25%        5.000000     18.600000      2.000000      7.000000      0.000000   \n",
       "50%        9.000000     30.000000      4.000000      9.100000      1.000000   \n",
       "75%       16.000000     42.300000      8.000000     12.000000      2.000000   \n",
       "max       60.000000    409.700000     33.000000    112.000000      5.000000   \n",
       "\n",
       "       airports_nearest  city_centers_nearest  parks_around_3000  \\\n",
       "count      18157.000000          18180.000000       18181.000000   \n",
       "mean       28793.672193          14191.277833           0.611408   \n",
       "std        12630.880622           8608.386210           0.802074   \n",
       "min            0.000000            181.000000           0.000000   \n",
       "25%        18585.000000           9238.000000           0.000000   \n",
       "50%        26726.000000          13098.500000           0.000000   \n",
       "75%        37273.000000          16293.000000           1.000000   \n",
       "max        84869.000000          65968.000000           3.000000   \n",
       "\n",
       "       parks_nearest  ponds_around_3000  ponds_nearest  days_exposition  \n",
       "count    8079.000000       18181.000000    9110.000000     20518.000000  \n",
       "mean      490.804555           0.770255     517.980900       180.888634  \n",
       "std       342.317995           0.938346     277.720643       219.727988  \n",
       "min         1.000000           0.000000      13.000000         1.000000  \n",
       "25%       288.000000           0.000000     294.000000        45.000000  \n",
       "50%       455.000000           1.000000     502.000000        95.000000  \n",
       "75%       612.000000           1.000000     729.000000       232.000000  \n",
       "max      3190.000000           3.000000    1344.000000      1580.000000  "
      ]
     },
     "metadata": {},
     "output_type": "display_data"
    }
   ],
   "source": [
    "descriptive_stats = data.describe()\n",
    "display(descriptive_stats)"
   ]
  },
  {
   "cell_type": "markdown",
   "metadata": {},
   "source": [
    "**Last price**"
   ]
  },
  {
   "cell_type": "markdown",
   "metadata": {},
   "source": [
    "Посмотрим максимальные и минимальные значения."
   ]
  },
  {
   "cell_type": "code",
   "execution_count": 11,
   "metadata": {},
   "outputs": [
    {
     "data": {
      "text/html": [
       "<div>\n",
       "<style scoped>\n",
       "    .dataframe tbody tr th:only-of-type {\n",
       "        vertical-align: middle;\n",
       "    }\n",
       "\n",
       "    .dataframe tbody tr th {\n",
       "        vertical-align: top;\n",
       "    }\n",
       "\n",
       "    .dataframe thead th {\n",
       "        text-align: right;\n",
       "    }\n",
       "</style>\n",
       "<table border=\"1\" class=\"dataframe\">\n",
       "  <thead>\n",
       "    <tr style=\"text-align: right;\">\n",
       "      <th></th>\n",
       "      <th>total_images</th>\n",
       "      <th>last_price</th>\n",
       "      <th>total_area</th>\n",
       "      <th>first_day_exposition</th>\n",
       "      <th>rooms</th>\n",
       "      <th>ceiling_height</th>\n",
       "      <th>floors_total</th>\n",
       "      <th>living_area</th>\n",
       "      <th>floor</th>\n",
       "      <th>is_apartment</th>\n",
       "      <th>...</th>\n",
       "      <th>kitchen_area</th>\n",
       "      <th>balcony</th>\n",
       "      <th>locality_name</th>\n",
       "      <th>airports_nearest</th>\n",
       "      <th>city_centers_nearest</th>\n",
       "      <th>parks_around_3000</th>\n",
       "      <th>parks_nearest</th>\n",
       "      <th>ponds_around_3000</th>\n",
       "      <th>ponds_nearest</th>\n",
       "      <th>days_exposition</th>\n",
       "    </tr>\n",
       "  </thead>\n",
       "  <tbody>\n",
       "    <tr>\n",
       "      <th>8793</th>\n",
       "      <td>7</td>\n",
       "      <td>12190.0</td>\n",
       "      <td>109.0</td>\n",
       "      <td>2019-03-20T00:00:00</td>\n",
       "      <td>2</td>\n",
       "      <td>2.75</td>\n",
       "      <td>25.0</td>\n",
       "      <td>32.0</td>\n",
       "      <td>25</td>\n",
       "      <td>NaN</td>\n",
       "      <td>...</td>\n",
       "      <td>40.5</td>\n",
       "      <td>NaN</td>\n",
       "      <td>Санкт-Петербург</td>\n",
       "      <td>36421.0</td>\n",
       "      <td>9176.0</td>\n",
       "      <td>1.0</td>\n",
       "      <td>805.0</td>\n",
       "      <td>0.0</td>\n",
       "      <td>NaN</td>\n",
       "      <td>8.0</td>\n",
       "    </tr>\n",
       "    <tr>\n",
       "      <th>17456</th>\n",
       "      <td>7</td>\n",
       "      <td>430000.0</td>\n",
       "      <td>30.4</td>\n",
       "      <td>2019-04-22T00:00:00</td>\n",
       "      <td>1</td>\n",
       "      <td>NaN</td>\n",
       "      <td>2.0</td>\n",
       "      <td>16.0</td>\n",
       "      <td>1</td>\n",
       "      <td>NaN</td>\n",
       "      <td>...</td>\n",
       "      <td>6.0</td>\n",
       "      <td>NaN</td>\n",
       "      <td>Сланцы</td>\n",
       "      <td>NaN</td>\n",
       "      <td>NaN</td>\n",
       "      <td>NaN</td>\n",
       "      <td>NaN</td>\n",
       "      <td>NaN</td>\n",
       "      <td>NaN</td>\n",
       "      <td>NaN</td>\n",
       "    </tr>\n",
       "    <tr>\n",
       "      <th>14911</th>\n",
       "      <td>5</td>\n",
       "      <td>430000.0</td>\n",
       "      <td>54.0</td>\n",
       "      <td>2018-06-26T00:00:00</td>\n",
       "      <td>2</td>\n",
       "      <td>NaN</td>\n",
       "      <td>3.0</td>\n",
       "      <td>NaN</td>\n",
       "      <td>3</td>\n",
       "      <td>NaN</td>\n",
       "      <td>...</td>\n",
       "      <td>NaN</td>\n",
       "      <td>NaN</td>\n",
       "      <td>посёлок станции Свирь</td>\n",
       "      <td>NaN</td>\n",
       "      <td>NaN</td>\n",
       "      <td>NaN</td>\n",
       "      <td>NaN</td>\n",
       "      <td>NaN</td>\n",
       "      <td>NaN</td>\n",
       "      <td>44.0</td>\n",
       "    </tr>\n",
       "    <tr>\n",
       "      <th>16274</th>\n",
       "      <td>18</td>\n",
       "      <td>440000.0</td>\n",
       "      <td>40.0</td>\n",
       "      <td>2018-07-10T00:00:00</td>\n",
       "      <td>1</td>\n",
       "      <td>NaN</td>\n",
       "      <td>5.0</td>\n",
       "      <td>NaN</td>\n",
       "      <td>1</td>\n",
       "      <td>NaN</td>\n",
       "      <td>...</td>\n",
       "      <td>NaN</td>\n",
       "      <td>NaN</td>\n",
       "      <td>деревня Старополье</td>\n",
       "      <td>NaN</td>\n",
       "      <td>NaN</td>\n",
       "      <td>NaN</td>\n",
       "      <td>NaN</td>\n",
       "      <td>NaN</td>\n",
       "      <td>NaN</td>\n",
       "      <td>45.0</td>\n",
       "    </tr>\n",
       "    <tr>\n",
       "      <th>17676</th>\n",
       "      <td>0</td>\n",
       "      <td>450000.0</td>\n",
       "      <td>36.5</td>\n",
       "      <td>2018-02-01T00:00:00</td>\n",
       "      <td>1</td>\n",
       "      <td>NaN</td>\n",
       "      <td>5.0</td>\n",
       "      <td>17.3</td>\n",
       "      <td>4</td>\n",
       "      <td>NaN</td>\n",
       "      <td>...</td>\n",
       "      <td>8.5</td>\n",
       "      <td>1.0</td>\n",
       "      <td>деревня Ям-Тесово</td>\n",
       "      <td>NaN</td>\n",
       "      <td>NaN</td>\n",
       "      <td>NaN</td>\n",
       "      <td>NaN</td>\n",
       "      <td>NaN</td>\n",
       "      <td>NaN</td>\n",
       "      <td>120.0</td>\n",
       "    </tr>\n",
       "    <tr>\n",
       "      <th>...</th>\n",
       "      <td>...</td>\n",
       "      <td>...</td>\n",
       "      <td>...</td>\n",
       "      <td>...</td>\n",
       "      <td>...</td>\n",
       "      <td>...</td>\n",
       "      <td>...</td>\n",
       "      <td>...</td>\n",
       "      <td>...</td>\n",
       "      <td>...</td>\n",
       "      <td>...</td>\n",
       "      <td>...</td>\n",
       "      <td>...</td>\n",
       "      <td>...</td>\n",
       "      <td>...</td>\n",
       "      <td>...</td>\n",
       "      <td>...</td>\n",
       "      <td>...</td>\n",
       "      <td>...</td>\n",
       "      <td>...</td>\n",
       "      <td>...</td>\n",
       "    </tr>\n",
       "    <tr>\n",
       "      <th>15651</th>\n",
       "      <td>20</td>\n",
       "      <td>300000000.0</td>\n",
       "      <td>618.0</td>\n",
       "      <td>2017-12-18T00:00:00</td>\n",
       "      <td>7</td>\n",
       "      <td>3.40</td>\n",
       "      <td>7.0</td>\n",
       "      <td>258.0</td>\n",
       "      <td>5</td>\n",
       "      <td>NaN</td>\n",
       "      <td>...</td>\n",
       "      <td>70.0</td>\n",
       "      <td>NaN</td>\n",
       "      <td>Санкт-Петербург</td>\n",
       "      <td>32440.0</td>\n",
       "      <td>5297.0</td>\n",
       "      <td>0.0</td>\n",
       "      <td>NaN</td>\n",
       "      <td>2.0</td>\n",
       "      <td>198.0</td>\n",
       "      <td>111.0</td>\n",
       "    </tr>\n",
       "    <tr>\n",
       "      <th>1436</th>\n",
       "      <td>19</td>\n",
       "      <td>330000000.0</td>\n",
       "      <td>190.0</td>\n",
       "      <td>2018-04-04T00:00:00</td>\n",
       "      <td>3</td>\n",
       "      <td>3.50</td>\n",
       "      <td>7.0</td>\n",
       "      <td>95.0</td>\n",
       "      <td>5</td>\n",
       "      <td>NaN</td>\n",
       "      <td>...</td>\n",
       "      <td>40.0</td>\n",
       "      <td>NaN</td>\n",
       "      <td>Санкт-Петербург</td>\n",
       "      <td>23011.0</td>\n",
       "      <td>1197.0</td>\n",
       "      <td>3.0</td>\n",
       "      <td>519.0</td>\n",
       "      <td>3.0</td>\n",
       "      <td>285.0</td>\n",
       "      <td>233.0</td>\n",
       "    </tr>\n",
       "    <tr>\n",
       "      <th>14706</th>\n",
       "      <td>15</td>\n",
       "      <td>401300000.0</td>\n",
       "      <td>401.0</td>\n",
       "      <td>2016-02-20T00:00:00</td>\n",
       "      <td>5</td>\n",
       "      <td>NaN</td>\n",
       "      <td>9.0</td>\n",
       "      <td>204.0</td>\n",
       "      <td>9</td>\n",
       "      <td>False</td>\n",
       "      <td>...</td>\n",
       "      <td>24.0</td>\n",
       "      <td>3.0</td>\n",
       "      <td>Санкт-Петербург</td>\n",
       "      <td>21912.0</td>\n",
       "      <td>2389.0</td>\n",
       "      <td>1.0</td>\n",
       "      <td>545.0</td>\n",
       "      <td>1.0</td>\n",
       "      <td>478.0</td>\n",
       "      <td>393.0</td>\n",
       "    </tr>\n",
       "    <tr>\n",
       "      <th>19540</th>\n",
       "      <td>8</td>\n",
       "      <td>420000000.0</td>\n",
       "      <td>900.0</td>\n",
       "      <td>2017-12-06T00:00:00</td>\n",
       "      <td>12</td>\n",
       "      <td>2.80</td>\n",
       "      <td>25.0</td>\n",
       "      <td>409.7</td>\n",
       "      <td>25</td>\n",
       "      <td>NaN</td>\n",
       "      <td>...</td>\n",
       "      <td>112.0</td>\n",
       "      <td>NaN</td>\n",
       "      <td>Санкт-Петербург</td>\n",
       "      <td>30706.0</td>\n",
       "      <td>7877.0</td>\n",
       "      <td>0.0</td>\n",
       "      <td>NaN</td>\n",
       "      <td>2.0</td>\n",
       "      <td>318.0</td>\n",
       "      <td>106.0</td>\n",
       "    </tr>\n",
       "    <tr>\n",
       "      <th>12971</th>\n",
       "      <td>19</td>\n",
       "      <td>763000000.0</td>\n",
       "      <td>400.0</td>\n",
       "      <td>2017-09-30T00:00:00</td>\n",
       "      <td>7</td>\n",
       "      <td>NaN</td>\n",
       "      <td>10.0</td>\n",
       "      <td>250.0</td>\n",
       "      <td>10</td>\n",
       "      <td>NaN</td>\n",
       "      <td>...</td>\n",
       "      <td>NaN</td>\n",
       "      <td>2.0</td>\n",
       "      <td>Санкт-Петербург</td>\n",
       "      <td>25108.0</td>\n",
       "      <td>3956.0</td>\n",
       "      <td>1.0</td>\n",
       "      <td>530.0</td>\n",
       "      <td>3.0</td>\n",
       "      <td>756.0</td>\n",
       "      <td>33.0</td>\n",
       "    </tr>\n",
       "  </tbody>\n",
       "</table>\n",
       "<p>23699 rows × 22 columns</p>\n",
       "</div>"
      ],
      "text/plain": [
       "       total_images   last_price  total_area first_day_exposition  rooms  \\\n",
       "8793              7      12190.0       109.0  2019-03-20T00:00:00      2   \n",
       "17456             7     430000.0        30.4  2019-04-22T00:00:00      1   \n",
       "14911             5     430000.0        54.0  2018-06-26T00:00:00      2   \n",
       "16274            18     440000.0        40.0  2018-07-10T00:00:00      1   \n",
       "17676             0     450000.0        36.5  2018-02-01T00:00:00      1   \n",
       "...             ...          ...         ...                  ...    ...   \n",
       "15651            20  300000000.0       618.0  2017-12-18T00:00:00      7   \n",
       "1436             19  330000000.0       190.0  2018-04-04T00:00:00      3   \n",
       "14706            15  401300000.0       401.0  2016-02-20T00:00:00      5   \n",
       "19540             8  420000000.0       900.0  2017-12-06T00:00:00     12   \n",
       "12971            19  763000000.0       400.0  2017-09-30T00:00:00      7   \n",
       "\n",
       "       ceiling_height  floors_total  living_area  floor is_apartment  ...  \\\n",
       "8793             2.75          25.0         32.0     25          NaN  ...   \n",
       "17456             NaN           2.0         16.0      1          NaN  ...   \n",
       "14911             NaN           3.0          NaN      3          NaN  ...   \n",
       "16274             NaN           5.0          NaN      1          NaN  ...   \n",
       "17676             NaN           5.0         17.3      4          NaN  ...   \n",
       "...               ...           ...          ...    ...          ...  ...   \n",
       "15651            3.40           7.0        258.0      5          NaN  ...   \n",
       "1436             3.50           7.0         95.0      5          NaN  ...   \n",
       "14706             NaN           9.0        204.0      9        False  ...   \n",
       "19540            2.80          25.0        409.7     25          NaN  ...   \n",
       "12971             NaN          10.0        250.0     10          NaN  ...   \n",
       "\n",
       "       kitchen_area  balcony          locality_name  airports_nearest  \\\n",
       "8793           40.5      NaN        Санкт-Петербург           36421.0   \n",
       "17456           6.0      NaN                 Сланцы               NaN   \n",
       "14911           NaN      NaN  посёлок станции Свирь               NaN   \n",
       "16274           NaN      NaN     деревня Старополье               NaN   \n",
       "17676           8.5      1.0      деревня Ям-Тесово               NaN   \n",
       "...             ...      ...                    ...               ...   \n",
       "15651          70.0      NaN        Санкт-Петербург           32440.0   \n",
       "1436           40.0      NaN        Санкт-Петербург           23011.0   \n",
       "14706          24.0      3.0        Санкт-Петербург           21912.0   \n",
       "19540         112.0      NaN        Санкт-Петербург           30706.0   \n",
       "12971           NaN      2.0        Санкт-Петербург           25108.0   \n",
       "\n",
       "      city_centers_nearest  parks_around_3000  parks_nearest  \\\n",
       "8793                9176.0                1.0          805.0   \n",
       "17456                  NaN                NaN            NaN   \n",
       "14911                  NaN                NaN            NaN   \n",
       "16274                  NaN                NaN            NaN   \n",
       "17676                  NaN                NaN            NaN   \n",
       "...                    ...                ...            ...   \n",
       "15651               5297.0                0.0            NaN   \n",
       "1436                1197.0                3.0          519.0   \n",
       "14706               2389.0                1.0          545.0   \n",
       "19540               7877.0                0.0            NaN   \n",
       "12971               3956.0                1.0          530.0   \n",
       "\n",
       "       ponds_around_3000  ponds_nearest  days_exposition  \n",
       "8793                 0.0            NaN              8.0  \n",
       "17456                NaN            NaN              NaN  \n",
       "14911                NaN            NaN             44.0  \n",
       "16274                NaN            NaN             45.0  \n",
       "17676                NaN            NaN            120.0  \n",
       "...                  ...            ...              ...  \n",
       "15651                2.0          198.0            111.0  \n",
       "1436                 3.0          285.0            233.0  \n",
       "14706                1.0          478.0            393.0  \n",
       "19540                2.0          318.0            106.0  \n",
       "12971                3.0          756.0             33.0  \n",
       "\n",
       "[23699 rows x 22 columns]"
      ]
     },
     "execution_count": 11,
     "metadata": {},
     "output_type": "execute_result"
    }
   ],
   "source": [
    "data.sort_values(by='last_price')"
   ]
  },
  {
   "cell_type": "markdown",
   "metadata": {},
   "source": [
    "Удалим самую минимальную и самую максимальную стоимость, так как они выбиваются. Квартиры в основном стоят до 430 тысяч до 420 миллионов."
   ]
  },
  {
   "cell_type": "code",
   "execution_count": 12,
   "metadata": {},
   "outputs": [],
   "source": [
    "data = data.query('last_price >= 430000 & last_price <= 421000000')"
   ]
  },
  {
   "cell_type": "code",
   "execution_count": 13,
   "metadata": {},
   "outputs": [
    {
     "data": {
      "text/plain": [
       "count    2.369700e+04\n",
       "mean     6.509902e+06\n",
       "std      9.715219e+06\n",
       "min      4.300000e+05\n",
       "25%      3.400000e+06\n",
       "50%      4.650000e+06\n",
       "75%      6.800000e+06\n",
       "max      4.200000e+08\n",
       "Name: last_price, dtype: float64"
      ]
     },
     "execution_count": 13,
     "metadata": {},
     "output_type": "execute_result"
    }
   ],
   "source": [
    "data['last_price'].describe()"
   ]
  },
  {
   "cell_type": "markdown",
   "metadata": {},
   "source": [
    "**Total area**"
   ]
  },
  {
   "cell_type": "code",
   "execution_count": 14,
   "metadata": {},
   "outputs": [
    {
     "data": {
      "text/html": [
       "<div>\n",
       "<style scoped>\n",
       "    .dataframe tbody tr th:only-of-type {\n",
       "        vertical-align: middle;\n",
       "    }\n",
       "\n",
       "    .dataframe tbody tr th {\n",
       "        vertical-align: top;\n",
       "    }\n",
       "\n",
       "    .dataframe thead th {\n",
       "        text-align: right;\n",
       "    }\n",
       "</style>\n",
       "<table border=\"1\" class=\"dataframe\">\n",
       "  <thead>\n",
       "    <tr style=\"text-align: right;\">\n",
       "      <th></th>\n",
       "      <th>total_images</th>\n",
       "      <th>last_price</th>\n",
       "      <th>total_area</th>\n",
       "      <th>first_day_exposition</th>\n",
       "      <th>rooms</th>\n",
       "      <th>ceiling_height</th>\n",
       "      <th>floors_total</th>\n",
       "      <th>living_area</th>\n",
       "      <th>floor</th>\n",
       "      <th>is_apartment</th>\n",
       "      <th>...</th>\n",
       "      <th>kitchen_area</th>\n",
       "      <th>balcony</th>\n",
       "      <th>locality_name</th>\n",
       "      <th>airports_nearest</th>\n",
       "      <th>city_centers_nearest</th>\n",
       "      <th>parks_around_3000</th>\n",
       "      <th>parks_nearest</th>\n",
       "      <th>ponds_around_3000</th>\n",
       "      <th>ponds_nearest</th>\n",
       "      <th>days_exposition</th>\n",
       "    </tr>\n",
       "  </thead>\n",
       "  <tbody>\n",
       "    <tr>\n",
       "      <th>19904</th>\n",
       "      <td>4</td>\n",
       "      <td>2400000.0</td>\n",
       "      <td>12.0</td>\n",
       "      <td>2017-07-19T00:00:00</td>\n",
       "      <td>1</td>\n",
       "      <td>2.55</td>\n",
       "      <td>5.0</td>\n",
       "      <td>10.0</td>\n",
       "      <td>2</td>\n",
       "      <td>NaN</td>\n",
       "      <td>...</td>\n",
       "      <td>NaN</td>\n",
       "      <td>NaN</td>\n",
       "      <td>Санкт-Петербург</td>\n",
       "      <td>21314.0</td>\n",
       "      <td>964.0</td>\n",
       "      <td>1.0</td>\n",
       "      <td>886.0</td>\n",
       "      <td>2.0</td>\n",
       "      <td>45.0</td>\n",
       "      <td>200.0</td>\n",
       "    </tr>\n",
       "    <tr>\n",
       "      <th>17961</th>\n",
       "      <td>3</td>\n",
       "      <td>1400000.0</td>\n",
       "      <td>13.0</td>\n",
       "      <td>2017-12-03T00:00:00</td>\n",
       "      <td>1</td>\n",
       "      <td>2.60</td>\n",
       "      <td>9.0</td>\n",
       "      <td>NaN</td>\n",
       "      <td>1</td>\n",
       "      <td>NaN</td>\n",
       "      <td>...</td>\n",
       "      <td>NaN</td>\n",
       "      <td>NaN</td>\n",
       "      <td>Санкт-Петербург</td>\n",
       "      <td>14350.0</td>\n",
       "      <td>15945.0</td>\n",
       "      <td>0.0</td>\n",
       "      <td>NaN</td>\n",
       "      <td>1.0</td>\n",
       "      <td>185.0</td>\n",
       "      <td>410.0</td>\n",
       "    </tr>\n",
       "    <tr>\n",
       "      <th>19807</th>\n",
       "      <td>0</td>\n",
       "      <td>3800000.0</td>\n",
       "      <td>13.0</td>\n",
       "      <td>2018-07-04T00:00:00</td>\n",
       "      <td>1</td>\n",
       "      <td>NaN</td>\n",
       "      <td>5.0</td>\n",
       "      <td>10.0</td>\n",
       "      <td>3</td>\n",
       "      <td>NaN</td>\n",
       "      <td>...</td>\n",
       "      <td>NaN</td>\n",
       "      <td>NaN</td>\n",
       "      <td>Санкт-Петербург</td>\n",
       "      <td>21302.0</td>\n",
       "      <td>1242.0</td>\n",
       "      <td>1.0</td>\n",
       "      <td>592.0</td>\n",
       "      <td>3.0</td>\n",
       "      <td>27.0</td>\n",
       "      <td>9.0</td>\n",
       "    </tr>\n",
       "    <tr>\n",
       "      <th>19546</th>\n",
       "      <td>3</td>\n",
       "      <td>1850000.0</td>\n",
       "      <td>13.0</td>\n",
       "      <td>2019-03-11T00:00:00</td>\n",
       "      <td>1</td>\n",
       "      <td>3.40</td>\n",
       "      <td>5.0</td>\n",
       "      <td>NaN</td>\n",
       "      <td>2</td>\n",
       "      <td>False</td>\n",
       "      <td>...</td>\n",
       "      <td>NaN</td>\n",
       "      <td>NaN</td>\n",
       "      <td>Санкт-Петербург</td>\n",
       "      <td>24915.0</td>\n",
       "      <td>5483.0</td>\n",
       "      <td>1.0</td>\n",
       "      <td>644.0</td>\n",
       "      <td>0.0</td>\n",
       "      <td>NaN</td>\n",
       "      <td>24.0</td>\n",
       "    </tr>\n",
       "    <tr>\n",
       "      <th>19558</th>\n",
       "      <td>2</td>\n",
       "      <td>1686000.0</td>\n",
       "      <td>13.2</td>\n",
       "      <td>2018-12-17T00:00:00</td>\n",
       "      <td>1</td>\n",
       "      <td>NaN</td>\n",
       "      <td>5.0</td>\n",
       "      <td>NaN</td>\n",
       "      <td>1</td>\n",
       "      <td>NaN</td>\n",
       "      <td>...</td>\n",
       "      <td>NaN</td>\n",
       "      <td>NaN</td>\n",
       "      <td>Санкт-Петербург</td>\n",
       "      <td>19891.0</td>\n",
       "      <td>4165.0</td>\n",
       "      <td>1.0</td>\n",
       "      <td>361.0</td>\n",
       "      <td>1.0</td>\n",
       "      <td>155.0</td>\n",
       "      <td>19.0</td>\n",
       "    </tr>\n",
       "    <tr>\n",
       "      <th>...</th>\n",
       "      <td>...</td>\n",
       "      <td>...</td>\n",
       "      <td>...</td>\n",
       "      <td>...</td>\n",
       "      <td>...</td>\n",
       "      <td>...</td>\n",
       "      <td>...</td>\n",
       "      <td>...</td>\n",
       "      <td>...</td>\n",
       "      <td>...</td>\n",
       "      <td>...</td>\n",
       "      <td>...</td>\n",
       "      <td>...</td>\n",
       "      <td>...</td>\n",
       "      <td>...</td>\n",
       "      <td>...</td>\n",
       "      <td>...</td>\n",
       "      <td>...</td>\n",
       "      <td>...</td>\n",
       "      <td>...</td>\n",
       "      <td>...</td>\n",
       "    </tr>\n",
       "    <tr>\n",
       "      <th>5358</th>\n",
       "      <td>20</td>\n",
       "      <td>65000000.0</td>\n",
       "      <td>590.0</td>\n",
       "      <td>2019-02-14T00:00:00</td>\n",
       "      <td>15</td>\n",
       "      <td>3.50</td>\n",
       "      <td>6.0</td>\n",
       "      <td>409.0</td>\n",
       "      <td>3</td>\n",
       "      <td>NaN</td>\n",
       "      <td>...</td>\n",
       "      <td>100.0</td>\n",
       "      <td>NaN</td>\n",
       "      <td>Санкт-Петербург</td>\n",
       "      <td>24447.0</td>\n",
       "      <td>4666.0</td>\n",
       "      <td>1.0</td>\n",
       "      <td>767.0</td>\n",
       "      <td>0.0</td>\n",
       "      <td>NaN</td>\n",
       "      <td>14.0</td>\n",
       "    </tr>\n",
       "    <tr>\n",
       "      <th>15651</th>\n",
       "      <td>20</td>\n",
       "      <td>300000000.0</td>\n",
       "      <td>618.0</td>\n",
       "      <td>2017-12-18T00:00:00</td>\n",
       "      <td>7</td>\n",
       "      <td>3.40</td>\n",
       "      <td>7.0</td>\n",
       "      <td>258.0</td>\n",
       "      <td>5</td>\n",
       "      <td>NaN</td>\n",
       "      <td>...</td>\n",
       "      <td>70.0</td>\n",
       "      <td>NaN</td>\n",
       "      <td>Санкт-Петербург</td>\n",
       "      <td>32440.0</td>\n",
       "      <td>5297.0</td>\n",
       "      <td>0.0</td>\n",
       "      <td>NaN</td>\n",
       "      <td>2.0</td>\n",
       "      <td>198.0</td>\n",
       "      <td>111.0</td>\n",
       "    </tr>\n",
       "    <tr>\n",
       "      <th>3117</th>\n",
       "      <td>19</td>\n",
       "      <td>140000000.0</td>\n",
       "      <td>631.0</td>\n",
       "      <td>2019-03-30T00:00:00</td>\n",
       "      <td>7</td>\n",
       "      <td>NaN</td>\n",
       "      <td>5.0</td>\n",
       "      <td>NaN</td>\n",
       "      <td>5</td>\n",
       "      <td>NaN</td>\n",
       "      <td>...</td>\n",
       "      <td>60.0</td>\n",
       "      <td>NaN</td>\n",
       "      <td>Санкт-Петербург</td>\n",
       "      <td>25707.0</td>\n",
       "      <td>4972.0</td>\n",
       "      <td>0.0</td>\n",
       "      <td>NaN</td>\n",
       "      <td>2.0</td>\n",
       "      <td>210.0</td>\n",
       "      <td>NaN</td>\n",
       "    </tr>\n",
       "    <tr>\n",
       "      <th>12859</th>\n",
       "      <td>20</td>\n",
       "      <td>140000000.0</td>\n",
       "      <td>631.2</td>\n",
       "      <td>2019-04-09T00:00:00</td>\n",
       "      <td>7</td>\n",
       "      <td>3.90</td>\n",
       "      <td>4.0</td>\n",
       "      <td>322.3</td>\n",
       "      <td>4</td>\n",
       "      <td>NaN</td>\n",
       "      <td>...</td>\n",
       "      <td>19.5</td>\n",
       "      <td>1.0</td>\n",
       "      <td>Санкт-Петербург</td>\n",
       "      <td>25707.0</td>\n",
       "      <td>4972.0</td>\n",
       "      <td>0.0</td>\n",
       "      <td>NaN</td>\n",
       "      <td>2.0</td>\n",
       "      <td>210.0</td>\n",
       "      <td>NaN</td>\n",
       "    </tr>\n",
       "    <tr>\n",
       "      <th>19540</th>\n",
       "      <td>8</td>\n",
       "      <td>420000000.0</td>\n",
       "      <td>900.0</td>\n",
       "      <td>2017-12-06T00:00:00</td>\n",
       "      <td>12</td>\n",
       "      <td>2.80</td>\n",
       "      <td>25.0</td>\n",
       "      <td>409.7</td>\n",
       "      <td>25</td>\n",
       "      <td>NaN</td>\n",
       "      <td>...</td>\n",
       "      <td>112.0</td>\n",
       "      <td>NaN</td>\n",
       "      <td>Санкт-Петербург</td>\n",
       "      <td>30706.0</td>\n",
       "      <td>7877.0</td>\n",
       "      <td>0.0</td>\n",
       "      <td>NaN</td>\n",
       "      <td>2.0</td>\n",
       "      <td>318.0</td>\n",
       "      <td>106.0</td>\n",
       "    </tr>\n",
       "  </tbody>\n",
       "</table>\n",
       "<p>23697 rows × 22 columns</p>\n",
       "</div>"
      ],
      "text/plain": [
       "       total_images   last_price  total_area first_day_exposition  rooms  \\\n",
       "19904             4    2400000.0        12.0  2017-07-19T00:00:00      1   \n",
       "17961             3    1400000.0        13.0  2017-12-03T00:00:00      1   \n",
       "19807             0    3800000.0        13.0  2018-07-04T00:00:00      1   \n",
       "19546             3    1850000.0        13.0  2019-03-11T00:00:00      1   \n",
       "19558             2    1686000.0        13.2  2018-12-17T00:00:00      1   \n",
       "...             ...          ...         ...                  ...    ...   \n",
       "5358             20   65000000.0       590.0  2019-02-14T00:00:00     15   \n",
       "15651            20  300000000.0       618.0  2017-12-18T00:00:00      7   \n",
       "3117             19  140000000.0       631.0  2019-03-30T00:00:00      7   \n",
       "12859            20  140000000.0       631.2  2019-04-09T00:00:00      7   \n",
       "19540             8  420000000.0       900.0  2017-12-06T00:00:00     12   \n",
       "\n",
       "       ceiling_height  floors_total  living_area  floor is_apartment  ...  \\\n",
       "19904            2.55           5.0         10.0      2          NaN  ...   \n",
       "17961            2.60           9.0          NaN      1          NaN  ...   \n",
       "19807             NaN           5.0         10.0      3          NaN  ...   \n",
       "19546            3.40           5.0          NaN      2        False  ...   \n",
       "19558             NaN           5.0          NaN      1          NaN  ...   \n",
       "...               ...           ...          ...    ...          ...  ...   \n",
       "5358             3.50           6.0        409.0      3          NaN  ...   \n",
       "15651            3.40           7.0        258.0      5          NaN  ...   \n",
       "3117              NaN           5.0          NaN      5          NaN  ...   \n",
       "12859            3.90           4.0        322.3      4          NaN  ...   \n",
       "19540            2.80          25.0        409.7     25          NaN  ...   \n",
       "\n",
       "       kitchen_area  balcony    locality_name  airports_nearest  \\\n",
       "19904           NaN      NaN  Санкт-Петербург           21314.0   \n",
       "17961           NaN      NaN  Санкт-Петербург           14350.0   \n",
       "19807           NaN      NaN  Санкт-Петербург           21302.0   \n",
       "19546           NaN      NaN  Санкт-Петербург           24915.0   \n",
       "19558           NaN      NaN  Санкт-Петербург           19891.0   \n",
       "...             ...      ...              ...               ...   \n",
       "5358          100.0      NaN  Санкт-Петербург           24447.0   \n",
       "15651          70.0      NaN  Санкт-Петербург           32440.0   \n",
       "3117           60.0      NaN  Санкт-Петербург           25707.0   \n",
       "12859          19.5      1.0  Санкт-Петербург           25707.0   \n",
       "19540         112.0      NaN  Санкт-Петербург           30706.0   \n",
       "\n",
       "      city_centers_nearest  parks_around_3000  parks_nearest  \\\n",
       "19904                964.0                1.0          886.0   \n",
       "17961              15945.0                0.0            NaN   \n",
       "19807               1242.0                1.0          592.0   \n",
       "19546               5483.0                1.0          644.0   \n",
       "19558               4165.0                1.0          361.0   \n",
       "...                    ...                ...            ...   \n",
       "5358                4666.0                1.0          767.0   \n",
       "15651               5297.0                0.0            NaN   \n",
       "3117                4972.0                0.0            NaN   \n",
       "12859               4972.0                0.0            NaN   \n",
       "19540               7877.0                0.0            NaN   \n",
       "\n",
       "       ponds_around_3000  ponds_nearest  days_exposition  \n",
       "19904                2.0           45.0            200.0  \n",
       "17961                1.0          185.0            410.0  \n",
       "19807                3.0           27.0              9.0  \n",
       "19546                0.0            NaN             24.0  \n",
       "19558                1.0          155.0             19.0  \n",
       "...                  ...            ...              ...  \n",
       "5358                 0.0            NaN             14.0  \n",
       "15651                2.0          198.0            111.0  \n",
       "3117                 2.0          210.0              NaN  \n",
       "12859                2.0          210.0              NaN  \n",
       "19540                2.0          318.0            106.0  \n",
       "\n",
       "[23697 rows x 22 columns]"
      ]
     },
     "execution_count": 14,
     "metadata": {},
     "output_type": "execute_result"
    }
   ],
   "source": [
    "data.sort_values(by='total_area')"
   ]
  },
  {
   "cell_type": "markdown",
   "metadata": {},
   "source": [
    "Минимальное значение начинается с 12 квадратных метров. Максимальное - 900 квадратных метров. Так как студии могут быть меньше, чем минимальный метраж на человека, установленных законом, то удалять значение не будем.  \n",
    "Удалим только квартиру 900 квадратных метров, так как до этого значение составляет 631 квадратный метр и между ними большая разница."
   ]
  },
  {
   "cell_type": "code",
   "execution_count": 15,
   "metadata": {},
   "outputs": [],
   "source": [
    "data = data.query('total_area != 900')"
   ]
  },
  {
   "cell_type": "code",
   "execution_count": 16,
   "metadata": {},
   "outputs": [
    {
     "data": {
      "text/plain": [
       "count    23696.000000\n",
       "mean        60.296830\n",
       "std         35.166029\n",
       "min         12.000000\n",
       "25%         40.000000\n",
       "50%         52.000000\n",
       "75%         69.800000\n",
       "max        631.200000\n",
       "Name: total_area, dtype: float64"
      ]
     },
     "execution_count": 16,
     "metadata": {},
     "output_type": "execute_result"
    }
   ],
   "source": [
    "data['total_area'].describe()"
   ]
  },
  {
   "cell_type": "markdown",
   "metadata": {},
   "source": [
    "**Rooms**"
   ]
  },
  {
   "cell_type": "code",
   "execution_count": 17,
   "metadata": {},
   "outputs": [
    {
     "data": {
      "text/html": [
       "<div>\n",
       "<style scoped>\n",
       "    .dataframe tbody tr th:only-of-type {\n",
       "        vertical-align: middle;\n",
       "    }\n",
       "\n",
       "    .dataframe tbody tr th {\n",
       "        vertical-align: top;\n",
       "    }\n",
       "\n",
       "    .dataframe thead th {\n",
       "        text-align: right;\n",
       "    }\n",
       "</style>\n",
       "<table border=\"1\" class=\"dataframe\">\n",
       "  <thead>\n",
       "    <tr style=\"text-align: right;\">\n",
       "      <th></th>\n",
       "      <th>total_images</th>\n",
       "      <th>last_price</th>\n",
       "      <th>total_area</th>\n",
       "      <th>first_day_exposition</th>\n",
       "      <th>rooms</th>\n",
       "      <th>ceiling_height</th>\n",
       "      <th>floors_total</th>\n",
       "      <th>living_area</th>\n",
       "      <th>floor</th>\n",
       "      <th>is_apartment</th>\n",
       "      <th>...</th>\n",
       "      <th>kitchen_area</th>\n",
       "      <th>balcony</th>\n",
       "      <th>locality_name</th>\n",
       "      <th>airports_nearest</th>\n",
       "      <th>city_centers_nearest</th>\n",
       "      <th>parks_around_3000</th>\n",
       "      <th>parks_nearest</th>\n",
       "      <th>ponds_around_3000</th>\n",
       "      <th>ponds_nearest</th>\n",
       "      <th>days_exposition</th>\n",
       "    </tr>\n",
       "  </thead>\n",
       "  <tbody>\n",
       "    <tr>\n",
       "      <th>1277</th>\n",
       "      <td>10</td>\n",
       "      <td>3150000.0</td>\n",
       "      <td>26.00</td>\n",
       "      <td>2017-07-14T00:00:00</td>\n",
       "      <td>0</td>\n",
       "      <td>2.75</td>\n",
       "      <td>21.0</td>\n",
       "      <td>17.38</td>\n",
       "      <td>11</td>\n",
       "      <td>NaN</td>\n",
       "      <td>...</td>\n",
       "      <td>NaN</td>\n",
       "      <td>NaN</td>\n",
       "      <td>Санкт-Петербург</td>\n",
       "      <td>48847.0</td>\n",
       "      <td>16685.0</td>\n",
       "      <td>0.0</td>\n",
       "      <td>NaN</td>\n",
       "      <td>0.0</td>\n",
       "      <td>NaN</td>\n",
       "      <td>622.0</td>\n",
       "    </tr>\n",
       "    <tr>\n",
       "      <th>3435</th>\n",
       "      <td>7</td>\n",
       "      <td>2800000.0</td>\n",
       "      <td>29.00</td>\n",
       "      <td>2017-12-10T00:00:00</td>\n",
       "      <td>0</td>\n",
       "      <td>2.55</td>\n",
       "      <td>10.0</td>\n",
       "      <td>20.00</td>\n",
       "      <td>7</td>\n",
       "      <td>NaN</td>\n",
       "      <td>...</td>\n",
       "      <td>NaN</td>\n",
       "      <td>NaN</td>\n",
       "      <td>Сертолово</td>\n",
       "      <td>NaN</td>\n",
       "      <td>NaN</td>\n",
       "      <td>NaN</td>\n",
       "      <td>NaN</td>\n",
       "      <td>NaN</td>\n",
       "      <td>NaN</td>\n",
       "      <td>115.0</td>\n",
       "    </tr>\n",
       "    <tr>\n",
       "      <th>2270</th>\n",
       "      <td>19</td>\n",
       "      <td>3550000.0</td>\n",
       "      <td>27.55</td>\n",
       "      <td>2017-12-06T00:00:00</td>\n",
       "      <td>0</td>\n",
       "      <td>2.75</td>\n",
       "      <td>18.0</td>\n",
       "      <td>18.00</td>\n",
       "      <td>12</td>\n",
       "      <td>NaN</td>\n",
       "      <td>...</td>\n",
       "      <td>NaN</td>\n",
       "      <td>2.0</td>\n",
       "      <td>Санкт-Петербург</td>\n",
       "      <td>34201.0</td>\n",
       "      <td>14069.0</td>\n",
       "      <td>0.0</td>\n",
       "      <td>NaN</td>\n",
       "      <td>0.0</td>\n",
       "      <td>NaN</td>\n",
       "      <td>226.0</td>\n",
       "    </tr>\n",
       "    <tr>\n",
       "      <th>7286</th>\n",
       "      <td>6</td>\n",
       "      <td>2580000.0</td>\n",
       "      <td>30.00</td>\n",
       "      <td>2018-02-07T00:00:00</td>\n",
       "      <td>0</td>\n",
       "      <td>NaN</td>\n",
       "      <td>18.0</td>\n",
       "      <td>19.00</td>\n",
       "      <td>2</td>\n",
       "      <td>NaN</td>\n",
       "      <td>...</td>\n",
       "      <td>NaN</td>\n",
       "      <td>NaN</td>\n",
       "      <td>посёлок Парголово</td>\n",
       "      <td>52610.0</td>\n",
       "      <td>18787.0</td>\n",
       "      <td>0.0</td>\n",
       "      <td>NaN</td>\n",
       "      <td>0.0</td>\n",
       "      <td>NaN</td>\n",
       "      <td>41.0</td>\n",
       "    </tr>\n",
       "    <tr>\n",
       "      <th>18185</th>\n",
       "      <td>6</td>\n",
       "      <td>2300000.0</td>\n",
       "      <td>25.00</td>\n",
       "      <td>2018-09-11T00:00:00</td>\n",
       "      <td>0</td>\n",
       "      <td>NaN</td>\n",
       "      <td>17.0</td>\n",
       "      <td>15.00</td>\n",
       "      <td>2</td>\n",
       "      <td>NaN</td>\n",
       "      <td>...</td>\n",
       "      <td>NaN</td>\n",
       "      <td>NaN</td>\n",
       "      <td>посёлок Мурино</td>\n",
       "      <td>NaN</td>\n",
       "      <td>NaN</td>\n",
       "      <td>NaN</td>\n",
       "      <td>NaN</td>\n",
       "      <td>NaN</td>\n",
       "      <td>NaN</td>\n",
       "      <td>34.0</td>\n",
       "    </tr>\n",
       "    <tr>\n",
       "      <th>...</th>\n",
       "      <td>...</td>\n",
       "      <td>...</td>\n",
       "      <td>...</td>\n",
       "      <td>...</td>\n",
       "      <td>...</td>\n",
       "      <td>...</td>\n",
       "      <td>...</td>\n",
       "      <td>...</td>\n",
       "      <td>...</td>\n",
       "      <td>...</td>\n",
       "      <td>...</td>\n",
       "      <td>...</td>\n",
       "      <td>...</td>\n",
       "      <td>...</td>\n",
       "      <td>...</td>\n",
       "      <td>...</td>\n",
       "      <td>...</td>\n",
       "      <td>...</td>\n",
       "      <td>...</td>\n",
       "      <td>...</td>\n",
       "      <td>...</td>\n",
       "    </tr>\n",
       "    <tr>\n",
       "      <th>866</th>\n",
       "      <td>5</td>\n",
       "      <td>25000000.0</td>\n",
       "      <td>363.00</td>\n",
       "      <td>2017-12-23T00:00:00</td>\n",
       "      <td>14</td>\n",
       "      <td>3.16</td>\n",
       "      <td>5.0</td>\n",
       "      <td>222.00</td>\n",
       "      <td>4</td>\n",
       "      <td>NaN</td>\n",
       "      <td>...</td>\n",
       "      <td>16.6</td>\n",
       "      <td>NaN</td>\n",
       "      <td>Санкт-Петербург</td>\n",
       "      <td>38076.0</td>\n",
       "      <td>7950.0</td>\n",
       "      <td>0.0</td>\n",
       "      <td>NaN</td>\n",
       "      <td>2.0</td>\n",
       "      <td>435.0</td>\n",
       "      <td>418.0</td>\n",
       "    </tr>\n",
       "    <tr>\n",
       "      <th>20829</th>\n",
       "      <td>6</td>\n",
       "      <td>28659000.0</td>\n",
       "      <td>245.40</td>\n",
       "      <td>2016-03-31T00:00:00</td>\n",
       "      <td>14</td>\n",
       "      <td>NaN</td>\n",
       "      <td>4.0</td>\n",
       "      <td>168.30</td>\n",
       "      <td>2</td>\n",
       "      <td>NaN</td>\n",
       "      <td>...</td>\n",
       "      <td>25.9</td>\n",
       "      <td>0.0</td>\n",
       "      <td>Санкт-Петербург</td>\n",
       "      <td>21104.0</td>\n",
       "      <td>2054.0</td>\n",
       "      <td>3.0</td>\n",
       "      <td>541.0</td>\n",
       "      <td>2.0</td>\n",
       "      <td>118.0</td>\n",
       "      <td>95.0</td>\n",
       "    </tr>\n",
       "    <tr>\n",
       "      <th>5358</th>\n",
       "      <td>20</td>\n",
       "      <td>65000000.0</td>\n",
       "      <td>590.00</td>\n",
       "      <td>2019-02-14T00:00:00</td>\n",
       "      <td>15</td>\n",
       "      <td>3.50</td>\n",
       "      <td>6.0</td>\n",
       "      <td>409.00</td>\n",
       "      <td>3</td>\n",
       "      <td>NaN</td>\n",
       "      <td>...</td>\n",
       "      <td>100.0</td>\n",
       "      <td>NaN</td>\n",
       "      <td>Санкт-Петербург</td>\n",
       "      <td>24447.0</td>\n",
       "      <td>4666.0</td>\n",
       "      <td>1.0</td>\n",
       "      <td>767.0</td>\n",
       "      <td>0.0</td>\n",
       "      <td>NaN</td>\n",
       "      <td>14.0</td>\n",
       "    </tr>\n",
       "    <tr>\n",
       "      <th>18848</th>\n",
       "      <td>6</td>\n",
       "      <td>28500000.0</td>\n",
       "      <td>270.00</td>\n",
       "      <td>2015-03-02T00:00:00</td>\n",
       "      <td>16</td>\n",
       "      <td>3.00</td>\n",
       "      <td>4.0</td>\n",
       "      <td>180.00</td>\n",
       "      <td>4</td>\n",
       "      <td>NaN</td>\n",
       "      <td>...</td>\n",
       "      <td>13.0</td>\n",
       "      <td>1.0</td>\n",
       "      <td>Санкт-Петербург</td>\n",
       "      <td>23575.0</td>\n",
       "      <td>4142.0</td>\n",
       "      <td>1.0</td>\n",
       "      <td>516.0</td>\n",
       "      <td>0.0</td>\n",
       "      <td>NaN</td>\n",
       "      <td>1365.0</td>\n",
       "    </tr>\n",
       "    <tr>\n",
       "      <th>14498</th>\n",
       "      <td>6</td>\n",
       "      <td>32250000.0</td>\n",
       "      <td>374.60</td>\n",
       "      <td>2018-06-09T00:00:00</td>\n",
       "      <td>19</td>\n",
       "      <td>NaN</td>\n",
       "      <td>5.0</td>\n",
       "      <td>264.50</td>\n",
       "      <td>2</td>\n",
       "      <td>NaN</td>\n",
       "      <td>...</td>\n",
       "      <td>27.6</td>\n",
       "      <td>NaN</td>\n",
       "      <td>Санкт-Петербург</td>\n",
       "      <td>19497.0</td>\n",
       "      <td>3574.0</td>\n",
       "      <td>0.0</td>\n",
       "      <td>NaN</td>\n",
       "      <td>2.0</td>\n",
       "      <td>548.0</td>\n",
       "      <td>114.0</td>\n",
       "    </tr>\n",
       "  </tbody>\n",
       "</table>\n",
       "<p>23696 rows × 22 columns</p>\n",
       "</div>"
      ],
      "text/plain": [
       "       total_images  last_price  total_area first_day_exposition  rooms  \\\n",
       "1277             10   3150000.0       26.00  2017-07-14T00:00:00      0   \n",
       "3435              7   2800000.0       29.00  2017-12-10T00:00:00      0   \n",
       "2270             19   3550000.0       27.55  2017-12-06T00:00:00      0   \n",
       "7286              6   2580000.0       30.00  2018-02-07T00:00:00      0   \n",
       "18185             6   2300000.0       25.00  2018-09-11T00:00:00      0   \n",
       "...             ...         ...         ...                  ...    ...   \n",
       "866               5  25000000.0      363.00  2017-12-23T00:00:00     14   \n",
       "20829             6  28659000.0      245.40  2016-03-31T00:00:00     14   \n",
       "5358             20  65000000.0      590.00  2019-02-14T00:00:00     15   \n",
       "18848             6  28500000.0      270.00  2015-03-02T00:00:00     16   \n",
       "14498             6  32250000.0      374.60  2018-06-09T00:00:00     19   \n",
       "\n",
       "       ceiling_height  floors_total  living_area  floor is_apartment  ...  \\\n",
       "1277             2.75          21.0        17.38     11          NaN  ...   \n",
       "3435             2.55          10.0        20.00      7          NaN  ...   \n",
       "2270             2.75          18.0        18.00     12          NaN  ...   \n",
       "7286              NaN          18.0        19.00      2          NaN  ...   \n",
       "18185             NaN          17.0        15.00      2          NaN  ...   \n",
       "...               ...           ...          ...    ...          ...  ...   \n",
       "866              3.16           5.0       222.00      4          NaN  ...   \n",
       "20829             NaN           4.0       168.30      2          NaN  ...   \n",
       "5358             3.50           6.0       409.00      3          NaN  ...   \n",
       "18848            3.00           4.0       180.00      4          NaN  ...   \n",
       "14498             NaN           5.0       264.50      2          NaN  ...   \n",
       "\n",
       "       kitchen_area  balcony      locality_name  airports_nearest  \\\n",
       "1277            NaN      NaN    Санкт-Петербург           48847.0   \n",
       "3435            NaN      NaN          Сертолово               NaN   \n",
       "2270            NaN      2.0    Санкт-Петербург           34201.0   \n",
       "7286            NaN      NaN  посёлок Парголово           52610.0   \n",
       "18185           NaN      NaN     посёлок Мурино               NaN   \n",
       "...             ...      ...                ...               ...   \n",
       "866            16.6      NaN    Санкт-Петербург           38076.0   \n",
       "20829          25.9      0.0    Санкт-Петербург           21104.0   \n",
       "5358          100.0      NaN    Санкт-Петербург           24447.0   \n",
       "18848          13.0      1.0    Санкт-Петербург           23575.0   \n",
       "14498          27.6      NaN    Санкт-Петербург           19497.0   \n",
       "\n",
       "      city_centers_nearest  parks_around_3000  parks_nearest  \\\n",
       "1277               16685.0                0.0            NaN   \n",
       "3435                   NaN                NaN            NaN   \n",
       "2270               14069.0                0.0            NaN   \n",
       "7286               18787.0                0.0            NaN   \n",
       "18185                  NaN                NaN            NaN   \n",
       "...                    ...                ...            ...   \n",
       "866                 7950.0                0.0            NaN   \n",
       "20829               2054.0                3.0          541.0   \n",
       "5358                4666.0                1.0          767.0   \n",
       "18848               4142.0                1.0          516.0   \n",
       "14498               3574.0                0.0            NaN   \n",
       "\n",
       "       ponds_around_3000  ponds_nearest  days_exposition  \n",
       "1277                 0.0            NaN            622.0  \n",
       "3435                 NaN            NaN            115.0  \n",
       "2270                 0.0            NaN            226.0  \n",
       "7286                 0.0            NaN             41.0  \n",
       "18185                NaN            NaN             34.0  \n",
       "...                  ...            ...              ...  \n",
       "866                  2.0          435.0            418.0  \n",
       "20829                2.0          118.0             95.0  \n",
       "5358                 0.0            NaN             14.0  \n",
       "18848                0.0            NaN           1365.0  \n",
       "14498                2.0          548.0            114.0  \n",
       "\n",
       "[23696 rows x 22 columns]"
      ]
     },
     "execution_count": 17,
     "metadata": {},
     "output_type": "execute_result"
    }
   ],
   "source": [
    "data.sort_values(by='rooms')"
   ]
  },
  {
   "cell_type": "markdown",
   "metadata": {},
   "source": [
    "В данном столбце не будем удалять данные.  \n",
    "Отсутствие комнат может говорить о том, что это квартира студия.\n",
    "Есть квартиры с 14, 15 и 16 комнатами, поэтому 19 комнат так же вполне реальны."
   ]
  },
  {
   "cell_type": "markdown",
   "metadata": {},
   "source": [
    "**Ceiling height**"
   ]
  },
  {
   "cell_type": "code",
   "execution_count": 18,
   "metadata": {},
   "outputs": [
    {
     "data": {
      "text/html": [
       "<div>\n",
       "<style scoped>\n",
       "    .dataframe tbody tr th:only-of-type {\n",
       "        vertical-align: middle;\n",
       "    }\n",
       "\n",
       "    .dataframe tbody tr th {\n",
       "        vertical-align: top;\n",
       "    }\n",
       "\n",
       "    .dataframe thead th {\n",
       "        text-align: right;\n",
       "    }\n",
       "</style>\n",
       "<table border=\"1\" class=\"dataframe\">\n",
       "  <thead>\n",
       "    <tr style=\"text-align: right;\">\n",
       "      <th></th>\n",
       "      <th>total_images</th>\n",
       "      <th>last_price</th>\n",
       "      <th>total_area</th>\n",
       "      <th>first_day_exposition</th>\n",
       "      <th>rooms</th>\n",
       "      <th>ceiling_height</th>\n",
       "      <th>floors_total</th>\n",
       "      <th>living_area</th>\n",
       "      <th>floor</th>\n",
       "      <th>is_apartment</th>\n",
       "      <th>...</th>\n",
       "      <th>kitchen_area</th>\n",
       "      <th>balcony</th>\n",
       "      <th>locality_name</th>\n",
       "      <th>airports_nearest</th>\n",
       "      <th>city_centers_nearest</th>\n",
       "      <th>parks_around_3000</th>\n",
       "      <th>parks_nearest</th>\n",
       "      <th>ponds_around_3000</th>\n",
       "      <th>ponds_nearest</th>\n",
       "      <th>days_exposition</th>\n",
       "    </tr>\n",
       "  </thead>\n",
       "  <tbody>\n",
       "    <tr>\n",
       "      <th>22590</th>\n",
       "      <td>16</td>\n",
       "      <td>6000000.0</td>\n",
       "      <td>55.0</td>\n",
       "      <td>2018-10-31T00:00:00</td>\n",
       "      <td>2</td>\n",
       "      <td>1.00</td>\n",
       "      <td>12.0</td>\n",
       "      <td>32.4</td>\n",
       "      <td>7</td>\n",
       "      <td>NaN</td>\n",
       "      <td>...</td>\n",
       "      <td>10.00</td>\n",
       "      <td>NaN</td>\n",
       "      <td>Санкт-Петербург</td>\n",
       "      <td>33053.0</td>\n",
       "      <td>14217.0</td>\n",
       "      <td>2.0</td>\n",
       "      <td>293.0</td>\n",
       "      <td>2.0</td>\n",
       "      <td>289.0</td>\n",
       "      <td>13.0</td>\n",
       "    </tr>\n",
       "    <tr>\n",
       "      <th>5712</th>\n",
       "      <td>5</td>\n",
       "      <td>1500000.0</td>\n",
       "      <td>42.8</td>\n",
       "      <td>2017-08-14T00:00:00</td>\n",
       "      <td>2</td>\n",
       "      <td>1.20</td>\n",
       "      <td>2.0</td>\n",
       "      <td>27.5</td>\n",
       "      <td>1</td>\n",
       "      <td>NaN</td>\n",
       "      <td>...</td>\n",
       "      <td>5.20</td>\n",
       "      <td>NaN</td>\n",
       "      <td>городской посёлок Мга</td>\n",
       "      <td>NaN</td>\n",
       "      <td>NaN</td>\n",
       "      <td>NaN</td>\n",
       "      <td>NaN</td>\n",
       "      <td>NaN</td>\n",
       "      <td>NaN</td>\n",
       "      <td>248.0</td>\n",
       "    </tr>\n",
       "    <tr>\n",
       "      <th>16934</th>\n",
       "      <td>5</td>\n",
       "      <td>4100000.0</td>\n",
       "      <td>40.0</td>\n",
       "      <td>2017-10-17T00:00:00</td>\n",
       "      <td>1</td>\n",
       "      <td>1.75</td>\n",
       "      <td>37.0</td>\n",
       "      <td>17.4</td>\n",
       "      <td>5</td>\n",
       "      <td>NaN</td>\n",
       "      <td>...</td>\n",
       "      <td>8.34</td>\n",
       "      <td>NaN</td>\n",
       "      <td>Санкт-Петербург</td>\n",
       "      <td>18732.0</td>\n",
       "      <td>20444.0</td>\n",
       "      <td>0.0</td>\n",
       "      <td>NaN</td>\n",
       "      <td>3.0</td>\n",
       "      <td>80.0</td>\n",
       "      <td>71.0</td>\n",
       "    </tr>\n",
       "    <tr>\n",
       "      <th>2572</th>\n",
       "      <td>4</td>\n",
       "      <td>2400000.0</td>\n",
       "      <td>62.0</td>\n",
       "      <td>2018-12-27T00:00:00</td>\n",
       "      <td>3</td>\n",
       "      <td>2.00</td>\n",
       "      <td>5.0</td>\n",
       "      <td>40.0</td>\n",
       "      <td>4</td>\n",
       "      <td>NaN</td>\n",
       "      <td>...</td>\n",
       "      <td>6.00</td>\n",
       "      <td>1.0</td>\n",
       "      <td>Луга</td>\n",
       "      <td>NaN</td>\n",
       "      <td>NaN</td>\n",
       "      <td>NaN</td>\n",
       "      <td>NaN</td>\n",
       "      <td>NaN</td>\n",
       "      <td>NaN</td>\n",
       "      <td>NaN</td>\n",
       "    </tr>\n",
       "    <tr>\n",
       "      <th>19329</th>\n",
       "      <td>5</td>\n",
       "      <td>1700000.0</td>\n",
       "      <td>40.0</td>\n",
       "      <td>2018-07-15T00:00:00</td>\n",
       "      <td>2</td>\n",
       "      <td>2.00</td>\n",
       "      <td>9.0</td>\n",
       "      <td>NaN</td>\n",
       "      <td>8</td>\n",
       "      <td>NaN</td>\n",
       "      <td>...</td>\n",
       "      <td>NaN</td>\n",
       "      <td>NaN</td>\n",
       "      <td>Сосновый Бор</td>\n",
       "      <td>NaN</td>\n",
       "      <td>NaN</td>\n",
       "      <td>NaN</td>\n",
       "      <td>NaN</td>\n",
       "      <td>NaN</td>\n",
       "      <td>NaN</td>\n",
       "      <td>45.0</td>\n",
       "    </tr>\n",
       "    <tr>\n",
       "      <th>...</th>\n",
       "      <td>...</td>\n",
       "      <td>...</td>\n",
       "      <td>...</td>\n",
       "      <td>...</td>\n",
       "      <td>...</td>\n",
       "      <td>...</td>\n",
       "      <td>...</td>\n",
       "      <td>...</td>\n",
       "      <td>...</td>\n",
       "      <td>...</td>\n",
       "      <td>...</td>\n",
       "      <td>...</td>\n",
       "      <td>...</td>\n",
       "      <td>...</td>\n",
       "      <td>...</td>\n",
       "      <td>...</td>\n",
       "      <td>...</td>\n",
       "      <td>...</td>\n",
       "      <td>...</td>\n",
       "      <td>...</td>\n",
       "      <td>...</td>\n",
       "    </tr>\n",
       "    <tr>\n",
       "      <th>23687</th>\n",
       "      <td>6</td>\n",
       "      <td>3200000.0</td>\n",
       "      <td>39.0</td>\n",
       "      <td>2017-12-16T00:00:00</td>\n",
       "      <td>1</td>\n",
       "      <td>NaN</td>\n",
       "      <td>9.0</td>\n",
       "      <td>20.0</td>\n",
       "      <td>6</td>\n",
       "      <td>NaN</td>\n",
       "      <td>...</td>\n",
       "      <td>11.00</td>\n",
       "      <td>2.0</td>\n",
       "      <td>Санкт-Петербург</td>\n",
       "      <td>40837.0</td>\n",
       "      <td>16704.0</td>\n",
       "      <td>0.0</td>\n",
       "      <td>NaN</td>\n",
       "      <td>0.0</td>\n",
       "      <td>NaN</td>\n",
       "      <td>38.0</td>\n",
       "    </tr>\n",
       "    <tr>\n",
       "      <th>23690</th>\n",
       "      <td>3</td>\n",
       "      <td>5500000.0</td>\n",
       "      <td>52.0</td>\n",
       "      <td>2018-07-19T00:00:00</td>\n",
       "      <td>2</td>\n",
       "      <td>NaN</td>\n",
       "      <td>5.0</td>\n",
       "      <td>31.0</td>\n",
       "      <td>2</td>\n",
       "      <td>NaN</td>\n",
       "      <td>...</td>\n",
       "      <td>6.00</td>\n",
       "      <td>NaN</td>\n",
       "      <td>Санкт-Петербург</td>\n",
       "      <td>20151.0</td>\n",
       "      <td>6263.0</td>\n",
       "      <td>1.0</td>\n",
       "      <td>300.0</td>\n",
       "      <td>0.0</td>\n",
       "      <td>NaN</td>\n",
       "      <td>15.0</td>\n",
       "    </tr>\n",
       "    <tr>\n",
       "      <th>23692</th>\n",
       "      <td>2</td>\n",
       "      <td>1350000.0</td>\n",
       "      <td>30.0</td>\n",
       "      <td>2017-07-07T00:00:00</td>\n",
       "      <td>1</td>\n",
       "      <td>NaN</td>\n",
       "      <td>5.0</td>\n",
       "      <td>17.5</td>\n",
       "      <td>4</td>\n",
       "      <td>NaN</td>\n",
       "      <td>...</td>\n",
       "      <td>6.00</td>\n",
       "      <td>NaN</td>\n",
       "      <td>Тихвин</td>\n",
       "      <td>NaN</td>\n",
       "      <td>NaN</td>\n",
       "      <td>NaN</td>\n",
       "      <td>NaN</td>\n",
       "      <td>NaN</td>\n",
       "      <td>NaN</td>\n",
       "      <td>413.0</td>\n",
       "    </tr>\n",
       "    <tr>\n",
       "      <th>23695</th>\n",
       "      <td>14</td>\n",
       "      <td>3100000.0</td>\n",
       "      <td>59.0</td>\n",
       "      <td>2018-01-15T00:00:00</td>\n",
       "      <td>3</td>\n",
       "      <td>NaN</td>\n",
       "      <td>5.0</td>\n",
       "      <td>38.0</td>\n",
       "      <td>4</td>\n",
       "      <td>NaN</td>\n",
       "      <td>...</td>\n",
       "      <td>8.50</td>\n",
       "      <td>NaN</td>\n",
       "      <td>Тосно</td>\n",
       "      <td>NaN</td>\n",
       "      <td>NaN</td>\n",
       "      <td>NaN</td>\n",
       "      <td>NaN</td>\n",
       "      <td>NaN</td>\n",
       "      <td>NaN</td>\n",
       "      <td>45.0</td>\n",
       "    </tr>\n",
       "    <tr>\n",
       "      <th>23696</th>\n",
       "      <td>18</td>\n",
       "      <td>2500000.0</td>\n",
       "      <td>56.7</td>\n",
       "      <td>2018-02-11T00:00:00</td>\n",
       "      <td>2</td>\n",
       "      <td>NaN</td>\n",
       "      <td>3.0</td>\n",
       "      <td>29.7</td>\n",
       "      <td>1</td>\n",
       "      <td>NaN</td>\n",
       "      <td>...</td>\n",
       "      <td>NaN</td>\n",
       "      <td>NaN</td>\n",
       "      <td>село Рождествено</td>\n",
       "      <td>NaN</td>\n",
       "      <td>NaN</td>\n",
       "      <td>NaN</td>\n",
       "      <td>NaN</td>\n",
       "      <td>NaN</td>\n",
       "      <td>NaN</td>\n",
       "      <td>NaN</td>\n",
       "    </tr>\n",
       "  </tbody>\n",
       "</table>\n",
       "<p>23696 rows × 22 columns</p>\n",
       "</div>"
      ],
      "text/plain": [
       "       total_images  last_price  total_area first_day_exposition  rooms  \\\n",
       "22590            16   6000000.0        55.0  2018-10-31T00:00:00      2   \n",
       "5712              5   1500000.0        42.8  2017-08-14T00:00:00      2   \n",
       "16934             5   4100000.0        40.0  2017-10-17T00:00:00      1   \n",
       "2572              4   2400000.0        62.0  2018-12-27T00:00:00      3   \n",
       "19329             5   1700000.0        40.0  2018-07-15T00:00:00      2   \n",
       "...             ...         ...         ...                  ...    ...   \n",
       "23687             6   3200000.0        39.0  2017-12-16T00:00:00      1   \n",
       "23690             3   5500000.0        52.0  2018-07-19T00:00:00      2   \n",
       "23692             2   1350000.0        30.0  2017-07-07T00:00:00      1   \n",
       "23695            14   3100000.0        59.0  2018-01-15T00:00:00      3   \n",
       "23696            18   2500000.0        56.7  2018-02-11T00:00:00      2   \n",
       "\n",
       "       ceiling_height  floors_total  living_area  floor is_apartment  ...  \\\n",
       "22590            1.00          12.0         32.4      7          NaN  ...   \n",
       "5712             1.20           2.0         27.5      1          NaN  ...   \n",
       "16934            1.75          37.0         17.4      5          NaN  ...   \n",
       "2572             2.00           5.0         40.0      4          NaN  ...   \n",
       "19329            2.00           9.0          NaN      8          NaN  ...   \n",
       "...               ...           ...          ...    ...          ...  ...   \n",
       "23687             NaN           9.0         20.0      6          NaN  ...   \n",
       "23690             NaN           5.0         31.0      2          NaN  ...   \n",
       "23692             NaN           5.0         17.5      4          NaN  ...   \n",
       "23695             NaN           5.0         38.0      4          NaN  ...   \n",
       "23696             NaN           3.0         29.7      1          NaN  ...   \n",
       "\n",
       "       kitchen_area  balcony          locality_name  airports_nearest  \\\n",
       "22590         10.00      NaN        Санкт-Петербург           33053.0   \n",
       "5712           5.20      NaN  городской посёлок Мга               NaN   \n",
       "16934          8.34      NaN        Санкт-Петербург           18732.0   \n",
       "2572           6.00      1.0                   Луга               NaN   \n",
       "19329           NaN      NaN           Сосновый Бор               NaN   \n",
       "...             ...      ...                    ...               ...   \n",
       "23687         11.00      2.0        Санкт-Петербург           40837.0   \n",
       "23690          6.00      NaN        Санкт-Петербург           20151.0   \n",
       "23692          6.00      NaN                 Тихвин               NaN   \n",
       "23695          8.50      NaN                  Тосно               NaN   \n",
       "23696           NaN      NaN       село Рождествено               NaN   \n",
       "\n",
       "      city_centers_nearest  parks_around_3000  parks_nearest  \\\n",
       "22590              14217.0                2.0          293.0   \n",
       "5712                   NaN                NaN            NaN   \n",
       "16934              20444.0                0.0            NaN   \n",
       "2572                   NaN                NaN            NaN   \n",
       "19329                  NaN                NaN            NaN   \n",
       "...                    ...                ...            ...   \n",
       "23687              16704.0                0.0            NaN   \n",
       "23690               6263.0                1.0          300.0   \n",
       "23692                  NaN                NaN            NaN   \n",
       "23695                  NaN                NaN            NaN   \n",
       "23696                  NaN                NaN            NaN   \n",
       "\n",
       "       ponds_around_3000  ponds_nearest  days_exposition  \n",
       "22590                2.0          289.0             13.0  \n",
       "5712                 NaN            NaN            248.0  \n",
       "16934                3.0           80.0             71.0  \n",
       "2572                 NaN            NaN              NaN  \n",
       "19329                NaN            NaN             45.0  \n",
       "...                  ...            ...              ...  \n",
       "23687                0.0            NaN             38.0  \n",
       "23690                0.0            NaN             15.0  \n",
       "23692                NaN            NaN            413.0  \n",
       "23695                NaN            NaN             45.0  \n",
       "23696                NaN            NaN              NaN  \n",
       "\n",
       "[23696 rows x 22 columns]"
      ]
     },
     "execution_count": 18,
     "metadata": {},
     "output_type": "execute_result"
    }
   ],
   "source": [
    "data.sort_values(by='ceiling_height')"
   ]
  },
  {
   "cell_type": "markdown",
   "metadata": {},
   "source": [
    "Эти данные посмотрим на графике."
   ]
  },
  {
   "cell_type": "code",
   "execution_count": 19,
   "metadata": {},
   "outputs": [
    {
     "data": {
      "text/plain": [
       "<AxesSubplot:>"
      ]
     },
     "execution_count": 19,
     "metadata": {},
     "output_type": "execute_result"
    },
    {
     "data": {
      "image/png": "[encoded data removed]",
      "text/plain": [
       "<Figure size 432x288 with 1 Axes>"
      ]
     },
     "metadata": {
      "needs_background": "light"
     },
     "output_type": "display_data"
    }
   ],
   "source": [
    "data.boxplot(column='ceiling_height')"
   ]
  },
  {
   "cell_type": "code",
   "execution_count": 20,
   "metadata": {},
   "outputs": [
    {
     "data": {
      "text/plain": [
       "count    14502.000000\n",
       "mean         2.771498\n",
       "std          1.261143\n",
       "min          1.000000\n",
       "25%          2.520000\n",
       "50%          2.650000\n",
       "75%          2.800000\n",
       "max        100.000000\n",
       "Name: ceiling_height, dtype: float64"
      ]
     },
     "execution_count": 20,
     "metadata": {},
     "output_type": "execute_result"
    }
   ],
   "source": [
    "data['ceiling_height'].describe()"
   ]
  },
  {
   "cell_type": "markdown",
   "metadata": {},
   "source": [
    "Можно предположить, что при заполнении высоты потолков не указали запятую и высота 3,2 метра превратилась в 32. Или указали лишний символ и 10 метров (например, в квартире, где два этажа) превратились в 100. Предположим, что это так. Поэтому потолки выше 10 метров разделим на 10.  \n",
    "Так же много пропусков. Их заполним медианой.  \n",
    "Высота потолка менее 2 метров так же может быть ошибкой. Эти данные удалим."
   ]
  },
  {
   "cell_type": "code",
   "execution_count": 21,
   "metadata": {},
   "outputs": [],
   "source": [
    "data['ceiling_height'].fillna(data['ceiling_height'].median(), inplace=True)\n",
    "\n",
    "data.loc[data['ceiling_height'] > 10, 'ceiling_height'] /= 10\n",
    "\n",
    "data = data[data['ceiling_height'] >= 2]"
   ]
  },
  {
   "cell_type": "code",
   "execution_count": 22,
   "metadata": {},
   "outputs": [
    {
     "data": {
      "text/plain": [
       "count    23691.000000\n",
       "mean         2.698093\n",
       "std          0.236749\n",
       "min          2.000000\n",
       "25%          2.600000\n",
       "50%          2.650000\n",
       "75%          2.700000\n",
       "max         10.000000\n",
       "Name: ceiling_height, dtype: float64"
      ]
     },
     "execution_count": 22,
     "metadata": {},
     "output_type": "execute_result"
    }
   ],
   "source": [
    "data['ceiling_height'].describe()"
   ]
  },
  {
   "cell_type": "code",
   "execution_count": 23,
   "metadata": {},
   "outputs": [
    {
     "data": {
      "text/html": [
       "<div>\n",
       "<style scoped>\n",
       "    .dataframe tbody tr th:only-of-type {\n",
       "        vertical-align: middle;\n",
       "    }\n",
       "\n",
       "    .dataframe tbody tr th {\n",
       "        vertical-align: top;\n",
       "    }\n",
       "\n",
       "    .dataframe thead th {\n",
       "        text-align: right;\n",
       "    }\n",
       "</style>\n",
       "<table border=\"1\" class=\"dataframe\">\n",
       "  <thead>\n",
       "    <tr style=\"text-align: right;\">\n",
       "      <th></th>\n",
       "      <th>total_images</th>\n",
       "      <th>last_price</th>\n",
       "      <th>total_area</th>\n",
       "      <th>first_day_exposition</th>\n",
       "      <th>rooms</th>\n",
       "      <th>ceiling_height</th>\n",
       "      <th>floors_total</th>\n",
       "      <th>living_area</th>\n",
       "      <th>floor</th>\n",
       "      <th>is_apartment</th>\n",
       "      <th>...</th>\n",
       "      <th>kitchen_area</th>\n",
       "      <th>balcony</th>\n",
       "      <th>locality_name</th>\n",
       "      <th>airports_nearest</th>\n",
       "      <th>city_centers_nearest</th>\n",
       "      <th>parks_around_3000</th>\n",
       "      <th>parks_nearest</th>\n",
       "      <th>ponds_around_3000</th>\n",
       "      <th>ponds_nearest</th>\n",
       "      <th>days_exposition</th>\n",
       "    </tr>\n",
       "  </thead>\n",
       "  <tbody>\n",
       "    <tr>\n",
       "      <th>16446</th>\n",
       "      <td>6</td>\n",
       "      <td>12300000.0</td>\n",
       "      <td>88.30</td>\n",
       "      <td>2019-03-12T00:00:00</td>\n",
       "      <td>3</td>\n",
       "      <td>2.0</td>\n",
       "      <td>5.0</td>\n",
       "      <td>63.9</td>\n",
       "      <td>2</td>\n",
       "      <td>NaN</td>\n",
       "      <td>...</td>\n",
       "      <td>12.0</td>\n",
       "      <td>NaN</td>\n",
       "      <td>Санкт-Петербург</td>\n",
       "      <td>38415.0</td>\n",
       "      <td>7675.0</td>\n",
       "      <td>1.0</td>\n",
       "      <td>568.0</td>\n",
       "      <td>1.0</td>\n",
       "      <td>154.0</td>\n",
       "      <td>NaN</td>\n",
       "    </tr>\n",
       "    <tr>\n",
       "      <th>4212</th>\n",
       "      <td>1</td>\n",
       "      <td>2120000.0</td>\n",
       "      <td>35.43</td>\n",
       "      <td>2017-12-18T00:00:00</td>\n",
       "      <td>1</td>\n",
       "      <td>2.0</td>\n",
       "      <td>18.0</td>\n",
       "      <td>16.6</td>\n",
       "      <td>9</td>\n",
       "      <td>NaN</td>\n",
       "      <td>...</td>\n",
       "      <td>8.8</td>\n",
       "      <td>2.0</td>\n",
       "      <td>Тосно</td>\n",
       "      <td>NaN</td>\n",
       "      <td>NaN</td>\n",
       "      <td>NaN</td>\n",
       "      <td>NaN</td>\n",
       "      <td>NaN</td>\n",
       "      <td>NaN</td>\n",
       "      <td>36.0</td>\n",
       "    </tr>\n",
       "    <tr>\n",
       "      <th>22960</th>\n",
       "      <td>17</td>\n",
       "      <td>2300000.0</td>\n",
       "      <td>53.60</td>\n",
       "      <td>2018-10-18T00:00:00</td>\n",
       "      <td>2</td>\n",
       "      <td>2.0</td>\n",
       "      <td>2.0</td>\n",
       "      <td>19.0</td>\n",
       "      <td>1</td>\n",
       "      <td>NaN</td>\n",
       "      <td>...</td>\n",
       "      <td>10.0</td>\n",
       "      <td>NaN</td>\n",
       "      <td>Всеволожск</td>\n",
       "      <td>NaN</td>\n",
       "      <td>NaN</td>\n",
       "      <td>NaN</td>\n",
       "      <td>NaN</td>\n",
       "      <td>NaN</td>\n",
       "      <td>NaN</td>\n",
       "      <td>NaN</td>\n",
       "    </tr>\n",
       "    <tr>\n",
       "      <th>20520</th>\n",
       "      <td>9</td>\n",
       "      <td>3600000.0</td>\n",
       "      <td>38.00</td>\n",
       "      <td>2018-07-05T00:00:00</td>\n",
       "      <td>1</td>\n",
       "      <td>2.0</td>\n",
       "      <td>12.0</td>\n",
       "      <td>15.0</td>\n",
       "      <td>9</td>\n",
       "      <td>NaN</td>\n",
       "      <td>...</td>\n",
       "      <td>11.8</td>\n",
       "      <td>1.0</td>\n",
       "      <td>Кудрово</td>\n",
       "      <td>NaN</td>\n",
       "      <td>NaN</td>\n",
       "      <td>NaN</td>\n",
       "      <td>NaN</td>\n",
       "      <td>NaN</td>\n",
       "      <td>NaN</td>\n",
       "      <td>62.0</td>\n",
       "    </tr>\n",
       "    <tr>\n",
       "      <th>19098</th>\n",
       "      <td>7</td>\n",
       "      <td>2700000.0</td>\n",
       "      <td>56.00</td>\n",
       "      <td>2018-02-04T00:00:00</td>\n",
       "      <td>3</td>\n",
       "      <td>2.0</td>\n",
       "      <td>5.0</td>\n",
       "      <td>46.0</td>\n",
       "      <td>1</td>\n",
       "      <td>NaN</td>\n",
       "      <td>...</td>\n",
       "      <td>6.0</td>\n",
       "      <td>NaN</td>\n",
       "      <td>Выборг</td>\n",
       "      <td>NaN</td>\n",
       "      <td>NaN</td>\n",
       "      <td>NaN</td>\n",
       "      <td>NaN</td>\n",
       "      <td>NaN</td>\n",
       "      <td>NaN</td>\n",
       "      <td>282.0</td>\n",
       "    </tr>\n",
       "    <tr>\n",
       "      <th>...</th>\n",
       "      <td>...</td>\n",
       "      <td>...</td>\n",
       "      <td>...</td>\n",
       "      <td>...</td>\n",
       "      <td>...</td>\n",
       "      <td>...</td>\n",
       "      <td>...</td>\n",
       "      <td>...</td>\n",
       "      <td>...</td>\n",
       "      <td>...</td>\n",
       "      <td>...</td>\n",
       "      <td>...</td>\n",
       "      <td>...</td>\n",
       "      <td>...</td>\n",
       "      <td>...</td>\n",
       "      <td>...</td>\n",
       "      <td>...</td>\n",
       "      <td>...</td>\n",
       "      <td>...</td>\n",
       "      <td>...</td>\n",
       "      <td>...</td>\n",
       "    </tr>\n",
       "    <tr>\n",
       "      <th>3474</th>\n",
       "      <td>3</td>\n",
       "      <td>1400000.0</td>\n",
       "      <td>30.00</td>\n",
       "      <td>2018-03-16T00:00:00</td>\n",
       "      <td>1</td>\n",
       "      <td>8.0</td>\n",
       "      <td>5.0</td>\n",
       "      <td>15.3</td>\n",
       "      <td>2</td>\n",
       "      <td>False</td>\n",
       "      <td>...</td>\n",
       "      <td>7.3</td>\n",
       "      <td>NaN</td>\n",
       "      <td>деревня Нурма</td>\n",
       "      <td>NaN</td>\n",
       "      <td>NaN</td>\n",
       "      <td>NaN</td>\n",
       "      <td>NaN</td>\n",
       "      <td>NaN</td>\n",
       "      <td>NaN</td>\n",
       "      <td>125.0</td>\n",
       "    </tr>\n",
       "    <tr>\n",
       "      <th>17442</th>\n",
       "      <td>0</td>\n",
       "      <td>5350000.0</td>\n",
       "      <td>54.00</td>\n",
       "      <td>2015-06-16T00:00:00</td>\n",
       "      <td>2</td>\n",
       "      <td>8.0</td>\n",
       "      <td>5.0</td>\n",
       "      <td>29.0</td>\n",
       "      <td>2</td>\n",
       "      <td>NaN</td>\n",
       "      <td>...</td>\n",
       "      <td>NaN</td>\n",
       "      <td>1.0</td>\n",
       "      <td>Красное Село</td>\n",
       "      <td>24638.0</td>\n",
       "      <td>28062.0</td>\n",
       "      <td>0.0</td>\n",
       "      <td>NaN</td>\n",
       "      <td>0.0</td>\n",
       "      <td>NaN</td>\n",
       "      <td>469.0</td>\n",
       "    </tr>\n",
       "    <tr>\n",
       "      <th>15743</th>\n",
       "      <td>14</td>\n",
       "      <td>5600000.0</td>\n",
       "      <td>67.00</td>\n",
       "      <td>2016-11-11T00:00:00</td>\n",
       "      <td>3</td>\n",
       "      <td>8.0</td>\n",
       "      <td>16.0</td>\n",
       "      <td>41.0</td>\n",
       "      <td>1</td>\n",
       "      <td>NaN</td>\n",
       "      <td>...</td>\n",
       "      <td>8.0</td>\n",
       "      <td>NaN</td>\n",
       "      <td>Санкт-Петербург</td>\n",
       "      <td>32691.0</td>\n",
       "      <td>11035.0</td>\n",
       "      <td>1.0</td>\n",
       "      <td>723.0</td>\n",
       "      <td>0.0</td>\n",
       "      <td>NaN</td>\n",
       "      <td>474.0</td>\n",
       "    </tr>\n",
       "    <tr>\n",
       "      <th>5863</th>\n",
       "      <td>20</td>\n",
       "      <td>5650000.0</td>\n",
       "      <td>45.00</td>\n",
       "      <td>2018-08-15T00:00:00</td>\n",
       "      <td>1</td>\n",
       "      <td>8.3</td>\n",
       "      <td>16.0</td>\n",
       "      <td>19.3</td>\n",
       "      <td>14</td>\n",
       "      <td>NaN</td>\n",
       "      <td>...</td>\n",
       "      <td>8.3</td>\n",
       "      <td>1.0</td>\n",
       "      <td>Санкт-Петербург</td>\n",
       "      <td>13069.0</td>\n",
       "      <td>10763.0</td>\n",
       "      <td>0.0</td>\n",
       "      <td>NaN</td>\n",
       "      <td>1.0</td>\n",
       "      <td>613.0</td>\n",
       "      <td>14.0</td>\n",
       "    </tr>\n",
       "    <tr>\n",
       "      <th>22869</th>\n",
       "      <td>0</td>\n",
       "      <td>15000000.0</td>\n",
       "      <td>25.00</td>\n",
       "      <td>2018-07-25T00:00:00</td>\n",
       "      <td>1</td>\n",
       "      <td>10.0</td>\n",
       "      <td>5.0</td>\n",
       "      <td>14.0</td>\n",
       "      <td>5</td>\n",
       "      <td>True</td>\n",
       "      <td>...</td>\n",
       "      <td>11.0</td>\n",
       "      <td>5.0</td>\n",
       "      <td>Санкт-Петербург</td>\n",
       "      <td>34963.0</td>\n",
       "      <td>8283.0</td>\n",
       "      <td>1.0</td>\n",
       "      <td>223.0</td>\n",
       "      <td>3.0</td>\n",
       "      <td>30.0</td>\n",
       "      <td>19.0</td>\n",
       "    </tr>\n",
       "  </tbody>\n",
       "</table>\n",
       "<p>23691 rows × 22 columns</p>\n",
       "</div>"
      ],
      "text/plain": [
       "       total_images  last_price  total_area first_day_exposition  rooms  \\\n",
       "16446             6  12300000.0       88.30  2019-03-12T00:00:00      3   \n",
       "4212              1   2120000.0       35.43  2017-12-18T00:00:00      1   \n",
       "22960            17   2300000.0       53.60  2018-10-18T00:00:00      2   \n",
       "20520             9   3600000.0       38.00  2018-07-05T00:00:00      1   \n",
       "19098             7   2700000.0       56.00  2018-02-04T00:00:00      3   \n",
       "...             ...         ...         ...                  ...    ...   \n",
       "3474              3   1400000.0       30.00  2018-03-16T00:00:00      1   \n",
       "17442             0   5350000.0       54.00  2015-06-16T00:00:00      2   \n",
       "15743            14   5600000.0       67.00  2016-11-11T00:00:00      3   \n",
       "5863             20   5650000.0       45.00  2018-08-15T00:00:00      1   \n",
       "22869             0  15000000.0       25.00  2018-07-25T00:00:00      1   \n",
       "\n",
       "       ceiling_height  floors_total  living_area  floor is_apartment  ...  \\\n",
       "16446             2.0           5.0         63.9      2          NaN  ...   \n",
       "4212              2.0          18.0         16.6      9          NaN  ...   \n",
       "22960             2.0           2.0         19.0      1          NaN  ...   \n",
       "20520             2.0          12.0         15.0      9          NaN  ...   \n",
       "19098             2.0           5.0         46.0      1          NaN  ...   \n",
       "...               ...           ...          ...    ...          ...  ...   \n",
       "3474              8.0           5.0         15.3      2        False  ...   \n",
       "17442             8.0           5.0         29.0      2          NaN  ...   \n",
       "15743             8.0          16.0         41.0      1          NaN  ...   \n",
       "5863              8.3          16.0         19.3     14          NaN  ...   \n",
       "22869            10.0           5.0         14.0      5         True  ...   \n",
       "\n",
       "       kitchen_area  balcony    locality_name  airports_nearest  \\\n",
       "16446          12.0      NaN  Санкт-Петербург           38415.0   \n",
       "4212            8.8      2.0            Тосно               NaN   \n",
       "22960          10.0      NaN       Всеволожск               NaN   \n",
       "20520          11.8      1.0          Кудрово               NaN   \n",
       "19098           6.0      NaN           Выборг               NaN   \n",
       "...             ...      ...              ...               ...   \n",
       "3474            7.3      NaN    деревня Нурма               NaN   \n",
       "17442           NaN      1.0     Красное Село           24638.0   \n",
       "15743           8.0      NaN  Санкт-Петербург           32691.0   \n",
       "5863            8.3      1.0  Санкт-Петербург           13069.0   \n",
       "22869          11.0      5.0  Санкт-Петербург           34963.0   \n",
       "\n",
       "      city_centers_nearest  parks_around_3000  parks_nearest  \\\n",
       "16446               7675.0                1.0          568.0   \n",
       "4212                   NaN                NaN            NaN   \n",
       "22960                  NaN                NaN            NaN   \n",
       "20520                  NaN                NaN            NaN   \n",
       "19098                  NaN                NaN            NaN   \n",
       "...                    ...                ...            ...   \n",
       "3474                   NaN                NaN            NaN   \n",
       "17442              28062.0                0.0            NaN   \n",
       "15743              11035.0                1.0          723.0   \n",
       "5863               10763.0                0.0            NaN   \n",
       "22869               8283.0                1.0          223.0   \n",
       "\n",
       "       ponds_around_3000  ponds_nearest  days_exposition  \n",
       "16446                1.0          154.0              NaN  \n",
       "4212                 NaN            NaN             36.0  \n",
       "22960                NaN            NaN              NaN  \n",
       "20520                NaN            NaN             62.0  \n",
       "19098                NaN            NaN            282.0  \n",
       "...                  ...            ...              ...  \n",
       "3474                 NaN            NaN            125.0  \n",
       "17442                0.0            NaN            469.0  \n",
       "15743                0.0            NaN            474.0  \n",
       "5863                 1.0          613.0             14.0  \n",
       "22869                3.0           30.0             19.0  \n",
       "\n",
       "[23691 rows x 22 columns]"
      ]
     },
     "execution_count": 23,
     "metadata": {},
     "output_type": "execute_result"
    }
   ],
   "source": [
    "data.sort_values(by='ceiling_height')"
   ]
  },
  {
   "cell_type": "markdown",
   "metadata": {},
   "source": [
    "**Kitchen area**"
   ]
  },
  {
   "cell_type": "code",
   "execution_count": 24,
   "metadata": {},
   "outputs": [
    {
     "data": {
      "text/plain": [
       "count    21415.000000\n",
       "mean        10.564123\n",
       "std          5.861738\n",
       "min          1.300000\n",
       "25%          7.000000\n",
       "50%          9.100000\n",
       "75%         12.000000\n",
       "max        107.000000\n",
       "Name: kitchen_area, dtype: float64"
      ]
     },
     "execution_count": 24,
     "metadata": {},
     "output_type": "execute_result"
    }
   ],
   "source": [
    "data['kitchen_area'].describe()"
   ]
  },
  {
   "cell_type": "markdown",
   "metadata": {},
   "source": [
    "Площадь кухни может быть большая, если в квартире 19 комнат. Но на сколько точно, сказать сложно. Кухня может быть совмещена с гостинной  и указана их общая площадь.  \n",
    "Не будем заполнять пропуски, чтобы не было конфликтов с общей площадью квартиры и жилой.  \n",
    "Оставим эти пропуски и максимальные значения."
   ]
  },
  {
   "cell_type": "markdown",
   "metadata": {},
   "source": [
    "**Living area**"
   ]
  },
  {
   "cell_type": "code",
   "execution_count": 25,
   "metadata": {},
   "outputs": [
    {
     "data": {
      "text/plain": [
       "count    21788.000000\n",
       "mean        34.433011\n",
       "std         21.837814\n",
       "min          2.000000\n",
       "25%         18.600000\n",
       "50%         30.000000\n",
       "75%         42.300000\n",
       "max        409.000000\n",
       "Name: living_area, dtype: float64"
      ]
     },
     "execution_count": 25,
     "metadata": {},
     "output_type": "execute_result"
    }
   ],
   "source": [
    "data['living_area'].describe()"
   ]
  },
  {
   "cell_type": "markdown",
   "metadata": {},
   "source": [
    "Здесь поступим так же, как с площадью кухни. "
   ]
  },
  {
   "cell_type": "markdown",
   "metadata": {},
   "source": [
    "**Is_apartment**"
   ]
  },
  {
   "cell_type": "markdown",
   "metadata": {},
   "source": [
    "Посмотрим уникальные значения."
   ]
  },
  {
   "cell_type": "code",
   "execution_count": 26,
   "metadata": {},
   "outputs": [
    {
     "name": "stdout",
     "output_type": "stream",
     "text": [
      "[nan False True]\n"
     ]
    }
   ],
   "source": [
    "unique_values = data['is_apartment'].unique()\n",
    "print(unique_values)"
   ]
  },
  {
   "cell_type": "code",
   "execution_count": 27,
   "metadata": {},
   "outputs": [],
   "source": [
    "data['is_apartment'].fillna(False, inplace=True)"
   ]
  },
  {
   "cell_type": "markdown",
   "metadata": {},
   "source": [
    "Квартира либо является апартаментами, либо нет. Поэтому пропуски заполним отрицательным ответом."
   ]
  },
  {
   "cell_type": "markdown",
   "metadata": {},
   "source": [
    "**Balcony**"
   ]
  },
  {
   "cell_type": "code",
   "execution_count": 28,
   "metadata": {},
   "outputs": [],
   "source": [
    "data['balcony'].fillna(0, inplace=True)"
   ]
  },
  {
   "cell_type": "markdown",
   "metadata": {},
   "source": [
    "Здесь так же, как с апартаментами. Если балкон не указан, значит его нет."
   ]
  },
  {
   "cell_type": "markdown",
   "metadata": {},
   "source": [
    "**Floors_total**"
   ]
  },
  {
   "cell_type": "markdown",
   "metadata": {},
   "source": [
    "Посмотрим, максимальное количество этажей и общую информацию."
   ]
  },
  {
   "cell_type": "code",
   "execution_count": 29,
   "metadata": {},
   "outputs": [
    {
     "data": {
      "text/plain": [
       "count    23605.000000\n",
       "mean        10.671468\n",
       "std          6.594371\n",
       "min          1.000000\n",
       "25%          5.000000\n",
       "50%          9.000000\n",
       "75%         16.000000\n",
       "max         60.000000\n",
       "Name: floors_total, dtype: float64"
      ]
     },
     "execution_count": 29,
     "metadata": {},
     "output_type": "execute_result"
    }
   ],
   "source": [
    "data['floors_total'].describe()"
   ]
  },
  {
   "cell_type": "code",
   "execution_count": 30,
   "metadata": {},
   "outputs": [
    {
     "data": {
      "text/plain": [
       "2253     60.0\n",
       "16731    52.0\n",
       "397      36.0\n",
       "11079    36.0\n",
       "5807     36.0\n",
       "15982    35.0\n",
       "21599    35.0\n",
       "5749     35.0\n",
       "1060     35.0\n",
       "21809    35.0\n",
       "Name: floors_total, dtype: float64"
      ]
     },
     "metadata": {},
     "output_type": "display_data"
    }
   ],
   "source": [
    "top_10_floors = data.sort_values(by='floors_total', ascending=False).head(10)\n",
    "display(top_10_floors['floors_total'])"
   ]
  },
  {
   "cell_type": "code",
   "execution_count": 31,
   "metadata": {},
   "outputs": [],
   "source": [
    "data = data.dropna(subset=['floors_total'])\n",
    "data = data[data['floors_total'] <= 37]"
   ]
  },
  {
   "cell_type": "markdown",
   "metadata": {},
   "source": [
    "Пропуски с количеством этажей дома были удалены. Они занимают незначительную часть от всех данных. \n",
    "Максимальные значения так же удалили. В основном в доме максимум 36 этажей."
   ]
  },
  {
   "cell_type": "markdown",
   "metadata": {},
   "source": [
    "**Days_exposition**"
   ]
  },
  {
   "cell_type": "code",
   "execution_count": 32,
   "metadata": {},
   "outputs": [
    {
     "data": {
      "text/plain": [
       "count    20431.000000\n",
       "mean       180.917527\n",
       "std        219.723615\n",
       "min          1.000000\n",
       "25%         45.000000\n",
       "50%         95.000000\n",
       "75%        232.000000\n",
       "max       1580.000000\n",
       "Name: days_exposition, dtype: float64"
      ]
     },
     "execution_count": 32,
     "metadata": {},
     "output_type": "execute_result"
    }
   ],
   "source": [
    "data['days_exposition'].describe()"
   ]
  },
  {
   "cell_type": "markdown",
   "metadata": {},
   "source": [
    "Объявление могли не снять с размещения после продажи, из-за чего видим такое максимально количество дней. Либо квартира действительно долго продается. Эти данные заполнять не будем, так как нельзя с точностью определить причину."
   ]
  },
  {
   "cell_type": "markdown",
   "metadata": {},
   "source": [
    "**Locality_name**"
   ]
  },
  {
   "cell_type": "code",
   "execution_count": 33,
   "metadata": {},
   "outputs": [],
   "source": [
    "data = data.dropna(subset=['locality_name'])"
   ]
  },
  {
   "cell_type": "markdown",
   "metadata": {},
   "source": [
    "Строк с пропусками в названиях населенных пунктов не много, поэтому адалим их."
   ]
  },
  {
   "cell_type": "markdown",
   "metadata": {},
   "source": [
    "**Посмотрим на итог**"
   ]
  },
  {
   "cell_type": "code",
   "execution_count": 34,
   "metadata": {},
   "outputs": [
    {
     "data": {
      "text/plain": [
       "total_images                0\n",
       "last_price                  0\n",
       "total_area                  0\n",
       "first_day_exposition        0\n",
       "rooms                       0\n",
       "ceiling_height              0\n",
       "floors_total                0\n",
       "living_area              1865\n",
       "floor                       0\n",
       "is_apartment                0\n",
       "studio                      0\n",
       "open_plan                   0\n",
       "kitchen_area             2220\n",
       "balcony                     0\n",
       "locality_name               0\n",
       "airports_nearest         5523\n",
       "city_centers_nearest     5500\n",
       "parks_around_3000        5499\n",
       "parks_nearest           15531\n",
       "ponds_around_3000        5499\n",
       "ponds_nearest           14525\n",
       "days_exposition          3171\n",
       "dtype: int64"
      ]
     },
     "execution_count": 34,
     "metadata": {},
     "output_type": "execute_result"
    }
   ],
   "source": [
    "data.isna().sum()"
   ]
  },
  {
   "cell_type": "markdown",
   "metadata": {},
   "source": [
    "Заполнили пропуски там, где возможно и удалили выбивающиеся значения.  \n",
    "Столбцы total_images, balcony не вызывают подозрений. Если квартира большая, то в ней может быть 5 балконов на 19 комнат и 50 фотографий.  \n",
    "Наличие и расстояние до парка или пруда, расстояние до центра и аэропорта не заполняется человеком. Данные заполняются автоматически и способ расчета расстояния не известен.\n",
    "Поэтому эти данные не трогаем, чтобы не исказить результаты анализа."
   ]
  },
  {
   "cell_type": "markdown",
   "metadata": {},
   "source": [
    "**Снова посмотрим общую информацию датафрейма.**"
   ]
  },
  {
   "cell_type": "code",
   "execution_count": 35,
   "metadata": {},
   "outputs": [
    {
     "name": "stdout",
     "output_type": "stream",
     "text": [
      "<class 'pandas.core.frame.DataFrame'>\n",
      "Int64Index: 23555 entries, 0 to 23698\n",
      "Data columns (total 22 columns):\n",
      " #   Column                Non-Null Count  Dtype  \n",
      "---  ------                --------------  -----  \n",
      " 0   total_images          23555 non-null  int64  \n",
      " 1   last_price            23555 non-null  float64\n",
      " 2   total_area            23555 non-null  float64\n",
      " 3   first_day_exposition  23555 non-null  object \n",
      " 4   rooms                 23555 non-null  int64  \n",
      " 5   ceiling_height        23555 non-null  float64\n",
      " 6   floors_total          23555 non-null  float64\n",
      " 7   living_area           21690 non-null  float64\n",
      " 8   floor                 23555 non-null  int64  \n",
      " 9   is_apartment          23555 non-null  bool   \n",
      " 10  studio                23555 non-null  bool   \n",
      " 11  open_plan             23555 non-null  bool   \n",
      " 12  kitchen_area          21335 non-null  float64\n",
      " 13  balcony               23555 non-null  float64\n",
      " 14  locality_name         23555 non-null  object \n",
      " 15  airports_nearest      18032 non-null  float64\n",
      " 16  city_centers_nearest  18055 non-null  float64\n",
      " 17  parks_around_3000     18056 non-null  float64\n",
      " 18  parks_nearest         8024 non-null   float64\n",
      " 19  ponds_around_3000     18056 non-null  float64\n",
      " 20  ponds_nearest         9030 non-null   float64\n",
      " 21  days_exposition       20384 non-null  float64\n",
      "dtypes: bool(3), float64(14), int64(3), object(2)\n",
      "memory usage: 3.7+ MB\n",
      "None\n"
     ]
    }
   ],
   "source": [
    "print(data.info())"
   ]
  },
  {
   "cell_type": "markdown",
   "metadata": {},
   "source": [
    "Изменим тип данных там, где это необходимо. Булев тип помогает четко определить \"да\" или \"нет\", то есть объект либо является студией, либо не является. Так же переведем в формат даты и времени столбец с датой объявления и количество балконов в целочисленный. Изменение типа данных необходимо для корректного анализа."
   ]
  },
  {
   "cell_type": "code",
   "execution_count": 36,
   "metadata": {},
   "outputs": [
    {
     "name": "stdout",
     "output_type": "stream",
     "text": [
      "<class 'pandas.core.frame.DataFrame'>\n",
      "Int64Index: 23555 entries, 0 to 23698\n",
      "Data columns (total 22 columns):\n",
      " #   Column                Non-Null Count  Dtype         \n",
      "---  ------                --------------  -----         \n",
      " 0   total_images          23555 non-null  int64         \n",
      " 1   last_price            23555 non-null  float64       \n",
      " 2   total_area            23555 non-null  float64       \n",
      " 3   first_day_exposition  23555 non-null  datetime64[ns]\n",
      " 4   rooms                 23555 non-null  int64         \n",
      " 5   ceiling_height        23555 non-null  float64       \n",
      " 6   floors_total          23555 non-null  int64         \n",
      " 7   living_area           21690 non-null  float64       \n",
      " 8   floor                 23555 non-null  int64         \n",
      " 9   is_apartment          23555 non-null  bool          \n",
      " 10  studio                23555 non-null  bool          \n",
      " 11  open_plan             23555 non-null  bool          \n",
      " 12  kitchen_area          21335 non-null  float64       \n",
      " 13  balcony               23555 non-null  float64       \n",
      " 14  locality_name         23555 non-null  object        \n",
      " 15  airports_nearest      18032 non-null  float64       \n",
      " 16  city_centers_nearest  18055 non-null  float64       \n",
      " 17  parks_around_3000     18056 non-null  float64       \n",
      " 18  parks_nearest         8024 non-null   float64       \n",
      " 19  ponds_around_3000     18056 non-null  float64       \n",
      " 20  ponds_nearest         9030 non-null   float64       \n",
      " 21  days_exposition       20384 non-null  float64       \n",
      "dtypes: bool(3), datetime64[ns](1), float64(13), int64(4), object(1)\n",
      "memory usage: 3.7+ MB\n"
     ]
    }
   ],
   "source": [
    "data['is_apartment'] = data['is_apartment'].astype(bool)\n",
    "data['studio'] = data['studio'].astype(bool)\n",
    "data['open_plan'] = data['open_plan'].astype(bool)\n",
    "data['first_day_exposition'] = pd.to_datetime(data['first_day_exposition'])\n",
    "data['floors_total'] = data['floors_total'].astype('int64')\n",
    "\n",
    "data.info()"
   ]
  },
  {
   "cell_type": "markdown",
   "metadata": {},
   "source": [
    "**2.3 Посмотрим уникальные значения населенных пунктов, чтобы выявить неявные дубликаты.**"
   ]
  },
  {
   "cell_type": "code",
   "execution_count": 37,
   "metadata": {},
   "outputs": [
    {
     "name": "stdout",
     "output_type": "stream",
     "text": [
      "['Санкт-Петербург' 'посёлок Шушары' 'городской посёлок Янино-1'\n",
      " 'посёлок Парголово' 'посёлок Мурино' 'Ломоносов' 'Сертолово' 'Петергоф'\n",
      " 'Пушкин' 'деревня Кудрово' 'Коммунар' 'Колпино'\n",
      " 'поселок городского типа Красный Бор' 'Гатчина' 'поселок Мурино'\n",
      " 'деревня Фёдоровское' 'Выборг' 'Кронштадт' 'Кировск'\n",
      " 'деревня Новое Девяткино' 'посёлок Металлострой'\n",
      " 'посёлок городского типа Лебяжье' 'посёлок городского типа Сиверский'\n",
      " 'поселок Молодцово' 'поселок городского типа Кузьмоловский'\n",
      " 'садовое товарищество Новая Ропша' 'Павловск' 'деревня Пикколово'\n",
      " 'Всеволожск' 'Волхов' 'Кингисепп' 'Приозерск' 'Сестрорецк'\n",
      " 'деревня Куттузи' 'посёлок Аннино' 'поселок городского типа Ефимовский'\n",
      " 'посёлок Плодовое' 'деревня Заклинье' 'поселок Торковичи'\n",
      " 'поселок Первомайское' 'Красное Село' 'посёлок Понтонный' 'Сясьстрой'\n",
      " 'деревня Старая' 'деревня Лесколово' 'посёлок Новый Свет' 'Сланцы'\n",
      " 'село Путилово' 'Ивангород' 'Мурино' 'Шлиссельбург' 'Никольское'\n",
      " 'Зеленогорск' 'Сосновый Бор' 'поселок Новый Свет' 'деревня Оржицы'\n",
      " 'деревня Кальтино' 'Кудрово' 'поселок Романовка' 'посёлок Бугры'\n",
      " 'поселок Бугры' 'поселок городского типа Рощино' 'Кириши' 'Луга'\n",
      " 'Волосово' 'Отрадное' 'село Павлово' 'поселок Оредеж' 'село Копорье'\n",
      " 'посёлок городского типа Красный Бор' 'посёлок Молодёжное' 'Тихвин'\n",
      " 'посёлок Победа' 'деревня Нурма' 'поселок городского типа Синявино'\n",
      " 'Тосно' 'посёлок городского типа Кузьмоловский' 'посёлок Стрельна'\n",
      " 'Бокситогорск' 'посёлок Александровская' 'деревня Лопухинка' 'Пикалёво'\n",
      " 'поселок Терволово' 'поселок городского типа Советский' 'Подпорожье'\n",
      " 'посёлок Петровское' 'посёлок городского типа Токсово' 'поселок Сельцо'\n",
      " 'посёлок городского типа Вырица' 'деревня Кипень' 'деревня Келози'\n",
      " 'деревня Вартемяги' 'посёлок Тельмана' 'поселок Севастьяново'\n",
      " 'городской поселок Большая Ижора' 'городской посёлок Павлово'\n",
      " 'деревня Агалатово' 'посёлок Новогорелово'\n",
      " 'городской посёлок Лесогорский' 'деревня Лаголово' 'поселок Цвелодубово'\n",
      " 'поселок городского типа Рахья' 'поселок городского типа Вырица'\n",
      " 'деревня Белогорка' 'поселок Заводской' 'городской посёлок Новоселье'\n",
      " 'деревня Большие Колпаны' 'деревня Горбунки' 'деревня Батово'\n",
      " 'деревня Заневка' 'деревня Иссад' 'Приморск'\n",
      " 'городской посёлок Фёдоровское' 'деревня Мистолово' 'Новая Ладога'\n",
      " 'поселок Зимитицы' 'поселок Барышево' 'деревня Разметелево'\n",
      " 'поселок городского типа имени Свердлова' 'деревня Пеники'\n",
      " 'поселок Рябово' 'деревня Пудомяги' 'поселок станции Корнево'\n",
      " 'деревня Низино' 'деревня Бегуницы' 'посёлок Поляны'\n",
      " 'городской посёлок Мга' 'поселок Елизаветино'\n",
      " 'посёлок городского типа Кузнечное' 'деревня Колтуши'\n",
      " 'поселок Запорожское' 'посёлок городского типа Рощино'\n",
      " 'деревня Гостилицы' 'деревня Малое Карлино' 'посёлок Мичуринское'\n",
      " 'посёлок городского типа имени Морозова' 'посёлок Песочный'\n",
      " 'посёлок Сосново' 'деревня Аро' 'поселок Ильичёво'\n",
      " 'посёлок городского типа Тайцы' 'деревня Малое Верево' 'деревня Извара'\n",
      " 'поселок станции Вещево' 'село Паша' 'деревня Калитино'\n",
      " 'посёлок городского типа Ульяновка' 'деревня Чудской Бор'\n",
      " 'поселок городского типа Дубровка' 'деревня Мины' 'поселок Войсковицы'\n",
      " 'посёлок городского типа имени Свердлова' 'деревня Коркино'\n",
      " 'посёлок Ропша' 'поселок городского типа Приладожский' 'посёлок Щеглово'\n",
      " 'посёлок Гаврилово' 'Лодейное Поле' 'деревня Рабитицы'\n",
      " 'поселок городского типа Никольский' 'деревня Кузьмолово'\n",
      " 'деревня Малые Колпаны' 'поселок Тельмана' 'посёлок Петро-Славянка'\n",
      " 'городской посёлок Назия' 'посёлок Репино' 'посёлок Ильичёво'\n",
      " 'поселок Углово' 'поселок Старая Малукса' 'садовое товарищество Рахья'\n",
      " 'поселок Аннино' 'поселок Победа' 'деревня Меньково'\n",
      " 'деревня Старые Бегуницы' 'посёлок Сапёрный' 'поселок Семрино'\n",
      " 'поселок Гаврилово' 'поселок Глажево' 'поселок Кобринское'\n",
      " 'деревня Гарболово' 'деревня Юкки' 'поселок станции Приветнинское'\n",
      " 'деревня Мануйлово' 'деревня Пчева' 'поселок Поляны' 'поселок Цвылёво'\n",
      " 'поселок Мельниково' 'посёлок Пудость' 'посёлок Усть-Луга' 'Светогорск'\n",
      " 'Любань' 'поселок Селезнёво' 'поселок городского типа Рябово'\n",
      " 'Каменногорск' 'деревня Кривко' 'поселок Глебычево' 'деревня Парицы'\n",
      " 'поселок Жилпосёлок' 'посёлок городского типа Мга'\n",
      " 'городской поселок Янино-1' 'посёлок Войскорово' 'село Никольское'\n",
      " 'посёлок Терволово' 'поселок Стеклянный' 'посёлок городского типа Важины'\n",
      " 'посёлок Мыза-Ивановка' 'село Русско-Высоцкое'\n",
      " 'поселок городского типа Лебяжье' 'поселок городского типа Форносово'\n",
      " 'село Старая Ладога' 'поселок Житково' 'городской посёлок Виллози'\n",
      " 'деревня Лампово' 'деревня Шпаньково' 'деревня Лаврики' 'посёлок Сумино'\n",
      " 'посёлок Возрождение' 'деревня Старосиверская' 'посёлок Кикерино'\n",
      " 'поселок Возрождение' 'деревня Старое Хинколово' 'посёлок Пригородный'\n",
      " 'посёлок Торфяное' 'городской посёлок Будогощь' 'поселок Суходолье'\n",
      " 'поселок Красная Долина' 'деревня Хапо-Ое'\n",
      " 'поселок городского типа Дружная Горка' 'поселок Лисий Нос'\n",
      " 'деревня Яльгелево' 'посёлок Стеклянный' 'село Рождествено'\n",
      " 'деревня Старополье' 'посёлок Левашово' 'деревня Сяськелево'\n",
      " 'деревня Камышовка'\n",
      " 'садоводческое некоммерческое товарищество Лесная Поляна'\n",
      " 'деревня Хязельки' 'поселок Жилгородок' 'посёлок городского типа Павлово'\n",
      " 'деревня Ялгино' 'поселок Новый Учхоз' 'городской посёлок Рощино'\n",
      " 'поселок Гончарово' 'поселок Почап' 'посёлок Сапёрное'\n",
      " 'посёлок Платформа 69-й километр' 'поселок Каложицы' 'деревня Фалилеево'\n",
      " 'деревня Пельгора' 'поселок городского типа Лесогорский'\n",
      " 'деревня Торошковичи' 'посёлок Белоостров' 'посёлок Алексеевка'\n",
      " 'поселок Серебрянский' 'поселок Лукаши' 'поселок Петровское'\n",
      " 'деревня Щеглово' 'поселок Мичуринское' 'деревня Тарасово'\n",
      " 'поселок Кингисеппский' 'посёлок при железнодорожной станции Вещево'\n",
      " 'поселок Ушаки' 'деревня Котлы' 'деревня Сижно' 'деревня Торосово'\n",
      " 'посёлок Форт Красная Горка' 'деревня Новолисино'\n",
      " 'посёлок станции Громово' 'деревня Глинка' 'посёлок Мельниково'\n",
      " 'поселок городского типа Назия' 'деревня Старая Пустошь'\n",
      " 'поселок Коммунары' 'поселок Починок'\n",
      " 'посёлок городского типа Вознесенье' 'деревня Разбегаево'\n",
      " 'посёлок городского типа Рябово' 'поселок Гладкое'\n",
      " 'посёлок при железнодорожной станции Приветнинское' 'поселок Тёсово-4'\n",
      " 'посёлок Жилгородок' 'деревня Бор' 'посёлок Коробицыно'\n",
      " 'деревня Большая Вруда' 'деревня Курковицы' 'посёлок Лисий Нос'\n",
      " 'городской посёлок Советский' 'посёлок Кобралово' 'деревня Суоранда'\n",
      " 'поселок Кобралово' 'поселок городского типа Кондратьево'\n",
      " 'коттеджный поселок Счастье' 'поселок Любань' 'деревня Реброво'\n",
      " 'деревня Зимитицы' 'деревня Тойворово' 'поселок Семиозерье'\n",
      " 'поселок Лесное' 'поселок Совхозный' 'поселок Усть-Луга'\n",
      " 'посёлок Ленинское' 'посёлок Суйда' 'посёлок городского типа Форносово'\n",
      " 'деревня Нижние Осельки' 'посёлок станции Свирь' 'поселок Перово'\n",
      " 'Высоцк' 'поселок Гарболово' 'село Шум' 'поселок Котельский'\n",
      " 'поселок станции Лужайка' 'деревня Большая Пустомержа'\n",
      " 'поселок Красносельское' 'деревня Вахнова Кара' 'деревня Пижма'\n",
      " 'коттеджный поселок Кивеннапа Север' 'поселок Коробицыно'\n",
      " 'поселок Ромашки' 'посёлок Перово' 'деревня Каськово' 'деревня Куровицы'\n",
      " 'посёлок Плоское' 'поселок Сумино'\n",
      " 'поселок городского типа Большая Ижора' 'поселок Кирпичное'\n",
      " 'деревня Ям-Тесово' 'деревня Раздолье' 'деревня Терпилицы'\n",
      " 'поселок городского типа Токсово' 'посёлок Шугозеро' 'деревня Ваганово'\n",
      " 'поселок Пушное' 'садовое товарищество Садко' 'посёлок Усть-Ижора'\n",
      " 'деревня Выскатка' 'городской посёлок Свирьстрой' 'поселок Громово'\n",
      " 'деревня Кисельня' 'посёлок Старая Малукса' 'деревня Трубников Бор'\n",
      " 'поселок Калитино' 'посёлок Высокоключевой'\n",
      " 'садовое товарищество Приладожский' 'посёлок Пансионат Зелёный Бор'\n",
      " 'деревня Ненимяки' 'поселок Пансионат Зелёный Бор' 'деревня Снегирёвка'\n",
      " 'деревня Рапполово' 'деревня Пустынка' 'поселок Рабитицы'\n",
      " 'деревня Большой Сабск' 'деревня Русско' 'деревня Лупполово'\n",
      " 'деревня Большое Рейзино' 'деревня Малая Романовка' 'поселок Дружноселье'\n",
      " 'поселок Пчевжа' 'поселок Володарское' 'деревня Нижняя'\n",
      " 'коттеджный посёлок Лесное' 'деревня Тихковицы' 'деревня Борисова Грива'\n",
      " 'посёлок Дзержинского']\n"
     ]
    }
   ],
   "source": [
    "unique_localities = data['locality_name'].unique()\n",
    "print(unique_localities)"
   ]
  },
  {
   "cell_type": "markdown",
   "metadata": {},
   "source": [
    "**Заменим явные дубликаты.**"
   ]
  },
  {
   "cell_type": "code",
   "execution_count": 38,
   "metadata": {
    "scrolled": true
   },
   "outputs": [
    {
     "name": "stdout",
     "output_type": "stream",
     "text": [
      "['Санкт-Петербург' 'поселок Шушары' 'городской поселок Янино-1'\n",
      " 'поселок Парголово' 'поселок Мурино' 'Ломоносов' 'Сертолово' 'Петергоф'\n",
      " 'Пушкин' 'деревня Кудрово' 'Коммунар' 'Колпино' 'поселок Красный Бор'\n",
      " 'Гатчина' 'деревня Федоровское' 'Выборг' 'Кронштадт' 'Кировск'\n",
      " 'деревня Новое Девяткино' 'поселок Металлострой' 'поселок Лебяжье'\n",
      " 'поселок Сиверский' 'поселок Молодцово' 'поселок Кузьмоловский'\n",
      " 'садовое товарищество Новая Ропша' 'Павловск' 'деревня Пикколово'\n",
      " 'Всеволожск' 'Волхов' 'Кингисепп' 'Приозерск' 'Сестрорецк'\n",
      " 'деревня Куттузи' 'поселок Аннино' 'поселок Ефимовский'\n",
      " 'поселок Плодовое' 'деревня Заклинье' 'поселок Торковичи'\n",
      " 'поселок Первомайское' 'Красное Село' 'поселок Понтонный' 'Сясьстрой'\n",
      " 'деревня Старая' 'деревня Лесколово' 'поселок Новый Свет' 'Сланцы'\n",
      " 'село Путилово' 'Ивангород' 'Мурино' 'Шлиссельбург' 'Никольское'\n",
      " 'Зеленогорск' 'Сосновый Бор' 'деревня Оржицы' 'деревня Кальтино'\n",
      " 'Кудрово' 'поселок Романовка' 'поселок Бугры' 'поселок Рощино' 'Кириши'\n",
      " 'Луга' 'Волосово' 'Отрадное' 'село Павлово' 'поселок Оредеж'\n",
      " 'село Копорье' 'поселок Молодежное' 'Тихвин' 'поселок Победа'\n",
      " 'деревня Нурма' 'поселок Синявино' 'Тосно' 'поселок Стрельна'\n",
      " 'Бокситогорск' 'поселок Александровская' 'деревня Лопухинка' 'Пикалево'\n",
      " 'поселок Терволово' 'поселок Советский' 'Подпорожье' 'поселок Петровское'\n",
      " 'поселок Токсово' 'поселок Сельцо' 'поселок Вырица' 'деревня Кипень'\n",
      " 'деревня Келози' 'деревня Вартемяги' 'поселок Тельмана'\n",
      " 'поселок Севастьяново' 'городской поселок Большая Ижора'\n",
      " 'городской поселок Павлово' 'деревня Агалатово' 'поселок Новогорелово'\n",
      " 'городской поселок Лесогорский' 'деревня Лаголово' 'поселок Цвелодубово'\n",
      " 'поселок Рахья' 'деревня Белогорка' 'поселок Заводской'\n",
      " 'городской поселок Новоселье' 'деревня Большие Колпаны'\n",
      " 'деревня Горбунки' 'деревня Батово' 'деревня Заневка' 'деревня Иссад'\n",
      " 'Приморск' 'городской поселок Федоровское' 'деревня Мистолово'\n",
      " 'Новая Ладога' 'поселок Зимитицы' 'поселок Барышево'\n",
      " 'деревня Разметелево' 'поселок имени Свердлова' 'деревня Пеники'\n",
      " 'поселок Рябово' 'деревня Пудомяги' 'поселок станции Корнево'\n",
      " 'деревня Низино' 'деревня Бегуницы' 'поселок Поляны'\n",
      " 'городской поселок Мга' 'поселок Елизаветино' 'поселок Кузнечное'\n",
      " 'деревня Колтуши' 'поселок Запорожское' 'деревня Гостилицы'\n",
      " 'деревня Малое Карлино' 'поселок Мичуринское' 'поселок имени Морозова'\n",
      " 'поселок Песочный' 'поселок Сосново' 'деревня Аро' 'поселок Ильичево'\n",
      " 'поселок Тайцы' 'деревня Малое Верево' 'деревня Извара'\n",
      " 'поселок станции Вещево' 'село Паша' 'деревня Калитино'\n",
      " 'поселок Ульяновка' 'деревня Чудской Бор' 'поселок Дубровка'\n",
      " 'деревня Мины' 'поселок Войсковицы' 'деревня Коркино' 'поселок Ропша'\n",
      " 'поселок Приладожский' 'поселок Щеглово' 'поселок Гаврилово'\n",
      " 'Лодейное Поле' 'деревня Рабитицы' 'поселок Никольский'\n",
      " 'деревня Кузьмолово' 'деревня Малые Колпаны' 'поселок Петро-Славянка'\n",
      " 'городской поселок Назия' 'поселок Репино' 'поселок Углово'\n",
      " 'поселок Старая Малукса' 'садовое товарищество Рахья' 'деревня Меньково'\n",
      " 'деревня Старые Бегуницы' 'поселок Саперный' 'поселок Семрино'\n",
      " 'поселок Глажево' 'поселок Кобринское' 'деревня Гарболово' 'деревня Юкки'\n",
      " 'поселок станции Приветнинское' 'деревня Мануйлово' 'деревня Пчева'\n",
      " 'поселок Цвылево' 'поселок Мельниково' 'поселок Пудость'\n",
      " 'поселок Усть-Луга' 'Светогорск' 'Любань' 'поселок Селезнево'\n",
      " 'Каменногорск' 'деревня Кривко' 'поселок Глебычево' 'деревня Парицы'\n",
      " 'поселок Жилпоселок' 'поселок Мга' 'поселок Войскорово' 'село Никольское'\n",
      " 'поселок Стеклянный' 'поселок Важины' 'поселок Мыза-Ивановка'\n",
      " 'село Русско-Высоцкое' 'поселок Форносово' 'село Старая Ладога'\n",
      " 'поселок Житково' 'городской поселок Виллози' 'деревня Лампово'\n",
      " 'деревня Шпаньково' 'деревня Лаврики' 'поселок Сумино'\n",
      " 'поселок Возрождение' 'деревня Старосиверская' 'поселок Кикерино'\n",
      " 'деревня Старое Хинколово' 'поселок Пригородный' 'поселок Торфяное'\n",
      " 'городской поселок Будогощь' 'поселок Суходолье' 'поселок Красная Долина'\n",
      " 'деревня Хапо-Ое' 'поселок Дружная Горка' 'поселок Лисий Нос'\n",
      " 'деревня Яльгелево' 'село Рождествено' 'деревня Старополье'\n",
      " 'поселок Левашово' 'деревня Сяськелево' 'деревня Камышовка'\n",
      " 'садоводческое некоммерческое товарищество Лесная Поляна'\n",
      " 'деревня Хязельки' 'поселок Жилгородок' 'поселок Павлово'\n",
      " 'деревня Ялгино' 'поселок Новый Учхоз' 'городской поселок Рощино'\n",
      " 'поселок Гончарово' 'поселок Почап' 'поселок Саперное'\n",
      " 'поселок Платформа 69-й километр' 'поселок Каложицы' 'деревня Фалилеево'\n",
      " 'деревня Пельгора' 'поселок Лесогорский' 'деревня Торошковичи'\n",
      " 'поселок Белоостров' 'поселок Алексеевка' 'поселок Серебрянский'\n",
      " 'поселок Лукаши' 'деревня Щеглово' 'деревня Тарасово'\n",
      " 'поселок Кингисеппский' 'поселок при железнодорожной станции Вещево'\n",
      " 'поселок Ушаки' 'деревня Котлы' 'деревня Сижно' 'деревня Торосово'\n",
      " 'поселок Форт Красная Горка' 'деревня Новолисино'\n",
      " 'поселок станции Громово' 'деревня Глинка' 'поселок Назия'\n",
      " 'деревня Старая Пустошь' 'поселок Коммунары' 'поселок Починок'\n",
      " 'поселок Вознесенье' 'деревня Разбегаево' 'поселок Гладкое'\n",
      " 'поселок при железнодорожной станции Приветнинское' 'поселок Тесово-4'\n",
      " 'деревня Бор' 'поселок Коробицыно' 'деревня Большая Вруда'\n",
      " 'деревня Курковицы' 'городской поселок Советский' 'поселок Кобралово'\n",
      " 'деревня Суоранда' 'поселок Кондратьево' 'коттеджный поселок Счастье'\n",
      " 'поселок Любань' 'деревня Реброво' 'деревня Зимитицы' 'деревня Тойворово'\n",
      " 'поселок Семиозерье' 'поселок Лесное' 'поселок Совхозный'\n",
      " 'поселок Ленинское' 'поселок Суйда' 'деревня Нижние Осельки'\n",
      " 'поселок станции Свирь' 'поселок Перово' 'Высоцк' 'поселок Гарболово'\n",
      " 'село Шум' 'поселок Котельский' 'поселок станции Лужайка'\n",
      " 'деревня Большая Пустомержа' 'поселок Красносельское'\n",
      " 'деревня Вахнова Кара' 'деревня Пижма'\n",
      " 'коттеджный поселок Кивеннапа Север' 'поселок Ромашки' 'деревня Каськово'\n",
      " 'деревня Куровицы' 'поселок Плоское' 'поселок Большая Ижора'\n",
      " 'поселок Кирпичное' 'деревня Ям-Тесово' 'деревня Раздолье'\n",
      " 'деревня Терпилицы' 'поселок Шугозеро' 'деревня Ваганово'\n",
      " 'поселок Пушное' 'садовое товарищество Садко' 'поселок Усть-Ижора'\n",
      " 'деревня Выскатка' 'городской поселок Свирьстрой' 'поселок Громово'\n",
      " 'деревня Кисельня' 'деревня Трубников Бор' 'поселок Калитино'\n",
      " 'поселок Высокоключевой' 'садовое товарищество Приладожский'\n",
      " 'поселок Пансионат Зеленый Бор' 'деревня Ненимяки' 'деревня Снегиревка'\n",
      " 'деревня Рапполово' 'деревня Пустынка' 'поселок Рабитицы'\n",
      " 'деревня Большой Сабск' 'деревня Русско' 'деревня Лупполово'\n",
      " 'деревня Большое Рейзино' 'деревня Малая Романовка' 'поселок Дружноселье'\n",
      " 'поселок Пчевжа' 'поселок Володарское' 'деревня Нижняя'\n",
      " 'коттеджный поселок Лесное' 'деревня Тихковицы' 'деревня Борисова Грива'\n",
      " 'поселок Дзержинского']\n"
     ]
    }
   ],
   "source": [
    "data['locality_name'] = (data['locality_name'].str.replace('ё', 'е').replace(['коттеджный посёлок', 'поселок городского типа', 'городской посёлок'], 'поселок', regex=True))\n",
    "unique_localities = data['locality_name'].unique()\n",
    "print(unique_localities)"
   ]
  },
  {
   "cell_type": "markdown",
   "metadata": {
    "id": "QCcvyY6YAwb-"
   },
   "source": [
    "### Добавьте в таблицу новые столбцы"
   ]
  },
  {
   "cell_type": "markdown",
   "metadata": {
    "id": "Z8eJek3IAwb-"
   },
   "source": [
    "**Добавим новые столбцы в датафрейм.**"
   ]
  },
  {
   "cell_type": "code",
   "execution_count": 41,
   "metadata": {},
   "outputs": [
    {
     "data": {
      "text/html": [
       "<div>\n",
       "<style scoped>\n",
       "    .dataframe tbody tr th:only-of-type {\n",
       "        vertical-align: middle;\n",
       "    }\n",
       "\n",
       "    .dataframe tbody tr th {\n",
       "        vertical-align: top;\n",
       "    }\n",
       "\n",
       "    .dataframe thead th {\n",
       "        text-align: right;\n",
       "    }\n",
       "</style>\n",
       "<table border=\"1\" class=\"dataframe\">\n",
       "  <thead>\n",
       "    <tr style=\"text-align: right;\">\n",
       "      <th></th>\n",
       "      <th>total_images</th>\n",
       "      <th>last_price</th>\n",
       "      <th>total_area</th>\n",
       "      <th>first_day_exposition</th>\n",
       "      <th>rooms</th>\n",
       "      <th>ceiling_height</th>\n",
       "      <th>floors_total</th>\n",
       "      <th>living_area</th>\n",
       "      <th>floor</th>\n",
       "      <th>is_apartment</th>\n",
       "      <th>...</th>\n",
       "      <th>parks_nearest</th>\n",
       "      <th>ponds_around_3000</th>\n",
       "      <th>ponds_nearest</th>\n",
       "      <th>days_exposition</th>\n",
       "      <th>price_per_sqm</th>\n",
       "      <th>day_of_week</th>\n",
       "      <th>month</th>\n",
       "      <th>year</th>\n",
       "      <th>floor_type</th>\n",
       "      <th>city_centers_nearest_km</th>\n",
       "    </tr>\n",
       "  </thead>\n",
       "  <tbody>\n",
       "    <tr>\n",
       "      <th>0</th>\n",
       "      <td>20</td>\n",
       "      <td>13000000.0</td>\n",
       "      <td>108.00</td>\n",
       "      <td>2019-03-07</td>\n",
       "      <td>3</td>\n",
       "      <td>2.70</td>\n",
       "      <td>16</td>\n",
       "      <td>51.0</td>\n",
       "      <td>8</td>\n",
       "      <td>False</td>\n",
       "      <td>...</td>\n",
       "      <td>482.0</td>\n",
       "      <td>2.0</td>\n",
       "      <td>755.0</td>\n",
       "      <td>NaN</td>\n",
       "      <td>120370.37</td>\n",
       "      <td>7</td>\n",
       "      <td>3</td>\n",
       "      <td>2019</td>\n",
       "      <td>другой</td>\n",
       "      <td>16.0</td>\n",
       "    </tr>\n",
       "    <tr>\n",
       "      <th>1</th>\n",
       "      <td>7</td>\n",
       "      <td>3350000.0</td>\n",
       "      <td>40.40</td>\n",
       "      <td>2018-12-04</td>\n",
       "      <td>1</td>\n",
       "      <td>2.65</td>\n",
       "      <td>11</td>\n",
       "      <td>18.6</td>\n",
       "      <td>1</td>\n",
       "      <td>False</td>\n",
       "      <td>...</td>\n",
       "      <td>NaN</td>\n",
       "      <td>0.0</td>\n",
       "      <td>NaN</td>\n",
       "      <td>81.0</td>\n",
       "      <td>82920.79</td>\n",
       "      <td>4</td>\n",
       "      <td>12</td>\n",
       "      <td>2018</td>\n",
       "      <td>первый</td>\n",
       "      <td>19.0</td>\n",
       "    </tr>\n",
       "    <tr>\n",
       "      <th>2</th>\n",
       "      <td>10</td>\n",
       "      <td>5196000.0</td>\n",
       "      <td>56.00</td>\n",
       "      <td>2015-08-20</td>\n",
       "      <td>2</td>\n",
       "      <td>2.65</td>\n",
       "      <td>5</td>\n",
       "      <td>34.3</td>\n",
       "      <td>4</td>\n",
       "      <td>False</td>\n",
       "      <td>...</td>\n",
       "      <td>90.0</td>\n",
       "      <td>2.0</td>\n",
       "      <td>574.0</td>\n",
       "      <td>558.0</td>\n",
       "      <td>92785.71</td>\n",
       "      <td>20</td>\n",
       "      <td>8</td>\n",
       "      <td>2015</td>\n",
       "      <td>другой</td>\n",
       "      <td>14.0</td>\n",
       "    </tr>\n",
       "    <tr>\n",
       "      <th>3</th>\n",
       "      <td>0</td>\n",
       "      <td>64900000.0</td>\n",
       "      <td>159.00</td>\n",
       "      <td>2015-07-24</td>\n",
       "      <td>3</td>\n",
       "      <td>2.65</td>\n",
       "      <td>14</td>\n",
       "      <td>NaN</td>\n",
       "      <td>9</td>\n",
       "      <td>False</td>\n",
       "      <td>...</td>\n",
       "      <td>84.0</td>\n",
       "      <td>3.0</td>\n",
       "      <td>234.0</td>\n",
       "      <td>424.0</td>\n",
       "      <td>408176.10</td>\n",
       "      <td>24</td>\n",
       "      <td>7</td>\n",
       "      <td>2015</td>\n",
       "      <td>другой</td>\n",
       "      <td>7.0</td>\n",
       "    </tr>\n",
       "    <tr>\n",
       "      <th>4</th>\n",
       "      <td>2</td>\n",
       "      <td>10000000.0</td>\n",
       "      <td>100.00</td>\n",
       "      <td>2018-06-19</td>\n",
       "      <td>2</td>\n",
       "      <td>3.03</td>\n",
       "      <td>14</td>\n",
       "      <td>32.0</td>\n",
       "      <td>13</td>\n",
       "      <td>False</td>\n",
       "      <td>...</td>\n",
       "      <td>112.0</td>\n",
       "      <td>1.0</td>\n",
       "      <td>48.0</td>\n",
       "      <td>121.0</td>\n",
       "      <td>100000.00</td>\n",
       "      <td>19</td>\n",
       "      <td>6</td>\n",
       "      <td>2018</td>\n",
       "      <td>другой</td>\n",
       "      <td>8.0</td>\n",
       "    </tr>\n",
       "    <tr>\n",
       "      <th>...</th>\n",
       "      <td>...</td>\n",
       "      <td>...</td>\n",
       "      <td>...</td>\n",
       "      <td>...</td>\n",
       "      <td>...</td>\n",
       "      <td>...</td>\n",
       "      <td>...</td>\n",
       "      <td>...</td>\n",
       "      <td>...</td>\n",
       "      <td>...</td>\n",
       "      <td>...</td>\n",
       "      <td>...</td>\n",
       "      <td>...</td>\n",
       "      <td>...</td>\n",
       "      <td>...</td>\n",
       "      <td>...</td>\n",
       "      <td>...</td>\n",
       "      <td>...</td>\n",
       "      <td>...</td>\n",
       "      <td>...</td>\n",
       "      <td>...</td>\n",
       "    </tr>\n",
       "    <tr>\n",
       "      <th>23694</th>\n",
       "      <td>9</td>\n",
       "      <td>9700000.0</td>\n",
       "      <td>133.81</td>\n",
       "      <td>2017-03-21</td>\n",
       "      <td>3</td>\n",
       "      <td>3.70</td>\n",
       "      <td>5</td>\n",
       "      <td>73.3</td>\n",
       "      <td>3</td>\n",
       "      <td>False</td>\n",
       "      <td>...</td>\n",
       "      <td>796.0</td>\n",
       "      <td>3.0</td>\n",
       "      <td>381.0</td>\n",
       "      <td>NaN</td>\n",
       "      <td>72490.85</td>\n",
       "      <td>21</td>\n",
       "      <td>3</td>\n",
       "      <td>2017</td>\n",
       "      <td>другой</td>\n",
       "      <td>4.0</td>\n",
       "    </tr>\n",
       "    <tr>\n",
       "      <th>23695</th>\n",
       "      <td>14</td>\n",
       "      <td>3100000.0</td>\n",
       "      <td>59.00</td>\n",
       "      <td>2018-01-15</td>\n",
       "      <td>3</td>\n",
       "      <td>2.65</td>\n",
       "      <td>5</td>\n",
       "      <td>38.0</td>\n",
       "      <td>4</td>\n",
       "      <td>False</td>\n",
       "      <td>...</td>\n",
       "      <td>NaN</td>\n",
       "      <td>NaN</td>\n",
       "      <td>NaN</td>\n",
       "      <td>45.0</td>\n",
       "      <td>52542.37</td>\n",
       "      <td>15</td>\n",
       "      <td>1</td>\n",
       "      <td>2018</td>\n",
       "      <td>другой</td>\n",
       "      <td>NaN</td>\n",
       "    </tr>\n",
       "    <tr>\n",
       "      <th>23696</th>\n",
       "      <td>18</td>\n",
       "      <td>2500000.0</td>\n",
       "      <td>56.70</td>\n",
       "      <td>2018-02-11</td>\n",
       "      <td>2</td>\n",
       "      <td>2.65</td>\n",
       "      <td>3</td>\n",
       "      <td>29.7</td>\n",
       "      <td>1</td>\n",
       "      <td>False</td>\n",
       "      <td>...</td>\n",
       "      <td>NaN</td>\n",
       "      <td>NaN</td>\n",
       "      <td>NaN</td>\n",
       "      <td>NaN</td>\n",
       "      <td>44091.71</td>\n",
       "      <td>11</td>\n",
       "      <td>2</td>\n",
       "      <td>2018</td>\n",
       "      <td>первый</td>\n",
       "      <td>NaN</td>\n",
       "    </tr>\n",
       "    <tr>\n",
       "      <th>23697</th>\n",
       "      <td>13</td>\n",
       "      <td>11475000.0</td>\n",
       "      <td>76.75</td>\n",
       "      <td>2017-03-28</td>\n",
       "      <td>2</td>\n",
       "      <td>3.00</td>\n",
       "      <td>17</td>\n",
       "      <td>NaN</td>\n",
       "      <td>12</td>\n",
       "      <td>False</td>\n",
       "      <td>...</td>\n",
       "      <td>173.0</td>\n",
       "      <td>3.0</td>\n",
       "      <td>196.0</td>\n",
       "      <td>602.0</td>\n",
       "      <td>149511.40</td>\n",
       "      <td>28</td>\n",
       "      <td>3</td>\n",
       "      <td>2017</td>\n",
       "      <td>другой</td>\n",
       "      <td>10.0</td>\n",
       "    </tr>\n",
       "    <tr>\n",
       "      <th>23698</th>\n",
       "      <td>4</td>\n",
       "      <td>1350000.0</td>\n",
       "      <td>32.30</td>\n",
       "      <td>2017-07-21</td>\n",
       "      <td>1</td>\n",
       "      <td>2.50</td>\n",
       "      <td>5</td>\n",
       "      <td>12.3</td>\n",
       "      <td>1</td>\n",
       "      <td>False</td>\n",
       "      <td>...</td>\n",
       "      <td>NaN</td>\n",
       "      <td>NaN</td>\n",
       "      <td>NaN</td>\n",
       "      <td>NaN</td>\n",
       "      <td>41795.67</td>\n",
       "      <td>21</td>\n",
       "      <td>7</td>\n",
       "      <td>2017</td>\n",
       "      <td>первый</td>\n",
       "      <td>NaN</td>\n",
       "    </tr>\n",
       "  </tbody>\n",
       "</table>\n",
       "<p>23555 rows × 28 columns</p>\n",
       "</div>"
      ],
      "text/plain": [
       "       total_images  last_price  total_area first_day_exposition  rooms  \\\n",
       "0                20  13000000.0      108.00           2019-03-07      3   \n",
       "1                 7   3350000.0       40.40           2018-12-04      1   \n",
       "2                10   5196000.0       56.00           2015-08-20      2   \n",
       "3                 0  64900000.0      159.00           2015-07-24      3   \n",
       "4                 2  10000000.0      100.00           2018-06-19      2   \n",
       "...             ...         ...         ...                  ...    ...   \n",
       "23694             9   9700000.0      133.81           2017-03-21      3   \n",
       "23695            14   3100000.0       59.00           2018-01-15      3   \n",
       "23696            18   2500000.0       56.70           2018-02-11      2   \n",
       "23697            13  11475000.0       76.75           2017-03-28      2   \n",
       "23698             4   1350000.0       32.30           2017-07-21      1   \n",
       "\n",
       "       ceiling_height  floors_total  living_area  floor  is_apartment  ...  \\\n",
       "0                2.70            16         51.0      8         False  ...   \n",
       "1                2.65            11         18.6      1         False  ...   \n",
       "2                2.65             5         34.3      4         False  ...   \n",
       "3                2.65            14          NaN      9         False  ...   \n",
       "4                3.03            14         32.0     13         False  ...   \n",
       "...               ...           ...          ...    ...           ...  ...   \n",
       "23694            3.70             5         73.3      3         False  ...   \n",
       "23695            2.65             5         38.0      4         False  ...   \n",
       "23696            2.65             3         29.7      1         False  ...   \n",
       "23697            3.00            17          NaN     12         False  ...   \n",
       "23698            2.50             5         12.3      1         False  ...   \n",
       "\n",
       "       parks_nearest  ponds_around_3000  ponds_nearest  days_exposition  \\\n",
       "0              482.0                2.0          755.0              NaN   \n",
       "1                NaN                0.0            NaN             81.0   \n",
       "2               90.0                2.0          574.0            558.0   \n",
       "3               84.0                3.0          234.0            424.0   \n",
       "4              112.0                1.0           48.0            121.0   \n",
       "...              ...                ...            ...              ...   \n",
       "23694          796.0                3.0          381.0              NaN   \n",
       "23695            NaN                NaN            NaN             45.0   \n",
       "23696            NaN                NaN            NaN              NaN   \n",
       "23697          173.0                3.0          196.0            602.0   \n",
       "23698            NaN                NaN            NaN              NaN   \n",
       "\n",
       "      price_per_sqm  day_of_week  month  year  floor_type  \\\n",
       "0         120370.37            7      3  2019      другой   \n",
       "1          82920.79            4     12  2018      первый   \n",
       "2          92785.71           20      8  2015      другой   \n",
       "3         408176.10           24      7  2015      другой   \n",
       "4         100000.00           19      6  2018      другой   \n",
       "...             ...          ...    ...   ...         ...   \n",
       "23694      72490.85           21      3  2017      другой   \n",
       "23695      52542.37           15      1  2018      другой   \n",
       "23696      44091.71           11      2  2018      первый   \n",
       "23697     149511.40           28      3  2017      другой   \n",
       "23698      41795.67           21      7  2017      первый   \n",
       "\n",
       "       city_centers_nearest_km  \n",
       "0                         16.0  \n",
       "1                         19.0  \n",
       "2                         14.0  \n",
       "3                          7.0  \n",
       "4                          8.0  \n",
       "...                        ...  \n",
       "23694                      4.0  \n",
       "23695                      NaN  \n",
       "23696                      NaN  \n",
       "23697                     10.0  \n",
       "23698                      NaN  \n",
       "\n",
       "[23555 rows x 28 columns]"
      ]
     },
     "metadata": {},
     "output_type": "display_data"
    }
   ],
   "source": [
    "data['price_per_sqm'] = (data['last_price'] / data['total_area']).round(2)\n",
    "\n",
    "\n",
    "index = pd.DatetimeIndex(data['first_day_exposition'])\n",
    "data['day_of_week'] = index.day\n",
    "data['month'] = index.month\n",
    "data['year'] = index.year\n",
    "\n",
    "\n",
    "def i_floor_type(row):\n",
    "    if row['floor'] == 1:\n",
    "        return 'первый'\n",
    "    elif row['floor'] == row['floors_total']:\n",
    "        return 'последний'\n",
    "    else:\n",
    "        return 'другой'\n",
    "\n",
    "\n",
    "data['floor_type'] = data.apply(i_floor_type, axis=1)\n",
    "\n",
    "\n",
    "data['city_centers_nearest_km'] = (data['city_centers_nearest'] / 1000).round()\n",
    "\n",
    "display(data)"
   ]
  },
  {
   "cell_type": "markdown",
   "metadata": {},
   "source": [
    "Помимо столбца с полной датой публикации добавили столбцы с днем, месяцем и годом, что позволяет при необходимости отфильтровать по нужому параметру.  \n",
    "Так же добавлена категория с этажом.  \n",
    "А расстояние до центра переведено в киллометры для удобства восприятия и анализа."
   ]
  },
  {
   "cell_type": "markdown",
   "metadata": {
    "id": "pPyxrKWTAwb-"
   },
   "source": [
    "### Проведите исследовательский анализ данных"
   ]
  },
  {
   "cell_type": "markdown",
   "metadata": {},
   "source": [
    "4.1 Ранее были удалены аномалии в данных. Общая площадь, жилая площадь, площадь кухни, высота потолков в разы превышали среднее и медианное значение. Можно предположить, что при заполнении данных была допущена ошибка - отсутсвие запятой. То есть вместо 3,2 метров было указано 32 метра. Однако, может быть указана лишняя цифра и высота потолка 3 метра.\n",
    "На цену объекта влияют площадь квартиры, количество комнат, этаж, расстояние до центра города в метрах, расстояние до ближайшего парка.\n",
    "Поставили ограничения на цену объекта, чтобы проанализировать данные по среднестатистическому жилью. Тем самым более дорогое, элитное и редкое жилье не учитывается.\n",
    "Добавлена категория с этажом. Многие не хотят покупать квартиры на первом и последнем этаже. Следовательно в объявлении ставят цену ниже, чтобы повысить шанс продажи. Что бы, при необходимости выявить жту зависимость, поможет категория."
   ]
  },
  {
   "cell_type": "code",
   "execution_count": 64,
   "metadata": {},
   "outputs": [
    {
     "data": {
      "text/html": [
       "<div>\n",
       "<style scoped>\n",
       "    .dataframe tbody tr th:only-of-type {\n",
       "        vertical-align: middle;\n",
       "    }\n",
       "\n",
       "    .dataframe tbody tr th {\n",
       "        vertical-align: top;\n",
       "    }\n",
       "\n",
       "    .dataframe thead th {\n",
       "        text-align: right;\n",
       "    }\n",
       "</style>\n",
       "<table border=\"1\" class=\"dataframe\">\n",
       "  <thead>\n",
       "    <tr style=\"text-align: right;\">\n",
       "      <th></th>\n",
       "      <th>total_images</th>\n",
       "      <th>last_price</th>\n",
       "      <th>total_area</th>\n",
       "      <th>rooms</th>\n",
       "      <th>ceiling_height</th>\n",
       "      <th>floors_total</th>\n",
       "      <th>living_area</th>\n",
       "      <th>floor</th>\n",
       "      <th>kitchen_area</th>\n",
       "      <th>balcony</th>\n",
       "      <th>...</th>\n",
       "      <th>parks_around_3000</th>\n",
       "      <th>parks_nearest</th>\n",
       "      <th>ponds_around_3000</th>\n",
       "      <th>ponds_nearest</th>\n",
       "      <th>days_exposition</th>\n",
       "      <th>price_per_sqm</th>\n",
       "      <th>day_of_week</th>\n",
       "      <th>month</th>\n",
       "      <th>year</th>\n",
       "      <th>city_centers_nearest_km</th>\n",
       "    </tr>\n",
       "  </thead>\n",
       "  <tbody>\n",
       "    <tr>\n",
       "      <th>count</th>\n",
       "      <td>23555.000000</td>\n",
       "      <td>23555.000000</td>\n",
       "      <td>23555.000000</td>\n",
       "      <td>23555.000000</td>\n",
       "      <td>23555.00000</td>\n",
       "      <td>23555.000000</td>\n",
       "      <td>21690.000000</td>\n",
       "      <td>23555.000000</td>\n",
       "      <td>21335.000000</td>\n",
       "      <td>23555.000000</td>\n",
       "      <td>...</td>\n",
       "      <td>18056.000000</td>\n",
       "      <td>8024.000000</td>\n",
       "      <td>18056.000000</td>\n",
       "      <td>9030.000000</td>\n",
       "      <td>20384.000000</td>\n",
       "      <td>2.355500e+04</td>\n",
       "      <td>23555.000000</td>\n",
       "      <td>23555.000000</td>\n",
       "      <td>23555.000000</td>\n",
       "      <td>18055.000000</td>\n",
       "    </tr>\n",
       "    <tr>\n",
       "      <th>mean</th>\n",
       "      <td>9.877521</td>\n",
       "      <td>6491.326003</td>\n",
       "      <td>60.274831</td>\n",
       "      <td>2.070176</td>\n",
       "      <td>2.69811</td>\n",
       "      <td>10.669667</td>\n",
       "      <td>34.431297</td>\n",
       "      <td>5.875738</td>\n",
       "      <td>10.555273</td>\n",
       "      <td>0.593759</td>\n",
       "      <td>...</td>\n",
       "      <td>0.611376</td>\n",
       "      <td>490.548106</td>\n",
       "      <td>0.769052</td>\n",
       "      <td>518.356257</td>\n",
       "      <td>180.774088</td>\n",
       "      <td>9.931979e+04</td>\n",
       "      <td>15.481639</td>\n",
       "      <td>6.400849</td>\n",
       "      <td>2017.370919</td>\n",
       "      <td>14.185655</td>\n",
       "    </tr>\n",
       "    <tr>\n",
       "      <th>std</th>\n",
       "      <td>5.680976</td>\n",
       "      <td>9356.312989</td>\n",
       "      <td>35.170461</td>\n",
       "      <td>1.076330</td>\n",
       "      <td>0.23711</td>\n",
       "      <td>6.578946</td>\n",
       "      <td>21.852356</td>\n",
       "      <td>4.868123</td>\n",
       "      <td>5.856910</td>\n",
       "      <td>0.960714</td>\n",
       "      <td>...</td>\n",
       "      <td>0.802034</td>\n",
       "      <td>341.654043</td>\n",
       "      <td>0.938276</td>\n",
       "      <td>278.031185</td>\n",
       "      <td>219.770978</td>\n",
       "      <td>4.893893e+04</td>\n",
       "      <td>8.635129</td>\n",
       "      <td>3.493120</td>\n",
       "      <td>1.037512</td>\n",
       "      <td>8.618715</td>\n",
       "    </tr>\n",
       "    <tr>\n",
       "      <th>min</th>\n",
       "      <td>0.000000</td>\n",
       "      <td>430.000000</td>\n",
       "      <td>12.000000</td>\n",
       "      <td>0.000000</td>\n",
       "      <td>2.00000</td>\n",
       "      <td>1.000000</td>\n",
       "      <td>2.000000</td>\n",
       "      <td>1.000000</td>\n",
       "      <td>1.300000</td>\n",
       "      <td>0.000000</td>\n",
       "      <td>...</td>\n",
       "      <td>0.000000</td>\n",
       "      <td>1.000000</td>\n",
       "      <td>0.000000</td>\n",
       "      <td>13.000000</td>\n",
       "      <td>1.000000</td>\n",
       "      <td>7.962960e+03</td>\n",
       "      <td>1.000000</td>\n",
       "      <td>1.000000</td>\n",
       "      <td>2014.000000</td>\n",
       "      <td>0.000000</td>\n",
       "    </tr>\n",
       "    <tr>\n",
       "      <th>25%</th>\n",
       "      <td>6.000000</td>\n",
       "      <td>3400.000000</td>\n",
       "      <td>40.000000</td>\n",
       "      <td>1.000000</td>\n",
       "      <td>2.60000</td>\n",
       "      <td>5.000000</td>\n",
       "      <td>18.600000</td>\n",
       "      <td>2.000000</td>\n",
       "      <td>7.000000</td>\n",
       "      <td>0.000000</td>\n",
       "      <td>...</td>\n",
       "      <td>0.000000</td>\n",
       "      <td>288.000000</td>\n",
       "      <td>0.000000</td>\n",
       "      <td>293.000000</td>\n",
       "      <td>45.000000</td>\n",
       "      <td>7.656432e+04</td>\n",
       "      <td>8.000000</td>\n",
       "      <td>3.000000</td>\n",
       "      <td>2017.000000</td>\n",
       "      <td>9.000000</td>\n",
       "    </tr>\n",
       "    <tr>\n",
       "      <th>50%</th>\n",
       "      <td>9.000000</td>\n",
       "      <td>4646.000000</td>\n",
       "      <td>52.000000</td>\n",
       "      <td>2.000000</td>\n",
       "      <td>2.65000</td>\n",
       "      <td>9.000000</td>\n",
       "      <td>30.000000</td>\n",
       "      <td>4.000000</td>\n",
       "      <td>9.100000</td>\n",
       "      <td>0.000000</td>\n",
       "      <td>...</td>\n",
       "      <td>0.000000</td>\n",
       "      <td>455.000000</td>\n",
       "      <td>1.000000</td>\n",
       "      <td>503.000000</td>\n",
       "      <td>95.000000</td>\n",
       "      <td>9.500000e+04</td>\n",
       "      <td>15.000000</td>\n",
       "      <td>6.000000</td>\n",
       "      <td>2017.000000</td>\n",
       "      <td>13.000000</td>\n",
       "    </tr>\n",
       "    <tr>\n",
       "      <th>75%</th>\n",
       "      <td>14.000000</td>\n",
       "      <td>6790.000000</td>\n",
       "      <td>69.700000</td>\n",
       "      <td>3.000000</td>\n",
       "      <td>2.70000</td>\n",
       "      <td>16.000000</td>\n",
       "      <td>42.300000</td>\n",
       "      <td>8.000000</td>\n",
       "      <td>12.000000</td>\n",
       "      <td>1.000000</td>\n",
       "      <td>...</td>\n",
       "      <td>1.000000</td>\n",
       "      <td>612.000000</td>\n",
       "      <td>1.000000</td>\n",
       "      <td>730.000000</td>\n",
       "      <td>231.000000</td>\n",
       "      <td>1.142132e+05</td>\n",
       "      <td>23.000000</td>\n",
       "      <td>10.000000</td>\n",
       "      <td>2018.000000</td>\n",
       "      <td>16.000000</td>\n",
       "    </tr>\n",
       "    <tr>\n",
       "      <th>max</th>\n",
       "      <td>50.000000</td>\n",
       "      <td>401300.000000</td>\n",
       "      <td>631.200000</td>\n",
       "      <td>19.000000</td>\n",
       "      <td>10.00000</td>\n",
       "      <td>36.000000</td>\n",
       "      <td>409.000000</td>\n",
       "      <td>33.000000</td>\n",
       "      <td>107.000000</td>\n",
       "      <td>5.000000</td>\n",
       "      <td>...</td>\n",
       "      <td>3.000000</td>\n",
       "      <td>3190.000000</td>\n",
       "      <td>3.000000</td>\n",
       "      <td>1344.000000</td>\n",
       "      <td>1580.000000</td>\n",
       "      <td>1.736842e+06</td>\n",
       "      <td>31.000000</td>\n",
       "      <td>12.000000</td>\n",
       "      <td>2019.000000</td>\n",
       "      <td>66.000000</td>\n",
       "    </tr>\n",
       "  </tbody>\n",
       "</table>\n",
       "<p>8 rows × 22 columns</p>\n",
       "</div>"
      ],
      "text/plain": [
       "       total_images     last_price    total_area         rooms  \\\n",
       "count  23555.000000   23555.000000  23555.000000  23555.000000   \n",
       "mean       9.877521    6491.326003     60.274831      2.070176   \n",
       "std        5.680976    9356.312989     35.170461      1.076330   \n",
       "min        0.000000     430.000000     12.000000      0.000000   \n",
       "25%        6.000000    3400.000000     40.000000      1.000000   \n",
       "50%        9.000000    4646.000000     52.000000      2.000000   \n",
       "75%       14.000000    6790.000000     69.700000      3.000000   \n",
       "max       50.000000  401300.000000    631.200000     19.000000   \n",
       "\n",
       "       ceiling_height  floors_total   living_area         floor  kitchen_area  \\\n",
       "count     23555.00000  23555.000000  21690.000000  23555.000000  21335.000000   \n",
       "mean          2.69811     10.669667     34.431297      5.875738     10.555273   \n",
       "std           0.23711      6.578946     21.852356      4.868123      5.856910   \n",
       "min           2.00000      1.000000      2.000000      1.000000      1.300000   \n",
       "25%           2.60000      5.000000     18.600000      2.000000      7.000000   \n",
       "50%           2.65000      9.000000     30.000000      4.000000      9.100000   \n",
       "75%           2.70000     16.000000     42.300000      8.000000     12.000000   \n",
       "max          10.00000     36.000000    409.000000     33.000000    107.000000   \n",
       "\n",
       "            balcony  ...  parks_around_3000  parks_nearest  ponds_around_3000  \\\n",
       "count  23555.000000  ...       18056.000000    8024.000000       18056.000000   \n",
       "mean       0.593759  ...           0.611376     490.548106           0.769052   \n",
       "std        0.960714  ...           0.802034     341.654043           0.938276   \n",
       "min        0.000000  ...           0.000000       1.000000           0.000000   \n",
       "25%        0.000000  ...           0.000000     288.000000           0.000000   \n",
       "50%        0.000000  ...           0.000000     455.000000           1.000000   \n",
       "75%        1.000000  ...           1.000000     612.000000           1.000000   \n",
       "max        5.000000  ...           3.000000    3190.000000           3.000000   \n",
       "\n",
       "       ponds_nearest  days_exposition  price_per_sqm   day_of_week  \\\n",
       "count    9030.000000     20384.000000   2.355500e+04  23555.000000   \n",
       "mean      518.356257       180.774088   9.931979e+04     15.481639   \n",
       "std       278.031185       219.770978   4.893893e+04      8.635129   \n",
       "min        13.000000         1.000000   7.962960e+03      1.000000   \n",
       "25%       293.000000        45.000000   7.656432e+04      8.000000   \n",
       "50%       503.000000        95.000000   9.500000e+04     15.000000   \n",
       "75%       730.000000       231.000000   1.142132e+05     23.000000   \n",
       "max      1344.000000      1580.000000   1.736842e+06     31.000000   \n",
       "\n",
       "              month          year  city_centers_nearest_km  \n",
       "count  23555.000000  23555.000000             18055.000000  \n",
       "mean       6.400849   2017.370919                14.185655  \n",
       "std        3.493120      1.037512                 8.618715  \n",
       "min        1.000000   2014.000000                 0.000000  \n",
       "25%        3.000000   2017.000000                 9.000000  \n",
       "50%        6.000000   2017.000000                13.000000  \n",
       "75%       10.000000   2018.000000                16.000000  \n",
       "max       12.000000   2019.000000                66.000000  \n",
       "\n",
       "[8 rows x 22 columns]"
      ]
     },
     "execution_count": 64,
     "metadata": {},
     "output_type": "execute_result"
    }
   ],
   "source": [
    "data.describe()"
   ]
  },
  {
   "cell_type": "markdown",
   "metadata": {},
   "source": [
    "**Изучим данные общей площади квартиры.**"
   ]
  },
  {
   "cell_type": "code",
   "execution_count": 42,
   "metadata": {},
   "outputs": [
    {
     "data": {
      "image/png": "[encoded data removed]",
      "text/plain": [
       "<Figure size 720x432 with 1 Axes>"
      ]
     },
     "metadata": {
      "needs_background": "light"
     },
     "output_type": "display_data"
    }
   ],
   "source": [
    "plt.figure(figsize=(10, 6))\n",
    "plt.hist(data['total_area'], bins=30, alpha=0.7, color='pink')\n",
    "plt.title('Общая площадь квартиры')\n",
    "plt.xlabel('Общая площадь (м²)')\n",
    "plt.ylabel('Количество')\n",
    "plt.show()"
   ]
  },
  {
   "cell_type": "markdown",
   "metadata": {},
   "source": [
    "Большую часть занимают квартиры общей площадью примерно от 40 до 70 квадратных метров. Квартиры площадью более 100 квадратных метров продают гораздо реже."
   ]
  },
  {
   "cell_type": "markdown",
   "metadata": {},
   "source": [
    "**Изучим жилую площадь квартиры.**"
   ]
  },
  {
   "cell_type": "code",
   "execution_count": 43,
   "metadata": {},
   "outputs": [
    {
     "data": {
      "image/png": "[encoded data removed]",
      "text/plain": [
       "<Figure size 720x432 with 1 Axes>"
      ]
     },
     "metadata": {
      "needs_background": "light"
     },
     "output_type": "display_data"
    }
   ],
   "source": [
    "plt.figure(figsize=(10, 6))\n",
    "plt.hist(data['living_area'], bins=30, alpha=0.7, color='pink')\n",
    "plt.title('Жилая площадь квартиры')\n",
    "plt.xlabel('Жилая площадь (м²)')\n",
    "plt.ylabel('Количество')\n",
    "plt.show()"
   ]
  },
  {
   "cell_type": "markdown",
   "metadata": {},
   "source": [
    "Жилая площадь квартир в основном от 20 до 50 квадратных метров."
   ]
  },
  {
   "cell_type": "markdown",
   "metadata": {},
   "source": [
    "**Изучим площадь кухни.**"
   ]
  },
  {
   "cell_type": "code",
   "execution_count": 44,
   "metadata": {},
   "outputs": [
    {
     "data": {
      "image/png": "[encoded data removed]",
      "text/plain": [
       "<Figure size 720x432 with 1 Axes>"
      ]
     },
     "metadata": {
      "needs_background": "light"
     },
     "output_type": "display_data"
    }
   ],
   "source": [
    "plt.figure(figsize=(10, 6))\n",
    "plt.hist(data['kitchen_area'], bins=30, alpha=0.7, color='pink')\n",
    "plt.title('Площадь кухни')\n",
    "plt.xlabel('Площадь кухни (м²)')\n",
    "plt.ylabel('Количество')\n",
    "plt.show()"
   ]
  },
  {
   "cell_type": "markdown",
   "metadata": {},
   "source": [
    "Площадь кухни, как правило, занимает от 5 до 12 квадратных метров. Чем больше площадь, тем меньше объявлений.  \n",
    "При этом кухни площадью менее 5 квадратных метров так же менее распространены. Можно предположить, что они находятся в квартирах студиях."
   ]
  },
  {
   "cell_type": "markdown",
   "metadata": {},
   "source": [
    "**Изучим цену объекта.**"
   ]
  },
  {
   "cell_type": "code",
   "execution_count": 45,
   "metadata": {},
   "outputs": [
    {
     "data": {
      "image/png": "[encoded data removed]",
      "text/plain": [
       "<Figure size 720x432 with 1 Axes>"
      ]
     },
     "metadata": {
      "needs_background": "light"
     },
     "output_type": "display_data"
    }
   ],
   "source": [
    "data['last_price'] = round(data['last_price'] / 1000, 0).astype(int)\n",
    "plt.figure(figsize=(10, 6))\n",
    "plt.hist(data['last_price'], bins=1000, range=(0, 30000), color='pink')\n",
    "plt.title('Цена объекта')\n",
    "plt.xlabel('Стоимость')\n",
    "plt.ylabel('Количество')\n",
    "plt.show()"
   ]
  },
  {
   "cell_type": "markdown",
   "metadata": {},
   "source": [
    "В основном квартиры продавались по цене от 5 до 15 миллионов рублей.  \n",
    "Для визуализации данные были разделены на 1000."
   ]
  },
  {
   "cell_type": "markdown",
   "metadata": {},
   "source": [
    "**Изучим количество комнат.**"
   ]
  },
  {
   "cell_type": "code",
   "execution_count": 46,
   "metadata": {},
   "outputs": [
    {
     "data": {
      "image/png": "[encoded data removed]",
      "text/plain": [
       "<Figure size 720x432 with 1 Axes>"
      ]
     },
     "metadata": {
      "needs_background": "light"
     },
     "output_type": "display_data"
    }
   ],
   "source": [
    "plt.figure(figsize=(10, 6))\n",
    "plt.hist(data['rooms'], bins=10, alpha=0.7, color='pink')\n",
    "plt.title('Количество комнат')\n",
    "plt.xlabel('Количество комнат')\n",
    "plt.ylabel('Количество')\n",
    "plt.show()"
   ]
  },
  {
   "cell_type": "markdown",
   "metadata": {},
   "source": [
    "Основную часть занимают квартиры от 1 до 3 комнат. Квартир с большим количеством комнат  значительно меньше."
   ]
  },
  {
   "cell_type": "markdown",
   "metadata": {},
   "source": [
    "**Изучим высоту потолков.**"
   ]
  },
  {
   "cell_type": "code",
   "execution_count": 47,
   "metadata": {},
   "outputs": [
    {
     "data": {
      "image/png": "[encoded data removed]",
      "text/plain": [
       "<Figure size 720x432 with 1 Axes>"
      ]
     },
     "metadata": {
      "needs_background": "light"
     },
     "output_type": "display_data"
    }
   ],
   "source": [
    "plt.figure(figsize=(10, 6))\n",
    "plt.hist(data['ceiling_height'], bins=10, alpha=0.7, color='pink')\n",
    "plt.title('Высота потолков')\n",
    "plt.xlabel('Высота потолков (м)')\n",
    "plt.ylabel('Количество')\n",
    "plt.show()"
   ]
  },
  {
   "cell_type": "markdown",
   "metadata": {},
   "source": [
    "Стандартная высота потолков для большинства квартир от 2,5 до 2,8 метров."
   ]
  },
  {
   "cell_type": "markdown",
   "metadata": {},
   "source": [
    "**Изучим тип этажа квартиры.**"
   ]
  },
  {
   "cell_type": "code",
   "execution_count": 48,
   "metadata": {},
   "outputs": [
    {
     "data": {
      "image/png": "[encoded data removed]",
      "text/plain": [
       "<Figure size 720x432 with 1 Axes>"
      ]
     },
     "metadata": {
      "needs_background": "light"
     },
     "output_type": "display_data"
    }
   ],
   "source": [
    "floor_type_counts = data['floor_type'].value_counts()\n",
    "\n",
    "plt.figure(figsize=(10, 6))\n",
    "plt.bar(floor_type_counts.index, floor_type_counts.values, color='pink')\n",
    "plt.title('Распределение типов этажей')\n",
    "plt.xlabel('Тип этажа')\n",
    "plt.ylabel('Количество')\n",
    "plt.show()"
   ]
  },
  {
   "cell_type": "markdown",
   "metadata": {},
   "source": [
    "Квартиры на первом и последнем этажах пользуются меньшей популярность, чем квартиры на других этажах."
   ]
  },
  {
   "cell_type": "markdown",
   "metadata": {},
   "source": [
    "**Изучим общее количество этажей в доме.**"
   ]
  },
  {
   "cell_type": "code",
   "execution_count": 49,
   "metadata": {},
   "outputs": [
    {
     "data": {
      "image/png": "[encoded data removed]",
      "text/plain": [
       "<Figure size 720x432 with 1 Axes>"
      ]
     },
     "metadata": {
      "needs_background": "light"
     },
     "output_type": "display_data"
    }
   ],
   "source": [
    "plt.figure(figsize=(10, 6))\n",
    "plt.hist(data['floors_total'], bins=10, alpha=0.7, color='pink')\n",
    "plt.title('Общее количество этажей в доме')\n",
    "plt.xlabel('Общее количество этажей')\n",
    "plt.ylabel('Количество')\n",
    "plt.show()"
   ]
  },
  {
   "cell_type": "markdown",
   "metadata": {},
   "source": [
    "Покупатели отдают предпочтения домам, в которых от 5 до 12 этажей. "
   ]
  },
  {
   "cell_type": "markdown",
   "metadata": {},
   "source": [
    "**Изучим расстояние до центра города в метрах.**"
   ]
  },
  {
   "cell_type": "code",
   "execution_count": 50,
   "metadata": {},
   "outputs": [
    {
     "data": {
      "image/png": "[encoded data removed]",
      "text/plain": [
       "<Figure size 720x432 with 1 Axes>"
      ]
     },
     "metadata": {
      "needs_background": "light"
     },
     "output_type": "display_data"
    }
   ],
   "source": [
    "plt.figure(figsize=(10, 6))\n",
    "plt.hist(data['city_centers_nearest'], bins=30, alpha=0.7, color='pink')\n",
    "plt.title('Расстояние до центра города')\n",
    "plt.xlabel('Расстояние до центра города (м)')\n",
    "plt.ylabel('Количество')\n",
    "plt.show()"
   ]
  },
  {
   "cell_type": "markdown",
   "metadata": {},
   "source": [
    "Квартиры в радиусе от 8 до 18 километров от центра продают чаще. Квартиры в радиусе 40 и 60 километров от центра продают гораздо реже."
   ]
  },
  {
   "cell_type": "markdown",
   "metadata": {},
   "source": [
    "**Изучим расстояние до ближайшего парка.**"
   ]
  },
  {
   "cell_type": "code",
   "execution_count": 51,
   "metadata": {},
   "outputs": [
    {
     "data": {
      "image/png": "[encoded data removed]",
      "text/plain": [
       "<Figure size 720x432 with 1 Axes>"
      ]
     },
     "metadata": {
      "needs_background": "light"
     },
     "output_type": "display_data"
    }
   ],
   "source": [
    "plt.figure(figsize=(10, 6))\n",
    "plt.hist(data['parks_around_3000'], bins=30, alpha=0.7, color='pink')\n",
    "plt.title('Расстояние до ближайшего парка')\n",
    "plt.xlabel('Расстояние до ближайшего парка')\n",
    "plt.ylabel('Количество')\n",
    "plt.show()"
   ]
  },
  {
   "cell_type": "markdown",
   "metadata": {},
   "source": [
    "Парки рядом с квартирами либо отсутсвуют либо находятся в 1 километре от дома."
   ]
  },
  {
   "cell_type": "markdown",
   "metadata": {},
   "source": [
    "**4.2 Изучим, как быстро продавались квартиры.**"
   ]
  },
  {
   "cell_type": "code",
   "execution_count": 52,
   "metadata": {},
   "outputs": [
    {
     "data": {
      "image/png": "[encoded data removed]",
      "text/plain": [
       "<Figure size 432x288 with 1 Axes>"
      ]
     },
     "metadata": {
      "needs_background": "light"
     },
     "output_type": "display_data"
    }
   ],
   "source": [
    "data['days_exposition'].hist(bins=30, alpha=0.5)\n",
    "plt.xlabel('Дни размещения')\n",
    "plt.ylabel('Количество объявлений')\n",
    "plt.title('Гистограмма срока размещения объявлений')\n",
    "plt.show()"
   ]
  },
  {
   "cell_type": "code",
   "execution_count": 53,
   "metadata": {},
   "outputs": [
    {
     "data": {
      "text/plain": [
       "count    20384.000000\n",
       "mean       180.774088\n",
       "std        219.770978\n",
       "min          1.000000\n",
       "25%         45.000000\n",
       "50%         95.000000\n",
       "75%        231.000000\n",
       "max       1580.000000\n",
       "Name: days_exposition, dtype: float64"
      ]
     },
     "metadata": {},
     "output_type": "display_data"
    }
   ],
   "source": [
    "description = data['days_exposition'].describe()\n",
    "display(description)"
   ]
  },
  {
   "cell_type": "markdown",
   "metadata": {},
   "source": [
    "Медиана количества дней размещения объявлений равна 180 дням.\n",
    "Продажи, занимающие меньше 45 дней, можно считать быстрыми, а продажи, занимающие более 95 - долгими. Однако, учитывая наши данные, можно заметить, что большинство продаж происходит в диапазоне до 95 дней. Это указывает на то, что большинство квартир продаются в течение относительно короткого времени, но есть и исключения, которые занимают значительно больше времени.  "
   ]
  },
  {
   "cell_type": "markdown",
   "metadata": {},
   "source": [
    "**4.3 Изучим зависимость цены от других факторов.**"
   ]
  },
  {
   "cell_type": "markdown",
   "metadata": {},
   "source": [
    "4.3.1 Зависимость от общей площади квартиры."
   ]
  },
  {
   "cell_type": "code",
   "execution_count": 54,
   "metadata": {},
   "outputs": [
    {
     "data": {
      "image/png": "[encoded data removed]",
      "text/plain": [
       "<Figure size 432x288 with 1 Axes>"
      ]
     },
     "metadata": {
      "needs_background": "light"
     },
     "output_type": "display_data"
    },
    {
     "data": {
      "text/plain": [
       "0.6951567833788871"
      ]
     },
     "metadata": {},
     "output_type": "display_data"
    }
   ],
   "source": [
    "data.plot(x='last_price', y='total_area', kind='scatter', alpha=0.3) \n",
    "plt.xlabel('Общая площадь')\n",
    "plt.ylabel('Количество покупок')\n",
    "plt.title('Зависимость стоимости от общей площади')\n",
    "plt.show()\n",
    "\n",
    "display(data['last_price'].corr(data['total_area']))"
   ]
  },
  {
   "cell_type": "markdown",
   "metadata": {},
   "source": [
    "На данном графике видим, что, чем больше площадь квартиры, тем выше цена. При этом большую часть недвижимости занимают квартиры с площадью примерно 45 квадратных метров."
   ]
  },
  {
   "cell_type": "markdown",
   "metadata": {},
   "source": [
    "4.3.2 Зависимость от жилой прощади."
   ]
  },
  {
   "cell_type": "code",
   "execution_count": 55,
   "metadata": {},
   "outputs": [
    {
     "data": {
      "image/png": "[encoded data removed]",
      "text/plain": [
       "<Figure size 432x288 with 1 Axes>"
      ]
     },
     "metadata": {
      "needs_background": "light"
     },
     "output_type": "display_data"
    },
    {
     "data": {
      "text/plain": [
       "0.6046712163390315"
      ]
     },
     "metadata": {},
     "output_type": "display_data"
    }
   ],
   "source": [
    "data.plot(y='living_area', x='last_price', kind='scatter', alpha=0.3) \n",
    "plt.xlabel('Жилая площадь')\n",
    "plt.ylabel('Количество покупок')\n",
    "plt.title('Зависимость стоимости от жилой прощади')\n",
    "plt.show()\n",
    "\n",
    "display(data['last_price'].corr(data['living_area']))"
   ]
  },
  {
   "cell_type": "markdown",
   "metadata": {},
   "source": [
    "На данном графике так же видна зависимость цены от жилой прощади. "
   ]
  },
  {
   "cell_type": "markdown",
   "metadata": {},
   "source": [
    "4.3.3 Зависимость от площади кухни."
   ]
  },
  {
   "cell_type": "code",
   "execution_count": 56,
   "metadata": {},
   "outputs": [
    {
     "data": {
      "image/png": "[encoded data removed]",
      "text/plain": [
       "<Figure size 432x288 with 1 Axes>"
      ]
     },
     "metadata": {
      "needs_background": "light"
     },
     "output_type": "display_data"
    },
    {
     "data": {
      "text/plain": [
       "0.5121324463514977"
      ]
     },
     "metadata": {},
     "output_type": "display_data"
    }
   ],
   "source": [
    "data.plot(y='kitchen_area', x='last_price', kind='scatter', alpha=0.3)\n",
    "plt.xlabel('Площадь кухни')\n",
    "plt.ylabel('Количество покупок')\n",
    "plt.title('Зависимость стоимости от площади кухни')\n",
    "plt.show()\n",
    "\n",
    "display(data['last_price'].corr(data['kitchen_area']))"
   ]
  },
  {
   "cell_type": "markdown",
   "metadata": {},
   "source": [
    "Так же, как и на прошлых графиках, мы видим, что площадь кухни влияет на стоимость."
   ]
  },
  {
   "cell_type": "markdown",
   "metadata": {},
   "source": [
    "4.3.4 Зависимость от количества комнат."
   ]
  },
  {
   "cell_type": "code",
   "execution_count": 57,
   "metadata": {},
   "outputs": [
    {
     "data": {
      "image/png": "[encoded data removed]",
      "text/plain": [
       "<Figure size 432x288 with 1 Axes>"
      ]
     },
     "metadata": {
      "needs_background": "light"
     },
     "output_type": "display_data"
    },
    {
     "data": {
      "text/plain": [
       "0.39154389422633107"
      ]
     },
     "metadata": {},
     "output_type": "display_data"
    }
   ],
   "source": [
    "data.plot(x='last_price', y='rooms', kind='scatter', alpha=0.3)\n",
    "plt.xlabel('Количество покупок')\n",
    "plt.ylabel('Количество комнат')\n",
    "plt.title('Зависимость стоимости от количества комнат')\n",
    "plt.show()\n",
    "\n",
    "display(data['last_price'].corr(data['rooms']))"
   ]
  },
  {
   "cell_type": "markdown",
   "metadata": {},
   "source": [
    "На данном графике есть незначительная зависимость стоимости от количества комнат. Можно сделать вывод, что на стоимость вляют другие факторы. Например, площадь или расположение."
   ]
  },
  {
   "cell_type": "markdown",
   "metadata": {},
   "source": [
    "4.3.5 Зависимость от этажа."
   ]
  },
  {
   "cell_type": "code",
   "execution_count": 58,
   "metadata": {},
   "outputs": [
    {
     "data": {
      "image/png": "[encoded data removed]",
      "text/plain": [
       "<Figure size 432x288 with 1 Axes>"
      ]
     },
     "metadata": {
      "needs_background": "light"
     },
     "output_type": "display_data"
    }
   ],
   "source": [
    "plt.hist(data['floor_type'], bins=10, alpha=0.5)\n",
    "plt.xlabel('Этаж')\n",
    "plt.ylabel('Количество покупок')\n",
    "plt.title('Зависимость стоимости от этажа')\n",
    "plt.show()"
   ]
  },
  {
   "cell_type": "markdown",
   "metadata": {},
   "source": [
    "На этом графике видно, что первый и последний этаж не пользуются популярностью. Отказ покупать квартиру на первом этаже можно обосновать подвалом под квартирой - будет сырость или насекомые. Квартира на последнем этаже может быть затоплена, если будут проблемы с крышей. К обоим вариантам так же можно отнести воровство. Грабители могут залезть с улицы или с крыши.\n",
    "Чтобы снизить риск для себя и своего жилья, люди покупают квартиры на других этажах."
   ]
  },
  {
   "cell_type": "markdown",
   "metadata": {},
   "source": [
    "4.3.6 Зависимость от даты размещения объявления."
   ]
  },
  {
   "cell_type": "code",
   "execution_count": 59,
   "metadata": {},
   "outputs": [
    {
     "data": {
      "image/png": "[encoded data removed]",
      "text/plain": [
       "<Figure size 432x288 with 1 Axes>"
      ]
     },
     "metadata": {
      "needs_background": "light"
     },
     "output_type": "display_data"
    }
   ],
   "source": [
    "data.plot(x='first_day_exposition', y='last_price', kind='scatter', alpha=0.3) \n",
    "plt.xlabel('Дата объявления')\n",
    "plt.ylabel('Количество покупок')\n",
    "plt.title('Зависимость стоимости от даты объявления')\n",
    "plt.show()"
   ]
  },
  {
   "cell_type": "markdown",
   "metadata": {},
   "source": [
    "На графике видно, что c каждым годом объявления о продаже квартиры становятся более актуальны. Квартиры стали чаще размещаться на продажу и соответственно покупаться. Всплеск может быть связан с ростом стоимости."
   ]
  },
  {
   "cell_type": "markdown",
   "metadata": {},
   "source": [
    "**4.4 Посчитаем среднюю цену одного квадратного метра в 10 населённых пунктах с наибольшим числом объявлений.**"
   ]
  },
  {
   "cell_type": "code",
   "execution_count": 60,
   "metadata": {},
   "outputs": [
    {
     "data": {
      "image/png": "[encoded data removed]",
      "text/plain": [
       "<Figure size 432x288 with 1 Axes>"
      ]
     },
     "metadata": {
      "needs_background": "light"
     },
     "output_type": "display_data"
    }
   ],
   "source": [
    "top_localities = data['locality_name'].value_counts().head(10).index\n",
    "\n",
    "data_filtered = data[data['locality_name'].isin(top_localities)]\n",
    "\n",
    "average_price_per_sqm = data_filtered.groupby('locality_name')['price_per_sqm'].mean()\n",
    "\n",
    "average_price_per_sqm.plot(kind='bar', alpha=0.5)\n",
    "plt.xlabel('Населённый пункт')\n",
    "plt.ylabel('Средняя цена за кв метр')\n",
    "plt.title('Средние цены за квадратный метр для топ-10 местностей')\n",
    "plt.show()"
   ]
  },
  {
   "cell_type": "markdown",
   "metadata": {},
   "source": [
    "На графике видно, что максимальная стоимость квадратного метра в Санкт-Петербурге. По мере дальности от центра города стоимость снижается."
   ]
  },
  {
   "cell_type": "markdown",
   "metadata": {},
   "source": [
    "**5.5 Посчитаем среднюю стоимость квартир в Санкт-Петербурге с зависимости от расстояния от центра города.**"
   ]
  },
  {
   "cell_type": "code",
   "execution_count": 61,
   "metadata": {},
   "outputs": [
    {
     "data": {
      "image/png": "[encoded data removed]",
      "text/plain": [
       "<Figure size 432x288 with 1 Axes>"
      ]
     },
     "metadata": {
      "needs_background": "light"
     },
     "output_type": "display_data"
    }
   ],
   "source": [
    "data_spb = data[data['locality_name'] == 'Санкт-Петербург']\n",
    "\n",
    "average_price_per_km = data_spb.groupby('city_centers_nearest_km')['price_per_sqm'].mean()\n",
    "\n",
    "average_price_per_km.plot(kind='bar', alpha=0.5)\n",
    "plt.xlabel('Расстояние от центра (км)')\n",
    "plt.ylabel('Средняя цена за кв метр')\n",
    "plt.title('Средняя цена квартир в Санкт-Петербурге в зависимости от расстояния от центра')\n",
    "plt.show()"
   ]
  },
  {
   "cell_type": "markdown",
   "metadata": {},
   "source": [
    "В двух километрах от центра Питера самая высокая стоимость за квадратный метр жилья. При этом есть скачки в стоимости по мере отдаления от центра. \n",
    "Зависимость от расстояния от центра есть. При этом на стоимость влияют и сторонние факторы, из-за которых в первые 7 км происходят скачки."
   ]
  },
  {
   "cell_type": "markdown",
   "metadata": {
    "id": "h7VpzkIDAwb-"
   },
   "source": [
    "### Напишите общий вывод"
   ]
  },
  {
   "cell_type": "markdown",
   "metadata": {
    "id": "3H4lnp_KAwb-"
   },
   "source": [
    "Для проведения анализа первым этапом были скорректированы данные датафрейма: \n",
    "* Названия колонок были приведены к единому стилю.  \n",
    "* Заполнены пропуски.\n",
    "* Скорректировали тип данных, так как они не соответствовали.  \n",
    "* Указали булевы значения, формат даты и целочисленные значения.  \n",
    "* Убрали дубликаты в названиях населенных пунктов и привели их к единому стилю.  \n",
    "* Удалили выбивающиеся и редкие значения.\n",
    "* Добавили столбцы с днем, месяцем и годом, что позволяет при необходимости отфильтровать по нужому параметру.  \n",
    "* Так же добавлена категория с этажом. \n",
    "* Расстояние до центра переведено в киллометры для удобства восприятия и анализа.  \n",
    "\n",
    "\n",
    "После предобработки данных выяснено, что:\n",
    "* Общая площадь квартир на продажу в основном от 40 до 70 квадратных метров. Жилая площадь от 20 до 50 квадратных метров, а кухня от 5 до 12.\n",
    "* Большую долю составляют квартиры с 1-3 комнатами. С высотой потолков от 2,5 до 2,8 метров.\n",
    "* Как правило, в доме до 20 этажей. В приоритете покупают квартиры, которые не находятся на 1 и последнем этажах.  \n",
    "* Квартиры в радиусе от 8 до 18 километров от центра продают чаще.\n",
    "* Ближайший парк находится в радиусе 1 километра либо отсутствует вообще.\n",
    "* Большинство квартир продаются от 1 до 4 месяцев.  \n",
    "* Стоимость квартиры растет с увеличением жилой, общей и площадью кухни.    \n",
    "* С каждым годом потребность в приобритении жилья растет. Увеличивается количество объявлений и покупок.  \n",
    "* Лидером по стоимости жилья за квадратный метр является Санкт-Петербург. По мере отдаления от города стоимость снижается.  \n",
    "* В первые 7 км от центра в Санкт-Петербурге стоимость за квадратный метр занимает лидирующие позиции и далее спадает с периодическим незначительным возрастанием.\n"
   ]
  }
 ],
 "metadata": {
  "ExecuteTimeLog": [
   {
    "duration": 47,
    "start_time": "2024-03-01T06:24:31.215Z"
   },
   {
    "duration": 734,
    "start_time": "2024-03-01T06:24:47.353Z"
   },
   {
    "duration": 91,
    "start_time": "2024-03-01T06:25:00.012Z"
   },
   {
    "duration": 14,
    "start_time": "2024-03-01T06:25:18.873Z"
   },
   {
    "duration": 522,
    "start_time": "2024-03-01T06:25:51.070Z"
   },
   {
    "duration": 11,
    "start_time": "2024-03-01T06:25:59.817Z"
   },
   {
    "duration": 101,
    "start_time": "2024-03-01T06:26:25.681Z"
   },
   {
    "duration": 89,
    "start_time": "2024-03-01T06:26:34.410Z"
   },
   {
    "duration": 92,
    "start_time": "2024-03-01T06:26:35.591Z"
   },
   {
    "duration": 11,
    "start_time": "2024-03-01T06:26:38.531Z"
   },
   {
    "duration": 18,
    "start_time": "2024-03-01T06:27:24.404Z"
   },
   {
    "duration": 14,
    "start_time": "2024-03-01T06:27:27.159Z"
   },
   {
    "duration": 655,
    "start_time": "2024-03-01T06:31:02.461Z"
   },
   {
    "duration": 104,
    "start_time": "2024-03-01T06:31:05.825Z"
   },
   {
    "duration": 18,
    "start_time": "2024-03-01T06:31:07.621Z"
   },
   {
    "duration": 82,
    "start_time": "2024-03-01T06:31:59.644Z"
   },
   {
    "duration": 12,
    "start_time": "2024-03-01T06:33:11.383Z"
   },
   {
    "duration": 12,
    "start_time": "2024-03-01T06:33:22.013Z"
   },
   {
    "duration": 107,
    "start_time": "2024-03-01T06:39:24.576Z"
   },
   {
    "duration": 14,
    "start_time": "2024-03-01T06:39:27.249Z"
   },
   {
    "duration": 12,
    "start_time": "2024-03-01T06:40:40.631Z"
   },
   {
    "duration": 114,
    "start_time": "2024-03-01T07:21:02.624Z"
   },
   {
    "duration": 78,
    "start_time": "2024-03-01T07:21:26.448Z"
   },
   {
    "duration": 70,
    "start_time": "2024-03-01T07:21:34.066Z"
   },
   {
    "duration": 79,
    "start_time": "2024-03-01T07:21:49.616Z"
   },
   {
    "duration": 88,
    "start_time": "2024-03-01T07:22:04.745Z"
   },
   {
    "duration": 113,
    "start_time": "2024-03-01T07:25:09.361Z"
   },
   {
    "duration": 18,
    "start_time": "2024-03-01T07:25:14.866Z"
   },
   {
    "duration": 8,
    "start_time": "2024-03-01T07:25:54.787Z"
   },
   {
    "duration": 9,
    "start_time": "2024-03-01T07:26:07.084Z"
   },
   {
    "duration": 7,
    "start_time": "2024-03-01T07:26:28.775Z"
   },
   {
    "duration": 7,
    "start_time": "2024-03-01T07:26:53.536Z"
   },
   {
    "duration": 845,
    "start_time": "2024-03-01T07:36:14.825Z"
   },
   {
    "duration": 9,
    "start_time": "2024-03-01T07:36:59.159Z"
   },
   {
    "duration": 9,
    "start_time": "2024-03-01T07:37:09.182Z"
   },
   {
    "duration": 749,
    "start_time": "2024-03-01T07:41:58.148Z"
   },
   {
    "duration": 931,
    "start_time": "2024-03-01T07:48:56.735Z"
   },
   {
    "duration": 768,
    "start_time": "2024-03-01T07:49:11.869Z"
   },
   {
    "duration": 858,
    "start_time": "2024-03-01T07:50:41.189Z"
   },
   {
    "duration": 1506,
    "start_time": "2024-03-01T07:51:07.176Z"
   },
   {
    "duration": 2158,
    "start_time": "2024-03-01T07:52:41.559Z"
   },
   {
    "duration": 2980,
    "start_time": "2024-03-01T07:55:12.717Z"
   },
   {
    "duration": 2,
    "start_time": "2024-03-01T07:57:28.076Z"
   },
   {
    "duration": 99,
    "start_time": "2024-03-01T07:57:32.696Z"
   },
   {
    "duration": 14,
    "start_time": "2024-03-01T07:57:34.979Z"
   },
   {
    "duration": 3675,
    "start_time": "2024-03-01T07:57:38.015Z"
   },
   {
    "duration": 4436,
    "start_time": "2024-03-01T07:57:41.918Z"
   },
   {
    "duration": 83,
    "start_time": "2024-03-01T08:03:09.999Z"
   },
   {
    "duration": 21,
    "start_time": "2024-03-01T08:11:04.634Z"
   },
   {
    "duration": 70,
    "start_time": "2024-03-01T08:12:07.182Z"
   },
   {
    "duration": 17,
    "start_time": "2024-03-01T08:12:11.679Z"
   },
   {
    "duration": 9,
    "start_time": "2024-03-01T08:14:09.786Z"
   },
   {
    "duration": 13,
    "start_time": "2024-03-01T08:30:41.142Z"
   },
   {
    "duration": 29,
    "start_time": "2024-03-01T08:32:36.387Z"
   },
   {
    "duration": 2038,
    "start_time": "2024-03-01T08:35:47.121Z"
   },
   {
    "duration": 22,
    "start_time": "2024-03-01T08:36:02.918Z"
   },
   {
    "duration": 22,
    "start_time": "2024-03-01T08:36:18.369Z"
   },
   {
    "duration": 28,
    "start_time": "2024-03-01T08:37:35.410Z"
   },
   {
    "duration": 19,
    "start_time": "2024-03-01T08:43:43.018Z"
   },
   {
    "duration": 17,
    "start_time": "2024-03-01T08:43:51.145Z"
   },
   {
    "duration": 16,
    "start_time": "2024-03-01T08:44:18.034Z"
   },
   {
    "duration": 1240,
    "start_time": "2024-03-01T08:45:39.626Z"
   },
   {
    "duration": 16,
    "start_time": "2024-03-01T08:45:53.406Z"
   },
   {
    "duration": 14,
    "start_time": "2024-03-01T08:48:06.481Z"
   },
   {
    "duration": 12,
    "start_time": "2024-03-01T08:48:49.224Z"
   },
   {
    "duration": 11,
    "start_time": "2024-03-01T08:49:16.151Z"
   },
   {
    "duration": 631,
    "start_time": "2024-03-01T08:49:56.865Z"
   },
   {
    "duration": 105,
    "start_time": "2024-03-01T08:49:57.498Z"
   },
   {
    "duration": 15,
    "start_time": "2024-03-01T08:49:57.605Z"
   },
   {
    "duration": 110,
    "start_time": "2024-03-01T08:49:57.621Z"
   },
   {
    "duration": 0,
    "start_time": "2024-03-01T08:49:57.733Z"
   },
   {
    "duration": 0,
    "start_time": "2024-03-01T08:49:57.734Z"
   },
   {
    "duration": 9,
    "start_time": "2024-03-01T08:50:07.520Z"
   },
   {
    "duration": 11,
    "start_time": "2024-03-01T08:50:09.620Z"
   },
   {
    "duration": 8,
    "start_time": "2024-03-01T08:50:35.419Z"
   },
   {
    "duration": 871,
    "start_time": "2024-03-01T08:51:14.598Z"
   },
   {
    "duration": 20,
    "start_time": "2024-03-01T09:00:53.553Z"
   },
   {
    "duration": 15,
    "start_time": "2024-03-01T09:02:56.321Z"
   },
   {
    "duration": 15,
    "start_time": "2024-03-01T09:07:44.244Z"
   },
   {
    "duration": 24,
    "start_time": "2024-03-01T09:33:04.096Z"
   },
   {
    "duration": 26,
    "start_time": "2024-03-01T09:33:18.579Z"
   },
   {
    "duration": 5,
    "start_time": "2024-03-01T09:38:38.151Z"
   },
   {
    "duration": 5,
    "start_time": "2024-03-01T09:38:52.437Z"
   },
   {
    "duration": 10,
    "start_time": "2024-03-01T09:39:52.258Z"
   },
   {
    "duration": 5,
    "start_time": "2024-03-01T09:40:02.231Z"
   },
   {
    "duration": 63,
    "start_time": "2024-03-01T09:44:07.862Z"
   },
   {
    "duration": 91,
    "start_time": "2024-03-01T09:44:21.531Z"
   },
   {
    "duration": 6,
    "start_time": "2024-03-01T09:44:58.419Z"
   },
   {
    "duration": 71,
    "start_time": "2024-03-01T09:46:53.227Z"
   },
   {
    "duration": 63,
    "start_time": "2024-03-01T09:55:16.587Z"
   },
   {
    "duration": 56,
    "start_time": "2024-03-01T09:55:37.740Z"
   },
   {
    "duration": 30,
    "start_time": "2024-03-01T09:55:49.819Z"
   },
   {
    "duration": 657,
    "start_time": "2024-03-01T09:56:00.698Z"
   },
   {
    "duration": 107,
    "start_time": "2024-03-01T09:56:01.358Z"
   },
   {
    "duration": 34,
    "start_time": "2024-03-01T09:56:01.467Z"
   },
   {
    "duration": 53,
    "start_time": "2024-03-01T09:56:01.504Z"
   },
   {
    "duration": 854,
    "start_time": "2024-03-01T09:56:01.559Z"
   },
   {
    "duration": 9,
    "start_time": "2024-03-01T09:56:02.414Z"
   },
   {
    "duration": 18,
    "start_time": "2024-03-01T09:56:02.425Z"
   },
   {
    "duration": 26,
    "start_time": "2024-03-01T09:56:02.445Z"
   },
   {
    "duration": 54,
    "start_time": "2024-03-01T09:56:02.473Z"
   },
   {
    "duration": 6,
    "start_time": "2024-03-01T09:56:02.529Z"
   },
   {
    "duration": 93,
    "start_time": "2024-03-01T09:56:02.536Z"
   },
   {
    "duration": 13,
    "start_time": "2024-03-01T09:56:24.946Z"
   },
   {
    "duration": 9,
    "start_time": "2024-03-01T09:56:30.462Z"
   },
   {
    "duration": 31,
    "start_time": "2024-03-01T09:56:46.326Z"
   },
   {
    "duration": 6,
    "start_time": "2024-03-01T09:57:24.921Z"
   },
   {
    "duration": 63,
    "start_time": "2024-03-01T09:57:27.917Z"
   },
   {
    "duration": 6,
    "start_time": "2024-03-01T10:09:00.315Z"
   },
   {
    "duration": 54,
    "start_time": "2024-03-01T11:00:47.662Z"
   },
   {
    "duration": 615,
    "start_time": "2024-03-01T11:01:04.325Z"
   },
   {
    "duration": 99,
    "start_time": "2024-03-01T11:01:04.942Z"
   },
   {
    "duration": 36,
    "start_time": "2024-03-01T11:01:05.043Z"
   },
   {
    "duration": 48,
    "start_time": "2024-03-01T11:01:05.081Z"
   },
   {
    "duration": 14,
    "start_time": "2024-03-01T11:01:05.131Z"
   },
   {
    "duration": 874,
    "start_time": "2024-03-01T11:01:05.147Z"
   },
   {
    "duration": 9,
    "start_time": "2024-03-01T11:01:06.022Z"
   },
   {
    "duration": 13,
    "start_time": "2024-03-01T11:01:06.032Z"
   },
   {
    "duration": 30,
    "start_time": "2024-03-01T11:01:06.047Z"
   },
   {
    "duration": 36,
    "start_time": "2024-03-01T11:01:06.078Z"
   },
   {
    "duration": 6,
    "start_time": "2024-03-01T11:01:06.116Z"
   },
   {
    "duration": 92,
    "start_time": "2024-03-01T11:01:06.123Z"
   },
   {
    "duration": 5,
    "start_time": "2024-03-01T11:01:06.217Z"
   },
   {
    "duration": 15,
    "start_time": "2024-03-01T11:01:06.225Z"
   },
   {
    "duration": 25,
    "start_time": "2024-03-01T11:01:06.242Z"
   },
   {
    "duration": 78,
    "start_time": "2024-03-01T11:01:06.268Z"
   },
   {
    "duration": 50,
    "start_time": "2024-03-01T11:02:11.343Z"
   },
   {
    "duration": 639,
    "start_time": "2024-03-01T11:02:18.567Z"
   },
   {
    "duration": 98,
    "start_time": "2024-03-01T11:02:19.208Z"
   },
   {
    "duration": 33,
    "start_time": "2024-03-01T11:02:19.308Z"
   },
   {
    "duration": 65,
    "start_time": "2024-03-01T11:02:19.342Z"
   },
   {
    "duration": 15,
    "start_time": "2024-03-01T11:02:19.409Z"
   },
   {
    "duration": 871,
    "start_time": "2024-03-01T11:02:19.425Z"
   },
   {
    "duration": 8,
    "start_time": "2024-03-01T11:02:20.298Z"
   },
   {
    "duration": 69,
    "start_time": "2024-03-01T11:02:20.308Z"
   },
   {
    "duration": 30,
    "start_time": "2024-03-01T11:02:20.379Z"
   },
   {
    "duration": 51,
    "start_time": "2024-03-01T11:02:20.411Z"
   },
   {
    "duration": 5,
    "start_time": "2024-03-01T11:02:20.464Z"
   },
   {
    "duration": 67,
    "start_time": "2024-03-01T11:02:20.470Z"
   },
   {
    "duration": 5,
    "start_time": "2024-03-01T11:02:20.539Z"
   },
   {
    "duration": 21,
    "start_time": "2024-03-01T11:02:20.546Z"
   },
   {
    "duration": 26,
    "start_time": "2024-03-01T11:02:20.568Z"
   },
   {
    "duration": 99,
    "start_time": "2024-03-01T11:02:20.596Z"
   },
   {
    "duration": 876,
    "start_time": "2024-03-01T11:03:11.472Z"
   },
   {
    "duration": 27,
    "start_time": "2024-03-01T11:08:31.075Z"
   },
   {
    "duration": 13,
    "start_time": "2024-03-01T11:08:55.871Z"
   },
   {
    "duration": 26,
    "start_time": "2024-03-01T11:11:46.689Z"
   },
   {
    "duration": 26,
    "start_time": "2024-03-01T11:12:02.453Z"
   },
   {
    "duration": 26,
    "start_time": "2024-03-01T11:16:04.457Z"
   },
   {
    "duration": 321,
    "start_time": "2024-03-01T11:30:18.909Z"
   },
   {
    "duration": 23,
    "start_time": "2024-03-01T11:31:27.804Z"
   },
   {
    "duration": 649,
    "start_time": "2024-03-01T11:49:32.439Z"
   },
   {
    "duration": 105,
    "start_time": "2024-03-01T11:49:33.089Z"
   },
   {
    "duration": 32,
    "start_time": "2024-03-01T11:49:33.195Z"
   },
   {
    "duration": 58,
    "start_time": "2024-03-01T11:49:33.230Z"
   },
   {
    "duration": 13,
    "start_time": "2024-03-01T11:49:33.290Z"
   },
   {
    "duration": 860,
    "start_time": "2024-03-01T11:49:33.305Z"
   },
   {
    "duration": 8,
    "start_time": "2024-03-01T11:49:34.167Z"
   },
   {
    "duration": 26,
    "start_time": "2024-03-01T11:49:34.177Z"
   },
   {
    "duration": 29,
    "start_time": "2024-03-01T11:49:34.204Z"
   },
   {
    "duration": 44,
    "start_time": "2024-03-01T11:49:34.234Z"
   },
   {
    "duration": 6,
    "start_time": "2024-03-01T11:49:34.279Z"
   },
   {
    "duration": 111,
    "start_time": "2024-03-01T11:49:34.286Z"
   },
   {
    "duration": 99,
    "start_time": "2024-03-01T11:49:34.398Z"
   },
   {
    "duration": 1482,
    "start_time": "2024-03-01T11:52:19.992Z"
   },
   {
    "duration": 1007,
    "start_time": "2024-03-01T11:52:35.694Z"
   },
   {
    "duration": 34,
    "start_time": "2024-03-01T11:58:30.244Z"
   },
   {
    "duration": 14,
    "start_time": "2024-03-01T11:59:38.958Z"
   },
   {
    "duration": 13,
    "start_time": "2024-03-01T11:59:56.314Z"
   },
   {
    "duration": 18,
    "start_time": "2024-03-01T12:00:17.615Z"
   },
   {
    "duration": 16,
    "start_time": "2024-03-01T12:02:06.559Z"
   },
   {
    "duration": 23,
    "start_time": "2024-03-01T12:02:14.629Z"
   },
   {
    "duration": 610,
    "start_time": "2024-03-01T12:02:27.582Z"
   },
   {
    "duration": 96,
    "start_time": "2024-03-01T12:02:28.194Z"
   },
   {
    "duration": 32,
    "start_time": "2024-03-01T12:02:28.292Z"
   },
   {
    "duration": 69,
    "start_time": "2024-03-01T12:02:28.325Z"
   },
   {
    "duration": 13,
    "start_time": "2024-03-01T12:02:28.397Z"
   },
   {
    "duration": 877,
    "start_time": "2024-03-01T12:02:28.412Z"
   },
   {
    "duration": 9,
    "start_time": "2024-03-01T12:02:29.290Z"
   },
   {
    "duration": 78,
    "start_time": "2024-03-01T12:02:29.300Z"
   },
   {
    "duration": 24,
    "start_time": "2024-03-01T12:02:29.379Z"
   },
   {
    "duration": 24,
    "start_time": "2024-03-01T12:02:29.405Z"
   },
   {
    "duration": 6,
    "start_time": "2024-03-01T12:02:29.430Z"
   },
   {
    "duration": 83,
    "start_time": "2024-03-01T12:02:29.437Z"
   },
   {
    "duration": 99,
    "start_time": "2024-03-01T12:02:29.522Z"
   },
   {
    "duration": 19,
    "start_time": "2024-03-01T12:02:34.607Z"
   },
   {
    "duration": 13,
    "start_time": "2024-03-01T12:04:12.199Z"
   },
   {
    "duration": 28,
    "start_time": "2024-03-01T12:04:22.917Z"
   },
   {
    "duration": 21,
    "start_time": "2024-03-01T12:08:12.414Z"
   },
   {
    "duration": 22,
    "start_time": "2024-03-01T12:10:38.649Z"
   },
   {
    "duration": 403,
    "start_time": "2024-03-01T12:11:51.621Z"
   },
   {
    "duration": 1158,
    "start_time": "2024-03-01T12:26:22.300Z"
   },
   {
    "duration": 1221,
    "start_time": "2024-03-01T12:26:41.050Z"
   },
   {
    "duration": 43,
    "start_time": "2024-03-01T12:27:01.116Z"
   },
   {
    "duration": 13,
    "start_time": "2024-03-01T12:28:30.755Z"
   },
   {
    "duration": 7,
    "start_time": "2024-03-01T12:30:34.105Z"
   },
   {
    "duration": 17,
    "start_time": "2024-03-01T12:30:40.380Z"
   },
   {
    "duration": 15,
    "start_time": "2024-03-01T12:30:45.528Z"
   },
   {
    "duration": 15,
    "start_time": "2024-03-01T12:30:55.033Z"
   },
   {
    "duration": 14,
    "start_time": "2024-03-01T12:31:08.014Z"
   },
   {
    "duration": 47,
    "start_time": "2024-03-01T12:36:14.763Z"
   },
   {
    "duration": 42,
    "start_time": "2024-03-01T12:36:33.773Z"
   },
   {
    "duration": 109,
    "start_time": "2024-03-01T12:43:02.809Z"
   },
   {
    "duration": 12,
    "start_time": "2024-03-01T12:43:09.063Z"
   },
   {
    "duration": 70,
    "start_time": "2024-03-01T12:45:45.233Z"
   },
   {
    "duration": 69,
    "start_time": "2024-03-01T12:47:37.741Z"
   },
   {
    "duration": 1289,
    "start_time": "2024-03-01T12:48:21.774Z"
   },
   {
    "duration": 71,
    "start_time": "2024-03-01T12:48:30.851Z"
   },
   {
    "duration": 77,
    "start_time": "2024-03-01T12:51:26.679Z"
   },
   {
    "duration": 48,
    "start_time": "2024-03-01T13:00:48.344Z"
   },
   {
    "duration": 63,
    "start_time": "2024-03-01T13:01:02.080Z"
   },
   {
    "duration": 12,
    "start_time": "2024-03-01T13:01:26.392Z"
   },
   {
    "duration": 660,
    "start_time": "2024-03-01T13:06:06.161Z"
   },
   {
    "duration": 108,
    "start_time": "2024-03-01T13:06:06.823Z"
   },
   {
    "duration": 38,
    "start_time": "2024-03-01T13:06:06.933Z"
   },
   {
    "duration": 56,
    "start_time": "2024-03-01T13:06:06.974Z"
   },
   {
    "duration": 34,
    "start_time": "2024-03-01T13:06:07.032Z"
   },
   {
    "duration": 837,
    "start_time": "2024-03-01T13:06:07.067Z"
   },
   {
    "duration": 9,
    "start_time": "2024-03-01T13:06:07.906Z"
   },
   {
    "duration": 50,
    "start_time": "2024-03-01T13:06:07.916Z"
   },
   {
    "duration": 34,
    "start_time": "2024-03-01T13:06:07.968Z"
   },
   {
    "duration": 26,
    "start_time": "2024-03-01T13:06:08.005Z"
   },
   {
    "duration": 5,
    "start_time": "2024-03-01T13:06:08.033Z"
   },
   {
    "duration": 116,
    "start_time": "2024-03-01T13:06:08.040Z"
   },
   {
    "duration": 67,
    "start_time": "2024-03-01T13:06:08.158Z"
   },
   {
    "duration": 77,
    "start_time": "2024-03-01T13:06:08.227Z"
   },
   {
    "duration": 83,
    "start_time": "2024-03-01T13:06:08.306Z"
   },
   {
    "duration": 11,
    "start_time": "2024-03-01T13:07:50.590Z"
   },
   {
    "duration": 647,
    "start_time": "2024-03-01T13:09:55.843Z"
   },
   {
    "duration": 97,
    "start_time": "2024-03-01T13:09:56.491Z"
   },
   {
    "duration": 32,
    "start_time": "2024-03-01T13:09:56.590Z"
   },
   {
    "duration": 71,
    "start_time": "2024-03-01T13:09:56.625Z"
   },
   {
    "duration": 15,
    "start_time": "2024-03-01T13:09:56.698Z"
   },
   {
    "duration": 897,
    "start_time": "2024-03-01T13:09:56.715Z"
   },
   {
    "duration": 8,
    "start_time": "2024-03-01T13:09:57.614Z"
   },
   {
    "duration": 67,
    "start_time": "2024-03-01T13:09:57.623Z"
   },
   {
    "duration": 22,
    "start_time": "2024-03-01T13:09:57.691Z"
   },
   {
    "duration": 31,
    "start_time": "2024-03-01T13:09:57.715Z"
   },
   {
    "duration": 6,
    "start_time": "2024-03-01T13:09:57.748Z"
   },
   {
    "duration": 91,
    "start_time": "2024-03-01T13:09:57.755Z"
   },
   {
    "duration": 64,
    "start_time": "2024-03-01T13:09:57.848Z"
   },
   {
    "duration": 69,
    "start_time": "2024-03-01T13:09:57.914Z"
   },
   {
    "duration": 81,
    "start_time": "2024-03-01T13:09:57.985Z"
   },
   {
    "duration": 14,
    "start_time": "2024-03-01T13:10:15.946Z"
   },
   {
    "duration": 13,
    "start_time": "2024-03-01T13:12:51.940Z"
   },
   {
    "duration": 11,
    "start_time": "2024-03-01T13:14:09.139Z"
   },
   {
    "duration": 13,
    "start_time": "2024-03-01T13:14:15.032Z"
   },
   {
    "duration": 76,
    "start_time": "2024-03-01T13:14:43.291Z"
   },
   {
    "duration": 16,
    "start_time": "2024-03-01T13:15:00.510Z"
   },
   {
    "duration": 27,
    "start_time": "2024-03-01T13:16:32.346Z"
   },
   {
    "duration": 57,
    "start_time": "2024-03-01T13:16:46.063Z"
   },
   {
    "duration": 60,
    "start_time": "2024-03-01T13:16:59.059Z"
   },
   {
    "duration": 53,
    "start_time": "2024-03-01T13:17:25.371Z"
   },
   {
    "duration": 54,
    "start_time": "2024-03-01T13:28:19.529Z"
   },
   {
    "duration": 1120,
    "start_time": "2024-03-01T13:32:18.185Z"
   },
   {
    "duration": 1124,
    "start_time": "2024-03-01T13:32:31.383Z"
   },
   {
    "duration": 1240,
    "start_time": "2024-03-01T13:32:53.851Z"
   },
   {
    "duration": 644,
    "start_time": "2024-03-01T13:34:53.905Z"
   },
   {
    "duration": 763,
    "start_time": "2024-03-01T13:36:23.047Z"
   },
   {
    "duration": 182,
    "start_time": "2024-03-01T13:36:59.046Z"
   },
   {
    "duration": 189,
    "start_time": "2024-03-01T13:37:08.590Z"
   },
   {
    "duration": 59,
    "start_time": "2024-03-01T13:49:21.687Z"
   },
   {
    "duration": 56,
    "start_time": "2024-03-01T13:49:30.543Z"
   },
   {
    "duration": 19,
    "start_time": "2024-03-01T14:08:10.629Z"
   },
   {
    "duration": 14,
    "start_time": "2024-03-01T14:08:19.093Z"
   },
   {
    "duration": 17,
    "start_time": "2024-03-01T14:08:28.704Z"
   },
   {
    "duration": 14,
    "start_time": "2024-03-01T14:08:37.659Z"
   },
   {
    "duration": 141,
    "start_time": "2024-03-01T14:08:56.270Z"
   },
   {
    "duration": 9,
    "start_time": "2024-03-01T14:09:59.359Z"
   },
   {
    "duration": 5,
    "start_time": "2024-03-01T14:10:31.479Z"
   },
   {
    "duration": 7,
    "start_time": "2024-03-01T14:11:21.554Z"
   },
   {
    "duration": 1113,
    "start_time": "2024-03-01T14:22:48.791Z"
   },
   {
    "duration": 14,
    "start_time": "2024-03-01T14:23:33.458Z"
   },
   {
    "duration": 1716,
    "start_time": "2024-03-01T14:23:52.991Z"
   },
   {
    "duration": 1825,
    "start_time": "2024-03-01T14:24:05.565Z"
   },
   {
    "duration": 1866,
    "start_time": "2024-03-01T14:25:04.731Z"
   },
   {
    "duration": 9240,
    "start_time": "2024-03-01T14:26:12.574Z"
   },
   {
    "duration": 4056,
    "start_time": "2024-03-01T14:26:32.964Z"
   },
   {
    "duration": 1273,
    "start_time": "2024-03-01T14:27:03.420Z"
   },
   {
    "duration": 1210,
    "start_time": "2024-03-01T14:28:50.789Z"
   },
   {
    "duration": 1217,
    "start_time": "2024-03-01T14:29:05.031Z"
   },
   {
    "duration": 1316,
    "start_time": "2024-03-01T14:29:16.740Z"
   },
   {
    "duration": 474,
    "start_time": "2024-03-01T14:29:30.604Z"
   },
   {
    "duration": 750,
    "start_time": "2024-03-01T14:29:41.010Z"
   },
   {
    "duration": 357,
    "start_time": "2024-03-01T14:29:49.604Z"
   },
   {
    "duration": 3971,
    "start_time": "2024-03-01T14:30:30.490Z"
   },
   {
    "duration": 3321,
    "start_time": "2024-03-01T14:31:06.908Z"
   },
   {
    "duration": 156,
    "start_time": "2024-03-01T14:33:15.194Z"
   },
   {
    "duration": 140,
    "start_time": "2024-03-01T14:35:53.473Z"
   },
   {
    "duration": 138,
    "start_time": "2024-03-01T14:36:01.495Z"
   },
   {
    "duration": 129,
    "start_time": "2024-03-01T14:36:22.291Z"
   },
   {
    "duration": 142,
    "start_time": "2024-03-01T14:37:14.919Z"
   },
   {
    "duration": 146,
    "start_time": "2024-03-01T14:37:57.315Z"
   },
   {
    "duration": 147,
    "start_time": "2024-03-01T14:43:57.652Z"
   },
   {
    "duration": 156,
    "start_time": "2024-03-01T14:45:28.258Z"
   },
   {
    "duration": 251,
    "start_time": "2024-03-01T14:45:41.352Z"
   },
   {
    "duration": 9,
    "start_time": "2024-03-01T14:51:42.703Z"
   },
   {
    "duration": 8,
    "start_time": "2024-03-01T14:51:49.420Z"
   },
   {
    "duration": 8,
    "start_time": "2024-03-01T14:52:22.209Z"
   },
   {
    "duration": 8,
    "start_time": "2024-03-01T14:52:36.089Z"
   },
   {
    "duration": 126,
    "start_time": "2024-03-01T14:53:01.403Z"
   },
   {
    "duration": 151,
    "start_time": "2024-03-01T14:54:20.003Z"
   },
   {
    "duration": 8,
    "start_time": "2024-03-01T14:57:53.096Z"
   },
   {
    "duration": 221,
    "start_time": "2024-03-01T14:57:57.934Z"
   },
   {
    "duration": 7,
    "start_time": "2024-03-01T14:58:59.888Z"
   },
   {
    "duration": 143,
    "start_time": "2024-03-01T14:59:04.168Z"
   },
   {
    "duration": 144,
    "start_time": "2024-03-01T14:59:10.113Z"
   },
   {
    "duration": 128,
    "start_time": "2024-03-01T14:59:34.004Z"
   },
   {
    "duration": 133,
    "start_time": "2024-03-01T15:01:56.835Z"
   },
   {
    "duration": 133,
    "start_time": "2024-03-01T15:03:19.393Z"
   },
   {
    "duration": 153,
    "start_time": "2024-03-01T15:04:10.981Z"
   },
   {
    "duration": 94,
    "start_time": "2024-03-01T15:05:37.454Z"
   },
   {
    "duration": 204,
    "start_time": "2024-03-01T15:06:09.996Z"
   },
   {
    "duration": 7,
    "start_time": "2024-03-01T15:10:10.618Z"
   },
   {
    "duration": 91,
    "start_time": "2024-03-01T15:10:17.038Z"
   },
   {
    "duration": 1135,
    "start_time": "2024-03-01T15:10:32.633Z"
   },
   {
    "duration": 71,
    "start_time": "2024-03-01T15:11:12.834Z"
   },
   {
    "duration": 7,
    "start_time": "2024-03-01T15:11:33.312Z"
   },
   {
    "duration": 7,
    "start_time": "2024-03-01T15:11:41.323Z"
   },
   {
    "duration": 98,
    "start_time": "2024-03-01T15:12:11.741Z"
   },
   {
    "duration": 167,
    "start_time": "2024-03-01T15:15:37.487Z"
   },
   {
    "duration": 144,
    "start_time": "2024-03-01T15:15:47.796Z"
   },
   {
    "duration": 156,
    "start_time": "2024-03-01T15:16:12.552Z"
   },
   {
    "duration": 212,
    "start_time": "2024-03-01T15:16:24.471Z"
   },
   {
    "duration": 7,
    "start_time": "2024-03-01T15:16:59.844Z"
   },
   {
    "duration": 134,
    "start_time": "2024-03-01T15:18:25.187Z"
   },
   {
    "duration": 183,
    "start_time": "2024-03-01T15:18:53.838Z"
   },
   {
    "duration": 171,
    "start_time": "2024-03-01T15:18:59.862Z"
   },
   {
    "duration": 1639,
    "start_time": "2024-03-01T15:19:10.863Z"
   },
   {
    "duration": 4397,
    "start_time": "2024-03-01T15:19:21.918Z"
   },
   {
    "duration": 122,
    "start_time": "2024-03-01T15:19:35.825Z"
   },
   {
    "duration": 641,
    "start_time": "2024-03-01T15:20:25.695Z"
   },
   {
    "duration": 98,
    "start_time": "2024-03-01T15:20:26.337Z"
   },
   {
    "duration": 40,
    "start_time": "2024-03-01T15:20:26.436Z"
   },
   {
    "duration": 47,
    "start_time": "2024-03-01T15:20:26.478Z"
   },
   {
    "duration": 15,
    "start_time": "2024-03-01T15:20:26.526Z"
   },
   {
    "duration": 857,
    "start_time": "2024-03-01T15:20:26.565Z"
   },
   {
    "duration": 8,
    "start_time": "2024-03-01T15:20:27.424Z"
   },
   {
    "duration": 49,
    "start_time": "2024-03-01T15:20:27.433Z"
   },
   {
    "duration": 13,
    "start_time": "2024-03-01T15:20:27.483Z"
   },
   {
    "duration": 18,
    "start_time": "2024-03-01T15:20:27.498Z"
   },
   {
    "duration": 8,
    "start_time": "2024-03-01T15:20:27.518Z"
   },
   {
    "duration": 85,
    "start_time": "2024-03-01T15:20:27.528Z"
   },
   {
    "duration": 71,
    "start_time": "2024-03-01T15:20:27.615Z"
   },
   {
    "duration": 58,
    "start_time": "2024-03-01T15:20:27.687Z"
   },
   {
    "duration": 82,
    "start_time": "2024-03-01T15:20:27.747Z"
   },
   {
    "duration": 148,
    "start_time": "2024-03-01T15:20:27.830Z"
   },
   {
    "duration": 7,
    "start_time": "2024-03-01T15:20:27.979Z"
   },
   {
    "duration": 160,
    "start_time": "2024-03-01T15:20:27.987Z"
   },
   {
    "duration": 73,
    "start_time": "2024-03-01T15:20:28.149Z"
   },
   {
    "duration": 0,
    "start_time": "2024-03-01T15:20:28.223Z"
   },
   {
    "duration": 0,
    "start_time": "2024-03-01T15:20:28.224Z"
   },
   {
    "duration": 0,
    "start_time": "2024-03-01T15:20:28.225Z"
   },
   {
    "duration": 170,
    "start_time": "2024-03-01T15:20:38.079Z"
   },
   {
    "duration": 177,
    "start_time": "2024-03-01T15:20:52.215Z"
   },
   {
    "duration": 9,
    "start_time": "2024-03-01T15:21:08.996Z"
   },
   {
    "duration": 196,
    "start_time": "2024-03-01T15:21:15.939Z"
   },
   {
    "duration": 32,
    "start_time": "2024-03-01T15:22:12.282Z"
   },
   {
    "duration": 11,
    "start_time": "2024-03-01T15:22:17.219Z"
   },
   {
    "duration": 1075,
    "start_time": "2024-03-01T15:22:21.661Z"
   },
   {
    "duration": 7,
    "start_time": "2024-03-01T15:22:42.136Z"
   },
   {
    "duration": 8,
    "start_time": "2024-03-01T15:22:47.653Z"
   },
   {
    "duration": 618,
    "start_time": "2024-03-01T15:23:29.477Z"
   },
   {
    "duration": 100,
    "start_time": "2024-03-01T15:23:30.097Z"
   },
   {
    "duration": 33,
    "start_time": "2024-03-01T15:23:30.198Z"
   },
   {
    "duration": 158,
    "start_time": "2024-03-01T15:23:30.233Z"
   },
   {
    "duration": 102,
    "start_time": "2024-03-01T15:23:30.393Z"
   },
   {
    "duration": 1006,
    "start_time": "2024-03-01T15:23:30.497Z"
   },
   {
    "duration": 8,
    "start_time": "2024-03-01T15:23:31.505Z"
   },
   {
    "duration": 121,
    "start_time": "2024-03-01T15:23:31.515Z"
   },
   {
    "duration": 42,
    "start_time": "2024-03-01T15:23:31.638Z"
   },
   {
    "duration": 50,
    "start_time": "2024-03-01T15:23:31.682Z"
   },
   {
    "duration": 13,
    "start_time": "2024-03-01T15:23:31.734Z"
   },
   {
    "duration": 124,
    "start_time": "2024-03-01T15:23:31.749Z"
   },
   {
    "duration": 62,
    "start_time": "2024-03-01T15:23:31.875Z"
   },
   {
    "duration": 80,
    "start_time": "2024-03-01T15:23:31.939Z"
   },
   {
    "duration": 81,
    "start_time": "2024-03-01T15:23:32.021Z"
   },
   {
    "duration": 153,
    "start_time": "2024-03-01T15:23:32.103Z"
   },
   {
    "duration": 14,
    "start_time": "2024-03-01T15:23:32.257Z"
   },
   {
    "duration": 173,
    "start_time": "2024-03-01T15:23:32.272Z"
   },
   {
    "duration": 71,
    "start_time": "2024-03-01T15:23:32.446Z"
   },
   {
    "duration": 0,
    "start_time": "2024-03-01T15:23:32.518Z"
   },
   {
    "duration": 0,
    "start_time": "2024-03-01T15:23:32.520Z"
   },
   {
    "duration": 0,
    "start_time": "2024-03-01T15:23:32.521Z"
   },
   {
    "duration": 56,
    "start_time": "2024-03-01T15:25:12.806Z"
   },
   {
    "duration": 69,
    "start_time": "2024-03-01T15:25:23.490Z"
   },
   {
    "duration": 141,
    "start_time": "2024-03-01T15:25:28.752Z"
   },
   {
    "duration": 9,
    "start_time": "2024-03-01T15:25:32.665Z"
   },
   {
    "duration": 155,
    "start_time": "2024-03-01T15:25:40.047Z"
   },
   {
    "duration": 84,
    "start_time": "2024-03-01T15:25:43.220Z"
   },
   {
    "duration": 66,
    "start_time": "2024-03-01T15:25:50.668Z"
   },
   {
    "duration": 61,
    "start_time": "2024-03-01T15:25:51.804Z"
   },
   {
    "duration": 140,
    "start_time": "2024-03-01T15:25:53.842Z"
   },
   {
    "duration": 135,
    "start_time": "2024-03-01T15:25:56.422Z"
   },
   {
    "duration": 1143,
    "start_time": "2024-03-01T15:25:58.961Z"
   },
   {
    "duration": 176,
    "start_time": "2024-03-01T15:28:43.503Z"
   },
   {
    "duration": 77,
    "start_time": "2024-03-01T15:28:58.006Z"
   },
   {
    "duration": 91,
    "start_time": "2024-03-01T15:29:09.373Z"
   },
   {
    "duration": 66,
    "start_time": "2024-03-01T15:30:00.760Z"
   },
   {
    "duration": 92,
    "start_time": "2024-03-01T15:30:43.405Z"
   },
   {
    "duration": 7,
    "start_time": "2024-03-01T15:34:51.515Z"
   },
   {
    "duration": 226,
    "start_time": "2024-03-01T15:34:57.465Z"
   },
   {
    "duration": 137,
    "start_time": "2024-03-01T15:35:09.071Z"
   },
   {
    "duration": 136,
    "start_time": "2024-03-01T15:35:32.374Z"
   },
   {
    "duration": 112,
    "start_time": "2024-03-01T15:37:13.397Z"
   },
   {
    "duration": 73,
    "start_time": "2024-03-01T15:39:41.123Z"
   },
   {
    "duration": 0,
    "start_time": "2024-03-01T15:39:41.197Z"
   },
   {
    "duration": 685,
    "start_time": "2024-03-01T15:47:44.944Z"
   },
   {
    "duration": 99,
    "start_time": "2024-03-01T15:47:45.631Z"
   },
   {
    "duration": 40,
    "start_time": "2024-03-01T15:47:45.731Z"
   },
   {
    "duration": 60,
    "start_time": "2024-03-01T15:47:45.773Z"
   },
   {
    "duration": 15,
    "start_time": "2024-03-01T15:47:45.836Z"
   },
   {
    "duration": 904,
    "start_time": "2024-03-01T15:47:45.866Z"
   },
   {
    "duration": 9,
    "start_time": "2024-03-01T15:47:46.773Z"
   },
   {
    "duration": 82,
    "start_time": "2024-03-01T15:47:46.783Z"
   },
   {
    "duration": 38,
    "start_time": "2024-03-01T15:47:46.867Z"
   },
   {
    "duration": 36,
    "start_time": "2024-03-01T15:47:46.909Z"
   },
   {
    "duration": 8,
    "start_time": "2024-03-01T15:47:46.947Z"
   },
   {
    "duration": 80,
    "start_time": "2024-03-01T15:47:46.957Z"
   },
   {
    "duration": 68,
    "start_time": "2024-03-01T15:47:47.039Z"
   },
   {
    "duration": 68,
    "start_time": "2024-03-01T15:47:47.108Z"
   },
   {
    "duration": 67,
    "start_time": "2024-03-01T15:47:47.178Z"
   },
   {
    "duration": 160,
    "start_time": "2024-03-01T15:47:47.247Z"
   },
   {
    "duration": 7,
    "start_time": "2024-03-01T15:47:47.409Z"
   },
   {
    "duration": 194,
    "start_time": "2024-03-01T15:47:47.418Z"
   },
   {
    "duration": 170,
    "start_time": "2024-03-01T15:47:47.614Z"
   },
   {
    "duration": 69,
    "start_time": "2024-03-01T15:47:47.786Z"
   },
   {
    "duration": 0,
    "start_time": "2024-03-01T15:47:47.857Z"
   },
   {
    "duration": 0,
    "start_time": "2024-03-01T15:47:47.858Z"
   },
   {
    "duration": 0,
    "start_time": "2024-03-01T15:47:47.859Z"
   },
   {
    "duration": 3,
    "start_time": "2024-03-01T15:47:53.218Z"
   },
   {
    "duration": 3,
    "start_time": "2024-03-01T15:47:53.961Z"
   },
   {
    "duration": 57,
    "start_time": "2024-03-01T15:48:17.194Z"
   },
   {
    "duration": 71,
    "start_time": "2024-03-01T15:48:20.317Z"
   },
   {
    "duration": 143,
    "start_time": "2024-03-01T15:48:23.351Z"
   },
   {
    "duration": 8,
    "start_time": "2024-03-01T15:48:27.882Z"
   },
   {
    "duration": 158,
    "start_time": "2024-03-01T15:48:30.550Z"
   },
   {
    "duration": 156,
    "start_time": "2024-03-01T15:48:34.958Z"
   },
   {
    "duration": 142,
    "start_time": "2024-03-01T15:48:43.701Z"
   },
   {
    "duration": 199,
    "start_time": "2024-03-01T15:50:31.857Z"
   },
   {
    "duration": 73,
    "start_time": "2024-03-01T16:02:07.412Z"
   },
   {
    "duration": 12,
    "start_time": "2024-03-01T16:09:03.290Z"
   },
   {
    "duration": 13,
    "start_time": "2024-03-01T16:15:06.712Z"
   },
   {
    "duration": 1178,
    "start_time": "2024-03-01T16:15:26.487Z"
   },
   {
    "duration": 5,
    "start_time": "2024-03-01T16:19:50.137Z"
   },
   {
    "duration": 15,
    "start_time": "2024-03-01T16:19:55.955Z"
   },
   {
    "duration": 10,
    "start_time": "2024-03-01T16:20:03.445Z"
   },
   {
    "duration": 10,
    "start_time": "2024-03-01T16:20:53.306Z"
   },
   {
    "duration": 130,
    "start_time": "2024-03-01T16:21:08.792Z"
   },
   {
    "duration": 127,
    "start_time": "2024-03-01T16:23:29.513Z"
   },
   {
    "duration": 247,
    "start_time": "2024-03-01T16:25:17.686Z"
   },
   {
    "duration": 71,
    "start_time": "2024-03-01T16:27:04.575Z"
   },
   {
    "duration": 146,
    "start_time": "2024-03-01T16:27:18.748Z"
   },
   {
    "duration": 139,
    "start_time": "2024-03-01T16:27:23.684Z"
   },
   {
    "duration": 186,
    "start_time": "2024-03-01T16:27:30.924Z"
   },
   {
    "duration": 137,
    "start_time": "2024-03-01T16:46:16.726Z"
   },
   {
    "duration": 104,
    "start_time": "2024-03-01T16:47:08.908Z"
   },
   {
    "duration": 1035,
    "start_time": "2024-03-01T16:48:04.740Z"
   },
   {
    "duration": 143,
    "start_time": "2024-03-01T16:48:53.602Z"
   },
   {
    "duration": 121,
    "start_time": "2024-03-01T16:49:50.050Z"
   },
   {
    "duration": 74,
    "start_time": "2024-03-01T16:50:37.936Z"
   },
   {
    "duration": 115,
    "start_time": "2024-03-01T16:50:45.122Z"
   },
   {
    "duration": 136,
    "start_time": "2024-03-01T16:56:07.211Z"
   },
   {
    "duration": 1298,
    "start_time": "2024-03-01T16:57:15.679Z"
   },
   {
    "duration": 154,
    "start_time": "2024-03-01T16:57:25.515Z"
   },
   {
    "duration": 231,
    "start_time": "2024-03-01T16:58:33.867Z"
   },
   {
    "duration": 135,
    "start_time": "2024-03-01T16:59:11.006Z"
   },
   {
    "duration": 151,
    "start_time": "2024-03-01T16:59:25.589Z"
   },
   {
    "duration": 163,
    "start_time": "2024-03-01T16:59:42.593Z"
   },
   {
    "duration": 151,
    "start_time": "2024-03-01T17:00:17.150Z"
   },
   {
    "duration": 163,
    "start_time": "2024-03-01T17:01:15.181Z"
   },
   {
    "duration": 151,
    "start_time": "2024-03-01T17:02:16.870Z"
   },
   {
    "duration": 150,
    "start_time": "2024-03-01T17:02:53.160Z"
   },
   {
    "duration": 155,
    "start_time": "2024-03-01T17:03:12.455Z"
   },
   {
    "duration": 154,
    "start_time": "2024-03-01T17:03:22.971Z"
   },
   {
    "duration": 145,
    "start_time": "2024-03-01T17:03:32.916Z"
   },
   {
    "duration": 221,
    "start_time": "2024-03-01T17:04:07.377Z"
   },
   {
    "duration": 14,
    "start_time": "2024-03-01T17:12:48.164Z"
   },
   {
    "duration": 168,
    "start_time": "2024-03-01T17:13:16.490Z"
   },
   {
    "duration": 176,
    "start_time": "2024-03-01T17:14:05.060Z"
   },
   {
    "duration": 239,
    "start_time": "2024-03-01T17:21:03.447Z"
   },
   {
    "duration": 16,
    "start_time": "2024-03-01T17:24:46.713Z"
   },
   {
    "duration": 16,
    "start_time": "2024-03-01T17:24:58.556Z"
   },
   {
    "duration": 15,
    "start_time": "2024-03-01T17:25:18.748Z"
   },
   {
    "duration": 14,
    "start_time": "2024-03-01T17:25:38.064Z"
   },
   {
    "duration": 53,
    "start_time": "2024-03-03T11:46:19.422Z"
   },
   {
    "duration": 7,
    "start_time": "2024-03-03T11:53:29.514Z"
   },
   {
    "duration": 901,
    "start_time": "2024-03-03T11:53:36.046Z"
   },
   {
    "duration": 320,
    "start_time": "2024-03-03T11:53:36.948Z"
   },
   {
    "duration": 57,
    "start_time": "2024-03-03T11:53:37.270Z"
   },
   {
    "duration": 56,
    "start_time": "2024-03-03T11:53:37.328Z"
   },
   {
    "duration": 25,
    "start_time": "2024-03-03T11:53:37.387Z"
   },
   {
    "duration": 1031,
    "start_time": "2024-03-03T11:53:37.414Z"
   },
   {
    "duration": 12,
    "start_time": "2024-03-03T11:53:38.447Z"
   },
   {
    "duration": 33,
    "start_time": "2024-03-03T11:53:38.461Z"
   },
   {
    "duration": 18,
    "start_time": "2024-03-03T11:53:38.499Z"
   },
   {
    "duration": 113,
    "start_time": "2024-03-03T11:53:38.519Z"
   },
   {
    "duration": 0,
    "start_time": "2024-03-03T11:53:38.634Z"
   },
   {
    "duration": 0,
    "start_time": "2024-03-03T11:53:38.635Z"
   },
   {
    "duration": 0,
    "start_time": "2024-03-03T11:53:38.637Z"
   },
   {
    "duration": 0,
    "start_time": "2024-03-03T11:53:38.638Z"
   },
   {
    "duration": 0,
    "start_time": "2024-03-03T11:53:38.640Z"
   },
   {
    "duration": 0,
    "start_time": "2024-03-03T11:53:38.641Z"
   },
   {
    "duration": 0,
    "start_time": "2024-03-03T11:53:38.642Z"
   },
   {
    "duration": 0,
    "start_time": "2024-03-03T11:53:38.643Z"
   },
   {
    "duration": 0,
    "start_time": "2024-03-03T11:53:38.644Z"
   },
   {
    "duration": 0,
    "start_time": "2024-03-03T11:53:38.646Z"
   },
   {
    "duration": 0,
    "start_time": "2024-03-03T11:53:38.647Z"
   },
   {
    "duration": 0,
    "start_time": "2024-03-03T11:53:38.648Z"
   },
   {
    "duration": 0,
    "start_time": "2024-03-03T11:53:38.649Z"
   },
   {
    "duration": 0,
    "start_time": "2024-03-03T11:53:38.650Z"
   },
   {
    "duration": 32,
    "start_time": "2024-03-03T11:53:49.965Z"
   },
   {
    "duration": 24,
    "start_time": "2024-03-03T11:54:12.591Z"
   },
   {
    "duration": 23,
    "start_time": "2024-03-03T11:54:18.435Z"
   },
   {
    "duration": 22,
    "start_time": "2024-03-03T11:54:25.653Z"
   },
   {
    "duration": 37,
    "start_time": "2024-03-03T11:54:49.973Z"
   },
   {
    "duration": 54,
    "start_time": "2024-03-03T11:54:52.716Z"
   },
   {
    "duration": 13,
    "start_time": "2024-03-03T11:54:55.525Z"
   },
   {
    "duration": 1030,
    "start_time": "2024-03-03T11:54:59.267Z"
   },
   {
    "duration": 7,
    "start_time": "2024-03-03T11:55:02.964Z"
   },
   {
    "duration": 12,
    "start_time": "2024-03-03T11:55:06.402Z"
   },
   {
    "duration": 15,
    "start_time": "2024-03-03T11:55:09.045Z"
   },
   {
    "duration": 35,
    "start_time": "2024-03-03T11:55:14.282Z"
   },
   {
    "duration": 64,
    "start_time": "2024-03-03T11:57:46.379Z"
   },
   {
    "duration": 73,
    "start_time": "2024-03-03T11:57:56.888Z"
   },
   {
    "duration": 1119,
    "start_time": "2024-03-03T11:58:01.179Z"
   },
   {
    "duration": 6,
    "start_time": "2024-03-03T11:58:28.263Z"
   },
   {
    "duration": 23,
    "start_time": "2024-03-03T12:00:09.717Z"
   },
   {
    "duration": 33,
    "start_time": "2024-03-03T12:00:18.420Z"
   },
   {
    "duration": 8,
    "start_time": "2024-03-03T12:01:54.610Z"
   },
   {
    "duration": 11,
    "start_time": "2024-03-03T12:02:01.190Z"
   },
   {
    "duration": 13,
    "start_time": "2024-03-03T12:02:39.418Z"
   },
   {
    "duration": 38,
    "start_time": "2024-03-03T12:02:42.423Z"
   },
   {
    "duration": 11,
    "start_time": "2024-03-03T12:04:13.206Z"
   },
   {
    "duration": 13,
    "start_time": "2024-03-03T12:04:16.205Z"
   },
   {
    "duration": 23,
    "start_time": "2024-03-03T12:04:20.789Z"
   },
   {
    "duration": 10,
    "start_time": "2024-03-03T12:04:36.502Z"
   },
   {
    "duration": 14,
    "start_time": "2024-03-03T12:04:39.360Z"
   },
   {
    "duration": 24,
    "start_time": "2024-03-03T12:04:41.941Z"
   },
   {
    "duration": 689,
    "start_time": "2024-03-03T12:04:47.270Z"
   },
   {
    "duration": 104,
    "start_time": "2024-03-03T12:04:47.961Z"
   },
   {
    "duration": 37,
    "start_time": "2024-03-03T12:04:48.067Z"
   },
   {
    "duration": 54,
    "start_time": "2024-03-03T12:04:48.110Z"
   },
   {
    "duration": 32,
    "start_time": "2024-03-03T12:04:48.167Z"
   },
   {
    "duration": 903,
    "start_time": "2024-03-03T12:04:48.201Z"
   },
   {
    "duration": 9,
    "start_time": "2024-03-03T12:04:49.106Z"
   },
   {
    "duration": 63,
    "start_time": "2024-03-03T12:04:49.117Z"
   },
   {
    "duration": 21,
    "start_time": "2024-03-03T12:04:49.182Z"
   },
   {
    "duration": 57,
    "start_time": "2024-03-03T12:04:49.205Z"
   },
   {
    "duration": 7,
    "start_time": "2024-03-03T12:04:49.265Z"
   },
   {
    "duration": 81,
    "start_time": "2024-03-03T12:04:49.274Z"
   },
   {
    "duration": 86,
    "start_time": "2024-03-03T12:04:49.356Z"
   },
   {
    "duration": 81,
    "start_time": "2024-03-03T12:04:49.445Z"
   },
   {
    "duration": 113,
    "start_time": "2024-03-03T12:04:49.528Z"
   },
   {
    "duration": 190,
    "start_time": "2024-03-03T12:04:49.642Z"
   },
   {
    "duration": 8,
    "start_time": "2024-03-03T12:04:49.834Z"
   },
   {
    "duration": 182,
    "start_time": "2024-03-03T12:04:49.843Z"
   },
   {
    "duration": 184,
    "start_time": "2024-03-03T12:04:50.026Z"
   },
   {
    "duration": 177,
    "start_time": "2024-03-03T12:04:50.212Z"
   },
   {
    "duration": 164,
    "start_time": "2024-03-03T12:04:50.390Z"
   },
   {
    "duration": 142,
    "start_time": "2024-03-03T12:04:50.556Z"
   },
   {
    "duration": 347,
    "start_time": "2024-03-03T12:04:50.700Z"
   },
   {
    "duration": 109,
    "start_time": "2024-03-03T12:04:51.051Z"
   },
   {
    "duration": 10,
    "start_time": "2024-03-03T12:06:34.318Z"
   },
   {
    "duration": 10,
    "start_time": "2024-03-03T12:06:52.377Z"
   },
   {
    "duration": 9,
    "start_time": "2024-03-03T12:06:55.883Z"
   },
   {
    "duration": 9,
    "start_time": "2024-03-03T12:06:58.903Z"
   },
   {
    "duration": 689,
    "start_time": "2024-03-03T12:07:03.363Z"
   },
   {
    "duration": 105,
    "start_time": "2024-03-03T12:07:04.054Z"
   },
   {
    "duration": 38,
    "start_time": "2024-03-03T12:07:04.160Z"
   },
   {
    "duration": 56,
    "start_time": "2024-03-03T12:07:04.200Z"
   },
   {
    "duration": 42,
    "start_time": "2024-03-03T12:07:04.259Z"
   },
   {
    "duration": 913,
    "start_time": "2024-03-03T12:07:04.303Z"
   },
   {
    "duration": 10,
    "start_time": "2024-03-03T12:07:05.217Z"
   },
   {
    "duration": 48,
    "start_time": "2024-03-03T12:07:05.228Z"
   },
   {
    "duration": 17,
    "start_time": "2024-03-03T12:07:05.277Z"
   },
   {
    "duration": 34,
    "start_time": "2024-03-03T12:07:05.295Z"
   },
   {
    "duration": 6,
    "start_time": "2024-03-03T12:07:05.331Z"
   },
   {
    "duration": 107,
    "start_time": "2024-03-03T12:07:05.338Z"
   },
   {
    "duration": 77,
    "start_time": "2024-03-03T12:07:05.447Z"
   },
   {
    "duration": 70,
    "start_time": "2024-03-03T12:07:05.527Z"
   },
   {
    "duration": 85,
    "start_time": "2024-03-03T12:07:05.599Z"
   },
   {
    "duration": 197,
    "start_time": "2024-03-03T12:07:05.686Z"
   },
   {
    "duration": 9,
    "start_time": "2024-03-03T12:07:05.885Z"
   },
   {
    "duration": 181,
    "start_time": "2024-03-03T12:07:05.896Z"
   },
   {
    "duration": 178,
    "start_time": "2024-03-03T12:07:06.079Z"
   },
   {
    "duration": 181,
    "start_time": "2024-03-03T12:07:06.258Z"
   },
   {
    "duration": 165,
    "start_time": "2024-03-03T12:07:06.441Z"
   },
   {
    "duration": 133,
    "start_time": "2024-03-03T12:07:06.608Z"
   },
   {
    "duration": 306,
    "start_time": "2024-03-03T12:07:06.743Z"
   },
   {
    "duration": 99,
    "start_time": "2024-03-03T12:07:07.050Z"
   },
   {
    "duration": 5,
    "start_time": "2024-03-03T12:13:02.105Z"
   },
   {
    "duration": 5,
    "start_time": "2024-03-03T12:13:11.659Z"
   },
   {
    "duration": 5,
    "start_time": "2024-03-03T12:13:31.088Z"
   },
   {
    "duration": 6,
    "start_time": "2024-03-03T12:13:34.559Z"
   },
   {
    "duration": 5,
    "start_time": "2024-03-03T12:14:25.036Z"
   },
   {
    "duration": 5,
    "start_time": "2024-03-03T12:14:32.728Z"
   },
   {
    "duration": 5,
    "start_time": "2024-03-03T12:14:58.617Z"
   },
   {
    "duration": 6,
    "start_time": "2024-03-03T12:15:09.960Z"
   },
   {
    "duration": 4,
    "start_time": "2024-03-03T12:15:19.249Z"
   },
   {
    "duration": 646,
    "start_time": "2024-03-03T12:16:08.605Z"
   },
   {
    "duration": 105,
    "start_time": "2024-03-03T12:16:09.253Z"
   },
   {
    "duration": 49,
    "start_time": "2024-03-03T12:16:09.364Z"
   },
   {
    "duration": 87,
    "start_time": "2024-03-03T12:16:09.414Z"
   },
   {
    "duration": 16,
    "start_time": "2024-03-03T12:16:09.503Z"
   },
   {
    "duration": 927,
    "start_time": "2024-03-03T12:16:09.520Z"
   },
   {
    "duration": 9,
    "start_time": "2024-03-03T12:16:10.449Z"
   },
   {
    "duration": 29,
    "start_time": "2024-03-03T12:16:10.459Z"
   },
   {
    "duration": 16,
    "start_time": "2024-03-03T12:16:10.489Z"
   },
   {
    "duration": 24,
    "start_time": "2024-03-03T12:16:10.506Z"
   },
   {
    "duration": 5,
    "start_time": "2024-03-03T12:16:10.532Z"
   },
   {
    "duration": 161,
    "start_time": "2024-03-03T12:16:10.540Z"
   },
   {
    "duration": 81,
    "start_time": "2024-03-03T12:16:10.702Z"
   },
   {
    "duration": 68,
    "start_time": "2024-03-03T12:16:10.785Z"
   },
   {
    "duration": 92,
    "start_time": "2024-03-03T12:16:10.854Z"
   },
   {
    "duration": 211,
    "start_time": "2024-03-03T12:16:10.948Z"
   },
   {
    "duration": 8,
    "start_time": "2024-03-03T12:16:11.160Z"
   },
   {
    "duration": 176,
    "start_time": "2024-03-03T12:16:11.181Z"
   },
   {
    "duration": 192,
    "start_time": "2024-03-03T12:16:11.359Z"
   },
   {
    "duration": 183,
    "start_time": "2024-03-03T12:16:11.553Z"
   },
   {
    "duration": 172,
    "start_time": "2024-03-03T12:16:11.737Z"
   },
   {
    "duration": 142,
    "start_time": "2024-03-03T12:16:11.911Z"
   },
   {
    "duration": 311,
    "start_time": "2024-03-03T12:16:12.055Z"
   },
   {
    "duration": 94,
    "start_time": "2024-03-03T12:16:12.368Z"
   },
   {
    "duration": 5,
    "start_time": "2024-03-03T12:16:21.962Z"
   },
   {
    "duration": 5,
    "start_time": "2024-03-03T12:16:58.014Z"
   },
   {
    "duration": 685,
    "start_time": "2024-03-03T12:17:08.566Z"
   },
   {
    "duration": 105,
    "start_time": "2024-03-03T12:17:09.253Z"
   },
   {
    "duration": 37,
    "start_time": "2024-03-03T12:17:09.360Z"
   },
   {
    "duration": 53,
    "start_time": "2024-03-03T12:17:09.399Z"
   },
   {
    "duration": 42,
    "start_time": "2024-03-03T12:17:09.455Z"
   },
   {
    "duration": 906,
    "start_time": "2024-03-03T12:17:09.499Z"
   },
   {
    "duration": 9,
    "start_time": "2024-03-03T12:17:10.407Z"
   },
   {
    "duration": 39,
    "start_time": "2024-03-03T12:17:10.418Z"
   },
   {
    "duration": 23,
    "start_time": "2024-03-03T12:17:10.459Z"
   },
   {
    "duration": 25,
    "start_time": "2024-03-03T12:17:10.484Z"
   },
   {
    "duration": 6,
    "start_time": "2024-03-03T12:17:10.511Z"
   },
   {
    "duration": 155,
    "start_time": "2024-03-03T12:17:10.519Z"
   },
   {
    "duration": 76,
    "start_time": "2024-03-03T12:17:10.682Z"
   },
   {
    "duration": 90,
    "start_time": "2024-03-03T12:17:10.761Z"
   },
   {
    "duration": 89,
    "start_time": "2024-03-03T12:17:10.853Z"
   },
   {
    "duration": 202,
    "start_time": "2024-03-03T12:17:10.944Z"
   },
   {
    "duration": 8,
    "start_time": "2024-03-03T12:17:11.147Z"
   },
   {
    "duration": 185,
    "start_time": "2024-03-03T12:17:11.156Z"
   },
   {
    "duration": 195,
    "start_time": "2024-03-03T12:17:11.343Z"
   },
   {
    "duration": 182,
    "start_time": "2024-03-03T12:17:11.540Z"
   },
   {
    "duration": 165,
    "start_time": "2024-03-03T12:17:11.724Z"
   },
   {
    "duration": 159,
    "start_time": "2024-03-03T12:17:11.891Z"
   },
   {
    "duration": 307,
    "start_time": "2024-03-03T12:17:12.052Z"
   },
   {
    "duration": 99,
    "start_time": "2024-03-03T12:17:12.361Z"
   },
   {
    "duration": 145,
    "start_time": "2024-03-03T12:18:04.443Z"
   },
   {
    "duration": 48,
    "start_time": "2024-03-03T12:18:12.764Z"
   },
   {
    "duration": 8,
    "start_time": "2024-03-03T12:18:33.356Z"
   },
   {
    "duration": 703,
    "start_time": "2024-03-03T12:18:51.802Z"
   },
   {
    "duration": 122,
    "start_time": "2024-03-03T12:18:52.507Z"
   },
   {
    "duration": 39,
    "start_time": "2024-03-03T12:18:52.630Z"
   },
   {
    "duration": 55,
    "start_time": "2024-03-03T12:18:52.682Z"
   },
   {
    "duration": 16,
    "start_time": "2024-03-03T12:18:52.739Z"
   },
   {
    "duration": 962,
    "start_time": "2024-03-03T12:18:52.756Z"
   },
   {
    "duration": 9,
    "start_time": "2024-03-03T12:18:53.720Z"
   },
   {
    "duration": 52,
    "start_time": "2024-03-03T12:18:53.731Z"
   },
   {
    "duration": 25,
    "start_time": "2024-03-03T12:18:53.785Z"
   },
   {
    "duration": 28,
    "start_time": "2024-03-03T12:18:53.812Z"
   },
   {
    "duration": 6,
    "start_time": "2024-03-03T12:18:53.841Z"
   },
   {
    "duration": 99,
    "start_time": "2024-03-03T12:18:53.849Z"
   },
   {
    "duration": 88,
    "start_time": "2024-03-03T12:18:53.950Z"
   },
   {
    "duration": 82,
    "start_time": "2024-03-03T12:18:54.042Z"
   },
   {
    "duration": 83,
    "start_time": "2024-03-03T12:18:54.127Z"
   },
   {
    "duration": 202,
    "start_time": "2024-03-03T12:18:54.212Z"
   },
   {
    "duration": 9,
    "start_time": "2024-03-03T12:18:54.416Z"
   },
   {
    "duration": 185,
    "start_time": "2024-03-03T12:18:54.427Z"
   },
   {
    "duration": 188,
    "start_time": "2024-03-03T12:18:54.614Z"
   },
   {
    "duration": 186,
    "start_time": "2024-03-03T12:18:54.804Z"
   },
   {
    "duration": 166,
    "start_time": "2024-03-03T12:18:54.992Z"
   },
   {
    "duration": 157,
    "start_time": "2024-03-03T12:18:55.160Z"
   },
   {
    "duration": 315,
    "start_time": "2024-03-03T12:18:55.319Z"
   },
   {
    "duration": 99,
    "start_time": "2024-03-03T12:18:55.636Z"
   },
   {
    "duration": 224,
    "start_time": "2024-03-03T12:35:55.498Z"
   },
   {
    "duration": 142,
    "start_time": "2024-03-03T12:36:04.441Z"
   },
   {
    "duration": 681,
    "start_time": "2024-03-03T12:36:54.212Z"
   },
   {
    "duration": 105,
    "start_time": "2024-03-03T12:36:54.895Z"
   },
   {
    "duration": 35,
    "start_time": "2024-03-03T12:36:55.001Z"
   },
   {
    "duration": 68,
    "start_time": "2024-03-03T12:36:55.037Z"
   },
   {
    "duration": 15,
    "start_time": "2024-03-03T12:36:55.107Z"
   },
   {
    "duration": 932,
    "start_time": "2024-03-03T12:36:55.124Z"
   },
   {
    "duration": 11,
    "start_time": "2024-03-03T12:36:56.057Z"
   },
   {
    "duration": 44,
    "start_time": "2024-03-03T12:36:56.082Z"
   },
   {
    "duration": 22,
    "start_time": "2024-03-03T12:36:56.128Z"
   },
   {
    "duration": 52,
    "start_time": "2024-03-03T12:36:56.152Z"
   },
   {
    "duration": 7,
    "start_time": "2024-03-03T12:36:56.206Z"
   },
   {
    "duration": 96,
    "start_time": "2024-03-03T12:36:56.215Z"
   },
   {
    "duration": 77,
    "start_time": "2024-03-03T12:36:56.313Z"
   },
   {
    "duration": 63,
    "start_time": "2024-03-03T12:36:56.393Z"
   },
   {
    "duration": 87,
    "start_time": "2024-03-03T12:36:56.457Z"
   },
   {
    "duration": 197,
    "start_time": "2024-03-03T12:36:56.545Z"
   },
   {
    "duration": 7,
    "start_time": "2024-03-03T12:36:56.743Z"
   },
   {
    "duration": 176,
    "start_time": "2024-03-03T12:36:56.752Z"
   },
   {
    "duration": 192,
    "start_time": "2024-03-03T12:36:56.930Z"
   },
   {
    "duration": 181,
    "start_time": "2024-03-03T12:36:57.123Z"
   },
   {
    "duration": 168,
    "start_time": "2024-03-03T12:36:57.305Z"
   },
   {
    "duration": 148,
    "start_time": "2024-03-03T12:36:57.474Z"
   },
   {
    "duration": 320,
    "start_time": "2024-03-03T12:36:57.623Z"
   },
   {
    "duration": 98,
    "start_time": "2024-03-03T12:36:57.945Z"
   },
   {
    "duration": 17,
    "start_time": "2024-03-03T12:38:05.700Z"
   },
   {
    "duration": 24,
    "start_time": "2024-03-03T12:41:12.675Z"
   },
   {
    "duration": 116,
    "start_time": "2024-03-03T12:43:39.453Z"
   },
   {
    "duration": 172,
    "start_time": "2024-03-03T12:43:46.560Z"
   },
   {
    "duration": 164,
    "start_time": "2024-03-03T12:44:30.820Z"
   },
   {
    "duration": 164,
    "start_time": "2024-03-03T12:45:47.824Z"
   },
   {
    "duration": 158,
    "start_time": "2024-03-03T12:45:57.104Z"
   },
   {
    "duration": 9,
    "start_time": "2024-03-03T13:10:51.089Z"
   },
   {
    "duration": 23,
    "start_time": "2024-03-03T13:11:39.703Z"
   },
   {
    "duration": 45,
    "start_time": "2024-03-03T13:17:11.823Z"
   },
   {
    "duration": 662,
    "start_time": "2024-03-03T13:17:19.900Z"
   },
   {
    "duration": 113,
    "start_time": "2024-03-03T13:17:20.564Z"
   },
   {
    "duration": 36,
    "start_time": "2024-03-03T13:17:20.678Z"
   },
   {
    "duration": 70,
    "start_time": "2024-03-03T13:17:20.717Z"
   },
   {
    "duration": 15,
    "start_time": "2024-03-03T13:17:20.789Z"
   },
   {
    "duration": 910,
    "start_time": "2024-03-03T13:17:20.806Z"
   },
   {
    "duration": 12,
    "start_time": "2024-03-03T13:17:21.718Z"
   },
   {
    "duration": 58,
    "start_time": "2024-03-03T13:17:21.732Z"
   },
   {
    "duration": 18,
    "start_time": "2024-03-03T13:17:21.792Z"
   },
   {
    "duration": 29,
    "start_time": "2024-03-03T13:17:21.814Z"
   },
   {
    "duration": 39,
    "start_time": "2024-03-03T13:17:21.845Z"
   },
   {
    "duration": 96,
    "start_time": "2024-03-03T13:17:21.886Z"
   },
   {
    "duration": 68,
    "start_time": "2024-03-03T13:17:21.984Z"
   },
   {
    "duration": 88,
    "start_time": "2024-03-03T13:17:22.054Z"
   },
   {
    "duration": 87,
    "start_time": "2024-03-03T13:17:22.144Z"
   },
   {
    "duration": 203,
    "start_time": "2024-03-03T13:17:22.233Z"
   },
   {
    "duration": 7,
    "start_time": "2024-03-03T13:17:22.437Z"
   },
   {
    "duration": 181,
    "start_time": "2024-03-03T13:17:22.446Z"
   },
   {
    "duration": 183,
    "start_time": "2024-03-03T13:17:22.629Z"
   },
   {
    "duration": 175,
    "start_time": "2024-03-03T13:17:22.814Z"
   },
   {
    "duration": 173,
    "start_time": "2024-03-03T13:17:22.991Z"
   },
   {
    "duration": 140,
    "start_time": "2024-03-03T13:17:23.167Z"
   },
   {
    "duration": 306,
    "start_time": "2024-03-03T13:17:23.309Z"
   },
   {
    "duration": 262,
    "start_time": "2024-03-03T13:17:23.617Z"
   },
   {
    "duration": 68,
    "start_time": "2024-03-03T13:18:01.605Z"
   },
   {
    "duration": 53,
    "start_time": "2024-03-03T13:18:10.839Z"
   },
   {
    "duration": 51,
    "start_time": "2024-03-03T13:22:20.849Z"
   },
   {
    "duration": 61,
    "start_time": "2024-03-03T13:23:21.668Z"
   },
   {
    "duration": 76,
    "start_time": "2024-03-03T13:24:46.833Z"
   },
   {
    "duration": 687,
    "start_time": "2024-03-03T13:24:55.163Z"
   },
   {
    "duration": 112,
    "start_time": "2024-03-03T13:24:55.852Z"
   },
   {
    "duration": 40,
    "start_time": "2024-03-03T13:24:55.966Z"
   },
   {
    "duration": 53,
    "start_time": "2024-03-03T13:24:56.008Z"
   },
   {
    "duration": 32,
    "start_time": "2024-03-03T13:24:56.063Z"
   },
   {
    "duration": 916,
    "start_time": "2024-03-03T13:24:56.096Z"
   },
   {
    "duration": 8,
    "start_time": "2024-03-03T13:24:57.014Z"
   },
   {
    "duration": 35,
    "start_time": "2024-03-03T13:24:57.024Z"
   },
   {
    "duration": 31,
    "start_time": "2024-03-03T13:24:57.062Z"
   },
   {
    "duration": 24,
    "start_time": "2024-03-03T13:24:57.095Z"
   },
   {
    "duration": 5,
    "start_time": "2024-03-03T13:24:57.120Z"
   },
   {
    "duration": 105,
    "start_time": "2024-03-03T13:24:57.127Z"
   },
   {
    "duration": 80,
    "start_time": "2024-03-03T13:24:57.234Z"
   },
   {
    "duration": 71,
    "start_time": "2024-03-03T13:24:57.316Z"
   },
   {
    "duration": 147,
    "start_time": "2024-03-03T13:24:57.388Z"
   },
   {
    "duration": 0,
    "start_time": "2024-03-03T13:24:57.536Z"
   },
   {
    "duration": 0,
    "start_time": "2024-03-03T13:24:57.537Z"
   },
   {
    "duration": 0,
    "start_time": "2024-03-03T13:24:57.539Z"
   },
   {
    "duration": 0,
    "start_time": "2024-03-03T13:24:57.540Z"
   },
   {
    "duration": 0,
    "start_time": "2024-03-03T13:24:57.541Z"
   },
   {
    "duration": 0,
    "start_time": "2024-03-03T13:24:57.542Z"
   },
   {
    "duration": 0,
    "start_time": "2024-03-03T13:24:57.543Z"
   },
   {
    "duration": 0,
    "start_time": "2024-03-03T13:24:57.544Z"
   },
   {
    "duration": 0,
    "start_time": "2024-03-03T13:24:57.545Z"
   },
   {
    "duration": 63,
    "start_time": "2024-03-03T13:28:39.992Z"
   },
   {
    "duration": 698,
    "start_time": "2024-03-03T13:28:45.655Z"
   },
   {
    "duration": 110,
    "start_time": "2024-03-03T13:28:46.357Z"
   },
   {
    "duration": 37,
    "start_time": "2024-03-03T13:28:46.469Z"
   },
   {
    "duration": 53,
    "start_time": "2024-03-03T13:28:46.508Z"
   },
   {
    "duration": 32,
    "start_time": "2024-03-03T13:28:46.563Z"
   },
   {
    "duration": 885,
    "start_time": "2024-03-03T13:28:46.597Z"
   },
   {
    "duration": 9,
    "start_time": "2024-03-03T13:28:47.484Z"
   },
   {
    "duration": 45,
    "start_time": "2024-03-03T13:28:47.494Z"
   },
   {
    "duration": 24,
    "start_time": "2024-03-03T13:28:47.541Z"
   },
   {
    "duration": 44,
    "start_time": "2024-03-03T13:28:47.567Z"
   },
   {
    "duration": 6,
    "start_time": "2024-03-03T13:28:47.612Z"
   },
   {
    "duration": 100,
    "start_time": "2024-03-03T13:28:47.619Z"
   },
   {
    "duration": 84,
    "start_time": "2024-03-03T13:28:47.720Z"
   },
   {
    "duration": 58,
    "start_time": "2024-03-03T13:28:47.806Z"
   },
   {
    "duration": 241,
    "start_time": "2024-03-03T13:28:47.866Z"
   },
   {
    "duration": 0,
    "start_time": "2024-03-03T13:28:48.110Z"
   },
   {
    "duration": 0,
    "start_time": "2024-03-03T13:28:48.111Z"
   },
   {
    "duration": 0,
    "start_time": "2024-03-03T13:28:48.113Z"
   },
   {
    "duration": 0,
    "start_time": "2024-03-03T13:28:48.114Z"
   },
   {
    "duration": 0,
    "start_time": "2024-03-03T13:28:48.116Z"
   },
   {
    "duration": 0,
    "start_time": "2024-03-03T13:28:48.117Z"
   },
   {
    "duration": 0,
    "start_time": "2024-03-03T13:28:48.119Z"
   },
   {
    "duration": 0,
    "start_time": "2024-03-03T13:28:48.121Z"
   },
   {
    "duration": 0,
    "start_time": "2024-03-03T13:28:48.122Z"
   },
   {
    "duration": 726,
    "start_time": "2024-03-03T13:29:49.352Z"
   },
   {
    "duration": 106,
    "start_time": "2024-03-03T13:29:50.082Z"
   },
   {
    "duration": 35,
    "start_time": "2024-03-03T13:29:50.189Z"
   },
   {
    "duration": 68,
    "start_time": "2024-03-03T13:29:50.226Z"
   },
   {
    "duration": 14,
    "start_time": "2024-03-03T13:29:50.296Z"
   },
   {
    "duration": 922,
    "start_time": "2024-03-03T13:29:50.312Z"
   },
   {
    "duration": 10,
    "start_time": "2024-03-03T13:29:51.235Z"
   },
   {
    "duration": 72,
    "start_time": "2024-03-03T13:29:51.246Z"
   },
   {
    "duration": 25,
    "start_time": "2024-03-03T13:29:51.320Z"
   },
   {
    "duration": 26,
    "start_time": "2024-03-03T13:29:51.347Z"
   },
   {
    "duration": 6,
    "start_time": "2024-03-03T13:29:51.375Z"
   },
   {
    "duration": 116,
    "start_time": "2024-03-03T13:29:51.383Z"
   },
   {
    "duration": 82,
    "start_time": "2024-03-03T13:29:51.501Z"
   },
   {
    "duration": 53,
    "start_time": "2024-03-03T13:29:51.587Z"
   },
   {
    "duration": 257,
    "start_time": "2024-03-03T13:29:51.642Z"
   },
   {
    "duration": 0,
    "start_time": "2024-03-03T13:29:51.900Z"
   },
   {
    "duration": 1,
    "start_time": "2024-03-03T13:29:51.901Z"
   },
   {
    "duration": 0,
    "start_time": "2024-03-03T13:29:51.903Z"
   },
   {
    "duration": 0,
    "start_time": "2024-03-03T13:29:51.904Z"
   },
   {
    "duration": 0,
    "start_time": "2024-03-03T13:29:51.905Z"
   },
   {
    "duration": 0,
    "start_time": "2024-03-03T13:29:51.907Z"
   },
   {
    "duration": 0,
    "start_time": "2024-03-03T13:29:51.908Z"
   },
   {
    "duration": 0,
    "start_time": "2024-03-03T13:29:51.909Z"
   },
   {
    "duration": 0,
    "start_time": "2024-03-03T13:29:51.910Z"
   },
   {
    "duration": 639,
    "start_time": "2024-03-03T13:32:08.236Z"
   },
   {
    "duration": 108,
    "start_time": "2024-03-03T13:32:08.877Z"
   },
   {
    "duration": 39,
    "start_time": "2024-03-03T13:32:08.987Z"
   },
   {
    "duration": 71,
    "start_time": "2024-03-03T13:32:09.028Z"
   },
   {
    "duration": 16,
    "start_time": "2024-03-03T13:32:09.102Z"
   },
   {
    "duration": 932,
    "start_time": "2024-03-03T13:32:09.119Z"
   },
   {
    "duration": 10,
    "start_time": "2024-03-03T13:32:10.053Z"
   },
   {
    "duration": 48,
    "start_time": "2024-03-03T13:32:10.065Z"
   },
   {
    "duration": 16,
    "start_time": "2024-03-03T13:32:10.115Z"
   },
   {
    "duration": 26,
    "start_time": "2024-03-03T13:32:10.133Z"
   },
   {
    "duration": 5,
    "start_time": "2024-03-03T13:32:10.160Z"
   },
   {
    "duration": 85,
    "start_time": "2024-03-03T13:32:10.182Z"
   },
   {
    "duration": 72,
    "start_time": "2024-03-03T13:32:10.269Z"
   },
   {
    "duration": 68,
    "start_time": "2024-03-03T13:32:10.344Z"
   },
   {
    "duration": 237,
    "start_time": "2024-03-03T13:32:10.413Z"
   },
   {
    "duration": 0,
    "start_time": "2024-03-03T13:32:10.652Z"
   },
   {
    "duration": 0,
    "start_time": "2024-03-03T13:32:10.653Z"
   },
   {
    "duration": 0,
    "start_time": "2024-03-03T13:32:10.655Z"
   },
   {
    "duration": 0,
    "start_time": "2024-03-03T13:32:10.656Z"
   },
   {
    "duration": 0,
    "start_time": "2024-03-03T13:32:10.657Z"
   },
   {
    "duration": 0,
    "start_time": "2024-03-03T13:32:10.658Z"
   },
   {
    "duration": 0,
    "start_time": "2024-03-03T13:32:10.659Z"
   },
   {
    "duration": 0,
    "start_time": "2024-03-03T13:32:10.660Z"
   },
   {
    "duration": 0,
    "start_time": "2024-03-03T13:32:10.661Z"
   },
   {
    "duration": 162,
    "start_time": "2024-03-03T13:32:23.956Z"
   },
   {
    "duration": 700,
    "start_time": "2024-03-03T13:32:40.468Z"
   },
   {
    "duration": 102,
    "start_time": "2024-03-03T13:32:41.170Z"
   },
   {
    "duration": 36,
    "start_time": "2024-03-03T13:32:41.274Z"
   },
   {
    "duration": 51,
    "start_time": "2024-03-03T13:32:41.311Z"
   },
   {
    "duration": 16,
    "start_time": "2024-03-03T13:32:41.381Z"
   },
   {
    "duration": 928,
    "start_time": "2024-03-03T13:32:41.398Z"
   },
   {
    "duration": 9,
    "start_time": "2024-03-03T13:32:42.328Z"
   },
   {
    "duration": 18,
    "start_time": "2024-03-03T13:32:42.338Z"
   },
   {
    "duration": 35,
    "start_time": "2024-03-03T13:32:42.358Z"
   },
   {
    "duration": 27,
    "start_time": "2024-03-03T13:32:42.395Z"
   },
   {
    "duration": 6,
    "start_time": "2024-03-03T13:32:42.423Z"
   },
   {
    "duration": 112,
    "start_time": "2024-03-03T13:32:42.431Z"
   },
   {
    "duration": 81,
    "start_time": "2024-03-03T13:32:42.545Z"
   },
   {
    "duration": 61,
    "start_time": "2024-03-03T13:32:42.628Z"
   },
   {
    "duration": 237,
    "start_time": "2024-03-03T13:32:42.690Z"
   },
   {
    "duration": 0,
    "start_time": "2024-03-03T13:32:42.929Z"
   },
   {
    "duration": 0,
    "start_time": "2024-03-03T13:32:42.930Z"
   },
   {
    "duration": 0,
    "start_time": "2024-03-03T13:32:42.931Z"
   },
   {
    "duration": 0,
    "start_time": "2024-03-03T13:32:42.932Z"
   },
   {
    "duration": 0,
    "start_time": "2024-03-03T13:32:42.933Z"
   },
   {
    "duration": 0,
    "start_time": "2024-03-03T13:32:42.934Z"
   },
   {
    "duration": 0,
    "start_time": "2024-03-03T13:32:42.935Z"
   },
   {
    "duration": 0,
    "start_time": "2024-03-03T13:32:42.936Z"
   },
   {
    "duration": 1,
    "start_time": "2024-03-03T13:32:42.936Z"
   },
   {
    "duration": 183,
    "start_time": "2024-03-03T13:32:49.845Z"
   },
   {
    "duration": 156,
    "start_time": "2024-03-03T13:34:01.957Z"
   },
   {
    "duration": 160,
    "start_time": "2024-03-03T13:35:55.553Z"
   },
   {
    "duration": 180,
    "start_time": "2024-03-03T13:36:07.449Z"
   },
   {
    "duration": 7,
    "start_time": "2024-03-03T13:36:10.001Z"
   },
   {
    "duration": 946,
    "start_time": "2024-03-03T13:43:02.337Z"
   },
   {
    "duration": 882,
    "start_time": "2024-03-03T13:43:23.290Z"
   },
   {
    "duration": 715,
    "start_time": "2024-03-03T13:43:39.413Z"
   },
   {
    "duration": 130,
    "start_time": "2024-03-03T13:43:40.131Z"
   },
   {
    "duration": 62,
    "start_time": "2024-03-03T13:43:40.263Z"
   },
   {
    "duration": 69,
    "start_time": "2024-03-03T13:43:40.327Z"
   },
   {
    "duration": 19,
    "start_time": "2024-03-03T13:43:40.399Z"
   },
   {
    "duration": 965,
    "start_time": "2024-03-03T13:43:40.420Z"
   },
   {
    "duration": 9,
    "start_time": "2024-03-03T13:43:41.387Z"
   },
   {
    "duration": 67,
    "start_time": "2024-03-03T13:43:41.397Z"
   },
   {
    "duration": 22,
    "start_time": "2024-03-03T13:43:41.466Z"
   },
   {
    "duration": 36,
    "start_time": "2024-03-03T13:43:41.491Z"
   },
   {
    "duration": 8,
    "start_time": "2024-03-03T13:43:41.529Z"
   },
   {
    "duration": 160,
    "start_time": "2024-03-03T13:43:41.539Z"
   },
   {
    "duration": 102,
    "start_time": "2024-03-03T13:43:41.700Z"
   },
   {
    "duration": 92,
    "start_time": "2024-03-03T13:43:41.806Z"
   },
   {
    "duration": 273,
    "start_time": "2024-03-03T13:43:41.900Z"
   },
   {
    "duration": 1,
    "start_time": "2024-03-03T13:43:42.175Z"
   },
   {
    "duration": 0,
    "start_time": "2024-03-03T13:43:42.177Z"
   },
   {
    "duration": 0,
    "start_time": "2024-03-03T13:43:42.178Z"
   },
   {
    "duration": 0,
    "start_time": "2024-03-03T13:43:42.182Z"
   },
   {
    "duration": 0,
    "start_time": "2024-03-03T13:43:42.183Z"
   },
   {
    "duration": 0,
    "start_time": "2024-03-03T13:43:42.184Z"
   },
   {
    "duration": 0,
    "start_time": "2024-03-03T13:43:42.185Z"
   },
   {
    "duration": 0,
    "start_time": "2024-03-03T13:43:42.186Z"
   },
   {
    "duration": 0,
    "start_time": "2024-03-03T13:43:42.188Z"
   },
   {
    "duration": 195,
    "start_time": "2024-03-03T13:44:11.605Z"
   },
   {
    "duration": 203,
    "start_time": "2024-03-03T13:44:42.996Z"
   },
   {
    "duration": 9,
    "start_time": "2024-03-03T13:44:45.061Z"
   },
   {
    "duration": 172,
    "start_time": "2024-03-03T13:44:47.299Z"
   },
   {
    "duration": 186,
    "start_time": "2024-03-03T13:45:17.099Z"
   },
   {
    "duration": 195,
    "start_time": "2024-03-03T13:45:22.355Z"
   },
   {
    "duration": 198,
    "start_time": "2024-03-03T13:45:33.863Z"
   },
   {
    "duration": 53,
    "start_time": "2024-03-03T13:46:14.259Z"
   },
   {
    "duration": 265,
    "start_time": "2024-03-03T13:46:19.516Z"
   },
   {
    "duration": 188,
    "start_time": "2024-03-03T13:46:22.713Z"
   },
   {
    "duration": 7,
    "start_time": "2024-03-03T13:46:25.789Z"
   },
   {
    "duration": 157,
    "start_time": "2024-03-03T13:46:28.457Z"
   },
   {
    "duration": 181,
    "start_time": "2024-03-03T13:46:37.263Z"
   },
   {
    "duration": 190,
    "start_time": "2024-03-03T13:46:51.229Z"
   },
   {
    "duration": 167,
    "start_time": "2024-03-03T13:47:14.531Z"
   },
   {
    "duration": 161,
    "start_time": "2024-03-03T13:47:26.839Z"
   },
   {
    "duration": 356,
    "start_time": "2024-03-03T13:47:29.904Z"
   },
   {
    "duration": 155,
    "start_time": "2024-03-03T13:48:43.327Z"
   },
   {
    "duration": 20,
    "start_time": "2024-03-03T13:49:36.774Z"
   },
   {
    "duration": 25,
    "start_time": "2024-03-03T13:49:43.954Z"
   },
   {
    "duration": 167,
    "start_time": "2024-03-03T13:51:17.650Z"
   },
   {
    "duration": 189,
    "start_time": "2024-03-03T13:55:38.682Z"
   },
   {
    "duration": 344,
    "start_time": "2024-03-03T13:59:29.887Z"
   },
   {
    "duration": 1639,
    "start_time": "2024-03-03T14:02:29.334Z"
   },
   {
    "duration": 236,
    "start_time": "2024-03-03T14:02:59.825Z"
   },
   {
    "duration": 266,
    "start_time": "2024-03-03T14:05:37.694Z"
   },
   {
    "duration": 272,
    "start_time": "2024-03-03T14:05:53.988Z"
   },
   {
    "duration": 277,
    "start_time": "2024-03-03T14:06:28.225Z"
   },
   {
    "duration": 261,
    "start_time": "2024-03-03T14:07:01.478Z"
   },
   {
    "duration": 288,
    "start_time": "2024-03-03T14:07:08.474Z"
   },
   {
    "duration": 24,
    "start_time": "2024-03-03T14:07:41.192Z"
   },
   {
    "duration": 28,
    "start_time": "2024-03-03T14:08:05.392Z"
   },
   {
    "duration": 407,
    "start_time": "2024-03-03T14:12:14.624Z"
   },
   {
    "duration": 129,
    "start_time": "2024-03-03T14:37:18.020Z"
   },
   {
    "duration": 86,
    "start_time": "2024-03-03T14:37:30.131Z"
   },
   {
    "duration": 182,
    "start_time": "2024-03-03T14:37:37.722Z"
   },
   {
    "duration": 247,
    "start_time": "2024-03-03T14:37:41.015Z"
   },
   {
    "duration": 205,
    "start_time": "2024-03-03T14:37:46.774Z"
   },
   {
    "duration": 312,
    "start_time": "2024-03-03T14:37:49.710Z"
   },
   {
    "duration": 257,
    "start_time": "2024-03-03T14:37:57.213Z"
   },
   {
    "duration": 216,
    "start_time": "2024-03-03T14:38:02.244Z"
   },
   {
    "duration": 210,
    "start_time": "2024-03-03T14:38:05.192Z"
   },
   {
    "duration": 314,
    "start_time": "2024-03-03T14:38:07.745Z"
   },
   {
    "duration": 315,
    "start_time": "2024-03-03T14:38:11.917Z"
   },
   {
    "duration": 447,
    "start_time": "2024-03-03T14:38:15.675Z"
   },
   {
    "duration": 7,
    "start_time": "2024-03-03T14:39:41.070Z"
   },
   {
    "duration": 650,
    "start_time": "2024-03-03T15:41:06.687Z"
   },
   {
    "duration": 100,
    "start_time": "2024-03-03T15:41:07.339Z"
   },
   {
    "duration": 42,
    "start_time": "2024-03-03T15:41:07.440Z"
   },
   {
    "duration": 55,
    "start_time": "2024-03-03T15:41:07.483Z"
   },
   {
    "duration": 16,
    "start_time": "2024-03-03T15:41:07.540Z"
   },
   {
    "duration": 831,
    "start_time": "2024-03-03T15:41:07.558Z"
   },
   {
    "duration": 8,
    "start_time": "2024-03-03T15:41:08.393Z"
   },
   {
    "duration": 22,
    "start_time": "2024-03-03T15:41:08.402Z"
   },
   {
    "duration": 16,
    "start_time": "2024-03-03T15:41:08.426Z"
   },
   {
    "duration": 28,
    "start_time": "2024-03-03T15:41:08.444Z"
   },
   {
    "duration": 18,
    "start_time": "2024-03-03T15:41:08.473Z"
   },
   {
    "duration": 91,
    "start_time": "2024-03-03T15:41:08.493Z"
   },
   {
    "duration": 62,
    "start_time": "2024-03-03T15:41:08.586Z"
   },
   {
    "duration": 56,
    "start_time": "2024-03-03T15:41:08.651Z"
   },
   {
    "duration": 136,
    "start_time": "2024-03-03T15:41:08.709Z"
   },
   {
    "duration": 195,
    "start_time": "2024-03-03T15:41:08.847Z"
   },
   {
    "duration": 6,
    "start_time": "2024-03-03T15:41:09.043Z"
   },
   {
    "duration": 180,
    "start_time": "2024-03-03T15:41:09.050Z"
   },
   {
    "duration": 160,
    "start_time": "2024-03-03T15:41:09.231Z"
   },
   {
    "duration": 165,
    "start_time": "2024-03-03T15:41:09.394Z"
   },
   {
    "duration": 153,
    "start_time": "2024-03-03T15:41:09.560Z"
   },
   {
    "duration": 139,
    "start_time": "2024-03-03T15:41:09.715Z"
   },
   {
    "duration": 287,
    "start_time": "2024-03-03T15:41:09.856Z"
   },
   {
    "duration": 245,
    "start_time": "2024-03-03T15:41:10.144Z"
   },
   {
    "duration": 267,
    "start_time": "2024-03-03T15:41:10.394Z"
   },
   {
    "duration": 44,
    "start_time": "2024-03-08T05:09:35.579Z"
   },
   {
    "duration": 4,
    "start_time": "2024-03-08T05:20:35.605Z"
   },
   {
    "duration": 715,
    "start_time": "2024-03-08T05:20:44.223Z"
   },
   {
    "duration": 303,
    "start_time": "2024-03-08T05:20:44.940Z"
   },
   {
    "duration": 28,
    "start_time": "2024-03-08T05:20:45.244Z"
   },
   {
    "duration": 60,
    "start_time": "2024-03-08T05:20:45.273Z"
   },
   {
    "duration": 12,
    "start_time": "2024-03-08T05:20:45.335Z"
   },
   {
    "duration": 661,
    "start_time": "2024-03-08T05:20:45.348Z"
   },
   {
    "duration": 8,
    "start_time": "2024-03-08T05:20:46.010Z"
   },
   {
    "duration": 23,
    "start_time": "2024-03-08T05:20:46.019Z"
   },
   {
    "duration": 14,
    "start_time": "2024-03-08T05:20:46.043Z"
   },
   {
    "duration": 20,
    "start_time": "2024-03-08T05:20:46.058Z"
   },
   {
    "duration": 13,
    "start_time": "2024-03-08T05:20:46.079Z"
   },
   {
    "duration": 65,
    "start_time": "2024-03-08T05:20:46.093Z"
   },
   {
    "duration": 67,
    "start_time": "2024-03-08T05:20:46.159Z"
   },
   {
    "duration": 42,
    "start_time": "2024-03-08T05:20:46.228Z"
   },
   {
    "duration": 114,
    "start_time": "2024-03-08T05:20:46.271Z"
   },
   {
    "duration": 153,
    "start_time": "2024-03-08T05:20:46.386Z"
   },
   {
    "duration": 5,
    "start_time": "2024-03-08T05:20:46.541Z"
   },
   {
    "duration": 155,
    "start_time": "2024-03-08T05:20:46.548Z"
   },
   {
    "duration": 132,
    "start_time": "2024-03-08T05:20:46.705Z"
   },
   {
    "duration": 143,
    "start_time": "2024-03-08T05:20:46.838Z"
   },
   {
    "duration": 130,
    "start_time": "2024-03-08T05:20:46.982Z"
   },
   {
    "duration": 113,
    "start_time": "2024-03-08T05:20:47.114Z"
   },
   {
    "duration": 234,
    "start_time": "2024-03-08T05:20:47.229Z"
   },
   {
    "duration": 199,
    "start_time": "2024-03-08T05:20:47.465Z"
   },
   {
    "duration": 213,
    "start_time": "2024-03-08T05:20:47.666Z"
   },
   {
    "duration": 936,
    "start_time": "2024-03-08T05:25:06.096Z"
   },
   {
    "duration": 2335,
    "start_time": "2024-03-08T05:26:34.125Z"
   },
   {
    "duration": 10,
    "start_time": "2024-03-08T05:33:55.107Z"
   },
   {
    "duration": 5,
    "start_time": "2024-03-08T05:34:20.888Z"
   },
   {
    "duration": 7,
    "start_time": "2024-03-08T05:34:27.020Z"
   },
   {
    "duration": 584,
    "start_time": "2024-03-08T05:34:58.272Z"
   },
   {
    "duration": 84,
    "start_time": "2024-03-08T05:34:58.858Z"
   },
   {
    "duration": 26,
    "start_time": "2024-03-08T05:34:58.943Z"
   },
   {
    "duration": 44,
    "start_time": "2024-03-08T05:34:58.970Z"
   },
   {
    "duration": 12,
    "start_time": "2024-03-08T05:34:59.015Z"
   },
   {
    "duration": 641,
    "start_time": "2024-03-08T05:34:59.028Z"
   },
   {
    "duration": 1926,
    "start_time": "2024-03-08T05:34:59.670Z"
   },
   {
    "duration": 7,
    "start_time": "2024-03-08T05:35:01.598Z"
   },
   {
    "duration": 46,
    "start_time": "2024-03-08T05:35:01.606Z"
   },
   {
    "duration": 66,
    "start_time": "2024-03-08T05:35:01.654Z"
   },
   {
    "duration": 77,
    "start_time": "2024-03-08T05:35:01.721Z"
   },
   {
    "duration": 27,
    "start_time": "2024-03-08T05:35:01.799Z"
   },
   {
    "duration": 81,
    "start_time": "2024-03-08T05:35:01.827Z"
   },
   {
    "duration": 57,
    "start_time": "2024-03-08T05:35:01.910Z"
   },
   {
    "duration": 52,
    "start_time": "2024-03-08T05:35:01.969Z"
   },
   {
    "duration": 117,
    "start_time": "2024-03-08T05:35:02.022Z"
   },
   {
    "duration": 140,
    "start_time": "2024-03-08T05:35:02.141Z"
   },
   {
    "duration": 21,
    "start_time": "2024-03-08T05:35:02.282Z"
   },
   {
    "duration": 150,
    "start_time": "2024-03-08T05:35:02.304Z"
   },
   {
    "duration": 134,
    "start_time": "2024-03-08T05:35:02.456Z"
   },
   {
    "duration": 139,
    "start_time": "2024-03-08T05:35:02.591Z"
   },
   {
    "duration": 131,
    "start_time": "2024-03-08T05:35:02.732Z"
   },
   {
    "duration": 112,
    "start_time": "2024-03-08T05:35:02.864Z"
   },
   {
    "duration": 311,
    "start_time": "2024-03-08T05:35:02.978Z"
   },
   {
    "duration": 143,
    "start_time": "2024-03-08T05:35:03.290Z"
   },
   {
    "duration": 205,
    "start_time": "2024-03-08T05:35:03.434Z"
   },
   {
    "duration": 3,
    "start_time": "2024-03-08T05:44:27.808Z"
   },
   {
    "duration": 4,
    "start_time": "2024-03-08T05:44:52.061Z"
   },
   {
    "duration": 7,
    "start_time": "2024-03-08T05:46:27.632Z"
   },
   {
    "duration": 78,
    "start_time": "2024-03-08T05:49:21.034Z"
   },
   {
    "duration": 4,
    "start_time": "2024-03-08T05:49:27.794Z"
   },
   {
    "duration": 7,
    "start_time": "2024-03-08T05:49:32.602Z"
   },
   {
    "duration": 11,
    "start_time": "2024-03-08T05:49:34.470Z"
   },
   {
    "duration": 15,
    "start_time": "2024-03-08T05:52:10.978Z"
   },
   {
    "duration": 18,
    "start_time": "2024-03-08T05:52:24.814Z"
   },
   {
    "duration": 5,
    "start_time": "2024-03-08T05:52:37.256Z"
   },
   {
    "duration": 20,
    "start_time": "2024-03-08T05:52:45.277Z"
   },
   {
    "duration": 20,
    "start_time": "2024-03-08T05:52:47.653Z"
   },
   {
    "duration": 52,
    "start_time": "2024-03-08T05:52:58.439Z"
   },
   {
    "duration": 18,
    "start_time": "2024-03-08T05:53:17.924Z"
   },
   {
    "duration": 4,
    "start_time": "2024-03-08T05:53:28.330Z"
   },
   {
    "duration": 17,
    "start_time": "2024-03-08T05:53:34.996Z"
   },
   {
    "duration": 9,
    "start_time": "2024-03-08T05:53:40.577Z"
   },
   {
    "duration": 558,
    "start_time": "2024-03-08T05:54:24.824Z"
   },
   {
    "duration": 84,
    "start_time": "2024-03-08T05:54:25.384Z"
   },
   {
    "duration": 26,
    "start_time": "2024-03-08T05:54:25.469Z"
   },
   {
    "duration": 39,
    "start_time": "2024-03-08T05:54:25.497Z"
   },
   {
    "duration": 13,
    "start_time": "2024-03-08T05:54:25.537Z"
   },
   {
    "duration": 639,
    "start_time": "2024-03-08T05:54:25.551Z"
   },
   {
    "duration": 1864,
    "start_time": "2024-03-08T05:54:26.192Z"
   },
   {
    "duration": 8,
    "start_time": "2024-03-08T05:54:28.057Z"
   },
   {
    "duration": 3,
    "start_time": "2024-03-08T05:54:28.067Z"
   },
   {
    "duration": 10,
    "start_time": "2024-03-08T05:54:28.073Z"
   },
   {
    "duration": 11,
    "start_time": "2024-03-08T05:54:28.084Z"
   },
   {
    "duration": 15,
    "start_time": "2024-03-08T05:54:28.096Z"
   },
   {
    "duration": 70,
    "start_time": "2024-03-08T05:54:28.112Z"
   },
   {
    "duration": 0,
    "start_time": "2024-03-08T05:54:28.183Z"
   },
   {
    "duration": 0,
    "start_time": "2024-03-08T05:54:28.184Z"
   },
   {
    "duration": 0,
    "start_time": "2024-03-08T05:54:28.185Z"
   },
   {
    "duration": 0,
    "start_time": "2024-03-08T05:54:28.186Z"
   },
   {
    "duration": 0,
    "start_time": "2024-03-08T05:54:28.187Z"
   },
   {
    "duration": 0,
    "start_time": "2024-03-08T05:54:28.201Z"
   },
   {
    "duration": 0,
    "start_time": "2024-03-08T05:54:28.202Z"
   },
   {
    "duration": 0,
    "start_time": "2024-03-08T05:54:28.203Z"
   },
   {
    "duration": 0,
    "start_time": "2024-03-08T05:54:28.204Z"
   },
   {
    "duration": 0,
    "start_time": "2024-03-08T05:54:28.204Z"
   },
   {
    "duration": 0,
    "start_time": "2024-03-08T05:54:28.205Z"
   },
   {
    "duration": 0,
    "start_time": "2024-03-08T05:54:28.206Z"
   },
   {
    "duration": 0,
    "start_time": "2024-03-08T05:54:28.207Z"
   },
   {
    "duration": 0,
    "start_time": "2024-03-08T05:54:28.207Z"
   },
   {
    "duration": 0,
    "start_time": "2024-03-08T05:54:28.208Z"
   },
   {
    "duration": 18,
    "start_time": "2024-03-08T05:54:43.531Z"
   },
   {
    "duration": 48,
    "start_time": "2024-03-10T06:44:02.773Z"
   },
   {
    "duration": 813,
    "start_time": "2024-03-10T06:44:07.890Z"
   },
   {
    "duration": 305,
    "start_time": "2024-03-10T06:44:08.705Z"
   },
   {
    "duration": 32,
    "start_time": "2024-03-10T06:44:09.011Z"
   },
   {
    "duration": 46,
    "start_time": "2024-03-10T06:44:09.045Z"
   },
   {
    "duration": 30,
    "start_time": "2024-03-10T06:44:09.093Z"
   },
   {
    "duration": 856,
    "start_time": "2024-03-10T06:44:09.125Z"
   },
   {
    "duration": 2232,
    "start_time": "2024-03-10T06:44:09.983Z"
   },
   {
    "duration": 9,
    "start_time": "2024-03-10T06:44:12.217Z"
   },
   {
    "duration": 6,
    "start_time": "2024-03-10T06:44:12.227Z"
   },
   {
    "duration": 7,
    "start_time": "2024-03-10T06:44:12.234Z"
   },
   {
    "duration": 14,
    "start_time": "2024-03-10T06:44:12.242Z"
   },
   {
    "duration": 12,
    "start_time": "2024-03-10T06:44:12.257Z"
   },
   {
    "duration": 111,
    "start_time": "2024-03-10T06:44:12.270Z"
   },
   {
    "duration": 0,
    "start_time": "2024-03-10T06:44:12.384Z"
   },
   {
    "duration": 0,
    "start_time": "2024-03-10T06:44:12.385Z"
   },
   {
    "duration": 0,
    "start_time": "2024-03-10T06:44:12.386Z"
   },
   {
    "duration": 0,
    "start_time": "2024-03-10T06:44:12.388Z"
   },
   {
    "duration": 0,
    "start_time": "2024-03-10T06:44:12.389Z"
   },
   {
    "duration": 0,
    "start_time": "2024-03-10T06:44:12.391Z"
   },
   {
    "duration": 0,
    "start_time": "2024-03-10T06:44:12.392Z"
   },
   {
    "duration": 0,
    "start_time": "2024-03-10T06:44:12.393Z"
   },
   {
    "duration": 0,
    "start_time": "2024-03-10T06:44:12.394Z"
   },
   {
    "duration": 0,
    "start_time": "2024-03-10T06:44:12.395Z"
   },
   {
    "duration": 0,
    "start_time": "2024-03-10T06:44:12.418Z"
   },
   {
    "duration": 0,
    "start_time": "2024-03-10T06:44:12.420Z"
   },
   {
    "duration": 0,
    "start_time": "2024-03-10T06:44:12.421Z"
   },
   {
    "duration": 0,
    "start_time": "2024-03-10T06:44:12.422Z"
   },
   {
    "duration": 0,
    "start_time": "2024-03-10T06:44:12.423Z"
   },
   {
    "duration": 32,
    "start_time": "2024-03-10T06:46:18.385Z"
   },
   {
    "duration": 21,
    "start_time": "2024-03-10T06:46:43.143Z"
   },
   {
    "duration": 21,
    "start_time": "2024-03-10T06:46:50.159Z"
   },
   {
    "duration": 4,
    "start_time": "2024-03-10T06:47:59.344Z"
   },
   {
    "duration": 8,
    "start_time": "2024-03-10T06:49:55.858Z"
   },
   {
    "duration": 13,
    "start_time": "2024-03-10T06:50:09.808Z"
   },
   {
    "duration": 3,
    "start_time": "2024-03-10T06:50:14.588Z"
   },
   {
    "duration": 13,
    "start_time": "2024-03-10T06:50:21.693Z"
   },
   {
    "duration": 22,
    "start_time": "2024-03-10T06:50:24.331Z"
   },
   {
    "duration": 22,
    "start_time": "2024-03-10T06:50:40.131Z"
   },
   {
    "duration": 72,
    "start_time": "2024-03-10T07:15:12.131Z"
   },
   {
    "duration": 5,
    "start_time": "2024-03-10T07:15:16.527Z"
   },
   {
    "duration": 80,
    "start_time": "2024-03-10T07:15:26.096Z"
   },
   {
    "duration": 69,
    "start_time": "2024-03-10T07:15:30.406Z"
   },
   {
    "duration": 53,
    "start_time": "2024-03-10T07:15:54.030Z"
   },
   {
    "duration": 11,
    "start_time": "2024-03-10T07:16:41.072Z"
   },
   {
    "duration": 49,
    "start_time": "2024-03-10T07:18:57.917Z"
   },
   {
    "duration": 12,
    "start_time": "2024-03-10T07:19:01.727Z"
   },
   {
    "duration": 591,
    "start_time": "2024-03-10T07:19:08.256Z"
   },
   {
    "duration": 96,
    "start_time": "2024-03-10T07:19:08.848Z"
   },
   {
    "duration": 31,
    "start_time": "2024-03-10T07:19:08.946Z"
   },
   {
    "duration": 59,
    "start_time": "2024-03-10T07:19:08.979Z"
   },
   {
    "duration": 13,
    "start_time": "2024-03-10T07:19:09.040Z"
   },
   {
    "duration": 809,
    "start_time": "2024-03-10T07:19:09.054Z"
   },
   {
    "duration": 2250,
    "start_time": "2024-03-10T07:19:09.865Z"
   },
   {
    "duration": 15,
    "start_time": "2024-03-10T07:19:12.117Z"
   },
   {
    "duration": 11,
    "start_time": "2024-03-10T07:19:12.133Z"
   },
   {
    "duration": 6,
    "start_time": "2024-03-10T07:19:12.146Z"
   },
   {
    "duration": 13,
    "start_time": "2024-03-10T07:19:12.154Z"
   },
   {
    "duration": 13,
    "start_time": "2024-03-10T07:19:12.168Z"
   },
   {
    "duration": 51,
    "start_time": "2024-03-10T07:19:12.183Z"
   },
   {
    "duration": 5,
    "start_time": "2024-03-10T07:19:12.236Z"
   },
   {
    "duration": 114,
    "start_time": "2024-03-10T07:19:12.243Z"
   },
   {
    "duration": 84,
    "start_time": "2024-03-10T07:19:12.359Z"
   },
   {
    "duration": 56,
    "start_time": "2024-03-10T07:19:12.445Z"
   },
   {
    "duration": 30,
    "start_time": "2024-03-10T07:19:12.502Z"
   },
   {
    "duration": 130,
    "start_time": "2024-03-10T07:19:12.534Z"
   },
   {
    "duration": 168,
    "start_time": "2024-03-10T07:19:12.665Z"
   },
   {
    "duration": 7,
    "start_time": "2024-03-10T07:19:12.834Z"
   },
   {
    "duration": 154,
    "start_time": "2024-03-10T07:19:12.842Z"
   },
   {
    "duration": 147,
    "start_time": "2024-03-10T07:19:12.997Z"
   },
   {
    "duration": 154,
    "start_time": "2024-03-10T07:19:13.146Z"
   },
   {
    "duration": 138,
    "start_time": "2024-03-10T07:19:13.302Z"
   },
   {
    "duration": 108,
    "start_time": "2024-03-10T07:19:13.441Z"
   },
   {
    "duration": 388,
    "start_time": "2024-03-10T07:19:13.551Z"
   },
   {
    "duration": 166,
    "start_time": "2024-03-10T07:19:13.943Z"
   },
   {
    "duration": 254,
    "start_time": "2024-03-10T07:19:14.111Z"
   },
   {
    "duration": 49,
    "start_time": "2024-03-10T07:19:58.953Z"
   },
   {
    "duration": 12,
    "start_time": "2024-03-10T07:20:01.860Z"
   },
   {
    "duration": 182,
    "start_time": "2024-03-10T07:28:12.985Z"
   },
   {
    "duration": 174,
    "start_time": "2024-03-10T07:30:11.840Z"
   },
   {
    "duration": 195,
    "start_time": "2024-03-10T07:30:22.603Z"
   },
   {
    "duration": 169,
    "start_time": "2024-03-10T07:33:53.330Z"
   },
   {
    "duration": 158,
    "start_time": "2024-03-10T07:35:58.563Z"
   },
   {
    "duration": 109,
    "start_time": "2024-03-10T07:37:08.782Z"
   },
   {
    "duration": 242,
    "start_time": "2024-03-10T07:37:31.297Z"
   },
   {
    "duration": 166,
    "start_time": "2024-03-10T07:37:37.727Z"
   },
   {
    "duration": 130,
    "start_time": "2024-03-10T07:39:53.281Z"
   },
   {
    "duration": 140,
    "start_time": "2024-03-10T07:40:34.031Z"
   },
   {
    "duration": 143,
    "start_time": "2024-03-10T07:40:44.001Z"
   },
   {
    "duration": 150,
    "start_time": "2024-03-10T07:40:48.993Z"
   },
   {
    "duration": 140,
    "start_time": "2024-03-10T07:40:55.534Z"
   },
   {
    "duration": 75,
    "start_time": "2024-03-10T07:42:37.091Z"
   },
   {
    "duration": 122,
    "start_time": "2024-03-10T07:43:15.304Z"
   },
   {
    "duration": 112,
    "start_time": "2024-03-10T07:45:17.943Z"
   },
   {
    "duration": 1146,
    "start_time": "2024-03-10T07:48:07.884Z"
   },
   {
    "duration": 1099,
    "start_time": "2024-03-10T07:48:45.051Z"
   },
   {
    "duration": 195,
    "start_time": "2024-03-10T07:49:25.015Z"
   },
   {
    "duration": 118,
    "start_time": "2024-03-10T07:49:50.672Z"
   },
   {
    "duration": 181,
    "start_time": "2024-03-10T07:50:05.061Z"
   },
   {
    "duration": 179,
    "start_time": "2024-03-10T07:50:10.090Z"
   },
   {
    "duration": 193,
    "start_time": "2024-03-10T07:50:15.441Z"
   },
   {
    "duration": 155,
    "start_time": "2024-03-10T07:50:19.944Z"
   },
   {
    "duration": 130,
    "start_time": "2024-03-10T07:50:24.327Z"
   },
   {
    "duration": 163,
    "start_time": "2024-03-10T07:50:28.375Z"
   },
   {
    "duration": 145,
    "start_time": "2024-03-10T07:50:33.813Z"
   },
   {
    "duration": 161,
    "start_time": "2024-03-10T07:52:05.184Z"
   },
   {
    "duration": 58,
    "start_time": "2024-03-10T08:11:05.593Z"
   },
   {
    "duration": 12,
    "start_time": "2024-03-10T08:11:08.791Z"
   },
   {
    "duration": 105,
    "start_time": "2024-03-10T08:11:12.589Z"
   },
   {
    "duration": 253,
    "start_time": "2024-03-10T08:11:26.559Z"
   },
   {
    "duration": 658,
    "start_time": "2024-03-10T08:11:37.019Z"
   },
   {
    "duration": 101,
    "start_time": "2024-03-10T08:11:37.679Z"
   },
   {
    "duration": 31,
    "start_time": "2024-03-10T08:11:37.782Z"
   },
   {
    "duration": 47,
    "start_time": "2024-03-10T08:11:37.828Z"
   },
   {
    "duration": 14,
    "start_time": "2024-03-10T08:11:37.877Z"
   },
   {
    "duration": 914,
    "start_time": "2024-03-10T08:11:37.893Z"
   },
   {
    "duration": 2374,
    "start_time": "2024-03-10T08:11:38.809Z"
   },
   {
    "duration": 9,
    "start_time": "2024-03-10T08:11:41.184Z"
   },
   {
    "duration": 2,
    "start_time": "2024-03-10T08:11:41.195Z"
   },
   {
    "duration": 6,
    "start_time": "2024-03-10T08:11:41.199Z"
   },
   {
    "duration": 23,
    "start_time": "2024-03-10T08:11:41.207Z"
   },
   {
    "duration": 15,
    "start_time": "2024-03-10T08:11:41.232Z"
   },
   {
    "duration": 22,
    "start_time": "2024-03-10T08:11:41.249Z"
   },
   {
    "duration": 5,
    "start_time": "2024-03-10T08:11:41.274Z"
   },
   {
    "duration": 98,
    "start_time": "2024-03-10T08:11:41.280Z"
   },
   {
    "duration": 78,
    "start_time": "2024-03-10T08:11:41.382Z"
   },
   {
    "duration": 71,
    "start_time": "2024-03-10T08:11:41.461Z"
   },
   {
    "duration": 12,
    "start_time": "2024-03-10T08:11:41.535Z"
   },
   {
    "duration": 127,
    "start_time": "2024-03-10T08:11:41.549Z"
   },
   {
    "duration": 185,
    "start_time": "2024-03-10T08:11:41.678Z"
   },
   {
    "duration": 223,
    "start_time": "2024-03-10T08:11:41.865Z"
   },
   {
    "duration": 190,
    "start_time": "2024-03-10T08:11:42.090Z"
   },
   {
    "duration": 180,
    "start_time": "2024-03-10T08:11:42.281Z"
   },
   {
    "duration": 143,
    "start_time": "2024-03-10T08:11:42.463Z"
   },
   {
    "duration": 171,
    "start_time": "2024-03-10T08:11:42.607Z"
   },
   {
    "duration": 254,
    "start_time": "2024-03-10T08:11:42.779Z"
   },
   {
    "duration": 159,
    "start_time": "2024-03-10T08:11:43.034Z"
   },
   {
    "duration": 181,
    "start_time": "2024-03-10T08:11:43.195Z"
   },
   {
    "duration": 168,
    "start_time": "2024-03-10T08:11:43.377Z"
   },
   {
    "duration": 7,
    "start_time": "2024-03-10T08:11:43.546Z"
   },
   {
    "duration": 155,
    "start_time": "2024-03-10T08:11:43.554Z"
   },
   {
    "duration": 157,
    "start_time": "2024-03-10T08:11:43.711Z"
   },
   {
    "duration": 173,
    "start_time": "2024-03-10T08:11:43.870Z"
   },
   {
    "duration": 137,
    "start_time": "2024-03-10T08:11:44.045Z"
   },
   {
    "duration": 129,
    "start_time": "2024-03-10T08:11:44.184Z"
   },
   {
    "duration": 261,
    "start_time": "2024-03-10T08:11:44.315Z"
   },
   {
    "duration": 235,
    "start_time": "2024-03-10T08:11:44.578Z"
   },
   {
    "duration": 273,
    "start_time": "2024-03-10T08:11:44.814Z"
   },
   {
    "duration": 161,
    "start_time": "2024-03-10T08:12:28.785Z"
   },
   {
    "duration": 161,
    "start_time": "2024-03-10T08:12:35.231Z"
   },
   {
    "duration": 154,
    "start_time": "2024-03-10T08:12:37.027Z"
   },
   {
    "duration": 170,
    "start_time": "2024-03-10T08:12:37.863Z"
   },
   {
    "duration": 164,
    "start_time": "2024-03-10T08:12:38.730Z"
   },
   {
    "duration": 135,
    "start_time": "2024-03-10T08:12:54.203Z"
   },
   {
    "duration": 222,
    "start_time": "2024-03-10T08:12:56.546Z"
   },
   {
    "duration": 121,
    "start_time": "2024-03-10T08:12:59.483Z"
   },
   {
    "duration": 168,
    "start_time": "2024-03-10T08:13:02.102Z"
   },
   {
    "duration": 175,
    "start_time": "2024-03-10T08:13:07.031Z"
   },
   {
    "duration": 167,
    "start_time": "2024-03-10T08:13:13.610Z"
   },
   {
    "duration": 160,
    "start_time": "2024-03-10T08:14:50.701Z"
   },
   {
    "duration": 168,
    "start_time": "2024-03-10T08:26:51.355Z"
   },
   {
    "duration": 162,
    "start_time": "2024-03-10T08:53:43.863Z"
   },
   {
    "duration": 174,
    "start_time": "2024-03-10T08:53:49.119Z"
   },
   {
    "duration": 166,
    "start_time": "2024-03-10T08:53:55.043Z"
   },
   {
    "duration": 162,
    "start_time": "2024-03-10T08:54:03.165Z"
   },
   {
    "duration": 193,
    "start_time": "2024-03-10T08:54:07.908Z"
   },
   {
    "duration": 151,
    "start_time": "2024-03-10T08:54:14.082Z"
   },
   {
    "duration": 151,
    "start_time": "2024-03-10T08:54:25.483Z"
   },
   {
    "duration": 151,
    "start_time": "2024-03-10T08:54:30.691Z"
   },
   {
    "duration": 171,
    "start_time": "2024-03-10T08:54:38.425Z"
   },
   {
    "duration": 112,
    "start_time": "2024-03-10T08:56:07.937Z"
   },
   {
    "duration": 153,
    "start_time": "2024-03-10T08:56:28.064Z"
   },
   {
    "duration": 181,
    "start_time": "2024-03-10T09:07:13.568Z"
   },
   {
    "duration": 9,
    "start_time": "2024-03-10T09:07:24.787Z"
   },
   {
    "duration": 137,
    "start_time": "2024-03-10T09:07:28.778Z"
   },
   {
    "duration": 157,
    "start_time": "2024-03-10T09:07:31.613Z"
   },
   {
    "duration": 145,
    "start_time": "2024-03-10T09:07:34.214Z"
   },
   {
    "duration": 192,
    "start_time": "2024-03-10T09:07:36.871Z"
   },
   {
    "duration": 115,
    "start_time": "2024-03-10T09:07:42.490Z"
   },
   {
    "duration": 197,
    "start_time": "2024-03-10T09:07:45.614Z"
   },
   {
    "duration": 840,
    "start_time": "2024-03-10T12:09:00.374Z"
   },
   {
    "duration": 153,
    "start_time": "2024-03-10T12:09:01.216Z"
   },
   {
    "duration": 34,
    "start_time": "2024-03-10T12:09:01.370Z"
   },
   {
    "duration": 103,
    "start_time": "2024-03-10T12:09:01.405Z"
   },
   {
    "duration": 16,
    "start_time": "2024-03-10T12:09:01.510Z"
   },
   {
    "duration": 886,
    "start_time": "2024-03-10T12:09:01.528Z"
   },
   {
    "duration": 2292,
    "start_time": "2024-03-10T12:09:02.415Z"
   },
   {
    "duration": 8,
    "start_time": "2024-03-10T12:09:04.709Z"
   },
   {
    "duration": 2,
    "start_time": "2024-03-10T12:09:04.718Z"
   },
   {
    "duration": 7,
    "start_time": "2024-03-10T12:09:04.722Z"
   },
   {
    "duration": 12,
    "start_time": "2024-03-10T12:09:04.759Z"
   },
   {
    "duration": 12,
    "start_time": "2024-03-10T12:09:04.772Z"
   },
   {
    "duration": 27,
    "start_time": "2024-03-10T12:09:04.786Z"
   },
   {
    "duration": 5,
    "start_time": "2024-03-10T12:09:04.816Z"
   },
   {
    "duration": 107,
    "start_time": "2024-03-10T12:09:04.822Z"
   },
   {
    "duration": 92,
    "start_time": "2024-03-10T12:09:04.931Z"
   },
   {
    "duration": 70,
    "start_time": "2024-03-10T12:09:05.025Z"
   },
   {
    "duration": 14,
    "start_time": "2024-03-10T12:09:05.097Z"
   },
   {
    "duration": 124,
    "start_time": "2024-03-10T12:09:05.113Z"
   },
   {
    "duration": 182,
    "start_time": "2024-03-10T12:09:05.239Z"
   },
   {
    "duration": 200,
    "start_time": "2024-03-10T12:09:05.423Z"
   },
   {
    "duration": 187,
    "start_time": "2024-03-10T12:09:05.625Z"
   },
   {
    "duration": 172,
    "start_time": "2024-03-10T12:09:05.814Z"
   },
   {
    "duration": 138,
    "start_time": "2024-03-10T12:09:05.987Z"
   },
   {
    "duration": 149,
    "start_time": "2024-03-10T12:09:06.126Z"
   },
   {
    "duration": 241,
    "start_time": "2024-03-10T12:09:06.277Z"
   },
   {
    "duration": 171,
    "start_time": "2024-03-10T12:09:06.520Z"
   },
   {
    "duration": 173,
    "start_time": "2024-03-10T12:09:06.693Z"
   },
   {
    "duration": 174,
    "start_time": "2024-03-10T12:09:06.867Z"
   },
   {
    "duration": 173,
    "start_time": "2024-03-10T12:09:07.043Z"
   },
   {
    "duration": 7,
    "start_time": "2024-03-10T12:09:07.218Z"
   },
   {
    "duration": 165,
    "start_time": "2024-03-10T12:09:07.226Z"
   },
   {
    "duration": 155,
    "start_time": "2024-03-10T12:09:07.393Z"
   },
   {
    "duration": 143,
    "start_time": "2024-03-10T12:09:07.558Z"
   },
   {
    "duration": 142,
    "start_time": "2024-03-10T12:09:07.703Z"
   },
   {
    "duration": 150,
    "start_time": "2024-03-10T12:09:07.846Z"
   },
   {
    "duration": 343,
    "start_time": "2024-03-10T12:09:07.998Z"
   },
   {
    "duration": 172,
    "start_time": "2024-03-10T12:09:08.343Z"
   },
   {
    "duration": 269,
    "start_time": "2024-03-10T12:09:08.517Z"
   },
   {
    "duration": 192,
    "start_time": "2024-03-10T12:19:27.828Z"
   },
   {
    "duration": 301,
    "start_time": "2024-03-10T12:22:20.687Z"
   },
   {
    "duration": 132,
    "start_time": "2024-03-10T12:22:30.575Z"
   },
   {
    "duration": 142,
    "start_time": "2024-03-10T12:22:57.699Z"
   },
   {
    "duration": 531,
    "start_time": "2024-03-10T12:32:29.077Z"
   },
   {
    "duration": 199,
    "start_time": "2024-03-10T12:32:52.908Z"
   },
   {
    "duration": 107,
    "start_time": "2024-03-10T12:33:43.774Z"
   },
   {
    "duration": 98,
    "start_time": "2024-03-10T12:33:52.046Z"
   },
   {
    "duration": 14,
    "start_time": "2024-03-10T12:34:05.355Z"
   },
   {
    "duration": 335,
    "start_time": "2024-03-10T12:35:20.980Z"
   },
   {
    "duration": 168,
    "start_time": "2024-03-10T12:35:27.256Z"
   },
   {
    "duration": 132,
    "start_time": "2024-03-10T12:35:52.419Z"
   },
   {
    "duration": 171,
    "start_time": "2024-03-10T12:45:01.951Z"
   },
   {
    "duration": 154,
    "start_time": "2024-03-10T12:51:52.364Z"
   },
   {
    "duration": 188,
    "start_time": "2024-03-10T12:52:29.015Z"
   },
   {
    "duration": 163,
    "start_time": "2024-03-10T12:52:48.466Z"
   },
   {
    "duration": 210,
    "start_time": "2024-03-10T12:52:59.307Z"
   },
   {
    "duration": 467,
    "start_time": "2024-03-10T12:53:13.935Z"
   },
   {
    "duration": 173,
    "start_time": "2024-03-10T12:53:51.172Z"
   },
   {
    "duration": 1547,
    "start_time": "2024-03-10T12:56:53.340Z"
   },
   {
    "duration": 812,
    "start_time": "2024-03-10T13:06:21.945Z"
   },
   {
    "duration": 124,
    "start_time": "2024-03-10T13:07:09.011Z"
   },
   {
    "duration": 317,
    "start_time": "2024-03-10T13:08:37.248Z"
   },
   {
    "duration": 9,
    "start_time": "2024-03-10T13:13:35.587Z"
   },
   {
    "duration": 8,
    "start_time": "2024-03-10T13:13:49.910Z"
   },
   {
    "duration": 156,
    "start_time": "2024-03-10T13:14:01.309Z"
   },
   {
    "duration": 104,
    "start_time": "2024-03-10T13:16:02.237Z"
   },
   {
    "duration": 101,
    "start_time": "2024-03-10T13:17:29.672Z"
   },
   {
    "duration": 169,
    "start_time": "2024-03-10T13:17:52.022Z"
   },
   {
    "duration": 158,
    "start_time": "2024-03-10T13:18:58.087Z"
   },
   {
    "duration": 165,
    "start_time": "2024-03-10T13:19:49.885Z"
   },
   {
    "duration": 161,
    "start_time": "2024-03-10T13:20:19.787Z"
   },
   {
    "duration": 169,
    "start_time": "2024-03-10T13:20:23.947Z"
   },
   {
    "duration": 154,
    "start_time": "2024-03-10T13:22:54.957Z"
   },
   {
    "duration": 144,
    "start_time": "2024-03-10T13:24:03.762Z"
   },
   {
    "duration": 13,
    "start_time": "2024-03-10T13:27:06.362Z"
   },
   {
    "duration": 7,
    "start_time": "2024-03-10T13:27:30.620Z"
   },
   {
    "duration": 653,
    "start_time": "2024-03-10T13:27:42.147Z"
   },
   {
    "duration": 99,
    "start_time": "2024-03-10T13:27:42.802Z"
   },
   {
    "duration": 38,
    "start_time": "2024-03-10T13:27:42.903Z"
   },
   {
    "duration": 54,
    "start_time": "2024-03-10T13:27:42.943Z"
   },
   {
    "duration": 14,
    "start_time": "2024-03-10T13:27:42.998Z"
   },
   {
    "duration": 813,
    "start_time": "2024-03-10T13:27:43.014Z"
   },
   {
    "duration": 2353,
    "start_time": "2024-03-10T13:27:43.828Z"
   },
   {
    "duration": 10,
    "start_time": "2024-03-10T13:27:46.183Z"
   },
   {
    "duration": 11,
    "start_time": "2024-03-10T13:27:46.194Z"
   },
   {
    "duration": 15,
    "start_time": "2024-03-10T13:27:46.208Z"
   },
   {
    "duration": 19,
    "start_time": "2024-03-10T13:27:46.225Z"
   },
   {
    "duration": 23,
    "start_time": "2024-03-10T13:27:46.246Z"
   },
   {
    "duration": 34,
    "start_time": "2024-03-10T13:27:46.270Z"
   },
   {
    "duration": 5,
    "start_time": "2024-03-10T13:27:46.305Z"
   },
   {
    "duration": 90,
    "start_time": "2024-03-10T13:27:46.311Z"
   },
   {
    "duration": 85,
    "start_time": "2024-03-10T13:27:46.403Z"
   },
   {
    "duration": 70,
    "start_time": "2024-03-10T13:27:46.490Z"
   },
   {
    "duration": 13,
    "start_time": "2024-03-10T13:27:46.561Z"
   },
   {
    "duration": 129,
    "start_time": "2024-03-10T13:27:46.576Z"
   },
   {
    "duration": 180,
    "start_time": "2024-03-10T13:27:46.707Z"
   },
   {
    "duration": 173,
    "start_time": "2024-03-10T13:27:46.889Z"
   },
   {
    "duration": 181,
    "start_time": "2024-03-10T13:27:47.064Z"
   },
   {
    "duration": 152,
    "start_time": "2024-03-10T13:27:47.247Z"
   },
   {
    "duration": 142,
    "start_time": "2024-03-10T13:27:47.400Z"
   },
   {
    "duration": 154,
    "start_time": "2024-03-10T13:27:47.544Z"
   },
   {
    "duration": 237,
    "start_time": "2024-03-10T13:27:47.699Z"
   },
   {
    "duration": 179,
    "start_time": "2024-03-10T13:27:47.938Z"
   },
   {
    "duration": 168,
    "start_time": "2024-03-10T13:27:48.120Z"
   },
   {
    "duration": 169,
    "start_time": "2024-03-10T13:27:48.289Z"
   },
   {
    "duration": 173,
    "start_time": "2024-03-10T13:27:48.460Z"
   },
   {
    "duration": 8,
    "start_time": "2024-03-10T13:27:48.634Z"
   },
   {
    "duration": 161,
    "start_time": "2024-03-10T13:27:48.643Z"
   },
   {
    "duration": 159,
    "start_time": "2024-03-10T13:27:48.805Z"
   },
   {
    "duration": 160,
    "start_time": "2024-03-10T13:27:48.966Z"
   },
   {
    "duration": 155,
    "start_time": "2024-03-10T13:27:49.128Z"
   },
   {
    "duration": 128,
    "start_time": "2024-03-10T13:27:49.284Z"
   },
   {
    "duration": 347,
    "start_time": "2024-03-10T13:27:49.414Z"
   },
   {
    "duration": 169,
    "start_time": "2024-03-10T13:27:49.763Z"
   },
   {
    "duration": 262,
    "start_time": "2024-03-10T13:27:49.933Z"
   },
   {
    "duration": 10,
    "start_time": "2024-03-10T13:28:08.740Z"
   },
   {
    "duration": 19,
    "start_time": "2024-03-10T13:28:20.491Z"
   },
   {
    "duration": 4,
    "start_time": "2024-03-10T13:28:32.506Z"
   },
   {
    "duration": 5,
    "start_time": "2024-03-10T13:28:45.731Z"
   },
   {
    "duration": 3,
    "start_time": "2024-03-10T13:28:53.446Z"
   },
   {
    "duration": 640,
    "start_time": "2024-03-10T13:29:02.304Z"
   },
   {
    "duration": 98,
    "start_time": "2024-03-10T13:29:02.946Z"
   },
   {
    "duration": 121,
    "start_time": "2024-03-10T13:29:03.046Z"
   },
   {
    "duration": 56,
    "start_time": "2024-03-10T13:29:03.169Z"
   },
   {
    "duration": 16,
    "start_time": "2024-03-10T13:29:03.227Z"
   },
   {
    "duration": 837,
    "start_time": "2024-03-10T13:29:03.244Z"
   },
   {
    "duration": 2307,
    "start_time": "2024-03-10T13:29:04.082Z"
   },
   {
    "duration": 9,
    "start_time": "2024-03-10T13:29:06.391Z"
   },
   {
    "duration": 3,
    "start_time": "2024-03-10T13:29:06.401Z"
   },
   {
    "duration": 8,
    "start_time": "2024-03-10T13:29:06.405Z"
   },
   {
    "duration": 13,
    "start_time": "2024-03-10T13:29:06.414Z"
   },
   {
    "duration": 43,
    "start_time": "2024-03-10T13:29:06.429Z"
   },
   {
    "duration": 22,
    "start_time": "2024-03-10T13:29:06.473Z"
   },
   {
    "duration": 4,
    "start_time": "2024-03-10T13:29:06.498Z"
   },
   {
    "duration": 100,
    "start_time": "2024-03-10T13:29:06.504Z"
   },
   {
    "duration": 81,
    "start_time": "2024-03-10T13:29:06.605Z"
   },
   {
    "duration": 55,
    "start_time": "2024-03-10T13:29:06.688Z"
   },
   {
    "duration": 24,
    "start_time": "2024-03-10T13:29:06.745Z"
   },
   {
    "duration": 118,
    "start_time": "2024-03-10T13:29:06.771Z"
   },
   {
    "duration": 179,
    "start_time": "2024-03-10T13:29:06.890Z"
   },
   {
    "duration": 171,
    "start_time": "2024-03-10T13:29:07.070Z"
   },
   {
    "duration": 182,
    "start_time": "2024-03-10T13:29:07.243Z"
   },
   {
    "duration": 149,
    "start_time": "2024-03-10T13:29:07.426Z"
   },
   {
    "duration": 147,
    "start_time": "2024-03-10T13:29:07.577Z"
   },
   {
    "duration": 155,
    "start_time": "2024-03-10T13:29:07.725Z"
   },
   {
    "duration": 259,
    "start_time": "2024-03-10T13:29:07.881Z"
   },
   {
    "duration": 152,
    "start_time": "2024-03-10T13:29:08.141Z"
   },
   {
    "duration": 172,
    "start_time": "2024-03-10T13:29:08.294Z"
   },
   {
    "duration": 172,
    "start_time": "2024-03-10T13:29:08.468Z"
   },
   {
    "duration": 176,
    "start_time": "2024-03-10T13:29:08.642Z"
   },
   {
    "duration": 9,
    "start_time": "2024-03-10T13:29:08.820Z"
   },
   {
    "duration": 158,
    "start_time": "2024-03-10T13:29:08.831Z"
   },
   {
    "duration": 167,
    "start_time": "2024-03-10T13:29:08.992Z"
   },
   {
    "duration": 149,
    "start_time": "2024-03-10T13:29:09.160Z"
   },
   {
    "duration": 150,
    "start_time": "2024-03-10T13:29:09.310Z"
   },
   {
    "duration": 128,
    "start_time": "2024-03-10T13:29:09.462Z"
   },
   {
    "duration": 323,
    "start_time": "2024-03-10T13:29:09.592Z"
   },
   {
    "duration": 165,
    "start_time": "2024-03-10T13:29:09.917Z"
   },
   {
    "duration": 288,
    "start_time": "2024-03-10T13:29:10.084Z"
   },
   {
    "duration": 184,
    "start_time": "2024-03-10T13:30:00.038Z"
   },
   {
    "duration": 176,
    "start_time": "2024-03-10T13:30:06.558Z"
   },
   {
    "duration": 174,
    "start_time": "2024-03-10T13:30:20.778Z"
   },
   {
    "duration": 166,
    "start_time": "2024-03-10T13:30:23.098Z"
   },
   {
    "duration": 185,
    "start_time": "2024-03-10T13:30:25.842Z"
   },
   {
    "duration": 155,
    "start_time": "2024-03-10T13:30:29.498Z"
   },
   {
    "duration": 648,
    "start_time": "2024-03-10T13:30:43.875Z"
   },
   {
    "duration": 101,
    "start_time": "2024-03-10T13:30:44.524Z"
   },
   {
    "duration": 33,
    "start_time": "2024-03-10T13:30:44.626Z"
   },
   {
    "duration": 48,
    "start_time": "2024-03-10T13:30:44.661Z"
   },
   {
    "duration": 14,
    "start_time": "2024-03-10T13:30:44.711Z"
   },
   {
    "duration": 851,
    "start_time": "2024-03-10T13:30:44.727Z"
   },
   {
    "duration": 2334,
    "start_time": "2024-03-10T13:30:45.580Z"
   },
   {
    "duration": 9,
    "start_time": "2024-03-10T13:30:47.916Z"
   },
   {
    "duration": 9,
    "start_time": "2024-03-10T13:30:47.926Z"
   },
   {
    "duration": 6,
    "start_time": "2024-03-10T13:30:47.936Z"
   },
   {
    "duration": 33,
    "start_time": "2024-03-10T13:30:47.943Z"
   },
   {
    "duration": 17,
    "start_time": "2024-03-10T13:30:47.978Z"
   },
   {
    "duration": 22,
    "start_time": "2024-03-10T13:30:47.997Z"
   },
   {
    "duration": 5,
    "start_time": "2024-03-10T13:30:48.022Z"
   },
   {
    "duration": 70,
    "start_time": "2024-03-10T13:30:48.059Z"
   },
   {
    "duration": 94,
    "start_time": "2024-03-10T13:30:48.131Z"
   },
   {
    "duration": 65,
    "start_time": "2024-03-10T13:30:48.226Z"
   },
   {
    "duration": 12,
    "start_time": "2024-03-10T13:30:48.292Z"
   },
   {
    "duration": 128,
    "start_time": "2024-03-10T13:30:48.306Z"
   },
   {
    "duration": 173,
    "start_time": "2024-03-10T13:30:48.436Z"
   },
   {
    "duration": 188,
    "start_time": "2024-03-10T13:30:48.610Z"
   },
   {
    "duration": 211,
    "start_time": "2024-03-10T13:30:48.799Z"
   },
   {
    "duration": 168,
    "start_time": "2024-03-10T13:30:49.011Z"
   },
   {
    "duration": 144,
    "start_time": "2024-03-10T13:30:49.182Z"
   },
   {
    "duration": 149,
    "start_time": "2024-03-10T13:30:49.327Z"
   },
   {
    "duration": 263,
    "start_time": "2024-03-10T13:30:49.478Z"
   },
   {
    "duration": 165,
    "start_time": "2024-03-10T13:30:49.743Z"
   },
   {
    "duration": 174,
    "start_time": "2024-03-10T13:30:49.910Z"
   },
   {
    "duration": 178,
    "start_time": "2024-03-10T13:30:50.086Z"
   },
   {
    "duration": 175,
    "start_time": "2024-03-10T13:30:50.266Z"
   },
   {
    "duration": 7,
    "start_time": "2024-03-10T13:30:50.443Z"
   },
   {
    "duration": 162,
    "start_time": "2024-03-10T13:30:50.459Z"
   },
   {
    "duration": 153,
    "start_time": "2024-03-10T13:30:50.623Z"
   },
   {
    "duration": 165,
    "start_time": "2024-03-10T13:30:50.777Z"
   },
   {
    "duration": 160,
    "start_time": "2024-03-10T13:30:50.943Z"
   },
   {
    "duration": 166,
    "start_time": "2024-03-10T13:30:51.105Z"
   },
   {
    "duration": 343,
    "start_time": "2024-03-10T13:30:51.273Z"
   },
   {
    "duration": 212,
    "start_time": "2024-03-10T13:30:51.618Z"
   },
   {
    "duration": 285,
    "start_time": "2024-03-10T13:30:51.832Z"
   },
   {
    "duration": 146,
    "start_time": "2024-03-10T13:31:43.725Z"
   },
   {
    "duration": 144,
    "start_time": "2024-03-10T13:31:49.968Z"
   },
   {
    "duration": 143,
    "start_time": "2024-03-10T13:32:32.816Z"
   },
   {
    "duration": 151,
    "start_time": "2024-03-10T13:32:43.218Z"
   },
   {
    "duration": 646,
    "start_time": "2024-03-10T13:36:32.759Z"
   },
   {
    "duration": 102,
    "start_time": "2024-03-10T13:36:33.407Z"
   },
   {
    "duration": 31,
    "start_time": "2024-03-10T13:36:33.510Z"
   },
   {
    "duration": 54,
    "start_time": "2024-03-10T13:36:33.543Z"
   },
   {
    "duration": 14,
    "start_time": "2024-03-10T13:36:33.599Z"
   },
   {
    "duration": 859,
    "start_time": "2024-03-10T13:36:33.614Z"
   },
   {
    "duration": 2384,
    "start_time": "2024-03-10T13:36:34.475Z"
   },
   {
    "duration": 10,
    "start_time": "2024-03-10T13:36:36.860Z"
   },
   {
    "duration": 2,
    "start_time": "2024-03-10T13:36:36.872Z"
   },
   {
    "duration": 5,
    "start_time": "2024-03-10T13:36:36.876Z"
   },
   {
    "duration": 14,
    "start_time": "2024-03-10T13:36:36.882Z"
   },
   {
    "duration": 13,
    "start_time": "2024-03-10T13:36:36.897Z"
   },
   {
    "duration": 61,
    "start_time": "2024-03-10T13:36:36.912Z"
   },
   {
    "duration": 5,
    "start_time": "2024-03-10T13:36:36.974Z"
   },
   {
    "duration": 91,
    "start_time": "2024-03-10T13:36:36.981Z"
   },
   {
    "duration": 70,
    "start_time": "2024-03-10T13:36:37.074Z"
   },
   {
    "duration": 69,
    "start_time": "2024-03-10T13:36:37.146Z"
   },
   {
    "duration": 13,
    "start_time": "2024-03-10T13:36:37.217Z"
   },
   {
    "duration": 136,
    "start_time": "2024-03-10T13:36:37.231Z"
   },
   {
    "duration": 182,
    "start_time": "2024-03-10T13:36:37.369Z"
   },
   {
    "duration": 193,
    "start_time": "2024-03-10T13:36:37.553Z"
   },
   {
    "duration": 193,
    "start_time": "2024-03-10T13:36:37.748Z"
   },
   {
    "duration": 166,
    "start_time": "2024-03-10T13:36:37.942Z"
   },
   {
    "duration": 128,
    "start_time": "2024-03-10T13:36:38.110Z"
   },
   {
    "duration": 146,
    "start_time": "2024-03-10T13:36:38.239Z"
   },
   {
    "duration": 240,
    "start_time": "2024-03-10T13:36:38.387Z"
   },
   {
    "duration": 166,
    "start_time": "2024-03-10T13:36:38.629Z"
   },
   {
    "duration": 171,
    "start_time": "2024-03-10T13:36:38.798Z"
   },
   {
    "duration": 176,
    "start_time": "2024-03-10T13:36:38.970Z"
   },
   {
    "duration": 182,
    "start_time": "2024-03-10T13:36:39.148Z"
   },
   {
    "duration": 8,
    "start_time": "2024-03-10T13:36:39.332Z"
   },
   {
    "duration": 165,
    "start_time": "2024-03-10T13:36:39.341Z"
   },
   {
    "duration": 158,
    "start_time": "2024-03-10T13:36:39.507Z"
   },
   {
    "duration": 162,
    "start_time": "2024-03-10T13:36:39.666Z"
   },
   {
    "duration": 154,
    "start_time": "2024-03-10T13:36:39.830Z"
   },
   {
    "duration": 138,
    "start_time": "2024-03-10T13:36:39.986Z"
   },
   {
    "duration": 348,
    "start_time": "2024-03-10T13:36:40.126Z"
   },
   {
    "duration": 183,
    "start_time": "2024-03-10T13:36:40.475Z"
   },
   {
    "duration": 271,
    "start_time": "2024-03-10T13:36:40.660Z"
   },
   {
    "duration": 1635,
    "start_time": "2024-03-10T13:36:50.880Z"
   },
   {
    "duration": 143,
    "start_time": "2024-03-10T13:37:00.215Z"
   },
   {
    "duration": 243,
    "start_time": "2024-03-10T13:46:07.949Z"
   },
   {
    "duration": 1373,
    "start_time": "2024-03-10T13:46:17.343Z"
   },
   {
    "duration": 1420,
    "start_time": "2024-03-10T13:46:26.937Z"
   },
   {
    "duration": 1365,
    "start_time": "2024-03-10T13:46:53.060Z"
   },
   {
    "duration": 1397,
    "start_time": "2024-03-10T13:47:10.151Z"
   },
   {
    "duration": 1463,
    "start_time": "2024-03-10T13:49:15.745Z"
   },
   {
    "duration": 120,
    "start_time": "2024-03-10T13:56:26.272Z"
   },
   {
    "duration": 736,
    "start_time": "2024-03-10T15:40:20.844Z"
   },
   {
    "duration": 152,
    "start_time": "2024-03-10T15:40:21.582Z"
   },
   {
    "duration": 31,
    "start_time": "2024-03-10T15:40:21.735Z"
   },
   {
    "duration": 44,
    "start_time": "2024-03-10T15:40:21.767Z"
   },
   {
    "duration": 14,
    "start_time": "2024-03-10T15:40:21.812Z"
   },
   {
    "duration": 784,
    "start_time": "2024-03-10T15:40:21.827Z"
   },
   {
    "duration": 2234,
    "start_time": "2024-03-10T15:40:22.612Z"
   },
   {
    "duration": 8,
    "start_time": "2024-03-10T15:40:24.848Z"
   },
   {
    "duration": 16,
    "start_time": "2024-03-10T15:40:24.858Z"
   },
   {
    "duration": 13,
    "start_time": "2024-03-10T15:40:24.875Z"
   },
   {
    "duration": 40,
    "start_time": "2024-03-10T15:40:24.890Z"
   },
   {
    "duration": 26,
    "start_time": "2024-03-10T15:40:24.931Z"
   },
   {
    "duration": 29,
    "start_time": "2024-03-10T15:40:24.959Z"
   },
   {
    "duration": 48,
    "start_time": "2024-03-10T15:40:24.991Z"
   },
   {
    "duration": 89,
    "start_time": "2024-03-10T15:40:25.041Z"
   },
   {
    "duration": 68,
    "start_time": "2024-03-10T15:40:25.131Z"
   },
   {
    "duration": 54,
    "start_time": "2024-03-10T15:40:25.200Z"
   },
   {
    "duration": 10,
    "start_time": "2024-03-10T15:40:25.255Z"
   },
   {
    "duration": 123,
    "start_time": "2024-03-10T15:40:25.266Z"
   },
   {
    "duration": 168,
    "start_time": "2024-03-10T15:40:25.391Z"
   },
   {
    "duration": 173,
    "start_time": "2024-03-10T15:40:25.561Z"
   },
   {
    "duration": 170,
    "start_time": "2024-03-10T15:40:25.736Z"
   },
   {
    "duration": 1320,
    "start_time": "2024-03-10T15:40:25.907Z"
   },
   {
    "duration": 130,
    "start_time": "2024-03-10T15:40:27.228Z"
   },
   {
    "duration": 159,
    "start_time": "2024-03-10T15:40:27.360Z"
   },
   {
    "duration": 219,
    "start_time": "2024-03-10T15:40:27.520Z"
   },
   {
    "duration": 178,
    "start_time": "2024-03-10T15:40:27.740Z"
   },
   {
    "duration": 167,
    "start_time": "2024-03-10T15:40:27.920Z"
   },
   {
    "duration": 165,
    "start_time": "2024-03-10T15:40:28.088Z"
   },
   {
    "duration": 166,
    "start_time": "2024-03-10T15:40:28.254Z"
   },
   {
    "duration": 8,
    "start_time": "2024-03-10T15:40:28.421Z"
   },
   {
    "duration": 150,
    "start_time": "2024-03-10T15:40:28.430Z"
   },
   {
    "duration": 147,
    "start_time": "2024-03-10T15:40:28.582Z"
   },
   {
    "duration": 154,
    "start_time": "2024-03-10T15:40:28.731Z"
   },
   {
    "duration": 153,
    "start_time": "2024-03-10T15:40:28.894Z"
   },
   {
    "duration": 137,
    "start_time": "2024-03-10T15:40:29.049Z"
   },
   {
    "duration": 339,
    "start_time": "2024-03-10T15:40:29.188Z"
   },
   {
    "duration": 158,
    "start_time": "2024-03-10T15:40:29.528Z"
   },
   {
    "duration": 263,
    "start_time": "2024-03-10T15:40:29.688Z"
   },
   {
    "duration": 4,
    "start_time": "2024-03-10T16:58:12.202Z"
   },
   {
    "duration": 3,
    "start_time": "2024-03-10T16:58:17.825Z"
   },
   {
    "duration": 4,
    "start_time": "2024-03-10T16:58:27.104Z"
   },
   {
    "duration": 5,
    "start_time": "2024-03-10T16:58:35.494Z"
   },
   {
    "duration": 102,
    "start_time": "2024-03-10T17:02:09.285Z"
   },
   {
    "duration": 129,
    "start_time": "2024-03-10T17:03:13.733Z"
   },
   {
    "duration": 4,
    "start_time": "2024-03-14T05:45:26.638Z"
   },
   {
    "duration": 54,
    "start_time": "2024-03-14T05:47:16.554Z"
   },
   {
    "duration": 874,
    "start_time": "2024-03-14T05:47:22.544Z"
   },
   {
    "duration": 165,
    "start_time": "2024-03-14T05:47:23.421Z"
   },
   {
    "duration": 36,
    "start_time": "2024-03-14T05:47:23.588Z"
   },
   {
    "duration": 50,
    "start_time": "2024-03-14T05:47:23.625Z"
   },
   {
    "duration": 16,
    "start_time": "2024-03-14T05:47:23.677Z"
   },
   {
    "duration": 2,
    "start_time": "2024-03-14T05:47:23.694Z"
   },
   {
    "duration": 2547,
    "start_time": "2024-03-14T05:47:23.698Z"
   },
   {
    "duration": 10,
    "start_time": "2024-03-14T05:47:26.247Z"
   },
   {
    "duration": 2,
    "start_time": "2024-03-14T05:47:26.258Z"
   },
   {
    "duration": 12,
    "start_time": "2024-03-14T05:47:26.262Z"
   },
   {
    "duration": 14,
    "start_time": "2024-03-14T05:47:26.275Z"
   },
   {
    "duration": 16,
    "start_time": "2024-03-14T05:47:26.291Z"
   },
   {
    "duration": 103,
    "start_time": "2024-03-14T05:47:26.308Z"
   },
   {
    "duration": 0,
    "start_time": "2024-03-14T05:47:26.413Z"
   },
   {
    "duration": 0,
    "start_time": "2024-03-14T05:47:26.414Z"
   },
   {
    "duration": 0,
    "start_time": "2024-03-14T05:47:26.415Z"
   },
   {
    "duration": 0,
    "start_time": "2024-03-14T05:47:26.416Z"
   },
   {
    "duration": 0,
    "start_time": "2024-03-14T05:47:26.417Z"
   },
   {
    "duration": 0,
    "start_time": "2024-03-14T05:47:26.418Z"
   },
   {
    "duration": 0,
    "start_time": "2024-03-14T05:47:26.419Z"
   },
   {
    "duration": 0,
    "start_time": "2024-03-14T05:47:26.420Z"
   },
   {
    "duration": 0,
    "start_time": "2024-03-14T05:47:26.421Z"
   },
   {
    "duration": 0,
    "start_time": "2024-03-14T05:47:26.422Z"
   },
   {
    "duration": 0,
    "start_time": "2024-03-14T05:47:26.424Z"
   },
   {
    "duration": 0,
    "start_time": "2024-03-14T05:47:26.425Z"
   },
   {
    "duration": 0,
    "start_time": "2024-03-14T05:47:26.426Z"
   },
   {
    "duration": 0,
    "start_time": "2024-03-14T05:47:26.427Z"
   },
   {
    "duration": 0,
    "start_time": "2024-03-14T05:47:26.428Z"
   },
   {
    "duration": 0,
    "start_time": "2024-03-14T05:47:26.429Z"
   },
   {
    "duration": 0,
    "start_time": "2024-03-14T05:47:26.431Z"
   },
   {
    "duration": 0,
    "start_time": "2024-03-14T05:47:26.431Z"
   },
   {
    "duration": 0,
    "start_time": "2024-03-14T05:47:26.433Z"
   },
   {
    "duration": 0,
    "start_time": "2024-03-14T05:47:26.434Z"
   },
   {
    "duration": 0,
    "start_time": "2024-03-14T05:47:26.473Z"
   },
   {
    "duration": 0,
    "start_time": "2024-03-14T05:47:26.474Z"
   },
   {
    "duration": 0,
    "start_time": "2024-03-14T05:47:26.475Z"
   },
   {
    "duration": 0,
    "start_time": "2024-03-14T05:47:26.476Z"
   },
   {
    "duration": 0,
    "start_time": "2024-03-14T05:47:26.477Z"
   },
   {
    "duration": 0,
    "start_time": "2024-03-14T05:47:26.478Z"
   },
   {
    "duration": 12,
    "start_time": "2024-03-14T05:47:52.084Z"
   },
   {
    "duration": 13,
    "start_time": "2024-03-14T05:47:55.230Z"
   },
   {
    "duration": 23,
    "start_time": "2024-03-14T05:48:01.892Z"
   },
   {
    "duration": 700,
    "start_time": "2024-03-14T05:50:51.448Z"
   },
   {
    "duration": 100,
    "start_time": "2024-03-14T05:50:52.150Z"
   },
   {
    "duration": 37,
    "start_time": "2024-03-14T05:50:52.252Z"
   },
   {
    "duration": 49,
    "start_time": "2024-03-14T05:50:52.291Z"
   },
   {
    "duration": 15,
    "start_time": "2024-03-14T05:50:52.342Z"
   },
   {
    "duration": 2,
    "start_time": "2024-03-14T05:50:52.373Z"
   },
   {
    "duration": 2460,
    "start_time": "2024-03-14T05:50:52.377Z"
   },
   {
    "duration": 10,
    "start_time": "2024-03-14T05:50:54.839Z"
   },
   {
    "duration": 18,
    "start_time": "2024-03-14T05:50:54.850Z"
   },
   {
    "duration": 12,
    "start_time": "2024-03-14T05:50:54.870Z"
   },
   {
    "duration": 27,
    "start_time": "2024-03-14T05:50:54.884Z"
   },
   {
    "duration": 15,
    "start_time": "2024-03-14T05:50:54.912Z"
   },
   {
    "duration": 94,
    "start_time": "2024-03-14T05:50:54.929Z"
   },
   {
    "duration": 0,
    "start_time": "2024-03-14T05:50:55.025Z"
   },
   {
    "duration": 0,
    "start_time": "2024-03-14T05:50:55.026Z"
   },
   {
    "duration": 0,
    "start_time": "2024-03-14T05:50:55.027Z"
   },
   {
    "duration": 0,
    "start_time": "2024-03-14T05:50:55.028Z"
   },
   {
    "duration": 0,
    "start_time": "2024-03-14T05:50:55.029Z"
   },
   {
    "duration": 0,
    "start_time": "2024-03-14T05:50:55.030Z"
   },
   {
    "duration": 0,
    "start_time": "2024-03-14T05:50:55.031Z"
   },
   {
    "duration": 0,
    "start_time": "2024-03-14T05:50:55.032Z"
   },
   {
    "duration": 0,
    "start_time": "2024-03-14T05:50:55.033Z"
   },
   {
    "duration": 0,
    "start_time": "2024-03-14T05:50:55.034Z"
   },
   {
    "duration": 0,
    "start_time": "2024-03-14T05:50:55.035Z"
   },
   {
    "duration": 0,
    "start_time": "2024-03-14T05:50:55.036Z"
   },
   {
    "duration": 0,
    "start_time": "2024-03-14T05:50:55.037Z"
   },
   {
    "duration": 0,
    "start_time": "2024-03-14T05:50:55.038Z"
   },
   {
    "duration": 0,
    "start_time": "2024-03-14T05:50:55.039Z"
   },
   {
    "duration": 0,
    "start_time": "2024-03-14T05:50:55.040Z"
   },
   {
    "duration": 0,
    "start_time": "2024-03-14T05:50:55.041Z"
   },
   {
    "duration": 0,
    "start_time": "2024-03-14T05:50:55.043Z"
   },
   {
    "duration": 0,
    "start_time": "2024-03-14T05:50:55.044Z"
   },
   {
    "duration": 0,
    "start_time": "2024-03-14T05:50:55.073Z"
   },
   {
    "duration": 0,
    "start_time": "2024-03-14T05:50:55.074Z"
   },
   {
    "duration": 0,
    "start_time": "2024-03-14T05:50:55.075Z"
   },
   {
    "duration": 0,
    "start_time": "2024-03-14T05:50:55.076Z"
   },
   {
    "duration": 0,
    "start_time": "2024-03-14T05:50:55.077Z"
   },
   {
    "duration": 0,
    "start_time": "2024-03-14T05:50:55.078Z"
   },
   {
    "duration": 0,
    "start_time": "2024-03-14T05:50:55.079Z"
   },
   {
    "duration": 4,
    "start_time": "2024-03-14T05:52:00.623Z"
   },
   {
    "duration": 13,
    "start_time": "2024-03-14T05:52:39.026Z"
   },
   {
    "duration": 59,
    "start_time": "2024-03-14T05:52:45.612Z"
   },
   {
    "duration": 51,
    "start_time": "2024-03-14T05:53:42.411Z"
   },
   {
    "duration": 48,
    "start_time": "2024-03-14T05:58:16.313Z"
   },
   {
    "duration": 49,
    "start_time": "2024-03-14T05:59:20.820Z"
   },
   {
    "duration": 42,
    "start_time": "2024-03-14T06:00:15.273Z"
   },
   {
    "duration": 647,
    "start_time": "2024-03-14T06:00:22.200Z"
   },
   {
    "duration": 102,
    "start_time": "2024-03-14T06:00:22.849Z"
   },
   {
    "duration": 35,
    "start_time": "2024-03-14T06:00:22.952Z"
   },
   {
    "duration": 52,
    "start_time": "2024-03-14T06:00:22.989Z"
   },
   {
    "duration": 37,
    "start_time": "2024-03-14T06:00:23.044Z"
   },
   {
    "duration": 3,
    "start_time": "2024-03-14T06:00:23.083Z"
   },
   {
    "duration": 3350,
    "start_time": "2024-03-14T06:00:23.087Z"
   },
   {
    "duration": 10,
    "start_time": "2024-03-14T06:00:26.439Z"
   },
   {
    "duration": 7,
    "start_time": "2024-03-14T06:00:26.450Z"
   },
   {
    "duration": 8,
    "start_time": "2024-03-14T06:00:26.459Z"
   },
   {
    "duration": 15,
    "start_time": "2024-03-14T06:00:26.468Z"
   },
   {
    "duration": 26,
    "start_time": "2024-03-14T06:00:26.484Z"
   },
   {
    "duration": 86,
    "start_time": "2024-03-14T06:00:26.512Z"
   },
   {
    "duration": 0,
    "start_time": "2024-03-14T06:00:26.601Z"
   },
   {
    "duration": 0,
    "start_time": "2024-03-14T06:00:26.602Z"
   },
   {
    "duration": 0,
    "start_time": "2024-03-14T06:00:26.603Z"
   },
   {
    "duration": 0,
    "start_time": "2024-03-14T06:00:26.604Z"
   },
   {
    "duration": 0,
    "start_time": "2024-03-14T06:00:26.605Z"
   },
   {
    "duration": 0,
    "start_time": "2024-03-14T06:00:26.606Z"
   },
   {
    "duration": 0,
    "start_time": "2024-03-14T06:00:26.607Z"
   },
   {
    "duration": 0,
    "start_time": "2024-03-14T06:00:26.608Z"
   },
   {
    "duration": 0,
    "start_time": "2024-03-14T06:00:26.610Z"
   },
   {
    "duration": 0,
    "start_time": "2024-03-14T06:00:26.611Z"
   },
   {
    "duration": 0,
    "start_time": "2024-03-14T06:00:26.612Z"
   },
   {
    "duration": 0,
    "start_time": "2024-03-14T06:00:26.613Z"
   },
   {
    "duration": 0,
    "start_time": "2024-03-14T06:00:26.614Z"
   },
   {
    "duration": 0,
    "start_time": "2024-03-14T06:00:26.616Z"
   },
   {
    "duration": 0,
    "start_time": "2024-03-14T06:00:26.616Z"
   },
   {
    "duration": 0,
    "start_time": "2024-03-14T06:00:26.617Z"
   },
   {
    "duration": 0,
    "start_time": "2024-03-14T06:00:26.618Z"
   },
   {
    "duration": 0,
    "start_time": "2024-03-14T06:00:26.619Z"
   },
   {
    "duration": 0,
    "start_time": "2024-03-14T06:00:26.620Z"
   },
   {
    "duration": 0,
    "start_time": "2024-03-14T06:00:26.621Z"
   },
   {
    "duration": 0,
    "start_time": "2024-03-14T06:00:26.622Z"
   },
   {
    "duration": 0,
    "start_time": "2024-03-14T06:00:26.624Z"
   },
   {
    "duration": 0,
    "start_time": "2024-03-14T06:00:26.625Z"
   },
   {
    "duration": 0,
    "start_time": "2024-03-14T06:00:26.626Z"
   },
   {
    "duration": 0,
    "start_time": "2024-03-14T06:00:26.627Z"
   },
   {
    "duration": 0,
    "start_time": "2024-03-14T06:00:26.673Z"
   },
   {
    "duration": 6,
    "start_time": "2024-03-14T06:00:38.732Z"
   },
   {
    "duration": 75,
    "start_time": "2024-03-14T06:00:41.099Z"
   },
   {
    "duration": 81,
    "start_time": "2024-03-14T06:00:45.950Z"
   },
   {
    "duration": 52,
    "start_time": "2024-03-14T06:01:16.345Z"
   },
   {
    "duration": 17,
    "start_time": "2024-03-14T06:02:21.819Z"
   },
   {
    "duration": 715,
    "start_time": "2024-03-14T06:10:54.366Z"
   },
   {
    "duration": 117,
    "start_time": "2024-03-14T06:10:55.084Z"
   },
   {
    "duration": 40,
    "start_time": "2024-03-14T06:10:55.203Z"
   },
   {
    "duration": 74,
    "start_time": "2024-03-14T06:10:55.246Z"
   },
   {
    "duration": 15,
    "start_time": "2024-03-14T06:10:55.322Z"
   },
   {
    "duration": 6,
    "start_time": "2024-03-14T06:10:55.339Z"
   },
   {
    "duration": 2718,
    "start_time": "2024-03-14T06:10:55.347Z"
   },
   {
    "duration": 14,
    "start_time": "2024-03-14T06:10:58.067Z"
   },
   {
    "duration": 25,
    "start_time": "2024-03-14T06:10:58.083Z"
   },
   {
    "duration": 10,
    "start_time": "2024-03-14T06:10:58.112Z"
   },
   {
    "duration": 16,
    "start_time": "2024-03-14T06:10:58.124Z"
   },
   {
    "duration": 14,
    "start_time": "2024-03-14T06:10:58.142Z"
   },
   {
    "duration": 115,
    "start_time": "2024-03-14T06:10:58.158Z"
   },
   {
    "duration": 0,
    "start_time": "2024-03-14T06:10:58.276Z"
   },
   {
    "duration": 0,
    "start_time": "2024-03-14T06:10:58.278Z"
   },
   {
    "duration": 0,
    "start_time": "2024-03-14T06:10:58.282Z"
   },
   {
    "duration": 0,
    "start_time": "2024-03-14T06:10:58.284Z"
   },
   {
    "duration": 0,
    "start_time": "2024-03-14T06:10:58.287Z"
   },
   {
    "duration": 0,
    "start_time": "2024-03-14T06:10:58.289Z"
   },
   {
    "duration": 0,
    "start_time": "2024-03-14T06:10:58.290Z"
   },
   {
    "duration": 0,
    "start_time": "2024-03-14T06:10:58.292Z"
   },
   {
    "duration": 0,
    "start_time": "2024-03-14T06:10:58.293Z"
   },
   {
    "duration": 0,
    "start_time": "2024-03-14T06:10:58.294Z"
   },
   {
    "duration": 0,
    "start_time": "2024-03-14T06:10:58.295Z"
   },
   {
    "duration": 0,
    "start_time": "2024-03-14T06:10:58.296Z"
   },
   {
    "duration": 0,
    "start_time": "2024-03-14T06:10:58.297Z"
   },
   {
    "duration": 0,
    "start_time": "2024-03-14T06:10:58.298Z"
   },
   {
    "duration": 0,
    "start_time": "2024-03-14T06:10:58.299Z"
   },
   {
    "duration": 0,
    "start_time": "2024-03-14T06:10:58.301Z"
   },
   {
    "duration": 0,
    "start_time": "2024-03-14T06:10:58.302Z"
   },
   {
    "duration": 0,
    "start_time": "2024-03-14T06:10:58.303Z"
   },
   {
    "duration": 0,
    "start_time": "2024-03-14T06:10:58.304Z"
   },
   {
    "duration": 0,
    "start_time": "2024-03-14T06:10:58.305Z"
   },
   {
    "duration": 0,
    "start_time": "2024-03-14T06:10:58.306Z"
   },
   {
    "duration": 0,
    "start_time": "2024-03-14T06:10:58.307Z"
   },
   {
    "duration": 0,
    "start_time": "2024-03-14T06:10:58.308Z"
   },
   {
    "duration": 0,
    "start_time": "2024-03-14T06:10:58.309Z"
   },
   {
    "duration": 0,
    "start_time": "2024-03-14T06:10:58.310Z"
   },
   {
    "duration": 0,
    "start_time": "2024-03-14T06:10:58.311Z"
   },
   {
    "duration": 39,
    "start_time": "2024-03-14T06:16:33.139Z"
   },
   {
    "duration": 14,
    "start_time": "2024-03-14T06:16:37.851Z"
   },
   {
    "duration": 638,
    "start_time": "2024-03-14T06:16:50.329Z"
   },
   {
    "duration": 106,
    "start_time": "2024-03-14T06:16:50.969Z"
   },
   {
    "duration": 34,
    "start_time": "2024-03-14T06:16:51.077Z"
   },
   {
    "duration": 62,
    "start_time": "2024-03-14T06:16:51.112Z"
   },
   {
    "duration": 16,
    "start_time": "2024-03-14T06:16:51.176Z"
   },
   {
    "duration": 3,
    "start_time": "2024-03-14T06:16:51.193Z"
   },
   {
    "duration": 3288,
    "start_time": "2024-03-14T06:16:51.197Z"
   },
   {
    "duration": 10,
    "start_time": "2024-03-14T06:16:54.487Z"
   },
   {
    "duration": 3,
    "start_time": "2024-03-14T06:16:54.498Z"
   },
   {
    "duration": 7,
    "start_time": "2024-03-14T06:16:54.502Z"
   },
   {
    "duration": 21,
    "start_time": "2024-03-14T06:16:54.511Z"
   },
   {
    "duration": 16,
    "start_time": "2024-03-14T06:16:54.534Z"
   },
   {
    "duration": 23,
    "start_time": "2024-03-14T06:16:54.573Z"
   },
   {
    "duration": 5,
    "start_time": "2024-03-14T06:16:54.599Z"
   },
   {
    "duration": 99,
    "start_time": "2024-03-14T06:16:54.606Z"
   },
   {
    "duration": 85,
    "start_time": "2024-03-14T06:16:54.709Z"
   },
   {
    "duration": 47,
    "start_time": "2024-03-14T06:16:54.795Z"
   },
   {
    "duration": 29,
    "start_time": "2024-03-14T06:16:54.844Z"
   },
   {
    "duration": 408,
    "start_time": "2024-03-14T06:16:54.875Z"
   },
   {
    "duration": 168,
    "start_time": "2024-03-14T06:16:55.285Z"
   },
   {
    "duration": 190,
    "start_time": "2024-03-14T06:16:55.455Z"
   },
   {
    "duration": 180,
    "start_time": "2024-03-14T06:16:55.646Z"
   },
   {
    "duration": 1476,
    "start_time": "2024-03-14T06:16:55.828Z"
   },
   {
    "duration": 170,
    "start_time": "2024-03-14T06:16:57.306Z"
   },
   {
    "duration": 157,
    "start_time": "2024-03-14T06:16:57.477Z"
   },
   {
    "duration": 139,
    "start_time": "2024-03-14T06:16:57.636Z"
   },
   {
    "duration": 163,
    "start_time": "2024-03-14T06:16:57.776Z"
   },
   {
    "duration": 197,
    "start_time": "2024-03-14T06:16:57.941Z"
   },
   {
    "duration": 191,
    "start_time": "2024-03-14T06:16:58.140Z"
   },
   {
    "duration": 328,
    "start_time": "2024-03-14T06:16:58.332Z"
   },
   {
    "duration": 17,
    "start_time": "2024-03-14T06:16:58.662Z"
   },
   {
    "duration": 193,
    "start_time": "2024-03-14T06:16:58.681Z"
   },
   {
    "duration": 202,
    "start_time": "2024-03-14T06:16:58.875Z"
   },
   {
    "duration": 172,
    "start_time": "2024-03-14T06:16:59.079Z"
   },
   {
    "duration": 197,
    "start_time": "2024-03-14T06:16:59.253Z"
   },
   {
    "duration": 140,
    "start_time": "2024-03-14T06:16:59.451Z"
   },
   {
    "duration": 357,
    "start_time": "2024-03-14T06:16:59.592Z"
   },
   {
    "duration": 197,
    "start_time": "2024-03-14T06:16:59.951Z"
   },
   {
    "duration": 281,
    "start_time": "2024-03-14T06:17:00.150Z"
   },
   {
    "duration": 116,
    "start_time": "2024-03-14T06:18:28.712Z"
   },
   {
    "duration": 14,
    "start_time": "2024-03-14T06:19:29.906Z"
   },
   {
    "duration": 623,
    "start_time": "2024-03-14T06:20:41.218Z"
   },
   {
    "duration": 101,
    "start_time": "2024-03-14T06:20:41.843Z"
   },
   {
    "duration": 38,
    "start_time": "2024-03-14T06:20:41.945Z"
   },
   {
    "duration": 50,
    "start_time": "2024-03-14T06:20:41.985Z"
   },
   {
    "duration": 15,
    "start_time": "2024-03-14T06:20:42.037Z"
   },
   {
    "duration": 20,
    "start_time": "2024-03-14T06:20:42.053Z"
   },
   {
    "duration": 3335,
    "start_time": "2024-03-14T06:20:42.074Z"
   },
   {
    "duration": 10,
    "start_time": "2024-03-14T06:20:45.411Z"
   },
   {
    "duration": 28,
    "start_time": "2024-03-14T06:20:45.422Z"
   },
   {
    "duration": 39,
    "start_time": "2024-03-14T06:20:45.452Z"
   },
   {
    "duration": 44,
    "start_time": "2024-03-14T06:20:45.493Z"
   },
   {
    "duration": 13,
    "start_time": "2024-03-14T06:20:45.539Z"
   },
   {
    "duration": 28,
    "start_time": "2024-03-14T06:20:45.554Z"
   },
   {
    "duration": 27,
    "start_time": "2024-03-14T06:20:45.585Z"
   },
   {
    "duration": 85,
    "start_time": "2024-03-14T06:20:45.613Z"
   },
   {
    "duration": 78,
    "start_time": "2024-03-14T06:20:45.699Z"
   },
   {
    "duration": 48,
    "start_time": "2024-03-14T06:20:45.778Z"
   },
   {
    "duration": 13,
    "start_time": "2024-03-14T06:20:45.828Z"
   },
   {
    "duration": 483,
    "start_time": "2024-03-14T06:20:45.843Z"
   },
   {
    "duration": 170,
    "start_time": "2024-03-14T06:20:46.328Z"
   },
   {
    "duration": 194,
    "start_time": "2024-03-14T06:20:46.500Z"
   },
   {
    "duration": 191,
    "start_time": "2024-03-14T06:20:46.696Z"
   },
   {
    "duration": 1441,
    "start_time": "2024-03-14T06:20:46.889Z"
   },
   {
    "duration": 167,
    "start_time": "2024-03-14T06:20:48.333Z"
   },
   {
    "duration": 164,
    "start_time": "2024-03-14T06:20:48.502Z"
   },
   {
    "duration": 147,
    "start_time": "2024-03-14T06:20:48.672Z"
   },
   {
    "duration": 173,
    "start_time": "2024-03-14T06:20:48.821Z"
   },
   {
    "duration": 192,
    "start_time": "2024-03-14T06:20:48.995Z"
   },
   {
    "duration": 186,
    "start_time": "2024-03-14T06:20:49.189Z"
   },
   {
    "duration": 316,
    "start_time": "2024-03-14T06:20:49.377Z"
   },
   {
    "duration": 9,
    "start_time": "2024-03-14T06:20:49.694Z"
   },
   {
    "duration": 205,
    "start_time": "2024-03-14T06:20:49.705Z"
   },
   {
    "duration": 222,
    "start_time": "2024-03-14T06:20:49.913Z"
   },
   {
    "duration": 176,
    "start_time": "2024-03-14T06:20:50.137Z"
   },
   {
    "duration": 203,
    "start_time": "2024-03-14T06:20:50.314Z"
   },
   {
    "duration": 142,
    "start_time": "2024-03-14T06:20:50.519Z"
   },
   {
    "duration": 328,
    "start_time": "2024-03-14T06:20:50.662Z"
   },
   {
    "duration": 192,
    "start_time": "2024-03-14T06:20:50.992Z"
   },
   {
    "duration": 283,
    "start_time": "2024-03-14T06:20:51.185Z"
   },
   {
    "duration": 15,
    "start_time": "2024-03-14T06:21:54.900Z"
   },
   {
    "duration": 14,
    "start_time": "2024-03-14T06:23:30.018Z"
   },
   {
    "duration": 19,
    "start_time": "2024-03-14T06:23:41.132Z"
   },
   {
    "duration": 82,
    "start_time": "2024-03-14T06:23:44.721Z"
   },
   {
    "duration": 10,
    "start_time": "2024-03-14T06:23:50.463Z"
   },
   {
    "duration": 13,
    "start_time": "2024-03-14T06:23:56.135Z"
   },
   {
    "duration": 637,
    "start_time": "2024-03-14T06:24:01.829Z"
   },
   {
    "duration": 105,
    "start_time": "2024-03-14T06:24:02.468Z"
   },
   {
    "duration": 34,
    "start_time": "2024-03-14T06:24:02.575Z"
   },
   {
    "duration": 64,
    "start_time": "2024-03-14T06:24:02.610Z"
   },
   {
    "duration": 16,
    "start_time": "2024-03-14T06:24:02.677Z"
   },
   {
    "duration": 5,
    "start_time": "2024-03-14T06:24:02.695Z"
   },
   {
    "duration": 3404,
    "start_time": "2024-03-14T06:24:02.701Z"
   },
   {
    "duration": 12,
    "start_time": "2024-03-14T06:24:06.107Z"
   },
   {
    "duration": 10,
    "start_time": "2024-03-14T06:24:06.121Z"
   },
   {
    "duration": 23,
    "start_time": "2024-03-14T06:24:06.133Z"
   },
   {
    "duration": 42,
    "start_time": "2024-03-14T06:24:06.157Z"
   },
   {
    "duration": 30,
    "start_time": "2024-03-14T06:24:06.200Z"
   },
   {
    "duration": 113,
    "start_time": "2024-03-14T06:24:06.232Z"
   },
   {
    "duration": 0,
    "start_time": "2024-03-14T06:24:06.347Z"
   },
   {
    "duration": 0,
    "start_time": "2024-03-14T06:24:06.349Z"
   },
   {
    "duration": 0,
    "start_time": "2024-03-14T06:24:06.350Z"
   },
   {
    "duration": 0,
    "start_time": "2024-03-14T06:24:06.351Z"
   },
   {
    "duration": 0,
    "start_time": "2024-03-14T06:24:06.352Z"
   },
   {
    "duration": 0,
    "start_time": "2024-03-14T06:24:06.353Z"
   },
   {
    "duration": 0,
    "start_time": "2024-03-14T06:24:06.354Z"
   },
   {
    "duration": 0,
    "start_time": "2024-03-14T06:24:06.355Z"
   },
   {
    "duration": 0,
    "start_time": "2024-03-14T06:24:06.356Z"
   },
   {
    "duration": 0,
    "start_time": "2024-03-14T06:24:06.357Z"
   },
   {
    "duration": 0,
    "start_time": "2024-03-14T06:24:06.358Z"
   },
   {
    "duration": 0,
    "start_time": "2024-03-14T06:24:06.373Z"
   },
   {
    "duration": 0,
    "start_time": "2024-03-14T06:24:06.375Z"
   },
   {
    "duration": 0,
    "start_time": "2024-03-14T06:24:06.377Z"
   },
   {
    "duration": 0,
    "start_time": "2024-03-14T06:24:06.378Z"
   },
   {
    "duration": 0,
    "start_time": "2024-03-14T06:24:06.379Z"
   },
   {
    "duration": 0,
    "start_time": "2024-03-14T06:24:06.380Z"
   },
   {
    "duration": 0,
    "start_time": "2024-03-14T06:24:06.381Z"
   },
   {
    "duration": 0,
    "start_time": "2024-03-14T06:24:06.382Z"
   },
   {
    "duration": 0,
    "start_time": "2024-03-14T06:24:06.383Z"
   },
   {
    "duration": 0,
    "start_time": "2024-03-14T06:24:06.384Z"
   },
   {
    "duration": 0,
    "start_time": "2024-03-14T06:24:06.385Z"
   },
   {
    "duration": 0,
    "start_time": "2024-03-14T06:24:06.386Z"
   },
   {
    "duration": 0,
    "start_time": "2024-03-14T06:24:06.387Z"
   },
   {
    "duration": 0,
    "start_time": "2024-03-14T06:24:06.388Z"
   },
   {
    "duration": 0,
    "start_time": "2024-03-14T06:24:06.389Z"
   },
   {
    "duration": 13,
    "start_time": "2024-03-14T06:24:14.610Z"
   },
   {
    "duration": 13,
    "start_time": "2024-03-14T06:24:15.433Z"
   },
   {
    "duration": 24,
    "start_time": "2024-03-14T06:24:57.376Z"
   },
   {
    "duration": 17,
    "start_time": "2024-03-14T06:25:34.408Z"
   },
   {
    "duration": 14,
    "start_time": "2024-03-14T06:25:37.392Z"
   },
   {
    "duration": 703,
    "start_time": "2024-03-14T06:25:43.641Z"
   },
   {
    "duration": 106,
    "start_time": "2024-03-14T06:25:44.346Z"
   },
   {
    "duration": 34,
    "start_time": "2024-03-14T06:25:44.454Z"
   },
   {
    "duration": 52,
    "start_time": "2024-03-14T06:25:44.489Z"
   },
   {
    "duration": 33,
    "start_time": "2024-03-14T06:25:44.543Z"
   },
   {
    "duration": 3,
    "start_time": "2024-03-14T06:25:44.577Z"
   },
   {
    "duration": 3400,
    "start_time": "2024-03-14T06:25:44.581Z"
   },
   {
    "duration": 11,
    "start_time": "2024-03-14T06:25:47.983Z"
   },
   {
    "duration": 8,
    "start_time": "2024-03-14T06:25:47.995Z"
   },
   {
    "duration": 16,
    "start_time": "2024-03-14T06:25:48.004Z"
   },
   {
    "duration": 31,
    "start_time": "2024-03-14T06:25:48.021Z"
   },
   {
    "duration": 14,
    "start_time": "2024-03-14T06:25:48.053Z"
   },
   {
    "duration": 30,
    "start_time": "2024-03-14T06:25:48.068Z"
   },
   {
    "duration": 6,
    "start_time": "2024-03-14T06:25:48.101Z"
   },
   {
    "duration": 85,
    "start_time": "2024-03-14T06:25:48.109Z"
   },
   {
    "duration": 81,
    "start_time": "2024-03-14T06:25:48.196Z"
   },
   {
    "duration": 12,
    "start_time": "2024-03-14T06:25:48.279Z"
   },
   {
    "duration": 13,
    "start_time": "2024-03-14T06:25:48.293Z"
   },
   {
    "duration": 426,
    "start_time": "2024-03-14T06:25:48.308Z"
   },
   {
    "duration": 173,
    "start_time": "2024-03-14T06:25:48.736Z"
   },
   {
    "duration": 200,
    "start_time": "2024-03-14T06:25:48.911Z"
   },
   {
    "duration": 186,
    "start_time": "2024-03-14T06:25:49.113Z"
   },
   {
    "duration": 1435,
    "start_time": "2024-03-14T06:25:49.300Z"
   },
   {
    "duration": 160,
    "start_time": "2024-03-14T06:25:50.737Z"
   },
   {
    "duration": 153,
    "start_time": "2024-03-14T06:25:50.898Z"
   },
   {
    "duration": 150,
    "start_time": "2024-03-14T06:25:51.053Z"
   },
   {
    "duration": 164,
    "start_time": "2024-03-14T06:25:51.204Z"
   },
   {
    "duration": 193,
    "start_time": "2024-03-14T06:25:51.373Z"
   },
   {
    "duration": 181,
    "start_time": "2024-03-14T06:25:51.568Z"
   },
   {
    "duration": 305,
    "start_time": "2024-03-14T06:25:51.750Z"
   },
   {
    "duration": 21,
    "start_time": "2024-03-14T06:25:52.057Z"
   },
   {
    "duration": 198,
    "start_time": "2024-03-14T06:25:52.079Z"
   },
   {
    "duration": 215,
    "start_time": "2024-03-14T06:25:52.279Z"
   },
   {
    "duration": 180,
    "start_time": "2024-03-14T06:25:52.496Z"
   },
   {
    "duration": 212,
    "start_time": "2024-03-14T06:25:52.678Z"
   },
   {
    "duration": 134,
    "start_time": "2024-03-14T06:25:52.891Z"
   },
   {
    "duration": 338,
    "start_time": "2024-03-14T06:25:53.026Z"
   },
   {
    "duration": 226,
    "start_time": "2024-03-14T06:25:53.365Z"
   },
   {
    "duration": 294,
    "start_time": "2024-03-14T06:25:53.593Z"
   },
   {
    "duration": 14,
    "start_time": "2024-03-14T06:26:03.376Z"
   },
   {
    "duration": 89,
    "start_time": "2024-03-14T06:26:19.529Z"
   },
   {
    "duration": 10,
    "start_time": "2024-03-14T06:26:48.582Z"
   },
   {
    "duration": 634,
    "start_time": "2024-03-14T06:26:54.805Z"
   },
   {
    "duration": 105,
    "start_time": "2024-03-14T06:26:55.441Z"
   },
   {
    "duration": 38,
    "start_time": "2024-03-14T06:26:55.547Z"
   },
   {
    "duration": 51,
    "start_time": "2024-03-14T06:26:55.586Z"
   },
   {
    "duration": 16,
    "start_time": "2024-03-14T06:26:55.638Z"
   },
   {
    "duration": 2,
    "start_time": "2024-03-14T06:26:55.672Z"
   },
   {
    "duration": 3309,
    "start_time": "2024-03-14T06:26:55.676Z"
   },
   {
    "duration": 10,
    "start_time": "2024-03-14T06:26:58.987Z"
   },
   {
    "duration": 3,
    "start_time": "2024-03-14T06:26:58.998Z"
   },
   {
    "duration": 8,
    "start_time": "2024-03-14T06:26:59.002Z"
   },
   {
    "duration": 17,
    "start_time": "2024-03-14T06:26:59.011Z"
   },
   {
    "duration": 15,
    "start_time": "2024-03-14T06:26:59.030Z"
   },
   {
    "duration": 39,
    "start_time": "2024-03-14T06:26:59.046Z"
   },
   {
    "duration": 6,
    "start_time": "2024-03-14T06:26:59.089Z"
   },
   {
    "duration": 94,
    "start_time": "2024-03-14T06:26:59.096Z"
   },
   {
    "duration": 82,
    "start_time": "2024-03-14T06:26:59.192Z"
   },
   {
    "duration": 13,
    "start_time": "2024-03-14T06:26:59.276Z"
   },
   {
    "duration": 13,
    "start_time": "2024-03-14T06:26:59.291Z"
   },
   {
    "duration": 439,
    "start_time": "2024-03-14T06:26:59.306Z"
   },
   {
    "duration": 172,
    "start_time": "2024-03-14T06:26:59.747Z"
   },
   {
    "duration": 203,
    "start_time": "2024-03-14T06:26:59.921Z"
   },
   {
    "duration": 197,
    "start_time": "2024-03-14T06:27:00.125Z"
   },
   {
    "duration": 1439,
    "start_time": "2024-03-14T06:27:00.323Z"
   },
   {
    "duration": 161,
    "start_time": "2024-03-14T06:27:01.763Z"
   },
   {
    "duration": 166,
    "start_time": "2024-03-14T06:27:01.926Z"
   },
   {
    "duration": 143,
    "start_time": "2024-03-14T06:27:02.094Z"
   },
   {
    "duration": 168,
    "start_time": "2024-03-14T06:27:02.239Z"
   },
   {
    "duration": 203,
    "start_time": "2024-03-14T06:27:02.409Z"
   },
   {
    "duration": 183,
    "start_time": "2024-03-14T06:27:02.613Z"
   },
   {
    "duration": 310,
    "start_time": "2024-03-14T06:27:02.798Z"
   },
   {
    "duration": 9,
    "start_time": "2024-03-14T06:27:03.109Z"
   },
   {
    "duration": 198,
    "start_time": "2024-03-14T06:27:03.119Z"
   },
   {
    "duration": 208,
    "start_time": "2024-03-14T06:27:03.319Z"
   },
   {
    "duration": 176,
    "start_time": "2024-03-14T06:27:03.528Z"
   },
   {
    "duration": 220,
    "start_time": "2024-03-14T06:27:03.705Z"
   },
   {
    "duration": 153,
    "start_time": "2024-03-14T06:27:03.926Z"
   },
   {
    "duration": 343,
    "start_time": "2024-03-14T06:27:04.082Z"
   },
   {
    "duration": 190,
    "start_time": "2024-03-14T06:27:04.426Z"
   },
   {
    "duration": 281,
    "start_time": "2024-03-14T06:27:04.617Z"
   },
   {
    "duration": 89,
    "start_time": "2024-03-14T06:27:05.998Z"
   },
   {
    "duration": 50,
    "start_time": "2024-03-14T06:28:46.485Z"
   },
   {
    "duration": 29,
    "start_time": "2024-03-14T06:29:40.269Z"
   },
   {
    "duration": 678,
    "start_time": "2024-03-14T06:29:54.497Z"
   },
   {
    "duration": 103,
    "start_time": "2024-03-14T06:29:55.177Z"
   },
   {
    "duration": 34,
    "start_time": "2024-03-14T06:29:55.282Z"
   },
   {
    "duration": 64,
    "start_time": "2024-03-14T06:29:55.318Z"
   },
   {
    "duration": 14,
    "start_time": "2024-03-14T06:29:55.384Z"
   },
   {
    "duration": 2,
    "start_time": "2024-03-14T06:29:55.400Z"
   },
   {
    "duration": 3294,
    "start_time": "2024-03-14T06:29:55.403Z"
   },
   {
    "duration": 10,
    "start_time": "2024-03-14T06:29:58.699Z"
   },
   {
    "duration": 6,
    "start_time": "2024-03-14T06:29:58.710Z"
   },
   {
    "duration": 17,
    "start_time": "2024-03-14T06:29:58.718Z"
   },
   {
    "duration": 21,
    "start_time": "2024-03-14T06:29:58.737Z"
   },
   {
    "duration": 14,
    "start_time": "2024-03-14T06:29:58.760Z"
   },
   {
    "duration": 29,
    "start_time": "2024-03-14T06:29:58.776Z"
   },
   {
    "duration": 5,
    "start_time": "2024-03-14T06:29:58.809Z"
   },
   {
    "duration": 95,
    "start_time": "2024-03-14T06:29:58.815Z"
   },
   {
    "duration": 97,
    "start_time": "2024-03-14T06:29:58.912Z"
   },
   {
    "duration": 47,
    "start_time": "2024-03-14T06:29:59.011Z"
   },
   {
    "duration": 23,
    "start_time": "2024-03-14T06:29:59.060Z"
   },
   {
    "duration": 408,
    "start_time": "2024-03-14T06:29:59.085Z"
   },
   {
    "duration": 175,
    "start_time": "2024-03-14T06:29:59.494Z"
   },
   {
    "duration": 185,
    "start_time": "2024-03-14T06:29:59.673Z"
   },
   {
    "duration": 184,
    "start_time": "2024-03-14T06:29:59.860Z"
   },
   {
    "duration": 1493,
    "start_time": "2024-03-14T06:30:00.046Z"
   },
   {
    "duration": 169,
    "start_time": "2024-03-14T06:30:01.541Z"
   },
   {
    "duration": 164,
    "start_time": "2024-03-14T06:30:01.712Z"
   },
   {
    "duration": 146,
    "start_time": "2024-03-14T06:30:01.879Z"
   },
   {
    "duration": 181,
    "start_time": "2024-03-14T06:30:02.027Z"
   },
   {
    "duration": 198,
    "start_time": "2024-03-14T06:30:02.210Z"
   },
   {
    "duration": 190,
    "start_time": "2024-03-14T06:30:02.410Z"
   },
   {
    "duration": 324,
    "start_time": "2024-03-14T06:30:02.601Z"
   },
   {
    "duration": 11,
    "start_time": "2024-03-14T06:30:02.926Z"
   },
   {
    "duration": 200,
    "start_time": "2024-03-14T06:30:02.939Z"
   },
   {
    "duration": 202,
    "start_time": "2024-03-14T06:30:03.140Z"
   },
   {
    "duration": 189,
    "start_time": "2024-03-14T06:30:03.344Z"
   },
   {
    "duration": 206,
    "start_time": "2024-03-14T06:30:03.535Z"
   },
   {
    "duration": 143,
    "start_time": "2024-03-14T06:30:03.742Z"
   },
   {
    "duration": 353,
    "start_time": "2024-03-14T06:30:03.888Z"
   },
   {
    "duration": 203,
    "start_time": "2024-03-14T06:30:04.243Z"
   },
   {
    "duration": 284,
    "start_time": "2024-03-14T06:30:04.447Z"
   },
   {
    "duration": 91,
    "start_time": "2024-03-14T06:30:11.202Z"
   },
   {
    "duration": 13,
    "start_time": "2024-03-14T06:30:34.036Z"
   },
   {
    "duration": 25,
    "start_time": "2024-03-14T06:31:12.535Z"
   },
   {
    "duration": 708,
    "start_time": "2024-03-14T06:31:24.148Z"
   },
   {
    "duration": 107,
    "start_time": "2024-03-14T06:31:24.858Z"
   },
   {
    "duration": 36,
    "start_time": "2024-03-14T06:31:24.966Z"
   },
   {
    "duration": 52,
    "start_time": "2024-03-14T06:31:25.003Z"
   },
   {
    "duration": 28,
    "start_time": "2024-03-14T06:31:25.058Z"
   },
   {
    "duration": 4,
    "start_time": "2024-03-14T06:31:25.087Z"
   },
   {
    "duration": 3344,
    "start_time": "2024-03-14T06:31:25.093Z"
   },
   {
    "duration": 11,
    "start_time": "2024-03-14T06:31:28.439Z"
   },
   {
    "duration": 12,
    "start_time": "2024-03-14T06:31:28.451Z"
   },
   {
    "duration": 7,
    "start_time": "2024-03-14T06:31:28.464Z"
   },
   {
    "duration": 15,
    "start_time": "2024-03-14T06:31:28.472Z"
   },
   {
    "duration": 17,
    "start_time": "2024-03-14T06:31:28.488Z"
   },
   {
    "duration": 21,
    "start_time": "2024-03-14T06:31:28.507Z"
   },
   {
    "duration": 6,
    "start_time": "2024-03-14T06:31:28.531Z"
   },
   {
    "duration": 102,
    "start_time": "2024-03-14T06:31:28.538Z"
   },
   {
    "duration": 93,
    "start_time": "2024-03-14T06:31:28.642Z"
   },
   {
    "duration": 58,
    "start_time": "2024-03-14T06:31:28.737Z"
   },
   {
    "duration": 13,
    "start_time": "2024-03-14T06:31:28.797Z"
   },
   {
    "duration": 421,
    "start_time": "2024-03-14T06:31:28.812Z"
   },
   {
    "duration": 178,
    "start_time": "2024-03-14T06:31:29.235Z"
   },
   {
    "duration": 224,
    "start_time": "2024-03-14T06:31:29.415Z"
   },
   {
    "duration": 190,
    "start_time": "2024-03-14T06:31:29.641Z"
   },
   {
    "duration": 1451,
    "start_time": "2024-03-14T06:31:29.833Z"
   },
   {
    "duration": 165,
    "start_time": "2024-03-14T06:31:31.286Z"
   },
   {
    "duration": 155,
    "start_time": "2024-03-14T06:31:31.453Z"
   },
   {
    "duration": 143,
    "start_time": "2024-03-14T06:31:31.610Z"
   },
   {
    "duration": 173,
    "start_time": "2024-03-14T06:31:31.755Z"
   },
   {
    "duration": 210,
    "start_time": "2024-03-14T06:31:31.929Z"
   },
   {
    "duration": 195,
    "start_time": "2024-03-14T06:31:32.141Z"
   },
   {
    "duration": 295,
    "start_time": "2024-03-14T06:31:32.338Z"
   },
   {
    "duration": 9,
    "start_time": "2024-03-14T06:31:32.635Z"
   },
   {
    "duration": 212,
    "start_time": "2024-03-14T06:31:32.646Z"
   },
   {
    "duration": 197,
    "start_time": "2024-03-14T06:31:32.860Z"
   },
   {
    "duration": 184,
    "start_time": "2024-03-14T06:31:33.059Z"
   },
   {
    "duration": 234,
    "start_time": "2024-03-14T06:31:33.245Z"
   },
   {
    "duration": 154,
    "start_time": "2024-03-14T06:31:33.481Z"
   },
   {
    "duration": 358,
    "start_time": "2024-03-14T06:31:33.637Z"
   },
   {
    "duration": 213,
    "start_time": "2024-03-14T06:31:33.997Z"
   },
   {
    "duration": 278,
    "start_time": "2024-03-14T06:31:34.213Z"
   },
   {
    "duration": 15,
    "start_time": "2024-03-14T06:31:38.745Z"
   },
   {
    "duration": 101,
    "start_time": "2024-03-14T06:31:42.176Z"
   },
   {
    "duration": 13,
    "start_time": "2024-03-14T06:32:30.288Z"
   },
   {
    "duration": 683,
    "start_time": "2024-03-14T06:32:35.469Z"
   },
   {
    "duration": 109,
    "start_time": "2024-03-14T06:32:36.154Z"
   },
   {
    "duration": 35,
    "start_time": "2024-03-14T06:32:36.267Z"
   },
   {
    "duration": 65,
    "start_time": "2024-03-14T06:32:36.304Z"
   },
   {
    "duration": 15,
    "start_time": "2024-03-14T06:32:36.370Z"
   },
   {
    "duration": 2,
    "start_time": "2024-03-14T06:32:36.387Z"
   },
   {
    "duration": 3407,
    "start_time": "2024-03-14T06:32:36.391Z"
   },
   {
    "duration": 10,
    "start_time": "2024-03-14T06:32:39.799Z"
   },
   {
    "duration": 4,
    "start_time": "2024-03-14T06:32:39.810Z"
   },
   {
    "duration": 6,
    "start_time": "2024-03-14T06:32:39.816Z"
   },
   {
    "duration": 11,
    "start_time": "2024-03-14T06:32:39.823Z"
   },
   {
    "duration": 31,
    "start_time": "2024-03-14T06:32:39.836Z"
   },
   {
    "duration": 25,
    "start_time": "2024-03-14T06:32:39.870Z"
   },
   {
    "duration": 8,
    "start_time": "2024-03-14T06:32:39.896Z"
   },
   {
    "duration": 153,
    "start_time": "2024-03-14T06:32:39.907Z"
   },
   {
    "duration": 116,
    "start_time": "2024-03-14T06:32:40.062Z"
   },
   {
    "duration": 60,
    "start_time": "2024-03-14T06:32:40.180Z"
   },
   {
    "duration": 15,
    "start_time": "2024-03-14T06:32:40.242Z"
   },
   {
    "duration": 435,
    "start_time": "2024-03-14T06:32:40.259Z"
   },
   {
    "duration": 182,
    "start_time": "2024-03-14T06:32:40.695Z"
   },
   {
    "duration": 196,
    "start_time": "2024-03-14T06:32:40.879Z"
   },
   {
    "duration": 187,
    "start_time": "2024-03-14T06:32:41.076Z"
   },
   {
    "duration": 1462,
    "start_time": "2024-03-14T06:32:41.265Z"
   },
   {
    "duration": 189,
    "start_time": "2024-03-14T06:32:42.729Z"
   },
   {
    "duration": 163,
    "start_time": "2024-03-14T06:32:42.919Z"
   },
   {
    "duration": 144,
    "start_time": "2024-03-14T06:32:43.084Z"
   },
   {
    "duration": 177,
    "start_time": "2024-03-14T06:32:43.230Z"
   },
   {
    "duration": 206,
    "start_time": "2024-03-14T06:32:43.410Z"
   },
   {
    "duration": 191,
    "start_time": "2024-03-14T06:32:43.618Z"
   },
   {
    "duration": 434,
    "start_time": "2024-03-14T06:32:43.811Z"
   },
   {
    "duration": 9,
    "start_time": "2024-03-14T06:32:44.247Z"
   },
   {
    "duration": 201,
    "start_time": "2024-03-14T06:32:44.258Z"
   },
   {
    "duration": 206,
    "start_time": "2024-03-14T06:32:44.461Z"
   },
   {
    "duration": 174,
    "start_time": "2024-03-14T06:32:44.672Z"
   },
   {
    "duration": 213,
    "start_time": "2024-03-14T06:32:44.847Z"
   },
   {
    "duration": 134,
    "start_time": "2024-03-14T06:32:45.072Z"
   },
   {
    "duration": 359,
    "start_time": "2024-03-14T06:32:45.208Z"
   },
   {
    "duration": 197,
    "start_time": "2024-03-14T06:32:45.573Z"
   },
   {
    "duration": 292,
    "start_time": "2024-03-14T06:32:45.772Z"
   },
   {
    "duration": 96,
    "start_time": "2024-03-14T06:32:46.067Z"
   },
   {
    "duration": 15,
    "start_time": "2024-03-14T06:32:51.172Z"
   },
   {
    "duration": 14,
    "start_time": "2024-03-14T06:33:08.582Z"
   },
   {
    "duration": 24,
    "start_time": "2024-03-14T06:33:11.378Z"
   },
   {
    "duration": 719,
    "start_time": "2024-03-14T06:33:15.938Z"
   },
   {
    "duration": 106,
    "start_time": "2024-03-14T06:33:16.659Z"
   },
   {
    "duration": 40,
    "start_time": "2024-03-14T06:33:16.767Z"
   },
   {
    "duration": 53,
    "start_time": "2024-03-14T06:33:16.809Z"
   },
   {
    "duration": 22,
    "start_time": "2024-03-14T06:33:16.872Z"
   },
   {
    "duration": 4,
    "start_time": "2024-03-14T06:33:16.896Z"
   },
   {
    "duration": 3815,
    "start_time": "2024-03-14T06:33:16.902Z"
   },
   {
    "duration": 9,
    "start_time": "2024-03-14T06:33:20.719Z"
   },
   {
    "duration": 2,
    "start_time": "2024-03-14T06:33:20.730Z"
   },
   {
    "duration": 20,
    "start_time": "2024-03-14T06:33:20.734Z"
   },
   {
    "duration": 14,
    "start_time": "2024-03-14T06:33:20.755Z"
   },
   {
    "duration": 38,
    "start_time": "2024-03-14T06:33:20.770Z"
   },
   {
    "duration": 21,
    "start_time": "2024-03-14T06:33:20.810Z"
   },
   {
    "duration": 8,
    "start_time": "2024-03-14T06:33:20.835Z"
   },
   {
    "duration": 84,
    "start_time": "2024-03-14T06:33:20.845Z"
   },
   {
    "duration": 108,
    "start_time": "2024-03-14T06:33:20.932Z"
   },
   {
    "duration": 59,
    "start_time": "2024-03-14T06:33:21.041Z"
   },
   {
    "duration": 13,
    "start_time": "2024-03-14T06:33:21.103Z"
   },
   {
    "duration": 446,
    "start_time": "2024-03-14T06:33:21.118Z"
   },
   {
    "duration": 177,
    "start_time": "2024-03-14T06:33:21.572Z"
   },
   {
    "duration": 210,
    "start_time": "2024-03-14T06:33:21.750Z"
   },
   {
    "duration": 198,
    "start_time": "2024-03-14T06:33:21.962Z"
   },
   {
    "duration": 1535,
    "start_time": "2024-03-14T06:33:22.162Z"
   },
   {
    "duration": 174,
    "start_time": "2024-03-14T06:33:23.699Z"
   },
   {
    "duration": 173,
    "start_time": "2024-03-14T06:33:23.875Z"
   },
   {
    "duration": 150,
    "start_time": "2024-03-14T06:33:24.050Z"
   },
   {
    "duration": 178,
    "start_time": "2024-03-14T06:33:24.202Z"
   },
   {
    "duration": 196,
    "start_time": "2024-03-14T06:33:24.381Z"
   },
   {
    "duration": 186,
    "start_time": "2024-03-14T06:33:24.578Z"
   },
   {
    "duration": 325,
    "start_time": "2024-03-14T06:33:24.766Z"
   },
   {
    "duration": 9,
    "start_time": "2024-03-14T06:33:25.093Z"
   },
   {
    "duration": 202,
    "start_time": "2024-03-14T06:33:25.104Z"
   },
   {
    "duration": 215,
    "start_time": "2024-03-14T06:33:25.308Z"
   },
   {
    "duration": 184,
    "start_time": "2024-03-14T06:33:25.525Z"
   },
   {
    "duration": 215,
    "start_time": "2024-03-14T06:33:25.711Z"
   },
   {
    "duration": 143,
    "start_time": "2024-03-14T06:33:25.928Z"
   },
   {
    "duration": 356,
    "start_time": "2024-03-14T06:33:26.074Z"
   },
   {
    "duration": 196,
    "start_time": "2024-03-14T06:33:26.431Z"
   },
   {
    "duration": 302,
    "start_time": "2024-03-14T06:33:26.628Z"
   },
   {
    "duration": 13,
    "start_time": "2024-03-14T06:33:26.934Z"
   },
   {
    "duration": 726,
    "start_time": "2024-03-14T06:33:47.037Z"
   },
   {
    "duration": 104,
    "start_time": "2024-03-14T06:33:47.765Z"
   },
   {
    "duration": 36,
    "start_time": "2024-03-14T06:33:47.871Z"
   },
   {
    "duration": 52,
    "start_time": "2024-03-14T06:33:47.909Z"
   },
   {
    "duration": 25,
    "start_time": "2024-03-14T06:33:47.962Z"
   },
   {
    "duration": 3,
    "start_time": "2024-03-14T06:33:47.988Z"
   },
   {
    "duration": 3345,
    "start_time": "2024-03-14T06:33:47.992Z"
   },
   {
    "duration": 10,
    "start_time": "2024-03-14T06:33:51.339Z"
   },
   {
    "duration": 27,
    "start_time": "2024-03-14T06:33:51.350Z"
   },
   {
    "duration": 18,
    "start_time": "2024-03-14T06:33:51.380Z"
   },
   {
    "duration": 8,
    "start_time": "2024-03-14T06:33:51.399Z"
   },
   {
    "duration": 15,
    "start_time": "2024-03-14T06:33:51.409Z"
   },
   {
    "duration": 22,
    "start_time": "2024-03-14T06:33:51.426Z"
   },
   {
    "duration": 5,
    "start_time": "2024-03-14T06:33:51.450Z"
   },
   {
    "duration": 82,
    "start_time": "2024-03-14T06:33:51.456Z"
   },
   {
    "duration": 85,
    "start_time": "2024-03-14T06:33:51.540Z"
   },
   {
    "duration": 54,
    "start_time": "2024-03-14T06:33:51.627Z"
   },
   {
    "duration": 12,
    "start_time": "2024-03-14T06:33:51.683Z"
   },
   {
    "duration": 431,
    "start_time": "2024-03-14T06:33:51.697Z"
   },
   {
    "duration": 175,
    "start_time": "2024-03-14T06:33:52.130Z"
   },
   {
    "duration": 205,
    "start_time": "2024-03-14T06:33:52.306Z"
   },
   {
    "duration": 189,
    "start_time": "2024-03-14T06:33:52.513Z"
   },
   {
    "duration": 1481,
    "start_time": "2024-03-14T06:33:52.704Z"
   },
   {
    "duration": 168,
    "start_time": "2024-03-14T06:33:54.186Z"
   },
   {
    "duration": 163,
    "start_time": "2024-03-14T06:33:54.356Z"
   },
   {
    "duration": 139,
    "start_time": "2024-03-14T06:33:54.521Z"
   },
   {
    "duration": 165,
    "start_time": "2024-03-14T06:33:54.661Z"
   },
   {
    "duration": 190,
    "start_time": "2024-03-14T06:33:54.829Z"
   },
   {
    "duration": 202,
    "start_time": "2024-03-14T06:33:55.021Z"
   },
   {
    "duration": 320,
    "start_time": "2024-03-14T06:33:55.225Z"
   },
   {
    "duration": 9,
    "start_time": "2024-03-14T06:33:55.546Z"
   },
   {
    "duration": 195,
    "start_time": "2024-03-14T06:33:55.556Z"
   },
   {
    "duration": 206,
    "start_time": "2024-03-14T06:33:55.753Z"
   },
   {
    "duration": 182,
    "start_time": "2024-03-14T06:33:55.962Z"
   },
   {
    "duration": 229,
    "start_time": "2024-03-14T06:33:56.146Z"
   },
   {
    "duration": 148,
    "start_time": "2024-03-14T06:33:56.377Z"
   },
   {
    "duration": 329,
    "start_time": "2024-03-14T06:33:56.527Z"
   },
   {
    "duration": 200,
    "start_time": "2024-03-14T06:33:56.857Z"
   },
   {
    "duration": 283,
    "start_time": "2024-03-14T06:33:57.059Z"
   },
   {
    "duration": 15,
    "start_time": "2024-03-14T06:33:57.344Z"
   },
   {
    "duration": 94,
    "start_time": "2024-03-14T06:34:00.779Z"
   },
   {
    "duration": 11,
    "start_time": "2024-03-14T06:34:19.432Z"
   },
   {
    "duration": 676,
    "start_time": "2024-03-14T06:34:27.586Z"
   },
   {
    "duration": 104,
    "start_time": "2024-03-14T06:34:28.263Z"
   },
   {
    "duration": 34,
    "start_time": "2024-03-14T06:34:28.370Z"
   },
   {
    "duration": 58,
    "start_time": "2024-03-14T06:34:28.406Z"
   },
   {
    "duration": 15,
    "start_time": "2024-03-14T06:34:28.474Z"
   },
   {
    "duration": 3,
    "start_time": "2024-03-14T06:34:28.490Z"
   },
   {
    "duration": 3287,
    "start_time": "2024-03-14T06:34:28.494Z"
   },
   {
    "duration": 10,
    "start_time": "2024-03-14T06:34:31.783Z"
   },
   {
    "duration": 42,
    "start_time": "2024-03-14T06:34:31.795Z"
   },
   {
    "duration": 58,
    "start_time": "2024-03-14T06:34:31.839Z"
   },
   {
    "duration": 51,
    "start_time": "2024-03-14T06:34:31.899Z"
   },
   {
    "duration": 37,
    "start_time": "2024-03-14T06:34:31.952Z"
   },
   {
    "duration": 71,
    "start_time": "2024-03-14T06:34:31.992Z"
   },
   {
    "duration": 55,
    "start_time": "2024-03-14T06:34:32.064Z"
   },
   {
    "duration": 111,
    "start_time": "2024-03-14T06:34:32.121Z"
   },
   {
    "duration": 91,
    "start_time": "2024-03-14T06:34:32.234Z"
   },
   {
    "duration": 63,
    "start_time": "2024-03-14T06:34:32.326Z"
   },
   {
    "duration": 14,
    "start_time": "2024-03-14T06:34:32.391Z"
   },
   {
    "duration": 423,
    "start_time": "2024-03-14T06:34:32.406Z"
   },
   {
    "duration": 173,
    "start_time": "2024-03-14T06:34:32.831Z"
   },
   {
    "duration": 192,
    "start_time": "2024-03-14T06:34:33.006Z"
   },
   {
    "duration": 184,
    "start_time": "2024-03-14T06:34:33.200Z"
   },
   {
    "duration": 1534,
    "start_time": "2024-03-14T06:34:33.386Z"
   },
   {
    "duration": 170,
    "start_time": "2024-03-14T06:34:34.922Z"
   },
   {
    "duration": 155,
    "start_time": "2024-03-14T06:34:35.094Z"
   },
   {
    "duration": 137,
    "start_time": "2024-03-14T06:34:35.251Z"
   },
   {
    "duration": 165,
    "start_time": "2024-03-14T06:34:35.390Z"
   },
   {
    "duration": 189,
    "start_time": "2024-03-14T06:34:35.557Z"
   },
   {
    "duration": 188,
    "start_time": "2024-03-14T06:34:35.748Z"
   },
   {
    "duration": 318,
    "start_time": "2024-03-14T06:34:35.937Z"
   },
   {
    "duration": 10,
    "start_time": "2024-03-14T06:34:36.256Z"
   },
   {
    "duration": 185,
    "start_time": "2024-03-14T06:34:36.273Z"
   },
   {
    "duration": 204,
    "start_time": "2024-03-14T06:34:36.460Z"
   },
   {
    "duration": 169,
    "start_time": "2024-03-14T06:34:36.673Z"
   },
   {
    "duration": 219,
    "start_time": "2024-03-14T06:34:36.843Z"
   },
   {
    "duration": 149,
    "start_time": "2024-03-14T06:34:37.064Z"
   },
   {
    "duration": 341,
    "start_time": "2024-03-14T06:34:37.215Z"
   },
   {
    "duration": 203,
    "start_time": "2024-03-14T06:34:37.557Z"
   },
   {
    "duration": 280,
    "start_time": "2024-03-14T06:34:37.761Z"
   },
   {
    "duration": 16,
    "start_time": "2024-03-14T06:36:13.635Z"
   },
   {
    "duration": 5,
    "start_time": "2024-03-14T06:37:34.122Z"
   },
   {
    "duration": 3,
    "start_time": "2024-03-14T06:38:37.636Z"
   },
   {
    "duration": 4,
    "start_time": "2024-03-14T06:38:55.471Z"
   },
   {
    "duration": 4,
    "start_time": "2024-03-14T06:38:58.010Z"
   },
   {
    "duration": 10,
    "start_time": "2024-03-14T06:39:43.216Z"
   },
   {
    "duration": 93,
    "start_time": "2024-03-14T06:40:10.676Z"
   },
   {
    "duration": 719,
    "start_time": "2024-03-14T06:40:33.454Z"
   },
   {
    "duration": 107,
    "start_time": "2024-03-14T06:40:34.174Z"
   },
   {
    "duration": 35,
    "start_time": "2024-03-14T06:40:34.282Z"
   },
   {
    "duration": 61,
    "start_time": "2024-03-14T06:40:34.318Z"
   },
   {
    "duration": 16,
    "start_time": "2024-03-14T06:40:34.381Z"
   },
   {
    "duration": 2,
    "start_time": "2024-03-14T06:40:34.398Z"
   },
   {
    "duration": 2552,
    "start_time": "2024-03-14T06:40:34.402Z"
   },
   {
    "duration": 10,
    "start_time": "2024-03-14T06:40:36.955Z"
   },
   {
    "duration": 13,
    "start_time": "2024-03-14T06:40:36.966Z"
   },
   {
    "duration": 9,
    "start_time": "2024-03-14T06:40:36.981Z"
   },
   {
    "duration": 22,
    "start_time": "2024-03-14T06:40:36.992Z"
   },
   {
    "duration": 20,
    "start_time": "2024-03-14T06:40:37.016Z"
   },
   {
    "duration": 53,
    "start_time": "2024-03-14T06:40:37.038Z"
   },
   {
    "duration": 6,
    "start_time": "2024-03-14T06:40:37.094Z"
   },
   {
    "duration": 93,
    "start_time": "2024-03-14T06:40:37.102Z"
   },
   {
    "duration": 79,
    "start_time": "2024-03-14T06:40:37.197Z"
   },
   {
    "duration": 49,
    "start_time": "2024-03-14T06:40:37.277Z"
   },
   {
    "duration": 12,
    "start_time": "2024-03-14T06:40:37.328Z"
   },
   {
    "duration": 631,
    "start_time": "2024-03-14T06:40:37.342Z"
   },
   {
    "duration": 340,
    "start_time": "2024-03-14T06:40:37.975Z"
   },
   {
    "duration": 397,
    "start_time": "2024-03-14T06:40:38.316Z"
   },
   {
    "duration": 393,
    "start_time": "2024-03-14T06:40:38.714Z"
   },
   {
    "duration": 1493,
    "start_time": "2024-03-14T06:40:39.109Z"
   },
   {
    "duration": 170,
    "start_time": "2024-03-14T06:40:40.603Z"
   },
   {
    "duration": 169,
    "start_time": "2024-03-14T06:40:40.774Z"
   },
   {
    "duration": 137,
    "start_time": "2024-03-14T06:40:40.945Z"
   },
   {
    "duration": 167,
    "start_time": "2024-03-14T06:40:41.083Z"
   },
   {
    "duration": 192,
    "start_time": "2024-03-14T06:40:41.251Z"
   },
   {
    "duration": 185,
    "start_time": "2024-03-14T06:40:41.445Z"
   },
   {
    "duration": 294,
    "start_time": "2024-03-14T06:40:41.631Z"
   },
   {
    "duration": 8,
    "start_time": "2024-03-14T06:40:41.927Z"
   },
   {
    "duration": 206,
    "start_time": "2024-03-14T06:40:41.936Z"
   },
   {
    "duration": 216,
    "start_time": "2024-03-14T06:40:42.145Z"
   },
   {
    "duration": 178,
    "start_time": "2024-03-14T06:40:42.362Z"
   },
   {
    "duration": 204,
    "start_time": "2024-03-14T06:40:42.541Z"
   },
   {
    "duration": 137,
    "start_time": "2024-03-14T06:40:42.747Z"
   },
   {
    "duration": 330,
    "start_time": "2024-03-14T06:40:42.886Z"
   },
   {
    "duration": 201,
    "start_time": "2024-03-14T06:40:43.218Z"
   },
   {
    "duration": 300,
    "start_time": "2024-03-14T06:40:43.422Z"
   },
   {
    "duration": 7,
    "start_time": "2024-03-14T06:46:03.107Z"
   },
   {
    "duration": 7,
    "start_time": "2024-03-14T06:46:17.357Z"
   },
   {
    "duration": 4,
    "start_time": "2024-03-14T06:46:49.065Z"
   },
   {
    "duration": 15,
    "start_time": "2024-03-14T06:48:17.638Z"
   },
   {
    "duration": 658,
    "start_time": "2024-03-14T06:48:22.594Z"
   },
   {
    "duration": 103,
    "start_time": "2024-03-14T06:48:23.254Z"
   },
   {
    "duration": 35,
    "start_time": "2024-03-14T06:48:23.359Z"
   },
   {
    "duration": 56,
    "start_time": "2024-03-14T06:48:23.396Z"
   },
   {
    "duration": 40,
    "start_time": "2024-03-14T06:48:23.455Z"
   },
   {
    "duration": 3,
    "start_time": "2024-03-14T06:48:23.496Z"
   },
   {
    "duration": 3324,
    "start_time": "2024-03-14T06:48:23.501Z"
   },
   {
    "duration": 10,
    "start_time": "2024-03-14T06:48:26.827Z"
   },
   {
    "duration": 12,
    "start_time": "2024-03-14T06:48:26.839Z"
   },
   {
    "duration": 8,
    "start_time": "2024-03-14T06:48:26.852Z"
   },
   {
    "duration": 22,
    "start_time": "2024-03-14T06:48:26.862Z"
   },
   {
    "duration": 14,
    "start_time": "2024-03-14T06:48:26.885Z"
   },
   {
    "duration": 21,
    "start_time": "2024-03-14T06:48:26.900Z"
   },
   {
    "duration": 5,
    "start_time": "2024-03-14T06:48:26.924Z"
   },
   {
    "duration": 106,
    "start_time": "2024-03-14T06:48:26.931Z"
   },
   {
    "duration": 98,
    "start_time": "2024-03-14T06:48:27.039Z"
   },
   {
    "duration": 57,
    "start_time": "2024-03-14T06:48:27.139Z"
   },
   {
    "duration": 13,
    "start_time": "2024-03-14T06:48:27.198Z"
   },
   {
    "duration": 429,
    "start_time": "2024-03-14T06:48:27.213Z"
   },
   {
    "duration": 174,
    "start_time": "2024-03-14T06:48:27.644Z"
   },
   {
    "duration": 194,
    "start_time": "2024-03-14T06:48:27.820Z"
   },
   {
    "duration": 187,
    "start_time": "2024-03-14T06:48:28.016Z"
   },
   {
    "duration": 1442,
    "start_time": "2024-03-14T06:48:28.205Z"
   },
   {
    "duration": 161,
    "start_time": "2024-03-14T06:48:29.649Z"
   },
   {
    "duration": 157,
    "start_time": "2024-03-14T06:48:29.811Z"
   },
   {
    "duration": 155,
    "start_time": "2024-03-14T06:48:29.973Z"
   },
   {
    "duration": 186,
    "start_time": "2024-03-14T06:48:30.130Z"
   },
   {
    "duration": 196,
    "start_time": "2024-03-14T06:48:30.317Z"
   },
   {
    "duration": 187,
    "start_time": "2024-03-14T06:48:30.515Z"
   },
   {
    "duration": 309,
    "start_time": "2024-03-14T06:48:30.704Z"
   },
   {
    "duration": 9,
    "start_time": "2024-03-14T06:48:31.015Z"
   },
   {
    "duration": 235,
    "start_time": "2024-03-14T06:48:31.025Z"
   },
   {
    "duration": 210,
    "start_time": "2024-03-14T06:48:31.261Z"
   },
   {
    "duration": 200,
    "start_time": "2024-03-14T06:48:31.473Z"
   },
   {
    "duration": 215,
    "start_time": "2024-03-14T06:48:31.675Z"
   },
   {
    "duration": 148,
    "start_time": "2024-03-14T06:48:31.892Z"
   },
   {
    "duration": 342,
    "start_time": "2024-03-14T06:48:32.042Z"
   },
   {
    "duration": 209,
    "start_time": "2024-03-14T06:48:32.385Z"
   },
   {
    "duration": 291,
    "start_time": "2024-03-14T06:48:32.596Z"
   },
   {
    "duration": 126,
    "start_time": "2024-03-14T06:49:04.086Z"
   },
   {
    "duration": 690,
    "start_time": "2024-03-14T06:49:27.459Z"
   },
   {
    "duration": 105,
    "start_time": "2024-03-14T06:49:28.150Z"
   },
   {
    "duration": 35,
    "start_time": "2024-03-14T06:49:28.256Z"
   },
   {
    "duration": 52,
    "start_time": "2024-03-14T06:49:28.293Z"
   },
   {
    "duration": 32,
    "start_time": "2024-03-14T06:49:28.347Z"
   },
   {
    "duration": 2,
    "start_time": "2024-03-14T06:49:28.381Z"
   },
   {
    "duration": 3337,
    "start_time": "2024-03-14T06:49:28.384Z"
   },
   {
    "duration": 11,
    "start_time": "2024-03-14T06:49:31.723Z"
   },
   {
    "duration": 49,
    "start_time": "2024-03-14T06:49:31.735Z"
   },
   {
    "duration": 45,
    "start_time": "2024-03-14T06:49:31.785Z"
   },
   {
    "duration": 46,
    "start_time": "2024-03-14T06:49:31.831Z"
   },
   {
    "duration": 30,
    "start_time": "2024-03-14T06:49:31.878Z"
   },
   {
    "duration": 33,
    "start_time": "2024-03-14T06:49:31.910Z"
   },
   {
    "duration": 17,
    "start_time": "2024-03-14T06:49:31.946Z"
   },
   {
    "duration": 80,
    "start_time": "2024-03-14T06:49:31.964Z"
   },
   {
    "duration": 82,
    "start_time": "2024-03-14T06:49:32.046Z"
   },
   {
    "duration": 3,
    "start_time": "2024-03-14T06:49:32.130Z"
   },
   {
    "duration": 24,
    "start_time": "2024-03-14T06:49:32.134Z"
   },
   {
    "duration": 495,
    "start_time": "2024-03-14T06:49:32.159Z"
   },
   {
    "duration": 183,
    "start_time": "2024-03-14T06:49:32.656Z"
   },
   {
    "duration": 180,
    "start_time": "2024-03-14T06:49:32.840Z"
   },
   {
    "duration": 174,
    "start_time": "2024-03-14T06:49:33.021Z"
   },
   {
    "duration": 1530,
    "start_time": "2024-03-14T06:49:33.196Z"
   },
   {
    "duration": 179,
    "start_time": "2024-03-14T06:49:34.728Z"
   },
   {
    "duration": 167,
    "start_time": "2024-03-14T06:49:34.909Z"
   },
   {
    "duration": 152,
    "start_time": "2024-03-14T06:49:35.078Z"
   },
   {
    "duration": 159,
    "start_time": "2024-03-14T06:49:35.231Z"
   },
   {
    "duration": 189,
    "start_time": "2024-03-14T06:49:35.392Z"
   },
   {
    "duration": 194,
    "start_time": "2024-03-14T06:49:35.582Z"
   },
   {
    "duration": 306,
    "start_time": "2024-03-14T06:49:35.778Z"
   },
   {
    "duration": 9,
    "start_time": "2024-03-14T06:49:36.085Z"
   },
   {
    "duration": 221,
    "start_time": "2024-03-14T06:49:36.096Z"
   },
   {
    "duration": 236,
    "start_time": "2024-03-14T06:49:36.318Z"
   },
   {
    "duration": 193,
    "start_time": "2024-03-14T06:49:36.555Z"
   },
   {
    "duration": 224,
    "start_time": "2024-03-14T06:49:36.750Z"
   },
   {
    "duration": 152,
    "start_time": "2024-03-14T06:49:36.976Z"
   },
   {
    "duration": 358,
    "start_time": "2024-03-14T06:49:37.130Z"
   },
   {
    "duration": 203,
    "start_time": "2024-03-14T06:49:37.490Z"
   },
   {
    "duration": 281,
    "start_time": "2024-03-14T06:49:37.694Z"
   },
   {
    "duration": 43,
    "start_time": "2024-03-14T06:49:45.343Z"
   },
   {
    "duration": 87,
    "start_time": "2024-03-14T06:49:57.836Z"
   },
   {
    "duration": 15,
    "start_time": "2024-03-14T06:50:00.927Z"
   },
   {
    "duration": 872,
    "start_time": "2024-03-16T04:59:23.646Z"
   },
   {
    "duration": 320,
    "start_time": "2024-03-16T04:59:24.520Z"
   },
   {
    "duration": 36,
    "start_time": "2024-03-16T04:59:24.842Z"
   },
   {
    "duration": 51,
    "start_time": "2024-03-16T04:59:24.880Z"
   },
   {
    "duration": 16,
    "start_time": "2024-03-16T04:59:24.933Z"
   },
   {
    "duration": 3,
    "start_time": "2024-03-16T04:59:24.951Z"
   },
   {
    "duration": 2645,
    "start_time": "2024-03-16T04:59:24.955Z"
   },
   {
    "duration": 11,
    "start_time": "2024-03-16T04:59:27.602Z"
   },
   {
    "duration": 4,
    "start_time": "2024-03-16T04:59:27.615Z"
   },
   {
    "duration": 14,
    "start_time": "2024-03-16T04:59:27.620Z"
   },
   {
    "duration": 21,
    "start_time": "2024-03-16T04:59:27.635Z"
   },
   {
    "duration": 15,
    "start_time": "2024-03-16T04:59:27.657Z"
   },
   {
    "duration": 23,
    "start_time": "2024-03-16T04:59:27.681Z"
   },
   {
    "duration": 6,
    "start_time": "2024-03-16T04:59:27.707Z"
   },
   {
    "duration": 95,
    "start_time": "2024-03-16T04:59:27.714Z"
   },
   {
    "duration": 84,
    "start_time": "2024-03-16T04:59:27.811Z"
   },
   {
    "duration": 49,
    "start_time": "2024-03-16T04:59:27.897Z"
   },
   {
    "duration": 34,
    "start_time": "2024-03-16T04:59:27.948Z"
   },
   {
    "duration": 507,
    "start_time": "2024-03-16T04:59:27.984Z"
   },
   {
    "duration": 185,
    "start_time": "2024-03-16T04:59:28.493Z"
   },
   {
    "duration": 186,
    "start_time": "2024-03-16T04:59:28.682Z"
   },
   {
    "duration": 188,
    "start_time": "2024-03-16T04:59:28.870Z"
   },
   {
    "duration": 1516,
    "start_time": "2024-03-16T04:59:29.060Z"
   },
   {
    "duration": 186,
    "start_time": "2024-03-16T04:59:30.577Z"
   },
   {
    "duration": 261,
    "start_time": "2024-03-16T04:59:30.765Z"
   },
   {
    "duration": 294,
    "start_time": "2024-03-16T04:59:31.028Z"
   },
   {
    "duration": 362,
    "start_time": "2024-03-16T04:59:31.323Z"
   },
   {
    "duration": 423,
    "start_time": "2024-03-16T04:59:31.686Z"
   },
   {
    "duration": 395,
    "start_time": "2024-03-16T04:59:32.110Z"
   },
   {
    "duration": 342,
    "start_time": "2024-03-16T04:59:32.507Z"
   },
   {
    "duration": 10,
    "start_time": "2024-03-16T04:59:32.851Z"
   },
   {
    "duration": 223,
    "start_time": "2024-03-16T04:59:32.863Z"
   },
   {
    "duration": 241,
    "start_time": "2024-03-16T04:59:33.087Z"
   },
   {
    "duration": 213,
    "start_time": "2024-03-16T04:59:33.330Z"
   },
   {
    "duration": 232,
    "start_time": "2024-03-16T04:59:33.545Z"
   },
   {
    "duration": 152,
    "start_time": "2024-03-16T04:59:33.781Z"
   },
   {
    "duration": 364,
    "start_time": "2024-03-16T04:59:33.935Z"
   },
   {
    "duration": 207,
    "start_time": "2024-03-16T04:59:34.301Z"
   },
   {
    "duration": 293,
    "start_time": "2024-03-16T04:59:34.510Z"
   },
   {
    "duration": 775,
    "start_time": "2024-03-17T07:51:56.357Z"
   },
   {
    "duration": 307,
    "start_time": "2024-03-17T07:51:57.134Z"
   },
   {
    "duration": 38,
    "start_time": "2024-03-17T07:51:57.443Z"
   },
   {
    "duration": 62,
    "start_time": "2024-03-17T07:51:57.483Z"
   },
   {
    "duration": 13,
    "start_time": "2024-03-17T07:51:57.546Z"
   },
   {
    "duration": 21,
    "start_time": "2024-03-17T07:51:57.561Z"
   },
   {
    "duration": 2133,
    "start_time": "2024-03-17T07:51:57.583Z"
   },
   {
    "duration": 9,
    "start_time": "2024-03-17T07:51:59.717Z"
   },
   {
    "duration": 2,
    "start_time": "2024-03-17T07:51:59.745Z"
   },
   {
    "duration": 10,
    "start_time": "2024-03-17T07:51:59.749Z"
   },
   {
    "duration": 16,
    "start_time": "2024-03-17T07:51:59.760Z"
   },
   {
    "duration": 12,
    "start_time": "2024-03-17T07:51:59.778Z"
   },
   {
    "duration": 58,
    "start_time": "2024-03-17T07:51:59.791Z"
   },
   {
    "duration": 5,
    "start_time": "2024-03-17T07:51:59.850Z"
   },
   {
    "duration": 89,
    "start_time": "2024-03-17T07:51:59.856Z"
   },
   {
    "duration": 63,
    "start_time": "2024-03-17T07:51:59.947Z"
   },
   {
    "duration": 60,
    "start_time": "2024-03-17T07:52:00.012Z"
   },
   {
    "duration": 11,
    "start_time": "2024-03-17T07:52:00.073Z"
   },
   {
    "duration": 476,
    "start_time": "2024-03-17T07:52:00.086Z"
   },
   {
    "duration": 160,
    "start_time": "2024-03-17T07:52:00.563Z"
   },
   {
    "duration": 158,
    "start_time": "2024-03-17T07:52:00.725Z"
   },
   {
    "duration": 150,
    "start_time": "2024-03-17T07:52:00.885Z"
   },
   {
    "duration": 1248,
    "start_time": "2024-03-17T07:52:01.037Z"
   },
   {
    "duration": 146,
    "start_time": "2024-03-17T07:52:02.286Z"
   },
   {
    "duration": 138,
    "start_time": "2024-03-17T07:52:02.433Z"
   },
   {
    "duration": 123,
    "start_time": "2024-03-17T07:52:02.573Z"
   },
   {
    "duration": 137,
    "start_time": "2024-03-17T07:52:02.697Z"
   },
   {
    "duration": 182,
    "start_time": "2024-03-17T07:52:02.844Z"
   },
   {
    "duration": 161,
    "start_time": "2024-03-17T07:52:03.027Z"
   },
   {
    "duration": 265,
    "start_time": "2024-03-17T07:52:03.190Z"
   },
   {
    "duration": 11,
    "start_time": "2024-03-17T07:52:03.457Z"
   },
   {
    "duration": 183,
    "start_time": "2024-03-17T07:52:03.470Z"
   },
   {
    "duration": 194,
    "start_time": "2024-03-17T07:52:03.655Z"
   },
   {
    "duration": 163,
    "start_time": "2024-03-17T07:52:03.851Z"
   },
   {
    "duration": 198,
    "start_time": "2024-03-17T07:52:04.016Z"
   },
   {
    "duration": 134,
    "start_time": "2024-03-17T07:52:04.216Z"
   },
   {
    "duration": 298,
    "start_time": "2024-03-17T07:52:04.351Z"
   },
   {
    "duration": 162,
    "start_time": "2024-03-17T07:52:04.650Z"
   },
   {
    "duration": 235,
    "start_time": "2024-03-17T07:52:04.814Z"
   },
   {
    "duration": 70,
    "start_time": "2024-03-17T07:59:02.300Z"
   },
   {
    "duration": 4,
    "start_time": "2024-03-17T07:59:09.141Z"
   },
   {
    "duration": 3,
    "start_time": "2024-03-17T07:59:35.550Z"
   },
   {
    "duration": 21,
    "start_time": "2024-03-17T08:00:12.205Z"
   },
   {
    "duration": 11,
    "start_time": "2024-03-17T08:01:48.566Z"
   },
   {
    "duration": 34,
    "start_time": "2024-03-17T08:02:02.243Z"
   },
   {
    "duration": 97,
    "start_time": "2024-03-17T08:02:13.430Z"
   },
   {
    "duration": 586,
    "start_time": "2024-03-17T08:02:34.280Z"
   },
   {
    "duration": 92,
    "start_time": "2024-03-17T08:02:34.868Z"
   },
   {
    "duration": 29,
    "start_time": "2024-03-17T08:02:34.961Z"
   },
   {
    "duration": 55,
    "start_time": "2024-03-17T08:02:34.991Z"
   },
   {
    "duration": 12,
    "start_time": "2024-03-17T08:02:35.048Z"
   },
   {
    "duration": 2,
    "start_time": "2024-03-17T08:02:35.061Z"
   },
   {
    "duration": 2161,
    "start_time": "2024-03-17T08:02:35.065Z"
   },
   {
    "duration": 9,
    "start_time": "2024-03-17T08:02:37.228Z"
   },
   {
    "duration": 2,
    "start_time": "2024-03-17T08:02:37.240Z"
   },
   {
    "duration": 7,
    "start_time": "2024-03-17T08:02:37.244Z"
   },
   {
    "duration": 24,
    "start_time": "2024-03-17T08:02:37.253Z"
   },
   {
    "duration": 12,
    "start_time": "2024-03-17T08:02:37.279Z"
   },
   {
    "duration": 54,
    "start_time": "2024-03-17T08:02:37.292Z"
   },
   {
    "duration": 5,
    "start_time": "2024-03-17T08:02:37.348Z"
   },
   {
    "duration": 65,
    "start_time": "2024-03-17T08:02:37.354Z"
   },
   {
    "duration": 91,
    "start_time": "2024-03-17T08:02:37.421Z"
   },
   {
    "duration": 54,
    "start_time": "2024-03-17T08:02:37.513Z"
   },
   {
    "duration": 11,
    "start_time": "2024-03-17T08:02:37.568Z"
   },
   {
    "duration": 464,
    "start_time": "2024-03-17T08:02:37.581Z"
   },
   {
    "duration": 172,
    "start_time": "2024-03-17T08:02:38.046Z"
   },
   {
    "duration": 255,
    "start_time": "2024-03-17T08:02:38.219Z"
   },
   {
    "duration": 312,
    "start_time": "2024-03-17T08:02:38.475Z"
   },
   {
    "duration": 1670,
    "start_time": "2024-03-17T08:02:38.788Z"
   },
   {
    "duration": 157,
    "start_time": "2024-03-17T08:02:40.459Z"
   },
   {
    "duration": 157,
    "start_time": "2024-03-17T08:02:40.618Z"
   },
   {
    "duration": 120,
    "start_time": "2024-03-17T08:02:40.777Z"
   },
   {
    "duration": 137,
    "start_time": "2024-03-17T08:02:40.898Z"
   },
   {
    "duration": 159,
    "start_time": "2024-03-17T08:02:41.036Z"
   },
   {
    "duration": 162,
    "start_time": "2024-03-17T08:02:41.197Z"
   },
   {
    "duration": 270,
    "start_time": "2024-03-17T08:02:41.361Z"
   },
   {
    "duration": 15,
    "start_time": "2024-03-17T08:02:41.633Z"
   },
   {
    "duration": 181,
    "start_time": "2024-03-17T08:02:41.649Z"
   },
   {
    "duration": 207,
    "start_time": "2024-03-17T08:02:41.831Z"
   },
   {
    "duration": 170,
    "start_time": "2024-03-17T08:02:42.045Z"
   },
   {
    "duration": 199,
    "start_time": "2024-03-17T08:02:42.217Z"
   },
   {
    "duration": 122,
    "start_time": "2024-03-17T08:02:42.417Z"
   },
   {
    "duration": 300,
    "start_time": "2024-03-17T08:02:42.540Z"
   },
   {
    "duration": 170,
    "start_time": "2024-03-17T08:02:42.842Z"
   },
   {
    "duration": 250,
    "start_time": "2024-03-17T08:02:43.013Z"
   },
   {
    "duration": 45,
    "start_time": "2024-03-17T08:03:40.525Z"
   },
   {
    "duration": 606,
    "start_time": "2024-03-17T08:03:55.219Z"
   },
   {
    "duration": 92,
    "start_time": "2024-03-17T08:03:55.827Z"
   },
   {
    "duration": 36,
    "start_time": "2024-03-17T08:03:55.920Z"
   },
   {
    "duration": 44,
    "start_time": "2024-03-17T08:03:55.958Z"
   },
   {
    "duration": 15,
    "start_time": "2024-03-17T08:03:56.004Z"
   },
   {
    "duration": 26,
    "start_time": "2024-03-17T08:03:56.020Z"
   },
   {
    "duration": 2862,
    "start_time": "2024-03-17T08:03:56.048Z"
   },
   {
    "duration": 9,
    "start_time": "2024-03-17T08:03:58.912Z"
   },
   {
    "duration": 22,
    "start_time": "2024-03-17T08:03:58.923Z"
   },
   {
    "duration": 34,
    "start_time": "2024-03-17T08:03:58.946Z"
   },
   {
    "duration": 38,
    "start_time": "2024-03-17T08:03:58.981Z"
   },
   {
    "duration": 17,
    "start_time": "2024-03-17T08:03:59.026Z"
   },
   {
    "duration": 31,
    "start_time": "2024-03-17T08:03:59.045Z"
   },
   {
    "duration": 15,
    "start_time": "2024-03-17T08:03:59.080Z"
   },
   {
    "duration": 74,
    "start_time": "2024-03-17T08:03:59.097Z"
   },
   {
    "duration": 90,
    "start_time": "2024-03-17T08:03:59.173Z"
   },
   {
    "duration": 44,
    "start_time": "2024-03-17T08:03:59.265Z"
   },
   {
    "duration": 13,
    "start_time": "2024-03-17T08:03:59.311Z"
   },
   {
    "duration": 532,
    "start_time": "2024-03-17T08:03:59.326Z"
   },
   {
    "duration": 178,
    "start_time": "2024-03-17T08:03:59.859Z"
   },
   {
    "duration": 164,
    "start_time": "2024-03-17T08:04:00.039Z"
   },
   {
    "duration": 157,
    "start_time": "2024-03-17T08:04:00.204Z"
   },
   {
    "duration": 1265,
    "start_time": "2024-03-17T08:04:00.363Z"
   },
   {
    "duration": 156,
    "start_time": "2024-03-17T08:04:01.630Z"
   },
   {
    "duration": 143,
    "start_time": "2024-03-17T08:04:01.788Z"
   },
   {
    "duration": 118,
    "start_time": "2024-03-17T08:04:01.934Z"
   },
   {
    "duration": 138,
    "start_time": "2024-03-17T08:04:02.053Z"
   },
   {
    "duration": 169,
    "start_time": "2024-03-17T08:04:02.192Z"
   },
   {
    "duration": 166,
    "start_time": "2024-03-17T08:04:02.362Z"
   },
   {
    "duration": 257,
    "start_time": "2024-03-17T08:04:02.530Z"
   },
   {
    "duration": 8,
    "start_time": "2024-03-17T08:04:02.788Z"
   },
   {
    "duration": 308,
    "start_time": "2024-03-17T08:04:02.798Z"
   },
   {
    "duration": 209,
    "start_time": "2024-03-17T08:04:03.108Z"
   },
   {
    "duration": 172,
    "start_time": "2024-03-17T08:04:03.318Z"
   },
   {
    "duration": 200,
    "start_time": "2024-03-17T08:04:03.491Z"
   },
   {
    "duration": 125,
    "start_time": "2024-03-17T08:04:03.692Z"
   },
   {
    "duration": 295,
    "start_time": "2024-03-17T08:04:03.818Z"
   },
   {
    "duration": 168,
    "start_time": "2024-03-17T08:04:04.114Z"
   },
   {
    "duration": 246,
    "start_time": "2024-03-17T08:04:04.283Z"
   },
   {
    "duration": 76,
    "start_time": "2024-03-17T08:20:19.531Z"
   },
   {
    "duration": 6,
    "start_time": "2024-03-17T08:20:32.688Z"
   },
   {
    "duration": 22,
    "start_time": "2024-03-17T08:20:42.888Z"
   },
   {
    "duration": 623,
    "start_time": "2024-03-17T08:21:07.022Z"
   },
   {
    "duration": 97,
    "start_time": "2024-03-17T08:21:07.647Z"
   },
   {
    "duration": 31,
    "start_time": "2024-03-17T08:21:07.746Z"
   },
   {
    "duration": 42,
    "start_time": "2024-03-17T08:21:07.779Z"
   },
   {
    "duration": 32,
    "start_time": "2024-03-17T08:21:07.822Z"
   },
   {
    "duration": 6,
    "start_time": "2024-03-17T08:21:07.855Z"
   },
   {
    "duration": 2888,
    "start_time": "2024-03-17T08:21:07.862Z"
   },
   {
    "duration": 8,
    "start_time": "2024-03-17T08:21:10.752Z"
   },
   {
    "duration": 2,
    "start_time": "2024-03-17T08:21:10.762Z"
   },
   {
    "duration": 10,
    "start_time": "2024-03-17T08:21:10.766Z"
   },
   {
    "duration": 18,
    "start_time": "2024-03-17T08:21:10.778Z"
   },
   {
    "duration": 12,
    "start_time": "2024-03-17T08:21:10.797Z"
   },
   {
    "duration": 48,
    "start_time": "2024-03-17T08:21:10.811Z"
   },
   {
    "duration": 4,
    "start_time": "2024-03-17T08:21:10.860Z"
   },
   {
    "duration": 91,
    "start_time": "2024-03-17T08:21:10.866Z"
   },
   {
    "duration": 64,
    "start_time": "2024-03-17T08:21:10.958Z"
   },
   {
    "duration": 58,
    "start_time": "2024-03-17T08:21:11.023Z"
   },
   {
    "duration": 7,
    "start_time": "2024-03-17T08:21:11.082Z"
   },
   {
    "duration": 13,
    "start_time": "2024-03-17T08:21:11.090Z"
   },
   {
    "duration": 450,
    "start_time": "2024-03-17T08:21:11.104Z"
   },
   {
    "duration": 158,
    "start_time": "2024-03-17T08:21:11.556Z"
   },
   {
    "duration": 230,
    "start_time": "2024-03-17T08:21:11.715Z"
   },
   {
    "duration": 172,
    "start_time": "2024-03-17T08:21:11.946Z"
   },
   {
    "duration": 1266,
    "start_time": "2024-03-17T08:21:12.120Z"
   },
   {
    "duration": 157,
    "start_time": "2024-03-17T08:21:13.388Z"
   },
   {
    "duration": 165,
    "start_time": "2024-03-17T08:21:13.546Z"
   },
   {
    "duration": 126,
    "start_time": "2024-03-17T08:21:13.712Z"
   },
   {
    "duration": 134,
    "start_time": "2024-03-17T08:21:13.841Z"
   },
   {
    "duration": 171,
    "start_time": "2024-03-17T08:21:13.977Z"
   },
   {
    "duration": 161,
    "start_time": "2024-03-17T08:21:14.149Z"
   },
   {
    "duration": 278,
    "start_time": "2024-03-17T08:21:14.311Z"
   },
   {
    "duration": 8,
    "start_time": "2024-03-17T08:21:14.591Z"
   },
   {
    "duration": 162,
    "start_time": "2024-03-17T08:21:14.600Z"
   },
   {
    "duration": 179,
    "start_time": "2024-03-17T08:21:14.763Z"
   },
   {
    "duration": 174,
    "start_time": "2024-03-17T08:21:14.945Z"
   },
   {
    "duration": 178,
    "start_time": "2024-03-17T08:21:15.121Z"
   },
   {
    "duration": 126,
    "start_time": "2024-03-17T08:21:15.300Z"
   },
   {
    "duration": 304,
    "start_time": "2024-03-17T08:21:15.427Z"
   },
   {
    "duration": 171,
    "start_time": "2024-03-17T08:21:15.734Z"
   },
   {
    "duration": 252,
    "start_time": "2024-03-17T08:21:15.907Z"
   },
   {
    "duration": 38,
    "start_time": "2024-03-17T08:21:34.326Z"
   },
   {
    "duration": 149,
    "start_time": "2024-03-17T08:21:59.111Z"
   },
   {
    "duration": 623,
    "start_time": "2024-03-17T08:22:09.322Z"
   },
   {
    "duration": 93,
    "start_time": "2024-03-17T08:22:09.946Z"
   },
   {
    "duration": 29,
    "start_time": "2024-03-17T08:22:10.040Z"
   },
   {
    "duration": 45,
    "start_time": "2024-03-17T08:22:10.070Z"
   },
   {
    "duration": 30,
    "start_time": "2024-03-17T08:22:10.117Z"
   },
   {
    "duration": 3,
    "start_time": "2024-03-17T08:22:10.148Z"
   },
   {
    "duration": 2793,
    "start_time": "2024-03-17T08:22:10.153Z"
   },
   {
    "duration": 12,
    "start_time": "2024-03-17T08:22:12.948Z"
   },
   {
    "duration": 23,
    "start_time": "2024-03-17T08:22:12.962Z"
   },
   {
    "duration": 7,
    "start_time": "2024-03-17T08:22:12.987Z"
   },
   {
    "duration": 26,
    "start_time": "2024-03-17T08:22:12.995Z"
   },
   {
    "duration": 26,
    "start_time": "2024-03-17T08:22:13.022Z"
   },
   {
    "duration": 19,
    "start_time": "2024-03-17T08:22:13.050Z"
   },
   {
    "duration": 5,
    "start_time": "2024-03-17T08:22:13.072Z"
   },
   {
    "duration": 86,
    "start_time": "2024-03-17T08:22:13.078Z"
   },
   {
    "duration": 61,
    "start_time": "2024-03-17T08:22:13.166Z"
   },
   {
    "duration": 59,
    "start_time": "2024-03-17T08:22:13.228Z"
   },
   {
    "duration": 7,
    "start_time": "2024-03-17T08:22:13.289Z"
   },
   {
    "duration": 80,
    "start_time": "2024-03-17T08:22:13.298Z"
   },
   {
    "duration": 13,
    "start_time": "2024-03-17T08:22:13.380Z"
   },
   {
    "duration": 437,
    "start_time": "2024-03-17T08:22:13.394Z"
   },
   {
    "duration": 151,
    "start_time": "2024-03-17T08:22:13.833Z"
   },
   {
    "duration": 185,
    "start_time": "2024-03-17T08:22:13.986Z"
   },
   {
    "duration": 155,
    "start_time": "2024-03-17T08:22:14.173Z"
   },
   {
    "duration": 1265,
    "start_time": "2024-03-17T08:22:14.329Z"
   },
   {
    "duration": 152,
    "start_time": "2024-03-17T08:22:15.595Z"
   },
   {
    "duration": 133,
    "start_time": "2024-03-17T08:22:15.748Z"
   },
   {
    "duration": 123,
    "start_time": "2024-03-17T08:22:15.883Z"
   },
   {
    "duration": 136,
    "start_time": "2024-03-17T08:22:16.007Z"
   },
   {
    "duration": 162,
    "start_time": "2024-03-17T08:22:16.145Z"
   },
   {
    "duration": 166,
    "start_time": "2024-03-17T08:22:16.309Z"
   },
   {
    "duration": 291,
    "start_time": "2024-03-17T08:22:16.477Z"
   },
   {
    "duration": 8,
    "start_time": "2024-03-17T08:22:16.770Z"
   },
   {
    "duration": 175,
    "start_time": "2024-03-17T08:22:16.779Z"
   },
   {
    "duration": 170,
    "start_time": "2024-03-17T08:22:16.956Z"
   },
   {
    "duration": 189,
    "start_time": "2024-03-17T08:22:17.128Z"
   },
   {
    "duration": 181,
    "start_time": "2024-03-17T08:22:17.319Z"
   },
   {
    "duration": 127,
    "start_time": "2024-03-17T08:22:17.502Z"
   },
   {
    "duration": 323,
    "start_time": "2024-03-17T08:22:17.630Z"
   },
   {
    "duration": 164,
    "start_time": "2024-03-17T08:22:17.954Z"
   },
   {
    "duration": 244,
    "start_time": "2024-03-17T08:22:18.121Z"
   },
   {
    "duration": 10,
    "start_time": "2024-03-17T08:22:38.392Z"
   },
   {
    "duration": 2,
    "start_time": "2024-03-17T08:23:41.840Z"
   },
   {
    "duration": 44,
    "start_time": "2024-03-17T08:24:53.607Z"
   },
   {
    "duration": 8,
    "start_time": "2024-03-17T08:31:05.177Z"
   },
   {
    "duration": 8,
    "start_time": "2024-03-17T08:31:07.527Z"
   },
   {
    "duration": 61,
    "start_time": "2024-03-17T08:31:19.131Z"
   },
   {
    "duration": 7,
    "start_time": "2024-03-17T08:31:22.815Z"
   },
   {
    "duration": 6,
    "start_time": "2024-03-17T08:31:42.445Z"
   },
   {
    "duration": 8,
    "start_time": "2024-03-17T08:31:44.334Z"
   },
   {
    "duration": 613,
    "start_time": "2024-03-17T08:31:50.240Z"
   },
   {
    "duration": 91,
    "start_time": "2024-03-17T08:31:50.854Z"
   },
   {
    "duration": 29,
    "start_time": "2024-03-17T08:31:50.946Z"
   },
   {
    "duration": 45,
    "start_time": "2024-03-17T08:31:50.977Z"
   },
   {
    "duration": 13,
    "start_time": "2024-03-17T08:31:51.046Z"
   },
   {
    "duration": 15,
    "start_time": "2024-03-17T08:31:51.060Z"
   },
   {
    "duration": 2570,
    "start_time": "2024-03-17T08:31:51.076Z"
   },
   {
    "duration": 9,
    "start_time": "2024-03-17T08:31:53.647Z"
   },
   {
    "duration": 3,
    "start_time": "2024-03-17T08:31:53.657Z"
   },
   {
    "duration": 7,
    "start_time": "2024-03-17T08:31:53.661Z"
   },
   {
    "duration": 23,
    "start_time": "2024-03-17T08:31:53.670Z"
   },
   {
    "duration": 13,
    "start_time": "2024-03-17T08:31:53.744Z"
   },
   {
    "duration": 19,
    "start_time": "2024-03-17T08:31:53.758Z"
   },
   {
    "duration": 5,
    "start_time": "2024-03-17T08:31:53.779Z"
   },
   {
    "duration": 168,
    "start_time": "2024-03-17T08:31:53.785Z"
   },
   {
    "duration": 119,
    "start_time": "2024-03-17T08:31:53.954Z"
   },
   {
    "duration": 103,
    "start_time": "2024-03-17T08:31:54.075Z"
   },
   {
    "duration": 7,
    "start_time": "2024-03-17T08:31:54.180Z"
   },
   {
    "duration": 19,
    "start_time": "2024-03-17T08:31:54.188Z"
   },
   {
    "duration": 71,
    "start_time": "2024-03-17T08:31:54.209Z"
   },
   {
    "duration": 6,
    "start_time": "2024-03-17T08:31:54.282Z"
   },
   {
    "duration": 13,
    "start_time": "2024-03-17T08:31:54.290Z"
   },
   {
    "duration": 3,
    "start_time": "2024-03-17T08:31:54.304Z"
   },
   {
    "duration": 443,
    "start_time": "2024-03-17T08:31:54.309Z"
   },
   {
    "duration": 153,
    "start_time": "2024-03-17T08:31:54.753Z"
   },
   {
    "duration": 160,
    "start_time": "2024-03-17T08:31:54.907Z"
   },
   {
    "duration": 147,
    "start_time": "2024-03-17T08:31:55.069Z"
   },
   {
    "duration": 1231,
    "start_time": "2024-03-17T08:31:55.218Z"
   },
   {
    "duration": 148,
    "start_time": "2024-03-17T08:31:56.451Z"
   },
   {
    "duration": 144,
    "start_time": "2024-03-17T08:31:56.601Z"
   },
   {
    "duration": 125,
    "start_time": "2024-03-17T08:31:56.746Z"
   },
   {
    "duration": 143,
    "start_time": "2024-03-17T08:31:56.872Z"
   },
   {
    "duration": 189,
    "start_time": "2024-03-17T08:31:57.017Z"
   },
   {
    "duration": 191,
    "start_time": "2024-03-17T08:31:57.207Z"
   },
   {
    "duration": 285,
    "start_time": "2024-03-17T08:31:57.399Z"
   },
   {
    "duration": 7,
    "start_time": "2024-03-17T08:31:57.686Z"
   },
   {
    "duration": 176,
    "start_time": "2024-03-17T08:31:57.695Z"
   },
   {
    "duration": 187,
    "start_time": "2024-03-17T08:31:57.872Z"
   },
   {
    "duration": 193,
    "start_time": "2024-03-17T08:31:58.060Z"
   },
   {
    "duration": 209,
    "start_time": "2024-03-17T08:31:58.254Z"
   },
   {
    "duration": 130,
    "start_time": "2024-03-17T08:31:58.466Z"
   },
   {
    "duration": 288,
    "start_time": "2024-03-17T08:31:58.597Z"
   },
   {
    "duration": 177,
    "start_time": "2024-03-17T08:31:58.887Z"
   },
   {
    "duration": 232,
    "start_time": "2024-03-17T08:31:59.065Z"
   },
   {
    "duration": 10,
    "start_time": "2024-03-17T08:32:54.775Z"
   },
   {
    "duration": 66,
    "start_time": "2024-03-17T08:32:57.049Z"
   },
   {
    "duration": 8,
    "start_time": "2024-03-17T08:32:58.733Z"
   },
   {
    "duration": 563,
    "start_time": "2024-03-17T08:33:09.902Z"
   },
   {
    "duration": 90,
    "start_time": "2024-03-17T08:33:10.467Z"
   },
   {
    "duration": 29,
    "start_time": "2024-03-17T08:33:10.559Z"
   },
   {
    "duration": 64,
    "start_time": "2024-03-17T08:33:10.590Z"
   },
   {
    "duration": 14,
    "start_time": "2024-03-17T08:33:10.656Z"
   },
   {
    "duration": 13,
    "start_time": "2024-03-17T08:33:10.671Z"
   },
   {
    "duration": 2667,
    "start_time": "2024-03-17T08:33:10.685Z"
   },
   {
    "duration": 9,
    "start_time": "2024-03-17T08:33:13.354Z"
   },
   {
    "duration": 5,
    "start_time": "2024-03-17T08:33:13.364Z"
   },
   {
    "duration": 8,
    "start_time": "2024-03-17T08:33:13.370Z"
   },
   {
    "duration": 67,
    "start_time": "2024-03-17T08:33:13.379Z"
   },
   {
    "duration": 13,
    "start_time": "2024-03-17T08:33:13.447Z"
   },
   {
    "duration": 25,
    "start_time": "2024-03-17T08:33:13.462Z"
   },
   {
    "duration": 57,
    "start_time": "2024-03-17T08:33:13.489Z"
   },
   {
    "duration": 123,
    "start_time": "2024-03-17T08:33:13.548Z"
   },
   {
    "duration": 90,
    "start_time": "2024-03-17T08:33:13.672Z"
   },
   {
    "duration": 43,
    "start_time": "2024-03-17T08:33:13.764Z"
   },
   {
    "duration": 7,
    "start_time": "2024-03-17T08:33:13.809Z"
   },
   {
    "duration": 32,
    "start_time": "2024-03-17T08:33:13.818Z"
   },
   {
    "duration": 41,
    "start_time": "2024-03-17T08:33:13.851Z"
   },
   {
    "duration": 7,
    "start_time": "2024-03-17T08:33:13.893Z"
   },
   {
    "duration": 16,
    "start_time": "2024-03-17T08:33:13.901Z"
   },
   {
    "duration": 27,
    "start_time": "2024-03-17T08:33:13.918Z"
   },
   {
    "duration": 436,
    "start_time": "2024-03-17T08:33:13.946Z"
   },
   {
    "duration": 152,
    "start_time": "2024-03-17T08:33:14.383Z"
   },
   {
    "duration": 166,
    "start_time": "2024-03-17T08:33:14.537Z"
   },
   {
    "duration": 149,
    "start_time": "2024-03-17T08:33:14.705Z"
   },
   {
    "duration": 1208,
    "start_time": "2024-03-17T08:33:14.855Z"
   },
   {
    "duration": 150,
    "start_time": "2024-03-17T08:33:16.065Z"
   },
   {
    "duration": 141,
    "start_time": "2024-03-17T08:33:16.217Z"
   },
   {
    "duration": 122,
    "start_time": "2024-03-17T08:33:16.360Z"
   },
   {
    "duration": 132,
    "start_time": "2024-03-17T08:33:16.484Z"
   },
   {
    "duration": 178,
    "start_time": "2024-03-17T08:33:16.618Z"
   },
   {
    "duration": 163,
    "start_time": "2024-03-17T08:33:16.798Z"
   },
   {
    "duration": 283,
    "start_time": "2024-03-17T08:33:16.962Z"
   },
   {
    "duration": 10,
    "start_time": "2024-03-17T08:33:17.246Z"
   },
   {
    "duration": 175,
    "start_time": "2024-03-17T08:33:17.257Z"
   },
   {
    "duration": 171,
    "start_time": "2024-03-17T08:33:17.434Z"
   },
   {
    "duration": 177,
    "start_time": "2024-03-17T08:33:17.606Z"
   },
   {
    "duration": 173,
    "start_time": "2024-03-17T08:33:17.785Z"
   },
   {
    "duration": 144,
    "start_time": "2024-03-17T08:33:17.963Z"
   },
   {
    "duration": 288,
    "start_time": "2024-03-17T08:33:18.109Z"
   },
   {
    "duration": 164,
    "start_time": "2024-03-17T08:33:18.398Z"
   },
   {
    "duration": 236,
    "start_time": "2024-03-17T08:33:18.564Z"
   },
   {
    "duration": 11,
    "start_time": "2024-03-17T08:33:57.197Z"
   },
   {
    "duration": 9,
    "start_time": "2024-03-17T08:33:59.255Z"
   },
   {
    "duration": 73,
    "start_time": "2024-03-17T08:34:46.410Z"
   },
   {
    "duration": 8,
    "start_time": "2024-03-17T08:34:48.679Z"
   },
   {
    "duration": 549,
    "start_time": "2024-03-17T08:34:54.001Z"
   },
   {
    "duration": 96,
    "start_time": "2024-03-17T08:34:54.552Z"
   },
   {
    "duration": 32,
    "start_time": "2024-03-17T08:34:54.649Z"
   },
   {
    "duration": 70,
    "start_time": "2024-03-17T08:34:54.683Z"
   },
   {
    "duration": 13,
    "start_time": "2024-03-17T08:34:54.755Z"
   },
   {
    "duration": 2,
    "start_time": "2024-03-17T08:34:54.770Z"
   },
   {
    "duration": 2822,
    "start_time": "2024-03-17T08:34:54.773Z"
   },
   {
    "duration": 9,
    "start_time": "2024-03-17T08:34:57.597Z"
   },
   {
    "duration": 11,
    "start_time": "2024-03-17T08:34:57.607Z"
   },
   {
    "duration": 31,
    "start_time": "2024-03-17T08:34:57.620Z"
   },
   {
    "duration": 24,
    "start_time": "2024-03-17T08:34:57.652Z"
   },
   {
    "duration": 18,
    "start_time": "2024-03-17T08:34:57.678Z"
   },
   {
    "duration": 20,
    "start_time": "2024-03-17T08:34:57.698Z"
   },
   {
    "duration": 33,
    "start_time": "2024-03-17T08:34:57.720Z"
   },
   {
    "duration": 76,
    "start_time": "2024-03-17T08:34:57.755Z"
   },
   {
    "duration": 77,
    "start_time": "2024-03-17T08:34:57.832Z"
   },
   {
    "duration": 67,
    "start_time": "2024-03-17T08:34:57.910Z"
   },
   {
    "duration": 8,
    "start_time": "2024-03-17T08:34:57.979Z"
   },
   {
    "duration": 32,
    "start_time": "2024-03-17T08:34:57.989Z"
   },
   {
    "duration": 45,
    "start_time": "2024-03-17T08:34:58.023Z"
   },
   {
    "duration": 7,
    "start_time": "2024-03-17T08:34:58.069Z"
   },
   {
    "duration": 10,
    "start_time": "2024-03-17T08:34:58.078Z"
   },
   {
    "duration": 2,
    "start_time": "2024-03-17T08:34:58.090Z"
   },
   {
    "duration": 479,
    "start_time": "2024-03-17T08:34:58.093Z"
   },
   {
    "duration": 161,
    "start_time": "2024-03-17T08:34:58.574Z"
   },
   {
    "duration": 164,
    "start_time": "2024-03-17T08:34:58.736Z"
   },
   {
    "duration": 153,
    "start_time": "2024-03-17T08:34:58.901Z"
   },
   {
    "duration": 1265,
    "start_time": "2024-03-17T08:34:59.057Z"
   },
   {
    "duration": 142,
    "start_time": "2024-03-17T08:35:00.324Z"
   },
   {
    "duration": 152,
    "start_time": "2024-03-17T08:35:00.467Z"
   },
   {
    "duration": 140,
    "start_time": "2024-03-17T08:35:00.621Z"
   },
   {
    "duration": 199,
    "start_time": "2024-03-17T08:35:00.763Z"
   },
   {
    "duration": 177,
    "start_time": "2024-03-17T08:35:00.964Z"
   },
   {
    "duration": 192,
    "start_time": "2024-03-17T08:35:01.143Z"
   },
   {
    "duration": 310,
    "start_time": "2024-03-17T08:35:01.337Z"
   },
   {
    "duration": 8,
    "start_time": "2024-03-17T08:35:01.648Z"
   },
   {
    "duration": 188,
    "start_time": "2024-03-17T08:35:01.658Z"
   },
   {
    "duration": 179,
    "start_time": "2024-03-17T08:35:01.847Z"
   },
   {
    "duration": 178,
    "start_time": "2024-03-17T08:35:02.028Z"
   },
   {
    "duration": 180,
    "start_time": "2024-03-17T08:35:02.207Z"
   },
   {
    "duration": 125,
    "start_time": "2024-03-17T08:35:02.389Z"
   },
   {
    "duration": 299,
    "start_time": "2024-03-17T08:35:02.516Z"
   },
   {
    "duration": 160,
    "start_time": "2024-03-17T08:35:02.817Z"
   },
   {
    "duration": 260,
    "start_time": "2024-03-17T08:35:02.979Z"
   },
   {
    "duration": 7,
    "start_time": "2024-03-17T08:36:00.508Z"
   },
   {
    "duration": 8,
    "start_time": "2024-03-17T08:36:02.683Z"
   },
   {
    "duration": 612,
    "start_time": "2024-03-17T08:36:07.383Z"
   },
   {
    "duration": 92,
    "start_time": "2024-03-17T08:36:07.997Z"
   },
   {
    "duration": 30,
    "start_time": "2024-03-17T08:36:08.091Z"
   },
   {
    "duration": 60,
    "start_time": "2024-03-17T08:36:08.122Z"
   },
   {
    "duration": 13,
    "start_time": "2024-03-17T08:36:08.184Z"
   },
   {
    "duration": 13,
    "start_time": "2024-03-17T08:36:08.198Z"
   },
   {
    "duration": 2735,
    "start_time": "2024-03-17T08:36:08.213Z"
   },
   {
    "duration": 9,
    "start_time": "2024-03-17T08:36:10.949Z"
   },
   {
    "duration": 2,
    "start_time": "2024-03-17T08:36:10.960Z"
   },
   {
    "duration": 8,
    "start_time": "2024-03-17T08:36:10.963Z"
   },
   {
    "duration": 50,
    "start_time": "2024-03-17T08:36:10.973Z"
   },
   {
    "duration": 22,
    "start_time": "2024-03-17T08:36:11.024Z"
   },
   {
    "duration": 20,
    "start_time": "2024-03-17T08:36:11.048Z"
   },
   {
    "duration": 4,
    "start_time": "2024-03-17T08:36:11.071Z"
   },
   {
    "duration": 100,
    "start_time": "2024-03-17T08:36:11.077Z"
   },
   {
    "duration": 73,
    "start_time": "2024-03-17T08:36:11.178Z"
   },
   {
    "duration": 49,
    "start_time": "2024-03-17T08:36:11.252Z"
   },
   {
    "duration": 7,
    "start_time": "2024-03-17T08:36:11.303Z"
   },
   {
    "duration": 34,
    "start_time": "2024-03-17T08:36:11.312Z"
   },
   {
    "duration": 41,
    "start_time": "2024-03-17T08:36:11.347Z"
   },
   {
    "duration": 7,
    "start_time": "2024-03-17T08:36:11.389Z"
   },
   {
    "duration": 10,
    "start_time": "2024-03-17T08:36:11.397Z"
   },
   {
    "duration": 2,
    "start_time": "2024-03-17T08:36:11.409Z"
   },
   {
    "duration": 466,
    "start_time": "2024-03-17T08:36:11.444Z"
   },
   {
    "duration": 152,
    "start_time": "2024-03-17T08:36:11.912Z"
   },
   {
    "duration": 159,
    "start_time": "2024-03-17T08:36:12.066Z"
   },
   {
    "duration": 146,
    "start_time": "2024-03-17T08:36:12.227Z"
   },
   {
    "duration": 1225,
    "start_time": "2024-03-17T08:36:12.374Z"
   },
   {
    "duration": 144,
    "start_time": "2024-03-17T08:36:13.601Z"
   },
   {
    "duration": 142,
    "start_time": "2024-03-17T08:36:13.747Z"
   },
   {
    "duration": 120,
    "start_time": "2024-03-17T08:36:13.890Z"
   },
   {
    "duration": 142,
    "start_time": "2024-03-17T08:36:14.011Z"
   },
   {
    "duration": 165,
    "start_time": "2024-03-17T08:36:14.154Z"
   },
   {
    "duration": 174,
    "start_time": "2024-03-17T08:36:14.320Z"
   },
   {
    "duration": 259,
    "start_time": "2024-03-17T08:36:14.495Z"
   },
   {
    "duration": 8,
    "start_time": "2024-03-17T08:36:14.756Z"
   },
   {
    "duration": 175,
    "start_time": "2024-03-17T08:36:14.765Z"
   },
   {
    "duration": 178,
    "start_time": "2024-03-17T08:36:14.941Z"
   },
   {
    "duration": 174,
    "start_time": "2024-03-17T08:36:15.120Z"
   },
   {
    "duration": 200,
    "start_time": "2024-03-17T08:36:15.295Z"
   },
   {
    "duration": 120,
    "start_time": "2024-03-17T08:36:15.498Z"
   },
   {
    "duration": 285,
    "start_time": "2024-03-17T08:36:15.619Z"
   },
   {
    "duration": 167,
    "start_time": "2024-03-17T08:36:15.906Z"
   },
   {
    "duration": 248,
    "start_time": "2024-03-17T08:36:16.074Z"
   },
   {
    "duration": 10,
    "start_time": "2024-03-17T08:36:46.385Z"
   },
   {
    "duration": 8,
    "start_time": "2024-03-17T08:36:47.996Z"
   },
   {
    "duration": 65,
    "start_time": "2024-03-17T08:36:56.270Z"
   },
   {
    "duration": 10,
    "start_time": "2024-03-17T08:36:58.443Z"
   },
   {
    "duration": 8,
    "start_time": "2024-03-17T08:37:08.654Z"
   },
   {
    "duration": 9,
    "start_time": "2024-03-17T08:37:10.812Z"
   },
   {
    "duration": 615,
    "start_time": "2024-03-17T08:37:16.225Z"
   },
   {
    "duration": 91,
    "start_time": "2024-03-17T08:37:16.841Z"
   },
   {
    "duration": 33,
    "start_time": "2024-03-17T08:37:16.934Z"
   },
   {
    "duration": 45,
    "start_time": "2024-03-17T08:37:16.969Z"
   },
   {
    "duration": 32,
    "start_time": "2024-03-17T08:37:17.016Z"
   },
   {
    "duration": 2,
    "start_time": "2024-03-17T08:37:17.050Z"
   },
   {
    "duration": 2806,
    "start_time": "2024-03-17T08:37:17.054Z"
   },
   {
    "duration": 10,
    "start_time": "2024-03-17T08:37:19.861Z"
   },
   {
    "duration": 5,
    "start_time": "2024-03-17T08:37:19.872Z"
   },
   {
    "duration": 8,
    "start_time": "2024-03-17T08:37:19.879Z"
   },
   {
    "duration": 57,
    "start_time": "2024-03-17T08:37:19.888Z"
   },
   {
    "duration": 18,
    "start_time": "2024-03-17T08:37:19.947Z"
   },
   {
    "duration": 27,
    "start_time": "2024-03-17T08:37:19.966Z"
   },
   {
    "duration": 6,
    "start_time": "2024-03-17T08:37:19.995Z"
   },
   {
    "duration": 110,
    "start_time": "2024-03-17T08:37:20.003Z"
   },
   {
    "duration": 75,
    "start_time": "2024-03-17T08:37:20.115Z"
   },
   {
    "duration": 54,
    "start_time": "2024-03-17T08:37:20.192Z"
   },
   {
    "duration": 8,
    "start_time": "2024-03-17T08:37:20.247Z"
   },
   {
    "duration": 8,
    "start_time": "2024-03-17T08:37:20.256Z"
   },
   {
    "duration": 44,
    "start_time": "2024-03-17T08:37:20.265Z"
   },
   {
    "duration": 39,
    "start_time": "2024-03-17T08:37:20.310Z"
   },
   {
    "duration": 10,
    "start_time": "2024-03-17T08:37:20.350Z"
   },
   {
    "duration": 3,
    "start_time": "2024-03-17T08:37:20.361Z"
   },
   {
    "duration": 438,
    "start_time": "2024-03-17T08:37:20.365Z"
   },
   {
    "duration": 160,
    "start_time": "2024-03-17T08:37:20.804Z"
   },
   {
    "duration": 162,
    "start_time": "2024-03-17T08:37:20.966Z"
   },
   {
    "duration": 145,
    "start_time": "2024-03-17T08:37:21.130Z"
   },
   {
    "duration": 1217,
    "start_time": "2024-03-17T08:37:21.278Z"
   },
   {
    "duration": 138,
    "start_time": "2024-03-17T08:37:22.497Z"
   },
   {
    "duration": 146,
    "start_time": "2024-03-17T08:37:22.637Z"
   },
   {
    "duration": 116,
    "start_time": "2024-03-17T08:37:22.785Z"
   },
   {
    "duration": 125,
    "start_time": "2024-03-17T08:37:22.903Z"
   },
   {
    "duration": 170,
    "start_time": "2024-03-17T08:37:23.029Z"
   },
   {
    "duration": 184,
    "start_time": "2024-03-17T08:37:23.201Z"
   },
   {
    "duration": 274,
    "start_time": "2024-03-17T08:37:23.387Z"
   },
   {
    "duration": 8,
    "start_time": "2024-03-17T08:37:23.663Z"
   },
   {
    "duration": 170,
    "start_time": "2024-03-17T08:37:23.672Z"
   },
   {
    "duration": 169,
    "start_time": "2024-03-17T08:37:23.845Z"
   },
   {
    "duration": 167,
    "start_time": "2024-03-17T08:37:24.016Z"
   },
   {
    "duration": 172,
    "start_time": "2024-03-17T08:37:24.185Z"
   },
   {
    "duration": 135,
    "start_time": "2024-03-17T08:37:24.359Z"
   },
   {
    "duration": 316,
    "start_time": "2024-03-17T08:37:24.496Z"
   },
   {
    "duration": 215,
    "start_time": "2024-03-17T08:37:24.814Z"
   },
   {
    "duration": 224,
    "start_time": "2024-03-17T08:37:25.030Z"
   },
   {
    "duration": 7,
    "start_time": "2024-03-17T08:37:32.545Z"
   },
   {
    "duration": 7,
    "start_time": "2024-03-17T08:37:34.295Z"
   },
   {
    "duration": 66,
    "start_time": "2024-03-17T08:37:41.797Z"
   },
   {
    "duration": 6,
    "start_time": "2024-03-17T08:37:43.663Z"
   },
   {
    "duration": 604,
    "start_time": "2024-03-17T08:37:48.114Z"
   },
   {
    "duration": 92,
    "start_time": "2024-03-17T08:37:48.720Z"
   },
   {
    "duration": 36,
    "start_time": "2024-03-17T08:37:48.813Z"
   },
   {
    "duration": 57,
    "start_time": "2024-03-17T08:37:48.851Z"
   },
   {
    "duration": 35,
    "start_time": "2024-03-17T08:37:48.910Z"
   },
   {
    "duration": 3,
    "start_time": "2024-03-17T08:37:48.946Z"
   },
   {
    "duration": 2760,
    "start_time": "2024-03-17T08:37:48.950Z"
   },
   {
    "duration": 10,
    "start_time": "2024-03-17T08:37:51.711Z"
   },
   {
    "duration": 24,
    "start_time": "2024-03-17T08:37:51.722Z"
   },
   {
    "duration": 7,
    "start_time": "2024-03-17T08:37:51.748Z"
   },
   {
    "duration": 18,
    "start_time": "2024-03-17T08:37:51.756Z"
   },
   {
    "duration": 12,
    "start_time": "2024-03-17T08:37:51.776Z"
   },
   {
    "duration": 62,
    "start_time": "2024-03-17T08:37:51.789Z"
   },
   {
    "duration": 5,
    "start_time": "2024-03-17T08:37:51.852Z"
   },
   {
    "duration": 108,
    "start_time": "2024-03-17T08:37:51.858Z"
   },
   {
    "duration": 83,
    "start_time": "2024-03-17T08:37:51.967Z"
   },
   {
    "duration": 42,
    "start_time": "2024-03-17T08:37:52.051Z"
   },
   {
    "duration": 7,
    "start_time": "2024-03-17T08:37:52.095Z"
   },
   {
    "duration": 10,
    "start_time": "2024-03-17T08:37:52.104Z"
   },
   {
    "duration": 68,
    "start_time": "2024-03-17T08:37:52.115Z"
   },
   {
    "duration": 6,
    "start_time": "2024-03-17T08:37:52.185Z"
   },
   {
    "duration": 7,
    "start_time": "2024-03-17T08:37:52.192Z"
   },
   {
    "duration": 2,
    "start_time": "2024-03-17T08:37:52.200Z"
   },
   {
    "duration": 443,
    "start_time": "2024-03-17T08:37:52.203Z"
   },
   {
    "duration": 152,
    "start_time": "2024-03-17T08:37:52.647Z"
   },
   {
    "duration": 161,
    "start_time": "2024-03-17T08:37:52.800Z"
   },
   {
    "duration": 175,
    "start_time": "2024-03-17T08:37:52.962Z"
   },
   {
    "duration": 1226,
    "start_time": "2024-03-17T08:37:53.140Z"
   },
   {
    "duration": 168,
    "start_time": "2024-03-17T08:37:54.368Z"
   },
   {
    "duration": 138,
    "start_time": "2024-03-17T08:37:54.538Z"
   },
   {
    "duration": 121,
    "start_time": "2024-03-17T08:37:54.678Z"
   },
   {
    "duration": 131,
    "start_time": "2024-03-17T08:37:54.800Z"
   },
   {
    "duration": 161,
    "start_time": "2024-03-17T08:37:54.933Z"
   },
   {
    "duration": 155,
    "start_time": "2024-03-17T08:37:55.095Z"
   },
   {
    "duration": 260,
    "start_time": "2024-03-17T08:37:55.252Z"
   },
   {
    "duration": 9,
    "start_time": "2024-03-17T08:37:55.514Z"
   },
   {
    "duration": 208,
    "start_time": "2024-03-17T08:37:55.525Z"
   },
   {
    "duration": 191,
    "start_time": "2024-03-17T08:37:55.744Z"
   },
   {
    "duration": 185,
    "start_time": "2024-03-17T08:37:55.936Z"
   },
   {
    "duration": 190,
    "start_time": "2024-03-17T08:37:56.123Z"
   },
   {
    "duration": 127,
    "start_time": "2024-03-17T08:37:56.315Z"
   },
   {
    "duration": 302,
    "start_time": "2024-03-17T08:37:56.443Z"
   },
   {
    "duration": 181,
    "start_time": "2024-03-17T08:37:56.747Z"
   },
   {
    "duration": 247,
    "start_time": "2024-03-17T08:37:56.930Z"
   },
   {
    "duration": 51,
    "start_time": "2024-03-17T08:40:47.914Z"
   },
   {
    "duration": 39,
    "start_time": "2024-03-17T08:43:00.708Z"
   },
   {
    "duration": 40,
    "start_time": "2024-03-17T08:43:14.712Z"
   },
   {
    "duration": 101,
    "start_time": "2024-03-17T08:50:50.660Z"
   },
   {
    "duration": 88,
    "start_time": "2024-03-17T08:53:03.079Z"
   },
   {
    "duration": 10,
    "start_time": "2024-03-17T08:59:34.547Z"
   },
   {
    "duration": 7,
    "start_time": "2024-03-17T09:02:28.346Z"
   },
   {
    "duration": 47,
    "start_time": "2024-03-17T09:03:02.624Z"
   },
   {
    "duration": 77,
    "start_time": "2024-03-17T09:03:25.597Z"
   },
   {
    "duration": 54,
    "start_time": "2024-03-17T09:03:35.604Z"
   },
   {
    "duration": 9,
    "start_time": "2024-03-17T09:04:08.097Z"
   },
   {
    "duration": 9,
    "start_time": "2024-03-17T09:12:38.433Z"
   },
   {
    "duration": 106,
    "start_time": "2024-03-17T09:12:40.115Z"
   },
   {
    "duration": 8,
    "start_time": "2024-03-17T09:12:52.361Z"
   },
   {
    "duration": 47,
    "start_time": "2024-03-17T09:19:08.601Z"
   },
   {
    "duration": 626,
    "start_time": "2024-03-17T09:19:46.216Z"
   },
   {
    "duration": 93,
    "start_time": "2024-03-17T09:19:46.844Z"
   },
   {
    "duration": 27,
    "start_time": "2024-03-17T09:19:46.939Z"
   },
   {
    "duration": 49,
    "start_time": "2024-03-17T09:19:46.968Z"
   },
   {
    "duration": 35,
    "start_time": "2024-03-17T09:19:47.018Z"
   },
   {
    "duration": 2,
    "start_time": "2024-03-17T09:19:47.055Z"
   },
   {
    "duration": 2101,
    "start_time": "2024-03-17T09:19:47.058Z"
   },
   {
    "duration": 9,
    "start_time": "2024-03-17T09:19:49.160Z"
   },
   {
    "duration": 2,
    "start_time": "2024-03-17T09:19:49.171Z"
   },
   {
    "duration": 10,
    "start_time": "2024-03-17T09:19:49.175Z"
   },
   {
    "duration": 25,
    "start_time": "2024-03-17T09:19:49.186Z"
   },
   {
    "duration": 12,
    "start_time": "2024-03-17T09:19:49.212Z"
   },
   {
    "duration": 34,
    "start_time": "2024-03-17T09:19:49.226Z"
   },
   {
    "duration": 5,
    "start_time": "2024-03-17T09:19:49.261Z"
   },
   {
    "duration": 80,
    "start_time": "2024-03-17T09:19:49.268Z"
   },
   {
    "duration": 61,
    "start_time": "2024-03-17T09:19:49.349Z"
   },
   {
    "duration": 78,
    "start_time": "2024-03-17T09:19:49.412Z"
   },
   {
    "duration": 9,
    "start_time": "2024-03-17T09:19:49.491Z"
   },
   {
    "duration": 9,
    "start_time": "2024-03-17T09:19:49.502Z"
   },
   {
    "duration": 66,
    "start_time": "2024-03-17T09:19:49.512Z"
   },
   {
    "duration": 7,
    "start_time": "2024-03-17T09:19:49.580Z"
   },
   {
    "duration": 12,
    "start_time": "2024-03-17T09:19:49.588Z"
   },
   {
    "duration": 59,
    "start_time": "2024-03-17T09:19:49.601Z"
   },
   {
    "duration": 39,
    "start_time": "2024-03-17T09:19:49.661Z"
   },
   {
    "duration": 103,
    "start_time": "2024-03-17T09:19:49.701Z"
   },
   {
    "duration": 9,
    "start_time": "2024-03-17T09:19:49.805Z"
   },
   {
    "duration": 7,
    "start_time": "2024-03-17T09:19:49.815Z"
   },
   {
    "duration": 8,
    "start_time": "2024-03-17T09:19:49.844Z"
   },
   {
    "duration": 38,
    "start_time": "2024-03-17T09:19:49.853Z"
   },
   {
    "duration": 2,
    "start_time": "2024-03-17T09:19:49.893Z"
   },
   {
    "duration": 427,
    "start_time": "2024-03-17T09:19:49.897Z"
   },
   {
    "duration": 152,
    "start_time": "2024-03-17T09:19:50.326Z"
   },
   {
    "duration": 167,
    "start_time": "2024-03-17T09:19:50.479Z"
   },
   {
    "duration": 170,
    "start_time": "2024-03-17T09:19:50.647Z"
   },
   {
    "duration": 1231,
    "start_time": "2024-03-17T09:19:50.819Z"
   },
   {
    "duration": 164,
    "start_time": "2024-03-17T09:19:52.052Z"
   },
   {
    "duration": 157,
    "start_time": "2024-03-17T09:19:52.218Z"
   },
   {
    "duration": 124,
    "start_time": "2024-03-17T09:19:52.376Z"
   },
   {
    "duration": 133,
    "start_time": "2024-03-17T09:19:52.501Z"
   },
   {
    "duration": 169,
    "start_time": "2024-03-17T09:19:52.636Z"
   },
   {
    "duration": 542,
    "start_time": "2024-03-17T09:19:52.807Z"
   },
   {
    "duration": 439,
    "start_time": "2024-03-17T09:19:53.351Z"
   },
   {
    "duration": 61,
    "start_time": "2024-03-17T09:19:53.792Z"
   },
   {
    "duration": 495,
    "start_time": "2024-03-17T09:19:53.855Z"
   },
   {
    "duration": 431,
    "start_time": "2024-03-17T09:19:54.351Z"
   },
   {
    "duration": 204,
    "start_time": "2024-03-17T09:19:54.783Z"
   },
   {
    "duration": 193,
    "start_time": "2024-03-17T09:19:54.988Z"
   },
   {
    "duration": 124,
    "start_time": "2024-03-17T09:19:55.182Z"
   },
   {
    "duration": 299,
    "start_time": "2024-03-17T09:19:55.308Z"
   },
   {
    "duration": 171,
    "start_time": "2024-03-17T09:19:55.609Z"
   },
   {
    "duration": 258,
    "start_time": "2024-03-17T09:19:55.781Z"
   },
   {
    "duration": 41,
    "start_time": "2024-03-17T09:21:28.973Z"
   },
   {
    "duration": 8,
    "start_time": "2024-03-17T09:26:03.687Z"
   },
   {
    "duration": 32,
    "start_time": "2024-03-17T09:26:37.463Z"
   },
   {
    "duration": 38,
    "start_time": "2024-03-17T09:28:00.155Z"
   },
   {
    "duration": 12,
    "start_time": "2024-03-17T09:28:14.800Z"
   },
   {
    "duration": 11,
    "start_time": "2024-03-17T09:28:24.763Z"
   },
   {
    "duration": 11,
    "start_time": "2024-03-17T09:28:32.050Z"
   },
   {
    "duration": 11,
    "start_time": "2024-03-17T09:32:20.128Z"
   },
   {
    "duration": 10,
    "start_time": "2024-03-17T09:32:28.833Z"
   },
   {
    "duration": 64,
    "start_time": "2024-03-17T09:37:40.501Z"
   },
   {
    "duration": 84,
    "start_time": "2024-03-17T09:38:06.631Z"
   },
   {
    "duration": 24,
    "start_time": "2024-03-17T09:40:27.038Z"
   },
   {
    "duration": 27,
    "start_time": "2024-03-17T09:43:04.473Z"
   },
   {
    "duration": 68,
    "start_time": "2024-03-17T09:44:00.078Z"
   },
   {
    "duration": 27,
    "start_time": "2024-03-17T09:44:09.061Z"
   },
   {
    "duration": 20,
    "start_time": "2024-03-17T09:44:25.327Z"
   },
   {
    "duration": 19,
    "start_time": "2024-03-17T09:44:31.279Z"
   },
   {
    "duration": 20,
    "start_time": "2024-03-17T09:48:27.361Z"
   },
   {
    "duration": 13,
    "start_time": "2024-03-17T10:11:50.855Z"
   },
   {
    "duration": 22,
    "start_time": "2024-03-17T10:21:36.469Z"
   },
   {
    "duration": 15,
    "start_time": "2024-03-17T10:27:55.763Z"
   },
   {
    "duration": 21,
    "start_time": "2024-03-17T10:28:02.922Z"
   },
   {
    "duration": 25,
    "start_time": "2024-03-17T10:28:41.096Z"
   },
   {
    "duration": 22,
    "start_time": "2024-03-17T10:29:41.760Z"
   },
   {
    "duration": 645,
    "start_time": "2024-03-17T10:42:18.079Z"
   },
   {
    "duration": 653,
    "start_time": "2024-03-17T10:42:30.439Z"
   },
   {
    "duration": 660,
    "start_time": "2024-03-17T10:42:49.477Z"
   },
   {
    "duration": 635,
    "start_time": "2024-03-17T10:43:30.223Z"
   },
   {
    "duration": 607,
    "start_time": "2024-03-17T10:43:34.195Z"
   },
   {
    "duration": 13,
    "start_time": "2024-03-17T10:44:09.858Z"
   },
   {
    "duration": 8,
    "start_time": "2024-03-17T10:44:28.895Z"
   },
   {
    "duration": 5,
    "start_time": "2024-03-17T10:55:33.963Z"
   },
   {
    "duration": 8,
    "start_time": "2024-03-17T10:55:36.158Z"
   },
   {
    "duration": 9,
    "start_time": "2024-03-17T10:59:18.477Z"
   },
   {
    "duration": 39,
    "start_time": "2024-03-17T11:01:29.120Z"
   },
   {
    "duration": 22,
    "start_time": "2024-03-17T11:04:52.412Z"
   },
   {
    "duration": 685,
    "start_time": "2024-03-17T11:07:39.381Z"
   },
   {
    "duration": 8,
    "start_time": "2024-03-17T11:08:15.561Z"
   },
   {
    "duration": 4,
    "start_time": "2024-03-17T11:09:00.746Z"
   },
   {
    "duration": 4,
    "start_time": "2024-03-17T11:09:19.851Z"
   },
   {
    "duration": 9,
    "start_time": "2024-03-17T11:15:29.590Z"
   },
   {
    "duration": 3,
    "start_time": "2024-03-17T12:11:14.001Z"
   },
   {
    "duration": 41,
    "start_time": "2024-03-17T12:25:15.205Z"
   },
   {
    "duration": 9,
    "start_time": "2024-03-17T12:26:02.800Z"
   },
   {
    "duration": 6,
    "start_time": "2024-03-17T12:26:09.423Z"
   },
   {
    "duration": 6,
    "start_time": "2024-03-17T12:26:12.248Z"
   },
   {
    "duration": 6,
    "start_time": "2024-03-17T12:27:25.200Z"
   },
   {
    "duration": 573,
    "start_time": "2024-03-17T12:27:32.694Z"
   },
   {
    "duration": 91,
    "start_time": "2024-03-17T12:27:33.268Z"
   },
   {
    "duration": 28,
    "start_time": "2024-03-17T12:27:33.360Z"
   },
   {
    "duration": 42,
    "start_time": "2024-03-17T12:27:33.390Z"
   },
   {
    "duration": 25,
    "start_time": "2024-03-17T12:27:33.433Z"
   },
   {
    "duration": 9,
    "start_time": "2024-03-17T12:27:33.459Z"
   },
   {
    "duration": 2057,
    "start_time": "2024-03-17T12:27:33.469Z"
   },
   {
    "duration": 9,
    "start_time": "2024-03-17T12:27:35.528Z"
   },
   {
    "duration": 7,
    "start_time": "2024-03-17T12:27:35.538Z"
   },
   {
    "duration": 64,
    "start_time": "2024-03-17T12:27:35.547Z"
   },
   {
    "duration": 7,
    "start_time": "2024-03-17T12:27:35.613Z"
   },
   {
    "duration": 21,
    "start_time": "2024-03-17T12:27:35.621Z"
   },
   {
    "duration": 8,
    "start_time": "2024-03-17T12:27:35.644Z"
   },
   {
    "duration": 22,
    "start_time": "2024-03-17T12:27:35.653Z"
   },
   {
    "duration": 26,
    "start_time": "2024-03-17T12:27:35.677Z"
   },
   {
    "duration": 43,
    "start_time": "2024-03-17T12:27:35.704Z"
   },
   {
    "duration": 11,
    "start_time": "2024-03-17T12:27:35.748Z"
   },
   {
    "duration": 86,
    "start_time": "2024-03-17T12:27:35.760Z"
   },
   {
    "duration": 60,
    "start_time": "2024-03-17T12:27:35.848Z"
   },
   {
    "duration": 3,
    "start_time": "2024-03-17T12:27:35.909Z"
   },
   {
    "duration": 66,
    "start_time": "2024-03-17T12:27:35.914Z"
   },
   {
    "duration": 7,
    "start_time": "2024-03-17T12:27:35.981Z"
   },
   {
    "duration": 27,
    "start_time": "2024-03-17T12:27:35.989Z"
   },
   {
    "duration": 47,
    "start_time": "2024-03-17T12:27:36.017Z"
   },
   {
    "duration": 38,
    "start_time": "2024-03-17T12:27:36.065Z"
   },
   {
    "duration": 107,
    "start_time": "2024-03-17T12:27:36.104Z"
   },
   {
    "duration": 10,
    "start_time": "2024-03-17T12:27:36.213Z"
   },
   {
    "duration": 8,
    "start_time": "2024-03-17T12:27:36.246Z"
   },
   {
    "duration": 16,
    "start_time": "2024-03-17T12:27:36.255Z"
   },
   {
    "duration": 65,
    "start_time": "2024-03-17T12:27:36.272Z"
   },
   {
    "duration": 9,
    "start_time": "2024-03-17T12:27:36.339Z"
   },
   {
    "duration": 38,
    "start_time": "2024-03-17T12:27:36.350Z"
   },
   {
    "duration": 681,
    "start_time": "2024-03-17T12:27:36.389Z"
   },
   {
    "duration": 37,
    "start_time": "2024-03-17T12:27:37.072Z"
   },
   {
    "duration": 7,
    "start_time": "2024-03-17T12:27:37.111Z"
   },
   {
    "duration": 32,
    "start_time": "2024-03-17T12:27:37.119Z"
   },
   {
    "duration": 694,
    "start_time": "2024-03-17T12:27:37.152Z"
   },
   {
    "duration": 7,
    "start_time": "2024-03-17T12:27:37.847Z"
   },
   {
    "duration": 342,
    "start_time": "2024-03-17T12:27:37.856Z"
   },
   {
    "duration": 162,
    "start_time": "2024-03-17T12:27:38.199Z"
   },
   {
    "duration": 204,
    "start_time": "2024-03-17T12:27:38.363Z"
   },
   {
    "duration": 145,
    "start_time": "2024-03-17T12:27:38.568Z"
   },
   {
    "duration": 1192,
    "start_time": "2024-03-17T12:27:38.714Z"
   },
   {
    "duration": 148,
    "start_time": "2024-03-17T12:27:39.907Z"
   },
   {
    "duration": 148,
    "start_time": "2024-03-17T12:27:40.065Z"
   },
   {
    "duration": 113,
    "start_time": "2024-03-17T12:27:40.214Z"
   },
   {
    "duration": 129,
    "start_time": "2024-03-17T12:27:40.328Z"
   },
   {
    "duration": 154,
    "start_time": "2024-03-17T12:27:40.458Z"
   },
   {
    "duration": 159,
    "start_time": "2024-03-17T12:27:40.613Z"
   },
   {
    "duration": 162,
    "start_time": "2024-03-17T12:27:40.773Z"
   },
   {
    "duration": 14,
    "start_time": "2024-03-17T12:27:40.936Z"
   },
   {
    "duration": 194,
    "start_time": "2024-03-17T12:27:40.952Z"
   },
   {
    "duration": 295,
    "start_time": "2024-03-17T12:27:41.147Z"
   },
   {
    "duration": 177,
    "start_time": "2024-03-17T12:27:41.445Z"
   },
   {
    "duration": 181,
    "start_time": "2024-03-17T12:27:41.624Z"
   },
   {
    "duration": 118,
    "start_time": "2024-03-17T12:27:41.807Z"
   },
   {
    "duration": 290,
    "start_time": "2024-03-17T12:27:41.927Z"
   },
   {
    "duration": 166,
    "start_time": "2024-03-17T12:27:42.219Z"
   },
   {
    "duration": 232,
    "start_time": "2024-03-17T12:27:42.386Z"
   },
   {
    "duration": 43,
    "start_time": "2024-03-17T12:28:52.768Z"
   },
   {
    "duration": 9,
    "start_time": "2024-03-17T12:29:30.818Z"
   },
   {
    "duration": 9,
    "start_time": "2024-03-17T12:29:32.541Z"
   },
   {
    "duration": 43,
    "start_time": "2024-03-17T12:31:25.560Z"
   },
   {
    "duration": 40,
    "start_time": "2024-03-17T12:32:01.980Z"
   },
   {
    "duration": 114,
    "start_time": "2024-03-17T12:32:26.846Z"
   },
   {
    "duration": 8,
    "start_time": "2024-03-17T12:33:22.088Z"
   },
   {
    "duration": 8,
    "start_time": "2024-03-17T12:33:48.599Z"
   },
   {
    "duration": 8,
    "start_time": "2024-03-17T12:33:55.546Z"
   },
   {
    "duration": 37,
    "start_time": "2024-03-17T12:34:34.163Z"
   },
   {
    "duration": 552,
    "start_time": "2024-03-17T12:34:40.276Z"
   },
   {
    "duration": 89,
    "start_time": "2024-03-17T12:34:40.830Z"
   },
   {
    "duration": 34,
    "start_time": "2024-03-17T12:35:05.391Z"
   },
   {
    "duration": 7,
    "start_time": "2024-03-17T12:35:12.780Z"
   },
   {
    "duration": 38,
    "start_time": "2024-03-17T12:35:23.536Z"
   },
   {
    "duration": 40,
    "start_time": "2024-03-17T12:35:39.262Z"
   },
   {
    "duration": 579,
    "start_time": "2024-03-17T12:35:46.366Z"
   },
   {
    "duration": 90,
    "start_time": "2024-03-17T12:35:46.946Z"
   },
   {
    "duration": 28,
    "start_time": "2024-03-17T12:35:47.037Z"
   },
   {
    "duration": 40,
    "start_time": "2024-03-17T12:35:47.066Z"
   },
   {
    "duration": 13,
    "start_time": "2024-03-17T12:35:47.107Z"
   },
   {
    "duration": 1,
    "start_time": "2024-03-17T12:35:47.122Z"
   },
   {
    "duration": 2061,
    "start_time": "2024-03-17T12:35:47.125Z"
   },
   {
    "duration": 9,
    "start_time": "2024-03-17T12:35:49.187Z"
   },
   {
    "duration": 9,
    "start_time": "2024-03-17T12:35:49.197Z"
   },
   {
    "duration": 47,
    "start_time": "2024-03-17T12:35:49.207Z"
   },
   {
    "duration": 7,
    "start_time": "2024-03-17T12:35:49.255Z"
   },
   {
    "duration": 7,
    "start_time": "2024-03-17T12:35:49.264Z"
   },
   {
    "duration": 47,
    "start_time": "2024-03-17T12:35:49.273Z"
   },
   {
    "duration": 6,
    "start_time": "2024-03-17T12:35:49.322Z"
   },
   {
    "duration": 20,
    "start_time": "2024-03-17T12:35:49.329Z"
   },
   {
    "duration": 40,
    "start_time": "2024-03-17T12:35:49.350Z"
   },
   {
    "duration": 37,
    "start_time": "2024-03-17T12:35:49.391Z"
   },
   {
    "duration": 102,
    "start_time": "2024-03-17T12:35:49.429Z"
   },
   {
    "duration": 19,
    "start_time": "2024-03-17T12:35:49.532Z"
   },
   {
    "duration": 7,
    "start_time": "2024-03-17T12:35:49.552Z"
   },
   {
    "duration": 11,
    "start_time": "2024-03-17T12:35:49.561Z"
   },
   {
    "duration": 39,
    "start_time": "2024-03-17T12:35:49.574Z"
   },
   {
    "duration": 4,
    "start_time": "2024-03-17T12:35:49.614Z"
   },
   {
    "duration": 30,
    "start_time": "2024-03-17T12:35:49.619Z"
   },
   {
    "duration": 13,
    "start_time": "2024-03-17T12:35:49.650Z"
   },
   {
    "duration": 17,
    "start_time": "2024-03-17T12:35:49.664Z"
   },
   {
    "duration": 4,
    "start_time": "2024-03-17T12:35:49.682Z"
   },
   {
    "duration": 82,
    "start_time": "2024-03-17T12:35:49.688Z"
   },
   {
    "duration": 59,
    "start_time": "2024-03-17T12:35:49.772Z"
   },
   {
    "duration": 15,
    "start_time": "2024-03-17T12:35:49.832Z"
   },
   {
    "duration": 8,
    "start_time": "2024-03-17T12:35:49.848Z"
   },
   {
    "duration": 21,
    "start_time": "2024-03-17T12:35:49.857Z"
   },
   {
    "duration": 717,
    "start_time": "2024-03-17T12:35:49.879Z"
   },
   {
    "duration": 36,
    "start_time": "2024-03-17T12:35:50.598Z"
   },
   {
    "duration": 14,
    "start_time": "2024-03-17T12:35:50.636Z"
   },
   {
    "duration": 19,
    "start_time": "2024-03-17T12:35:50.651Z"
   },
   {
    "duration": 591,
    "start_time": "2024-03-17T12:35:50.672Z"
   },
   {
    "duration": 7,
    "start_time": "2024-03-17T12:35:51.265Z"
   },
   {
    "duration": 345,
    "start_time": "2024-03-17T12:35:51.273Z"
   },
   {
    "duration": 158,
    "start_time": "2024-03-17T12:35:51.619Z"
   },
   {
    "duration": 281,
    "start_time": "2024-03-17T12:35:51.780Z"
   },
   {
    "duration": 289,
    "start_time": "2024-03-17T12:35:52.062Z"
   },
   {
    "duration": 1599,
    "start_time": "2024-03-17T12:35:52.353Z"
   },
   {
    "duration": 144,
    "start_time": "2024-03-17T12:35:53.954Z"
   },
   {
    "duration": 162,
    "start_time": "2024-03-17T12:35:54.099Z"
   },
   {
    "duration": 117,
    "start_time": "2024-03-17T12:35:54.262Z"
   },
   {
    "duration": 127,
    "start_time": "2024-03-17T12:35:54.380Z"
   },
   {
    "duration": 154,
    "start_time": "2024-03-17T12:35:54.508Z"
   },
   {
    "duration": 151,
    "start_time": "2024-03-17T12:35:54.663Z"
   },
   {
    "duration": 157,
    "start_time": "2024-03-17T12:35:54.815Z"
   },
   {
    "duration": 7,
    "start_time": "2024-03-17T12:35:54.974Z"
   },
   {
    "duration": 193,
    "start_time": "2024-03-17T12:35:54.983Z"
   },
   {
    "duration": 298,
    "start_time": "2024-03-17T12:35:55.177Z"
   },
   {
    "duration": 176,
    "start_time": "2024-03-17T12:35:55.476Z"
   },
   {
    "duration": 182,
    "start_time": "2024-03-17T12:35:55.654Z"
   },
   {
    "duration": 121,
    "start_time": "2024-03-17T12:35:55.837Z"
   },
   {
    "duration": 297,
    "start_time": "2024-03-17T12:35:55.960Z"
   },
   {
    "duration": 160,
    "start_time": "2024-03-17T12:35:56.258Z"
   },
   {
    "duration": 227,
    "start_time": "2024-03-17T12:35:56.420Z"
   },
   {
    "duration": 77,
    "start_time": "2024-03-17T12:38:11.876Z"
   },
   {
    "duration": 8,
    "start_time": "2024-03-17T12:39:28.489Z"
   },
   {
    "duration": 29,
    "start_time": "2024-03-17T12:39:49.802Z"
   },
   {
    "duration": 701,
    "start_time": "2024-03-17T12:40:39.375Z"
   },
   {
    "duration": 8,
    "start_time": "2024-03-17T12:41:07.959Z"
   },
   {
    "duration": 36,
    "start_time": "2024-03-17T12:42:12.553Z"
   },
   {
    "duration": 8,
    "start_time": "2024-03-17T12:42:24.925Z"
   },
   {
    "duration": 20,
    "start_time": "2024-03-17T12:42:38.706Z"
   },
   {
    "duration": 591,
    "start_time": "2024-03-17T12:42:46.532Z"
   },
   {
    "duration": 615,
    "start_time": "2024-03-17T12:43:21.162Z"
   },
   {
    "duration": 93,
    "start_time": "2024-03-17T12:43:21.779Z"
   },
   {
    "duration": 32,
    "start_time": "2024-03-17T12:43:21.873Z"
   },
   {
    "duration": 57,
    "start_time": "2024-03-17T12:43:21.906Z"
   },
   {
    "duration": 13,
    "start_time": "2024-03-17T12:43:21.965Z"
   },
   {
    "duration": 4,
    "start_time": "2024-03-17T12:43:21.979Z"
   },
   {
    "duration": 2106,
    "start_time": "2024-03-17T12:43:21.984Z"
   },
   {
    "duration": 9,
    "start_time": "2024-03-17T12:43:24.092Z"
   },
   {
    "duration": 5,
    "start_time": "2024-03-17T12:43:24.102Z"
   },
   {
    "duration": 63,
    "start_time": "2024-03-17T12:43:24.109Z"
   },
   {
    "duration": 41,
    "start_time": "2024-03-17T12:43:24.173Z"
   },
   {
    "duration": 8,
    "start_time": "2024-03-17T12:43:24.215Z"
   },
   {
    "duration": 27,
    "start_time": "2024-03-17T12:43:24.224Z"
   },
   {
    "duration": 42,
    "start_time": "2024-03-17T12:43:24.254Z"
   },
   {
    "duration": 8,
    "start_time": "2024-03-17T12:43:24.298Z"
   },
   {
    "duration": 20,
    "start_time": "2024-03-17T12:43:24.307Z"
   },
   {
    "duration": 55,
    "start_time": "2024-03-17T12:43:24.328Z"
   },
   {
    "duration": 40,
    "start_time": "2024-03-17T12:43:24.384Z"
   },
   {
    "duration": 125,
    "start_time": "2024-03-17T12:43:24.425Z"
   },
   {
    "duration": 8,
    "start_time": "2024-03-17T12:43:24.551Z"
   },
   {
    "duration": 8,
    "start_time": "2024-03-17T12:43:24.561Z"
   },
   {
    "duration": 9,
    "start_time": "2024-03-17T12:43:24.570Z"
   },
   {
    "duration": 77,
    "start_time": "2024-03-17T12:43:24.580Z"
   },
   {
    "duration": 8,
    "start_time": "2024-03-17T12:43:24.659Z"
   },
   {
    "duration": 27,
    "start_time": "2024-03-17T12:43:24.669Z"
   },
   {
    "duration": 984,
    "start_time": "2024-03-17T12:43:24.698Z"
   },
   {
    "duration": 7,
    "start_time": "2024-03-17T12:43:25.684Z"
   },
   {
    "duration": 59,
    "start_time": "2024-03-17T12:43:25.693Z"
   },
   {
    "duration": 9,
    "start_time": "2024-03-17T12:43:25.754Z"
   },
   {
    "duration": 30,
    "start_time": "2024-03-17T12:43:25.765Z"
   },
   {
    "duration": 656,
    "start_time": "2024-03-17T12:43:25.797Z"
   },
   {
    "duration": 5,
    "start_time": "2024-03-17T12:43:26.454Z"
   },
   {
    "duration": 25,
    "start_time": "2024-03-17T12:43:26.460Z"
   },
   {
    "duration": 12,
    "start_time": "2024-03-17T12:43:26.486Z"
   },
   {
    "duration": 19,
    "start_time": "2024-03-17T12:43:26.500Z"
   },
   {
    "duration": 27,
    "start_time": "2024-03-17T12:43:26.521Z"
   },
   {
    "duration": 72,
    "start_time": "2024-03-17T12:43:26.550Z"
   },
   {
    "duration": 80,
    "start_time": "2024-03-17T12:43:26.624Z"
   },
   {
    "duration": 4,
    "start_time": "2024-03-17T12:43:26.706Z"
   },
   {
    "duration": 15,
    "start_time": "2024-03-17T12:43:26.711Z"
   },
   {
    "duration": 370,
    "start_time": "2024-03-17T12:43:26.746Z"
   },
   {
    "duration": 178,
    "start_time": "2024-03-17T12:43:27.118Z"
   },
   {
    "duration": 223,
    "start_time": "2024-03-17T12:43:27.298Z"
   },
   {
    "duration": 157,
    "start_time": "2024-03-17T12:43:27.522Z"
   },
   {
    "duration": 1286,
    "start_time": "2024-03-17T12:43:27.680Z"
   },
   {
    "duration": 145,
    "start_time": "2024-03-17T12:43:28.968Z"
   },
   {
    "duration": 153,
    "start_time": "2024-03-17T12:43:29.114Z"
   },
   {
    "duration": 120,
    "start_time": "2024-03-17T12:43:29.269Z"
   },
   {
    "duration": 145,
    "start_time": "2024-03-17T12:43:29.391Z"
   },
   {
    "duration": 184,
    "start_time": "2024-03-17T12:43:29.538Z"
   },
   {
    "duration": 155,
    "start_time": "2024-03-17T12:43:29.723Z"
   },
   {
    "duration": 170,
    "start_time": "2024-03-17T12:43:29.879Z"
   },
   {
    "duration": 10,
    "start_time": "2024-03-17T12:43:30.051Z"
   },
   {
    "duration": 269,
    "start_time": "2024-03-17T12:43:30.063Z"
   },
   {
    "duration": 314,
    "start_time": "2024-03-17T12:43:30.333Z"
   },
   {
    "duration": 184,
    "start_time": "2024-03-17T12:43:30.648Z"
   },
   {
    "duration": 217,
    "start_time": "2024-03-17T12:43:30.833Z"
   },
   {
    "duration": 126,
    "start_time": "2024-03-17T12:43:31.051Z"
   },
   {
    "duration": 308,
    "start_time": "2024-03-17T12:43:31.179Z"
   },
   {
    "duration": 181,
    "start_time": "2024-03-17T12:43:31.489Z"
   },
   {
    "duration": 246,
    "start_time": "2024-03-17T12:43:31.671Z"
   },
   {
    "duration": 68,
    "start_time": "2024-03-17T12:44:41.937Z"
   },
   {
    "duration": 4,
    "start_time": "2024-03-17T12:56:37.775Z"
   },
   {
    "duration": 11,
    "start_time": "2024-03-17T13:01:57.446Z"
   },
   {
    "duration": 587,
    "start_time": "2024-03-17T13:02:19.268Z"
   },
   {
    "duration": 91,
    "start_time": "2024-03-17T13:02:19.856Z"
   },
   {
    "duration": 28,
    "start_time": "2024-03-17T13:02:19.948Z"
   },
   {
    "duration": 43,
    "start_time": "2024-03-17T13:02:19.978Z"
   },
   {
    "duration": 31,
    "start_time": "2024-03-17T13:02:20.022Z"
   },
   {
    "duration": 3,
    "start_time": "2024-03-17T13:02:20.054Z"
   },
   {
    "duration": 2144,
    "start_time": "2024-03-17T13:02:20.058Z"
   },
   {
    "duration": 9,
    "start_time": "2024-03-17T13:02:22.204Z"
   },
   {
    "duration": 12,
    "start_time": "2024-03-17T13:02:22.214Z"
   },
   {
    "duration": 68,
    "start_time": "2024-03-17T13:02:22.228Z"
   },
   {
    "duration": 49,
    "start_time": "2024-03-17T13:02:22.297Z"
   },
   {
    "duration": 7,
    "start_time": "2024-03-17T13:02:22.347Z"
   },
   {
    "duration": 27,
    "start_time": "2024-03-17T13:02:22.355Z"
   },
   {
    "duration": 43,
    "start_time": "2024-03-17T13:02:22.383Z"
   },
   {
    "duration": 6,
    "start_time": "2024-03-17T13:02:22.428Z"
   },
   {
    "duration": 11,
    "start_time": "2024-03-17T13:02:22.445Z"
   },
   {
    "duration": 47,
    "start_time": "2024-03-17T13:02:22.457Z"
   },
   {
    "duration": 46,
    "start_time": "2024-03-17T13:02:22.506Z"
   },
   {
    "duration": 100,
    "start_time": "2024-03-17T13:02:22.553Z"
   },
   {
    "duration": 7,
    "start_time": "2024-03-17T13:02:22.655Z"
   },
   {
    "duration": 12,
    "start_time": "2024-03-17T13:02:22.663Z"
   },
   {
    "duration": 6,
    "start_time": "2024-03-17T13:02:22.677Z"
   },
   {
    "duration": 62,
    "start_time": "2024-03-17T13:02:22.684Z"
   },
   {
    "duration": 8,
    "start_time": "2024-03-17T13:02:22.747Z"
   },
   {
    "duration": 8,
    "start_time": "2024-03-17T13:02:22.756Z"
   },
   {
    "duration": 13,
    "start_time": "2024-03-17T13:02:22.765Z"
   },
   {
    "duration": 12,
    "start_time": "2024-03-17T13:02:22.779Z"
   },
   {
    "duration": 6,
    "start_time": "2024-03-17T13:02:22.794Z"
   },
   {
    "duration": 13,
    "start_time": "2024-03-17T13:02:22.801Z"
   },
   {
    "duration": 70,
    "start_time": "2024-03-17T13:02:22.815Z"
   },
   {
    "duration": 0,
    "start_time": "2024-03-17T13:02:22.887Z"
   },
   {
    "duration": 0,
    "start_time": "2024-03-17T13:02:22.888Z"
   },
   {
    "duration": 0,
    "start_time": "2024-03-17T13:02:22.890Z"
   },
   {
    "duration": 0,
    "start_time": "2024-03-17T13:02:22.891Z"
   },
   {
    "duration": 0,
    "start_time": "2024-03-17T13:02:22.892Z"
   },
   {
    "duration": 0,
    "start_time": "2024-03-17T13:02:22.893Z"
   },
   {
    "duration": 0,
    "start_time": "2024-03-17T13:02:22.895Z"
   },
   {
    "duration": 0,
    "start_time": "2024-03-17T13:02:22.896Z"
   },
   {
    "duration": 0,
    "start_time": "2024-03-17T13:02:22.897Z"
   },
   {
    "duration": 0,
    "start_time": "2024-03-17T13:02:22.899Z"
   },
   {
    "duration": 0,
    "start_time": "2024-03-17T13:02:22.900Z"
   },
   {
    "duration": 0,
    "start_time": "2024-03-17T13:02:22.901Z"
   },
   {
    "duration": 0,
    "start_time": "2024-03-17T13:02:22.903Z"
   },
   {
    "duration": 0,
    "start_time": "2024-03-17T13:02:22.904Z"
   },
   {
    "duration": 0,
    "start_time": "2024-03-17T13:02:22.905Z"
   },
   {
    "duration": 0,
    "start_time": "2024-03-17T13:02:22.906Z"
   },
   {
    "duration": 0,
    "start_time": "2024-03-17T13:02:22.908Z"
   },
   {
    "duration": 0,
    "start_time": "2024-03-17T13:02:22.909Z"
   },
   {
    "duration": 0,
    "start_time": "2024-03-17T13:02:22.911Z"
   },
   {
    "duration": 0,
    "start_time": "2024-03-17T13:02:22.912Z"
   },
   {
    "duration": 0,
    "start_time": "2024-03-17T13:02:22.914Z"
   },
   {
    "duration": 1,
    "start_time": "2024-03-17T13:02:22.914Z"
   },
   {
    "duration": 0,
    "start_time": "2024-03-17T13:02:22.916Z"
   },
   {
    "duration": 0,
    "start_time": "2024-03-17T13:02:22.917Z"
   },
   {
    "duration": 0,
    "start_time": "2024-03-17T13:02:22.918Z"
   },
   {
    "duration": 0,
    "start_time": "2024-03-17T13:02:22.919Z"
   },
   {
    "duration": 0,
    "start_time": "2024-03-17T13:02:22.921Z"
   },
   {
    "duration": 0,
    "start_time": "2024-03-17T13:02:22.922Z"
   },
   {
    "duration": 9,
    "start_time": "2024-03-17T13:04:52.148Z"
   },
   {
    "duration": 70,
    "start_time": "2024-03-17T13:05:43.799Z"
   },
   {
    "duration": 39,
    "start_time": "2024-03-17T13:09:46.283Z"
   },
   {
    "duration": 10,
    "start_time": "2024-03-17T13:10:41.307Z"
   },
   {
    "duration": 18,
    "start_time": "2024-03-17T13:11:56.089Z"
   },
   {
    "duration": 30,
    "start_time": "2024-03-17T13:12:06.559Z"
   },
   {
    "duration": 8,
    "start_time": "2024-03-17T13:13:19.535Z"
   },
   {
    "duration": 9,
    "start_time": "2024-03-17T13:13:43.381Z"
   },
   {
    "duration": 9,
    "start_time": "2024-03-17T13:15:33.385Z"
   },
   {
    "duration": 8,
    "start_time": "2024-03-17T13:15:47.720Z"
   },
   {
    "duration": 8,
    "start_time": "2024-03-17T13:18:08.959Z"
   },
   {
    "duration": 591,
    "start_time": "2024-03-17T13:18:13.685Z"
   },
   {
    "duration": 101,
    "start_time": "2024-03-17T13:18:14.277Z"
   },
   {
    "duration": 29,
    "start_time": "2024-03-17T13:18:14.379Z"
   },
   {
    "duration": 62,
    "start_time": "2024-03-17T13:18:14.410Z"
   },
   {
    "duration": 12,
    "start_time": "2024-03-17T13:18:14.474Z"
   },
   {
    "duration": 2,
    "start_time": "2024-03-17T13:18:14.488Z"
   },
   {
    "duration": 2354,
    "start_time": "2024-03-17T13:18:14.491Z"
   },
   {
    "duration": 18,
    "start_time": "2024-03-17T13:18:16.849Z"
   },
   {
    "duration": 2,
    "start_time": "2024-03-17T13:18:16.868Z"
   },
   {
    "duration": 121,
    "start_time": "2024-03-17T13:18:16.872Z"
   },
   {
    "duration": 100,
    "start_time": "2024-03-17T13:18:17.046Z"
   },
   {
    "duration": 12,
    "start_time": "2024-03-17T13:18:17.148Z"
   },
   {
    "duration": 10,
    "start_time": "2024-03-17T13:18:17.162Z"
   },
   {
    "duration": 106,
    "start_time": "2024-03-17T13:18:17.174Z"
   },
   {
    "duration": 6,
    "start_time": "2024-03-17T13:18:17.282Z"
   },
   {
    "duration": 69,
    "start_time": "2024-03-17T13:18:17.289Z"
   },
   {
    "duration": 101,
    "start_time": "2024-03-17T13:18:17.359Z"
   },
   {
    "duration": 98,
    "start_time": "2024-03-17T13:18:17.461Z"
   },
   {
    "duration": 226,
    "start_time": "2024-03-17T13:18:17.561Z"
   },
   {
    "duration": 71,
    "start_time": "2024-03-17T13:18:17.788Z"
   },
   {
    "duration": 7,
    "start_time": "2024-03-17T13:18:17.860Z"
   },
   {
    "duration": 29,
    "start_time": "2024-03-17T13:18:17.868Z"
   },
   {
    "duration": 89,
    "start_time": "2024-03-17T13:18:17.898Z"
   },
   {
    "duration": 61,
    "start_time": "2024-03-17T13:18:17.988Z"
   },
   {
    "duration": 12,
    "start_time": "2024-03-17T13:18:18.052Z"
   },
   {
    "duration": 19,
    "start_time": "2024-03-17T13:18:18.066Z"
   },
   {
    "duration": 16,
    "start_time": "2024-03-17T13:18:18.087Z"
   },
   {
    "duration": 16,
    "start_time": "2024-03-17T13:18:18.105Z"
   },
   {
    "duration": 32,
    "start_time": "2024-03-17T13:18:18.122Z"
   },
   {
    "duration": 16,
    "start_time": "2024-03-17T13:18:18.156Z"
   },
   {
    "duration": 10,
    "start_time": "2024-03-17T13:18:18.173Z"
   },
   {
    "duration": 23,
    "start_time": "2024-03-17T13:18:18.184Z"
   },
   {
    "duration": 22,
    "start_time": "2024-03-17T13:18:18.209Z"
   },
   {
    "duration": 34,
    "start_time": "2024-03-17T13:18:18.232Z"
   },
   {
    "duration": 22,
    "start_time": "2024-03-17T13:18:18.267Z"
   },
   {
    "duration": 71,
    "start_time": "2024-03-17T13:18:18.290Z"
   },
   {
    "duration": 58,
    "start_time": "2024-03-17T13:18:18.362Z"
   },
   {
    "duration": 2,
    "start_time": "2024-03-17T13:18:18.422Z"
   },
   {
    "duration": 447,
    "start_time": "2024-03-17T13:18:18.425Z"
   },
   {
    "duration": 186,
    "start_time": "2024-03-17T13:18:18.874Z"
   },
   {
    "duration": 160,
    "start_time": "2024-03-17T13:18:19.064Z"
   },
   {
    "duration": 171,
    "start_time": "2024-03-17T13:18:19.225Z"
   },
   {
    "duration": 1307,
    "start_time": "2024-03-17T13:18:19.397Z"
   },
   {
    "duration": 166,
    "start_time": "2024-03-17T13:18:20.706Z"
   },
   {
    "duration": 154,
    "start_time": "2024-03-17T13:18:20.873Z"
   },
   {
    "duration": 130,
    "start_time": "2024-03-17T13:18:21.029Z"
   },
   {
    "duration": 156,
    "start_time": "2024-03-17T13:18:21.161Z"
   },
   {
    "duration": 191,
    "start_time": "2024-03-17T13:18:21.319Z"
   },
   {
    "duration": 275,
    "start_time": "2024-03-17T13:18:21.512Z"
   },
   {
    "duration": 179,
    "start_time": "2024-03-17T13:18:21.789Z"
   },
   {
    "duration": 8,
    "start_time": "2024-03-17T13:18:21.970Z"
   },
   {
    "duration": 202,
    "start_time": "2024-03-17T13:18:21.979Z"
   },
   {
    "duration": 195,
    "start_time": "2024-03-17T13:18:22.183Z"
   },
   {
    "duration": 181,
    "start_time": "2024-03-17T13:18:22.379Z"
   },
   {
    "duration": 207,
    "start_time": "2024-03-17T13:18:22.561Z"
   },
   {
    "duration": 130,
    "start_time": "2024-03-17T13:18:22.770Z"
   },
   {
    "duration": 320,
    "start_time": "2024-03-17T13:18:22.902Z"
   },
   {
    "duration": 177,
    "start_time": "2024-03-17T13:18:23.223Z"
   },
   {
    "duration": 246,
    "start_time": "2024-03-17T13:18:23.401Z"
   },
   {
    "duration": 13,
    "start_time": "2024-03-17T13:19:45.404Z"
   },
   {
    "duration": 9,
    "start_time": "2024-03-17T13:19:47.863Z"
   },
   {
    "duration": 607,
    "start_time": "2024-03-17T13:25:23.234Z"
   },
   {
    "duration": 90,
    "start_time": "2024-03-17T13:25:23.844Z"
   },
   {
    "duration": 28,
    "start_time": "2024-03-17T13:25:23.935Z"
   },
   {
    "duration": 42,
    "start_time": "2024-03-17T13:25:23.965Z"
   },
   {
    "duration": 12,
    "start_time": "2024-03-17T13:25:24.009Z"
   },
   {
    "duration": 22,
    "start_time": "2024-03-17T13:25:24.023Z"
   },
   {
    "duration": 2828,
    "start_time": "2024-03-17T13:25:24.046Z"
   },
   {
    "duration": 8,
    "start_time": "2024-03-17T13:25:26.876Z"
   },
   {
    "duration": 4,
    "start_time": "2024-03-17T13:25:26.886Z"
   },
   {
    "duration": 75,
    "start_time": "2024-03-17T13:25:26.891Z"
   },
   {
    "duration": 42,
    "start_time": "2024-03-17T13:25:26.967Z"
   },
   {
    "duration": 8,
    "start_time": "2024-03-17T13:25:27.010Z"
   },
   {
    "duration": 27,
    "start_time": "2024-03-17T13:25:27.019Z"
   },
   {
    "duration": 42,
    "start_time": "2024-03-17T13:25:27.048Z"
   },
   {
    "duration": 6,
    "start_time": "2024-03-17T13:25:27.091Z"
   },
   {
    "duration": 19,
    "start_time": "2024-03-17T13:25:27.099Z"
   },
   {
    "duration": 56,
    "start_time": "2024-03-17T13:25:27.120Z"
   },
   {
    "duration": 44,
    "start_time": "2024-03-17T13:25:27.178Z"
   },
   {
    "duration": 121,
    "start_time": "2024-03-17T13:25:27.224Z"
   },
   {
    "duration": 8,
    "start_time": "2024-03-17T13:25:27.346Z"
   },
   {
    "duration": 7,
    "start_time": "2024-03-17T13:25:27.356Z"
   },
   {
    "duration": 7,
    "start_time": "2024-03-17T13:25:27.364Z"
   },
   {
    "duration": 48,
    "start_time": "2024-03-17T13:25:27.373Z"
   },
   {
    "duration": 10,
    "start_time": "2024-03-17T13:25:27.445Z"
   },
   {
    "duration": 8,
    "start_time": "2024-03-17T13:25:27.456Z"
   },
   {
    "duration": 4,
    "start_time": "2024-03-17T13:25:27.465Z"
   },
   {
    "duration": 24,
    "start_time": "2024-03-17T13:25:27.470Z"
   },
   {
    "duration": 8,
    "start_time": "2024-03-17T13:25:27.495Z"
   },
   {
    "duration": 12,
    "start_time": "2024-03-17T13:25:27.505Z"
   },
   {
    "duration": 27,
    "start_time": "2024-03-17T13:25:27.519Z"
   },
   {
    "duration": 8,
    "start_time": "2024-03-17T13:25:27.547Z"
   },
   {
    "duration": 30,
    "start_time": "2024-03-17T13:25:27.556Z"
   },
   {
    "duration": 14,
    "start_time": "2024-03-17T13:25:27.587Z"
   },
   {
    "duration": 18,
    "start_time": "2024-03-17T13:25:27.603Z"
   },
   {
    "duration": 23,
    "start_time": "2024-03-17T13:25:27.623Z"
   },
   {
    "duration": 105,
    "start_time": "2024-03-17T13:25:27.647Z"
   },
   {
    "duration": 60,
    "start_time": "2024-03-17T13:25:27.753Z"
   },
   {
    "duration": 2,
    "start_time": "2024-03-17T13:25:27.814Z"
   },
   {
    "duration": 437,
    "start_time": "2024-03-17T13:25:27.818Z"
   },
   {
    "duration": 152,
    "start_time": "2024-03-17T13:25:28.256Z"
   },
   {
    "duration": 160,
    "start_time": "2024-03-17T13:25:28.411Z"
   },
   {
    "duration": 153,
    "start_time": "2024-03-17T13:25:28.573Z"
   },
   {
    "duration": 1188,
    "start_time": "2024-03-17T13:25:28.728Z"
   },
   {
    "duration": 147,
    "start_time": "2024-03-17T13:25:29.918Z"
   },
   {
    "duration": 151,
    "start_time": "2024-03-17T13:25:30.066Z"
   },
   {
    "duration": 123,
    "start_time": "2024-03-17T13:25:30.218Z"
   },
   {
    "duration": 149,
    "start_time": "2024-03-17T13:25:30.344Z"
   },
   {
    "duration": 162,
    "start_time": "2024-03-17T13:25:30.495Z"
   },
   {
    "duration": 246,
    "start_time": "2024-03-17T13:25:30.658Z"
   },
   {
    "duration": 162,
    "start_time": "2024-03-17T13:25:30.906Z"
   },
   {
    "duration": 9,
    "start_time": "2024-03-17T13:25:31.069Z"
   },
   {
    "duration": 232,
    "start_time": "2024-03-17T13:25:31.080Z"
   },
   {
    "duration": 202,
    "start_time": "2024-03-17T13:25:31.314Z"
   },
   {
    "duration": 191,
    "start_time": "2024-03-17T13:25:31.518Z"
   },
   {
    "duration": 194,
    "start_time": "2024-03-17T13:25:31.710Z"
   },
   {
    "duration": 116,
    "start_time": "2024-03-17T13:25:31.905Z"
   },
   {
    "duration": 298,
    "start_time": "2024-03-17T13:25:32.022Z"
   },
   {
    "duration": 164,
    "start_time": "2024-03-17T13:25:32.322Z"
   },
   {
    "duration": 239,
    "start_time": "2024-03-17T13:25:32.487Z"
   },
   {
    "duration": 45,
    "start_time": "2024-03-17T13:30:10.973Z"
   },
   {
    "duration": 169,
    "start_time": "2024-03-17T13:31:07.505Z"
   },
   {
    "duration": 169,
    "start_time": "2024-03-17T13:31:18.766Z"
   },
   {
    "duration": 151,
    "start_time": "2024-03-17T13:31:58.200Z"
   },
   {
    "duration": 9,
    "start_time": "2024-03-17T13:34:31.946Z"
   },
   {
    "duration": 11,
    "start_time": "2024-03-17T13:43:07.894Z"
   },
   {
    "duration": 8,
    "start_time": "2024-03-17T13:43:13.732Z"
   },
   {
    "duration": 8,
    "start_time": "2024-03-17T13:43:15.830Z"
   },
   {
    "duration": 15,
    "start_time": "2024-03-17T13:44:10.109Z"
   },
   {
    "duration": 22,
    "start_time": "2024-03-17T13:44:16.978Z"
   },
   {
    "duration": 565,
    "start_time": "2024-03-17T13:44:48.377Z"
   },
   {
    "duration": 91,
    "start_time": "2024-03-17T13:44:48.944Z"
   },
   {
    "duration": 28,
    "start_time": "2024-03-17T13:44:49.037Z"
   },
   {
    "duration": 42,
    "start_time": "2024-03-17T13:44:49.066Z"
   },
   {
    "duration": 13,
    "start_time": "2024-03-17T13:44:49.109Z"
   },
   {
    "duration": 2,
    "start_time": "2024-03-17T13:44:49.144Z"
   },
   {
    "duration": 2636,
    "start_time": "2024-03-17T13:44:49.147Z"
   },
   {
    "duration": 9,
    "start_time": "2024-03-17T13:44:51.784Z"
   },
   {
    "duration": 51,
    "start_time": "2024-03-17T13:44:51.794Z"
   },
   {
    "duration": 115,
    "start_time": "2024-03-17T13:44:51.846Z"
   },
   {
    "duration": 96,
    "start_time": "2024-03-17T13:44:51.962Z"
   },
   {
    "duration": 8,
    "start_time": "2024-03-17T13:44:52.059Z"
   },
   {
    "duration": 8,
    "start_time": "2024-03-17T13:44:52.068Z"
   },
   {
    "duration": 98,
    "start_time": "2024-03-17T13:44:52.078Z"
   },
   {
    "duration": 11,
    "start_time": "2024-03-17T13:44:52.177Z"
   },
   {
    "duration": 63,
    "start_time": "2024-03-17T13:44:52.189Z"
   },
   {
    "duration": 42,
    "start_time": "2024-03-17T13:44:52.253Z"
   },
   {
    "duration": 42,
    "start_time": "2024-03-17T13:44:52.345Z"
   },
   {
    "duration": 111,
    "start_time": "2024-03-17T13:44:52.389Z"
   },
   {
    "duration": 9,
    "start_time": "2024-03-17T13:44:52.501Z"
   },
   {
    "duration": 22,
    "start_time": "2024-03-17T13:44:52.511Z"
   },
   {
    "duration": 34,
    "start_time": "2024-03-17T13:44:52.534Z"
   },
   {
    "duration": 60,
    "start_time": "2024-03-17T13:44:52.570Z"
   },
   {
    "duration": 8,
    "start_time": "2024-03-17T13:44:52.632Z"
   },
   {
    "duration": 17,
    "start_time": "2024-03-17T13:44:52.642Z"
   },
   {
    "duration": 5,
    "start_time": "2024-03-17T13:44:52.660Z"
   },
   {
    "duration": 12,
    "start_time": "2024-03-17T13:44:52.666Z"
   },
   {
    "duration": 8,
    "start_time": "2024-03-17T13:44:52.679Z"
   },
   {
    "duration": 36,
    "start_time": "2024-03-17T13:44:52.688Z"
   },
   {
    "duration": 23,
    "start_time": "2024-03-17T13:44:52.725Z"
   },
   {
    "duration": 28,
    "start_time": "2024-03-17T13:44:52.749Z"
   },
   {
    "duration": 9,
    "start_time": "2024-03-17T13:44:52.778Z"
   },
   {
    "duration": 10,
    "start_time": "2024-03-17T13:44:52.789Z"
   },
   {
    "duration": 16,
    "start_time": "2024-03-17T13:44:52.800Z"
   },
   {
    "duration": 22,
    "start_time": "2024-03-17T13:44:52.818Z"
   },
   {
    "duration": 24,
    "start_time": "2024-03-17T13:44:52.841Z"
   },
   {
    "duration": 6,
    "start_time": "2024-03-17T13:44:52.866Z"
   },
   {
    "duration": 77,
    "start_time": "2024-03-17T13:44:52.873Z"
   },
   {
    "duration": 2,
    "start_time": "2024-03-17T13:44:52.951Z"
   },
   {
    "duration": 21,
    "start_time": "2024-03-17T13:44:52.955Z"
   },
   {
    "duration": 415,
    "start_time": "2024-03-17T13:44:52.981Z"
   },
   {
    "duration": 172,
    "start_time": "2024-03-17T13:44:53.397Z"
   },
   {
    "duration": 159,
    "start_time": "2024-03-17T13:44:53.570Z"
   },
   {
    "duration": 174,
    "start_time": "2024-03-17T13:44:53.730Z"
   },
   {
    "duration": 1261,
    "start_time": "2024-03-17T13:44:53.906Z"
   },
   {
    "duration": 145,
    "start_time": "2024-03-17T13:44:55.168Z"
   },
   {
    "duration": 155,
    "start_time": "2024-03-17T13:44:55.314Z"
   },
   {
    "duration": 129,
    "start_time": "2024-03-17T13:44:55.470Z"
   },
   {
    "duration": 149,
    "start_time": "2024-03-17T13:44:55.600Z"
   },
   {
    "duration": 167,
    "start_time": "2024-03-17T13:44:55.751Z"
   },
   {
    "duration": 269,
    "start_time": "2024-03-17T13:44:55.920Z"
   },
   {
    "duration": 178,
    "start_time": "2024-03-17T13:44:56.190Z"
   },
   {
    "duration": 8,
    "start_time": "2024-03-17T13:44:56.369Z"
   },
   {
    "duration": 185,
    "start_time": "2024-03-17T13:44:56.379Z"
   },
   {
    "duration": 189,
    "start_time": "2024-03-17T13:44:56.565Z"
   },
   {
    "duration": 173,
    "start_time": "2024-03-17T13:44:56.755Z"
   },
   {
    "duration": 189,
    "start_time": "2024-03-17T13:44:56.930Z"
   },
   {
    "duration": 131,
    "start_time": "2024-03-17T13:44:57.120Z"
   },
   {
    "duration": 320,
    "start_time": "2024-03-17T13:44:57.253Z"
   },
   {
    "duration": 198,
    "start_time": "2024-03-17T13:44:57.576Z"
   },
   {
    "duration": 237,
    "start_time": "2024-03-17T13:44:57.776Z"
   },
   {
    "duration": 214,
    "start_time": "2024-03-17T13:45:51.804Z"
   },
   {
    "duration": 146,
    "start_time": "2024-03-17T13:45:54.991Z"
   },
   {
    "duration": 155,
    "start_time": "2024-03-17T13:45:58.382Z"
   },
   {
    "duration": 1215,
    "start_time": "2024-03-17T13:46:00.714Z"
   },
   {
    "duration": 133,
    "start_time": "2024-03-17T13:46:14.870Z"
   },
   {
    "duration": 138,
    "start_time": "2024-03-17T13:46:39.511Z"
   },
   {
    "duration": 116,
    "start_time": "2024-03-17T13:46:49.616Z"
   },
   {
    "duration": 148,
    "start_time": "2024-03-17T13:46:52.621Z"
   },
   {
    "duration": 164,
    "start_time": "2024-03-17T13:46:58.255Z"
   },
   {
    "duration": 155,
    "start_time": "2024-03-17T13:47:01.579Z"
   },
   {
    "duration": 157,
    "start_time": "2024-03-17T13:47:05.889Z"
   },
   {
    "duration": 8,
    "start_time": "2024-03-17T13:47:09.158Z"
   },
   {
    "duration": 295,
    "start_time": "2024-03-17T13:47:13.363Z"
   },
   {
    "duration": 212,
    "start_time": "2024-03-17T13:47:17.575Z"
   },
   {
    "duration": 171,
    "start_time": "2024-03-17T13:47:21.063Z"
   },
   {
    "duration": 175,
    "start_time": "2024-03-17T13:47:24.654Z"
   },
   {
    "duration": 117,
    "start_time": "2024-03-17T13:47:52.706Z"
   },
   {
    "duration": 233,
    "start_time": "2024-03-17T13:47:56.037Z"
   },
   {
    "duration": 159,
    "start_time": "2024-03-17T13:55:39.283Z"
   },
   {
    "duration": 224,
    "start_time": "2024-03-17T13:55:44.539Z"
   },
   {
    "duration": 162,
    "start_time": "2024-03-17T13:58:43.546Z"
   },
   {
    "duration": 1332,
    "start_time": "2024-03-17T14:01:33.210Z"
   },
   {
    "duration": 3,
    "start_time": "2024-03-17T14:03:43.114Z"
   },
   {
    "duration": 69,
    "start_time": "2024-03-17T14:22:27.192Z"
   },
   {
    "duration": 586,
    "start_time": "2024-03-17T14:26:33.243Z"
   },
   {
    "duration": 91,
    "start_time": "2024-03-17T14:26:33.831Z"
   },
   {
    "duration": 36,
    "start_time": "2024-03-17T14:26:33.923Z"
   },
   {
    "duration": 43,
    "start_time": "2024-03-17T14:26:33.962Z"
   },
   {
    "duration": 13,
    "start_time": "2024-03-17T14:26:34.006Z"
   },
   {
    "duration": 33,
    "start_time": "2024-03-17T14:26:34.021Z"
   },
   {
    "duration": 2238,
    "start_time": "2024-03-17T14:26:34.056Z"
   },
   {
    "duration": 49,
    "start_time": "2024-03-17T14:26:36.296Z"
   },
   {
    "duration": 3,
    "start_time": "2024-03-17T14:26:36.346Z"
   },
   {
    "duration": 128,
    "start_time": "2024-03-17T14:26:36.351Z"
   },
   {
    "duration": 101,
    "start_time": "2024-03-17T14:26:36.481Z"
   },
   {
    "duration": 7,
    "start_time": "2024-03-17T14:26:36.583Z"
   },
   {
    "duration": 60,
    "start_time": "2024-03-17T14:26:36.592Z"
   },
   {
    "duration": 93,
    "start_time": "2024-03-17T14:26:36.653Z"
   },
   {
    "duration": 7,
    "start_time": "2024-03-17T14:26:36.748Z"
   },
   {
    "duration": 14,
    "start_time": "2024-03-17T14:26:36.757Z"
   },
   {
    "duration": 92,
    "start_time": "2024-03-17T14:26:36.773Z"
   },
   {
    "duration": 92,
    "start_time": "2024-03-17T14:26:36.866Z"
   },
   {
    "duration": 201,
    "start_time": "2024-03-17T14:26:36.959Z"
   },
   {
    "duration": 10,
    "start_time": "2024-03-17T14:26:37.162Z"
   },
   {
    "duration": 8,
    "start_time": "2024-03-17T14:26:37.173Z"
   },
   {
    "duration": 65,
    "start_time": "2024-03-17T14:26:37.183Z"
   },
   {
    "duration": 41,
    "start_time": "2024-03-17T14:26:37.249Z"
   },
   {
    "duration": 7,
    "start_time": "2024-03-17T14:26:37.292Z"
   },
   {
    "duration": 8,
    "start_time": "2024-03-17T14:26:37.301Z"
   },
   {
    "duration": 35,
    "start_time": "2024-03-17T14:26:37.311Z"
   },
   {
    "duration": 6,
    "start_time": "2024-03-17T14:26:37.347Z"
   },
   {
    "duration": 11,
    "start_time": "2024-03-17T14:26:37.356Z"
   },
   {
    "duration": 8,
    "start_time": "2024-03-17T14:26:37.369Z"
   },
   {
    "duration": 17,
    "start_time": "2024-03-17T14:26:37.378Z"
   },
   {
    "duration": 8,
    "start_time": "2024-03-17T14:26:37.396Z"
   },
   {
    "duration": 8,
    "start_time": "2024-03-17T14:26:37.405Z"
   },
   {
    "duration": 6,
    "start_time": "2024-03-17T14:26:37.414Z"
   },
   {
    "duration": 8,
    "start_time": "2024-03-17T14:26:37.445Z"
   },
   {
    "duration": 12,
    "start_time": "2024-03-17T14:26:37.454Z"
   },
   {
    "duration": 18,
    "start_time": "2024-03-17T14:26:37.467Z"
   },
   {
    "duration": 5,
    "start_time": "2024-03-17T14:26:37.486Z"
   },
   {
    "duration": 104,
    "start_time": "2024-03-17T14:26:37.492Z"
   },
   {
    "duration": 2,
    "start_time": "2024-03-17T14:26:37.598Z"
   },
   {
    "duration": 12,
    "start_time": "2024-03-17T14:26:37.601Z"
   },
   {
    "duration": 471,
    "start_time": "2024-03-17T14:26:37.614Z"
   },
   {
    "duration": 159,
    "start_time": "2024-03-17T14:26:38.087Z"
   },
   {
    "duration": 155,
    "start_time": "2024-03-17T14:26:38.248Z"
   },
   {
    "duration": 161,
    "start_time": "2024-03-17T14:26:38.404Z"
   },
   {
    "duration": 1228,
    "start_time": "2024-03-17T14:26:38.566Z"
   },
   {
    "duration": 146,
    "start_time": "2024-03-17T14:26:39.795Z"
   },
   {
    "duration": 150,
    "start_time": "2024-03-17T14:26:39.942Z"
   },
   {
    "duration": 124,
    "start_time": "2024-03-17T14:26:40.094Z"
   },
   {
    "duration": 162,
    "start_time": "2024-03-17T14:26:40.220Z"
   },
   {
    "duration": 214,
    "start_time": "2024-03-17T14:26:40.384Z"
   },
   {
    "duration": 247,
    "start_time": "2024-03-17T14:26:40.600Z"
   },
   {
    "duration": 160,
    "start_time": "2024-03-17T14:26:40.849Z"
   },
   {
    "duration": 9,
    "start_time": "2024-03-17T14:26:41.010Z"
   },
   {
    "duration": 190,
    "start_time": "2024-03-17T14:26:41.021Z"
   },
   {
    "duration": 192,
    "start_time": "2024-03-17T14:26:41.213Z"
   },
   {
    "duration": 190,
    "start_time": "2024-03-17T14:26:41.407Z"
   },
   {
    "duration": 191,
    "start_time": "2024-03-17T14:26:41.599Z"
   },
   {
    "duration": 123,
    "start_time": "2024-03-17T14:26:41.791Z"
   },
   {
    "duration": 295,
    "start_time": "2024-03-17T14:26:41.916Z"
   },
   {
    "duration": 165,
    "start_time": "2024-03-17T14:26:42.213Z"
   },
   {
    "duration": 226,
    "start_time": "2024-03-17T14:26:42.379Z"
   },
   {
    "duration": 1278,
    "start_time": "2024-03-17T14:27:11.532Z"
   },
   {
    "duration": 1248,
    "start_time": "2024-03-17T14:27:18.911Z"
   },
   {
    "duration": 598,
    "start_time": "2024-03-17T14:27:29.432Z"
   },
   {
    "duration": 94,
    "start_time": "2024-03-17T14:27:30.031Z"
   },
   {
    "duration": 29,
    "start_time": "2024-03-17T14:27:30.127Z"
   },
   {
    "duration": 62,
    "start_time": "2024-03-17T14:27:30.158Z"
   },
   {
    "duration": 15,
    "start_time": "2024-03-17T14:27:30.222Z"
   },
   {
    "duration": 33,
    "start_time": "2024-03-17T14:27:30.238Z"
   },
   {
    "duration": 2806,
    "start_time": "2024-03-17T14:27:30.272Z"
   },
   {
    "duration": 8,
    "start_time": "2024-03-17T14:27:33.080Z"
   },
   {
    "duration": 6,
    "start_time": "2024-03-17T14:27:33.089Z"
   },
   {
    "duration": 101,
    "start_time": "2024-03-17T14:27:33.096Z"
   },
   {
    "duration": 54,
    "start_time": "2024-03-17T14:27:33.198Z"
   },
   {
    "duration": 7,
    "start_time": "2024-03-17T14:27:33.253Z"
   },
   {
    "duration": 7,
    "start_time": "2024-03-17T14:27:33.262Z"
   },
   {
    "duration": 41,
    "start_time": "2024-03-17T14:27:33.271Z"
   },
   {
    "duration": 36,
    "start_time": "2024-03-17T14:27:33.314Z"
   },
   {
    "duration": 13,
    "start_time": "2024-03-17T14:27:33.351Z"
   },
   {
    "duration": 40,
    "start_time": "2024-03-17T14:27:33.366Z"
   },
   {
    "duration": 59,
    "start_time": "2024-03-17T14:27:33.407Z"
   },
   {
    "duration": 106,
    "start_time": "2024-03-17T14:27:33.468Z"
   },
   {
    "duration": 8,
    "start_time": "2024-03-17T14:27:33.576Z"
   },
   {
    "duration": 7,
    "start_time": "2024-03-17T14:27:33.585Z"
   },
   {
    "duration": 6,
    "start_time": "2024-03-17T14:27:33.594Z"
   },
   {
    "duration": 68,
    "start_time": "2024-03-17T14:27:33.601Z"
   },
   {
    "duration": 7,
    "start_time": "2024-03-17T14:27:33.670Z"
   },
   {
    "duration": 7,
    "start_time": "2024-03-17T14:27:33.679Z"
   },
   {
    "duration": 12,
    "start_time": "2024-03-17T14:27:33.687Z"
   },
   {
    "duration": 7,
    "start_time": "2024-03-17T14:27:33.700Z"
   },
   {
    "duration": 5,
    "start_time": "2024-03-17T14:27:33.708Z"
   },
   {
    "duration": 32,
    "start_time": "2024-03-17T14:27:33.714Z"
   },
   {
    "duration": 8,
    "start_time": "2024-03-17T14:27:33.748Z"
   },
   {
    "duration": 8,
    "start_time": "2024-03-17T14:27:33.757Z"
   },
   {
    "duration": 18,
    "start_time": "2024-03-17T14:27:33.766Z"
   },
   {
    "duration": 6,
    "start_time": "2024-03-17T14:27:33.785Z"
   },
   {
    "duration": 13,
    "start_time": "2024-03-17T14:27:33.793Z"
   },
   {
    "duration": 38,
    "start_time": "2024-03-17T14:27:33.808Z"
   },
   {
    "duration": 18,
    "start_time": "2024-03-17T14:27:33.847Z"
   },
   {
    "duration": 5,
    "start_time": "2024-03-17T14:27:33.866Z"
   },
   {
    "duration": 87,
    "start_time": "2024-03-17T14:27:33.872Z"
   },
   {
    "duration": 2,
    "start_time": "2024-03-17T14:27:33.960Z"
   },
   {
    "duration": 4,
    "start_time": "2024-03-17T14:27:33.964Z"
   },
   {
    "duration": 423,
    "start_time": "2024-03-17T14:27:33.971Z"
   },
   {
    "duration": 159,
    "start_time": "2024-03-17T14:27:34.396Z"
   },
   {
    "duration": 173,
    "start_time": "2024-03-17T14:27:34.556Z"
   },
   {
    "duration": 155,
    "start_time": "2024-03-17T14:27:34.731Z"
   },
   {
    "duration": 1195,
    "start_time": "2024-03-17T14:27:34.888Z"
   },
   {
    "duration": 149,
    "start_time": "2024-03-17T14:27:36.085Z"
   },
   {
    "duration": 149,
    "start_time": "2024-03-17T14:27:36.235Z"
   },
   {
    "duration": 119,
    "start_time": "2024-03-17T14:27:36.386Z"
   },
   {
    "duration": 147,
    "start_time": "2024-03-17T14:27:36.506Z"
   },
   {
    "duration": 156,
    "start_time": "2024-03-17T14:27:36.654Z"
   },
   {
    "duration": 263,
    "start_time": "2024-03-17T14:27:36.811Z"
   },
   {
    "duration": 190,
    "start_time": "2024-03-17T14:27:37.076Z"
   },
   {
    "duration": 8,
    "start_time": "2024-03-17T14:27:37.268Z"
   },
   {
    "duration": 192,
    "start_time": "2024-03-17T14:27:37.277Z"
   },
   {
    "duration": 200,
    "start_time": "2024-03-17T14:27:37.471Z"
   },
   {
    "duration": 183,
    "start_time": "2024-03-17T14:27:37.673Z"
   },
   {
    "duration": 189,
    "start_time": "2024-03-17T14:27:37.857Z"
   },
   {
    "duration": 121,
    "start_time": "2024-03-17T14:27:38.048Z"
   },
   {
    "duration": 307,
    "start_time": "2024-03-17T14:27:38.170Z"
   },
   {
    "duration": 172,
    "start_time": "2024-03-17T14:27:38.479Z"
   },
   {
    "duration": 229,
    "start_time": "2024-03-17T14:27:38.653Z"
   },
   {
    "duration": 69,
    "start_time": "2024-03-17T14:29:46.680Z"
   },
   {
    "duration": 661,
    "start_time": "2024-03-17T17:32:38.797Z"
   },
   {
    "duration": 98,
    "start_time": "2024-03-17T17:32:39.459Z"
   },
   {
    "duration": 34,
    "start_time": "2024-03-17T17:32:39.559Z"
   },
   {
    "duration": 66,
    "start_time": "2024-03-17T17:32:39.595Z"
   },
   {
    "duration": 15,
    "start_time": "2024-03-17T17:32:39.663Z"
   },
   {
    "duration": 7,
    "start_time": "2024-03-17T17:32:39.679Z"
   },
   {
    "duration": 2395,
    "start_time": "2024-03-17T17:32:39.688Z"
   },
   {
    "duration": 13,
    "start_time": "2024-03-17T17:32:42.085Z"
   },
   {
    "duration": 5,
    "start_time": "2024-03-17T17:32:42.100Z"
   },
   {
    "duration": 114,
    "start_time": "2024-03-17T17:32:42.109Z"
   },
   {
    "duration": 65,
    "start_time": "2024-03-17T17:32:42.225Z"
   },
   {
    "duration": 26,
    "start_time": "2024-03-17T17:32:42.292Z"
   },
   {
    "duration": 12,
    "start_time": "2024-03-17T17:32:42.322Z"
   },
   {
    "duration": 50,
    "start_time": "2024-03-17T17:32:42.336Z"
   },
   {
    "duration": 30,
    "start_time": "2024-03-17T17:32:42.388Z"
   },
   {
    "duration": 11,
    "start_time": "2024-03-17T17:32:42.420Z"
   },
   {
    "duration": 63,
    "start_time": "2024-03-17T17:32:42.433Z"
   },
   {
    "duration": 79,
    "start_time": "2024-03-17T17:32:42.498Z"
   },
   {
    "duration": 133,
    "start_time": "2024-03-17T17:32:42.579Z"
   },
   {
    "duration": 12,
    "start_time": "2024-03-17T17:32:42.713Z"
   },
   {
    "duration": 8,
    "start_time": "2024-03-17T17:32:42.727Z"
   },
   {
    "duration": 10,
    "start_time": "2024-03-17T17:32:42.737Z"
   },
   {
    "duration": 41,
    "start_time": "2024-03-17T17:32:42.748Z"
   },
   {
    "duration": 28,
    "start_time": "2024-03-17T17:32:42.791Z"
   },
   {
    "duration": 9,
    "start_time": "2024-03-17T17:32:42.820Z"
   },
   {
    "duration": 4,
    "start_time": "2024-03-17T17:32:42.830Z"
   },
   {
    "duration": 7,
    "start_time": "2024-03-17T17:32:42.836Z"
   },
   {
    "duration": 4,
    "start_time": "2024-03-17T17:32:42.847Z"
   },
   {
    "duration": 9,
    "start_time": "2024-03-17T17:32:42.852Z"
   },
   {
    "duration": 11,
    "start_time": "2024-03-17T17:32:42.863Z"
   },
   {
    "duration": 50,
    "start_time": "2024-03-17T17:32:42.876Z"
   },
   {
    "duration": 10,
    "start_time": "2024-03-17T17:32:42.928Z"
   },
   {
    "duration": 8,
    "start_time": "2024-03-17T17:32:42.940Z"
   },
   {
    "duration": 9,
    "start_time": "2024-03-17T17:32:42.950Z"
   },
   {
    "duration": 13,
    "start_time": "2024-03-17T17:32:42.960Z"
   },
   {
    "duration": 50,
    "start_time": "2024-03-17T17:32:42.975Z"
   },
   {
    "duration": 5,
    "start_time": "2024-03-17T17:32:43.027Z"
   },
   {
    "duration": 77,
    "start_time": "2024-03-17T17:32:43.034Z"
   },
   {
    "duration": 5,
    "start_time": "2024-03-17T17:32:43.113Z"
   },
   {
    "duration": 4,
    "start_time": "2024-03-17T17:32:43.120Z"
   },
   {
    "duration": 466,
    "start_time": "2024-03-17T17:32:43.125Z"
   },
   {
    "duration": 232,
    "start_time": "2024-03-17T17:32:43.593Z"
   },
   {
    "duration": 188,
    "start_time": "2024-03-17T17:32:43.827Z"
   },
   {
    "duration": 168,
    "start_time": "2024-03-17T17:32:44.018Z"
   },
   {
    "duration": 2077,
    "start_time": "2024-03-17T17:32:44.187Z"
   },
   {
    "duration": 149,
    "start_time": "2024-03-17T17:32:46.265Z"
   },
   {
    "duration": 159,
    "start_time": "2024-03-17T17:32:46.415Z"
   },
   {
    "duration": 154,
    "start_time": "2024-03-17T17:32:46.577Z"
   },
   {
    "duration": 177,
    "start_time": "2024-03-17T17:32:46.733Z"
   },
   {
    "duration": 167,
    "start_time": "2024-03-17T17:32:46.912Z"
   },
   {
    "duration": 266,
    "start_time": "2024-03-17T17:32:47.080Z"
   },
   {
    "duration": 180,
    "start_time": "2024-03-17T17:32:47.347Z"
   },
   {
    "duration": 11,
    "start_time": "2024-03-17T17:32:47.529Z"
   },
   {
    "duration": 206,
    "start_time": "2024-03-17T17:32:47.542Z"
   },
   {
    "duration": 213,
    "start_time": "2024-03-17T17:32:47.750Z"
   },
   {
    "duration": 193,
    "start_time": "2024-03-17T17:32:47.964Z"
   },
   {
    "duration": 225,
    "start_time": "2024-03-17T17:32:48.159Z"
   },
   {
    "duration": 155,
    "start_time": "2024-03-17T17:32:48.386Z"
   },
   {
    "duration": 334,
    "start_time": "2024-03-17T17:32:48.543Z"
   },
   {
    "duration": 187,
    "start_time": "2024-03-17T17:32:48.879Z"
   },
   {
    "duration": 260,
    "start_time": "2024-03-17T17:32:49.067Z"
   },
   {
    "duration": 643,
    "start_time": "2024-03-17T17:37:42.218Z"
   },
   {
    "duration": 91,
    "start_time": "2024-03-17T17:37:42.863Z"
   },
   {
    "duration": 39,
    "start_time": "2024-03-17T17:37:42.956Z"
   },
   {
    "duration": 57,
    "start_time": "2024-03-17T17:37:42.997Z"
   },
   {
    "duration": 14,
    "start_time": "2024-03-17T17:37:43.056Z"
   },
   {
    "duration": 7,
    "start_time": "2024-03-17T17:37:43.072Z"
   },
   {
    "duration": 2354,
    "start_time": "2024-03-17T17:37:43.081Z"
   },
   {
    "duration": 9,
    "start_time": "2024-03-17T17:37:45.436Z"
   },
   {
    "duration": 9,
    "start_time": "2024-03-17T17:37:45.447Z"
   },
   {
    "duration": 96,
    "start_time": "2024-03-17T17:37:45.458Z"
   },
   {
    "duration": 46,
    "start_time": "2024-03-17T17:37:45.556Z"
   },
   {
    "duration": 15,
    "start_time": "2024-03-17T17:37:45.603Z"
   },
   {
    "duration": 13,
    "start_time": "2024-03-17T17:37:45.619Z"
   },
   {
    "duration": 57,
    "start_time": "2024-03-17T17:37:45.633Z"
   },
   {
    "duration": 29,
    "start_time": "2024-03-17T17:37:45.692Z"
   },
   {
    "duration": 11,
    "start_time": "2024-03-17T17:37:45.723Z"
   },
   {
    "duration": 58,
    "start_time": "2024-03-17T17:37:45.736Z"
   },
   {
    "duration": 62,
    "start_time": "2024-03-17T17:37:45.795Z"
   },
   {
    "duration": 160,
    "start_time": "2024-03-17T17:37:45.859Z"
   },
   {
    "duration": 10,
    "start_time": "2024-03-17T17:37:46.020Z"
   },
   {
    "duration": 10,
    "start_time": "2024-03-17T17:37:46.031Z"
   },
   {
    "duration": 10,
    "start_time": "2024-03-17T17:37:46.043Z"
   },
   {
    "duration": 85,
    "start_time": "2024-03-17T17:37:46.055Z"
   },
   {
    "duration": 9,
    "start_time": "2024-03-17T17:37:46.142Z"
   },
   {
    "duration": 20,
    "start_time": "2024-03-17T17:37:46.152Z"
   },
   {
    "duration": 7,
    "start_time": "2024-03-17T17:37:46.173Z"
   },
   {
    "duration": 8,
    "start_time": "2024-03-17T17:37:46.181Z"
   },
   {
    "duration": 25,
    "start_time": "2024-03-17T17:37:46.193Z"
   },
   {
    "duration": 10,
    "start_time": "2024-03-17T17:37:46.219Z"
   },
   {
    "duration": 9,
    "start_time": "2024-03-17T17:37:46.231Z"
   },
   {
    "duration": 8,
    "start_time": "2024-03-17T17:37:46.241Z"
   },
   {
    "duration": 21,
    "start_time": "2024-03-17T17:37:46.250Z"
   },
   {
    "duration": 7,
    "start_time": "2024-03-17T17:37:46.273Z"
   },
   {
    "duration": 40,
    "start_time": "2024-03-17T17:37:46.281Z"
   },
   {
    "duration": 18,
    "start_time": "2024-03-17T17:37:46.322Z"
   },
   {
    "duration": 27,
    "start_time": "2024-03-17T17:37:46.342Z"
   },
   {
    "duration": 6,
    "start_time": "2024-03-17T17:37:46.371Z"
   },
   {
    "duration": 95,
    "start_time": "2024-03-17T17:37:46.378Z"
   },
   {
    "duration": 2,
    "start_time": "2024-03-17T17:37:46.475Z"
   },
   {
    "duration": 11,
    "start_time": "2024-03-17T17:37:46.478Z"
   },
   {
    "duration": 467,
    "start_time": "2024-03-17T17:37:46.490Z"
   },
   {
    "duration": 170,
    "start_time": "2024-03-17T17:37:46.959Z"
   },
   {
    "duration": 176,
    "start_time": "2024-03-17T17:37:47.130Z"
   },
   {
    "duration": 212,
    "start_time": "2024-03-17T17:37:47.308Z"
   },
   {
    "duration": 1405,
    "start_time": "2024-03-17T17:37:47.521Z"
   },
   {
    "duration": 172,
    "start_time": "2024-03-17T17:37:48.928Z"
   },
   {
    "duration": 164,
    "start_time": "2024-03-17T17:37:49.101Z"
   },
   {
    "duration": 123,
    "start_time": "2024-03-17T17:37:49.267Z"
   },
   {
    "duration": 152,
    "start_time": "2024-03-17T17:37:49.392Z"
   },
   {
    "duration": 188,
    "start_time": "2024-03-17T17:37:49.546Z"
   },
   {
    "duration": 364,
    "start_time": "2024-03-17T17:37:49.736Z"
   },
   {
    "duration": 204,
    "start_time": "2024-03-17T17:37:50.102Z"
   },
   {
    "duration": 14,
    "start_time": "2024-03-17T17:37:50.308Z"
   },
   {
    "duration": 213,
    "start_time": "2024-03-17T17:37:50.324Z"
   },
   {
    "duration": 208,
    "start_time": "2024-03-17T17:37:50.539Z"
   },
   {
    "duration": 188,
    "start_time": "2024-03-17T17:37:50.749Z"
   },
   {
    "duration": 200,
    "start_time": "2024-03-17T17:37:50.938Z"
   },
   {
    "duration": 123,
    "start_time": "2024-03-17T17:37:51.139Z"
   },
   {
    "duration": 315,
    "start_time": "2024-03-17T17:37:51.264Z"
   },
   {
    "duration": 205,
    "start_time": "2024-03-17T17:37:51.581Z"
   },
   {
    "duration": 288,
    "start_time": "2024-03-17T17:37:51.788Z"
   },
   {
    "duration": 100,
    "start_time": "2024-03-17T17:37:52.077Z"
   },
   {
    "duration": 8,
    "start_time": "2024-03-17T17:38:02.038Z"
   },
   {
    "duration": 924,
    "start_time": "2024-03-18T14:05:09.990Z"
   },
   {
    "duration": 324,
    "start_time": "2024-03-18T14:05:10.917Z"
   },
   {
    "duration": 37,
    "start_time": "2024-03-18T14:05:11.242Z"
   },
   {
    "duration": 56,
    "start_time": "2024-03-18T14:05:11.281Z"
   },
   {
    "duration": 17,
    "start_time": "2024-03-18T14:05:11.339Z"
   },
   {
    "duration": 5,
    "start_time": "2024-03-18T14:05:11.358Z"
   },
   {
    "duration": 2626,
    "start_time": "2024-03-18T14:05:11.364Z"
   },
   {
    "duration": 13,
    "start_time": "2024-03-18T14:05:13.992Z"
   },
   {
    "duration": 2,
    "start_time": "2024-03-18T14:05:14.007Z"
   },
   {
    "duration": 93,
    "start_time": "2024-03-18T14:05:14.012Z"
   },
   {
    "duration": 54,
    "start_time": "2024-03-18T14:05:14.107Z"
   },
   {
    "duration": 8,
    "start_time": "2024-03-18T14:05:14.163Z"
   },
   {
    "duration": 28,
    "start_time": "2024-03-18T14:05:14.173Z"
   },
   {
    "duration": 55,
    "start_time": "2024-03-18T14:05:14.205Z"
   },
   {
    "duration": 7,
    "start_time": "2024-03-18T14:05:14.262Z"
   },
   {
    "duration": 18,
    "start_time": "2024-03-18T14:05:14.271Z"
   },
   {
    "duration": 76,
    "start_time": "2024-03-18T14:05:14.292Z"
   },
   {
    "duration": 57,
    "start_time": "2024-03-18T14:05:14.370Z"
   },
   {
    "duration": 137,
    "start_time": "2024-03-18T14:05:14.429Z"
   },
   {
    "duration": 13,
    "start_time": "2024-03-18T14:05:14.569Z"
   },
   {
    "duration": 11,
    "start_time": "2024-03-18T14:05:14.584Z"
   },
   {
    "duration": 32,
    "start_time": "2024-03-18T14:05:14.597Z"
   },
   {
    "duration": 58,
    "start_time": "2024-03-18T14:05:14.630Z"
   },
   {
    "duration": 9,
    "start_time": "2024-03-18T14:05:14.690Z"
   },
   {
    "duration": 9,
    "start_time": "2024-03-18T14:05:14.724Z"
   },
   {
    "duration": 18,
    "start_time": "2024-03-18T14:05:14.735Z"
   },
   {
    "duration": 7,
    "start_time": "2024-03-18T14:05:14.755Z"
   },
   {
    "duration": 11,
    "start_time": "2024-03-18T14:05:14.764Z"
   },
   {
    "duration": 25,
    "start_time": "2024-03-18T14:05:14.777Z"
   },
   {
    "duration": 34,
    "start_time": "2024-03-18T14:05:14.804Z"
   },
   {
    "duration": 13,
    "start_time": "2024-03-18T14:05:14.840Z"
   },
   {
    "duration": 34,
    "start_time": "2024-03-18T14:05:14.854Z"
   },
   {
    "duration": 25,
    "start_time": "2024-03-18T14:05:14.890Z"
   },
   {
    "duration": 33,
    "start_time": "2024-03-18T14:05:14.917Z"
   },
   {
    "duration": 27,
    "start_time": "2024-03-18T14:05:14.952Z"
   },
   {
    "duration": 23,
    "start_time": "2024-03-18T14:05:14.981Z"
   },
   {
    "duration": 62,
    "start_time": "2024-03-18T14:05:15.006Z"
   },
   {
    "duration": 98,
    "start_time": "2024-03-18T14:05:15.070Z"
   },
   {
    "duration": 4,
    "start_time": "2024-03-18T14:05:15.170Z"
   },
   {
    "duration": 64,
    "start_time": "2024-03-18T14:05:15.176Z"
   },
   {
    "duration": 543,
    "start_time": "2024-03-18T14:05:15.246Z"
   },
   {
    "duration": 213,
    "start_time": "2024-03-18T14:05:15.791Z"
   },
   {
    "duration": 207,
    "start_time": "2024-03-18T14:05:16.007Z"
   },
   {
    "duration": 206,
    "start_time": "2024-03-18T14:05:16.216Z"
   },
   {
    "duration": 1632,
    "start_time": "2024-03-18T14:05:16.424Z"
   },
   {
    "duration": 379,
    "start_time": "2024-03-18T14:05:18.057Z"
   },
   {
    "duration": 404,
    "start_time": "2024-03-18T14:05:18.438Z"
   },
   {
    "duration": 303,
    "start_time": "2024-03-18T14:05:18.843Z"
   },
   {
    "duration": 315,
    "start_time": "2024-03-18T14:05:19.148Z"
   },
   {
    "duration": 206,
    "start_time": "2024-03-18T14:05:19.465Z"
   },
   {
    "duration": 318,
    "start_time": "2024-03-18T14:05:19.673Z"
   },
   {
    "duration": 196,
    "start_time": "2024-03-18T14:05:19.992Z"
   },
   {
    "duration": 13,
    "start_time": "2024-03-18T14:05:20.190Z"
   },
   {
    "duration": 249,
    "start_time": "2024-03-18T14:05:20.205Z"
   },
   {
    "duration": 243,
    "start_time": "2024-03-18T14:05:20.457Z"
   },
   {
    "duration": 251,
    "start_time": "2024-03-18T14:05:20.702Z"
   },
   {
    "duration": 230,
    "start_time": "2024-03-18T14:05:20.954Z"
   },
   {
    "duration": 167,
    "start_time": "2024-03-18T14:05:21.186Z"
   },
   {
    "duration": 384,
    "start_time": "2024-03-18T14:05:21.356Z"
   },
   {
    "duration": 221,
    "start_time": "2024-03-18T14:05:21.742Z"
   },
   {
    "duration": 300,
    "start_time": "2024-03-18T14:05:21.965Z"
   },
   {
    "duration": 3,
    "start_time": "2024-03-18T14:05:22.267Z"
   },
   {
    "duration": 4,
    "start_time": "2024-03-18T14:05:58.656Z"
   },
   {
    "duration": 196,
    "start_time": "2024-03-18T14:13:07.652Z"
   },
   {
    "duration": 4,
    "start_time": "2024-03-18T14:13:23.977Z"
   }
  ],
  "colab": {
   "provenance": []
  },
  "kernelspec": {
   "display_name": "Python 3 (ipykernel)",
   "language": "python",
   "name": "python3"
  },
  "language_info": {
   "codemirror_mode": {
    "name": "ipython",
    "version": 3
   },
   "file_extension": ".py",
   "mimetype": "text/x-python",
   "name": "python",
   "nbconvert_exporter": "python",
   "pygments_lexer": "ipython3",
   "version": "3.12.7"
  },
  "toc": {
   "base_numbering": 1,
   "nav_menu": {},
   "number_sections": true,
   "sideBar": true,
   "skip_h1_title": true,
   "title_cell": "Table of Contents",
   "title_sidebar": "Contents",
   "toc_cell": false,
   "toc_position": {
    "height": "calc(100% - 180px)",
    "left": "10px",
    "top": "150px",
    "width": "165px"
   },
   "toc_section_display": true,
   "toc_window_display": true
  }
 },
 "nbformat": 4,
 "nbformat_minor": 4
}
