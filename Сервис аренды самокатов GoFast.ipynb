{
 "cells": [
  {
   "cell_type": "markdown",
   "id": "e67a7ae2",
   "metadata": {},
   "source": [
    " # Сервис аренды самокатов GoFast"
   ]
  },
  {
   "cell_type": "markdown",
   "id": "356166af",
   "metadata": {},
   "source": [
    "Для работы были получены данные сервиса аренды самокатов GoFast.  \n",
    "\n",
    "Чтобы совершать поездки по городу, пользователи сервиса GoFast пользуются мобильным приложением. В нем можно совершать поездки без подписки или с подпиской:  \n",
    "1.без подписки  \n",
    "  * абонентская плата отсутствует;  \n",
    "  * стоимость одной минуты поездки — 8 рублей;  \n",
    "  * стоимость старта (начала поездки) — 50 рублей;  \n",
    "  \n",
    "2.с подпиской Ultra  \n",
    "  * абонентская плата — 199 рублей в месяц;  \n",
    "  * стоимость одной минуты поездки — 6 рублей;  \n",
    "  * стоимость старта — бесплатно.  \n",
    "  \n",
    "Первым этапом посмотрим общую информацию датафреймов с данным о пользователях, подписках и поездках. Далее проверим наличие дублей, пропущенных значений и соответствие типа данных информации в столбцах.  \n",
    "\n",
    "Визуализируем информацию о городах, доле пользователей с подпиской и без нее, возраст пользователей, а так же длительность и расстояние поздок.  \n",
    "\n",
    "Посмотрим, какое расстояние за месяц проезжает каждый пользователь и сколько выручки получает компания. \n",
    "\n",
    "Так же будет проверен ряд гипотез."
   ]
  },
  {
   "cell_type": "code",
   "execution_count": 1,
   "id": "72576667",
   "metadata": {},
   "outputs": [],
   "source": [
    "import pandas as pd\n",
    "import numpy as np\n",
    "import matplotlib.pyplot as plt\n",
    "from scipy import stats as st\n",
    "from scipy.stats import poisson\n",
    "from math import factorial, exp"
   ]
  },
  {
   "cell_type": "markdown",
   "id": "c42cbe00",
   "metadata": {},
   "source": [
    "#### Шаг 1. Загрузка данных"
   ]
  },
  {
   "cell_type": "code",
   "execution_count": 2,
   "id": "eff9f206",
   "metadata": {},
   "outputs": [],
   "source": [
    "try:\n",
    "    data_users = pd.read_csv('/datasets/users_go.csv')\n",
    "    data_rides = pd.read_csv('/datasets/rides_go.csv')\n",
    "    data_subs = pd.read_csv('/datasets/subscriptions_go.csv')\n",
    "except:\n",
    "    data_users = pd.read_csv('https://code.s3.yandex.net/datasets/users_go.csv')\n",
    "    data_rides = pd.read_csv('https://code.s3.yandex.net//datasets/rides_go.csv')\n",
    "    data_subs = pd.read_csv('https://code.s3.yandex.net/datasets/subscriptions_go.csv')"
   ]
  },
  {
   "cell_type": "markdown",
   "id": "7b39490d",
   "metadata": {},
   "source": [
    "**Посмотрим данные датафрейма \"Пользователи\"**"
   ]
  },
  {
   "cell_type": "code",
   "execution_count": 3,
   "id": "740ab982",
   "metadata": {},
   "outputs": [
    {
     "data": {
      "text/html": [
       "<div>\n",
       "<style scoped>\n",
       "    .dataframe tbody tr th:only-of-type {\n",
       "        vertical-align: middle;\n",
       "    }\n",
       "\n",
       "    .dataframe tbody tr th {\n",
       "        vertical-align: top;\n",
       "    }\n",
       "\n",
       "    .dataframe thead th {\n",
       "        text-align: right;\n",
       "    }\n",
       "</style>\n",
       "<table border=\"1\" class=\"dataframe\">\n",
       "  <thead>\n",
       "    <tr style=\"text-align: right;\">\n",
       "      <th></th>\n",
       "      <th>user_id</th>\n",
       "      <th>name</th>\n",
       "      <th>age</th>\n",
       "      <th>city</th>\n",
       "      <th>subscription_type</th>\n",
       "    </tr>\n",
       "  </thead>\n",
       "  <tbody>\n",
       "    <tr>\n",
       "      <th>0</th>\n",
       "      <td>1</td>\n",
       "      <td>Кира</td>\n",
       "      <td>22</td>\n",
       "      <td>Тюмень</td>\n",
       "      <td>ultra</td>\n",
       "    </tr>\n",
       "    <tr>\n",
       "      <th>1</th>\n",
       "      <td>2</td>\n",
       "      <td>Станислав</td>\n",
       "      <td>31</td>\n",
       "      <td>Омск</td>\n",
       "      <td>ultra</td>\n",
       "    </tr>\n",
       "    <tr>\n",
       "      <th>2</th>\n",
       "      <td>3</td>\n",
       "      <td>Алексей</td>\n",
       "      <td>20</td>\n",
       "      <td>Москва</td>\n",
       "      <td>ultra</td>\n",
       "    </tr>\n",
       "    <tr>\n",
       "      <th>3</th>\n",
       "      <td>4</td>\n",
       "      <td>Константин</td>\n",
       "      <td>26</td>\n",
       "      <td>Ростов-на-Дону</td>\n",
       "      <td>ultra</td>\n",
       "    </tr>\n",
       "    <tr>\n",
       "      <th>4</th>\n",
       "      <td>5</td>\n",
       "      <td>Адель</td>\n",
       "      <td>28</td>\n",
       "      <td>Омск</td>\n",
       "      <td>ultra</td>\n",
       "    </tr>\n",
       "  </tbody>\n",
       "</table>\n",
       "</div>"
      ],
      "text/plain": [
       "   user_id        name  age            city subscription_type\n",
       "0        1        Кира   22          Тюмень             ultra\n",
       "1        2   Станислав   31            Омск             ultra\n",
       "2        3     Алексей   20          Москва             ultra\n",
       "3        4  Константин   26  Ростов-на-Дону             ultra\n",
       "4        5       Адель   28            Омск             ultra"
      ]
     },
     "metadata": {},
     "output_type": "display_data"
    }
   ],
   "source": [
    "display(data_users.head())"
   ]
  },
  {
   "cell_type": "code",
   "execution_count": 4,
   "id": "a1163ac0",
   "metadata": {},
   "outputs": [
    {
     "name": "stdout",
     "output_type": "stream",
     "text": [
      "<class 'pandas.core.frame.DataFrame'>\n",
      "RangeIndex: 1565 entries, 0 to 1564\n",
      "Data columns (total 5 columns):\n",
      " #   Column             Non-Null Count  Dtype \n",
      "---  ------             --------------  ----- \n",
      " 0   user_id            1565 non-null   int64 \n",
      " 1   name               1565 non-null   object\n",
      " 2   age                1565 non-null   int64 \n",
      " 3   city               1565 non-null   object\n",
      " 4   subscription_type  1565 non-null   object\n",
      "dtypes: int64(2), object(3)\n",
      "memory usage: 61.3+ KB\n"
     ]
    }
   ],
   "source": [
    "data_users.info()"
   ]
  },
  {
   "cell_type": "markdown",
   "id": "532ee226",
   "metadata": {},
   "source": [
    "В датафрейме есть 5 столбцов со следующей информацией:  \n",
    "user_id - уникальный идентификатор пользователя  \n",
    "name - имя пользователя  \n",
    "age - возраст  \n",
    "city - город  \n",
    "subscription_type - тип подписки (free, ultra)  "
   ]
  },
  {
   "cell_type": "markdown",
   "id": "7781e9a6",
   "metadata": {},
   "source": [
    "**Посмотрим данные датафрейма \"Поездки\"**"
   ]
  },
  {
   "cell_type": "code",
   "execution_count": 5,
   "id": "8c2e6763",
   "metadata": {},
   "outputs": [
    {
     "data": {
      "text/html": [
       "<div>\n",
       "<style scoped>\n",
       "    .dataframe tbody tr th:only-of-type {\n",
       "        vertical-align: middle;\n",
       "    }\n",
       "\n",
       "    .dataframe tbody tr th {\n",
       "        vertical-align: top;\n",
       "    }\n",
       "\n",
       "    .dataframe thead th {\n",
       "        text-align: right;\n",
       "    }\n",
       "</style>\n",
       "<table border=\"1\" class=\"dataframe\">\n",
       "  <thead>\n",
       "    <tr style=\"text-align: right;\">\n",
       "      <th></th>\n",
       "      <th>user_id</th>\n",
       "      <th>distance</th>\n",
       "      <th>duration</th>\n",
       "      <th>date</th>\n",
       "    </tr>\n",
       "  </thead>\n",
       "  <tbody>\n",
       "    <tr>\n",
       "      <th>0</th>\n",
       "      <td>1</td>\n",
       "      <td>4409.919140</td>\n",
       "      <td>25.599769</td>\n",
       "      <td>2021-01-01</td>\n",
       "    </tr>\n",
       "    <tr>\n",
       "      <th>1</th>\n",
       "      <td>1</td>\n",
       "      <td>2617.592153</td>\n",
       "      <td>15.816871</td>\n",
       "      <td>2021-01-18</td>\n",
       "    </tr>\n",
       "    <tr>\n",
       "      <th>2</th>\n",
       "      <td>1</td>\n",
       "      <td>754.159807</td>\n",
       "      <td>6.232113</td>\n",
       "      <td>2021-04-20</td>\n",
       "    </tr>\n",
       "    <tr>\n",
       "      <th>3</th>\n",
       "      <td>1</td>\n",
       "      <td>2694.783254</td>\n",
       "      <td>18.511000</td>\n",
       "      <td>2021-08-11</td>\n",
       "    </tr>\n",
       "    <tr>\n",
       "      <th>4</th>\n",
       "      <td>1</td>\n",
       "      <td>4028.687306</td>\n",
       "      <td>26.265803</td>\n",
       "      <td>2021-08-28</td>\n",
       "    </tr>\n",
       "  </tbody>\n",
       "</table>\n",
       "</div>"
      ],
      "text/plain": [
       "   user_id     distance   duration        date\n",
       "0        1  4409.919140  25.599769  2021-01-01\n",
       "1        1  2617.592153  15.816871  2021-01-18\n",
       "2        1   754.159807   6.232113  2021-04-20\n",
       "3        1  2694.783254  18.511000  2021-08-11\n",
       "4        1  4028.687306  26.265803  2021-08-28"
      ]
     },
     "metadata": {},
     "output_type": "display_data"
    }
   ],
   "source": [
    "display(data_rides.head())"
   ]
  },
  {
   "cell_type": "markdown",
   "id": "40618fb7",
   "metadata": {},
   "source": [
    "Значения расстояния поездок округлим для удобства."
   ]
  },
  {
   "cell_type": "code",
   "execution_count": 50,
   "id": "1880b4d1",
   "metadata": {},
   "outputs": [
    {
     "data": {
      "text/html": [
       "<div>\n",
       "<style scoped>\n",
       "    .dataframe tbody tr th:only-of-type {\n",
       "        vertical-align: middle;\n",
       "    }\n",
       "\n",
       "    .dataframe tbody tr th {\n",
       "        vertical-align: top;\n",
       "    }\n",
       "\n",
       "    .dataframe thead th {\n",
       "        text-align: right;\n",
       "    }\n",
       "</style>\n",
       "<table border=\"1\" class=\"dataframe\">\n",
       "  <thead>\n",
       "    <tr style=\"text-align: right;\">\n",
       "      <th></th>\n",
       "      <th>user_id</th>\n",
       "      <th>distance</th>\n",
       "      <th>duration</th>\n",
       "      <th>date</th>\n",
       "      <th>month</th>\n",
       "    </tr>\n",
       "  </thead>\n",
       "  <tbody>\n",
       "    <tr>\n",
       "      <th>0</th>\n",
       "      <td>1</td>\n",
       "      <td>4410.0</td>\n",
       "      <td>25.599769</td>\n",
       "      <td>2021-01-01</td>\n",
       "      <td>1</td>\n",
       "    </tr>\n",
       "    <tr>\n",
       "      <th>1</th>\n",
       "      <td>1</td>\n",
       "      <td>2618.0</td>\n",
       "      <td>15.816871</td>\n",
       "      <td>2021-01-18</td>\n",
       "      <td>1</td>\n",
       "    </tr>\n",
       "    <tr>\n",
       "      <th>2</th>\n",
       "      <td>1</td>\n",
       "      <td>754.0</td>\n",
       "      <td>6.232113</td>\n",
       "      <td>2021-04-20</td>\n",
       "      <td>4</td>\n",
       "    </tr>\n",
       "    <tr>\n",
       "      <th>3</th>\n",
       "      <td>1</td>\n",
       "      <td>2695.0</td>\n",
       "      <td>18.511000</td>\n",
       "      <td>2021-08-11</td>\n",
       "      <td>8</td>\n",
       "    </tr>\n",
       "    <tr>\n",
       "      <th>4</th>\n",
       "      <td>1</td>\n",
       "      <td>4029.0</td>\n",
       "      <td>26.265803</td>\n",
       "      <td>2021-08-28</td>\n",
       "      <td>8</td>\n",
       "    </tr>\n",
       "  </tbody>\n",
       "</table>\n",
       "</div>"
      ],
      "text/plain": [
       "   user_id  distance   duration       date  month\n",
       "0        1    4410.0  25.599769 2021-01-01      1\n",
       "1        1    2618.0  15.816871 2021-01-18      1\n",
       "2        1     754.0   6.232113 2021-04-20      4\n",
       "3        1    2695.0  18.511000 2021-08-11      8\n",
       "4        1    4029.0  26.265803 2021-08-28      8"
      ]
     },
     "metadata": {},
     "output_type": "display_data"
    }
   ],
   "source": [
    "data_rides['distance'] = data_rides['distance'].round(0)\n",
    "display(data_rides.head())"
   ]
  },
  {
   "cell_type": "code",
   "execution_count": 6,
   "id": "341ed3fd",
   "metadata": {},
   "outputs": [
    {
     "name": "stdout",
     "output_type": "stream",
     "text": [
      "<class 'pandas.core.frame.DataFrame'>\n",
      "RangeIndex: 18068 entries, 0 to 18067\n",
      "Data columns (total 4 columns):\n",
      " #   Column    Non-Null Count  Dtype  \n",
      "---  ------    --------------  -----  \n",
      " 0   user_id   18068 non-null  int64  \n",
      " 1   distance  18068 non-null  float64\n",
      " 2   duration  18068 non-null  float64\n",
      " 3   date      18068 non-null  object \n",
      "dtypes: float64(2), int64(1), object(1)\n",
      "memory usage: 564.8+ KB\n"
     ]
    }
   ],
   "source": [
    "data_rides.info()"
   ]
  },
  {
   "cell_type": "markdown",
   "id": "eb40985c",
   "metadata": {},
   "source": [
    "user_id - уникальный идентификатор пользователя  \n",
    "distance - расстояние, которое пользователь проехал в текущей сессии (в метрах)  \n",
    "duration - продолжительность сессии (в минутах) — время с того момента, как пользователь нажал кнопку «Начать поездку» до момента, как он нажал кнопку «Завершить поездку»  \n",
    "date - дата совершения поездки  "
   ]
  },
  {
   "cell_type": "markdown",
   "id": "22932853",
   "metadata": {},
   "source": [
    "**Посмотрим данные датафрейма \"Подписки\"**"
   ]
  },
  {
   "cell_type": "code",
   "execution_count": 7,
   "id": "b92ecdc7",
   "metadata": {},
   "outputs": [
    {
     "data": {
      "text/html": [
       "<div>\n",
       "<style scoped>\n",
       "    .dataframe tbody tr th:only-of-type {\n",
       "        vertical-align: middle;\n",
       "    }\n",
       "\n",
       "    .dataframe tbody tr th {\n",
       "        vertical-align: top;\n",
       "    }\n",
       "\n",
       "    .dataframe thead th {\n",
       "        text-align: right;\n",
       "    }\n",
       "</style>\n",
       "<table border=\"1\" class=\"dataframe\">\n",
       "  <thead>\n",
       "    <tr style=\"text-align: right;\">\n",
       "      <th></th>\n",
       "      <th>subscription_type</th>\n",
       "      <th>minute_price</th>\n",
       "      <th>start_ride_price</th>\n",
       "      <th>subscription_fee</th>\n",
       "    </tr>\n",
       "  </thead>\n",
       "  <tbody>\n",
       "    <tr>\n",
       "      <th>0</th>\n",
       "      <td>free</td>\n",
       "      <td>8</td>\n",
       "      <td>50</td>\n",
       "      <td>0</td>\n",
       "    </tr>\n",
       "    <tr>\n",
       "      <th>1</th>\n",
       "      <td>ultra</td>\n",
       "      <td>6</td>\n",
       "      <td>0</td>\n",
       "      <td>199</td>\n",
       "    </tr>\n",
       "  </tbody>\n",
       "</table>\n",
       "</div>"
      ],
      "text/plain": [
       "  subscription_type  minute_price  start_ride_price  subscription_fee\n",
       "0              free             8                50                 0\n",
       "1             ultra             6                 0               199"
      ]
     },
     "metadata": {},
     "output_type": "display_data"
    }
   ],
   "source": [
    "display(data_subs.head())"
   ]
  },
  {
   "cell_type": "code",
   "execution_count": 8,
   "id": "40849639",
   "metadata": {},
   "outputs": [
    {
     "name": "stdout",
     "output_type": "stream",
     "text": [
      "<class 'pandas.core.frame.DataFrame'>\n",
      "RangeIndex: 2 entries, 0 to 1\n",
      "Data columns (total 4 columns):\n",
      " #   Column             Non-Null Count  Dtype \n",
      "---  ------             --------------  ----- \n",
      " 0   subscription_type  2 non-null      object\n",
      " 1   minute_price       2 non-null      int64 \n",
      " 2   start_ride_price   2 non-null      int64 \n",
      " 3   subscription_fee   2 non-null      int64 \n",
      "dtypes: int64(3), object(1)\n",
      "memory usage: 192.0+ bytes\n"
     ]
    }
   ],
   "source": [
    "data_subs.info()"
   ]
  },
  {
   "cell_type": "markdown",
   "id": "fac8c3a2",
   "metadata": {},
   "source": [
    "subscription_type - тип подписки  \n",
    "minute_price - стоимость одной минуты поездки по данной подписке  \n",
    "start_ride_price - стоимость начала поездки  \n",
    "subscription_fee - стоимость ежемесячного платежа  "
   ]
  },
  {
   "cell_type": "markdown",
   "id": "e95ebca7",
   "metadata": {},
   "source": [
    "#### Шаг 2. Предобработка данных"
   ]
  },
  {
   "cell_type": "markdown",
   "id": "97e57bb3",
   "metadata": {},
   "source": [
    "**2.1 Скорректируем тип данных.**  \n",
    "В столбце с датой поездки был некорректный тип данных. Исправим на корректный."
   ]
  },
  {
   "cell_type": "code",
   "execution_count": 9,
   "id": "c6c4c11f",
   "metadata": {},
   "outputs": [],
   "source": [
    "data_rides['date'] = pd.to_datetime(data_rides['date'])"
   ]
  },
  {
   "cell_type": "code",
   "execution_count": 10,
   "id": "3980ba0a",
   "metadata": {},
   "outputs": [
    {
     "name": "stdout",
     "output_type": "stream",
     "text": [
      "<class 'pandas.core.frame.DataFrame'>\n",
      "RangeIndex: 18068 entries, 0 to 18067\n",
      "Data columns (total 4 columns):\n",
      " #   Column    Non-Null Count  Dtype         \n",
      "---  ------    --------------  -----         \n",
      " 0   user_id   18068 non-null  int64         \n",
      " 1   distance  18068 non-null  float64       \n",
      " 2   duration  18068 non-null  float64       \n",
      " 3   date      18068 non-null  datetime64[ns]\n",
      "dtypes: datetime64[ns](1), float64(2), int64(1)\n",
      "memory usage: 564.8 KB\n"
     ]
    }
   ],
   "source": [
    "data_rides.info()"
   ]
  },
  {
   "cell_type": "markdown",
   "id": "7e9a75e7",
   "metadata": {},
   "source": [
    "**2.2 Создадим столбец с номером месяца.**  \n",
    "Для удобства фильтрации и анализа посмотрим период, за который получены данные и создадим столбец с номером месяца от 1 до 12."
   ]
  },
  {
   "cell_type": "code",
   "execution_count": 48,
   "id": "ae055dbd",
   "metadata": {},
   "outputs": [
    {
     "name": "stdout",
     "output_type": "stream",
     "text": [
      "Самая ранняя дата поездки: 2021-01-01\n",
      "Самая поздняя дата поездки: 2021-12-30\n"
     ]
    }
   ],
   "source": [
    "min_date = data_rides['date'].min()\n",
    "max_date = data_rides['date'].max()\n",
    "print(f\"Самая ранняя дата поездки: {min_date.strftime('%Y-%m-%d')}\")\n",
    "print(f\"Самая поздняя дата поездки: {max_date.strftime('%Y-%m-%d')}\")"
   ]
  },
  {
   "cell_type": "code",
   "execution_count": 11,
   "id": "4c6bee31",
   "metadata": {},
   "outputs": [
    {
     "data": {
      "text/html": [
       "<div>\n",
       "<style scoped>\n",
       "    .dataframe tbody tr th:only-of-type {\n",
       "        vertical-align: middle;\n",
       "    }\n",
       "\n",
       "    .dataframe tbody tr th {\n",
       "        vertical-align: top;\n",
       "    }\n",
       "\n",
       "    .dataframe thead th {\n",
       "        text-align: right;\n",
       "    }\n",
       "</style>\n",
       "<table border=\"1\" class=\"dataframe\">\n",
       "  <thead>\n",
       "    <tr style=\"text-align: right;\">\n",
       "      <th></th>\n",
       "      <th>user_id</th>\n",
       "      <th>distance</th>\n",
       "      <th>duration</th>\n",
       "      <th>date</th>\n",
       "      <th>month</th>\n",
       "    </tr>\n",
       "  </thead>\n",
       "  <tbody>\n",
       "    <tr>\n",
       "      <th>0</th>\n",
       "      <td>1</td>\n",
       "      <td>4409.919140</td>\n",
       "      <td>25.599769</td>\n",
       "      <td>2021-01-01</td>\n",
       "      <td>1</td>\n",
       "    </tr>\n",
       "    <tr>\n",
       "      <th>1</th>\n",
       "      <td>1</td>\n",
       "      <td>2617.592153</td>\n",
       "      <td>15.816871</td>\n",
       "      <td>2021-01-18</td>\n",
       "      <td>1</td>\n",
       "    </tr>\n",
       "    <tr>\n",
       "      <th>2</th>\n",
       "      <td>1</td>\n",
       "      <td>754.159807</td>\n",
       "      <td>6.232113</td>\n",
       "      <td>2021-04-20</td>\n",
       "      <td>4</td>\n",
       "    </tr>\n",
       "    <tr>\n",
       "      <th>3</th>\n",
       "      <td>1</td>\n",
       "      <td>2694.783254</td>\n",
       "      <td>18.511000</td>\n",
       "      <td>2021-08-11</td>\n",
       "      <td>8</td>\n",
       "    </tr>\n",
       "    <tr>\n",
       "      <th>4</th>\n",
       "      <td>1</td>\n",
       "      <td>4028.687306</td>\n",
       "      <td>26.265803</td>\n",
       "      <td>2021-08-28</td>\n",
       "      <td>8</td>\n",
       "    </tr>\n",
       "    <tr>\n",
       "      <th>...</th>\n",
       "      <td>...</td>\n",
       "      <td>...</td>\n",
       "      <td>...</td>\n",
       "      <td>...</td>\n",
       "      <td>...</td>\n",
       "    </tr>\n",
       "    <tr>\n",
       "      <th>18063</th>\n",
       "      <td>1534</td>\n",
       "      <td>3781.098080</td>\n",
       "      <td>19.822962</td>\n",
       "      <td>2021-11-04</td>\n",
       "      <td>11</td>\n",
       "    </tr>\n",
       "    <tr>\n",
       "      <th>18064</th>\n",
       "      <td>1534</td>\n",
       "      <td>2840.423057</td>\n",
       "      <td>21.409799</td>\n",
       "      <td>2021-11-16</td>\n",
       "      <td>11</td>\n",
       "    </tr>\n",
       "    <tr>\n",
       "      <th>18065</th>\n",
       "      <td>1534</td>\n",
       "      <td>3826.185507</td>\n",
       "      <td>18.435051</td>\n",
       "      <td>2021-11-18</td>\n",
       "      <td>11</td>\n",
       "    </tr>\n",
       "    <tr>\n",
       "      <th>18066</th>\n",
       "      <td>1534</td>\n",
       "      <td>2902.308661</td>\n",
       "      <td>16.674362</td>\n",
       "      <td>2021-11-27</td>\n",
       "      <td>11</td>\n",
       "    </tr>\n",
       "    <tr>\n",
       "      <th>18067</th>\n",
       "      <td>1534</td>\n",
       "      <td>2371.711192</td>\n",
       "      <td>15.893917</td>\n",
       "      <td>2021-12-29</td>\n",
       "      <td>12</td>\n",
       "    </tr>\n",
       "  </tbody>\n",
       "</table>\n",
       "<p>18068 rows × 5 columns</p>\n",
       "</div>"
      ],
      "text/plain": [
       "       user_id     distance   duration       date  month\n",
       "0            1  4409.919140  25.599769 2021-01-01      1\n",
       "1            1  2617.592153  15.816871 2021-01-18      1\n",
       "2            1   754.159807   6.232113 2021-04-20      4\n",
       "3            1  2694.783254  18.511000 2021-08-11      8\n",
       "4            1  4028.687306  26.265803 2021-08-28      8\n",
       "...        ...          ...        ...        ...    ...\n",
       "18063     1534  3781.098080  19.822962 2021-11-04     11\n",
       "18064     1534  2840.423057  21.409799 2021-11-16     11\n",
       "18065     1534  3826.185507  18.435051 2021-11-18     11\n",
       "18066     1534  2902.308661  16.674362 2021-11-27     11\n",
       "18067     1534  2371.711192  15.893917 2021-12-29     12\n",
       "\n",
       "[18068 rows x 5 columns]"
      ]
     },
     "metadata": {},
     "output_type": "display_data"
    }
   ],
   "source": [
    "data_rides['month'] = data_rides['date'].dt.month\n",
    "display(data_rides)"
   ]
  },
  {
   "cell_type": "markdown",
   "id": "b2da967d",
   "metadata": {},
   "source": [
    "**2.3 Проверим наличие пропущенных значений и дубликатов в датафреймах.**"
   ]
  },
  {
   "cell_type": "markdown",
   "id": "1339d2fb",
   "metadata": {},
   "source": [
    "**Пользователи.**"
   ]
  },
  {
   "cell_type": "code",
   "execution_count": 12,
   "id": "7fa664db",
   "metadata": {},
   "outputs": [
    {
     "name": "stdout",
     "output_type": "stream",
     "text": [
      "user_id              0\n",
      "name                 0\n",
      "age                  0\n",
      "city                 0\n",
      "subscription_type    0\n",
      "dtype: int64\n"
     ]
    }
   ],
   "source": [
    "print(data_users.isnull().sum())"
   ]
  },
  {
   "cell_type": "code",
   "execution_count": 13,
   "id": "94bc0e14",
   "metadata": {},
   "outputs": [
    {
     "data": {
      "text/plain": [
       "31"
      ]
     },
     "metadata": {},
     "output_type": "display_data"
    }
   ],
   "source": [
    "duplicates = data_users.duplicated()\n",
    "display(duplicates.sum())"
   ]
  },
  {
   "cell_type": "code",
   "execution_count": 14,
   "id": "22c264f9",
   "metadata": {},
   "outputs": [
    {
     "data": {
      "text/html": [
       "<div>\n",
       "<style scoped>\n",
       "    .dataframe tbody tr th:only-of-type {\n",
       "        vertical-align: middle;\n",
       "    }\n",
       "\n",
       "    .dataframe tbody tr th {\n",
       "        vertical-align: top;\n",
       "    }\n",
       "\n",
       "    .dataframe thead th {\n",
       "        text-align: right;\n",
       "    }\n",
       "</style>\n",
       "<table border=\"1\" class=\"dataframe\">\n",
       "  <thead>\n",
       "    <tr style=\"text-align: right;\">\n",
       "      <th></th>\n",
       "      <th>user_id</th>\n",
       "      <th>name</th>\n",
       "      <th>age</th>\n",
       "      <th>city</th>\n",
       "      <th>subscription_type</th>\n",
       "    </tr>\n",
       "  </thead>\n",
       "  <tbody>\n",
       "    <tr>\n",
       "      <th>0</th>\n",
       "      <td>1</td>\n",
       "      <td>Кира</td>\n",
       "      <td>22</td>\n",
       "      <td>Тюмень</td>\n",
       "      <td>ultra</td>\n",
       "    </tr>\n",
       "    <tr>\n",
       "      <th>1</th>\n",
       "      <td>2</td>\n",
       "      <td>Станислав</td>\n",
       "      <td>31</td>\n",
       "      <td>Омск</td>\n",
       "      <td>ultra</td>\n",
       "    </tr>\n",
       "    <tr>\n",
       "      <th>2</th>\n",
       "      <td>3</td>\n",
       "      <td>Алексей</td>\n",
       "      <td>20</td>\n",
       "      <td>Москва</td>\n",
       "      <td>ultra</td>\n",
       "    </tr>\n",
       "    <tr>\n",
       "      <th>3</th>\n",
       "      <td>4</td>\n",
       "      <td>Константин</td>\n",
       "      <td>26</td>\n",
       "      <td>Ростов-на-Дону</td>\n",
       "      <td>ultra</td>\n",
       "    </tr>\n",
       "    <tr>\n",
       "      <th>4</th>\n",
       "      <td>5</td>\n",
       "      <td>Адель</td>\n",
       "      <td>28</td>\n",
       "      <td>Омск</td>\n",
       "      <td>ultra</td>\n",
       "    </tr>\n",
       "    <tr>\n",
       "      <th>...</th>\n",
       "      <td>...</td>\n",
       "      <td>...</td>\n",
       "      <td>...</td>\n",
       "      <td>...</td>\n",
       "      <td>...</td>\n",
       "    </tr>\n",
       "    <tr>\n",
       "      <th>1529</th>\n",
       "      <td>1530</td>\n",
       "      <td>Ростислав</td>\n",
       "      <td>29</td>\n",
       "      <td>Сочи</td>\n",
       "      <td>free</td>\n",
       "    </tr>\n",
       "    <tr>\n",
       "      <th>1530</th>\n",
       "      <td>1531</td>\n",
       "      <td>Никита</td>\n",
       "      <td>25</td>\n",
       "      <td>Пятигорск</td>\n",
       "      <td>free</td>\n",
       "    </tr>\n",
       "    <tr>\n",
       "      <th>1531</th>\n",
       "      <td>1532</td>\n",
       "      <td>Алексей</td>\n",
       "      <td>26</td>\n",
       "      <td>Тюмень</td>\n",
       "      <td>free</td>\n",
       "    </tr>\n",
       "    <tr>\n",
       "      <th>1532</th>\n",
       "      <td>1533</td>\n",
       "      <td>Степан</td>\n",
       "      <td>22</td>\n",
       "      <td>Краснодар</td>\n",
       "      <td>free</td>\n",
       "    </tr>\n",
       "    <tr>\n",
       "      <th>1533</th>\n",
       "      <td>1534</td>\n",
       "      <td>Альберт</td>\n",
       "      <td>25</td>\n",
       "      <td>Краснодар</td>\n",
       "      <td>free</td>\n",
       "    </tr>\n",
       "  </tbody>\n",
       "</table>\n",
       "<p>1534 rows × 5 columns</p>\n",
       "</div>"
      ],
      "text/plain": [
       "      user_id        name  age            city subscription_type\n",
       "0           1        Кира   22          Тюмень             ultra\n",
       "1           2   Станислав   31            Омск             ultra\n",
       "2           3     Алексей   20          Москва             ultra\n",
       "3           4  Константин   26  Ростов-на-Дону             ultra\n",
       "4           5       Адель   28            Омск             ultra\n",
       "...       ...         ...  ...             ...               ...\n",
       "1529     1530   Ростислав   29            Сочи              free\n",
       "1530     1531      Никита   25       Пятигорск              free\n",
       "1531     1532     Алексей   26          Тюмень              free\n",
       "1532     1533      Степан   22       Краснодар              free\n",
       "1533     1534     Альберт   25       Краснодар              free\n",
       "\n",
       "[1534 rows x 5 columns]"
      ]
     },
     "metadata": {},
     "output_type": "display_data"
    }
   ],
   "source": [
    "users_duplicates = data_users.drop_duplicates()\n",
    "display(users_duplicates)"
   ]
  },
  {
   "cell_type": "markdown",
   "id": "11066c8a",
   "metadata": {},
   "source": [
    "В датафрейме с информацией о пользователях нет пропущенных значений, но есть 31 дубликат. Они были удалены."
   ]
  },
  {
   "cell_type": "markdown",
   "id": "9e6a27d3",
   "metadata": {},
   "source": [
    "**Поездки.**"
   ]
  },
  {
   "cell_type": "code",
   "execution_count": 15,
   "id": "0bd6e088",
   "metadata": {},
   "outputs": [
    {
     "name": "stdout",
     "output_type": "stream",
     "text": [
      "user_id     0\n",
      "distance    0\n",
      "duration    0\n",
      "date        0\n",
      "month       0\n",
      "dtype: int64\n"
     ]
    }
   ],
   "source": [
    "print(data_rides.isnull().sum())"
   ]
  },
  {
   "cell_type": "code",
   "execution_count": 16,
   "id": "e8f32315",
   "metadata": {},
   "outputs": [
    {
     "data": {
      "text/plain": [
       "0"
      ]
     },
     "metadata": {},
     "output_type": "display_data"
    }
   ],
   "source": [
    "duplicates = data_rides.duplicated()\n",
    "display(duplicates.sum())"
   ]
  },
  {
   "cell_type": "markdown",
   "id": "70539802",
   "metadata": {},
   "source": [
    "В датафрейме с информацией о поездках нет пропущенных значений или дубликатов."
   ]
  },
  {
   "cell_type": "markdown",
   "id": "e1e4461e",
   "metadata": {},
   "source": [
    "**Подписки.**"
   ]
  },
  {
   "cell_type": "code",
   "execution_count": 17,
   "id": "20b41b69",
   "metadata": {},
   "outputs": [
    {
     "name": "stdout",
     "output_type": "stream",
     "text": [
      "subscription_type    0\n",
      "minute_price         0\n",
      "start_ride_price     0\n",
      "subscription_fee     0\n",
      "dtype: int64\n"
     ]
    }
   ],
   "source": [
    "print(data_subs.isnull().sum())"
   ]
  },
  {
   "cell_type": "code",
   "execution_count": 18,
   "id": "a058a6ff",
   "metadata": {},
   "outputs": [
    {
     "data": {
      "text/plain": [
       "0"
      ]
     },
     "metadata": {},
     "output_type": "display_data"
    }
   ],
   "source": [
    "duplicates = data_subs.duplicated()\n",
    "display(duplicates.sum())"
   ]
  },
  {
   "cell_type": "markdown",
   "id": "551101b8",
   "metadata": {},
   "source": [
    "В датафрейме с информацией о подписках нет пропущенных значений или дубликатов."
   ]
  },
  {
   "cell_type": "markdown",
   "id": "0566fb82",
   "metadata": {},
   "source": [
    "Во время подготовки выяснено, что для анализа были получены данные пользователей аренды самокатов за 2021 год из нескольких городов России.  \n",
    "В данных нет пропущенных значений, но был 31 дубликат, которые удалены.  \n",
    "Для дальнейшего анализа есть данные о городе, возврасте, уникальном id пользователя. Данные о стоимости поездки и подписки. А так же дата поездки, ее расстояние и время."
   ]
  },
  {
   "cell_type": "markdown",
   "id": "212593c7",
   "metadata": {},
   "source": [
    "#### Шаг 3. Исследовательский анализ данных"
   ]
  },
  {
   "cell_type": "markdown",
   "id": "8747c35c",
   "metadata": {},
   "source": [
    "**3.1 Частота встречаемости городов.**"
   ]
  },
  {
   "cell_type": "code",
   "execution_count": 19,
   "id": "c2d366a2",
   "metadata": {},
   "outputs": [
    {
     "data": {
      "text/html": [
       "<div>\n",
       "<style scoped>\n",
       "    .dataframe tbody tr th:only-of-type {\n",
       "        vertical-align: middle;\n",
       "    }\n",
       "\n",
       "    .dataframe tbody tr th {\n",
       "        vertical-align: top;\n",
       "    }\n",
       "\n",
       "    .dataframe thead th {\n",
       "        text-align: right;\n",
       "    }\n",
       "</style>\n",
       "<table border=\"1\" class=\"dataframe\">\n",
       "  <thead>\n",
       "    <tr style=\"text-align: right;\">\n",
       "      <th></th>\n",
       "      <th>user_id</th>\n",
       "    </tr>\n",
       "    <tr>\n",
       "      <th>city</th>\n",
       "      <th></th>\n",
       "    </tr>\n",
       "  </thead>\n",
       "  <tbody>\n",
       "    <tr>\n",
       "      <th>Пятигорск</th>\n",
       "      <td>226</td>\n",
       "    </tr>\n",
       "    <tr>\n",
       "      <th>Екатеринбург</th>\n",
       "      <td>206</td>\n",
       "    </tr>\n",
       "    <tr>\n",
       "      <th>Ростов-на-Дону</th>\n",
       "      <td>202</td>\n",
       "    </tr>\n",
       "    <tr>\n",
       "      <th>Краснодар</th>\n",
       "      <td>196</td>\n",
       "    </tr>\n",
       "    <tr>\n",
       "      <th>Сочи</th>\n",
       "      <td>192</td>\n",
       "    </tr>\n",
       "    <tr>\n",
       "      <th>Омск</th>\n",
       "      <td>186</td>\n",
       "    </tr>\n",
       "    <tr>\n",
       "      <th>Тюмень</th>\n",
       "      <td>185</td>\n",
       "    </tr>\n",
       "    <tr>\n",
       "      <th>Москва</th>\n",
       "      <td>172</td>\n",
       "    </tr>\n",
       "  </tbody>\n",
       "</table>\n",
       "</div>"
      ],
      "text/plain": [
       "                user_id\n",
       "city                   \n",
       "Пятигорск           226\n",
       "Екатеринбург        206\n",
       "Ростов-на-Дону      202\n",
       "Краснодар           196\n",
       "Сочи                192\n",
       "Омск                186\n",
       "Тюмень              185\n",
       "Москва              172"
      ]
     },
     "metadata": {},
     "output_type": "display_data"
    }
   ],
   "source": [
    "users_city = data_users.pivot_table(index = 'city', values = 'user_id', aggfunc = 'count')\n",
    "users_city = users_city.sort_values(by='user_id', ascending = True)\n",
    "display(users_city.sort_values(by='user_id', ascending = False))"
   ]
  },
  {
   "cell_type": "markdown",
   "id": "21c7af04",
   "metadata": {},
   "source": [
    "Посмотрим график."
   ]
  },
  {
   "cell_type": "code",
   "execution_count": 20,
   "id": "2753e8f9",
   "metadata": {},
   "outputs": [
    {
     "data": {
      "image/png": "[encoded data removed]",
      "text/plain": [
       "<Figure size 720x432 with 1 Axes>"
      ]
     },
     "metadata": {
      "needs_background": "light"
     },
     "output_type": "display_data"
    }
   ],
   "source": [
    "users_city.plot(kind='bar', figsize = (10, 6), grid = True, color = 'pink')\n",
    "plt.title('Частота встречаемости городов')\n",
    "plt.xlabel('Кол-во пользователей')\n",
    "plt.ylabel('Город')\n",
    "plt.show()"
   ]
  },
  {
   "cell_type": "markdown",
   "id": "4010b0cc",
   "metadata": {},
   "source": [
    "Больше всего пользователей аренды самокатов GoFast в городе Пятигорск.  \n",
    "Наименее популярен сервис в Москве."
   ]
  },
  {
   "cell_type": "markdown",
   "id": "8ad086c0",
   "metadata": {},
   "source": [
    "**3.2 Соотношение пользователей с подпиской и без подписки.**"
   ]
  },
  {
   "cell_type": "code",
   "execution_count": 23,
   "id": "a8892d2b",
   "metadata": {},
   "outputs": [
    {
     "data": {
      "text/html": [
       "<div>\n",
       "<style scoped>\n",
       "    .dataframe tbody tr th:only-of-type {\n",
       "        vertical-align: middle;\n",
       "    }\n",
       "\n",
       "    .dataframe tbody tr th {\n",
       "        vertical-align: top;\n",
       "    }\n",
       "\n",
       "    .dataframe thead th {\n",
       "        text-align: right;\n",
       "    }\n",
       "</style>\n",
       "<table border=\"1\" class=\"dataframe\">\n",
       "  <thead>\n",
       "    <tr style=\"text-align: right;\">\n",
       "      <th></th>\n",
       "      <th>subscription_type</th>\n",
       "      <th>user_id</th>\n",
       "      <th>percentage</th>\n",
       "    </tr>\n",
       "  </thead>\n",
       "  <tbody>\n",
       "    <tr>\n",
       "      <th>0</th>\n",
       "      <td>free</td>\n",
       "      <td>846</td>\n",
       "      <td>54.057508</td>\n",
       "    </tr>\n",
       "    <tr>\n",
       "      <th>1</th>\n",
       "      <td>ultra</td>\n",
       "      <td>719</td>\n",
       "      <td>45.942492</td>\n",
       "    </tr>\n",
       "  </tbody>\n",
       "</table>\n",
       "</div>"
      ],
      "text/plain": [
       "  subscription_type  user_id  percentage\n",
       "0              free      846   54.057508\n",
       "1             ultra      719   45.942492"
      ]
     },
     "metadata": {},
     "output_type": "display_data"
    }
   ],
   "source": [
    "users_subs = data_users.pivot_table(index='subscription_type', values='user_id', aggfunc='count').reset_index()\n",
    "users_subs['percentage'] = users_subs['user_id'] / users_subs['user_id'].sum() * 100\n",
    "\n",
    "display(users_subs)"
   ]
  },
  {
   "cell_type": "code",
   "execution_count": 24,
   "id": "4f5b40b0",
   "metadata": {},
   "outputs": [
    {
     "data": {
      "image/png": "[encoded data removed]",
      "text/plain": [
       "<Figure size 720x432 with 1 Axes>"
      ]
     },
     "metadata": {
      "needs_background": "light"
     },
     "output_type": "display_data"
    }
   ],
   "source": [
    "subs_totals = users_subs['user_id'].sum()\n",
    "users_subs['user_per'] = (users_subs['user_id'] / subs_totals) * 100\n",
    "\n",
    "users_subs.plot(x='subscription_type', y='user_per', grid=True, kind='bar', figsize=(10, 6), color='pink')\n",
    "plt.title('Соотношение пользователей с типом подписки')\n",
    "plt.xlabel('Тип подписки')\n",
    "plt.ylabel('Доля пользователей (%)')\n",
    "plt.show()"
   ]
  },
  {
   "cell_type": "markdown",
   "id": "cbb3f3bd",
   "metadata": {},
   "source": [
    "Пользователей без подписки больше примерно на 8 процентов."
   ]
  },
  {
   "cell_type": "markdown",
   "id": "e5ccbcc5",
   "metadata": {},
   "source": [
    "**3.3 Возраст пользователей.**"
   ]
  },
  {
   "cell_type": "code",
   "execution_count": 25,
   "id": "d32d997f",
   "metadata": {},
   "outputs": [
    {
     "data": {
      "text/plain": [
       "count    1565.000000\n",
       "mean       24.922045\n",
       "std         4.553496\n",
       "min        12.000000\n",
       "25%        22.000000\n",
       "50%        25.000000\n",
       "75%        28.000000\n",
       "max        43.000000\n",
       "Name: age, dtype: float64"
      ]
     },
     "execution_count": 25,
     "metadata": {},
     "output_type": "execute_result"
    }
   ],
   "source": [
    "data_users['age'].describe()"
   ]
  },
  {
   "cell_type": "code",
   "execution_count": 26,
   "id": "a60b900c",
   "metadata": {},
   "outputs": [
    {
     "data": {
      "image/png": "[encoded data removed]",
      "text/plain": [
       "<Figure size 720x432 with 1 Axes>"
      ]
     },
     "metadata": {
      "needs_background": "light"
     },
     "output_type": "display_data"
    }
   ],
   "source": [
    "data_users['age'].plot(kind = 'hist', grid=True, figsize = (10, 6), bins = 30, color = 'pink')\n",
    "plt.title('Возраст пользователей')\n",
    "plt.xlabel('Возраст, в годах')\n",
    "plt.ylabel('Кол-во пользователей')\n",
    "plt.show()"
   ]
  },
  {
   "cell_type": "markdown",
   "id": "b2afec7c",
   "metadata": {},
   "source": [
    "Самые активные пользователи аренды самокатов в возврате от 22 до 27 лет.  \n",
    "Наименьший интерес к сервису у пользователей старше 35 лет.  "
   ]
  },
  {
   "cell_type": "markdown",
   "id": "f72421b9",
   "metadata": {},
   "source": [
    "**3.4 Расстояние, которое пользователь преодолел за одну поездку.**"
   ]
  },
  {
   "cell_type": "code",
   "execution_count": 27,
   "id": "edfced38",
   "metadata": {},
   "outputs": [
    {
     "data": {
      "text/plain": [
       "count    18068.000000\n",
       "mean      3070.659976\n",
       "std       1116.831209\n",
       "min          0.855683\n",
       "25%       2543.226360\n",
       "50%       3133.609994\n",
       "75%       3776.222735\n",
       "max       7211.007745\n",
       "Name: distance, dtype: float64"
      ]
     },
     "execution_count": 27,
     "metadata": {},
     "output_type": "execute_result"
    }
   ],
   "source": [
    "data_rides['distance'].describe()"
   ]
  },
  {
   "cell_type": "code",
   "execution_count": 28,
   "id": "bfd9b122",
   "metadata": {},
   "outputs": [
    {
     "data": {
      "image/png": "[encoded data removed]",
      "text/plain": [
       "<Figure size 720x432 with 1 Axes>"
      ]
     },
     "metadata": {
      "needs_background": "light"
     },
     "output_type": "display_data"
    }
   ],
   "source": [
    "data_rides['distance'].plot(kind = 'hist', grid=True, figsize = (10, 6), bins = 30, color = 'pink')\n",
    "plt.title('Расстояние за 1 поездку')\n",
    "plt.xlabel('Расстояние, в метрах')\n",
    "plt.ylabel('Кол-во пользователей')\n",
    "plt.show()"
   ]
  },
  {
   "cell_type": "markdown",
   "id": "1e4d3c41",
   "metadata": {},
   "source": [
    "Как правило, поездка занимает от 2 до 4 километров, в среднем 3 километра. За пределами этого интервала поездок в разы меньше.  \n",
    "Но некоторой популярностью пользуются поездки до 1 километра. Может быть это поездки до ближайшей станции метро или какая-либо техническая причина, по которой поездка была недолгой."
   ]
  },
  {
   "cell_type": "markdown",
   "id": "56e6fd73",
   "metadata": {},
   "source": [
    "**3.5 Продолжительность поездок.**"
   ]
  },
  {
   "cell_type": "code",
   "execution_count": 29,
   "id": "4581f61f",
   "metadata": {},
   "outputs": [
    {
     "data": {
      "text/plain": [
       "count    18068.000000\n",
       "mean        17.805011\n",
       "std          6.091051\n",
       "min          0.500000\n",
       "25%         13.597563\n",
       "50%         17.678395\n",
       "75%         21.724800\n",
       "max         40.823963\n",
       "Name: duration, dtype: float64"
      ]
     },
     "execution_count": 29,
     "metadata": {},
     "output_type": "execute_result"
    }
   ],
   "source": [
    "data_rides['duration'].describe()"
   ]
  },
  {
   "cell_type": "code",
   "execution_count": 30,
   "id": "ba26f5fe",
   "metadata": {},
   "outputs": [
    {
     "data": {
      "image/png": "[encoded data removed]",
      "text/plain": [
       "<Figure size 720x432 with 1 Axes>"
      ]
     },
     "metadata": {
      "needs_background": "light"
     },
     "output_type": "display_data"
    }
   ],
   "source": [
    "data_rides['duration'].plot(kind = 'hist', grid=True, figsize = (10, 6), bins = 30, color = 'pink')\n",
    "plt.title('Продолжительность 1 поездки')\n",
    "plt.xlabel('Время, в минутах')\n",
    "plt.ylabel('Кол-во пользователей')\n",
    "plt.show()"
   ]
  },
  {
   "cell_type": "markdown",
   "id": "baaa7177",
   "metadata": {},
   "source": [
    "Чаще всего поездка занимает от 15 до 20 минут.  \n",
    "Есть поездка менее минуты. Возможно, после начала аренды была обнаржена неисправность самоката. "
   ]
  },
  {
   "cell_type": "markdown",
   "id": "4ef51331",
   "metadata": {},
   "source": [
    "#### Шаг 4. Объединение данных"
   ]
  },
  {
   "cell_type": "markdown",
   "id": "a78007b8",
   "metadata": {},
   "source": [
    "**4.1 Объединение данных о пользователях, поездках и подписках в один датафрейм.**"
   ]
  },
  {
   "cell_type": "code",
   "execution_count": 31,
   "id": "7273d08a",
   "metadata": {},
   "outputs": [
    {
     "data": {
      "text/html": [
       "<div>\n",
       "<style scoped>\n",
       "    .dataframe tbody tr th:only-of-type {\n",
       "        vertical-align: middle;\n",
       "    }\n",
       "\n",
       "    .dataframe tbody tr th {\n",
       "        vertical-align: top;\n",
       "    }\n",
       "\n",
       "    .dataframe thead th {\n",
       "        text-align: right;\n",
       "    }\n",
       "</style>\n",
       "<table border=\"1\" class=\"dataframe\">\n",
       "  <thead>\n",
       "    <tr style=\"text-align: right;\">\n",
       "      <th></th>\n",
       "      <th>user_id</th>\n",
       "      <th>distance</th>\n",
       "      <th>duration</th>\n",
       "      <th>date</th>\n",
       "      <th>month</th>\n",
       "      <th>name</th>\n",
       "      <th>age</th>\n",
       "      <th>city</th>\n",
       "      <th>subscription_type</th>\n",
       "      <th>minute_price</th>\n",
       "      <th>start_ride_price</th>\n",
       "      <th>subscription_fee</th>\n",
       "    </tr>\n",
       "  </thead>\n",
       "  <tbody>\n",
       "    <tr>\n",
       "      <th>0</th>\n",
       "      <td>1</td>\n",
       "      <td>4409.919140</td>\n",
       "      <td>25.599769</td>\n",
       "      <td>2021-01-01</td>\n",
       "      <td>1</td>\n",
       "      <td>Кира</td>\n",
       "      <td>22</td>\n",
       "      <td>Тюмень</td>\n",
       "      <td>ultra</td>\n",
       "      <td>6</td>\n",
       "      <td>0</td>\n",
       "      <td>199</td>\n",
       "    </tr>\n",
       "    <tr>\n",
       "      <th>1</th>\n",
       "      <td>1</td>\n",
       "      <td>2617.592153</td>\n",
       "      <td>15.816871</td>\n",
       "      <td>2021-01-18</td>\n",
       "      <td>1</td>\n",
       "      <td>Кира</td>\n",
       "      <td>22</td>\n",
       "      <td>Тюмень</td>\n",
       "      <td>ultra</td>\n",
       "      <td>6</td>\n",
       "      <td>0</td>\n",
       "      <td>199</td>\n",
       "    </tr>\n",
       "    <tr>\n",
       "      <th>2</th>\n",
       "      <td>1</td>\n",
       "      <td>754.159807</td>\n",
       "      <td>6.232113</td>\n",
       "      <td>2021-04-20</td>\n",
       "      <td>4</td>\n",
       "      <td>Кира</td>\n",
       "      <td>22</td>\n",
       "      <td>Тюмень</td>\n",
       "      <td>ultra</td>\n",
       "      <td>6</td>\n",
       "      <td>0</td>\n",
       "      <td>199</td>\n",
       "    </tr>\n",
       "    <tr>\n",
       "      <th>3</th>\n",
       "      <td>1</td>\n",
       "      <td>2694.783254</td>\n",
       "      <td>18.511000</td>\n",
       "      <td>2021-08-11</td>\n",
       "      <td>8</td>\n",
       "      <td>Кира</td>\n",
       "      <td>22</td>\n",
       "      <td>Тюмень</td>\n",
       "      <td>ultra</td>\n",
       "      <td>6</td>\n",
       "      <td>0</td>\n",
       "      <td>199</td>\n",
       "    </tr>\n",
       "    <tr>\n",
       "      <th>4</th>\n",
       "      <td>1</td>\n",
       "      <td>4028.687306</td>\n",
       "      <td>26.265803</td>\n",
       "      <td>2021-08-28</td>\n",
       "      <td>8</td>\n",
       "      <td>Кира</td>\n",
       "      <td>22</td>\n",
       "      <td>Тюмень</td>\n",
       "      <td>ultra</td>\n",
       "      <td>6</td>\n",
       "      <td>0</td>\n",
       "      <td>199</td>\n",
       "    </tr>\n",
       "    <tr>\n",
       "      <th>...</th>\n",
       "      <td>...</td>\n",
       "      <td>...</td>\n",
       "      <td>...</td>\n",
       "      <td>...</td>\n",
       "      <td>...</td>\n",
       "      <td>...</td>\n",
       "      <td>...</td>\n",
       "      <td>...</td>\n",
       "      <td>...</td>\n",
       "      <td>...</td>\n",
       "      <td>...</td>\n",
       "      <td>...</td>\n",
       "    </tr>\n",
       "    <tr>\n",
       "      <th>18383</th>\n",
       "      <td>1534</td>\n",
       "      <td>3781.098080</td>\n",
       "      <td>19.822962</td>\n",
       "      <td>2021-11-04</td>\n",
       "      <td>11</td>\n",
       "      <td>Альберт</td>\n",
       "      <td>25</td>\n",
       "      <td>Краснодар</td>\n",
       "      <td>free</td>\n",
       "      <td>8</td>\n",
       "      <td>50</td>\n",
       "      <td>0</td>\n",
       "    </tr>\n",
       "    <tr>\n",
       "      <th>18384</th>\n",
       "      <td>1534</td>\n",
       "      <td>2840.423057</td>\n",
       "      <td>21.409799</td>\n",
       "      <td>2021-11-16</td>\n",
       "      <td>11</td>\n",
       "      <td>Альберт</td>\n",
       "      <td>25</td>\n",
       "      <td>Краснодар</td>\n",
       "      <td>free</td>\n",
       "      <td>8</td>\n",
       "      <td>50</td>\n",
       "      <td>0</td>\n",
       "    </tr>\n",
       "    <tr>\n",
       "      <th>18385</th>\n",
       "      <td>1534</td>\n",
       "      <td>3826.185507</td>\n",
       "      <td>18.435051</td>\n",
       "      <td>2021-11-18</td>\n",
       "      <td>11</td>\n",
       "      <td>Альберт</td>\n",
       "      <td>25</td>\n",
       "      <td>Краснодар</td>\n",
       "      <td>free</td>\n",
       "      <td>8</td>\n",
       "      <td>50</td>\n",
       "      <td>0</td>\n",
       "    </tr>\n",
       "    <tr>\n",
       "      <th>18386</th>\n",
       "      <td>1534</td>\n",
       "      <td>2902.308661</td>\n",
       "      <td>16.674362</td>\n",
       "      <td>2021-11-27</td>\n",
       "      <td>11</td>\n",
       "      <td>Альберт</td>\n",
       "      <td>25</td>\n",
       "      <td>Краснодар</td>\n",
       "      <td>free</td>\n",
       "      <td>8</td>\n",
       "      <td>50</td>\n",
       "      <td>0</td>\n",
       "    </tr>\n",
       "    <tr>\n",
       "      <th>18387</th>\n",
       "      <td>1534</td>\n",
       "      <td>2371.711192</td>\n",
       "      <td>15.893917</td>\n",
       "      <td>2021-12-29</td>\n",
       "      <td>12</td>\n",
       "      <td>Альберт</td>\n",
       "      <td>25</td>\n",
       "      <td>Краснодар</td>\n",
       "      <td>free</td>\n",
       "      <td>8</td>\n",
       "      <td>50</td>\n",
       "      <td>0</td>\n",
       "    </tr>\n",
       "  </tbody>\n",
       "</table>\n",
       "<p>18388 rows × 12 columns</p>\n",
       "</div>"
      ],
      "text/plain": [
       "       user_id     distance   duration       date  month     name  age  \\\n",
       "0            1  4409.919140  25.599769 2021-01-01      1     Кира   22   \n",
       "1            1  2617.592153  15.816871 2021-01-18      1     Кира   22   \n",
       "2            1   754.159807   6.232113 2021-04-20      4     Кира   22   \n",
       "3            1  2694.783254  18.511000 2021-08-11      8     Кира   22   \n",
       "4            1  4028.687306  26.265803 2021-08-28      8     Кира   22   \n",
       "...        ...          ...        ...        ...    ...      ...  ...   \n",
       "18383     1534  3781.098080  19.822962 2021-11-04     11  Альберт   25   \n",
       "18384     1534  2840.423057  21.409799 2021-11-16     11  Альберт   25   \n",
       "18385     1534  3826.185507  18.435051 2021-11-18     11  Альберт   25   \n",
       "18386     1534  2902.308661  16.674362 2021-11-27     11  Альберт   25   \n",
       "18387     1534  2371.711192  15.893917 2021-12-29     12  Альберт   25   \n",
       "\n",
       "            city subscription_type  minute_price  start_ride_price  \\\n",
       "0         Тюмень             ultra             6                 0   \n",
       "1         Тюмень             ultra             6                 0   \n",
       "2         Тюмень             ultra             6                 0   \n",
       "3         Тюмень             ultra             6                 0   \n",
       "4         Тюмень             ultra             6                 0   \n",
       "...          ...               ...           ...               ...   \n",
       "18383  Краснодар              free             8                50   \n",
       "18384  Краснодар              free             8                50   \n",
       "18385  Краснодар              free             8                50   \n",
       "18386  Краснодар              free             8                50   \n",
       "18387  Краснодар              free             8                50   \n",
       "\n",
       "       subscription_fee  \n",
       "0                   199  \n",
       "1                   199  \n",
       "2                   199  \n",
       "3                   199  \n",
       "4                   199  \n",
       "...                 ...  \n",
       "18383                 0  \n",
       "18384                 0  \n",
       "18385                 0  \n",
       "18386                 0  \n",
       "18387                 0  \n",
       "\n",
       "[18388 rows x 12 columns]"
      ]
     },
     "metadata": {},
     "output_type": "display_data"
    },
    {
     "name": "stdout",
     "output_type": "stream",
     "text": [
      "<class 'pandas.core.frame.DataFrame'>\n",
      "Int64Index: 18388 entries, 0 to 18387\n",
      "Data columns (total 12 columns):\n",
      " #   Column             Non-Null Count  Dtype         \n",
      "---  ------             --------------  -----         \n",
      " 0   user_id            18388 non-null  int64         \n",
      " 1   distance           18388 non-null  float64       \n",
      " 2   duration           18388 non-null  float64       \n",
      " 3   date               18388 non-null  datetime64[ns]\n",
      " 4   month              18388 non-null  int64         \n",
      " 5   name               18388 non-null  object        \n",
      " 6   age                18388 non-null  int64         \n",
      " 7   city               18388 non-null  object        \n",
      " 8   subscription_type  18388 non-null  object        \n",
      " 9   minute_price       18388 non-null  int64         \n",
      " 10  start_ride_price   18388 non-null  int64         \n",
      " 11  subscription_fee   18388 non-null  int64         \n",
      "dtypes: datetime64[ns](1), float64(2), int64(6), object(3)\n",
      "memory usage: 1.8+ MB\n"
     ]
    }
   ],
   "source": [
    "data_all = data_rides.merge(data_users, on = 'user_id', how = 'left')\n",
    "data_all = data_all.merge(data_subs, on='subscription_type', how = 'left')\n",
    "display(data_all)\n",
    "data_all.info()"
   ]
  },
  {
   "cell_type": "markdown",
   "id": "30549047",
   "metadata": {},
   "source": [
    "Датафреймы с информацией и пользователях и поездках объеденили по столбцу user_id. А потом объеденили с датареймом о подписках по столбцу subscription_type."
   ]
  },
  {
   "cell_type": "markdown",
   "id": "08545bce",
   "metadata": {},
   "source": [
    "**4.2 Создадим новый датафрейм - c данными о пользователях без подписки.**"
   ]
  },
  {
   "cell_type": "code",
   "execution_count": 32,
   "id": "b7994b1b",
   "metadata": {},
   "outputs": [
    {
     "data": {
      "text/html": [
       "<div>\n",
       "<style scoped>\n",
       "    .dataframe tbody tr th:only-of-type {\n",
       "        vertical-align: middle;\n",
       "    }\n",
       "\n",
       "    .dataframe tbody tr th {\n",
       "        vertical-align: top;\n",
       "    }\n",
       "\n",
       "    .dataframe thead th {\n",
       "        text-align: right;\n",
       "    }\n",
       "</style>\n",
       "<table border=\"1\" class=\"dataframe\">\n",
       "  <thead>\n",
       "    <tr style=\"text-align: right;\">\n",
       "      <th></th>\n",
       "      <th>user_id</th>\n",
       "      <th>distance</th>\n",
       "      <th>duration</th>\n",
       "      <th>date</th>\n",
       "      <th>month</th>\n",
       "      <th>name</th>\n",
       "      <th>age</th>\n",
       "      <th>city</th>\n",
       "      <th>subscription_type</th>\n",
       "      <th>minute_price</th>\n",
       "      <th>start_ride_price</th>\n",
       "      <th>subscription_fee</th>\n",
       "    </tr>\n",
       "  </thead>\n",
       "  <tbody>\n",
       "    <tr>\n",
       "      <th>6672</th>\n",
       "      <td>700</td>\n",
       "      <td>2515.690719</td>\n",
       "      <td>14.944286</td>\n",
       "      <td>2021-01-02</td>\n",
       "      <td>1</td>\n",
       "      <td>Айдар</td>\n",
       "      <td>22</td>\n",
       "      <td>Омск</td>\n",
       "      <td>free</td>\n",
       "      <td>8</td>\n",
       "      <td>50</td>\n",
       "      <td>0</td>\n",
       "    </tr>\n",
       "    <tr>\n",
       "      <th>6673</th>\n",
       "      <td>700</td>\n",
       "      <td>846.932642</td>\n",
       "      <td>16.234663</td>\n",
       "      <td>2021-02-01</td>\n",
       "      <td>2</td>\n",
       "      <td>Айдар</td>\n",
       "      <td>22</td>\n",
       "      <td>Омск</td>\n",
       "      <td>free</td>\n",
       "      <td>8</td>\n",
       "      <td>50</td>\n",
       "      <td>0</td>\n",
       "    </tr>\n",
       "    <tr>\n",
       "      <th>6674</th>\n",
       "      <td>700</td>\n",
       "      <td>4004.434142</td>\n",
       "      <td>20.016628</td>\n",
       "      <td>2021-02-04</td>\n",
       "      <td>2</td>\n",
       "      <td>Айдар</td>\n",
       "      <td>22</td>\n",
       "      <td>Омск</td>\n",
       "      <td>free</td>\n",
       "      <td>8</td>\n",
       "      <td>50</td>\n",
       "      <td>0</td>\n",
       "    </tr>\n",
       "    <tr>\n",
       "      <th>6675</th>\n",
       "      <td>700</td>\n",
       "      <td>1205.911290</td>\n",
       "      <td>9.782872</td>\n",
       "      <td>2021-02-10</td>\n",
       "      <td>2</td>\n",
       "      <td>Айдар</td>\n",
       "      <td>22</td>\n",
       "      <td>Омск</td>\n",
       "      <td>free</td>\n",
       "      <td>8</td>\n",
       "      <td>50</td>\n",
       "      <td>0</td>\n",
       "    </tr>\n",
       "    <tr>\n",
       "      <th>6676</th>\n",
       "      <td>700</td>\n",
       "      <td>3047.379435</td>\n",
       "      <td>17.427673</td>\n",
       "      <td>2021-02-14</td>\n",
       "      <td>2</td>\n",
       "      <td>Айдар</td>\n",
       "      <td>22</td>\n",
       "      <td>Омск</td>\n",
       "      <td>free</td>\n",
       "      <td>8</td>\n",
       "      <td>50</td>\n",
       "      <td>0</td>\n",
       "    </tr>\n",
       "    <tr>\n",
       "      <th>...</th>\n",
       "      <td>...</td>\n",
       "      <td>...</td>\n",
       "      <td>...</td>\n",
       "      <td>...</td>\n",
       "      <td>...</td>\n",
       "      <td>...</td>\n",
       "      <td>...</td>\n",
       "      <td>...</td>\n",
       "      <td>...</td>\n",
       "      <td>...</td>\n",
       "      <td>...</td>\n",
       "      <td>...</td>\n",
       "    </tr>\n",
       "    <tr>\n",
       "      <th>18383</th>\n",
       "      <td>1534</td>\n",
       "      <td>3781.098080</td>\n",
       "      <td>19.822962</td>\n",
       "      <td>2021-11-04</td>\n",
       "      <td>11</td>\n",
       "      <td>Альберт</td>\n",
       "      <td>25</td>\n",
       "      <td>Краснодар</td>\n",
       "      <td>free</td>\n",
       "      <td>8</td>\n",
       "      <td>50</td>\n",
       "      <td>0</td>\n",
       "    </tr>\n",
       "    <tr>\n",
       "      <th>18384</th>\n",
       "      <td>1534</td>\n",
       "      <td>2840.423057</td>\n",
       "      <td>21.409799</td>\n",
       "      <td>2021-11-16</td>\n",
       "      <td>11</td>\n",
       "      <td>Альберт</td>\n",
       "      <td>25</td>\n",
       "      <td>Краснодар</td>\n",
       "      <td>free</td>\n",
       "      <td>8</td>\n",
       "      <td>50</td>\n",
       "      <td>0</td>\n",
       "    </tr>\n",
       "    <tr>\n",
       "      <th>18385</th>\n",
       "      <td>1534</td>\n",
       "      <td>3826.185507</td>\n",
       "      <td>18.435051</td>\n",
       "      <td>2021-11-18</td>\n",
       "      <td>11</td>\n",
       "      <td>Альберт</td>\n",
       "      <td>25</td>\n",
       "      <td>Краснодар</td>\n",
       "      <td>free</td>\n",
       "      <td>8</td>\n",
       "      <td>50</td>\n",
       "      <td>0</td>\n",
       "    </tr>\n",
       "    <tr>\n",
       "      <th>18386</th>\n",
       "      <td>1534</td>\n",
       "      <td>2902.308661</td>\n",
       "      <td>16.674362</td>\n",
       "      <td>2021-11-27</td>\n",
       "      <td>11</td>\n",
       "      <td>Альберт</td>\n",
       "      <td>25</td>\n",
       "      <td>Краснодар</td>\n",
       "      <td>free</td>\n",
       "      <td>8</td>\n",
       "      <td>50</td>\n",
       "      <td>0</td>\n",
       "    </tr>\n",
       "    <tr>\n",
       "      <th>18387</th>\n",
       "      <td>1534</td>\n",
       "      <td>2371.711192</td>\n",
       "      <td>15.893917</td>\n",
       "      <td>2021-12-29</td>\n",
       "      <td>12</td>\n",
       "      <td>Альберт</td>\n",
       "      <td>25</td>\n",
       "      <td>Краснодар</td>\n",
       "      <td>free</td>\n",
       "      <td>8</td>\n",
       "      <td>50</td>\n",
       "      <td>0</td>\n",
       "    </tr>\n",
       "  </tbody>\n",
       "</table>\n",
       "<p>11716 rows × 12 columns</p>\n",
       "</div>"
      ],
      "text/plain": [
       "       user_id     distance   duration       date  month     name  age  \\\n",
       "6672       700  2515.690719  14.944286 2021-01-02      1    Айдар   22   \n",
       "6673       700   846.932642  16.234663 2021-02-01      2    Айдар   22   \n",
       "6674       700  4004.434142  20.016628 2021-02-04      2    Айдар   22   \n",
       "6675       700  1205.911290   9.782872 2021-02-10      2    Айдар   22   \n",
       "6676       700  3047.379435  17.427673 2021-02-14      2    Айдар   22   \n",
       "...        ...          ...        ...        ...    ...      ...  ...   \n",
       "18383     1534  3781.098080  19.822962 2021-11-04     11  Альберт   25   \n",
       "18384     1534  2840.423057  21.409799 2021-11-16     11  Альберт   25   \n",
       "18385     1534  3826.185507  18.435051 2021-11-18     11  Альберт   25   \n",
       "18386     1534  2902.308661  16.674362 2021-11-27     11  Альберт   25   \n",
       "18387     1534  2371.711192  15.893917 2021-12-29     12  Альберт   25   \n",
       "\n",
       "            city subscription_type  minute_price  start_ride_price  \\\n",
       "6672        Омск              free             8                50   \n",
       "6673        Омск              free             8                50   \n",
       "6674        Омск              free             8                50   \n",
       "6675        Омск              free             8                50   \n",
       "6676        Омск              free             8                50   \n",
       "...          ...               ...           ...               ...   \n",
       "18383  Краснодар              free             8                50   \n",
       "18384  Краснодар              free             8                50   \n",
       "18385  Краснодар              free             8                50   \n",
       "18386  Краснодар              free             8                50   \n",
       "18387  Краснодар              free             8                50   \n",
       "\n",
       "       subscription_fee  \n",
       "6672                  0  \n",
       "6673                  0  \n",
       "6674                  0  \n",
       "6675                  0  \n",
       "6676                  0  \n",
       "...                 ...  \n",
       "18383                 0  \n",
       "18384                 0  \n",
       "18385                 0  \n",
       "18386                 0  \n",
       "18387                 0  \n",
       "\n",
       "[11716 rows x 12 columns]"
      ]
     },
     "metadata": {},
     "output_type": "display_data"
    }
   ],
   "source": [
    "data_without_subs = data_all[data_all['subscription_type'] == 'free']\n",
    "display(data_without_subs)"
   ]
  },
  {
   "cell_type": "markdown",
   "id": "359b712f",
   "metadata": {},
   "source": [
    "**4.2.1 Создадим новый датафрейм - c данными о пользователях с подпиской.**"
   ]
  },
  {
   "cell_type": "code",
   "execution_count": 33,
   "id": "cfa82266",
   "metadata": {},
   "outputs": [
    {
     "data": {
      "text/html": [
       "<div>\n",
       "<style scoped>\n",
       "    .dataframe tbody tr th:only-of-type {\n",
       "        vertical-align: middle;\n",
       "    }\n",
       "\n",
       "    .dataframe tbody tr th {\n",
       "        vertical-align: top;\n",
       "    }\n",
       "\n",
       "    .dataframe thead th {\n",
       "        text-align: right;\n",
       "    }\n",
       "</style>\n",
       "<table border=\"1\" class=\"dataframe\">\n",
       "  <thead>\n",
       "    <tr style=\"text-align: right;\">\n",
       "      <th></th>\n",
       "      <th>user_id</th>\n",
       "      <th>distance</th>\n",
       "      <th>duration</th>\n",
       "      <th>date</th>\n",
       "      <th>month</th>\n",
       "      <th>name</th>\n",
       "      <th>age</th>\n",
       "      <th>city</th>\n",
       "      <th>subscription_type</th>\n",
       "      <th>minute_price</th>\n",
       "      <th>start_ride_price</th>\n",
       "      <th>subscription_fee</th>\n",
       "    </tr>\n",
       "  </thead>\n",
       "  <tbody>\n",
       "    <tr>\n",
       "      <th>0</th>\n",
       "      <td>1</td>\n",
       "      <td>4409.919140</td>\n",
       "      <td>25.599769</td>\n",
       "      <td>2021-01-01</td>\n",
       "      <td>1</td>\n",
       "      <td>Кира</td>\n",
       "      <td>22</td>\n",
       "      <td>Тюмень</td>\n",
       "      <td>ultra</td>\n",
       "      <td>6</td>\n",
       "      <td>0</td>\n",
       "      <td>199</td>\n",
       "    </tr>\n",
       "    <tr>\n",
       "      <th>1</th>\n",
       "      <td>1</td>\n",
       "      <td>2617.592153</td>\n",
       "      <td>15.816871</td>\n",
       "      <td>2021-01-18</td>\n",
       "      <td>1</td>\n",
       "      <td>Кира</td>\n",
       "      <td>22</td>\n",
       "      <td>Тюмень</td>\n",
       "      <td>ultra</td>\n",
       "      <td>6</td>\n",
       "      <td>0</td>\n",
       "      <td>199</td>\n",
       "    </tr>\n",
       "    <tr>\n",
       "      <th>2</th>\n",
       "      <td>1</td>\n",
       "      <td>754.159807</td>\n",
       "      <td>6.232113</td>\n",
       "      <td>2021-04-20</td>\n",
       "      <td>4</td>\n",
       "      <td>Кира</td>\n",
       "      <td>22</td>\n",
       "      <td>Тюмень</td>\n",
       "      <td>ultra</td>\n",
       "      <td>6</td>\n",
       "      <td>0</td>\n",
       "      <td>199</td>\n",
       "    </tr>\n",
       "    <tr>\n",
       "      <th>3</th>\n",
       "      <td>1</td>\n",
       "      <td>2694.783254</td>\n",
       "      <td>18.511000</td>\n",
       "      <td>2021-08-11</td>\n",
       "      <td>8</td>\n",
       "      <td>Кира</td>\n",
       "      <td>22</td>\n",
       "      <td>Тюмень</td>\n",
       "      <td>ultra</td>\n",
       "      <td>6</td>\n",
       "      <td>0</td>\n",
       "      <td>199</td>\n",
       "    </tr>\n",
       "    <tr>\n",
       "      <th>4</th>\n",
       "      <td>1</td>\n",
       "      <td>4028.687306</td>\n",
       "      <td>26.265803</td>\n",
       "      <td>2021-08-28</td>\n",
       "      <td>8</td>\n",
       "      <td>Кира</td>\n",
       "      <td>22</td>\n",
       "      <td>Тюмень</td>\n",
       "      <td>ultra</td>\n",
       "      <td>6</td>\n",
       "      <td>0</td>\n",
       "      <td>199</td>\n",
       "    </tr>\n",
       "    <tr>\n",
       "      <th>...</th>\n",
       "      <td>...</td>\n",
       "      <td>...</td>\n",
       "      <td>...</td>\n",
       "      <td>...</td>\n",
       "      <td>...</td>\n",
       "      <td>...</td>\n",
       "      <td>...</td>\n",
       "      <td>...</td>\n",
       "      <td>...</td>\n",
       "      <td>...</td>\n",
       "      <td>...</td>\n",
       "      <td>...</td>\n",
       "    </tr>\n",
       "    <tr>\n",
       "      <th>6667</th>\n",
       "      <td>699</td>\n",
       "      <td>3973.046497</td>\n",
       "      <td>24.671163</td>\n",
       "      <td>2021-08-29</td>\n",
       "      <td>8</td>\n",
       "      <td>Оксана</td>\n",
       "      <td>22</td>\n",
       "      <td>Москва</td>\n",
       "      <td>ultra</td>\n",
       "      <td>6</td>\n",
       "      <td>0</td>\n",
       "      <td>199</td>\n",
       "    </tr>\n",
       "    <tr>\n",
       "      <th>6668</th>\n",
       "      <td>699</td>\n",
       "      <td>3288.702563</td>\n",
       "      <td>15.892886</td>\n",
       "      <td>2021-09-12</td>\n",
       "      <td>9</td>\n",
       "      <td>Оксана</td>\n",
       "      <td>22</td>\n",
       "      <td>Москва</td>\n",
       "      <td>ultra</td>\n",
       "      <td>6</td>\n",
       "      <td>0</td>\n",
       "      <td>199</td>\n",
       "    </tr>\n",
       "    <tr>\n",
       "      <th>6669</th>\n",
       "      <td>699</td>\n",
       "      <td>3076.159348</td>\n",
       "      <td>14.389525</td>\n",
       "      <td>2021-09-26</td>\n",
       "      <td>9</td>\n",
       "      <td>Оксана</td>\n",
       "      <td>22</td>\n",
       "      <td>Москва</td>\n",
       "      <td>ultra</td>\n",
       "      <td>6</td>\n",
       "      <td>0</td>\n",
       "      <td>199</td>\n",
       "    </tr>\n",
       "    <tr>\n",
       "      <th>6670</th>\n",
       "      <td>699</td>\n",
       "      <td>4707.845501</td>\n",
       "      <td>15.839579</td>\n",
       "      <td>2021-10-17</td>\n",
       "      <td>10</td>\n",
       "      <td>Оксана</td>\n",
       "      <td>22</td>\n",
       "      <td>Москва</td>\n",
       "      <td>ultra</td>\n",
       "      <td>6</td>\n",
       "      <td>0</td>\n",
       "      <td>199</td>\n",
       "    </tr>\n",
       "    <tr>\n",
       "      <th>6671</th>\n",
       "      <td>699</td>\n",
       "      <td>3202.890770</td>\n",
       "      <td>25.217345</td>\n",
       "      <td>2021-12-03</td>\n",
       "      <td>12</td>\n",
       "      <td>Оксана</td>\n",
       "      <td>22</td>\n",
       "      <td>Москва</td>\n",
       "      <td>ultra</td>\n",
       "      <td>6</td>\n",
       "      <td>0</td>\n",
       "      <td>199</td>\n",
       "    </tr>\n",
       "  </tbody>\n",
       "</table>\n",
       "<p>6672 rows × 12 columns</p>\n",
       "</div>"
      ],
      "text/plain": [
       "      user_id     distance   duration       date  month    name  age    city  \\\n",
       "0           1  4409.919140  25.599769 2021-01-01      1    Кира   22  Тюмень   \n",
       "1           1  2617.592153  15.816871 2021-01-18      1    Кира   22  Тюмень   \n",
       "2           1   754.159807   6.232113 2021-04-20      4    Кира   22  Тюмень   \n",
       "3           1  2694.783254  18.511000 2021-08-11      8    Кира   22  Тюмень   \n",
       "4           1  4028.687306  26.265803 2021-08-28      8    Кира   22  Тюмень   \n",
       "...       ...          ...        ...        ...    ...     ...  ...     ...   \n",
       "6667      699  3973.046497  24.671163 2021-08-29      8  Оксана   22  Москва   \n",
       "6668      699  3288.702563  15.892886 2021-09-12      9  Оксана   22  Москва   \n",
       "6669      699  3076.159348  14.389525 2021-09-26      9  Оксана   22  Москва   \n",
       "6670      699  4707.845501  15.839579 2021-10-17     10  Оксана   22  Москва   \n",
       "6671      699  3202.890770  25.217345 2021-12-03     12  Оксана   22  Москва   \n",
       "\n",
       "     subscription_type  minute_price  start_ride_price  subscription_fee  \n",
       "0                ultra             6                 0               199  \n",
       "1                ultra             6                 0               199  \n",
       "2                ultra             6                 0               199  \n",
       "3                ultra             6                 0               199  \n",
       "4                ultra             6                 0               199  \n",
       "...                ...           ...               ...               ...  \n",
       "6667             ultra             6                 0               199  \n",
       "6668             ultra             6                 0               199  \n",
       "6669             ultra             6                 0               199  \n",
       "6670             ultra             6                 0               199  \n",
       "6671             ultra             6                 0               199  \n",
       "\n",
       "[6672 rows x 12 columns]"
      ]
     },
     "metadata": {},
     "output_type": "display_data"
    }
   ],
   "source": [
    "data_with_subs = data_all[data_all['subscription_type'] == 'ultra']\n",
    "display(data_with_subs)"
   ]
  },
  {
   "cell_type": "markdown",
   "id": "9a558ca8",
   "metadata": {},
   "source": [
    "**4.3 Визуализируем информацию о расстоянии и времени поездок для пользователей обеих категорий.**"
   ]
  },
  {
   "cell_type": "code",
   "execution_count": 34,
   "id": "8243644a",
   "metadata": {},
   "outputs": [
    {
     "data": {
      "image/png": "[encoded data removed]",
      "text/plain": [
       "<Figure size 720x432 with 1 Axes>"
      ]
     },
     "metadata": {
      "needs_background": "light"
     },
     "output_type": "display_data"
    }
   ],
   "source": [
    "plt.figure(figsize=(10, 6))\n",
    "plt.hist(data_without_subs['distance'], bins=30, alpha=0.5, color='pink', label='Без подписки')\n",
    "\n",
    "plt.hist(data_with_subs['distance'], bins=30, alpha=0.5, color='green', label='С подпиской')\n",
    "\n",
    "plt.title('Распределение расстояния поездок')\n",
    "plt.xlabel('Расстояние, в километрах')\n",
    "plt.ylabel('Кол-во поездок')\n",
    "plt.legend()\n",
    "plt.show()"
   ]
  },
  {
   "cell_type": "markdown",
   "id": "c00f900d",
   "metadata": {},
   "source": [
    "Пользователи без подписки предпочитают поездки до 1 километра, либо от 2 до 4,5 километров.  \n",
    "Пользователи с подпиской чаще всего проезжают около 3 километров."
   ]
  },
  {
   "cell_type": "code",
   "execution_count": 35,
   "id": "b95bcc45",
   "metadata": {},
   "outputs": [
    {
     "data": {
      "image/png": "[encoded data removed]",
      "text/plain": [
       "<Figure size 720x432 with 1 Axes>"
      ]
     },
     "metadata": {
      "needs_background": "light"
     },
     "output_type": "display_data"
    }
   ],
   "source": [
    "plt.figure(figsize=(10, 6))\n",
    "plt.hist(data_without_subs['duration'], bins=30, alpha=0.5, color='pink', label='Без подписки')\n",
    "\n",
    "plt.hist(data_with_subs['duration'], bins=30, alpha=0.5, color='green', label='С подпиской')\n",
    "\n",
    "plt.title('Распределение времени поездок')\n",
    "plt.xlabel('Время')\n",
    "plt.ylabel('Кол-во поездок')\n",
    "plt.legend()\n",
    "plt.show()"
   ]
  },
  {
   "cell_type": "markdown",
   "id": "120b6251",
   "metadata": {},
   "source": [
    "Пользователей без подписки больше, чем тех, кто подписку оформил. При этом обе категории предпочитают поездки по 15-20 минут."
   ]
  },
  {
   "cell_type": "markdown",
   "id": "402d620f",
   "metadata": {},
   "source": [
    "#### Шаг 5. Подсчёт выручки"
   ]
  },
  {
   "cell_type": "markdown",
   "id": "097b46ac",
   "metadata": {},
   "source": [
    "**5.1** Создадим датафрейм с агрегированными данными о поездках на основе датафрейма с объединёнными данными из шага 4: найдем суммарное расстояние, количество поездок и суммарное время для каждого пользователя за каждый месяц."
   ]
  },
  {
   "cell_type": "code",
   "execution_count": 36,
   "id": "f87c0624",
   "metadata": {},
   "outputs": [
    {
     "data": {
      "text/html": [
       "<div>\n",
       "<style scoped>\n",
       "    .dataframe tbody tr th:only-of-type {\n",
       "        vertical-align: middle;\n",
       "    }\n",
       "\n",
       "    .dataframe tbody tr th {\n",
       "        vertical-align: top;\n",
       "    }\n",
       "\n",
       "    .dataframe thead th {\n",
       "        text-align: right;\n",
       "    }\n",
       "</style>\n",
       "<table border=\"1\" class=\"dataframe\">\n",
       "  <thead>\n",
       "    <tr style=\"text-align: right;\">\n",
       "      <th></th>\n",
       "      <th>user_id</th>\n",
       "      <th>month</th>\n",
       "      <th>sum_distance</th>\n",
       "      <th>count_duration</th>\n",
       "      <th>sum_duration</th>\n",
       "    </tr>\n",
       "  </thead>\n",
       "  <tbody>\n",
       "    <tr>\n",
       "      <th>0</th>\n",
       "      <td>1</td>\n",
       "      <td>1</td>\n",
       "      <td>2</td>\n",
       "      <td>7027.511294</td>\n",
       "      <td>42</td>\n",
       "    </tr>\n",
       "    <tr>\n",
       "      <th>1</th>\n",
       "      <td>1</td>\n",
       "      <td>4</td>\n",
       "      <td>1</td>\n",
       "      <td>754.159807</td>\n",
       "      <td>7</td>\n",
       "    </tr>\n",
       "    <tr>\n",
       "      <th>2</th>\n",
       "      <td>1</td>\n",
       "      <td>8</td>\n",
       "      <td>2</td>\n",
       "      <td>6723.470560</td>\n",
       "      <td>46</td>\n",
       "    </tr>\n",
       "    <tr>\n",
       "      <th>3</th>\n",
       "      <td>1</td>\n",
       "      <td>10</td>\n",
       "      <td>2</td>\n",
       "      <td>5809.911100</td>\n",
       "      <td>32</td>\n",
       "    </tr>\n",
       "    <tr>\n",
       "      <th>4</th>\n",
       "      <td>1</td>\n",
       "      <td>11</td>\n",
       "      <td>3</td>\n",
       "      <td>7003.499363</td>\n",
       "      <td>56</td>\n",
       "    </tr>\n",
       "    <tr>\n",
       "      <th>...</th>\n",
       "      <td>...</td>\n",
       "      <td>...</td>\n",
       "      <td>...</td>\n",
       "      <td>...</td>\n",
       "      <td>...</td>\n",
       "    </tr>\n",
       "    <tr>\n",
       "      <th>11326</th>\n",
       "      <td>1534</td>\n",
       "      <td>6</td>\n",
       "      <td>2</td>\n",
       "      <td>3409.468534</td>\n",
       "      <td>26</td>\n",
       "    </tr>\n",
       "    <tr>\n",
       "      <th>11327</th>\n",
       "      <td>1534</td>\n",
       "      <td>8</td>\n",
       "      <td>2</td>\n",
       "      <td>7622.453034</td>\n",
       "      <td>48</td>\n",
       "    </tr>\n",
       "    <tr>\n",
       "      <th>11328</th>\n",
       "      <td>1534</td>\n",
       "      <td>9</td>\n",
       "      <td>1</td>\n",
       "      <td>4928.173852</td>\n",
       "      <td>23</td>\n",
       "    </tr>\n",
       "    <tr>\n",
       "      <th>11329</th>\n",
       "      <td>1534</td>\n",
       "      <td>11</td>\n",
       "      <td>4</td>\n",
       "      <td>13350.015305</td>\n",
       "      <td>78</td>\n",
       "    </tr>\n",
       "    <tr>\n",
       "      <th>11330</th>\n",
       "      <td>1534</td>\n",
       "      <td>12</td>\n",
       "      <td>1</td>\n",
       "      <td>2371.711192</td>\n",
       "      <td>16</td>\n",
       "    </tr>\n",
       "  </tbody>\n",
       "</table>\n",
       "<p>11331 rows × 5 columns</p>\n",
       "</div>"
      ],
      "text/plain": [
       "       user_id  month  sum_distance  count_duration  sum_duration\n",
       "0            1      1             2     7027.511294            42\n",
       "1            1      4             1      754.159807             7\n",
       "2            1      8             2     6723.470560            46\n",
       "3            1     10             2     5809.911100            32\n",
       "4            1     11             3     7003.499363            56\n",
       "...        ...    ...           ...             ...           ...\n",
       "11326     1534      6             2     3409.468534            26\n",
       "11327     1534      8             2     7622.453034            48\n",
       "11328     1534      9             1     4928.173852            23\n",
       "11329     1534     11             4    13350.015305            78\n",
       "11330     1534     12             1     2371.711192            16\n",
       "\n",
       "[11331 rows x 5 columns]"
      ]
     },
     "metadata": {},
     "output_type": "display_data"
    }
   ],
   "source": [
    "data_all['duration'] = np.ceil(data_all['duration'])\n",
    "data_all['duration'] = data_all['duration'].astype('int')\n",
    "\n",
    "agg_data = data_all.pivot_table(index= ['user_id', 'month'], \n",
    "                                values = ['distance', 'duration'], aggfunc = ['count', 'sum']).reset_index()\n",
    "\n",
    "agg_data.columns = ['user_id', 'month', 'count_distance', 'sum_distance', 'count_duration', 'sum_duration']\n",
    "agg_data = agg_data.drop(columns=['count_distance']) #удаляем, так как столбец неинформативен.\n",
    "display(agg_data)"
   ]
  },
  {
   "cell_type": "markdown",
   "id": "8ce2cd23",
   "metadata": {},
   "source": [
    "Теперь можно посмотреть:  \n",
    "1. sum_distance - расстояние за месяц.  \n",
    "2. count_duration - количество поездок за месяц.  \n",
    "3. sum_duration - количество минут за месяц."
   ]
  },
  {
   "cell_type": "markdown",
   "id": "e41ecf8e",
   "metadata": {},
   "source": [
    "**5.2** В этот же датафрейм добавим столбец с помесячной выручкой, которую принёс каждый пользователь."
   ]
  },
  {
   "cell_type": "code",
   "execution_count": 37,
   "id": "a1884563",
   "metadata": {},
   "outputs": [
    {
     "data": {
      "text/html": [
       "<div>\n",
       "<style scoped>\n",
       "    .dataframe tbody tr th:only-of-type {\n",
       "        vertical-align: middle;\n",
       "    }\n",
       "\n",
       "    .dataframe tbody tr th {\n",
       "        vertical-align: top;\n",
       "    }\n",
       "\n",
       "    .dataframe thead th {\n",
       "        text-align: right;\n",
       "    }\n",
       "</style>\n",
       "<table border=\"1\" class=\"dataframe\">\n",
       "  <thead>\n",
       "    <tr style=\"text-align: right;\">\n",
       "      <th></th>\n",
       "      <th>user_id</th>\n",
       "      <th>month</th>\n",
       "      <th>sum_distance</th>\n",
       "      <th>count_duration</th>\n",
       "      <th>sum_duration</th>\n",
       "      <th>subscription_fee</th>\n",
       "      <th>monthly_revenue</th>\n",
       "    </tr>\n",
       "  </thead>\n",
       "  <tbody>\n",
       "    <tr>\n",
       "      <th>0</th>\n",
       "      <td>1</td>\n",
       "      <td>1</td>\n",
       "      <td>2</td>\n",
       "      <td>7027.511294</td>\n",
       "      <td>42</td>\n",
       "      <td>199</td>\n",
       "      <td>451</td>\n",
       "    </tr>\n",
       "    <tr>\n",
       "      <th>1</th>\n",
       "      <td>1</td>\n",
       "      <td>4</td>\n",
       "      <td>1</td>\n",
       "      <td>754.159807</td>\n",
       "      <td>7</td>\n",
       "      <td>199</td>\n",
       "      <td>241</td>\n",
       "    </tr>\n",
       "    <tr>\n",
       "      <th>2</th>\n",
       "      <td>1</td>\n",
       "      <td>8</td>\n",
       "      <td>2</td>\n",
       "      <td>6723.470560</td>\n",
       "      <td>46</td>\n",
       "      <td>199</td>\n",
       "      <td>475</td>\n",
       "    </tr>\n",
       "    <tr>\n",
       "      <th>3</th>\n",
       "      <td>1</td>\n",
       "      <td>10</td>\n",
       "      <td>2</td>\n",
       "      <td>5809.911100</td>\n",
       "      <td>32</td>\n",
       "      <td>199</td>\n",
       "      <td>391</td>\n",
       "    </tr>\n",
       "    <tr>\n",
       "      <th>4</th>\n",
       "      <td>1</td>\n",
       "      <td>11</td>\n",
       "      <td>3</td>\n",
       "      <td>7003.499363</td>\n",
       "      <td>56</td>\n",
       "      <td>199</td>\n",
       "      <td>535</td>\n",
       "    </tr>\n",
       "    <tr>\n",
       "      <th>...</th>\n",
       "      <td>...</td>\n",
       "      <td>...</td>\n",
       "      <td>...</td>\n",
       "      <td>...</td>\n",
       "      <td>...</td>\n",
       "      <td>...</td>\n",
       "      <td>...</td>\n",
       "    </tr>\n",
       "    <tr>\n",
       "      <th>11326</th>\n",
       "      <td>1534</td>\n",
       "      <td>6</td>\n",
       "      <td>2</td>\n",
       "      <td>3409.468534</td>\n",
       "      <td>26</td>\n",
       "      <td>0</td>\n",
       "      <td>258</td>\n",
       "    </tr>\n",
       "    <tr>\n",
       "      <th>11327</th>\n",
       "      <td>1534</td>\n",
       "      <td>8</td>\n",
       "      <td>2</td>\n",
       "      <td>7622.453034</td>\n",
       "      <td>48</td>\n",
       "      <td>0</td>\n",
       "      <td>434</td>\n",
       "    </tr>\n",
       "    <tr>\n",
       "      <th>11328</th>\n",
       "      <td>1534</td>\n",
       "      <td>9</td>\n",
       "      <td>1</td>\n",
       "      <td>4928.173852</td>\n",
       "      <td>23</td>\n",
       "      <td>0</td>\n",
       "      <td>234</td>\n",
       "    </tr>\n",
       "    <tr>\n",
       "      <th>11329</th>\n",
       "      <td>1534</td>\n",
       "      <td>11</td>\n",
       "      <td>4</td>\n",
       "      <td>13350.015305</td>\n",
       "      <td>78</td>\n",
       "      <td>0</td>\n",
       "      <td>674</td>\n",
       "    </tr>\n",
       "    <tr>\n",
       "      <th>11330</th>\n",
       "      <td>1534</td>\n",
       "      <td>12</td>\n",
       "      <td>1</td>\n",
       "      <td>2371.711192</td>\n",
       "      <td>16</td>\n",
       "      <td>0</td>\n",
       "      <td>178</td>\n",
       "    </tr>\n",
       "  </tbody>\n",
       "</table>\n",
       "<p>11331 rows × 7 columns</p>\n",
       "</div>"
      ],
      "text/plain": [
       "       user_id  month  sum_distance  count_duration  sum_duration  \\\n",
       "0            1      1             2     7027.511294            42   \n",
       "1            1      4             1      754.159807             7   \n",
       "2            1      8             2     6723.470560            46   \n",
       "3            1     10             2     5809.911100            32   \n",
       "4            1     11             3     7003.499363            56   \n",
       "...        ...    ...           ...             ...           ...   \n",
       "11326     1534      6             2     3409.468534            26   \n",
       "11327     1534      8             2     7622.453034            48   \n",
       "11328     1534      9             1     4928.173852            23   \n",
       "11329     1534     11             4    13350.015305            78   \n",
       "11330     1534     12             1     2371.711192            16   \n",
       "\n",
       "       subscription_fee  monthly_revenue  \n",
       "0                   199              451  \n",
       "1                   199              241  \n",
       "2                   199              475  \n",
       "3                   199              391  \n",
       "4                   199              535  \n",
       "...                 ...              ...  \n",
       "11326                 0              258  \n",
       "11327                 0              434  \n",
       "11328                 0              234  \n",
       "11329                 0              674  \n",
       "11330                 0              178  \n",
       "\n",
       "[11331 rows x 7 columns]"
      ]
     },
     "metadata": {},
     "output_type": "display_data"
    }
   ],
   "source": [
    "data_all.drop_duplicates(subset=['user_id', 'month'], keep='first', inplace=True)\n",
    "agg_data = pd.merge(agg_data, data_all[['user_id', 'month', 'subscription_type', 'subscription_fee']], \n",
    "                    on=['user_id', 'month'], how='left')\n",
    "\n",
    "agg_data['monthly_revenue'] = np.where(\n",
    "    agg_data['subscription_type'] == 'ultra',agg_data['sum_duration'] * 6 + 199,\n",
    "    agg_data['sum_duration'] * 8 + 50 + agg_data['subscription_fee'])\n",
    "\n",
    "agg_data.drop('subscription_type', axis=1, inplace=True)\n",
    "\n",
    "display(agg_data)"
   ]
  },
  {
   "cell_type": "markdown",
   "id": "41545ac0",
   "metadata": {},
   "source": [
    "#### Шаг 6. Проверка гипотез"
   ]
  },
  {
   "cell_type": "markdown",
   "id": "816f824f",
   "metadata": {},
   "source": [
    "**6.1 Важно понять, тратят ли пользователи с подпиской больше времени на поездки? Если да, то пользователи с подпиской могут быть «выгоднее» для компании. Проверим гипотезу. Используя исходные данные о продолжительности каждой сессии — отдельно для подписчиков и тех, у кого нет подписки.**  \n",
    "\n",
    "Нулевая гипотеза: среднее время поездок пользователей не зависит от наличия подписки и являются равными.  \n",
    "Альтернативная гипотеза: с подпиской время поездки больше."
   ]
  },
  {
   "cell_type": "markdown",
   "id": "e5e0cc95",
   "metadata": {},
   "source": [
    "Для начала посчитаем средние значения времени поездки."
   ]
  },
  {
   "cell_type": "code",
   "execution_count": 38,
   "id": "6dff17e7",
   "metadata": {},
   "outputs": [
    {
     "name": "stdout",
     "output_type": "stream",
     "text": [
      "С подпиской: 18.53\n",
      "Без подписки: 17.39\n"
     ]
    }
   ],
   "source": [
    "print('С подпиской:', round(data_with_subs['duration'].mean(),2))\n",
    "print('Без подписки:', round(data_without_subs['duration'].mean(),2))"
   ]
  },
  {
   "cell_type": "code",
   "execution_count": 39,
   "id": "1f18bac1",
   "metadata": {},
   "outputs": [
    {
     "name": "stdout",
     "output_type": "stream",
     "text": [
      "p-значение: 1.6261032773552045e-34\n",
      "Отвергаем нулевую гипотезу\n"
     ]
    }
   ],
   "source": [
    "alpha = 0.05\n",
    "results = st.ttest_ind(data_with_subs['duration'], data_without_subs['duration'], alternative='greater')\n",
    "print('p-значение:', results.pvalue)\n",
    "\n",
    "if results.pvalue < alpha:\n",
    "    print('Отвергаем нулевую гипотезу')\n",
    "else:\n",
    "    print('Не отвергаем нулевую гипотезу')"
   ]
  },
  {
   "cell_type": "markdown",
   "id": "fd6b2a7b",
   "metadata": {},
   "source": [
    "Среднее время не на много, но отличается, поэтому нулевую гипотезу отвергаем."
   ]
  },
  {
   "cell_type": "markdown",
   "id": "ebcf88f8",
   "metadata": {},
   "source": [
    "**6.2 Расстояние одной поездки в 3130 метров — оптимальное с точки зрения износа самоката. Проверим, можно ли сказать, что среднее расстояние, которое проезжают пользователи с подпиской за одну поездку, не превышает 3130 метров?**  \n",
    "\n",
    "Нулевая гипотеза: среднее расстояние поездки с подпиской - 3130 метров.  \n",
    "Альтернативная гипотеза: подписчики в среднем проезжают расстояние больше оптимального."
   ]
  },
  {
   "cell_type": "code",
   "execution_count": 40,
   "id": "811e972e",
   "metadata": {},
   "outputs": [
    {
     "name": "stdout",
     "output_type": "stream",
     "text": [
      "Среднее расстояние поездки c подпиской: 3115\n"
     ]
    }
   ],
   "source": [
    "print('Среднее расстояние поездки c подпиской:', round(data_with_subs['distance'].mean()))"
   ]
  },
  {
   "cell_type": "code",
   "execution_count": 44,
   "id": "56b3ae65",
   "metadata": {},
   "outputs": [
    {
     "name": "stdout",
     "output_type": "stream",
     "text": [
      "p-значение: 0.9224525735508029\n",
      "Недостаточно доказательств, чтобы обвергнуть нулевую гипотезу\n"
     ]
    }
   ],
   "source": [
    "mean_dist = 3130\n",
    "alpha = 0.05\n",
    "results = st.ttest_1samp(data_with_subs['distance'], mean_dist, alternative='greater')\n",
    "print('p-значение:', results.pvalue)\n",
    "\n",
    "if results.pvalue < alpha:\n",
    "    print('Отвергаем нулевую гипотезу')\n",
    "else:\n",
    "    print('Недостаточно доказательств, чтобы обвергнуть нулевую гипотезу')"
   ]
  },
  {
   "cell_type": "markdown",
   "id": "14f4e420",
   "metadata": {},
   "source": [
    "Нулевую гипотезу не отвергаем.  \n",
    "Среднее расстояние поездки равняется 3115 метрам.\n"
   ]
  },
  {
   "cell_type": "markdown",
   "id": "691299e1",
   "metadata": {},
   "source": [
    "**6.3 Проверим гипотезу о том, будет ли помесячная выручка от пользователей с подпиской по месяцам выше, чем выручка от пользователей без подписки.**  \n",
    "\n",
    "Нулевая гипотеза: пользователи с подпиской и без нее приносят одинаковую ежемесячную выручку.  \n",
    "Альтернативная гипотеза: пользователи с подпиской ежемесячно приносят боольше выручку, чем пользователи без подписки."
   ]
  },
  {
   "cell_type": "code",
   "execution_count": 42,
   "id": "1b75a085",
   "metadata": {},
   "outputs": [
    {
     "name": "stdout",
     "output_type": "stream",
     "text": [
      "Средняя выручка с подпиской: 367.03\n",
      "Средняя выручка без подписки: 296.72\n"
     ]
    }
   ],
   "source": [
    "ave_rev_with_subs = agg_data[agg_data['subscription_fee'] == 199]['monthly_revenue'].mean()\n",
    "ave_rev_without_subs = agg_data[agg_data['subscription_fee'] == 0]['monthly_revenue'].mean()\n",
    "\n",
    "print('Средняя выручка с подпиской:', round(ave_rev_with_subs, 2))\n",
    "print('Средняя выручка без подписки:', round(ave_rev_without_subs, 2))"
   ]
  },
  {
   "cell_type": "code",
   "execution_count": 43,
   "id": "1516db11",
   "metadata": {},
   "outputs": [
    {
     "name": "stdout",
     "output_type": "stream",
     "text": [
      "p-значение: 5.295040937376663e-171\n",
      "Отвергаем нулевую гипотезу\n"
     ]
    }
   ],
   "source": [
    "alpha = 0.05\n",
    "\n",
    "with_subs_data = agg_data[agg_data['subscription_fee'] == 199]['monthly_revenue']\n",
    "without_subs_data = agg_data[agg_data['subscription_fee'] == 0]['monthly_revenue']\n",
    "\n",
    "results = st.ttest_ind(with_subs_data, without_subs_data, alternative='greater')\n",
    "print('p-значение:', results.pvalue)\n",
    "\n",
    "\n",
    "if results.pvalue < alpha:\n",
    "    print('Отвергаем нулевую гипотезу')\n",
    "else:\n",
    "    print('Не отвергаем нулевую гипотезу')"
   ]
  },
  {
   "cell_type": "markdown",
   "id": "89dc5928",
   "metadata": {},
   "source": [
    "Нулевую гипотезу отвергаем. Пользователи с подпиской приносят больше выручки, чем пользователи без подписки."
   ]
  },
  {
   "cell_type": "markdown",
   "id": "69d636b4",
   "metadata": {},
   "source": [
    "**6.4 Представим такую ситуацию: техническая команда сервиса обновила сервера, с которыми взаимодействует мобильное приложение. Она надеется, что из-за этого количество обращений в техподдержку значимо снизилось. Некоторый файл содержит для каждого пользователя данные о количестве обращений до обновления и после него.**"
   ]
  },
  {
   "cell_type": "markdown",
   "id": "cbd520c1",
   "metadata": {},
   "source": [
    "Для проверки этой гипотезы нам понадобится t-тест для связанных (парных) выборок. С этим тестом достаточно передать всего два параметра: наборы данных до и после. \n",
    "Парная выборка означает, что некоторая переменная измеряется дважды для одних и тех же объектов. В нашем примере это пара измерений для каждого пользователя — до и после обновления сервера.  \n"
   ]
  },
  {
   "cell_type": "markdown",
   "id": "61213c5e",
   "metadata": {},
   "source": [
    "#### Шаг 7. Выводы"
   ]
  },
  {
   "cell_type": "markdown",
   "id": "1a20b5a5",
   "metadata": {},
   "source": [
    "На основании проведенного анализа можно сделать выводы:  \n",
    "1. В тройку самых активных пользователей аренды самокатов GoFast входят жители Пятигорска, Екатеринбурга и Ростова-на-Дону.  \n",
    "2. Количество пользователей без подписки обгоняет на 8% количество пользователей с подпиской.  \n",
    "3. Самые активные пользователи самокатов в возврасте от 22 до 27 лет.  \n",
    "4. В среднем поездка длится 15-20 минут. За это время пользователи проезжают около 3 километров. Такую статистику показали пользователи и с подпиской и без нее.   \n",
    "5. Проверили ряд гипотез:\n",
    "  * отвергли нулевую гипотезу, о том что среднее время поездок пользователей не зависит от наличия подписки и являются равными.  \n",
    "  * недостаточно доказательств, чтобы отвергнуть нулевую гипотезу, что среднее расстояние поездки с подпиской - 3130 метров.  \n",
    "  * отвергли нулевую гипотезу, что пользователи с подпиской и без нее приносят одинаковую ежемесячную выручку.  "
   ]
  }
 ],
 "metadata": {
  "ExecuteTimeLog": [
   {
    "duration": 57,
    "start_time": "2024-03-25T13:34:37.558Z"
   },
   {
    "duration": 1353,
    "start_time": "2024-03-25T13:40:58.911Z"
   },
   {
    "duration": 305,
    "start_time": "2024-03-25T13:41:01.854Z"
   },
   {
    "duration": 13,
    "start_time": "2024-03-25T13:43:35.208Z"
   },
   {
    "duration": 16,
    "start_time": "2024-03-25T13:44:01.889Z"
   },
   {
    "duration": 9,
    "start_time": "2024-03-25T13:44:19.910Z"
   },
   {
    "duration": 11,
    "start_time": "2024-03-25T13:44:55.121Z"
   },
   {
    "duration": 11,
    "start_time": "2024-03-25T13:46:21.026Z"
   },
   {
    "duration": 12,
    "start_time": "2024-03-25T13:46:59.769Z"
   },
   {
    "duration": 9,
    "start_time": "2024-03-25T13:48:33.901Z"
   },
   {
    "duration": 11,
    "start_time": "2024-03-25T13:48:42.354Z"
   },
   {
    "duration": 8,
    "start_time": "2024-03-25T14:02:54.521Z"
   },
   {
    "duration": 12,
    "start_time": "2024-03-25T14:03:07.618Z"
   },
   {
    "duration": 22,
    "start_time": "2024-03-25T14:05:22.890Z"
   },
   {
    "duration": 113,
    "start_time": "2024-03-25T14:10:44.293Z"
   },
   {
    "duration": 6,
    "start_time": "2024-03-25T14:13:17.337Z"
   },
   {
    "duration": 6,
    "start_time": "2024-03-25T14:13:48.433Z"
   },
   {
    "duration": 5,
    "start_time": "2024-03-25T14:14:26.357Z"
   },
   {
    "duration": 6,
    "start_time": "2024-03-25T14:15:53.638Z"
   },
   {
    "duration": 12,
    "start_time": "2024-03-25T14:30:01.099Z"
   },
   {
    "duration": 10,
    "start_time": "2024-03-25T14:32:48.725Z"
   },
   {
    "duration": 15,
    "start_time": "2024-03-25T14:33:12.926Z"
   },
   {
    "duration": 6,
    "start_time": "2024-03-25T14:33:38.021Z"
   },
   {
    "duration": 1117,
    "start_time": "2024-03-25T14:33:47.522Z"
   },
   {
    "duration": 69,
    "start_time": "2024-03-25T14:33:48.640Z"
   },
   {
    "duration": 12,
    "start_time": "2024-03-25T14:33:48.711Z"
   },
   {
    "duration": 16,
    "start_time": "2024-03-25T14:33:48.726Z"
   },
   {
    "duration": 14,
    "start_time": "2024-03-25T14:33:48.744Z"
   },
   {
    "duration": 14,
    "start_time": "2024-03-25T14:33:48.759Z"
   },
   {
    "duration": 9,
    "start_time": "2024-03-25T14:33:48.775Z"
   },
   {
    "duration": 20,
    "start_time": "2024-03-25T14:33:48.786Z"
   },
   {
    "duration": 9,
    "start_time": "2024-03-25T14:33:48.808Z"
   },
   {
    "duration": 17,
    "start_time": "2024-03-25T14:33:48.819Z"
   },
   {
    "duration": 24,
    "start_time": "2024-03-25T14:33:48.838Z"
   },
   {
    "duration": 4,
    "start_time": "2024-03-25T14:33:48.864Z"
   },
   {
    "duration": 7,
    "start_time": "2024-03-25T14:33:48.880Z"
   },
   {
    "duration": 16,
    "start_time": "2024-03-25T14:33:48.888Z"
   },
   {
    "duration": 6,
    "start_time": "2024-03-25T14:33:48.906Z"
   },
   {
    "duration": 7,
    "start_time": "2024-03-25T14:33:48.914Z"
   },
   {
    "duration": 19,
    "start_time": "2024-03-25T14:33:48.922Z"
   },
   {
    "duration": 8,
    "start_time": "2024-03-25T14:35:34.315Z"
   },
   {
    "duration": 5,
    "start_time": "2024-03-25T14:35:51.370Z"
   },
   {
    "duration": 83,
    "start_time": "2024-03-25T14:38:27.340Z"
   },
   {
    "duration": 108,
    "start_time": "2024-03-25T15:08:57.838Z"
   },
   {
    "duration": 15,
    "start_time": "2024-03-25T15:09:08.571Z"
   },
   {
    "duration": 189,
    "start_time": "2024-03-25T15:09:33.705Z"
   },
   {
    "duration": 190,
    "start_time": "2024-03-25T15:10:08.073Z"
   },
   {
    "duration": 183,
    "start_time": "2024-03-25T15:19:54.192Z"
   },
   {
    "duration": 20,
    "start_time": "2024-03-25T15:27:30.188Z"
   },
   {
    "duration": 12,
    "start_time": "2024-03-25T15:27:39.595Z"
   },
   {
    "duration": 11,
    "start_time": "2024-03-25T15:27:51.150Z"
   },
   {
    "duration": 13,
    "start_time": "2024-03-25T15:27:55.988Z"
   },
   {
    "duration": 156,
    "start_time": "2024-03-25T15:43:28.470Z"
   },
   {
    "duration": 140,
    "start_time": "2024-03-25T15:43:53.424Z"
   },
   {
    "duration": 177,
    "start_time": "2024-03-25T15:44:11.978Z"
   },
   {
    "duration": 187,
    "start_time": "2024-03-25T15:50:44.901Z"
   },
   {
    "duration": 10,
    "start_time": "2024-03-25T15:50:52.227Z"
   },
   {
    "duration": 10,
    "start_time": "2024-03-25T15:51:00.888Z"
   },
   {
    "duration": 209,
    "start_time": "2024-03-25T15:51:33.012Z"
   },
   {
    "duration": 170,
    "start_time": "2024-03-25T15:51:38.366Z"
   },
   {
    "duration": 290,
    "start_time": "2024-03-25T15:51:48.017Z"
   },
   {
    "duration": 178,
    "start_time": "2024-03-25T16:00:11.557Z"
   },
   {
    "duration": 185,
    "start_time": "2024-03-25T16:00:20.208Z"
   },
   {
    "duration": 9,
    "start_time": "2024-03-25T16:01:45.018Z"
   },
   {
    "duration": 220,
    "start_time": "2024-03-25T16:02:52.598Z"
   },
   {
    "duration": 53,
    "start_time": "2024-03-26T07:46:20.997Z"
   },
   {
    "duration": 1336,
    "start_time": "2024-03-26T07:46:28.738Z"
   },
   {
    "duration": 216,
    "start_time": "2024-03-26T07:46:30.075Z"
   },
   {
    "duration": 15,
    "start_time": "2024-03-26T07:46:30.293Z"
   },
   {
    "duration": 52,
    "start_time": "2024-03-26T07:46:30.310Z"
   },
   {
    "duration": 74,
    "start_time": "2024-03-26T07:46:30.364Z"
   },
   {
    "duration": 58,
    "start_time": "2024-03-26T07:46:30.440Z"
   },
   {
    "duration": 42,
    "start_time": "2024-03-26T07:46:30.499Z"
   },
   {
    "duration": 50,
    "start_time": "2024-03-26T07:46:30.543Z"
   },
   {
    "duration": 44,
    "start_time": "2024-03-26T07:46:30.594Z"
   },
   {
    "duration": 37,
    "start_time": "2024-03-26T07:46:30.641Z"
   },
   {
    "duration": 37,
    "start_time": "2024-03-26T07:46:30.679Z"
   },
   {
    "duration": 32,
    "start_time": "2024-03-26T07:46:30.717Z"
   },
   {
    "duration": 72,
    "start_time": "2024-03-26T07:46:30.751Z"
   },
   {
    "duration": 47,
    "start_time": "2024-03-26T07:46:30.825Z"
   },
   {
    "duration": 25,
    "start_time": "2024-03-26T07:46:30.874Z"
   },
   {
    "duration": 112,
    "start_time": "2024-03-26T07:46:30.900Z"
   },
   {
    "duration": 130,
    "start_time": "2024-03-26T07:46:31.014Z"
   },
   {
    "duration": 51,
    "start_time": "2024-03-26T07:46:31.146Z"
   },
   {
    "duration": 62,
    "start_time": "2024-03-26T07:46:31.199Z"
   },
   {
    "duration": 239,
    "start_time": "2024-03-26T07:46:31.263Z"
   },
   {
    "duration": 17,
    "start_time": "2024-03-26T07:46:31.503Z"
   },
   {
    "duration": 162,
    "start_time": "2024-03-26T07:46:31.521Z"
   },
   {
    "duration": 7,
    "start_time": "2024-03-26T07:46:31.685Z"
   },
   {
    "duration": 214,
    "start_time": "2024-03-26T07:46:31.694Z"
   },
   {
    "duration": 10,
    "start_time": "2024-03-26T07:46:31.910Z"
   },
   {
    "duration": 243,
    "start_time": "2024-03-26T07:46:31.922Z"
   },
   {
    "duration": 9,
    "start_time": "2024-03-26T07:52:15.281Z"
   },
   {
    "duration": 216,
    "start_time": "2024-03-26T07:53:18.671Z"
   },
   {
    "duration": 196,
    "start_time": "2024-03-26T07:54:16.290Z"
   },
   {
    "duration": 11,
    "start_time": "2024-03-26T08:06:44.259Z"
   },
   {
    "duration": 107,
    "start_time": "2024-03-26T08:10:19.152Z"
   },
   {
    "duration": 19,
    "start_time": "2024-03-26T08:11:23.860Z"
   },
   {
    "duration": 1180,
    "start_time": "2024-03-26T08:11:32.013Z"
   },
   {
    "duration": 72,
    "start_time": "2024-03-26T08:11:33.195Z"
   },
   {
    "duration": 12,
    "start_time": "2024-03-26T08:11:33.269Z"
   },
   {
    "duration": 20,
    "start_time": "2024-03-26T08:11:33.282Z"
   },
   {
    "duration": 19,
    "start_time": "2024-03-26T08:11:33.304Z"
   },
   {
    "duration": 16,
    "start_time": "2024-03-26T08:11:33.325Z"
   },
   {
    "duration": 7,
    "start_time": "2024-03-26T08:11:33.343Z"
   },
   {
    "duration": 18,
    "start_time": "2024-03-26T08:11:33.351Z"
   },
   {
    "duration": 8,
    "start_time": "2024-03-26T08:11:33.371Z"
   },
   {
    "duration": 10,
    "start_time": "2024-03-26T08:11:33.380Z"
   },
   {
    "duration": 36,
    "start_time": "2024-03-26T08:11:33.392Z"
   },
   {
    "duration": 11,
    "start_time": "2024-03-26T08:11:33.430Z"
   },
   {
    "duration": 7,
    "start_time": "2024-03-26T08:11:33.443Z"
   },
   {
    "duration": 28,
    "start_time": "2024-03-26T08:11:33.454Z"
   },
   {
    "duration": 5,
    "start_time": "2024-03-26T08:11:33.484Z"
   },
   {
    "duration": 30,
    "start_time": "2024-03-26T08:11:33.491Z"
   },
   {
    "duration": 5,
    "start_time": "2024-03-26T08:11:33.523Z"
   },
   {
    "duration": 6,
    "start_time": "2024-03-26T08:11:33.530Z"
   },
   {
    "duration": 19,
    "start_time": "2024-03-26T08:11:33.537Z"
   },
   {
    "duration": 250,
    "start_time": "2024-03-26T08:11:33.558Z"
   },
   {
    "duration": 13,
    "start_time": "2024-03-26T08:11:33.810Z"
   },
   {
    "duration": 167,
    "start_time": "2024-03-26T08:11:33.825Z"
   },
   {
    "duration": 8,
    "start_time": "2024-03-26T08:11:33.993Z"
   },
   {
    "duration": 203,
    "start_time": "2024-03-26T08:11:34.002Z"
   },
   {
    "duration": 14,
    "start_time": "2024-03-26T08:11:34.207Z"
   },
   {
    "duration": 215,
    "start_time": "2024-03-26T08:11:34.223Z"
   },
   {
    "duration": 9,
    "start_time": "2024-03-26T08:11:34.440Z"
   },
   {
    "duration": 225,
    "start_time": "2024-03-26T08:11:34.451Z"
   },
   {
    "duration": 116,
    "start_time": "2024-03-26T08:11:34.678Z"
   },
   {
    "duration": 1142,
    "start_time": "2024-03-26T08:11:42.835Z"
   },
   {
    "duration": 72,
    "start_time": "2024-03-26T08:11:43.979Z"
   },
   {
    "duration": 11,
    "start_time": "2024-03-26T08:11:44.053Z"
   },
   {
    "duration": 11,
    "start_time": "2024-03-26T08:11:44.066Z"
   },
   {
    "duration": 15,
    "start_time": "2024-03-26T08:11:44.079Z"
   },
   {
    "duration": 12,
    "start_time": "2024-03-26T08:11:44.096Z"
   },
   {
    "duration": 6,
    "start_time": "2024-03-26T08:11:44.115Z"
   },
   {
    "duration": 23,
    "start_time": "2024-03-26T08:11:44.123Z"
   },
   {
    "duration": 9,
    "start_time": "2024-03-26T08:11:44.148Z"
   },
   {
    "duration": 10,
    "start_time": "2024-03-26T08:11:44.160Z"
   },
   {
    "duration": 15,
    "start_time": "2024-03-26T08:11:44.171Z"
   },
   {
    "duration": 33,
    "start_time": "2024-03-26T08:11:44.187Z"
   },
   {
    "duration": 8,
    "start_time": "2024-03-26T08:11:44.222Z"
   },
   {
    "duration": 24,
    "start_time": "2024-03-26T08:11:44.232Z"
   },
   {
    "duration": 7,
    "start_time": "2024-03-26T08:11:44.258Z"
   },
   {
    "duration": 13,
    "start_time": "2024-03-26T08:11:44.266Z"
   },
   {
    "duration": 34,
    "start_time": "2024-03-26T08:11:44.281Z"
   },
   {
    "duration": 8,
    "start_time": "2024-03-26T08:11:44.317Z"
   },
   {
    "duration": 18,
    "start_time": "2024-03-26T08:11:44.327Z"
   },
   {
    "duration": 225,
    "start_time": "2024-03-26T08:11:44.347Z"
   },
   {
    "duration": 12,
    "start_time": "2024-03-26T08:11:44.574Z"
   },
   {
    "duration": 182,
    "start_time": "2024-03-26T08:11:44.588Z"
   },
   {
    "duration": 9,
    "start_time": "2024-03-26T08:11:44.773Z"
   },
   {
    "duration": 204,
    "start_time": "2024-03-26T08:11:44.783Z"
   },
   {
    "duration": 10,
    "start_time": "2024-03-26T08:11:44.989Z"
   },
   {
    "duration": 215,
    "start_time": "2024-03-26T08:11:45.014Z"
   },
   {
    "duration": 9,
    "start_time": "2024-03-26T08:11:45.231Z"
   },
   {
    "duration": 239,
    "start_time": "2024-03-26T08:11:45.244Z"
   },
   {
    "duration": 112,
    "start_time": "2024-03-26T08:11:45.484Z"
   },
   {
    "duration": 21,
    "start_time": "2024-03-26T08:14:13.216Z"
   },
   {
    "duration": 9,
    "start_time": "2024-03-26T08:20:18.964Z"
   },
   {
    "duration": 47,
    "start_time": "2024-03-26T08:20:36.845Z"
   },
   {
    "duration": 12,
    "start_time": "2024-03-26T09:00:19.300Z"
   },
   {
    "duration": 10,
    "start_time": "2024-03-26T09:00:51.546Z"
   },
   {
    "duration": 10,
    "start_time": "2024-03-26T09:01:14.053Z"
   },
   {
    "duration": 9,
    "start_time": "2024-03-26T09:01:18.651Z"
   },
   {
    "duration": 20,
    "start_time": "2024-03-26T09:01:56.410Z"
   },
   {
    "duration": 32,
    "start_time": "2024-03-26T09:02:14.745Z"
   },
   {
    "duration": 27,
    "start_time": "2024-03-26T09:03:58.610Z"
   },
   {
    "duration": 26,
    "start_time": "2024-03-26T09:04:54.497Z"
   },
   {
    "duration": 61,
    "start_time": "2024-03-26T09:05:25.076Z"
   },
   {
    "duration": 289,
    "start_time": "2024-03-26T09:17:55.653Z"
   },
   {
    "duration": 228,
    "start_time": "2024-03-26T09:22:56.139Z"
   },
   {
    "duration": 375,
    "start_time": "2024-03-26T09:23:05.603Z"
   },
   {
    "duration": 192,
    "start_time": "2024-03-26T09:27:02.207Z"
   },
   {
    "duration": 280,
    "start_time": "2024-03-26T09:27:40.494Z"
   },
   {
    "duration": 266,
    "start_time": "2024-03-26T09:29:21.939Z"
   },
   {
    "duration": 263,
    "start_time": "2024-03-26T09:30:01.125Z"
   },
   {
    "duration": 303,
    "start_time": "2024-03-26T09:30:07.280Z"
   },
   {
    "duration": 358,
    "start_time": "2024-03-26T09:33:28.626Z"
   },
   {
    "duration": 845,
    "start_time": "2024-03-26T09:45:02.727Z"
   },
   {
    "duration": 871,
    "start_time": "2024-03-26T09:45:17.227Z"
   },
   {
    "duration": 985,
    "start_time": "2024-03-26T09:45:37.126Z"
   },
   {
    "duration": 893,
    "start_time": "2024-03-26T09:45:45.055Z"
   },
   {
    "duration": 887,
    "start_time": "2024-03-26T09:45:47.846Z"
   },
   {
    "duration": 1032,
    "start_time": "2024-03-26T09:47:22.040Z"
   },
   {
    "duration": 23,
    "start_time": "2024-03-26T09:49:33.306Z"
   },
   {
    "duration": 14,
    "start_time": "2024-03-26T10:00:02.508Z"
   },
   {
    "duration": 12,
    "start_time": "2024-03-26T10:00:24.046Z"
   },
   {
    "duration": 15,
    "start_time": "2024-03-26T10:01:34.357Z"
   },
   {
    "duration": 30,
    "start_time": "2024-03-26T10:19:44.616Z"
   },
   {
    "duration": 12,
    "start_time": "2024-03-26T10:20:07.031Z"
   },
   {
    "duration": 15,
    "start_time": "2024-03-26T10:21:45.678Z"
   },
   {
    "duration": 18,
    "start_time": "2024-03-26T10:23:55.468Z"
   },
   {
    "duration": 22,
    "start_time": "2024-03-26T10:24:09.684Z"
   },
   {
    "duration": 26,
    "start_time": "2024-03-26T10:25:38.233Z"
   },
   {
    "duration": 30,
    "start_time": "2024-03-26T10:25:53.493Z"
   },
   {
    "duration": 17,
    "start_time": "2024-03-26T10:27:33.075Z"
   },
   {
    "duration": 26,
    "start_time": "2024-03-26T10:27:56.141Z"
   },
   {
    "duration": 23,
    "start_time": "2024-03-26T10:28:15.823Z"
   },
   {
    "duration": 16,
    "start_time": "2024-03-26T10:29:14.780Z"
   },
   {
    "duration": 19,
    "start_time": "2024-03-26T10:29:20.374Z"
   },
   {
    "duration": 19,
    "start_time": "2024-03-26T10:32:01.115Z"
   },
   {
    "duration": 1084,
    "start_time": "2024-03-26T10:32:06.973Z"
   },
   {
    "duration": 73,
    "start_time": "2024-03-26T10:32:08.059Z"
   },
   {
    "duration": 16,
    "start_time": "2024-03-26T10:32:08.135Z"
   },
   {
    "duration": 13,
    "start_time": "2024-03-26T10:32:08.153Z"
   },
   {
    "duration": 9,
    "start_time": "2024-03-26T10:32:08.168Z"
   },
   {
    "duration": 16,
    "start_time": "2024-03-26T10:32:08.178Z"
   },
   {
    "duration": 20,
    "start_time": "2024-03-26T10:32:08.196Z"
   },
   {
    "duration": 11,
    "start_time": "2024-03-26T10:32:08.217Z"
   },
   {
    "duration": 9,
    "start_time": "2024-03-26T10:32:08.230Z"
   },
   {
    "duration": 10,
    "start_time": "2024-03-26T10:32:08.242Z"
   },
   {
    "duration": 20,
    "start_time": "2024-03-26T10:32:08.253Z"
   },
   {
    "duration": 5,
    "start_time": "2024-03-26T10:32:08.274Z"
   },
   {
    "duration": 35,
    "start_time": "2024-03-26T10:32:08.281Z"
   },
   {
    "duration": 14,
    "start_time": "2024-03-26T10:32:08.318Z"
   },
   {
    "duration": 5,
    "start_time": "2024-03-26T10:32:08.333Z"
   },
   {
    "duration": 33,
    "start_time": "2024-03-26T10:32:08.339Z"
   },
   {
    "duration": 9,
    "start_time": "2024-03-26T10:32:08.374Z"
   },
   {
    "duration": 12,
    "start_time": "2024-03-26T10:32:08.385Z"
   },
   {
    "duration": 13,
    "start_time": "2024-03-26T10:32:08.398Z"
   },
   {
    "duration": 196,
    "start_time": "2024-03-26T10:32:08.415Z"
   },
   {
    "duration": 11,
    "start_time": "2024-03-26T10:32:08.615Z"
   },
   {
    "duration": 169,
    "start_time": "2024-03-26T10:32:08.628Z"
   },
   {
    "duration": 18,
    "start_time": "2024-03-26T10:32:08.799Z"
   },
   {
    "duration": 223,
    "start_time": "2024-03-26T10:32:08.819Z"
   },
   {
    "duration": 9,
    "start_time": "2024-03-26T10:32:09.044Z"
   },
   {
    "duration": 226,
    "start_time": "2024-03-26T10:32:09.054Z"
   },
   {
    "duration": 9,
    "start_time": "2024-03-26T10:32:09.281Z"
   },
   {
    "duration": 221,
    "start_time": "2024-03-26T10:32:09.294Z"
   },
   {
    "duration": 30,
    "start_time": "2024-03-26T10:32:09.517Z"
   },
   {
    "duration": 21,
    "start_time": "2024-03-26T10:32:09.549Z"
   },
   {
    "duration": 19,
    "start_time": "2024-03-26T10:32:09.572Z"
   },
   {
    "duration": 292,
    "start_time": "2024-03-26T10:32:09.592Z"
   },
   {
    "duration": 278,
    "start_time": "2024-03-26T10:32:09.886Z"
   },
   {
    "duration": 19,
    "start_time": "2024-03-26T10:32:10.166Z"
   },
   {
    "duration": 129,
    "start_time": "2024-03-26T10:32:10.187Z"
   },
   {
    "duration": 22,
    "start_time": "2024-03-26T10:32:10.318Z"
   },
   {
    "duration": 20,
    "start_time": "2024-03-26T10:33:34.517Z"
   },
   {
    "duration": 19,
    "start_time": "2024-03-26T10:33:46.445Z"
   },
   {
    "duration": 22,
    "start_time": "2024-03-26T10:33:55.264Z"
   },
   {
    "duration": 19,
    "start_time": "2024-03-26T10:34:03.301Z"
   },
   {
    "duration": 37,
    "start_time": "2024-03-26T10:35:43.105Z"
   },
   {
    "duration": 35,
    "start_time": "2024-03-26T10:48:34.035Z"
   },
   {
    "duration": 53,
    "start_time": "2024-03-26T10:48:41.042Z"
   },
   {
    "duration": 354,
    "start_time": "2024-03-26T10:49:00.126Z"
   },
   {
    "duration": 32,
    "start_time": "2024-03-26T10:49:40.935Z"
   },
   {
    "duration": 250,
    "start_time": "2024-03-26T10:50:16.975Z"
   },
   {
    "duration": 36,
    "start_time": "2024-03-26T10:53:15.056Z"
   },
   {
    "duration": 315,
    "start_time": "2024-03-26T10:55:20.279Z"
   },
   {
    "duration": 36,
    "start_time": "2024-03-26T10:55:41.176Z"
   },
   {
    "duration": 35,
    "start_time": "2024-03-26T10:58:24.270Z"
   },
   {
    "duration": 38,
    "start_time": "2024-03-26T10:59:08.726Z"
   },
   {
    "duration": 36,
    "start_time": "2024-03-26T10:59:14.945Z"
   },
   {
    "duration": 847,
    "start_time": "2024-03-26T11:09:46.185Z"
   },
   {
    "duration": 987,
    "start_time": "2024-03-26T11:10:16.532Z"
   },
   {
    "duration": 922,
    "start_time": "2024-03-26T11:11:03.916Z"
   },
   {
    "duration": 14,
    "start_time": "2024-03-26T11:13:02.036Z"
   },
   {
    "duration": 8,
    "start_time": "2024-03-26T11:13:13.489Z"
   },
   {
    "duration": 19,
    "start_time": "2024-03-26T11:13:23.363Z"
   },
   {
    "duration": 39,
    "start_time": "2024-03-26T11:15:16.745Z"
   },
   {
    "duration": 30,
    "start_time": "2024-03-26T11:16:10.445Z"
   },
   {
    "duration": 912,
    "start_time": "2024-03-26T11:21:24.506Z"
   },
   {
    "duration": 363,
    "start_time": "2024-03-26T11:21:50.007Z"
   },
   {
    "duration": 397,
    "start_time": "2024-03-26T11:24:43.124Z"
   },
   {
    "duration": 1087,
    "start_time": "2024-03-26T11:26:48.088Z"
   },
   {
    "duration": 865,
    "start_time": "2024-03-26T11:29:51.990Z"
   },
   {
    "duration": 847,
    "start_time": "2024-03-26T11:29:58.972Z"
   },
   {
    "duration": 385,
    "start_time": "2024-03-26T11:30:38.922Z"
   },
   {
    "duration": 1140,
    "start_time": "2024-03-26T11:33:39.774Z"
   },
   {
    "duration": 77,
    "start_time": "2024-03-26T11:33:40.917Z"
   },
   {
    "duration": 11,
    "start_time": "2024-03-26T11:33:40.995Z"
   },
   {
    "duration": 36,
    "start_time": "2024-03-26T11:33:41.008Z"
   },
   {
    "duration": 14,
    "start_time": "2024-03-26T11:33:41.046Z"
   },
   {
    "duration": 34,
    "start_time": "2024-03-26T11:33:41.062Z"
   },
   {
    "duration": 15,
    "start_time": "2024-03-26T11:33:41.097Z"
   },
   {
    "duration": 40,
    "start_time": "2024-03-26T11:33:41.114Z"
   },
   {
    "duration": 29,
    "start_time": "2024-03-26T11:33:41.156Z"
   },
   {
    "duration": 24,
    "start_time": "2024-03-26T11:33:41.187Z"
   },
   {
    "duration": 24,
    "start_time": "2024-03-26T11:33:41.213Z"
   },
   {
    "duration": 6,
    "start_time": "2024-03-26T11:33:41.239Z"
   },
   {
    "duration": 14,
    "start_time": "2024-03-26T11:33:41.247Z"
   },
   {
    "duration": 41,
    "start_time": "2024-03-26T11:33:41.264Z"
   },
   {
    "duration": 9,
    "start_time": "2024-03-26T11:33:41.307Z"
   },
   {
    "duration": 32,
    "start_time": "2024-03-26T11:33:41.318Z"
   },
   {
    "duration": 6,
    "start_time": "2024-03-26T11:33:41.352Z"
   },
   {
    "duration": 19,
    "start_time": "2024-03-26T11:33:41.359Z"
   },
   {
    "duration": 23,
    "start_time": "2024-03-26T11:33:41.380Z"
   },
   {
    "duration": 224,
    "start_time": "2024-03-26T11:33:41.404Z"
   },
   {
    "duration": 12,
    "start_time": "2024-03-26T11:33:41.630Z"
   },
   {
    "duration": 179,
    "start_time": "2024-03-26T11:33:41.644Z"
   },
   {
    "duration": 9,
    "start_time": "2024-03-26T11:33:41.825Z"
   },
   {
    "duration": 211,
    "start_time": "2024-03-26T11:33:41.836Z"
   },
   {
    "duration": 9,
    "start_time": "2024-03-26T11:33:42.048Z"
   },
   {
    "duration": 284,
    "start_time": "2024-03-26T11:33:42.058Z"
   },
   {
    "duration": 9,
    "start_time": "2024-03-26T11:33:42.343Z"
   },
   {
    "duration": 241,
    "start_time": "2024-03-26T11:33:42.354Z"
   },
   {
    "duration": 41,
    "start_time": "2024-03-26T11:33:42.597Z"
   },
   {
    "duration": 20,
    "start_time": "2024-03-26T11:33:42.640Z"
   },
   {
    "duration": 25,
    "start_time": "2024-03-26T11:33:42.662Z"
   },
   {
    "duration": 302,
    "start_time": "2024-03-26T11:33:42.688Z"
   },
   {
    "duration": 293,
    "start_time": "2024-03-26T11:33:42.992Z"
   },
   {
    "duration": 124,
    "start_time": "2024-03-26T11:33:43.287Z"
   },
   {
    "duration": 37,
    "start_time": "2024-03-26T11:33:43.412Z"
   },
   {
    "duration": 455,
    "start_time": "2024-03-26T11:33:43.450Z"
   },
   {
    "duration": 443,
    "start_time": "2024-03-26T11:33:47.663Z"
   },
   {
    "duration": 58,
    "start_time": "2024-03-26T11:34:40.057Z"
   },
   {
    "duration": 57,
    "start_time": "2024-03-26T11:34:44.609Z"
   },
   {
    "duration": 31,
    "start_time": "2024-03-26T11:34:52.343Z"
   },
   {
    "duration": 120,
    "start_time": "2024-03-26T11:35:11.926Z"
   },
   {
    "duration": 37,
    "start_time": "2024-03-26T11:35:17.507Z"
   },
   {
    "duration": 49,
    "start_time": "2024-03-26T11:37:21.145Z"
   },
   {
    "duration": 7,
    "start_time": "2024-03-26T11:37:42.251Z"
   },
   {
    "duration": 7,
    "start_time": "2024-03-26T11:37:47.626Z"
   },
   {
    "duration": 7,
    "start_time": "2024-03-26T11:39:29.612Z"
   },
   {
    "duration": 1159,
    "start_time": "2024-03-26T11:39:41.990Z"
   },
   {
    "duration": 216,
    "start_time": "2024-03-26T11:39:43.150Z"
   },
   {
    "duration": 11,
    "start_time": "2024-03-26T11:39:43.368Z"
   },
   {
    "duration": 11,
    "start_time": "2024-03-26T11:39:43.381Z"
   },
   {
    "duration": 9,
    "start_time": "2024-03-26T11:39:43.393Z"
   },
   {
    "duration": 18,
    "start_time": "2024-03-26T11:39:43.404Z"
   },
   {
    "duration": 9,
    "start_time": "2024-03-26T11:39:43.426Z"
   },
   {
    "duration": 11,
    "start_time": "2024-03-26T11:39:43.437Z"
   },
   {
    "duration": 8,
    "start_time": "2024-03-26T11:39:43.450Z"
   },
   {
    "duration": 10,
    "start_time": "2024-03-26T11:39:43.462Z"
   },
   {
    "duration": 49,
    "start_time": "2024-03-26T11:39:43.473Z"
   },
   {
    "duration": 7,
    "start_time": "2024-03-26T11:39:43.524Z"
   },
   {
    "duration": 7,
    "start_time": "2024-03-26T11:39:43.533Z"
   },
   {
    "duration": 14,
    "start_time": "2024-03-26T11:39:43.541Z"
   },
   {
    "duration": 5,
    "start_time": "2024-03-26T11:39:43.557Z"
   },
   {
    "duration": 16,
    "start_time": "2024-03-26T11:39:43.563Z"
   },
   {
    "duration": 36,
    "start_time": "2024-03-26T11:39:43.580Z"
   },
   {
    "duration": 6,
    "start_time": "2024-03-26T11:39:43.619Z"
   },
   {
    "duration": 15,
    "start_time": "2024-03-26T11:39:43.627Z"
   },
   {
    "duration": 236,
    "start_time": "2024-03-26T11:39:43.643Z"
   },
   {
    "duration": 13,
    "start_time": "2024-03-26T11:39:43.880Z"
   },
   {
    "duration": 177,
    "start_time": "2024-03-26T11:39:43.894Z"
   },
   {
    "duration": 8,
    "start_time": "2024-03-26T11:39:44.073Z"
   },
   {
    "duration": 222,
    "start_time": "2024-03-26T11:39:44.083Z"
   },
   {
    "duration": 18,
    "start_time": "2024-03-26T11:39:44.307Z"
   },
   {
    "duration": 229,
    "start_time": "2024-03-26T11:39:44.328Z"
   },
   {
    "duration": 8,
    "start_time": "2024-03-26T11:39:44.558Z"
   },
   {
    "duration": 238,
    "start_time": "2024-03-26T11:39:44.570Z"
   },
   {
    "duration": 39,
    "start_time": "2024-03-26T11:39:44.809Z"
   },
   {
    "duration": 21,
    "start_time": "2024-03-26T11:39:44.850Z"
   },
   {
    "duration": 50,
    "start_time": "2024-03-26T11:39:44.873Z"
   },
   {
    "duration": 280,
    "start_time": "2024-03-26T11:39:44.926Z"
   },
   {
    "duration": 295,
    "start_time": "2024-03-26T11:39:45.207Z"
   },
   {
    "duration": 50,
    "start_time": "2024-03-26T11:39:45.503Z"
   },
   {
    "duration": 139,
    "start_time": "2024-03-26T11:39:45.555Z"
   },
   {
    "duration": 0,
    "start_time": "2024-03-26T11:39:45.697Z"
   },
   {
    "duration": 41,
    "start_time": "2024-03-26T11:40:15.034Z"
   },
   {
    "duration": 12,
    "start_time": "2024-03-26T11:40:24.608Z"
   },
   {
    "duration": 14,
    "start_time": "2024-03-26T11:42:00.868Z"
   },
   {
    "duration": 14,
    "start_time": "2024-03-26T11:43:08.417Z"
   },
   {
    "duration": 55,
    "start_time": "2024-03-26T11:43:37.335Z"
   },
   {
    "duration": 60,
    "start_time": "2024-03-26T11:43:46.048Z"
   },
   {
    "duration": 8,
    "start_time": "2024-03-26T11:44:38.559Z"
   },
   {
    "duration": 100,
    "start_time": "2024-03-26T11:44:49.478Z"
   },
   {
    "duration": 15,
    "start_time": "2024-03-26T11:45:51.396Z"
   },
   {
    "duration": 962,
    "start_time": "2024-03-26T11:47:44.604Z"
   },
   {
    "duration": 37,
    "start_time": "2024-03-26T11:48:39.996Z"
   },
   {
    "duration": 870,
    "start_time": "2024-03-26T11:49:17.666Z"
   },
   {
    "duration": 16,
    "start_time": "2024-03-26T11:51:03.083Z"
   },
   {
    "duration": 15,
    "start_time": "2024-03-26T11:51:56.949Z"
   },
   {
    "duration": 15,
    "start_time": "2024-03-26T11:52:37.720Z"
   },
   {
    "duration": 883,
    "start_time": "2024-03-26T11:54:31.577Z"
   },
   {
    "duration": 17,
    "start_time": "2024-03-26T15:40:06.375Z"
   },
   {
    "duration": 1175,
    "start_time": "2024-03-26T15:40:14.999Z"
   },
   {
    "duration": 72,
    "start_time": "2024-03-26T15:40:16.176Z"
   },
   {
    "duration": 12,
    "start_time": "2024-03-26T15:40:16.249Z"
   },
   {
    "duration": 25,
    "start_time": "2024-03-26T15:40:16.262Z"
   },
   {
    "duration": 22,
    "start_time": "2024-03-26T15:40:16.290Z"
   },
   {
    "duration": 14,
    "start_time": "2024-03-26T15:40:16.314Z"
   },
   {
    "duration": 6,
    "start_time": "2024-03-26T15:40:16.329Z"
   },
   {
    "duration": 15,
    "start_time": "2024-03-26T15:40:16.337Z"
   },
   {
    "duration": 28,
    "start_time": "2024-03-26T15:40:16.354Z"
   },
   {
    "duration": 25,
    "start_time": "2024-03-26T15:40:16.384Z"
   },
   {
    "duration": 15,
    "start_time": "2024-03-26T15:40:16.410Z"
   },
   {
    "duration": 5,
    "start_time": "2024-03-26T15:40:16.426Z"
   },
   {
    "duration": 21,
    "start_time": "2024-03-26T15:40:16.432Z"
   },
   {
    "duration": 31,
    "start_time": "2024-03-26T15:40:16.456Z"
   },
   {
    "duration": 5,
    "start_time": "2024-03-26T15:40:16.488Z"
   },
   {
    "duration": 17,
    "start_time": "2024-03-26T15:40:16.494Z"
   },
   {
    "duration": 8,
    "start_time": "2024-03-26T15:40:16.512Z"
   },
   {
    "duration": 17,
    "start_time": "2024-03-26T15:40:16.522Z"
   },
   {
    "duration": 13,
    "start_time": "2024-03-26T15:40:16.541Z"
   },
   {
    "duration": 243,
    "start_time": "2024-03-26T15:40:16.556Z"
   },
   {
    "duration": 16,
    "start_time": "2024-03-26T15:40:16.800Z"
   },
   {
    "duration": 171,
    "start_time": "2024-03-26T15:40:16.818Z"
   },
   {
    "duration": 7,
    "start_time": "2024-03-26T15:40:16.991Z"
   },
   {
    "duration": 203,
    "start_time": "2024-03-26T15:40:17.000Z"
   },
   {
    "duration": 13,
    "start_time": "2024-03-26T15:40:17.204Z"
   },
   {
    "duration": 211,
    "start_time": "2024-03-26T15:40:17.219Z"
   },
   {
    "duration": 8,
    "start_time": "2024-03-26T15:40:17.432Z"
   },
   {
    "duration": 218,
    "start_time": "2024-03-26T15:40:17.442Z"
   },
   {
    "duration": 31,
    "start_time": "2024-03-26T15:40:17.662Z"
   },
   {
    "duration": 34,
    "start_time": "2024-03-26T15:40:17.694Z"
   },
   {
    "duration": 21,
    "start_time": "2024-03-26T15:40:17.729Z"
   },
   {
    "duration": 292,
    "start_time": "2024-03-26T15:40:17.751Z"
   },
   {
    "duration": 305,
    "start_time": "2024-03-26T15:40:18.045Z"
   },
   {
    "duration": 37,
    "start_time": "2024-03-26T15:40:18.352Z"
   },
   {
    "duration": 119,
    "start_time": "2024-03-26T15:40:18.391Z"
   },
   {
    "duration": 0,
    "start_time": "2024-03-26T15:40:18.511Z"
   },
   {
    "duration": 910,
    "start_time": "2024-03-26T15:41:09.583Z"
   },
   {
    "duration": 18,
    "start_time": "2024-03-26T15:41:40.950Z"
   },
   {
    "duration": 21,
    "start_time": "2024-03-26T15:41:51.920Z"
   },
   {
    "duration": 1062,
    "start_time": "2024-03-26T15:41:59.992Z"
   },
   {
    "duration": 157,
    "start_time": "2024-03-26T15:42:30.309Z"
   },
   {
    "duration": 50,
    "start_time": "2024-03-26T15:43:33.584Z"
   },
   {
    "duration": 7,
    "start_time": "2024-03-26T15:44:36.059Z"
   },
   {
    "duration": 7,
    "start_time": "2024-03-26T15:45:02.213Z"
   },
   {
    "duration": 7,
    "start_time": "2024-03-26T15:46:10.751Z"
   },
   {
    "duration": 7,
    "start_time": "2024-03-26T15:46:24.266Z"
   },
   {
    "duration": 1132,
    "start_time": "2024-03-26T15:46:49.360Z"
   },
   {
    "duration": 213,
    "start_time": "2024-03-26T15:46:50.494Z"
   },
   {
    "duration": 13,
    "start_time": "2024-03-26T15:46:50.708Z"
   },
   {
    "duration": 12,
    "start_time": "2024-03-26T15:46:50.723Z"
   },
   {
    "duration": 12,
    "start_time": "2024-03-26T15:46:50.736Z"
   },
   {
    "duration": 14,
    "start_time": "2024-03-26T15:46:50.749Z"
   },
   {
    "duration": 6,
    "start_time": "2024-03-26T15:46:50.765Z"
   },
   {
    "duration": 16,
    "start_time": "2024-03-26T15:46:50.773Z"
   },
   {
    "duration": 30,
    "start_time": "2024-03-26T15:46:50.790Z"
   },
   {
    "duration": 13,
    "start_time": "2024-03-26T15:46:50.822Z"
   },
   {
    "duration": 19,
    "start_time": "2024-03-26T15:46:50.837Z"
   },
   {
    "duration": 5,
    "start_time": "2024-03-26T15:46:50.857Z"
   },
   {
    "duration": 11,
    "start_time": "2024-03-26T15:46:50.864Z"
   },
   {
    "duration": 16,
    "start_time": "2024-03-26T15:46:50.877Z"
   },
   {
    "duration": 5,
    "start_time": "2024-03-26T15:46:50.915Z"
   },
   {
    "duration": 18,
    "start_time": "2024-03-26T15:46:50.922Z"
   },
   {
    "duration": 5,
    "start_time": "2024-03-26T15:46:50.942Z"
   },
   {
    "duration": 15,
    "start_time": "2024-03-26T15:46:50.948Z"
   },
   {
    "duration": 13,
    "start_time": "2024-03-26T15:46:50.964Z"
   },
   {
    "duration": 209,
    "start_time": "2024-03-26T15:46:50.978Z"
   },
   {
    "duration": 12,
    "start_time": "2024-03-26T15:46:51.189Z"
   },
   {
    "duration": 172,
    "start_time": "2024-03-26T15:46:51.203Z"
   },
   {
    "duration": 8,
    "start_time": "2024-03-26T15:46:51.376Z"
   },
   {
    "duration": 196,
    "start_time": "2024-03-26T15:46:51.385Z"
   },
   {
    "duration": 8,
    "start_time": "2024-03-26T15:46:51.583Z"
   },
   {
    "duration": 217,
    "start_time": "2024-03-26T15:46:51.593Z"
   },
   {
    "duration": 8,
    "start_time": "2024-03-26T15:46:51.814Z"
   },
   {
    "duration": 211,
    "start_time": "2024-03-26T15:46:51.825Z"
   },
   {
    "duration": 31,
    "start_time": "2024-03-26T15:46:52.038Z"
   },
   {
    "duration": 22,
    "start_time": "2024-03-26T15:46:52.071Z"
   },
   {
    "duration": 38,
    "start_time": "2024-03-26T15:46:52.095Z"
   },
   {
    "duration": 297,
    "start_time": "2024-03-26T15:46:52.134Z"
   },
   {
    "duration": 275,
    "start_time": "2024-03-26T15:46:52.432Z"
   },
   {
    "duration": 46,
    "start_time": "2024-03-26T15:46:52.708Z"
   },
   {
    "duration": 1043,
    "start_time": "2024-03-26T15:46:52.756Z"
   },
   {
    "duration": 883,
    "start_time": "2024-03-26T15:49:43.208Z"
   },
   {
    "duration": 4,
    "start_time": "2024-03-26T15:50:22.738Z"
   },
   {
    "duration": 913,
    "start_time": "2024-03-26T15:50:42.223Z"
   },
   {
    "duration": 880,
    "start_time": "2024-03-26T15:51:55.319Z"
   },
   {
    "duration": 11,
    "start_time": "2024-03-26T15:55:32.609Z"
   },
   {
    "duration": 37,
    "start_time": "2024-03-26T15:55:49.386Z"
   },
   {
    "duration": 61,
    "start_time": "2024-03-29T13:29:18.550Z"
   },
   {
    "duration": 8,
    "start_time": "2024-03-29T13:38:57.148Z"
   },
   {
    "duration": 8,
    "start_time": "2024-03-29T13:39:08.054Z"
   },
   {
    "duration": 1304,
    "start_time": "2024-03-29T13:39:15.705Z"
   },
   {
    "duration": 218,
    "start_time": "2024-03-29T13:39:17.011Z"
   },
   {
    "duration": 13,
    "start_time": "2024-03-29T13:39:17.231Z"
   },
   {
    "duration": 12,
    "start_time": "2024-03-29T13:39:17.245Z"
   },
   {
    "duration": 8,
    "start_time": "2024-03-29T13:39:17.259Z"
   },
   {
    "duration": 14,
    "start_time": "2024-03-29T13:39:17.268Z"
   },
   {
    "duration": 7,
    "start_time": "2024-03-29T13:39:17.283Z"
   },
   {
    "duration": 31,
    "start_time": "2024-03-29T13:39:17.291Z"
   },
   {
    "duration": 7,
    "start_time": "2024-03-29T13:39:17.323Z"
   },
   {
    "duration": 10,
    "start_time": "2024-03-29T13:39:17.332Z"
   },
   {
    "duration": 14,
    "start_time": "2024-03-29T13:39:17.343Z"
   },
   {
    "duration": 4,
    "start_time": "2024-03-29T13:39:17.359Z"
   },
   {
    "duration": 7,
    "start_time": "2024-03-29T13:39:17.365Z"
   },
   {
    "duration": 43,
    "start_time": "2024-03-29T13:39:17.375Z"
   },
   {
    "duration": 6,
    "start_time": "2024-03-29T13:39:17.419Z"
   },
   {
    "duration": 11,
    "start_time": "2024-03-29T13:39:17.426Z"
   },
   {
    "duration": 4,
    "start_time": "2024-03-29T13:39:17.438Z"
   },
   {
    "duration": 5,
    "start_time": "2024-03-29T13:39:17.444Z"
   },
   {
    "duration": 15,
    "start_time": "2024-03-29T13:39:17.451Z"
   },
   {
    "duration": 227,
    "start_time": "2024-03-29T13:39:17.467Z"
   },
   {
    "duration": 22,
    "start_time": "2024-03-29T13:39:17.696Z"
   },
   {
    "duration": 162,
    "start_time": "2024-03-29T13:39:17.720Z"
   },
   {
    "duration": 8,
    "start_time": "2024-03-29T13:39:17.884Z"
   },
   {
    "duration": 200,
    "start_time": "2024-03-29T13:39:17.894Z"
   },
   {
    "duration": 21,
    "start_time": "2024-03-29T13:39:18.096Z"
   },
   {
    "duration": 215,
    "start_time": "2024-03-29T13:39:18.119Z"
   },
   {
    "duration": 9,
    "start_time": "2024-03-29T13:39:18.336Z"
   },
   {
    "duration": 226,
    "start_time": "2024-03-29T13:39:18.347Z"
   },
   {
    "duration": 32,
    "start_time": "2024-03-29T13:39:18.575Z"
   },
   {
    "duration": 27,
    "start_time": "2024-03-29T13:39:18.608Z"
   },
   {
    "duration": 20,
    "start_time": "2024-03-29T13:39:18.637Z"
   },
   {
    "duration": 309,
    "start_time": "2024-03-29T13:39:18.659Z"
   },
   {
    "duration": 276,
    "start_time": "2024-03-29T13:39:18.970Z"
   },
   {
    "duration": 117,
    "start_time": "2024-03-29T13:39:19.248Z"
   },
   {
    "duration": 3,
    "start_time": "2024-03-29T13:39:19.366Z"
   },
   {
    "duration": 126,
    "start_time": "2024-03-29T13:39:19.371Z"
   },
   {
    "duration": 0,
    "start_time": "2024-03-29T13:39:19.499Z"
   },
   {
    "duration": 9,
    "start_time": "2024-03-29T13:41:44.259Z"
   },
   {
    "duration": 39,
    "start_time": "2024-03-29T13:42:07.657Z"
   },
   {
    "duration": 23,
    "start_time": "2024-03-29T13:45:01.950Z"
   },
   {
    "duration": 6,
    "start_time": "2024-03-29T13:46:23.320Z"
   },
   {
    "duration": 26,
    "start_time": "2024-03-29T13:47:08.548Z"
   },
   {
    "duration": 25,
    "start_time": "2024-03-29T13:47:12.510Z"
   },
   {
    "duration": 1159,
    "start_time": "2024-03-29T13:47:20.009Z"
   },
   {
    "duration": 73,
    "start_time": "2024-03-29T13:47:21.170Z"
   },
   {
    "duration": 12,
    "start_time": "2024-03-29T13:47:21.245Z"
   },
   {
    "duration": 50,
    "start_time": "2024-03-29T13:47:21.258Z"
   },
   {
    "duration": 21,
    "start_time": "2024-03-29T13:47:21.311Z"
   },
   {
    "duration": 19,
    "start_time": "2024-03-29T13:47:21.334Z"
   },
   {
    "duration": 10,
    "start_time": "2024-03-29T13:47:21.355Z"
   },
   {
    "duration": 28,
    "start_time": "2024-03-29T13:47:21.367Z"
   },
   {
    "duration": 9,
    "start_time": "2024-03-29T13:47:21.397Z"
   },
   {
    "duration": 19,
    "start_time": "2024-03-29T13:47:21.407Z"
   },
   {
    "duration": 14,
    "start_time": "2024-03-29T13:47:21.428Z"
   },
   {
    "duration": 5,
    "start_time": "2024-03-29T13:47:21.444Z"
   },
   {
    "duration": 7,
    "start_time": "2024-03-29T13:47:21.451Z"
   },
   {
    "duration": 20,
    "start_time": "2024-03-29T13:47:21.461Z"
   },
   {
    "duration": 6,
    "start_time": "2024-03-29T13:47:21.483Z"
   },
   {
    "duration": 10,
    "start_time": "2024-03-29T13:47:21.515Z"
   },
   {
    "duration": 7,
    "start_time": "2024-03-29T13:47:21.526Z"
   },
   {
    "duration": 7,
    "start_time": "2024-03-29T13:47:21.534Z"
   },
   {
    "duration": 37,
    "start_time": "2024-03-29T13:47:21.543Z"
   },
   {
    "duration": 198,
    "start_time": "2024-03-29T13:47:21.582Z"
   },
   {
    "duration": 12,
    "start_time": "2024-03-29T13:47:21.782Z"
   },
   {
    "duration": 172,
    "start_time": "2024-03-29T13:47:21.796Z"
   },
   {
    "duration": 9,
    "start_time": "2024-03-29T13:47:21.970Z"
   },
   {
    "duration": 194,
    "start_time": "2024-03-29T13:47:21.981Z"
   },
   {
    "duration": 9,
    "start_time": "2024-03-29T13:47:22.177Z"
   },
   {
    "duration": 209,
    "start_time": "2024-03-29T13:47:22.188Z"
   },
   {
    "duration": 15,
    "start_time": "2024-03-29T13:47:22.399Z"
   },
   {
    "duration": 215,
    "start_time": "2024-03-29T13:47:22.416Z"
   },
   {
    "duration": 32,
    "start_time": "2024-03-29T13:47:22.633Z"
   },
   {
    "duration": 22,
    "start_time": "2024-03-29T13:47:22.666Z"
   },
   {
    "duration": 40,
    "start_time": "2024-03-29T13:47:22.689Z"
   },
   {
    "duration": 296,
    "start_time": "2024-03-29T13:47:22.730Z"
   },
   {
    "duration": 297,
    "start_time": "2024-03-29T13:47:23.028Z"
   },
   {
    "duration": 35,
    "start_time": "2024-03-29T13:47:23.327Z"
   },
   {
    "duration": 109,
    "start_time": "2024-03-29T13:47:23.364Z"
   },
   {
    "duration": 5,
    "start_time": "2024-03-29T13:47:23.475Z"
   },
   {
    "duration": 23,
    "start_time": "2024-03-29T13:48:08.061Z"
   },
   {
    "duration": 1218,
    "start_time": "2024-03-29T13:48:21.821Z"
   },
   {
    "duration": 25,
    "start_time": "2024-03-29T13:48:30.601Z"
   },
   {
    "duration": 28,
    "start_time": "2024-03-29T13:50:24.124Z"
   },
   {
    "duration": 30,
    "start_time": "2024-03-29T13:51:03.499Z"
   },
   {
    "duration": 1390,
    "start_time": "2024-03-29T13:51:19.842Z"
   },
   {
    "duration": 30,
    "start_time": "2024-03-29T13:52:18.769Z"
   },
   {
    "duration": 1109,
    "start_time": "2024-03-29T13:52:50.021Z"
   },
   {
    "duration": 71,
    "start_time": "2024-03-29T13:52:51.132Z"
   },
   {
    "duration": 12,
    "start_time": "2024-03-29T13:52:51.205Z"
   },
   {
    "duration": 13,
    "start_time": "2024-03-29T13:52:51.219Z"
   },
   {
    "duration": 10,
    "start_time": "2024-03-29T13:52:51.234Z"
   },
   {
    "duration": 15,
    "start_time": "2024-03-29T13:52:51.246Z"
   },
   {
    "duration": 8,
    "start_time": "2024-03-29T13:52:51.262Z"
   },
   {
    "duration": 16,
    "start_time": "2024-03-29T13:52:51.271Z"
   },
   {
    "duration": 12,
    "start_time": "2024-03-29T13:52:51.289Z"
   },
   {
    "duration": 19,
    "start_time": "2024-03-29T13:52:51.302Z"
   },
   {
    "duration": 14,
    "start_time": "2024-03-29T13:52:51.322Z"
   },
   {
    "duration": 5,
    "start_time": "2024-03-29T13:52:51.338Z"
   },
   {
    "duration": 6,
    "start_time": "2024-03-29T13:52:51.344Z"
   },
   {
    "duration": 14,
    "start_time": "2024-03-29T13:52:51.353Z"
   },
   {
    "duration": 4,
    "start_time": "2024-03-29T13:52:51.368Z"
   },
   {
    "duration": 41,
    "start_time": "2024-03-29T13:52:51.374Z"
   },
   {
    "duration": 4,
    "start_time": "2024-03-29T13:52:51.417Z"
   },
   {
    "duration": 31,
    "start_time": "2024-03-29T13:52:51.423Z"
   },
   {
    "duration": 14,
    "start_time": "2024-03-29T13:52:51.456Z"
   },
   {
    "duration": 187,
    "start_time": "2024-03-29T13:52:51.472Z"
   },
   {
    "duration": 13,
    "start_time": "2024-03-29T13:52:51.661Z"
   },
   {
    "duration": 163,
    "start_time": "2024-03-29T13:52:51.675Z"
   },
   {
    "duration": 8,
    "start_time": "2024-03-29T13:52:51.840Z"
   },
   {
    "duration": 230,
    "start_time": "2024-03-29T13:52:51.849Z"
   },
   {
    "duration": 10,
    "start_time": "2024-03-29T13:52:52.081Z"
   },
   {
    "duration": 217,
    "start_time": "2024-03-29T13:52:52.093Z"
   },
   {
    "duration": 8,
    "start_time": "2024-03-29T13:52:52.314Z"
   },
   {
    "duration": 206,
    "start_time": "2024-03-29T13:52:52.324Z"
   },
   {
    "duration": 31,
    "start_time": "2024-03-29T13:52:52.532Z"
   },
   {
    "duration": 21,
    "start_time": "2024-03-29T13:52:52.564Z"
   },
   {
    "duration": 42,
    "start_time": "2024-03-29T13:52:52.587Z"
   },
   {
    "duration": 272,
    "start_time": "2024-03-29T13:52:52.630Z"
   },
   {
    "duration": 267,
    "start_time": "2024-03-29T13:52:52.904Z"
   },
   {
    "duration": 53,
    "start_time": "2024-03-29T13:52:53.172Z"
   },
   {
    "duration": 116,
    "start_time": "2024-03-29T13:52:53.227Z"
   },
   {
    "duration": 4,
    "start_time": "2024-03-29T13:52:53.345Z"
   },
   {
    "duration": 1027,
    "start_time": "2024-03-29T14:09:09.495Z"
   },
   {
    "duration": 19,
    "start_time": "2024-03-29T14:09:52.179Z"
   },
   {
    "duration": 913,
    "start_time": "2024-03-29T14:10:20.644Z"
   },
   {
    "duration": 19,
    "start_time": "2024-03-29T14:13:03.672Z"
   },
   {
    "duration": 1068,
    "start_time": "2024-03-29T14:13:53.809Z"
   },
   {
    "duration": 1107,
    "start_time": "2024-03-29T14:14:17.082Z"
   },
   {
    "duration": 71,
    "start_time": "2024-03-29T14:14:18.191Z"
   },
   {
    "duration": 11,
    "start_time": "2024-03-29T14:14:18.264Z"
   },
   {
    "duration": 11,
    "start_time": "2024-03-29T14:14:18.276Z"
   },
   {
    "duration": 8,
    "start_time": "2024-03-29T14:14:18.288Z"
   },
   {
    "duration": 10,
    "start_time": "2024-03-29T14:14:18.297Z"
   },
   {
    "duration": 7,
    "start_time": "2024-03-29T14:14:18.309Z"
   },
   {
    "duration": 18,
    "start_time": "2024-03-29T14:14:18.317Z"
   },
   {
    "duration": 7,
    "start_time": "2024-03-29T14:14:18.336Z"
   },
   {
    "duration": 13,
    "start_time": "2024-03-29T14:14:18.345Z"
   },
   {
    "duration": 14,
    "start_time": "2024-03-29T14:14:18.360Z"
   },
   {
    "duration": 4,
    "start_time": "2024-03-29T14:14:18.376Z"
   },
   {
    "duration": 6,
    "start_time": "2024-03-29T14:14:18.382Z"
   },
   {
    "duration": 37,
    "start_time": "2024-03-29T14:14:18.389Z"
   },
   {
    "duration": 5,
    "start_time": "2024-03-29T14:14:18.427Z"
   },
   {
    "duration": 8,
    "start_time": "2024-03-29T14:14:18.434Z"
   },
   {
    "duration": 4,
    "start_time": "2024-03-29T14:14:18.443Z"
   },
   {
    "duration": 4,
    "start_time": "2024-03-29T14:14:18.449Z"
   },
   {
    "duration": 12,
    "start_time": "2024-03-29T14:14:18.454Z"
   },
   {
    "duration": 238,
    "start_time": "2024-03-29T14:14:18.468Z"
   },
   {
    "duration": 15,
    "start_time": "2024-03-29T14:14:18.707Z"
   },
   {
    "duration": 174,
    "start_time": "2024-03-29T14:14:18.723Z"
   },
   {
    "duration": 17,
    "start_time": "2024-03-29T14:14:18.899Z"
   },
   {
    "duration": 198,
    "start_time": "2024-03-29T14:14:18.917Z"
   },
   {
    "duration": 8,
    "start_time": "2024-03-29T14:14:19.117Z"
   },
   {
    "duration": 213,
    "start_time": "2024-03-29T14:14:19.127Z"
   },
   {
    "duration": 8,
    "start_time": "2024-03-29T14:14:19.342Z"
   },
   {
    "duration": 222,
    "start_time": "2024-03-29T14:14:19.353Z"
   },
   {
    "duration": 38,
    "start_time": "2024-03-29T14:14:19.576Z"
   },
   {
    "duration": 21,
    "start_time": "2024-03-29T14:14:19.616Z"
   },
   {
    "duration": 20,
    "start_time": "2024-03-29T14:14:19.639Z"
   },
   {
    "duration": 280,
    "start_time": "2024-03-29T14:14:19.661Z"
   },
   {
    "duration": 298,
    "start_time": "2024-03-29T14:14:19.943Z"
   },
   {
    "duration": 119,
    "start_time": "2024-03-29T14:14:20.243Z"
   },
   {
    "duration": 24,
    "start_time": "2024-03-29T14:14:20.363Z"
   },
   {
    "duration": 6,
    "start_time": "2024-03-29T14:23:34.333Z"
   },
   {
    "duration": 107,
    "start_time": "2024-03-29T14:24:34.114Z"
   },
   {
    "duration": 957,
    "start_time": "2024-03-29T14:25:55.049Z"
   },
   {
    "duration": 1179,
    "start_time": "2024-03-29T14:26:04.406Z"
   },
   {
    "duration": 70,
    "start_time": "2024-03-29T14:26:05.587Z"
   },
   {
    "duration": 11,
    "start_time": "2024-03-29T14:26:05.658Z"
   },
   {
    "duration": 12,
    "start_time": "2024-03-29T14:26:05.671Z"
   },
   {
    "duration": 13,
    "start_time": "2024-03-29T14:26:05.685Z"
   },
   {
    "duration": 25,
    "start_time": "2024-03-29T14:26:05.699Z"
   },
   {
    "duration": 7,
    "start_time": "2024-03-29T14:26:05.725Z"
   },
   {
    "duration": 13,
    "start_time": "2024-03-29T14:26:05.733Z"
   },
   {
    "duration": 12,
    "start_time": "2024-03-29T14:26:05.748Z"
   },
   {
    "duration": 14,
    "start_time": "2024-03-29T14:26:05.763Z"
   },
   {
    "duration": 46,
    "start_time": "2024-03-29T14:26:05.779Z"
   },
   {
    "duration": 5,
    "start_time": "2024-03-29T14:26:05.827Z"
   },
   {
    "duration": 7,
    "start_time": "2024-03-29T14:26:05.833Z"
   },
   {
    "duration": 15,
    "start_time": "2024-03-29T14:26:05.842Z"
   },
   {
    "duration": 6,
    "start_time": "2024-03-29T14:26:05.859Z"
   },
   {
    "duration": 50,
    "start_time": "2024-03-29T14:26:05.867Z"
   },
   {
    "duration": 5,
    "start_time": "2024-03-29T14:26:05.920Z"
   },
   {
    "duration": 21,
    "start_time": "2024-03-29T14:26:05.927Z"
   },
   {
    "duration": 16,
    "start_time": "2024-03-29T14:26:05.950Z"
   },
   {
    "duration": 216,
    "start_time": "2024-03-29T14:26:05.969Z"
   },
   {
    "duration": 12,
    "start_time": "2024-03-29T14:26:06.187Z"
   },
   {
    "duration": 195,
    "start_time": "2024-03-29T14:26:06.200Z"
   },
   {
    "duration": 8,
    "start_time": "2024-03-29T14:26:06.397Z"
   },
   {
    "duration": 197,
    "start_time": "2024-03-29T14:26:06.406Z"
   },
   {
    "duration": 16,
    "start_time": "2024-03-29T14:26:06.605Z"
   },
   {
    "duration": 212,
    "start_time": "2024-03-29T14:26:06.622Z"
   },
   {
    "duration": 9,
    "start_time": "2024-03-29T14:26:06.836Z"
   },
   {
    "duration": 231,
    "start_time": "2024-03-29T14:26:06.849Z"
   },
   {
    "duration": 39,
    "start_time": "2024-03-29T14:26:07.082Z"
   },
   {
    "duration": 20,
    "start_time": "2024-03-29T14:26:07.122Z"
   },
   {
    "duration": 19,
    "start_time": "2024-03-29T14:26:07.143Z"
   },
   {
    "duration": 289,
    "start_time": "2024-03-29T14:26:07.163Z"
   },
   {
    "duration": 284,
    "start_time": "2024-03-29T14:26:07.454Z"
   },
   {
    "duration": 120,
    "start_time": "2024-03-29T14:26:07.740Z"
   },
   {
    "duration": 25,
    "start_time": "2024-03-29T14:26:07.861Z"
   },
   {
    "duration": 1053,
    "start_time": "2024-03-29T14:26:07.888Z"
   },
   {
    "duration": 1,
    "start_time": "2024-03-29T14:26:08.942Z"
   },
   {
    "duration": 1022,
    "start_time": "2024-03-29T14:27:30.865Z"
   },
   {
    "duration": 990,
    "start_time": "2024-03-29T14:28:21.896Z"
   },
   {
    "duration": 5,
    "start_time": "2024-03-29T14:29:41.268Z"
   },
   {
    "duration": 5,
    "start_time": "2024-03-29T14:30:13.602Z"
   },
   {
    "duration": 5,
    "start_time": "2024-03-29T14:31:03.189Z"
   },
   {
    "duration": 5,
    "start_time": "2024-03-29T14:31:08.686Z"
   },
   {
    "duration": 6,
    "start_time": "2024-03-29T14:31:45.700Z"
   },
   {
    "duration": 7,
    "start_time": "2024-03-29T14:32:02.771Z"
   },
   {
    "duration": 6,
    "start_time": "2024-03-29T14:32:09.141Z"
   },
   {
    "duration": 4,
    "start_time": "2024-03-29T14:47:12.474Z"
   },
   {
    "duration": 4,
    "start_time": "2024-03-29T14:49:49.596Z"
   },
   {
    "duration": 5,
    "start_time": "2024-03-29T14:49:54.875Z"
   },
   {
    "duration": 6,
    "start_time": "2024-03-29T14:58:52.824Z"
   },
   {
    "duration": 5,
    "start_time": "2024-03-29T14:59:41.994Z"
   },
   {
    "duration": 855,
    "start_time": "2024-03-29T15:19:19.122Z"
   },
   {
    "duration": 1103,
    "start_time": "2024-03-29T15:19:35.865Z"
   },
   {
    "duration": 73,
    "start_time": "2024-03-29T15:19:36.970Z"
   },
   {
    "duration": 12,
    "start_time": "2024-03-29T15:19:37.044Z"
   },
   {
    "duration": 11,
    "start_time": "2024-03-29T15:19:37.058Z"
   },
   {
    "duration": 10,
    "start_time": "2024-03-29T15:19:37.071Z"
   },
   {
    "duration": 15,
    "start_time": "2024-03-29T15:19:37.082Z"
   },
   {
    "duration": 17,
    "start_time": "2024-03-29T15:19:37.099Z"
   },
   {
    "duration": 16,
    "start_time": "2024-03-29T15:19:37.118Z"
   },
   {
    "duration": 9,
    "start_time": "2024-03-29T15:19:37.136Z"
   },
   {
    "duration": 14,
    "start_time": "2024-03-29T15:19:37.149Z"
   },
   {
    "duration": 53,
    "start_time": "2024-03-29T15:19:37.165Z"
   },
   {
    "duration": 5,
    "start_time": "2024-03-29T15:19:37.219Z"
   },
   {
    "duration": 23,
    "start_time": "2024-03-29T15:19:37.226Z"
   },
   {
    "duration": 17,
    "start_time": "2024-03-29T15:19:37.251Z"
   },
   {
    "duration": 5,
    "start_time": "2024-03-29T15:19:37.270Z"
   },
   {
    "duration": 39,
    "start_time": "2024-03-29T15:19:37.277Z"
   },
   {
    "duration": 5,
    "start_time": "2024-03-29T15:19:37.317Z"
   },
   {
    "duration": 5,
    "start_time": "2024-03-29T15:19:37.324Z"
   },
   {
    "duration": 13,
    "start_time": "2024-03-29T15:19:37.331Z"
   },
   {
    "duration": 233,
    "start_time": "2024-03-29T15:19:37.346Z"
   },
   {
    "duration": 12,
    "start_time": "2024-03-29T15:19:37.581Z"
   },
   {
    "duration": 173,
    "start_time": "2024-03-29T15:19:37.596Z"
   },
   {
    "duration": 9,
    "start_time": "2024-03-29T15:19:37.771Z"
   },
   {
    "duration": 210,
    "start_time": "2024-03-29T15:19:37.782Z"
   },
   {
    "duration": 22,
    "start_time": "2024-03-29T15:19:37.994Z"
   },
   {
    "duration": 260,
    "start_time": "2024-03-29T15:19:38.018Z"
   },
   {
    "duration": 11,
    "start_time": "2024-03-29T15:19:38.280Z"
   },
   {
    "duration": 235,
    "start_time": "2024-03-29T15:19:38.295Z"
   },
   {
    "duration": 31,
    "start_time": "2024-03-29T15:19:38.531Z"
   },
   {
    "duration": 22,
    "start_time": "2024-03-29T15:19:38.564Z"
   },
   {
    "duration": 46,
    "start_time": "2024-03-29T15:19:38.588Z"
   },
   {
    "duration": 286,
    "start_time": "2024-03-29T15:19:38.635Z"
   },
   {
    "duration": 289,
    "start_time": "2024-03-29T15:19:38.923Z"
   },
   {
    "duration": 123,
    "start_time": "2024-03-29T15:19:39.215Z"
   },
   {
    "duration": 24,
    "start_time": "2024-03-29T15:19:39.340Z"
   },
   {
    "duration": 5,
    "start_time": "2024-03-29T15:19:39.366Z"
   },
   {
    "duration": 5,
    "start_time": "2024-03-29T15:19:39.373Z"
   },
   {
    "duration": 36,
    "start_time": "2024-03-29T15:19:39.379Z"
   },
   {
    "duration": 4,
    "start_time": "2024-03-29T15:19:39.417Z"
   },
   {
    "duration": 973,
    "start_time": "2024-03-29T15:19:39.423Z"
   },
   {
    "duration": 948,
    "start_time": "2024-03-29T15:20:01.627Z"
   },
   {
    "duration": 820,
    "start_time": "2024-03-29T15:22:20.676Z"
   },
   {
    "duration": 7,
    "start_time": "2024-03-29T15:26:21.090Z"
   },
   {
    "duration": 11,
    "start_time": "2024-03-29T15:26:50.605Z"
   },
   {
    "duration": 7,
    "start_time": "2024-03-29T15:26:54.557Z"
   },
   {
    "duration": 7,
    "start_time": "2024-03-29T15:27:53.683Z"
   },
   {
    "duration": 10,
    "start_time": "2024-03-29T15:29:54.476Z"
   },
   {
    "duration": 8,
    "start_time": "2024-03-29T15:31:23.564Z"
   },
   {
    "duration": 965,
    "start_time": "2024-03-29T15:33:00.276Z"
   },
   {
    "duration": 1172,
    "start_time": "2024-03-29T15:33:09.700Z"
   },
   {
    "duration": 72,
    "start_time": "2024-03-29T15:33:10.874Z"
   },
   {
    "duration": 11,
    "start_time": "2024-03-29T15:33:10.948Z"
   },
   {
    "duration": 11,
    "start_time": "2024-03-29T15:33:10.961Z"
   },
   {
    "duration": 14,
    "start_time": "2024-03-29T15:33:10.973Z"
   },
   {
    "duration": 27,
    "start_time": "2024-03-29T15:33:10.988Z"
   },
   {
    "duration": 6,
    "start_time": "2024-03-29T15:33:11.017Z"
   },
   {
    "duration": 12,
    "start_time": "2024-03-29T15:33:11.024Z"
   },
   {
    "duration": 8,
    "start_time": "2024-03-29T15:33:11.037Z"
   },
   {
    "duration": 10,
    "start_time": "2024-03-29T15:33:11.047Z"
   },
   {
    "duration": 17,
    "start_time": "2024-03-29T15:33:11.058Z"
   },
   {
    "duration": 40,
    "start_time": "2024-03-29T15:33:11.077Z"
   },
   {
    "duration": 10,
    "start_time": "2024-03-29T15:33:11.119Z"
   },
   {
    "duration": 15,
    "start_time": "2024-03-29T15:33:11.131Z"
   },
   {
    "duration": 6,
    "start_time": "2024-03-29T15:33:11.147Z"
   },
   {
    "duration": 15,
    "start_time": "2024-03-29T15:33:11.155Z"
   },
   {
    "duration": 46,
    "start_time": "2024-03-29T15:33:11.172Z"
   },
   {
    "duration": 13,
    "start_time": "2024-03-29T15:33:11.220Z"
   },
   {
    "duration": 28,
    "start_time": "2024-03-29T15:33:11.235Z"
   },
   {
    "duration": 206,
    "start_time": "2024-03-29T15:33:11.264Z"
   },
   {
    "duration": 14,
    "start_time": "2024-03-29T15:33:11.471Z"
   },
   {
    "duration": 181,
    "start_time": "2024-03-29T15:33:11.487Z"
   },
   {
    "duration": 7,
    "start_time": "2024-03-29T15:33:11.670Z"
   },
   {
    "duration": 198,
    "start_time": "2024-03-29T15:33:11.678Z"
   },
   {
    "duration": 8,
    "start_time": "2024-03-29T15:33:11.878Z"
   },
   {
    "duration": 218,
    "start_time": "2024-03-29T15:33:11.888Z"
   },
   {
    "duration": 13,
    "start_time": "2024-03-29T15:33:12.108Z"
   },
   {
    "duration": 213,
    "start_time": "2024-03-29T15:33:12.124Z"
   },
   {
    "duration": 29,
    "start_time": "2024-03-29T15:33:12.339Z"
   },
   {
    "duration": 20,
    "start_time": "2024-03-29T15:33:12.370Z"
   },
   {
    "duration": 49,
    "start_time": "2024-03-29T15:33:12.392Z"
   },
   {
    "duration": 283,
    "start_time": "2024-03-29T15:33:12.443Z"
   },
   {
    "duration": 282,
    "start_time": "2024-03-29T15:33:12.728Z"
   },
   {
    "duration": 121,
    "start_time": "2024-03-29T15:33:13.012Z"
   },
   {
    "duration": 26,
    "start_time": "2024-03-29T15:33:13.134Z"
   },
   {
    "duration": 5,
    "start_time": "2024-03-29T15:33:13.161Z"
   },
   {
    "duration": 14,
    "start_time": "2024-03-29T15:33:13.168Z"
   },
   {
    "duration": 4,
    "start_time": "2024-03-29T15:33:13.183Z"
   },
   {
    "duration": 31,
    "start_time": "2024-03-29T15:33:13.188Z"
   },
   {
    "duration": 7,
    "start_time": "2024-03-29T15:33:13.220Z"
   },
   {
    "duration": 936,
    "start_time": "2024-03-29T15:33:13.229Z"
   },
   {
    "duration": 7,
    "start_time": "2024-03-29T15:37:59.471Z"
   },
   {
    "duration": 8,
    "start_time": "2024-03-29T15:39:27.043Z"
   },
   {
    "duration": 7,
    "start_time": "2024-03-29T15:39:50.363Z"
   },
   {
    "duration": 17,
    "start_time": "2024-03-29T15:40:53.170Z"
   },
   {
    "duration": 9,
    "start_time": "2024-03-29T15:40:58.284Z"
   },
   {
    "duration": 52,
    "start_time": "2024-03-31T13:04:58.634Z"
   },
   {
    "duration": 1366,
    "start_time": "2024-03-31T13:05:11.603Z"
   },
   {
    "duration": 302,
    "start_time": "2024-03-31T13:05:12.972Z"
   },
   {
    "duration": 12,
    "start_time": "2024-03-31T13:05:13.276Z"
   },
   {
    "duration": 19,
    "start_time": "2024-03-31T13:05:13.290Z"
   },
   {
    "duration": 11,
    "start_time": "2024-03-31T13:05:13.312Z"
   },
   {
    "duration": 24,
    "start_time": "2024-03-31T13:05:13.325Z"
   },
   {
    "duration": 9,
    "start_time": "2024-03-31T13:05:13.351Z"
   },
   {
    "duration": 16,
    "start_time": "2024-03-31T13:05:13.361Z"
   },
   {
    "duration": 10,
    "start_time": "2024-03-31T13:05:13.379Z"
   },
   {
    "duration": 10,
    "start_time": "2024-03-31T13:05:13.391Z"
   },
   {
    "duration": 15,
    "start_time": "2024-03-31T13:05:13.402Z"
   },
   {
    "duration": 5,
    "start_time": "2024-03-31T13:05:13.419Z"
   },
   {
    "duration": 6,
    "start_time": "2024-03-31T13:05:13.426Z"
   },
   {
    "duration": 43,
    "start_time": "2024-03-31T13:05:13.435Z"
   },
   {
    "duration": 5,
    "start_time": "2024-03-31T13:05:13.480Z"
   },
   {
    "duration": 11,
    "start_time": "2024-03-31T13:05:13.487Z"
   },
   {
    "duration": 7,
    "start_time": "2024-03-31T13:05:13.500Z"
   },
   {
    "duration": 6,
    "start_time": "2024-03-31T13:05:13.510Z"
   },
   {
    "duration": 53,
    "start_time": "2024-03-31T13:05:13.519Z"
   },
   {
    "duration": 214,
    "start_time": "2024-03-31T13:05:13.574Z"
   },
   {
    "duration": 12,
    "start_time": "2024-03-31T13:05:13.789Z"
   },
   {
    "duration": 167,
    "start_time": "2024-03-31T13:05:13.803Z"
   },
   {
    "duration": 1362,
    "start_time": "2024-03-31T13:05:13.971Z"
   },
   {
    "duration": 0,
    "start_time": "2024-03-31T13:05:15.335Z"
   },
   {
    "duration": 0,
    "start_time": "2024-03-31T13:05:15.337Z"
   },
   {
    "duration": 0,
    "start_time": "2024-03-31T13:05:15.338Z"
   },
   {
    "duration": 0,
    "start_time": "2024-03-31T13:05:15.339Z"
   },
   {
    "duration": 0,
    "start_time": "2024-03-31T13:05:15.341Z"
   },
   {
    "duration": 0,
    "start_time": "2024-03-31T13:05:15.342Z"
   },
   {
    "duration": 0,
    "start_time": "2024-03-31T13:05:15.344Z"
   },
   {
    "duration": 0,
    "start_time": "2024-03-31T13:05:15.345Z"
   },
   {
    "duration": 0,
    "start_time": "2024-03-31T13:05:15.346Z"
   },
   {
    "duration": 0,
    "start_time": "2024-03-31T13:05:15.348Z"
   },
   {
    "duration": 0,
    "start_time": "2024-03-31T13:05:15.349Z"
   },
   {
    "duration": 0,
    "start_time": "2024-03-31T13:05:15.351Z"
   },
   {
    "duration": 0,
    "start_time": "2024-03-31T13:05:15.352Z"
   },
   {
    "duration": 0,
    "start_time": "2024-03-31T13:05:15.354Z"
   },
   {
    "duration": 0,
    "start_time": "2024-03-31T13:05:15.355Z"
   },
   {
    "duration": 0,
    "start_time": "2024-03-31T13:05:15.356Z"
   },
   {
    "duration": 0,
    "start_time": "2024-03-31T13:05:15.358Z"
   },
   {
    "duration": 0,
    "start_time": "2024-03-31T13:05:15.360Z"
   },
   {
    "duration": 0,
    "start_time": "2024-03-31T13:05:15.362Z"
   },
   {
    "duration": 1296,
    "start_time": "2024-03-31T13:06:04.294Z"
   },
   {
    "duration": 117,
    "start_time": "2024-03-31T13:06:15.855Z"
   },
   {
    "duration": 12,
    "start_time": "2024-03-31T13:07:29.491Z"
   },
   {
    "duration": 12,
    "start_time": "2024-03-31T13:07:35.300Z"
   },
   {
    "duration": 12,
    "start_time": "2024-03-31T13:07:37.708Z"
   },
   {
    "duration": 183,
    "start_time": "2024-03-31T13:07:42.410Z"
   },
   {
    "duration": 177,
    "start_time": "2024-03-31T13:08:29.267Z"
   },
   {
    "duration": 3,
    "start_time": "2024-03-31T13:08:43.916Z"
   },
   {
    "duration": 92,
    "start_time": "2024-03-31T13:10:36.730Z"
   },
   {
    "duration": 153,
    "start_time": "2024-03-31T13:11:42.964Z"
   },
   {
    "duration": 209,
    "start_time": "2024-03-31T13:12:22.144Z"
   },
   {
    "duration": 141,
    "start_time": "2024-03-31T13:12:44.334Z"
   },
   {
    "duration": 10,
    "start_time": "2024-03-31T13:18:25.666Z"
   },
   {
    "duration": 16,
    "start_time": "2024-03-31T13:20:39.421Z"
   },
   {
    "duration": 14,
    "start_time": "2024-03-31T13:21:26.079Z"
   },
   {
    "duration": 2,
    "start_time": "2024-03-31T13:21:57.509Z"
   },
   {
    "duration": 40,
    "start_time": "2024-03-31T13:30:36.958Z"
   },
   {
    "duration": 16,
    "start_time": "2024-03-31T16:20:44.275Z"
   },
   {
    "duration": 1131,
    "start_time": "2024-03-31T16:20:51.007Z"
   },
   {
    "duration": 69,
    "start_time": "2024-03-31T16:20:52.140Z"
   },
   {
    "duration": 11,
    "start_time": "2024-03-31T16:20:52.210Z"
   },
   {
    "duration": 10,
    "start_time": "2024-03-31T16:20:52.223Z"
   },
   {
    "duration": 9,
    "start_time": "2024-03-31T16:20:52.235Z"
   },
   {
    "duration": 12,
    "start_time": "2024-03-31T16:20:52.246Z"
   },
   {
    "duration": 6,
    "start_time": "2024-03-31T16:20:52.259Z"
   },
   {
    "duration": 23,
    "start_time": "2024-03-31T16:20:52.266Z"
   },
   {
    "duration": 12,
    "start_time": "2024-03-31T16:20:52.290Z"
   },
   {
    "duration": 17,
    "start_time": "2024-03-31T16:20:52.304Z"
   },
   {
    "duration": 19,
    "start_time": "2024-03-31T16:20:52.322Z"
   },
   {
    "duration": 4,
    "start_time": "2024-03-31T16:20:52.343Z"
   },
   {
    "duration": 23,
    "start_time": "2024-03-31T16:20:52.348Z"
   },
   {
    "duration": 22,
    "start_time": "2024-03-31T16:20:52.374Z"
   },
   {
    "duration": 42,
    "start_time": "2024-03-31T16:20:52.397Z"
   },
   {
    "duration": 16,
    "start_time": "2024-03-31T16:20:52.441Z"
   },
   {
    "duration": 17,
    "start_time": "2024-03-31T16:20:52.458Z"
   },
   {
    "duration": 21,
    "start_time": "2024-03-31T16:20:52.476Z"
   },
   {
    "duration": 19,
    "start_time": "2024-03-31T16:20:52.499Z"
   },
   {
    "duration": 204,
    "start_time": "2024-03-31T16:20:52.520Z"
   },
   {
    "duration": 3,
    "start_time": "2024-03-31T16:20:52.725Z"
   },
   {
    "duration": 26,
    "start_time": "2024-03-31T16:20:52.729Z"
   },
   {
    "duration": 30,
    "start_time": "2024-03-31T16:20:52.756Z"
   },
   {
    "duration": 161,
    "start_time": "2024-03-31T16:20:52.787Z"
   },
   {
    "duration": 9,
    "start_time": "2024-03-31T16:20:52.949Z"
   },
   {
    "duration": 212,
    "start_time": "2024-03-31T16:20:52.959Z"
   },
   {
    "duration": 9,
    "start_time": "2024-03-31T16:20:53.173Z"
   },
   {
    "duration": 228,
    "start_time": "2024-03-31T16:20:53.187Z"
   },
   {
    "duration": 8,
    "start_time": "2024-03-31T16:20:53.417Z"
   },
   {
    "duration": 226,
    "start_time": "2024-03-31T16:20:53.426Z"
   },
   {
    "duration": 101,
    "start_time": "2024-03-31T16:20:53.654Z"
   },
   {
    "duration": 0,
    "start_time": "2024-03-31T16:20:53.757Z"
   },
   {
    "duration": 0,
    "start_time": "2024-03-31T16:20:53.758Z"
   },
   {
    "duration": 0,
    "start_time": "2024-03-31T16:20:53.759Z"
   },
   {
    "duration": 0,
    "start_time": "2024-03-31T16:20:53.769Z"
   },
   {
    "duration": 0,
    "start_time": "2024-03-31T16:20:53.771Z"
   },
   {
    "duration": 0,
    "start_time": "2024-03-31T16:20:53.772Z"
   },
   {
    "duration": 0,
    "start_time": "2024-03-31T16:20:53.773Z"
   },
   {
    "duration": 0,
    "start_time": "2024-03-31T16:20:53.774Z"
   },
   {
    "duration": 0,
    "start_time": "2024-03-31T16:20:53.775Z"
   },
   {
    "duration": 0,
    "start_time": "2024-03-31T16:20:53.776Z"
   },
   {
    "duration": 0,
    "start_time": "2024-03-31T16:20:53.777Z"
   },
   {
    "duration": 0,
    "start_time": "2024-03-31T16:20:53.778Z"
   },
   {
    "duration": 0,
    "start_time": "2024-03-31T16:20:53.780Z"
   },
   {
    "duration": 42,
    "start_time": "2024-03-31T16:23:54.038Z"
   },
   {
    "duration": 9,
    "start_time": "2024-03-31T16:25:02.794Z"
   },
   {
    "duration": 1126,
    "start_time": "2024-03-31T16:25:14.916Z"
   },
   {
    "duration": 69,
    "start_time": "2024-03-31T16:25:16.044Z"
   },
   {
    "duration": 11,
    "start_time": "2024-03-31T16:25:16.115Z"
   },
   {
    "duration": 18,
    "start_time": "2024-03-31T16:25:16.128Z"
   },
   {
    "duration": 10,
    "start_time": "2024-03-31T16:25:16.148Z"
   },
   {
    "duration": 34,
    "start_time": "2024-03-31T16:25:16.160Z"
   },
   {
    "duration": 19,
    "start_time": "2024-03-31T16:25:16.196Z"
   },
   {
    "duration": 22,
    "start_time": "2024-03-31T16:25:16.217Z"
   },
   {
    "duration": 25,
    "start_time": "2024-03-31T16:25:16.241Z"
   },
   {
    "duration": 20,
    "start_time": "2024-03-31T16:25:16.268Z"
   },
   {
    "duration": 20,
    "start_time": "2024-03-31T16:25:16.289Z"
   },
   {
    "duration": 5,
    "start_time": "2024-03-31T16:25:16.310Z"
   },
   {
    "duration": 15,
    "start_time": "2024-03-31T16:25:16.317Z"
   },
   {
    "duration": 14,
    "start_time": "2024-03-31T16:25:16.334Z"
   },
   {
    "duration": 5,
    "start_time": "2024-03-31T16:25:16.350Z"
   },
   {
    "duration": 18,
    "start_time": "2024-03-31T16:25:16.356Z"
   },
   {
    "duration": 5,
    "start_time": "2024-03-31T16:25:16.375Z"
   },
   {
    "duration": 8,
    "start_time": "2024-03-31T16:25:16.381Z"
   },
   {
    "duration": 30,
    "start_time": "2024-03-31T16:25:16.390Z"
   },
   {
    "duration": 203,
    "start_time": "2024-03-31T16:25:16.422Z"
   },
   {
    "duration": 2,
    "start_time": "2024-03-31T16:25:16.627Z"
   },
   {
    "duration": 20,
    "start_time": "2024-03-31T16:25:16.631Z"
   },
   {
    "duration": 32,
    "start_time": "2024-03-31T16:25:16.653Z"
   },
   {
    "duration": 147,
    "start_time": "2024-03-31T16:25:16.687Z"
   },
   {
    "duration": 8,
    "start_time": "2024-03-31T16:25:16.836Z"
   },
   {
    "duration": 204,
    "start_time": "2024-03-31T16:25:16.845Z"
   },
   {
    "duration": 19,
    "start_time": "2024-03-31T16:25:17.051Z"
   },
   {
    "duration": 216,
    "start_time": "2024-03-31T16:25:17.073Z"
   },
   {
    "duration": 10,
    "start_time": "2024-03-31T16:25:17.291Z"
   },
   {
    "duration": 214,
    "start_time": "2024-03-31T16:25:17.303Z"
   },
   {
    "duration": 56,
    "start_time": "2024-03-31T16:25:17.519Z"
   },
   {
    "duration": 21,
    "start_time": "2024-03-31T16:25:17.577Z"
   },
   {
    "duration": 27,
    "start_time": "2024-03-31T16:25:17.600Z"
   },
   {
    "duration": 269,
    "start_time": "2024-03-31T16:25:17.628Z"
   },
   {
    "duration": 275,
    "start_time": "2024-03-31T16:25:17.899Z"
   },
   {
    "duration": 120,
    "start_time": "2024-03-31T16:25:18.176Z"
   },
   {
    "duration": 24,
    "start_time": "2024-03-31T16:25:18.298Z"
   },
   {
    "duration": 4,
    "start_time": "2024-03-31T16:25:18.324Z"
   },
   {
    "duration": 21,
    "start_time": "2024-03-31T16:25:18.329Z"
   },
   {
    "duration": 10,
    "start_time": "2024-03-31T16:25:18.351Z"
   },
   {
    "duration": 10,
    "start_time": "2024-03-31T16:25:18.363Z"
   },
   {
    "duration": 25,
    "start_time": "2024-03-31T16:25:18.374Z"
   },
   {
    "duration": 26,
    "start_time": "2024-03-31T16:25:18.400Z"
   },
   {
    "duration": 4,
    "start_time": "2024-03-31T16:25:25.129Z"
   },
   {
    "duration": 6,
    "start_time": "2024-03-31T16:25:27.132Z"
   },
   {
    "duration": 5,
    "start_time": "2024-03-31T16:37:38.771Z"
   },
   {
    "duration": 5,
    "start_time": "2024-03-31T16:37:39.557Z"
   },
   {
    "duration": 1102,
    "start_time": "2024-03-31T16:37:44.333Z"
   },
   {
    "duration": 69,
    "start_time": "2024-03-31T16:37:45.437Z"
   },
   {
    "duration": 13,
    "start_time": "2024-03-31T16:37:45.507Z"
   },
   {
    "duration": 26,
    "start_time": "2024-03-31T16:37:45.522Z"
   },
   {
    "duration": 39,
    "start_time": "2024-03-31T16:37:45.550Z"
   },
   {
    "duration": 37,
    "start_time": "2024-03-31T16:37:45.591Z"
   },
   {
    "duration": 11,
    "start_time": "2024-03-31T16:37:45.630Z"
   },
   {
    "duration": 16,
    "start_time": "2024-03-31T16:37:45.643Z"
   },
   {
    "duration": 13,
    "start_time": "2024-03-31T16:37:45.661Z"
   },
   {
    "duration": 14,
    "start_time": "2024-03-31T16:37:45.676Z"
   },
   {
    "duration": 27,
    "start_time": "2024-03-31T16:37:45.692Z"
   },
   {
    "duration": 5,
    "start_time": "2024-03-31T16:37:45.720Z"
   },
   {
    "duration": 7,
    "start_time": "2024-03-31T16:37:45.726Z"
   },
   {
    "duration": 13,
    "start_time": "2024-03-31T16:37:45.736Z"
   },
   {
    "duration": 18,
    "start_time": "2024-03-31T16:37:45.751Z"
   },
   {
    "duration": 7,
    "start_time": "2024-03-31T16:37:45.771Z"
   },
   {
    "duration": 6,
    "start_time": "2024-03-31T16:37:45.779Z"
   },
   {
    "duration": 17,
    "start_time": "2024-03-31T16:37:45.786Z"
   },
   {
    "duration": 18,
    "start_time": "2024-03-31T16:37:45.805Z"
   },
   {
    "duration": 203,
    "start_time": "2024-03-31T16:37:45.825Z"
   },
   {
    "duration": 2,
    "start_time": "2024-03-31T16:37:46.029Z"
   },
   {
    "duration": 7,
    "start_time": "2024-03-31T16:37:46.032Z"
   },
   {
    "duration": 23,
    "start_time": "2024-03-31T16:37:46.041Z"
   },
   {
    "duration": 163,
    "start_time": "2024-03-31T16:37:46.065Z"
   },
   {
    "duration": 8,
    "start_time": "2024-03-31T16:37:46.230Z"
   },
   {
    "duration": 209,
    "start_time": "2024-03-31T16:37:46.242Z"
   },
   {
    "duration": 8,
    "start_time": "2024-03-31T16:37:46.452Z"
   },
   {
    "duration": 205,
    "start_time": "2024-03-31T16:37:46.469Z"
   },
   {
    "duration": 8,
    "start_time": "2024-03-31T16:37:46.676Z"
   },
   {
    "duration": 229,
    "start_time": "2024-03-31T16:37:46.685Z"
   },
   {
    "duration": 43,
    "start_time": "2024-03-31T16:37:46.916Z"
   },
   {
    "duration": 22,
    "start_time": "2024-03-31T16:37:46.970Z"
   },
   {
    "duration": 19,
    "start_time": "2024-03-31T16:37:46.994Z"
   },
   {
    "duration": 282,
    "start_time": "2024-03-31T16:37:47.014Z"
   },
   {
    "duration": 287,
    "start_time": "2024-03-31T16:37:47.298Z"
   },
   {
    "duration": 117,
    "start_time": "2024-03-31T16:37:47.587Z"
   },
   {
    "duration": 25,
    "start_time": "2024-03-31T16:37:47.705Z"
   },
   {
    "duration": 4,
    "start_time": "2024-03-31T16:37:47.732Z"
   },
   {
    "duration": 11,
    "start_time": "2024-03-31T16:37:47.737Z"
   },
   {
    "duration": 20,
    "start_time": "2024-03-31T16:37:47.750Z"
   },
   {
    "duration": 10,
    "start_time": "2024-03-31T16:37:47.774Z"
   },
   {
    "duration": 22,
    "start_time": "2024-03-31T16:37:47.785Z"
   },
   {
    "duration": 25,
    "start_time": "2024-03-31T16:37:47.809Z"
   },
   {
    "duration": 6,
    "start_time": "2024-03-31T16:51:08.818Z"
   },
   {
    "duration": 84,
    "start_time": "2024-03-31T16:52:05.122Z"
   },
   {
    "duration": 5,
    "start_time": "2024-03-31T17:24:55.984Z"
   },
   {
    "duration": 83,
    "start_time": "2024-03-31T17:25:22.081Z"
   },
   {
    "duration": 5,
    "start_time": "2024-03-31T17:25:51.994Z"
   },
   {
    "duration": 10,
    "start_time": "2024-03-31T17:29:30.875Z"
   },
   {
    "duration": 9,
    "start_time": "2024-03-31T17:31:55.991Z"
   },
   {
    "duration": 85,
    "start_time": "2024-03-31T17:40:23.267Z"
   },
   {
    "duration": 88,
    "start_time": "2024-03-31T17:42:59.305Z"
   },
   {
    "duration": 84,
    "start_time": "2024-03-31T17:44:50.311Z"
   }
  ],
  "kernelspec": {
   "display_name": "Python 3 (ipykernel)",
   "language": "python",
   "name": "python3"
  },
  "language_info": {
   "codemirror_mode": {
    "name": "ipython",
    "version": 3
   },
   "file_extension": ".py",
   "mimetype": "text/x-python",
   "name": "python",
   "nbconvert_exporter": "python",
   "pygments_lexer": "ipython3",
   "version": "3.12.7"
  },
  "toc": {
   "base_numbering": 1,
   "nav_menu": {},
   "number_sections": true,
   "sideBar": true,
   "skip_h1_title": true,
   "title_cell": "Table of Contents",
   "title_sidebar": "Contents",
   "toc_cell": false,
   "toc_position": {},
   "toc_section_display": true,
   "toc_window_display": false
  }
 },
 "nbformat": 4,
 "nbformat_minor": 5
}
