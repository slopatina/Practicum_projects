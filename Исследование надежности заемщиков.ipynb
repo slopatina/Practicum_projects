{
 "cells": [
  {
   "cell_type": "markdown",
   "id": "386f2ae7",
   "metadata": {
    "deletable": false,
    "editable": false,
    "id": "386f2ae7"
   },
   "source": [
    "# Исследование надежности заемщиков\n"
   ]
  },
  {
   "cell_type": "markdown",
   "id": "ffe86f65",
   "metadata": {
    "deletable": false,
    "editable": false,
    "id": "ffe86f65"
   },
   "source": [
    "Во второй части проекта вы выполните шаги 3 и 4. Их вручную проверит ревьюер.\n",
    "Чтобы вам не пришлось писать код заново для шагов 1 и 2, мы добавили авторские решения в ячейки с кодом. \n",
    "\n"
   ]
  },
  {
   "cell_type": "markdown",
   "id": "26613308",
   "metadata": {
    "deletable": false,
    "editable": false,
    "id": "26613308"
   },
   "source": [
    "## Откройте таблицу и изучите общую информацию о данных"
   ]
  },
  {
   "cell_type": "markdown",
   "id": "3c9f838e",
   "metadata": {
    "deletable": false,
    "editable": false,
    "id": "3c9f838e"
   },
   "source": [
    "**Задание 1. Импортируйте библиотеку pandas. Считайте данные из csv-файла в датафрейм и сохраните в переменную `data`. Путь к файлу:**\n",
    "\n",
    "`/datasets/data.csv`"
   ]
  },
  {
   "cell_type": "code",
   "execution_count": 1,
   "id": "77a68a90",
   "metadata": {
    "deletable": false,
    "id": "77a68a90"
   },
   "outputs": [],
   "source": [
    "import pandas as pd\n",
    "\n",
    "try:\n",
    "    data = pd.read_csv('/datasets/data.csv')\n",
    "except:\n",
    "    data = pd.read_csv('https://code.s3.yandex.net/datasets/data.csv')\n"
   ]
  },
  {
   "cell_type": "markdown",
   "id": "45365635",
   "metadata": {
    "deletable": false,
    "editable": false,
    "id": "45365635"
   },
   "source": [
    "**Задание 2. Выведите первые 20 строчек датафрейма `data` на экран.**"
   ]
  },
  {
   "cell_type": "code",
   "execution_count": 2,
   "id": "b0451a9a",
   "metadata": {
    "deletable": false,
    "id": "b0451a9a",
    "outputId": "1a8f3ef2-d323-4ec2-ddf7-89670b5944c4",
    "scrolled": true
   },
   "outputs": [
    {
     "data": {
      "text/html": [
       "<div>\n",
       "<style scoped>\n",
       "    .dataframe tbody tr th:only-of-type {\n",
       "        vertical-align: middle;\n",
       "    }\n",
       "\n",
       "    .dataframe tbody tr th {\n",
       "        vertical-align: top;\n",
       "    }\n",
       "\n",
       "    .dataframe thead th {\n",
       "        text-align: right;\n",
       "    }\n",
       "</style>\n",
       "<table border=\"1\" class=\"dataframe\">\n",
       "  <thead>\n",
       "    <tr style=\"text-align: right;\">\n",
       "      <th></th>\n",
       "      <th>children</th>\n",
       "      <th>days_employed</th>\n",
       "      <th>dob_years</th>\n",
       "      <th>education</th>\n",
       "      <th>education_id</th>\n",
       "      <th>family_status</th>\n",
       "      <th>family_status_id</th>\n",
       "      <th>gender</th>\n",
       "      <th>income_type</th>\n",
       "      <th>debt</th>\n",
       "      <th>total_income</th>\n",
       "      <th>purpose</th>\n",
       "    </tr>\n",
       "  </thead>\n",
       "  <tbody>\n",
       "    <tr>\n",
       "      <th>0</th>\n",
       "      <td>1</td>\n",
       "      <td>-8437.673028</td>\n",
       "      <td>42</td>\n",
       "      <td>высшее</td>\n",
       "      <td>0</td>\n",
       "      <td>женат / замужем</td>\n",
       "      <td>0</td>\n",
       "      <td>F</td>\n",
       "      <td>сотрудник</td>\n",
       "      <td>0</td>\n",
       "      <td>253875.639453</td>\n",
       "      <td>покупка жилья</td>\n",
       "    </tr>\n",
       "    <tr>\n",
       "      <th>1</th>\n",
       "      <td>1</td>\n",
       "      <td>-4024.803754</td>\n",
       "      <td>36</td>\n",
       "      <td>среднее</td>\n",
       "      <td>1</td>\n",
       "      <td>женат / замужем</td>\n",
       "      <td>0</td>\n",
       "      <td>F</td>\n",
       "      <td>сотрудник</td>\n",
       "      <td>0</td>\n",
       "      <td>112080.014102</td>\n",
       "      <td>приобретение автомобиля</td>\n",
       "    </tr>\n",
       "    <tr>\n",
       "      <th>2</th>\n",
       "      <td>0</td>\n",
       "      <td>-5623.422610</td>\n",
       "      <td>33</td>\n",
       "      <td>Среднее</td>\n",
       "      <td>1</td>\n",
       "      <td>женат / замужем</td>\n",
       "      <td>0</td>\n",
       "      <td>M</td>\n",
       "      <td>сотрудник</td>\n",
       "      <td>0</td>\n",
       "      <td>145885.952297</td>\n",
       "      <td>покупка жилья</td>\n",
       "    </tr>\n",
       "    <tr>\n",
       "      <th>3</th>\n",
       "      <td>3</td>\n",
       "      <td>-4124.747207</td>\n",
       "      <td>32</td>\n",
       "      <td>среднее</td>\n",
       "      <td>1</td>\n",
       "      <td>женат / замужем</td>\n",
       "      <td>0</td>\n",
       "      <td>M</td>\n",
       "      <td>сотрудник</td>\n",
       "      <td>0</td>\n",
       "      <td>267628.550329</td>\n",
       "      <td>дополнительное образование</td>\n",
       "    </tr>\n",
       "    <tr>\n",
       "      <th>4</th>\n",
       "      <td>0</td>\n",
       "      <td>340266.072047</td>\n",
       "      <td>53</td>\n",
       "      <td>среднее</td>\n",
       "      <td>1</td>\n",
       "      <td>гражданский брак</td>\n",
       "      <td>1</td>\n",
       "      <td>F</td>\n",
       "      <td>пенсионер</td>\n",
       "      <td>0</td>\n",
       "      <td>158616.077870</td>\n",
       "      <td>сыграть свадьбу</td>\n",
       "    </tr>\n",
       "    <tr>\n",
       "      <th>5</th>\n",
       "      <td>0</td>\n",
       "      <td>-926.185831</td>\n",
       "      <td>27</td>\n",
       "      <td>высшее</td>\n",
       "      <td>0</td>\n",
       "      <td>гражданский брак</td>\n",
       "      <td>1</td>\n",
       "      <td>M</td>\n",
       "      <td>компаньон</td>\n",
       "      <td>0</td>\n",
       "      <td>255763.565419</td>\n",
       "      <td>покупка жилья</td>\n",
       "    </tr>\n",
       "    <tr>\n",
       "      <th>6</th>\n",
       "      <td>0</td>\n",
       "      <td>-2879.202052</td>\n",
       "      <td>43</td>\n",
       "      <td>высшее</td>\n",
       "      <td>0</td>\n",
       "      <td>женат / замужем</td>\n",
       "      <td>0</td>\n",
       "      <td>F</td>\n",
       "      <td>компаньон</td>\n",
       "      <td>0</td>\n",
       "      <td>240525.971920</td>\n",
       "      <td>операции с жильем</td>\n",
       "    </tr>\n",
       "    <tr>\n",
       "      <th>7</th>\n",
       "      <td>0</td>\n",
       "      <td>-152.779569</td>\n",
       "      <td>50</td>\n",
       "      <td>СРЕДНЕЕ</td>\n",
       "      <td>1</td>\n",
       "      <td>женат / замужем</td>\n",
       "      <td>0</td>\n",
       "      <td>M</td>\n",
       "      <td>сотрудник</td>\n",
       "      <td>0</td>\n",
       "      <td>135823.934197</td>\n",
       "      <td>образование</td>\n",
       "    </tr>\n",
       "    <tr>\n",
       "      <th>8</th>\n",
       "      <td>2</td>\n",
       "      <td>-6929.865299</td>\n",
       "      <td>35</td>\n",
       "      <td>ВЫСШЕЕ</td>\n",
       "      <td>0</td>\n",
       "      <td>гражданский брак</td>\n",
       "      <td>1</td>\n",
       "      <td>F</td>\n",
       "      <td>сотрудник</td>\n",
       "      <td>0</td>\n",
       "      <td>95856.832424</td>\n",
       "      <td>на проведение свадьбы</td>\n",
       "    </tr>\n",
       "    <tr>\n",
       "      <th>9</th>\n",
       "      <td>0</td>\n",
       "      <td>-2188.756445</td>\n",
       "      <td>41</td>\n",
       "      <td>среднее</td>\n",
       "      <td>1</td>\n",
       "      <td>женат / замужем</td>\n",
       "      <td>0</td>\n",
       "      <td>M</td>\n",
       "      <td>сотрудник</td>\n",
       "      <td>0</td>\n",
       "      <td>144425.938277</td>\n",
       "      <td>покупка жилья для семьи</td>\n",
       "    </tr>\n",
       "    <tr>\n",
       "      <th>10</th>\n",
       "      <td>2</td>\n",
       "      <td>-4171.483647</td>\n",
       "      <td>36</td>\n",
       "      <td>высшее</td>\n",
       "      <td>0</td>\n",
       "      <td>женат / замужем</td>\n",
       "      <td>0</td>\n",
       "      <td>M</td>\n",
       "      <td>компаньон</td>\n",
       "      <td>0</td>\n",
       "      <td>113943.491460</td>\n",
       "      <td>покупка недвижимости</td>\n",
       "    </tr>\n",
       "    <tr>\n",
       "      <th>11</th>\n",
       "      <td>0</td>\n",
       "      <td>-792.701887</td>\n",
       "      <td>40</td>\n",
       "      <td>среднее</td>\n",
       "      <td>1</td>\n",
       "      <td>женат / замужем</td>\n",
       "      <td>0</td>\n",
       "      <td>F</td>\n",
       "      <td>сотрудник</td>\n",
       "      <td>0</td>\n",
       "      <td>77069.234271</td>\n",
       "      <td>покупка коммерческой недвижимости</td>\n",
       "    </tr>\n",
       "    <tr>\n",
       "      <th>12</th>\n",
       "      <td>0</td>\n",
       "      <td>NaN</td>\n",
       "      <td>65</td>\n",
       "      <td>среднее</td>\n",
       "      <td>1</td>\n",
       "      <td>гражданский брак</td>\n",
       "      <td>1</td>\n",
       "      <td>M</td>\n",
       "      <td>пенсионер</td>\n",
       "      <td>0</td>\n",
       "      <td>NaN</td>\n",
       "      <td>сыграть свадьбу</td>\n",
       "    </tr>\n",
       "    <tr>\n",
       "      <th>13</th>\n",
       "      <td>0</td>\n",
       "      <td>-1846.641941</td>\n",
       "      <td>54</td>\n",
       "      <td>неоконченное высшее</td>\n",
       "      <td>2</td>\n",
       "      <td>женат / замужем</td>\n",
       "      <td>0</td>\n",
       "      <td>F</td>\n",
       "      <td>сотрудник</td>\n",
       "      <td>0</td>\n",
       "      <td>130458.228857</td>\n",
       "      <td>приобретение автомобиля</td>\n",
       "    </tr>\n",
       "    <tr>\n",
       "      <th>14</th>\n",
       "      <td>0</td>\n",
       "      <td>-1844.956182</td>\n",
       "      <td>56</td>\n",
       "      <td>высшее</td>\n",
       "      <td>0</td>\n",
       "      <td>гражданский брак</td>\n",
       "      <td>1</td>\n",
       "      <td>F</td>\n",
       "      <td>компаньон</td>\n",
       "      <td>1</td>\n",
       "      <td>165127.911772</td>\n",
       "      <td>покупка жилой недвижимости</td>\n",
       "    </tr>\n",
       "    <tr>\n",
       "      <th>15</th>\n",
       "      <td>1</td>\n",
       "      <td>-972.364419</td>\n",
       "      <td>26</td>\n",
       "      <td>среднее</td>\n",
       "      <td>1</td>\n",
       "      <td>женат / замужем</td>\n",
       "      <td>0</td>\n",
       "      <td>F</td>\n",
       "      <td>сотрудник</td>\n",
       "      <td>0</td>\n",
       "      <td>116820.904450</td>\n",
       "      <td>строительство собственной недвижимости</td>\n",
       "    </tr>\n",
       "    <tr>\n",
       "      <th>16</th>\n",
       "      <td>0</td>\n",
       "      <td>-1719.934226</td>\n",
       "      <td>35</td>\n",
       "      <td>среднее</td>\n",
       "      <td>1</td>\n",
       "      <td>женат / замужем</td>\n",
       "      <td>0</td>\n",
       "      <td>F</td>\n",
       "      <td>сотрудник</td>\n",
       "      <td>0</td>\n",
       "      <td>289202.704229</td>\n",
       "      <td>недвижимость</td>\n",
       "    </tr>\n",
       "    <tr>\n",
       "      <th>17</th>\n",
       "      <td>0</td>\n",
       "      <td>-2369.999720</td>\n",
       "      <td>33</td>\n",
       "      <td>высшее</td>\n",
       "      <td>0</td>\n",
       "      <td>гражданский брак</td>\n",
       "      <td>1</td>\n",
       "      <td>M</td>\n",
       "      <td>сотрудник</td>\n",
       "      <td>0</td>\n",
       "      <td>90410.586745</td>\n",
       "      <td>строительство недвижимости</td>\n",
       "    </tr>\n",
       "    <tr>\n",
       "      <th>18</th>\n",
       "      <td>0</td>\n",
       "      <td>400281.136913</td>\n",
       "      <td>53</td>\n",
       "      <td>среднее</td>\n",
       "      <td>1</td>\n",
       "      <td>вдовец / вдова</td>\n",
       "      <td>2</td>\n",
       "      <td>F</td>\n",
       "      <td>пенсионер</td>\n",
       "      <td>0</td>\n",
       "      <td>56823.777243</td>\n",
       "      <td>на покупку подержанного автомобиля</td>\n",
       "    </tr>\n",
       "    <tr>\n",
       "      <th>19</th>\n",
       "      <td>0</td>\n",
       "      <td>-10038.818549</td>\n",
       "      <td>48</td>\n",
       "      <td>СРЕДНЕЕ</td>\n",
       "      <td>1</td>\n",
       "      <td>в разводе</td>\n",
       "      <td>3</td>\n",
       "      <td>F</td>\n",
       "      <td>сотрудник</td>\n",
       "      <td>0</td>\n",
       "      <td>242831.107982</td>\n",
       "      <td>на покупку своего автомобиля</td>\n",
       "    </tr>\n",
       "  </tbody>\n",
       "</table>\n",
       "</div>"
      ],
      "text/plain": [
       "    children  days_employed  dob_years            education  education_id  \\\n",
       "0          1   -8437.673028         42               высшее             0   \n",
       "1          1   -4024.803754         36              среднее             1   \n",
       "2          0   -5623.422610         33              Среднее             1   \n",
       "3          3   -4124.747207         32              среднее             1   \n",
       "4          0  340266.072047         53              среднее             1   \n",
       "5          0    -926.185831         27               высшее             0   \n",
       "6          0   -2879.202052         43               высшее             0   \n",
       "7          0    -152.779569         50              СРЕДНЕЕ             1   \n",
       "8          2   -6929.865299         35               ВЫСШЕЕ             0   \n",
       "9          0   -2188.756445         41              среднее             1   \n",
       "10         2   -4171.483647         36               высшее             0   \n",
       "11         0    -792.701887         40              среднее             1   \n",
       "12         0            NaN         65              среднее             1   \n",
       "13         0   -1846.641941         54  неоконченное высшее             2   \n",
       "14         0   -1844.956182         56               высшее             0   \n",
       "15         1    -972.364419         26              среднее             1   \n",
       "16         0   -1719.934226         35              среднее             1   \n",
       "17         0   -2369.999720         33               высшее             0   \n",
       "18         0  400281.136913         53              среднее             1   \n",
       "19         0  -10038.818549         48              СРЕДНЕЕ             1   \n",
       "\n",
       "       family_status  family_status_id gender income_type  debt  \\\n",
       "0    женат / замужем                 0      F   сотрудник     0   \n",
       "1    женат / замужем                 0      F   сотрудник     0   \n",
       "2    женат / замужем                 0      M   сотрудник     0   \n",
       "3    женат / замужем                 0      M   сотрудник     0   \n",
       "4   гражданский брак                 1      F   пенсионер     0   \n",
       "5   гражданский брак                 1      M   компаньон     0   \n",
       "6    женат / замужем                 0      F   компаньон     0   \n",
       "7    женат / замужем                 0      M   сотрудник     0   \n",
       "8   гражданский брак                 1      F   сотрудник     0   \n",
       "9    женат / замужем                 0      M   сотрудник     0   \n",
       "10   женат / замужем                 0      M   компаньон     0   \n",
       "11   женат / замужем                 0      F   сотрудник     0   \n",
       "12  гражданский брак                 1      M   пенсионер     0   \n",
       "13   женат / замужем                 0      F   сотрудник     0   \n",
       "14  гражданский брак                 1      F   компаньон     1   \n",
       "15   женат / замужем                 0      F   сотрудник     0   \n",
       "16   женат / замужем                 0      F   сотрудник     0   \n",
       "17  гражданский брак                 1      M   сотрудник     0   \n",
       "18    вдовец / вдова                 2      F   пенсионер     0   \n",
       "19         в разводе                 3      F   сотрудник     0   \n",
       "\n",
       "     total_income                                 purpose  \n",
       "0   253875.639453                           покупка жилья  \n",
       "1   112080.014102                 приобретение автомобиля  \n",
       "2   145885.952297                           покупка жилья  \n",
       "3   267628.550329              дополнительное образование  \n",
       "4   158616.077870                         сыграть свадьбу  \n",
       "5   255763.565419                           покупка жилья  \n",
       "6   240525.971920                       операции с жильем  \n",
       "7   135823.934197                             образование  \n",
       "8    95856.832424                   на проведение свадьбы  \n",
       "9   144425.938277                 покупка жилья для семьи  \n",
       "10  113943.491460                    покупка недвижимости  \n",
       "11   77069.234271       покупка коммерческой недвижимости  \n",
       "12            NaN                         сыграть свадьбу  \n",
       "13  130458.228857                 приобретение автомобиля  \n",
       "14  165127.911772              покупка жилой недвижимости  \n",
       "15  116820.904450  строительство собственной недвижимости  \n",
       "16  289202.704229                            недвижимость  \n",
       "17   90410.586745              строительство недвижимости  \n",
       "18   56823.777243      на покупку подержанного автомобиля  \n",
       "19  242831.107982            на покупку своего автомобиля  "
      ]
     },
     "execution_count": 2,
     "metadata": {},
     "output_type": "execute_result"
    }
   ],
   "source": [
    "data.head(20)"
   ]
  },
  {
   "cell_type": "markdown",
   "id": "0ed8f27f",
   "metadata": {
    "deletable": false,
    "editable": false,
    "id": "0ed8f27f"
   },
   "source": [
    "**Задание 3. Выведите основную информацию о датафрейме с помощью метода `info()`.**"
   ]
  },
  {
   "cell_type": "code",
   "execution_count": 3,
   "id": "ab3f863b",
   "metadata": {
    "deletable": false,
    "id": "ab3f863b",
    "outputId": "15376089-8dad-46c9-b520-c05248d43158"
   },
   "outputs": [
    {
     "name": "stdout",
     "output_type": "stream",
     "text": [
      "<class 'pandas.core.frame.DataFrame'>\n",
      "RangeIndex: 21525 entries, 0 to 21524\n",
      "Data columns (total 12 columns):\n",
      " #   Column            Non-Null Count  Dtype  \n",
      "---  ------            --------------  -----  \n",
      " 0   children          21525 non-null  int64  \n",
      " 1   days_employed     19351 non-null  float64\n",
      " 2   dob_years         21525 non-null  int64  \n",
      " 3   education         21525 non-null  object \n",
      " 4   education_id      21525 non-null  int64  \n",
      " 5   family_status     21525 non-null  object \n",
      " 6   family_status_id  21525 non-null  int64  \n",
      " 7   gender            21525 non-null  object \n",
      " 8   income_type       21525 non-null  object \n",
      " 9   debt              21525 non-null  int64  \n",
      " 10  total_income      19351 non-null  float64\n",
      " 11  purpose           21525 non-null  object \n",
      "dtypes: float64(2), int64(5), object(5)\n",
      "memory usage: 2.0+ MB\n"
     ]
    }
   ],
   "source": [
    "data.info()"
   ]
  },
  {
   "cell_type": "markdown",
   "id": "60e3e22d",
   "metadata": {
    "deletable": false,
    "editable": false,
    "id": "60e3e22d"
   },
   "source": [
    "## Предобработка данных"
   ]
  },
  {
   "cell_type": "markdown",
   "id": "03dc170c",
   "metadata": {
    "deletable": false,
    "editable": false,
    "id": "03dc170c"
   },
   "source": [
    "### Удаление пропусков"
   ]
  },
  {
   "cell_type": "markdown",
   "id": "a4f54eef",
   "metadata": {
    "deletable": false,
    "editable": false,
    "id": "a4f54eef"
   },
   "source": [
    "**Задание 4. Выведите количество пропущенных значений для каждого столбца. Используйте комбинацию двух методов.**"
   ]
  },
  {
   "cell_type": "code",
   "execution_count": 4,
   "id": "2dc372b2",
   "metadata": {
    "deletable": false,
    "id": "2dc372b2",
    "outputId": "81f4d817-781c-465c-ed15-91ce4446810d"
   },
   "outputs": [
    {
     "data": {
      "text/plain": [
       "children               0\n",
       "days_employed       2174\n",
       "dob_years              0\n",
       "education              0\n",
       "education_id           0\n",
       "family_status          0\n",
       "family_status_id       0\n",
       "gender                 0\n",
       "income_type            0\n",
       "debt                   0\n",
       "total_income        2174\n",
       "purpose                0\n",
       "dtype: int64"
      ]
     },
     "execution_count": 4,
     "metadata": {},
     "output_type": "execute_result"
    }
   ],
   "source": [
    "data.isna().sum()"
   ]
  },
  {
   "cell_type": "markdown",
   "id": "14f011b1",
   "metadata": {
    "deletable": false,
    "editable": false,
    "id": "14f011b1"
   },
   "source": [
    "**Задание 5. В двух столбцах есть пропущенные значения. Один из них — `days_employed`. Пропуски в этом столбце вы обработаете на следующем этапе. Другой столбец с пропущенными значениями — `total_income` — хранит данные о доходах. На сумму дохода сильнее всего влияет тип занятости, поэтому заполнить пропуски в этом столбце нужно медианным значением по каждому типу из столбца `income_type`. Например, у человека с типом занятости `сотрудник` пропуск в столбце `total_income` должен быть заполнен медианным доходом среди всех записей с тем же типом.**"
   ]
  },
  {
   "cell_type": "code",
   "execution_count": 5,
   "id": "bdabfb6e",
   "metadata": {
    "deletable": false,
    "id": "bdabfb6e"
   },
   "outputs": [],
   "source": [
    "for t in data['income_type'].unique():\n",
    "    data.loc[(data['income_type'] == t) & (data['total_income'].isna()), 'total_income'] = \\\n",
    "    data.loc[(data['income_type'] == t), 'total_income'].median()"
   ]
  },
  {
   "cell_type": "markdown",
   "id": "5be34059",
   "metadata": {
    "deletable": false,
    "editable": false,
    "id": "5be34059"
   },
   "source": [
    "### Обработка аномальных значений"
   ]
  },
  {
   "cell_type": "markdown",
   "id": "a87606cb",
   "metadata": {
    "deletable": false,
    "editable": false,
    "id": "a87606cb"
   },
   "source": [
    "**Задание 6. В данных могут встречаться артефакты (аномалии) — значения, которые не отражают действительность и появились по какой-то ошибке. таким артефактом будет отрицательное количество дней трудового стажа в столбце `days_employed`. Для реальных данных это нормально. Обработайте значения в этом столбце: замените все отрицательные значения положительными с помощью метода `abs()`.**"
   ]
  },
  {
   "cell_type": "code",
   "execution_count": 6,
   "id": "020c46cc",
   "metadata": {
    "deletable": false,
    "id": "020c46cc"
   },
   "outputs": [],
   "source": [
    "data['days_employed'] = data['days_employed'].abs()"
   ]
  },
  {
   "cell_type": "markdown",
   "id": "45538a3a",
   "metadata": {
    "deletable": false,
    "editable": false,
    "id": "45538a3a"
   },
   "source": [
    "**Задание 7. Для каждого типа занятости выведите медианное значение трудового стажа `days_employed` в днях.**"
   ]
  },
  {
   "cell_type": "code",
   "execution_count": 7,
   "id": "cd3e6328",
   "metadata": {
    "deletable": false,
    "id": "cd3e6328",
    "outputId": "801ef80e-522b-4668-f34e-565af7432bcf"
   },
   "outputs": [
    {
     "data": {
      "text/plain": [
       "income_type\n",
       "безработный        366413.652744\n",
       "в декрете            3296.759962\n",
       "госслужащий          2689.368353\n",
       "компаньон            1547.382223\n",
       "пенсионер          365213.306266\n",
       "предприниматель       520.848083\n",
       "сотрудник            1574.202821\n",
       "студент               578.751554\n",
       "Name: days_employed, dtype: float64"
      ]
     },
     "execution_count": 7,
     "metadata": {},
     "output_type": "execute_result"
    }
   ],
   "source": [
    "data.groupby('income_type')['days_employed'].agg('median')"
   ]
  },
  {
   "cell_type": "markdown",
   "id": "90c5f058",
   "metadata": {
    "deletable": false,
    "editable": false,
    "id": "90c5f058"
   },
   "source": [
    "У двух типов (безработные и пенсионеры) получатся аномально большие значения. Исправить такие значения сложно, поэтому оставьте их как есть."
   ]
  },
  {
   "cell_type": "markdown",
   "id": "9652e50d",
   "metadata": {
    "deletable": false,
    "editable": false,
    "id": "9652e50d"
   },
   "source": [
    "**Задание 8. Выведите перечень уникальных значений столбца `children`.**"
   ]
  },
  {
   "cell_type": "code",
   "execution_count": 8,
   "id": "dbb37b8e",
   "metadata": {
    "deletable": false,
    "id": "dbb37b8e",
    "outputId": "6975b15c-7f95-4697-d16d-a0c79b657b03"
   },
   "outputs": [
    {
     "data": {
      "text/plain": [
       "array([ 1,  0,  3,  2, -1,  4, 20,  5])"
      ]
     },
     "execution_count": 8,
     "metadata": {},
     "output_type": "execute_result"
    }
   ],
   "source": [
    "data['children'].unique()"
   ]
  },
  {
   "cell_type": "markdown",
   "id": "2b8b0715",
   "metadata": {
    "deletable": false,
    "editable": false,
    "id": "2b8b0715"
   },
   "source": [
    "**Задание 9. В столбце `children` есть два аномальных значения. Удалите строки, в которых встречаются такие аномальные значения из датафрейма `data`.**"
   ]
  },
  {
   "cell_type": "code",
   "execution_count": 9,
   "id": "20009df8",
   "metadata": {
    "deletable": false,
    "id": "20009df8"
   },
   "outputs": [],
   "source": [
    "data = data[(data['children'] != -1) & (data['children'] != 20)]"
   ]
  },
  {
   "cell_type": "markdown",
   "id": "8c6ac9f1",
   "metadata": {
    "deletable": false,
    "editable": false,
    "id": "8c6ac9f1"
   },
   "source": [
    "**Задание 10. Ещё раз выведите перечень уникальных значений столбца `children`, чтобы убедиться, что артефакты удалены.**"
   ]
  },
  {
   "cell_type": "code",
   "execution_count": 10,
   "id": "07337b81",
   "metadata": {
    "deletable": false,
    "id": "07337b81",
    "outputId": "b2097101-d49d-44d9-901b-32a65c9463d1"
   },
   "outputs": [
    {
     "data": {
      "text/plain": [
       "array([1, 0, 3, 2, 4, 5])"
      ]
     },
     "execution_count": 10,
     "metadata": {},
     "output_type": "execute_result"
    }
   ],
   "source": [
    "data['children'].unique()"
   ]
  },
  {
   "cell_type": "markdown",
   "id": "ee3f52d4",
   "metadata": {
    "deletable": false,
    "editable": false,
    "id": "ee3f52d4"
   },
   "source": [
    "### Удаление пропусков (продолжение)"
   ]
  },
  {
   "cell_type": "markdown",
   "id": "a700b0e4",
   "metadata": {
    "deletable": false,
    "editable": false,
    "id": "a700b0e4"
   },
   "source": [
    "**Задание 11. Заполните пропуски в столбце `days_employed` медианными значениями по каждого типа занятости `income_type`.**"
   ]
  },
  {
   "cell_type": "code",
   "execution_count": 11,
   "id": "61946b83",
   "metadata": {
    "deletable": false,
    "id": "61946b83"
   },
   "outputs": [],
   "source": [
    "for t in data['income_type'].unique():\n",
    "    data.loc[(data['income_type'] == t) & (data['days_employed'].isna()), 'days_employed'] = \\\n",
    "    data.loc[(data['income_type'] == t), 'days_employed'].median()"
   ]
  },
  {
   "cell_type": "markdown",
   "id": "550dcd9b",
   "metadata": {
    "deletable": false,
    "editable": false,
    "id": "550dcd9b"
   },
   "source": [
    "**Задание 12. Убедитесь, что все пропуски заполнены. Проверьте себя и ещё раз выведите количество пропущенных значений для каждого столбца с помощью двух методов.**"
   ]
  },
  {
   "cell_type": "code",
   "execution_count": 12,
   "id": "937c7014",
   "metadata": {
    "deletable": false,
    "id": "937c7014",
    "outputId": "8da1e4e1-358e-4e87-98c9-f261bce0a7b2"
   },
   "outputs": [
    {
     "data": {
      "text/plain": [
       "children            0\n",
       "days_employed       0\n",
       "dob_years           0\n",
       "education           0\n",
       "education_id        0\n",
       "family_status       0\n",
       "family_status_id    0\n",
       "gender              0\n",
       "income_type         0\n",
       "debt                0\n",
       "total_income        0\n",
       "purpose             0\n",
       "dtype: int64"
      ]
     },
     "execution_count": 12,
     "metadata": {},
     "output_type": "execute_result"
    }
   ],
   "source": [
    "data.isna().sum()"
   ]
  },
  {
   "cell_type": "markdown",
   "id": "d522e295",
   "metadata": {
    "deletable": false,
    "editable": false,
    "id": "d522e295"
   },
   "source": [
    "### Изменение типов данных"
   ]
  },
  {
   "cell_type": "markdown",
   "id": "c229c581",
   "metadata": {
    "deletable": false,
    "editable": false,
    "id": "c229c581"
   },
   "source": [
    "**Задание 13. Замените вещественный тип данных в столбце `total_income` на целочисленный с помощью метода `astype()`.**"
   ]
  },
  {
   "cell_type": "code",
   "execution_count": 13,
   "id": "31036462",
   "metadata": {
    "deletable": false,
    "id": "31036462"
   },
   "outputs": [],
   "source": [
    "data['total_income'] = data['total_income'].astype(int)"
   ]
  },
  {
   "cell_type": "markdown",
   "id": "b8e3d1d9",
   "metadata": {
    "deletable": false,
    "editable": false,
    "id": "b8e3d1d9"
   },
   "source": [
    "### Обработка дубликатов"
   ]
  },
  {
   "cell_type": "markdown",
   "id": "9be53c49",
   "metadata": {
    "deletable": false,
    "editable": false,
    "id": "9be53c49"
   },
   "source": [
    "**Задание 14. Обработайте неявные дубликаты в столбце `education`. В этом столбце есть одни и те же значения, но записанные по-разному: с использованием заглавных и строчных букв. Приведите их к нижнему регистру.**"
   ]
  },
  {
   "cell_type": "code",
   "execution_count": 14,
   "id": "d89e73e1",
   "metadata": {
    "deletable": false,
    "id": "d89e73e1"
   },
   "outputs": [],
   "source": [
    "data['education'] = data['education'].str.lower()"
   ]
  },
  {
   "cell_type": "markdown",
   "id": "01d4500e",
   "metadata": {
    "deletable": false,
    "editable": false,
    "id": "01d4500e"
   },
   "source": [
    "**Задание 15. Выведите на экран количество строк-дубликатов в данных. Если такие строки присутствуют, удалите их.**"
   ]
  },
  {
   "cell_type": "code",
   "execution_count": 15,
   "id": "e10efb23",
   "metadata": {
    "deletable": false,
    "id": "e10efb23",
    "outputId": "9684deba-1934-42d1-99e1-cda61740f822"
   },
   "outputs": [
    {
     "data": {
      "text/plain": [
       "71"
      ]
     },
     "execution_count": 15,
     "metadata": {},
     "output_type": "execute_result"
    }
   ],
   "source": [
    "data.duplicated().sum()"
   ]
  },
  {
   "cell_type": "code",
   "execution_count": 16,
   "id": "df853f20",
   "metadata": {
    "deletable": false,
    "id": "df853f20"
   },
   "outputs": [],
   "source": [
    "data = data.drop_duplicates()"
   ]
  },
  {
   "cell_type": "markdown",
   "id": "627be38f",
   "metadata": {
    "deletable": false,
    "editable": false,
    "id": "627be38f"
   },
   "source": [
    "### Категоризация данных"
   ]
  },
  {
   "cell_type": "markdown",
   "id": "4684c3e0",
   "metadata": {
    "deletable": false,
    "editable": false,
    "id": "4684c3e0"
   },
   "source": [
    "**Задание 16. На основании диапазонов, указанных ниже, создайте в датафрейме `data` столбец `total_income_category` с категориями:**\n",
    "\n",
    "- 0–30000 — `'E'`;\n",
    "- 30001–50000 — `'D'`;\n",
    "- 50001–200000 — `'C'`;\n",
    "- 200001–1000000 — `'B'`;\n",
    "- 1000001 и выше — `'A'`.\n",
    "\n",
    "\n",
    "**Например, кредитополучателю с доходом 25000 нужно назначить категорию `'E'`, а клиенту, получающему 235000, — `'B'`. Используйте собственную функцию с именем `categorize_income()` и метод `apply()`.**"
   ]
  },
  {
   "cell_type": "code",
   "execution_count": 17,
   "id": "78965238",
   "metadata": {
    "deletable": false,
    "id": "78965238"
   },
   "outputs": [],
   "source": [
    "def categorize_income(income):\n",
    "    try:\n",
    "        if 0 <= income <= 30000:\n",
    "            return 'E'\n",
    "        elif 30001 <= income <= 50000:\n",
    "            return 'D'\n",
    "        elif 50001 <= income <= 200000:\n",
    "            return 'C'\n",
    "        elif 200001 <= income <= 1000000:\n",
    "            return 'B'\n",
    "        elif income >= 1000001:\n",
    "            return 'A'\n",
    "    except:\n",
    "        pass"
   ]
  },
  {
   "cell_type": "code",
   "execution_count": 18,
   "id": "0980ada1",
   "metadata": {
    "deletable": false,
    "id": "0980ada1"
   },
   "outputs": [],
   "source": [
    "data['total_income_category'] = data['total_income'].apply(categorize_income)"
   ]
  },
  {
   "cell_type": "markdown",
   "id": "9917bba0",
   "metadata": {
    "deletable": false,
    "editable": false,
    "id": "9917bba0"
   },
   "source": [
    "**Задание 17. Выведите на экран перечень уникальных целей взятия кредита из столбца `purpose`.**"
   ]
  },
  {
   "cell_type": "code",
   "execution_count": 19,
   "id": "ee07b65e",
   "metadata": {
    "deletable": false,
    "id": "ee07b65e",
    "outputId": "673c12d9-7d7e-4ae0-9812-c622c89dd244"
   },
   "outputs": [
    {
     "data": {
      "text/plain": [
       "array(['покупка жилья', 'приобретение автомобиля',\n",
       "       'дополнительное образование', 'сыграть свадьбу',\n",
       "       'операции с жильем', 'образование', 'на проведение свадьбы',\n",
       "       'покупка жилья для семьи', 'покупка недвижимости',\n",
       "       'покупка коммерческой недвижимости', 'покупка жилой недвижимости',\n",
       "       'строительство собственной недвижимости', 'недвижимость',\n",
       "       'строительство недвижимости', 'на покупку подержанного автомобиля',\n",
       "       'на покупку своего автомобиля',\n",
       "       'операции с коммерческой недвижимостью',\n",
       "       'строительство жилой недвижимости', 'жилье',\n",
       "       'операции со своей недвижимостью', 'автомобили',\n",
       "       'заняться образованием', 'сделка с подержанным автомобилем',\n",
       "       'получение образования', 'автомобиль', 'свадьба',\n",
       "       'получение дополнительного образования', 'покупка своего жилья',\n",
       "       'операции с недвижимостью', 'получение высшего образования',\n",
       "       'свой автомобиль', 'сделка с автомобилем',\n",
       "       'профильное образование', 'высшее образование',\n",
       "       'покупка жилья для сдачи', 'на покупку автомобиля', 'ремонт жилью',\n",
       "       'заняться высшим образованием'], dtype=object)"
      ]
     },
     "execution_count": 19,
     "metadata": {},
     "output_type": "execute_result"
    }
   ],
   "source": [
    "data['purpose'].unique()"
   ]
  },
  {
   "cell_type": "markdown",
   "id": "52b79d56",
   "metadata": {
    "deletable": false,
    "editable": false,
    "id": "52b79d56"
   },
   "source": [
    "**Задание 18. Создайте функцию, которая на основании данных из столбца `purpose` сформирует новый столбец `purpose_category`, в который войдут следующие категории:**\n",
    "\n",
    "- `'операции с автомобилем'`,\n",
    "- `'операции с недвижимостью'`,\n",
    "- `'проведение свадьбы'`,\n",
    "- `'получение образования'`.\n",
    "\n",
    "**Например, если в столбце `purpose` находится подстрока `'на покупку автомобиля'`, то в столбце `purpose_category` должна появиться строка `'операции с автомобилем'`.**\n",
    "\n",
    "**Используйте собственную функцию с именем `categorize_purpose()` и метод `apply()`. Изучите данные в столбце `purpose` и определите, какие подстроки помогут вам правильно определить категорию.**"
   ]
  },
  {
   "cell_type": "code",
   "execution_count": 20,
   "id": "be41da5d",
   "metadata": {
    "deletable": false,
    "id": "be41da5d"
   },
   "outputs": [],
   "source": [
    "def categorize_purpose(row):\n",
    "    try:\n",
    "        if 'автом' in row:\n",
    "            return 'операции с автомобилем'\n",
    "        elif 'жил' in row or 'недвиж' in row:\n",
    "            return 'операции с недвижимостью'\n",
    "        elif 'свад' in row:\n",
    "            return 'проведение свадьбы'\n",
    "        elif 'образов' in row:\n",
    "            return 'получение образования'\n",
    "    except:\n",
    "        return 'нет категории'"
   ]
  },
  {
   "cell_type": "code",
   "execution_count": 21,
   "id": "94c4a19a",
   "metadata": {
    "deletable": false,
    "id": "94c4a19a"
   },
   "outputs": [],
   "source": [
    "data['purpose_category'] = data['purpose'].apply(categorize_purpose)"
   ]
  },
  {
   "cell_type": "markdown",
   "id": "3d596c34",
   "metadata": {
    "deletable": false,
    "editable": false,
    "id": "3d596c34"
   },
   "source": [
    "### Шаг 3. Исследуйте данные и ответьте на вопросы"
   ]
  },
  {
   "cell_type": "markdown",
   "id": "648db036",
   "metadata": {
    "deletable": false,
    "editable": false,
    "id": "648db036"
   },
   "source": [
    "#### 3.1 Есть ли зависимость между количеством детей и возвратом кредита в срок?"
   ]
  },
  {
   "cell_type": "code",
   "execution_count": 22,
   "id": "7fcff25e",
   "metadata": {
    "deletable": false,
    "id": "7fcff25e"
   },
   "outputs": [
    {
     "data": {
      "text/html": [
       "<div>\n",
       "<style scoped>\n",
       "    .dataframe tbody tr th:only-of-type {\n",
       "        vertical-align: middle;\n",
       "    }\n",
       "\n",
       "    .dataframe tbody tr th {\n",
       "        vertical-align: top;\n",
       "    }\n",
       "\n",
       "    .dataframe thead tr th {\n",
       "        text-align: left;\n",
       "    }\n",
       "\n",
       "    .dataframe thead tr:last-of-type th {\n",
       "        text-align: right;\n",
       "    }\n",
       "</style>\n",
       "<table border=\"1\" class=\"dataframe\">\n",
       "  <thead>\n",
       "    <tr>\n",
       "      <th></th>\n",
       "      <th>count</th>\n",
       "      <th>sum</th>\n",
       "      <th>share of Deb</th>\n",
       "    </tr>\n",
       "    <tr>\n",
       "      <th></th>\n",
       "      <th>debt</th>\n",
       "      <th>debt</th>\n",
       "      <th></th>\n",
       "    </tr>\n",
       "    <tr>\n",
       "      <th>children</th>\n",
       "      <th></th>\n",
       "      <th></th>\n",
       "      <th></th>\n",
       "    </tr>\n",
       "  </thead>\n",
       "  <tbody>\n",
       "    <tr>\n",
       "      <th>0</th>\n",
       "      <td>14091</td>\n",
       "      <td>1063</td>\n",
       "      <td>7.543822</td>\n",
       "    </tr>\n",
       "    <tr>\n",
       "      <th>1</th>\n",
       "      <td>4808</td>\n",
       "      <td>444</td>\n",
       "      <td>9.234609</td>\n",
       "    </tr>\n",
       "    <tr>\n",
       "      <th>2</th>\n",
       "      <td>2052</td>\n",
       "      <td>194</td>\n",
       "      <td>9.454191</td>\n",
       "    </tr>\n",
       "    <tr>\n",
       "      <th>3</th>\n",
       "      <td>330</td>\n",
       "      <td>27</td>\n",
       "      <td>8.181818</td>\n",
       "    </tr>\n",
       "    <tr>\n",
       "      <th>4</th>\n",
       "      <td>41</td>\n",
       "      <td>4</td>\n",
       "      <td>9.756098</td>\n",
       "    </tr>\n",
       "    <tr>\n",
       "      <th>5</th>\n",
       "      <td>9</td>\n",
       "      <td>0</td>\n",
       "      <td>0.000000</td>\n",
       "    </tr>\n",
       "  </tbody>\n",
       "</table>\n",
       "</div>"
      ],
      "text/plain": [
       "          count   sum share of Deb\n",
       "           debt  debt             \n",
       "children                          \n",
       "0         14091  1063     7.543822\n",
       "1          4808   444     9.234609\n",
       "2          2052   194     9.454191\n",
       "3           330    27     8.181818\n",
       "4            41     4     9.756098\n",
       "5             9     0     0.000000"
      ]
     },
     "metadata": {},
     "output_type": "display_data"
    }
   ],
   "source": [
    "from IPython.display import display\n",
    "\n",
    "children_columns = data['children'].unique()\n",
    "\n",
    "total_debt = data.groupby('children')['debt'].count()\n",
    "total_debt_i = data.groupby('children')['debt'].sum()\n",
    "share_of_deb = (total_debt_i / total_debt) * 100\n",
    "\n",
    "def child (total_debt):\n",
    "    result = total_debt_i / total_debt_i\n",
    "    return result\n",
    "\n",
    "data_children_debt = data.pivot_table(index=['children'], values=['debt'], aggfunc=['count', 'sum', child])\n",
    "data_children_debt['share of Deb'] = share_of_deb\n",
    "display(data_children_debt)"
   ]
  },
  {
   "cell_type": "markdown",
   "id": "2eb9088e",
   "metadata": {
    "deletable": false,
    "id": "2eb9088e"
   },
   "source": []
  },
  {
   "cell_type": "markdown",
   "id": "fe80804d",
   "metadata": {},
   "source": [
    "Наименьшую часть должников составляют клиенты не имеющие детей. При этом на 2-3% больше тех, кто имеет 1 или 2 детей. \n",
    "Увеличение количества детей может влиять на сумму расходов на их воспитание от общего дохода. Из-за этого и возврастает доля должников.\n",
    "    \n",
    "Категория тех, у кого 5 детей не самая распространенная. Отсутствие задолженности у них может говорить о том, что уровень дохода значительно выше, чем у остальных категорий, и это позволяет погашать кредит без просрочек.\n",
    "    \n",
    "Исходя из полученных данных можно предположить, что количество детей влияет на погашение долга в срок. Но для полной картины данных недостаточно. Например, можно сравнить уровень дохода и количество работающих людей в семье с количеством детей. Сколько  в семье источников дохода? Если их несколько, то это может значительно влиять на срок погашения долга.\n",
    "        </b> </div>\n"
   ]
  },
  {
   "cell_type": "markdown",
   "id": "74c9b3a7",
   "metadata": {
    "deletable": false,
    "editable": false,
    "id": "74c9b3a7"
   },
   "source": [
    "#### 3.2 Есть ли зависимость между семейным положением и возвратом кредита в срок?"
   ]
  },
  {
   "cell_type": "code",
   "execution_count": 23,
   "id": "8098ab3b",
   "metadata": {
    "deletable": false,
    "id": "8098ab3b"
   },
   "outputs": [
    {
     "data": {
      "text/html": [
       "<div>\n",
       "<style scoped>\n",
       "    .dataframe tbody tr th:only-of-type {\n",
       "        vertical-align: middle;\n",
       "    }\n",
       "\n",
       "    .dataframe tbody tr th {\n",
       "        vertical-align: top;\n",
       "    }\n",
       "\n",
       "    .dataframe thead tr th {\n",
       "        text-align: left;\n",
       "    }\n",
       "\n",
       "    .dataframe thead tr:last-of-type th {\n",
       "        text-align: right;\n",
       "    }\n",
       "</style>\n",
       "<table border=\"1\" class=\"dataframe\">\n",
       "  <thead>\n",
       "    <tr>\n",
       "      <th></th>\n",
       "      <th>count</th>\n",
       "      <th>sum</th>\n",
       "      <th>share of Deb</th>\n",
       "    </tr>\n",
       "    <tr>\n",
       "      <th></th>\n",
       "      <th>debt</th>\n",
       "      <th>debt</th>\n",
       "      <th></th>\n",
       "    </tr>\n",
       "    <tr>\n",
       "      <th>family_status</th>\n",
       "      <th></th>\n",
       "      <th></th>\n",
       "      <th></th>\n",
       "    </tr>\n",
       "  </thead>\n",
       "  <tbody>\n",
       "    <tr>\n",
       "      <th>Не женат / не замужем</th>\n",
       "      <td>2796</td>\n",
       "      <td>273</td>\n",
       "      <td>9.763948</td>\n",
       "    </tr>\n",
       "    <tr>\n",
       "      <th>в разводе</th>\n",
       "      <td>1189</td>\n",
       "      <td>84</td>\n",
       "      <td>7.064760</td>\n",
       "    </tr>\n",
       "    <tr>\n",
       "      <th>вдовец / вдова</th>\n",
       "      <td>951</td>\n",
       "      <td>63</td>\n",
       "      <td>6.624606</td>\n",
       "    </tr>\n",
       "    <tr>\n",
       "      <th>гражданский брак</th>\n",
       "      <td>4134</td>\n",
       "      <td>385</td>\n",
       "      <td>9.313014</td>\n",
       "    </tr>\n",
       "    <tr>\n",
       "      <th>женат / замужем</th>\n",
       "      <td>12261</td>\n",
       "      <td>927</td>\n",
       "      <td>7.560558</td>\n",
       "    </tr>\n",
       "  </tbody>\n",
       "</table>\n",
       "</div>"
      ],
      "text/plain": [
       "                       count  sum share of Deb\n",
       "                        debt debt             \n",
       "family_status                                 \n",
       "Не женат / не замужем   2796  273     9.763948\n",
       "в разводе               1189   84     7.064760\n",
       "вдовец / вдова           951   63     6.624606\n",
       "гражданский брак        4134  385     9.313014\n",
       "женат / замужем        12261  927     7.560558"
      ]
     },
     "metadata": {},
     "output_type": "display_data"
    }
   ],
   "source": [
    "family_status_columns = data['family_status'].unique()\n",
    "\n",
    "total_debt = data.groupby('family_status')['debt'].count()\n",
    "total_debt_i = data.groupby('family_status')['debt'].sum()\n",
    "share_of_deb = (total_debt_i / total_debt) * 100\n",
    "\n",
    "def family (total_debt):\n",
    "    result = total_debt_i / total_debt_i\n",
    "    return result\n",
    "\n",
    "data_family_status_debt = data.pivot_table(index=['family_status'], values=['debt'], aggfunc=['count', 'sum', family])\n",
    "data_family_status_debt['share of Deb'] = share_of_deb\n",
    "display(data_family_status_debt)"
   ]
  },
  {
   "cell_type": "markdown",
   "id": "a1d23798",
   "metadata": {
    "deletable": false,
    "id": "c389ca63"
   },
   "source": [
    "Вывод: большую часть кредитозаемщиков составляют люди, которые состоят в браке. При этом у людей, которые не были в официальном браке, доля просрочек по кредитам больше, чем у тех, кто был или состоит в браке, примерно на 2-3 процента.\n",
    "Из этого можно сделать вывод, что незначительная зависимость от семейного положения есть."
   ]
  },
  {
   "cell_type": "markdown",
   "id": "9529de68",
   "metadata": {
    "deletable": false,
    "editable": false,
    "id": "9529de68"
   },
   "source": [
    "#### 3.3 Есть ли зависимость между уровнем дохода и возвратом кредита в срок?"
   ]
  },
  {
   "cell_type": "code",
   "execution_count": 24,
   "id": "8787f44a",
   "metadata": {
    "deletable": false,
    "id": "8787f44a"
   },
   "outputs": [
    {
     "data": {
      "text/html": [
       "<div>\n",
       "<style scoped>\n",
       "    .dataframe tbody tr th:only-of-type {\n",
       "        vertical-align: middle;\n",
       "    }\n",
       "\n",
       "    .dataframe tbody tr th {\n",
       "        vertical-align: top;\n",
       "    }\n",
       "\n",
       "    .dataframe thead th {\n",
       "        text-align: right;\n",
       "    }\n",
       "</style>\n",
       "<table border=\"1\" class=\"dataframe\">\n",
       "  <thead>\n",
       "    <tr style=\"text-align: right;\">\n",
       "      <th></th>\n",
       "      <th>debt</th>\n",
       "      <th>share_of_debt</th>\n",
       "      <th>total_income</th>\n",
       "    </tr>\n",
       "    <tr>\n",
       "      <th>education</th>\n",
       "      <th></th>\n",
       "      <th></th>\n",
       "      <th></th>\n",
       "    </tr>\n",
       "  </thead>\n",
       "  <tbody>\n",
       "    <tr>\n",
       "      <th>высшее</th>\n",
       "      <td>0.053185</td>\n",
       "      <td>3.505782e-07</td>\n",
       "      <td>201675.173905</td>\n",
       "    </tr>\n",
       "    <tr>\n",
       "      <th>неоконченное высшее</th>\n",
       "      <td>0.091768</td>\n",
       "      <td>5.701200e-07</td>\n",
       "      <td>178544.719298</td>\n",
       "    </tr>\n",
       "    <tr>\n",
       "      <th>ученая степень</th>\n",
       "      <td>0.000000</td>\n",
       "      <td>0.000000e+00</td>\n",
       "      <td>174749.833333</td>\n",
       "    </tr>\n",
       "    <tr>\n",
       "      <th>среднее</th>\n",
       "      <td>0.089884</td>\n",
       "      <td>7.264370e-07</td>\n",
       "      <td>152705.268060</td>\n",
       "    </tr>\n",
       "    <tr>\n",
       "      <th>начальное</th>\n",
       "      <td>0.109929</td>\n",
       "      <td>8.760442e-07</td>\n",
       "      <td>132581.290780</td>\n",
       "    </tr>\n",
       "  </tbody>\n",
       "</table>\n",
       "</div>"
      ],
      "text/plain": [
       "                         debt  share_of_debt   total_income\n",
       "education                                                  \n",
       "высшее               0.053185   3.505782e-07  201675.173905\n",
       "неоконченное высшее  0.091768   5.701200e-07  178544.719298\n",
       "ученая степень       0.000000   0.000000e+00  174749.833333\n",
       "среднее              0.089884   7.264370e-07  152705.268060\n",
       "начальное            0.109929   8.760442e-07  132581.290780"
      ]
     },
     "metadata": {},
     "output_type": "display_data"
    }
   ],
   "source": [
    "data['total_income'] = pd.to_numeric(data['total_income'], errors='coerce')\n",
    "data['debt'] = pd.to_numeric(data['debt'], errors='coerce')\n",
    "\n",
    "data['share_of_debt'] = data['debt'] / data['total_income']\n",
    "\n",
    "pivot_table = data.pivot_table(index='education', values=['total_income', 'debt', 'share_of_debt'], aggfunc='mean')\n",
    "\n",
    "sorted_pivot_table = pivot_table.sort_values(by='total_income', ascending=False)\n",
    "\n",
    "display(sorted_pivot_table)"
   ]
  },
  {
   "cell_type": "markdown",
   "id": "6dd14b57",
   "metadata": {
    "deletable": false,
    "id": "6dd14b57"
   },
   "source": [
    "Вывод:для сравнения взяли столюец с образованием. Люди имеющие ученую степень более ответственно относятся к погашению кредита в срок. При этом имея более меньший доход, чем люди с высшим образованием. Те, кто имеет только начальное образование имеют наибольшую долю должников при наименьшем доходе. Можно сделать вывод, что щависимость между уровнем дохода и возвратом вредита в срок, есть."
   ]
  },
  {
   "cell_type": "code",
   "execution_count": 25,
   "id": "db87e018",
   "metadata": {},
   "outputs": [
    {
     "data": {
      "text/html": [
       "<div>\n",
       "<style scoped>\n",
       "    .dataframe tbody tr th:only-of-type {\n",
       "        vertical-align: middle;\n",
       "    }\n",
       "\n",
       "    .dataframe tbody tr th {\n",
       "        vertical-align: top;\n",
       "    }\n",
       "\n",
       "    .dataframe thead th {\n",
       "        text-align: right;\n",
       "    }\n",
       "</style>\n",
       "<table border=\"1\" class=\"dataframe\">\n",
       "  <thead>\n",
       "    <tr style=\"text-align: right;\">\n",
       "      <th></th>\n",
       "      <th>debt</th>\n",
       "      <th>share_of_debt</th>\n",
       "      <th>total_income</th>\n",
       "    </tr>\n",
       "    <tr>\n",
       "      <th>total_income_category</th>\n",
       "      <th></th>\n",
       "      <th></th>\n",
       "      <th></th>\n",
       "    </tr>\n",
       "  </thead>\n",
       "  <tbody>\n",
       "    <tr>\n",
       "      <th>A</th>\n",
       "      <td>0.080000</td>\n",
       "      <td>5.697586e-08</td>\n",
       "      <td>1.339118e+06</td>\n",
       "    </tr>\n",
       "    <tr>\n",
       "      <th>B</th>\n",
       "      <td>0.070602</td>\n",
       "      <td>2.668508e-07</td>\n",
       "      <td>2.866428e+05</td>\n",
       "    </tr>\n",
       "    <tr>\n",
       "      <th>C</th>\n",
       "      <td>0.084982</td>\n",
       "      <td>7.244880e-07</td>\n",
       "      <td>1.281750e+05</td>\n",
       "    </tr>\n",
       "    <tr>\n",
       "      <th>D</th>\n",
       "      <td>0.060172</td>\n",
       "      <td>1.422174e-06</td>\n",
       "      <td>4.292044e+04</td>\n",
       "    </tr>\n",
       "    <tr>\n",
       "      <th>E</th>\n",
       "      <td>0.090909</td>\n",
       "      <td>3.758497e-06</td>\n",
       "      <td>2.579482e+04</td>\n",
       "    </tr>\n",
       "  </tbody>\n",
       "</table>\n",
       "</div>"
      ],
      "text/plain": [
       "                           debt  share_of_debt  total_income\n",
       "total_income_category                                       \n",
       "A                      0.080000   5.697586e-08  1.339118e+06\n",
       "B                      0.070602   2.668508e-07  2.866428e+05\n",
       "C                      0.084982   7.244880e-07  1.281750e+05\n",
       "D                      0.060172   1.422174e-06  4.292044e+04\n",
       "E                      0.090909   3.758497e-06  2.579482e+04"
      ]
     },
     "metadata": {},
     "output_type": "display_data"
    }
   ],
   "source": [
    "data['total_income'] = pd.to_numeric(data['total_income'], errors='coerce')\n",
    "data['debt'] = pd.to_numeric(data['debt'], errors='coerce')\n",
    "\n",
    "\n",
    "data['share_of_debt'] = data['debt'] / data['total_income']\n",
    "\n",
    "pivot_table = data.pivot_table(index='total_income_category', values=['total_income', 'debt', 'share_of_debt'], aggfunc='mean')\n",
    "\n",
    "sorted_pivot_table = pivot_table.sort_values(by='total_income', ascending=False)\n",
    "\n",
    "display(sorted_pivot_table)"
   ]
  },
  {
   "cell_type": "markdown",
   "id": "034139fb",
   "metadata": {},
   "source": [
    "Исходя из полученных данных можно сделать вывод, что у клиентов со средним уровнем дохода наибольшая доля должников. Это может быть связано с тем, что при росте дохода вырастают и расходы. Например, изменилась сумма аренда квартиры или появились расходы на детей, здоровье или развлечения. И из-за этого возникают задержки в оплате кредита. А наименьшую долю должников составляют люди с доходом ниже среднего. \n",
    "    \n",
    "Однозначного ответа, зависит ли уровень дохода на возврат долга в срок, сказать невозможно. Так как данные по всем категориям значительно отличаются друг от друга. \n"
   ]
  },
  {
   "cell_type": "markdown",
   "id": "1dcc9b12",
   "metadata": {
    "deletable": false,
    "editable": false,
    "id": "1dcc9b12"
   },
   "source": [
    "#### 3.4 Как разные цели кредита влияют на его возврат в срок?"
   ]
  },
  {
   "cell_type": "code",
   "execution_count": 26,
   "id": "c602bc8b",
   "metadata": {
    "deletable": false,
    "id": "c602bc8b"
   },
   "outputs": [
    {
     "data": {
      "text/html": [
       "<div>\n",
       "<style scoped>\n",
       "    .dataframe tbody tr th:only-of-type {\n",
       "        vertical-align: middle;\n",
       "    }\n",
       "\n",
       "    .dataframe tbody tr th {\n",
       "        vertical-align: top;\n",
       "    }\n",
       "\n",
       "    .dataframe thead th {\n",
       "        text-align: right;\n",
       "    }\n",
       "</style>\n",
       "<table border=\"1\" class=\"dataframe\">\n",
       "  <thead>\n",
       "    <tr style=\"text-align: right;\">\n",
       "      <th></th>\n",
       "      <th>debt</th>\n",
       "    </tr>\n",
       "    <tr>\n",
       "      <th>purpose_category</th>\n",
       "      <th></th>\n",
       "    </tr>\n",
       "  </thead>\n",
       "  <tbody>\n",
       "    <tr>\n",
       "      <th>операции с автомобилем</th>\n",
       "      <td>0.093480</td>\n",
       "    </tr>\n",
       "    <tr>\n",
       "      <th>получение образования</th>\n",
       "      <td>0.092528</td>\n",
       "    </tr>\n",
       "    <tr>\n",
       "      <th>проведение свадьбы</th>\n",
       "      <td>0.079118</td>\n",
       "    </tr>\n",
       "    <tr>\n",
       "      <th>операции с недвижимостью</th>\n",
       "      <td>0.072551</td>\n",
       "    </tr>\n",
       "  </tbody>\n",
       "</table>\n",
       "</div>"
      ],
      "text/plain": [
       "                              debt\n",
       "purpose_category                  \n",
       "операции с автомобилем    0.093480\n",
       "получение образования     0.092528\n",
       "проведение свадьбы        0.079118\n",
       "операции с недвижимостью  0.072551"
      ]
     },
     "metadata": {},
     "output_type": "display_data"
    }
   ],
   "source": [
    "def categorize_purpose(purpose):\n",
    "    if 'автом' in purpose.lower():\n",
    "        return 'операции с автомобилем'\n",
    "    elif 'жил' in purpose.lower() or 'недвиж' in purpose.lower():\n",
    "        return 'операции с недвижимостью'\n",
    "    elif 'свад' in purpose.lower():\n",
    "        return 'проведение свадьбы'\n",
    "    elif 'образов' in purpose.lower():\n",
    "        return 'получение образования'\n",
    "    else:\n",
    "        return 'другие цели'\n",
    "    \n",
    "data['purpose_category'] = data['purpose'].apply(categorize_purpose)\n",
    "\n",
    "unique_purpose_categories = data['purpose_category'].unique()\n",
    "pivot_table = data.pivot_table(index='purpose_category', values='debt', aggfunc='mean')\n",
    "sorted_pivot_table = pivot_table.sort_values(by='debt', ascending=False)\n",
    "display(sorted_pivot_table)"
   ]
  },
  {
   "cell_type": "markdown",
   "id": "8630910d",
   "metadata": {
    "deletable": false,
    "id": "cf05ed63"
   },
   "source": [
    "Вывод:цель кредита незначительно влияет на его возврат в срок, и люди, взявшие кредит на образование или свадьбу, возвращают кредит с меньшей долей задержки, чем те, что взял кредит на авто или недвижимость."
   ]
  },
  {
   "cell_type": "markdown",
   "id": "46c1f10b",
   "metadata": {
    "deletable": false,
    "editable": false,
    "id": "46c1f10b"
   },
   "source": [
    "#### 3.5 Приведите возможные причины появления пропусков в исходных данных."
   ]
  },
  {
   "cell_type": "markdown",
   "id": "3697d2a9",
   "metadata": {
    "deletable": false,
    "id": "3697d2a9"
   },
   "source": [
    "*Ответ:* пропуски могут появляться из-за человеческого фактора. Например, пользователь не заполнил данные либо заполнил их неполностью\\некорректно.\n",
    "Так же пропуски могут быть результатом технических проблем, таких как сбои в программном обеспечении."
   ]
  },
  {
   "cell_type": "markdown",
   "id": "3137d257",
   "metadata": {
    "deletable": false,
    "editable": false,
    "id": "3137d257"
   },
   "source": [
    "#### 3.6 Объясните, почему заполнить пропуски медианным значением — лучшее решение для количественных переменных."
   ]
  },
  {
   "cell_type": "markdown",
   "id": "cf40012a",
   "metadata": {
    "deletable": false,
    "id": "cf40012a"
   },
   "source": [
    "*Ответ:*  Заполнение пропусков медианным значением не вносит значительного влияния на данные, так как она является значением, которое делит данные на две равные части."
   ]
  },
  {
   "cell_type": "markdown",
   "id": "57bc304e",
   "metadata": {
    "deletable": false,
    "editable": false,
    "id": "57bc304e"
   },
   "source": [
    "### Шаг 4: общий вывод."
   ]
  },
  {
   "cell_type": "markdown",
   "id": "1ab75d1c",
   "metadata": {
    "deletable": false,
    "id": "1ab75d1c"
   },
   "source": [
    " "
   ]
  },
  {
   "cell_type": "markdown",
   "id": "90de1bcf",
   "metadata": {},
   "source": [
    "На начальном этапе анализа была проведена работа по заполнению пустот, которые мешают получить корректные результаты. Отсутсвие информации об уровне дохода было заполнено медианным значением для каждой должности соответственно.\n",
    "Были удалены неявные дубликаты в столбце с уровнем образования.\n",
    "Удалили данные, которые не могут существовать. Такие как отрицательный трудовой стаж и дети в возврате 20 лет.\n",
    "Следующим этапом было группирование информации по категориям: уровень дохода и цель кредита.\n",
    "Все это позволило выяснить, что люди, у которых 5 детей либо нет их вообще, составляют наименьшую часть должников или не имеют долгов вовсе.\n",
    "Люди, которые состоят или состояли в браке реже допускают просрочки, чем те, кто никогда его не заключал. Из чего может сделать вывод, что наличие брака показывает более ответственный подход к погашению долгов.\n",
    "Высокий уровень дохода не является гарантией своевременной оплаты долга. Просрочки допускаются примерно на том же уровне, что и у людей с доходом ниже среднего.\n",
    "Цель кредита незначительно влияет на его возврат в срок, и клиенты, взявшие кредит на образование или свадьбу, возвращают кредит с меньшей долей задержки, чем те, что взял кредит на авто или недвижимость.\n"
   ]
  }
 ],
 "metadata": {
  "ExecuteTimeLog": [
   {
    "duration": 518,
    "start_time": "2024-02-15T14:54:48.665Z"
   },
   {
    "duration": 76,
    "start_time": "2024-02-15T14:54:53.169Z"
   },
   {
    "duration": 76,
    "start_time": "2024-02-15T14:54:57.101Z"
   },
   {
    "duration": 515,
    "start_time": "2024-02-15T14:58:22.803Z"
   },
   {
    "duration": 25,
    "start_time": "2024-02-15T14:58:23.320Z"
   },
   {
    "duration": 16,
    "start_time": "2024-02-15T14:58:23.346Z"
   },
   {
    "duration": 22,
    "start_time": "2024-02-15T14:58:23.364Z"
   },
   {
    "duration": 43,
    "start_time": "2024-02-15T14:58:23.388Z"
   },
   {
    "duration": 3,
    "start_time": "2024-02-15T14:58:23.433Z"
   },
   {
    "duration": 10,
    "start_time": "2024-02-15T14:58:23.438Z"
   },
   {
    "duration": 4,
    "start_time": "2024-02-15T14:58:23.449Z"
   },
   {
    "duration": 37,
    "start_time": "2024-02-15T14:58:23.454Z"
   },
   {
    "duration": 8,
    "start_time": "2024-02-15T14:58:23.493Z"
   },
   {
    "duration": 50,
    "start_time": "2024-02-15T14:58:23.503Z"
   },
   {
    "duration": 12,
    "start_time": "2024-02-15T14:58:23.555Z"
   },
   {
    "duration": 12,
    "start_time": "2024-02-15T14:58:23.569Z"
   },
   {
    "duration": 13,
    "start_time": "2024-02-15T14:58:23.585Z"
   },
   {
    "duration": 32,
    "start_time": "2024-02-15T14:58:23.600Z"
   },
   {
    "duration": 18,
    "start_time": "2024-02-15T14:58:23.634Z"
   },
   {
    "duration": 4,
    "start_time": "2024-02-15T14:58:23.654Z"
   },
   {
    "duration": 31,
    "start_time": "2024-02-15T14:58:23.660Z"
   },
   {
    "duration": 6,
    "start_time": "2024-02-15T14:58:23.693Z"
   },
   {
    "duration": 4,
    "start_time": "2024-02-15T14:58:23.701Z"
   },
   {
    "duration": 11,
    "start_time": "2024-02-15T14:58:23.707Z"
   },
   {
    "duration": 2,
    "start_time": "2024-02-15T14:58:23.720Z"
   },
   {
    "duration": 10,
    "start_time": "2024-02-15T14:58:23.724Z"
   },
   {
    "duration": 8,
    "start_time": "2024-02-15T14:58:23.736Z"
   },
   {
    "duration": 35,
    "start_time": "2024-02-15T14:58:23.745Z"
   },
   {
    "duration": 10,
    "start_time": "2024-02-15T15:11:22.182Z"
   },
   {
    "duration": 7,
    "start_time": "2024-02-15T15:11:57.424Z"
   },
   {
    "duration": 79,
    "start_time": "2024-02-15T15:12:19.641Z"
   },
   {
    "duration": 6,
    "start_time": "2024-02-15T15:12:32.159Z"
   },
   {
    "duration": 475,
    "start_time": "2024-02-15T15:12:41.433Z"
   },
   {
    "duration": 24,
    "start_time": "2024-02-15T15:12:41.910Z"
   },
   {
    "duration": 17,
    "start_time": "2024-02-15T15:12:41.936Z"
   },
   {
    "duration": 36,
    "start_time": "2024-02-15T15:12:41.954Z"
   },
   {
    "duration": 52,
    "start_time": "2024-02-15T15:12:41.993Z"
   },
   {
    "duration": 5,
    "start_time": "2024-02-15T15:12:42.047Z"
   },
   {
    "duration": 28,
    "start_time": "2024-02-15T15:12:42.054Z"
   },
   {
    "duration": 5,
    "start_time": "2024-02-15T15:12:42.084Z"
   },
   {
    "duration": 16,
    "start_time": "2024-02-15T15:12:42.091Z"
   },
   {
    "duration": 7,
    "start_time": "2024-02-15T15:12:42.109Z"
   },
   {
    "duration": 90,
    "start_time": "2024-02-15T15:12:42.117Z"
   },
   {
    "duration": 13,
    "start_time": "2024-02-15T15:12:42.208Z"
   },
   {
    "duration": 7,
    "start_time": "2024-02-15T15:12:42.223Z"
   },
   {
    "duration": 13,
    "start_time": "2024-02-15T15:12:42.234Z"
   },
   {
    "duration": 57,
    "start_time": "2024-02-15T15:12:42.249Z"
   },
   {
    "duration": 21,
    "start_time": "2024-02-15T15:12:42.307Z"
   },
   {
    "duration": 5,
    "start_time": "2024-02-15T15:12:42.329Z"
   },
   {
    "duration": 24,
    "start_time": "2024-02-15T15:12:42.336Z"
   },
   {
    "duration": 8,
    "start_time": "2024-02-15T15:12:42.381Z"
   },
   {
    "duration": 22,
    "start_time": "2024-02-15T15:12:42.391Z"
   },
   {
    "duration": 14,
    "start_time": "2024-02-15T15:12:42.414Z"
   },
   {
    "duration": 10,
    "start_time": "2024-02-15T15:12:42.429Z"
   },
   {
    "duration": 18,
    "start_time": "2024-02-15T15:12:42.440Z"
   },
   {
    "duration": 4,
    "start_time": "2024-02-15T15:12:42.459Z"
   },
   {
    "duration": 8,
    "start_time": "2024-02-15T15:12:42.465Z"
   },
   {
    "duration": 4,
    "start_time": "2024-02-15T15:43:33.496Z"
   },
   {
    "duration": 3,
    "start_time": "2024-02-15T15:43:35.765Z"
   },
   {
    "duration": 4,
    "start_time": "2024-02-15T15:43:38.023Z"
   },
   {
    "duration": 76,
    "start_time": "2024-02-15T15:49:58.872Z"
   },
   {
    "duration": 78,
    "start_time": "2024-02-15T15:50:19.814Z"
   },
   {
    "duration": 84,
    "start_time": "2024-02-15T15:54:12.338Z"
   },
   {
    "duration": 39,
    "start_time": "2024-02-15T15:54:34.290Z"
   },
   {
    "duration": 89,
    "start_time": "2024-02-15T15:58:45.545Z"
   },
   {
    "duration": 29,
    "start_time": "2024-02-15T16:03:06.440Z"
   },
   {
    "duration": 34,
    "start_time": "2024-02-15T16:07:42.559Z"
   },
   {
    "duration": 31,
    "start_time": "2024-02-15T16:08:26.916Z"
   },
   {
    "duration": 32,
    "start_time": "2024-02-15T16:08:55.969Z"
   },
   {
    "duration": 39,
    "start_time": "2024-02-15T16:10:08.260Z"
   },
   {
    "duration": 30,
    "start_time": "2024-02-15T16:19:42.936Z"
   },
   {
    "duration": 44,
    "start_time": "2024-02-15T17:11:14.702Z"
   },
   {
    "duration": 42,
    "start_time": "2024-02-15T17:20:18.969Z"
   },
   {
    "duration": 38,
    "start_time": "2024-02-15T17:20:20.294Z"
   },
   {
    "duration": 587,
    "start_time": "2024-02-15T17:36:28.466Z"
   },
   {
    "duration": 24,
    "start_time": "2024-02-15T17:36:29.055Z"
   },
   {
    "duration": 26,
    "start_time": "2024-02-15T17:36:29.081Z"
   },
   {
    "duration": 16,
    "start_time": "2024-02-15T17:36:29.110Z"
   },
   {
    "duration": 67,
    "start_time": "2024-02-15T17:36:29.127Z"
   },
   {
    "duration": 4,
    "start_time": "2024-02-15T17:36:29.195Z"
   },
   {
    "duration": 21,
    "start_time": "2024-02-15T17:36:29.200Z"
   },
   {
    "duration": 15,
    "start_time": "2024-02-15T17:36:29.223Z"
   },
   {
    "duration": 8,
    "start_time": "2024-02-15T17:36:29.240Z"
   },
   {
    "duration": 14,
    "start_time": "2024-02-15T17:36:29.251Z"
   },
   {
    "duration": 45,
    "start_time": "2024-02-15T17:36:29.267Z"
   },
   {
    "duration": 12,
    "start_time": "2024-02-15T17:36:29.313Z"
   },
   {
    "duration": 31,
    "start_time": "2024-02-15T17:36:29.327Z"
   },
   {
    "duration": 35,
    "start_time": "2024-02-15T17:36:29.360Z"
   },
   {
    "duration": 33,
    "start_time": "2024-02-15T17:36:29.397Z"
   },
   {
    "duration": 21,
    "start_time": "2024-02-15T17:36:29.432Z"
   },
   {
    "duration": 5,
    "start_time": "2024-02-15T17:36:29.454Z"
   },
   {
    "duration": 39,
    "start_time": "2024-02-15T17:36:29.461Z"
   },
   {
    "duration": 30,
    "start_time": "2024-02-15T17:36:29.502Z"
   },
   {
    "duration": 7,
    "start_time": "2024-02-15T17:36:29.533Z"
   },
   {
    "duration": 25,
    "start_time": "2024-02-15T17:36:29.541Z"
   },
   {
    "duration": 41,
    "start_time": "2024-02-15T17:36:29.568Z"
   },
   {
    "duration": 45,
    "start_time": "2024-02-15T17:36:29.611Z"
   },
   {
    "duration": 52,
    "start_time": "2024-02-15T17:36:55.280Z"
   },
   {
    "duration": 8,
    "start_time": "2024-02-15T17:38:52.851Z"
   },
   {
    "duration": 8,
    "start_time": "2024-02-15T17:39:54.843Z"
   },
   {
    "duration": 722,
    "start_time": "2024-02-16T05:19:21.096Z"
   },
   {
    "duration": 22,
    "start_time": "2024-02-16T05:19:21.819Z"
   },
   {
    "duration": 15,
    "start_time": "2024-02-16T05:19:21.843Z"
   },
   {
    "duration": 9,
    "start_time": "2024-02-16T05:19:21.861Z"
   },
   {
    "duration": 57,
    "start_time": "2024-02-16T05:19:21.872Z"
   },
   {
    "duration": 3,
    "start_time": "2024-02-16T05:19:21.931Z"
   },
   {
    "duration": 9,
    "start_time": "2024-02-16T05:19:21.935Z"
   },
   {
    "duration": 4,
    "start_time": "2024-02-16T05:19:21.946Z"
   },
   {
    "duration": 10,
    "start_time": "2024-02-16T05:19:21.952Z"
   },
   {
    "duration": 5,
    "start_time": "2024-02-16T05:19:21.965Z"
   },
   {
    "duration": 64,
    "start_time": "2024-02-16T05:19:21.971Z"
   },
   {
    "duration": 11,
    "start_time": "2024-02-16T05:19:22.037Z"
   },
   {
    "duration": 5,
    "start_time": "2024-02-16T05:19:22.049Z"
   },
   {
    "duration": 14,
    "start_time": "2024-02-16T05:19:22.055Z"
   },
   {
    "duration": 23,
    "start_time": "2024-02-16T05:19:22.070Z"
   },
   {
    "duration": 17,
    "start_time": "2024-02-16T05:19:22.117Z"
   },
   {
    "duration": 4,
    "start_time": "2024-02-16T05:19:22.135Z"
   },
   {
    "duration": 11,
    "start_time": "2024-02-16T05:19:22.140Z"
   },
   {
    "duration": 6,
    "start_time": "2024-02-16T05:19:22.152Z"
   },
   {
    "duration": 4,
    "start_time": "2024-02-16T05:19:22.159Z"
   },
   {
    "duration": 14,
    "start_time": "2024-02-16T05:19:22.164Z"
   },
   {
    "duration": 56,
    "start_time": "2024-02-16T05:19:22.180Z"
   },
   {
    "duration": 37,
    "start_time": "2024-02-16T05:19:22.238Z"
   },
   {
    "duration": 83,
    "start_time": "2024-02-16T05:19:22.276Z"
   },
   {
    "duration": 0,
    "start_time": "2024-02-16T05:19:22.360Z"
   },
   {
    "duration": 26,
    "start_time": "2024-02-16T05:28:26.730Z"
   },
   {
    "duration": 4859,
    "start_time": "2024-02-16T05:33:06.450Z"
   },
   {
    "duration": 494,
    "start_time": "2024-02-16T05:33:18.602Z"
   },
   {
    "duration": 20,
    "start_time": "2024-02-16T05:33:19.098Z"
   },
   {
    "duration": 15,
    "start_time": "2024-02-16T05:33:19.120Z"
   },
   {
    "duration": 10,
    "start_time": "2024-02-16T05:33:19.136Z"
   },
   {
    "duration": 33,
    "start_time": "2024-02-16T05:33:19.147Z"
   },
   {
    "duration": 3,
    "start_time": "2024-02-16T05:33:19.181Z"
   },
   {
    "duration": 32,
    "start_time": "2024-02-16T05:33:19.186Z"
   },
   {
    "duration": 4,
    "start_time": "2024-02-16T05:33:19.220Z"
   },
   {
    "duration": 9,
    "start_time": "2024-02-16T05:33:19.226Z"
   },
   {
    "duration": 5,
    "start_time": "2024-02-16T05:33:19.237Z"
   },
   {
    "duration": 38,
    "start_time": "2024-02-16T05:33:19.244Z"
   },
   {
    "duration": 36,
    "start_time": "2024-02-16T05:33:19.283Z"
   },
   {
    "duration": 4,
    "start_time": "2024-02-16T05:33:19.321Z"
   },
   {
    "duration": 14,
    "start_time": "2024-02-16T05:33:19.328Z"
   },
   {
    "duration": 19,
    "start_time": "2024-02-16T05:33:19.343Z"
   },
   {
    "duration": 17,
    "start_time": "2024-02-16T05:33:19.364Z"
   },
   {
    "duration": 4,
    "start_time": "2024-02-16T05:33:19.383Z"
   },
   {
    "duration": 39,
    "start_time": "2024-02-16T05:33:19.388Z"
   },
   {
    "duration": 6,
    "start_time": "2024-02-16T05:33:19.429Z"
   },
   {
    "duration": 4,
    "start_time": "2024-02-16T05:33:19.436Z"
   },
   {
    "duration": 10,
    "start_time": "2024-02-16T05:33:19.441Z"
   },
   {
    "duration": 34,
    "start_time": "2024-02-16T05:33:19.452Z"
   },
   {
    "duration": 59,
    "start_time": "2024-02-16T05:33:19.488Z"
   },
   {
    "duration": 5047,
    "start_time": "2024-02-16T05:33:19.548Z"
   },
   {
    "duration": 2,
    "start_time": "2024-02-16T05:33:24.597Z"
   },
   {
    "duration": 416,
    "start_time": "2024-02-16T05:45:55.377Z"
   },
   {
    "duration": 20,
    "start_time": "2024-02-16T05:45:55.794Z"
   },
   {
    "duration": 14,
    "start_time": "2024-02-16T05:45:55.815Z"
   },
   {
    "duration": 10,
    "start_time": "2024-02-16T05:45:55.831Z"
   },
   {
    "duration": 33,
    "start_time": "2024-02-16T05:45:55.843Z"
   },
   {
    "duration": 3,
    "start_time": "2024-02-16T05:45:55.877Z"
   },
   {
    "duration": 15,
    "start_time": "2024-02-16T05:45:55.881Z"
   },
   {
    "duration": 21,
    "start_time": "2024-02-16T05:45:55.897Z"
   },
   {
    "duration": 9,
    "start_time": "2024-02-16T05:45:55.920Z"
   },
   {
    "duration": 3,
    "start_time": "2024-02-16T05:45:55.931Z"
   },
   {
    "duration": 33,
    "start_time": "2024-02-16T05:45:55.935Z"
   },
   {
    "duration": 9,
    "start_time": "2024-02-16T05:45:55.970Z"
   },
   {
    "duration": 3,
    "start_time": "2024-02-16T05:45:55.980Z"
   },
   {
    "duration": 35,
    "start_time": "2024-02-16T05:45:55.985Z"
   },
   {
    "duration": 18,
    "start_time": "2024-02-16T05:45:56.021Z"
   },
   {
    "duration": 15,
    "start_time": "2024-02-16T05:45:56.041Z"
   },
   {
    "duration": 3,
    "start_time": "2024-02-16T05:45:56.057Z"
   },
   {
    "duration": 11,
    "start_time": "2024-02-16T05:45:56.062Z"
   },
   {
    "duration": 5,
    "start_time": "2024-02-16T05:45:56.075Z"
   },
   {
    "duration": 6,
    "start_time": "2024-02-16T05:45:56.081Z"
   },
   {
    "duration": 33,
    "start_time": "2024-02-16T05:45:56.088Z"
   },
   {
    "duration": 36,
    "start_time": "2024-02-16T05:45:56.123Z"
   },
   {
    "duration": 38,
    "start_time": "2024-02-16T05:45:56.160Z"
   },
   {
    "duration": 665,
    "start_time": "2024-02-16T05:47:10.218Z"
   },
   {
    "duration": 21,
    "start_time": "2024-02-16T05:47:10.885Z"
   },
   {
    "duration": 14,
    "start_time": "2024-02-16T05:47:10.907Z"
   },
   {
    "duration": 17,
    "start_time": "2024-02-16T05:47:10.922Z"
   },
   {
    "duration": 33,
    "start_time": "2024-02-16T05:47:10.942Z"
   },
   {
    "duration": 4,
    "start_time": "2024-02-16T05:47:10.976Z"
   },
   {
    "duration": 10,
    "start_time": "2024-02-16T05:47:10.981Z"
   },
   {
    "duration": 3,
    "start_time": "2024-02-16T05:47:10.992Z"
   },
   {
    "duration": 23,
    "start_time": "2024-02-16T05:47:10.997Z"
   },
   {
    "duration": 4,
    "start_time": "2024-02-16T05:47:11.021Z"
   },
   {
    "duration": 43,
    "start_time": "2024-02-16T05:47:11.027Z"
   },
   {
    "duration": 9,
    "start_time": "2024-02-16T05:47:11.072Z"
   },
   {
    "duration": 3,
    "start_time": "2024-02-16T05:47:11.083Z"
   },
   {
    "duration": 30,
    "start_time": "2024-02-16T05:47:11.088Z"
   },
   {
    "duration": 18,
    "start_time": "2024-02-16T05:47:11.119Z"
   },
   {
    "duration": 15,
    "start_time": "2024-02-16T05:47:11.138Z"
   },
   {
    "duration": 4,
    "start_time": "2024-02-16T05:47:11.154Z"
   },
   {
    "duration": 12,
    "start_time": "2024-02-16T05:47:11.159Z"
   },
   {
    "duration": 5,
    "start_time": "2024-02-16T05:47:11.172Z"
   },
   {
    "duration": 3,
    "start_time": "2024-02-16T05:47:11.179Z"
   },
   {
    "duration": 38,
    "start_time": "2024-02-16T05:47:11.183Z"
   },
   {
    "duration": 33,
    "start_time": "2024-02-16T05:47:11.222Z"
   },
   {
    "duration": 35,
    "start_time": "2024-02-16T05:47:11.256Z"
   },
   {
    "duration": 45,
    "start_time": "2024-02-16T05:47:19.068Z"
   },
   {
    "duration": 7,
    "start_time": "2024-02-16T05:49:06.273Z"
   },
   {
    "duration": 559,
    "start_time": "2024-02-16T19:25:29.678Z"
   },
   {
    "duration": 26,
    "start_time": "2024-02-16T19:25:30.238Z"
   },
   {
    "duration": 45,
    "start_time": "2024-02-16T19:25:30.265Z"
   },
   {
    "duration": 61,
    "start_time": "2024-02-16T19:25:30.312Z"
   },
   {
    "duration": 77,
    "start_time": "2024-02-16T19:25:30.375Z"
   },
   {
    "duration": 4,
    "start_time": "2024-02-16T19:25:30.454Z"
   },
   {
    "duration": 19,
    "start_time": "2024-02-16T19:25:30.460Z"
   },
   {
    "duration": 6,
    "start_time": "2024-02-16T19:25:30.481Z"
   },
   {
    "duration": 9,
    "start_time": "2024-02-16T19:25:30.489Z"
   },
   {
    "duration": 30,
    "start_time": "2024-02-16T19:25:30.501Z"
   },
   {
    "duration": 52,
    "start_time": "2024-02-16T19:25:30.533Z"
   },
   {
    "duration": 10,
    "start_time": "2024-02-16T19:25:30.588Z"
   },
   {
    "duration": 23,
    "start_time": "2024-02-16T19:25:30.600Z"
   },
   {
    "duration": 31,
    "start_time": "2024-02-16T19:25:30.626Z"
   },
   {
    "duration": 57,
    "start_time": "2024-02-16T19:25:30.658Z"
   },
   {
    "duration": 34,
    "start_time": "2024-02-16T19:25:30.716Z"
   },
   {
    "duration": 17,
    "start_time": "2024-02-16T19:25:30.752Z"
   },
   {
    "duration": 60,
    "start_time": "2024-02-16T19:25:30.771Z"
   },
   {
    "duration": 8,
    "start_time": "2024-02-16T19:25:30.833Z"
   },
   {
    "duration": 24,
    "start_time": "2024-02-16T19:25:30.843Z"
   },
   {
    "duration": 44,
    "start_time": "2024-02-16T19:25:30.870Z"
   },
   {
    "duration": 59,
    "start_time": "2024-02-16T19:25:30.915Z"
   },
   {
    "duration": 41,
    "start_time": "2024-02-16T19:25:30.975Z"
   },
   {
    "duration": 49,
    "start_time": "2024-02-16T19:30:33.247Z"
   },
   {
    "duration": 8,
    "start_time": "2024-02-16T19:31:55.295Z"
   },
   {
    "duration": 7,
    "start_time": "2024-02-16T19:31:56.945Z"
   },
   {
    "duration": 6,
    "start_time": "2024-02-16T19:33:46.913Z"
   },
   {
    "duration": 8,
    "start_time": "2024-02-16T19:35:12.475Z"
   },
   {
    "duration": 540,
    "start_time": "2024-02-16T19:35:40.364Z"
   },
   {
    "duration": 22,
    "start_time": "2024-02-16T19:35:40.906Z"
   },
   {
    "duration": 15,
    "start_time": "2024-02-16T19:35:40.930Z"
   },
   {
    "duration": 10,
    "start_time": "2024-02-16T19:35:40.946Z"
   },
   {
    "duration": 50,
    "start_time": "2024-02-16T19:35:40.958Z"
   },
   {
    "duration": 4,
    "start_time": "2024-02-16T19:35:41.009Z"
   },
   {
    "duration": 9,
    "start_time": "2024-02-16T19:35:41.014Z"
   },
   {
    "duration": 4,
    "start_time": "2024-02-16T19:35:41.024Z"
   },
   {
    "duration": 8,
    "start_time": "2024-02-16T19:35:41.029Z"
   },
   {
    "duration": 35,
    "start_time": "2024-02-16T19:35:41.039Z"
   },
   {
    "duration": 38,
    "start_time": "2024-02-16T19:35:41.076Z"
   },
   {
    "duration": 10,
    "start_time": "2024-02-16T19:35:41.116Z"
   },
   {
    "duration": 4,
    "start_time": "2024-02-16T19:35:41.128Z"
   },
   {
    "duration": 39,
    "start_time": "2024-02-16T19:35:41.134Z"
   },
   {
    "duration": 19,
    "start_time": "2024-02-16T19:35:41.175Z"
   },
   {
    "duration": 19,
    "start_time": "2024-02-16T19:35:41.196Z"
   },
   {
    "duration": 3,
    "start_time": "2024-02-16T19:35:41.217Z"
   },
   {
    "duration": 14,
    "start_time": "2024-02-16T19:35:41.221Z"
   },
   {
    "duration": 6,
    "start_time": "2024-02-16T19:35:41.236Z"
   },
   {
    "duration": 32,
    "start_time": "2024-02-16T19:35:41.243Z"
   },
   {
    "duration": 19,
    "start_time": "2024-02-16T19:35:41.277Z"
   },
   {
    "duration": 39,
    "start_time": "2024-02-16T19:35:41.298Z"
   },
   {
    "duration": 62,
    "start_time": "2024-02-16T19:35:41.339Z"
   },
   {
    "duration": 48,
    "start_time": "2024-02-16T19:39:43.586Z"
   },
   {
    "duration": 7,
    "start_time": "2024-02-16T19:40:58.138Z"
   },
   {
    "duration": 434,
    "start_time": "2024-02-16T19:41:56.541Z"
   },
   {
    "duration": 8,
    "start_time": "2024-02-16T19:42:10.885Z"
   },
   {
    "duration": 1350,
    "start_time": "2024-02-16T19:43:08.110Z"
   },
   {
    "duration": 103,
    "start_time": "2024-02-16T19:44:55.738Z"
   },
   {
    "duration": 1366,
    "start_time": "2024-02-16T19:45:07.389Z"
   },
   {
    "duration": 1391,
    "start_time": "2024-02-16T19:45:09.310Z"
   },
   {
    "duration": 1340,
    "start_time": "2024-02-16T19:45:11.208Z"
   },
   {
    "duration": 476,
    "start_time": "2024-02-16T19:45:28.597Z"
   },
   {
    "duration": 25,
    "start_time": "2024-02-16T19:45:29.074Z"
   },
   {
    "duration": 16,
    "start_time": "2024-02-16T19:45:29.101Z"
   },
   {
    "duration": 11,
    "start_time": "2024-02-16T19:45:29.119Z"
   },
   {
    "duration": 63,
    "start_time": "2024-02-16T19:45:29.131Z"
   },
   {
    "duration": 3,
    "start_time": "2024-02-16T19:45:29.196Z"
   },
   {
    "duration": 12,
    "start_time": "2024-02-16T19:45:29.201Z"
   },
   {
    "duration": 8,
    "start_time": "2024-02-16T19:45:29.215Z"
   },
   {
    "duration": 15,
    "start_time": "2024-02-16T19:45:29.224Z"
   },
   {
    "duration": 6,
    "start_time": "2024-02-16T19:45:29.241Z"
   },
   {
    "duration": 57,
    "start_time": "2024-02-16T19:45:29.248Z"
   },
   {
    "duration": 11,
    "start_time": "2024-02-16T19:45:29.307Z"
   },
   {
    "duration": 27,
    "start_time": "2024-02-16T19:45:29.319Z"
   },
   {
    "duration": 18,
    "start_time": "2024-02-16T19:45:29.347Z"
   },
   {
    "duration": 23,
    "start_time": "2024-02-16T19:45:29.366Z"
   },
   {
    "duration": 18,
    "start_time": "2024-02-16T19:45:29.390Z"
   },
   {
    "duration": 4,
    "start_time": "2024-02-16T19:45:29.409Z"
   },
   {
    "duration": 16,
    "start_time": "2024-02-16T19:45:29.414Z"
   },
   {
    "duration": 7,
    "start_time": "2024-02-16T19:45:29.431Z"
   },
   {
    "duration": 4,
    "start_time": "2024-02-16T19:45:29.440Z"
   },
   {
    "duration": 9,
    "start_time": "2024-02-16T19:45:29.473Z"
   },
   {
    "duration": 38,
    "start_time": "2024-02-16T19:45:29.484Z"
   },
   {
    "duration": 72,
    "start_time": "2024-02-16T19:45:29.524Z"
   },
   {
    "duration": 1291,
    "start_time": "2024-02-16T19:45:29.598Z"
   },
   {
    "duration": 2,
    "start_time": "2024-02-16T19:45:30.891Z"
   },
   {
    "duration": 495,
    "start_time": "2024-02-16T19:53:52.835Z"
   },
   {
    "duration": 24,
    "start_time": "2024-02-16T19:53:53.332Z"
   },
   {
    "duration": 27,
    "start_time": "2024-02-16T19:53:53.358Z"
   },
   {
    "duration": 12,
    "start_time": "2024-02-16T19:53:53.387Z"
   },
   {
    "duration": 76,
    "start_time": "2024-02-16T19:53:53.403Z"
   },
   {
    "duration": 4,
    "start_time": "2024-02-16T19:53:53.481Z"
   },
   {
    "duration": 12,
    "start_time": "2024-02-16T19:53:53.487Z"
   },
   {
    "duration": 5,
    "start_time": "2024-02-16T19:53:53.501Z"
   },
   {
    "duration": 11,
    "start_time": "2024-02-16T19:53:53.508Z"
   },
   {
    "duration": 14,
    "start_time": "2024-02-16T19:53:53.521Z"
   },
   {
    "duration": 39,
    "start_time": "2024-02-16T19:53:53.575Z"
   },
   {
    "duration": 12,
    "start_time": "2024-02-16T19:53:53.615Z"
   },
   {
    "duration": 7,
    "start_time": "2024-02-16T19:53:53.628Z"
   },
   {
    "duration": 37,
    "start_time": "2024-02-16T19:53:53.638Z"
   },
   {
    "duration": 21,
    "start_time": "2024-02-16T19:53:53.677Z"
   },
   {
    "duration": 18,
    "start_time": "2024-02-16T19:53:53.699Z"
   },
   {
    "duration": 3,
    "start_time": "2024-02-16T19:53:53.719Z"
   },
   {
    "duration": 26,
    "start_time": "2024-02-16T19:53:53.723Z"
   },
   {
    "duration": 23,
    "start_time": "2024-02-16T19:53:53.751Z"
   },
   {
    "duration": 10,
    "start_time": "2024-02-16T19:53:53.776Z"
   },
   {
    "duration": 12,
    "start_time": "2024-02-16T19:53:53.787Z"
   },
   {
    "duration": 36,
    "start_time": "2024-02-16T19:53:53.801Z"
   },
   {
    "duration": 79,
    "start_time": "2024-02-16T19:53:53.839Z"
   },
   {
    "duration": 1305,
    "start_time": "2024-02-16T19:53:53.920Z"
   },
   {
    "duration": 2,
    "start_time": "2024-02-16T19:53:55.227Z"
   },
   {
    "duration": 486,
    "start_time": "2024-02-16T19:56:17.822Z"
   },
   {
    "duration": 24,
    "start_time": "2024-02-16T19:56:18.310Z"
   },
   {
    "duration": 38,
    "start_time": "2024-02-16T19:56:18.336Z"
   },
   {
    "duration": 13,
    "start_time": "2024-02-16T19:56:18.376Z"
   },
   {
    "duration": 38,
    "start_time": "2024-02-16T19:56:18.392Z"
   },
   {
    "duration": 4,
    "start_time": "2024-02-16T19:56:18.431Z"
   },
   {
    "duration": 41,
    "start_time": "2024-02-16T19:56:18.437Z"
   },
   {
    "duration": 6,
    "start_time": "2024-02-16T19:56:18.480Z"
   },
   {
    "duration": 9,
    "start_time": "2024-02-16T19:56:18.488Z"
   },
   {
    "duration": 6,
    "start_time": "2024-02-16T19:56:18.498Z"
   },
   {
    "duration": 80,
    "start_time": "2024-02-16T19:56:18.505Z"
   },
   {
    "duration": 13,
    "start_time": "2024-02-16T19:56:18.587Z"
   },
   {
    "duration": 4,
    "start_time": "2024-02-16T19:56:18.602Z"
   },
   {
    "duration": 13,
    "start_time": "2024-02-16T19:56:18.610Z"
   },
   {
    "duration": 56,
    "start_time": "2024-02-16T19:56:18.625Z"
   },
   {
    "duration": 18,
    "start_time": "2024-02-16T19:56:18.683Z"
   },
   {
    "duration": 4,
    "start_time": "2024-02-16T19:56:18.702Z"
   },
   {
    "duration": 14,
    "start_time": "2024-02-16T19:56:18.707Z"
   },
   {
    "duration": 10,
    "start_time": "2024-02-16T19:56:18.722Z"
   },
   {
    "duration": 4,
    "start_time": "2024-02-16T19:56:18.734Z"
   },
   {
    "duration": 38,
    "start_time": "2024-02-16T19:56:18.739Z"
   },
   {
    "duration": 39,
    "start_time": "2024-02-16T19:56:18.779Z"
   },
   {
    "duration": 66,
    "start_time": "2024-02-16T19:56:18.819Z"
   },
   {
    "duration": 567,
    "start_time": "2024-02-16T19:57:01.929Z"
   },
   {
    "duration": 25,
    "start_time": "2024-02-16T19:57:02.498Z"
   },
   {
    "duration": 26,
    "start_time": "2024-02-16T19:57:02.526Z"
   },
   {
    "duration": 17,
    "start_time": "2024-02-16T19:57:02.554Z"
   },
   {
    "duration": 39,
    "start_time": "2024-02-16T19:57:02.573Z"
   },
   {
    "duration": 4,
    "start_time": "2024-02-16T19:57:02.614Z"
   },
   {
    "duration": 14,
    "start_time": "2024-02-16T19:57:02.619Z"
   },
   {
    "duration": 10,
    "start_time": "2024-02-16T19:57:02.635Z"
   },
   {
    "duration": 27,
    "start_time": "2024-02-16T19:57:02.647Z"
   },
   {
    "duration": 21,
    "start_time": "2024-02-16T19:57:02.676Z"
   },
   {
    "duration": 53,
    "start_time": "2024-02-16T19:57:02.700Z"
   },
   {
    "duration": 25,
    "start_time": "2024-02-16T19:57:02.754Z"
   },
   {
    "duration": 14,
    "start_time": "2024-02-16T19:57:02.783Z"
   },
   {
    "duration": 24,
    "start_time": "2024-02-16T19:57:02.798Z"
   },
   {
    "duration": 23,
    "start_time": "2024-02-16T19:57:02.824Z"
   },
   {
    "duration": 29,
    "start_time": "2024-02-16T19:57:02.849Z"
   },
   {
    "duration": 5,
    "start_time": "2024-02-16T19:57:02.879Z"
   },
   {
    "duration": 22,
    "start_time": "2024-02-16T19:57:02.885Z"
   },
   {
    "duration": 9,
    "start_time": "2024-02-16T19:57:02.908Z"
   },
   {
    "duration": 4,
    "start_time": "2024-02-16T19:57:02.918Z"
   },
   {
    "duration": 32,
    "start_time": "2024-02-16T19:57:02.923Z"
   },
   {
    "duration": 46,
    "start_time": "2024-02-16T19:57:02.956Z"
   },
   {
    "duration": 39,
    "start_time": "2024-02-16T19:57:03.003Z"
   },
   {
    "duration": 585,
    "start_time": "2024-02-16T19:58:53.344Z"
   },
   {
    "duration": 24,
    "start_time": "2024-02-16T19:58:53.931Z"
   },
   {
    "duration": 16,
    "start_time": "2024-02-16T19:58:53.957Z"
   },
   {
    "duration": 11,
    "start_time": "2024-02-16T19:58:53.975Z"
   },
   {
    "duration": 39,
    "start_time": "2024-02-16T19:58:53.989Z"
   },
   {
    "duration": 4,
    "start_time": "2024-02-16T19:58:54.030Z"
   },
   {
    "duration": 39,
    "start_time": "2024-02-16T19:58:54.036Z"
   },
   {
    "duration": 6,
    "start_time": "2024-02-16T19:58:54.077Z"
   },
   {
    "duration": 14,
    "start_time": "2024-02-16T19:58:54.084Z"
   },
   {
    "duration": 5,
    "start_time": "2024-02-16T19:58:54.100Z"
   },
   {
    "duration": 85,
    "start_time": "2024-02-16T19:58:54.107Z"
   },
   {
    "duration": 11,
    "start_time": "2024-02-16T19:58:54.193Z"
   },
   {
    "duration": 4,
    "start_time": "2024-02-16T19:58:54.205Z"
   },
   {
    "duration": 13,
    "start_time": "2024-02-16T19:58:54.211Z"
   },
   {
    "duration": 54,
    "start_time": "2024-02-16T19:58:54.225Z"
   },
   {
    "duration": 17,
    "start_time": "2024-02-16T19:58:54.281Z"
   },
   {
    "duration": 4,
    "start_time": "2024-02-16T19:58:54.300Z"
   },
   {
    "duration": 13,
    "start_time": "2024-02-16T19:58:54.305Z"
   },
   {
    "duration": 6,
    "start_time": "2024-02-16T19:58:54.319Z"
   },
   {
    "duration": 10,
    "start_time": "2024-02-16T19:58:54.327Z"
   },
   {
    "duration": 38,
    "start_time": "2024-02-16T19:58:54.339Z"
   },
   {
    "duration": 37,
    "start_time": "2024-02-16T19:58:54.378Z"
   },
   {
    "duration": 64,
    "start_time": "2024-02-16T19:58:54.417Z"
   },
   {
    "duration": 551,
    "start_time": "2024-02-16T19:59:10.871Z"
   },
   {
    "duration": 24,
    "start_time": "2024-02-16T19:59:11.424Z"
   },
   {
    "duration": 17,
    "start_time": "2024-02-16T19:59:11.450Z"
   },
   {
    "duration": 11,
    "start_time": "2024-02-16T19:59:11.473Z"
   },
   {
    "duration": 36,
    "start_time": "2024-02-16T19:59:11.487Z"
   },
   {
    "duration": 4,
    "start_time": "2024-02-16T19:59:11.525Z"
   },
   {
    "duration": 11,
    "start_time": "2024-02-16T19:59:11.530Z"
   },
   {
    "duration": 5,
    "start_time": "2024-02-16T19:59:11.573Z"
   },
   {
    "duration": 12,
    "start_time": "2024-02-16T19:59:11.581Z"
   },
   {
    "duration": 11,
    "start_time": "2024-02-16T19:59:11.595Z"
   },
   {
    "duration": 70,
    "start_time": "2024-02-16T19:59:11.608Z"
   },
   {
    "duration": 10,
    "start_time": "2024-02-16T19:59:11.680Z"
   },
   {
    "duration": 4,
    "start_time": "2024-02-16T19:59:11.692Z"
   },
   {
    "duration": 13,
    "start_time": "2024-02-16T19:59:11.699Z"
   },
   {
    "duration": 21,
    "start_time": "2024-02-16T19:59:11.713Z"
   },
   {
    "duration": 55,
    "start_time": "2024-02-16T19:59:11.735Z"
   },
   {
    "duration": 4,
    "start_time": "2024-02-16T19:59:11.792Z"
   },
   {
    "duration": 11,
    "start_time": "2024-02-16T19:59:11.798Z"
   },
   {
    "duration": 12,
    "start_time": "2024-02-16T19:59:11.810Z"
   },
   {
    "duration": 4,
    "start_time": "2024-02-16T19:59:11.824Z"
   },
   {
    "duration": 49,
    "start_time": "2024-02-16T19:59:11.830Z"
   },
   {
    "duration": 36,
    "start_time": "2024-02-16T19:59:11.880Z"
   },
   {
    "duration": 66,
    "start_time": "2024-02-16T19:59:11.918Z"
   },
   {
    "duration": 568,
    "start_time": "2024-02-17T04:49:17.121Z"
   },
   {
    "duration": 24,
    "start_time": "2024-02-17T04:49:17.692Z"
   },
   {
    "duration": 18,
    "start_time": "2024-02-17T04:49:17.717Z"
   },
   {
    "duration": 22,
    "start_time": "2024-02-17T04:49:17.737Z"
   },
   {
    "duration": 50,
    "start_time": "2024-02-17T04:49:17.761Z"
   },
   {
    "duration": 4,
    "start_time": "2024-02-17T04:49:17.812Z"
   },
   {
    "duration": 15,
    "start_time": "2024-02-17T04:49:17.817Z"
   },
   {
    "duration": 11,
    "start_time": "2024-02-17T04:49:17.834Z"
   },
   {
    "duration": 11,
    "start_time": "2024-02-17T04:49:17.847Z"
   },
   {
    "duration": 4,
    "start_time": "2024-02-17T04:49:17.861Z"
   },
   {
    "duration": 55,
    "start_time": "2024-02-17T04:49:17.867Z"
   },
   {
    "duration": 11,
    "start_time": "2024-02-17T04:49:17.924Z"
   },
   {
    "duration": 3,
    "start_time": "2024-02-17T04:49:17.937Z"
   },
   {
    "duration": 15,
    "start_time": "2024-02-17T04:49:17.942Z"
   },
   {
    "duration": 46,
    "start_time": "2024-02-17T04:49:17.959Z"
   },
   {
    "duration": 19,
    "start_time": "2024-02-17T04:49:18.007Z"
   },
   {
    "duration": 4,
    "start_time": "2024-02-17T04:49:18.027Z"
   },
   {
    "duration": 22,
    "start_time": "2024-02-17T04:49:18.033Z"
   },
   {
    "duration": 11,
    "start_time": "2024-02-17T04:49:18.056Z"
   },
   {
    "duration": 3,
    "start_time": "2024-02-17T04:49:18.069Z"
   },
   {
    "duration": 25,
    "start_time": "2024-02-17T04:49:18.074Z"
   },
   {
    "duration": 40,
    "start_time": "2024-02-17T04:49:18.101Z"
   },
   {
    "duration": 55,
    "start_time": "2024-02-17T04:49:18.142Z"
   },
   {
    "duration": 51,
    "start_time": "2024-02-17T04:50:51.275Z"
   },
   {
    "duration": 530,
    "start_time": "2024-02-17T04:52:32.054Z"
   },
   {
    "duration": 27,
    "start_time": "2024-02-17T04:52:32.586Z"
   },
   {
    "duration": 19,
    "start_time": "2024-02-17T04:52:32.615Z"
   },
   {
    "duration": 11,
    "start_time": "2024-02-17T04:52:32.636Z"
   },
   {
    "duration": 68,
    "start_time": "2024-02-17T04:52:32.648Z"
   },
   {
    "duration": 3,
    "start_time": "2024-02-17T04:52:32.718Z"
   },
   {
    "duration": 10,
    "start_time": "2024-02-17T04:52:32.723Z"
   },
   {
    "duration": 5,
    "start_time": "2024-02-17T04:52:32.735Z"
   },
   {
    "duration": 9,
    "start_time": "2024-02-17T04:52:32.742Z"
   },
   {
    "duration": 38,
    "start_time": "2024-02-17T04:52:32.754Z"
   },
   {
    "duration": 41,
    "start_time": "2024-02-17T04:52:32.794Z"
   },
   {
    "duration": 13,
    "start_time": "2024-02-17T04:52:32.837Z"
   },
   {
    "duration": 40,
    "start_time": "2024-02-17T04:52:32.852Z"
   },
   {
    "duration": 18,
    "start_time": "2024-02-17T04:52:32.894Z"
   },
   {
    "duration": 23,
    "start_time": "2024-02-17T04:52:32.914Z"
   },
   {
    "duration": 17,
    "start_time": "2024-02-17T04:52:32.939Z"
   },
   {
    "duration": 4,
    "start_time": "2024-02-17T04:52:32.958Z"
   },
   {
    "duration": 35,
    "start_time": "2024-02-17T04:52:32.963Z"
   },
   {
    "duration": 6,
    "start_time": "2024-02-17T04:52:33.000Z"
   },
   {
    "duration": 4,
    "start_time": "2024-02-17T04:52:33.007Z"
   },
   {
    "duration": 11,
    "start_time": "2024-02-17T04:52:33.012Z"
   },
   {
    "duration": 68,
    "start_time": "2024-02-17T04:52:33.024Z"
   },
   {
    "duration": 41,
    "start_time": "2024-02-17T04:52:33.093Z"
   },
   {
    "duration": 63,
    "start_time": "2024-02-17T05:06:48.541Z"
   },
   {
    "duration": 9,
    "start_time": "2024-02-17T05:07:02.014Z"
   },
   {
    "duration": 12,
    "start_time": "2024-02-17T05:07:15.571Z"
   },
   {
    "duration": 599,
    "start_time": "2024-02-17T05:07:36.252Z"
   },
   {
    "duration": 32,
    "start_time": "2024-02-17T05:07:36.854Z"
   },
   {
    "duration": 26,
    "start_time": "2024-02-17T05:07:36.887Z"
   },
   {
    "duration": 17,
    "start_time": "2024-02-17T05:07:36.915Z"
   },
   {
    "duration": 69,
    "start_time": "2024-02-17T05:07:36.935Z"
   },
   {
    "duration": 3,
    "start_time": "2024-02-17T05:07:37.006Z"
   },
   {
    "duration": 17,
    "start_time": "2024-02-17T05:07:37.011Z"
   },
   {
    "duration": 6,
    "start_time": "2024-02-17T05:07:37.030Z"
   },
   {
    "duration": 9,
    "start_time": "2024-02-17T05:07:37.037Z"
   },
   {
    "duration": 4,
    "start_time": "2024-02-17T05:07:37.048Z"
   },
   {
    "duration": 75,
    "start_time": "2024-02-17T05:07:37.054Z"
   },
   {
    "duration": 11,
    "start_time": "2024-02-17T05:07:37.131Z"
   },
   {
    "duration": 4,
    "start_time": "2024-02-17T05:07:37.143Z"
   },
   {
    "duration": 48,
    "start_time": "2024-02-17T05:07:37.150Z"
   },
   {
    "duration": 29,
    "start_time": "2024-02-17T05:07:37.200Z"
   },
   {
    "duration": 20,
    "start_time": "2024-02-17T05:07:37.231Z"
   },
   {
    "duration": 5,
    "start_time": "2024-02-17T05:07:37.253Z"
   },
   {
    "duration": 43,
    "start_time": "2024-02-17T05:07:37.260Z"
   },
   {
    "duration": 10,
    "start_time": "2024-02-17T05:07:37.304Z"
   },
   {
    "duration": 4,
    "start_time": "2024-02-17T05:07:37.316Z"
   },
   {
    "duration": 14,
    "start_time": "2024-02-17T05:07:37.321Z"
   },
   {
    "duration": 64,
    "start_time": "2024-02-17T05:07:37.337Z"
   },
   {
    "duration": 43,
    "start_time": "2024-02-17T05:07:37.403Z"
   },
   {
    "duration": 643,
    "start_time": "2024-02-17T05:08:07.606Z"
   },
   {
    "duration": 27,
    "start_time": "2024-02-17T05:08:08.251Z"
   },
   {
    "duration": 22,
    "start_time": "2024-02-17T05:08:08.280Z"
   },
   {
    "duration": 17,
    "start_time": "2024-02-17T05:08:08.306Z"
   },
   {
    "duration": 45,
    "start_time": "2024-02-17T05:08:08.325Z"
   },
   {
    "duration": 20,
    "start_time": "2024-02-17T05:08:08.372Z"
   },
   {
    "duration": 10,
    "start_time": "2024-02-17T05:08:08.394Z"
   },
   {
    "duration": 4,
    "start_time": "2024-02-17T05:08:08.406Z"
   },
   {
    "duration": 10,
    "start_time": "2024-02-17T05:08:08.411Z"
   },
   {
    "duration": 5,
    "start_time": "2024-02-17T05:08:08.424Z"
   },
   {
    "duration": 89,
    "start_time": "2024-02-17T05:08:08.430Z"
   },
   {
    "duration": 11,
    "start_time": "2024-02-17T05:08:08.521Z"
   },
   {
    "duration": 12,
    "start_time": "2024-02-17T05:08:08.534Z"
   },
   {
    "duration": 17,
    "start_time": "2024-02-17T05:08:08.548Z"
   },
   {
    "duration": 42,
    "start_time": "2024-02-17T05:08:08.567Z"
   },
   {
    "duration": 19,
    "start_time": "2024-02-17T05:08:08.610Z"
   },
   {
    "duration": 11,
    "start_time": "2024-02-17T05:08:08.630Z"
   },
   {
    "duration": 13,
    "start_time": "2024-02-17T05:08:08.643Z"
   },
   {
    "duration": 35,
    "start_time": "2024-02-17T05:08:08.657Z"
   },
   {
    "duration": 4,
    "start_time": "2024-02-17T05:08:08.694Z"
   },
   {
    "duration": 11,
    "start_time": "2024-02-17T05:08:08.700Z"
   },
   {
    "duration": 40,
    "start_time": "2024-02-17T05:08:08.713Z"
   },
   {
    "duration": 65,
    "start_time": "2024-02-17T05:08:08.755Z"
   },
   {
    "duration": 542,
    "start_time": "2024-02-17T05:21:36.910Z"
   },
   {
    "duration": 25,
    "start_time": "2024-02-17T05:21:37.454Z"
   },
   {
    "duration": 17,
    "start_time": "2024-02-17T05:21:37.481Z"
   },
   {
    "duration": 10,
    "start_time": "2024-02-17T05:21:37.500Z"
   },
   {
    "duration": 51,
    "start_time": "2024-02-17T05:21:37.513Z"
   },
   {
    "duration": 3,
    "start_time": "2024-02-17T05:21:37.566Z"
   },
   {
    "duration": 26,
    "start_time": "2024-02-17T05:21:37.571Z"
   },
   {
    "duration": 5,
    "start_time": "2024-02-17T05:21:37.599Z"
   },
   {
    "duration": 13,
    "start_time": "2024-02-17T05:21:37.605Z"
   },
   {
    "duration": 4,
    "start_time": "2024-02-17T05:21:37.620Z"
   },
   {
    "duration": 43,
    "start_time": "2024-02-17T05:21:37.626Z"
   },
   {
    "duration": 12,
    "start_time": "2024-02-17T05:21:37.692Z"
   },
   {
    "duration": 23,
    "start_time": "2024-02-17T05:21:37.705Z"
   },
   {
    "duration": 27,
    "start_time": "2024-02-17T05:21:37.731Z"
   },
   {
    "duration": 30,
    "start_time": "2024-02-17T05:21:37.759Z"
   },
   {
    "duration": 18,
    "start_time": "2024-02-17T05:21:37.790Z"
   },
   {
    "duration": 4,
    "start_time": "2024-02-17T05:21:37.810Z"
   },
   {
    "duration": 19,
    "start_time": "2024-02-17T05:21:37.815Z"
   },
   {
    "duration": 24,
    "start_time": "2024-02-17T05:21:37.835Z"
   },
   {
    "duration": 35,
    "start_time": "2024-02-17T05:21:37.862Z"
   },
   {
    "duration": 18,
    "start_time": "2024-02-17T05:21:37.899Z"
   },
   {
    "duration": 40,
    "start_time": "2024-02-17T05:21:37.918Z"
   },
   {
    "duration": 59,
    "start_time": "2024-02-17T05:21:37.959Z"
   },
   {
    "duration": 556,
    "start_time": "2024-02-17T06:04:13.200Z"
   },
   {
    "duration": 25,
    "start_time": "2024-02-17T06:04:13.759Z"
   },
   {
    "duration": 25,
    "start_time": "2024-02-17T06:04:13.786Z"
   },
   {
    "duration": 19,
    "start_time": "2024-02-17T06:04:13.813Z"
   },
   {
    "duration": 64,
    "start_time": "2024-02-17T06:04:13.835Z"
   },
   {
    "duration": 4,
    "start_time": "2024-02-17T06:04:13.902Z"
   },
   {
    "duration": 46,
    "start_time": "2024-02-17T06:04:13.908Z"
   },
   {
    "duration": 15,
    "start_time": "2024-02-17T06:04:13.956Z"
   },
   {
    "duration": 12,
    "start_time": "2024-02-17T06:04:13.973Z"
   },
   {
    "duration": 6,
    "start_time": "2024-02-17T06:04:13.987Z"
   },
   {
    "duration": 58,
    "start_time": "2024-02-17T06:04:13.995Z"
   },
   {
    "duration": 14,
    "start_time": "2024-02-17T06:04:14.055Z"
   },
   {
    "duration": 22,
    "start_time": "2024-02-17T06:04:14.071Z"
   },
   {
    "duration": 17,
    "start_time": "2024-02-17T06:04:14.097Z"
   },
   {
    "duration": 27,
    "start_time": "2024-02-17T06:04:14.116Z"
   },
   {
    "duration": 17,
    "start_time": "2024-02-17T06:04:14.145Z"
   },
   {
    "duration": 4,
    "start_time": "2024-02-17T06:04:14.164Z"
   },
   {
    "duration": 35,
    "start_time": "2024-02-17T06:04:14.170Z"
   },
   {
    "duration": 12,
    "start_time": "2024-02-17T06:04:14.206Z"
   },
   {
    "duration": 9,
    "start_time": "2024-02-17T06:04:14.220Z"
   },
   {
    "duration": 15,
    "start_time": "2024-02-17T06:04:14.231Z"
   },
   {
    "duration": 59,
    "start_time": "2024-02-17T06:04:14.248Z"
   },
   {
    "duration": 41,
    "start_time": "2024-02-17T06:04:14.309Z"
   },
   {
    "duration": 73,
    "start_time": "2024-02-17T06:05:31.507Z"
   },
   {
    "duration": 84,
    "start_time": "2024-02-17T06:06:59.248Z"
   },
   {
    "duration": 52,
    "start_time": "2024-02-17T19:10:42.999Z"
   },
   {
    "duration": 565,
    "start_time": "2024-02-17T19:10:50.514Z"
   },
   {
    "duration": 25,
    "start_time": "2024-02-17T19:10:51.081Z"
   },
   {
    "duration": 33,
    "start_time": "2024-02-17T19:10:51.110Z"
   },
   {
    "duration": 14,
    "start_time": "2024-02-17T19:10:51.145Z"
   },
   {
    "duration": 61,
    "start_time": "2024-02-17T19:10:51.161Z"
   },
   {
    "duration": 4,
    "start_time": "2024-02-17T19:10:51.224Z"
   },
   {
    "duration": 15,
    "start_time": "2024-02-17T19:10:51.230Z"
   },
   {
    "duration": 5,
    "start_time": "2024-02-17T19:10:51.248Z"
   },
   {
    "duration": 36,
    "start_time": "2024-02-17T19:10:51.256Z"
   },
   {
    "duration": 7,
    "start_time": "2024-02-17T19:10:51.293Z"
   },
   {
    "duration": 45,
    "start_time": "2024-02-17T19:10:51.302Z"
   },
   {
    "duration": 11,
    "start_time": "2024-02-17T19:10:51.349Z"
   },
   {
    "duration": 30,
    "start_time": "2024-02-17T19:10:51.362Z"
   },
   {
    "duration": 30,
    "start_time": "2024-02-17T19:10:51.393Z"
   },
   {
    "duration": 39,
    "start_time": "2024-02-17T19:10:51.424Z"
   },
   {
    "duration": 19,
    "start_time": "2024-02-17T19:10:51.465Z"
   },
   {
    "duration": 21,
    "start_time": "2024-02-17T19:10:51.486Z"
   },
   {
    "duration": 19,
    "start_time": "2024-02-17T19:10:51.509Z"
   },
   {
    "duration": 22,
    "start_time": "2024-02-17T19:10:51.529Z"
   },
   {
    "duration": 18,
    "start_time": "2024-02-17T19:10:51.553Z"
   },
   {
    "duration": 16,
    "start_time": "2024-02-17T19:10:51.572Z"
   },
   {
    "duration": 49,
    "start_time": "2024-02-17T19:10:51.590Z"
   },
   {
    "duration": 49,
    "start_time": "2024-02-17T19:10:51.641Z"
   },
   {
    "duration": 108,
    "start_time": "2024-02-17T19:12:53.334Z"
   },
   {
    "duration": 96,
    "start_time": "2024-02-17T19:13:48.647Z"
   },
   {
    "duration": 104,
    "start_time": "2024-02-17T19:13:58.506Z"
   },
   {
    "duration": 49,
    "start_time": "2024-02-17T19:14:25.662Z"
   },
   {
    "duration": 577,
    "start_time": "2024-02-17T19:14:32.385Z"
   },
   {
    "duration": 25,
    "start_time": "2024-02-17T19:14:32.964Z"
   },
   {
    "duration": 18,
    "start_time": "2024-02-17T19:14:32.991Z"
   },
   {
    "duration": 12,
    "start_time": "2024-02-17T19:14:33.010Z"
   },
   {
    "duration": 40,
    "start_time": "2024-02-17T19:14:33.024Z"
   },
   {
    "duration": 27,
    "start_time": "2024-02-17T19:14:33.066Z"
   },
   {
    "duration": 9,
    "start_time": "2024-02-17T19:14:33.095Z"
   },
   {
    "duration": 5,
    "start_time": "2024-02-17T19:14:33.106Z"
   },
   {
    "duration": 10,
    "start_time": "2024-02-17T19:14:33.112Z"
   },
   {
    "duration": 5,
    "start_time": "2024-02-17T19:14:33.124Z"
   },
   {
    "duration": 86,
    "start_time": "2024-02-17T19:14:33.131Z"
   },
   {
    "duration": 13,
    "start_time": "2024-02-17T19:14:33.219Z"
   },
   {
    "duration": 7,
    "start_time": "2024-02-17T19:14:33.235Z"
   },
   {
    "duration": 14,
    "start_time": "2024-02-17T19:14:33.246Z"
   },
   {
    "duration": 50,
    "start_time": "2024-02-17T19:14:33.262Z"
   },
   {
    "duration": 20,
    "start_time": "2024-02-17T19:14:33.314Z"
   },
   {
    "duration": 5,
    "start_time": "2024-02-17T19:14:33.335Z"
   },
   {
    "duration": 28,
    "start_time": "2024-02-17T19:14:33.342Z"
   },
   {
    "duration": 25,
    "start_time": "2024-02-17T19:14:33.372Z"
   },
   {
    "duration": 5,
    "start_time": "2024-02-17T19:14:33.399Z"
   },
   {
    "duration": 14,
    "start_time": "2024-02-17T19:14:33.406Z"
   },
   {
    "duration": 39,
    "start_time": "2024-02-17T19:14:33.421Z"
   },
   {
    "duration": 42,
    "start_time": "2024-02-17T19:14:33.492Z"
   },
   {
    "duration": 89,
    "start_time": "2024-02-17T19:14:33.536Z"
   },
   {
    "duration": 0,
    "start_time": "2024-02-17T19:14:33.627Z"
   },
   {
    "duration": 20,
    "start_time": "2024-02-17T19:14:41.995Z"
   },
   {
    "duration": 1630,
    "start_time": "2024-02-17T19:18:48.100Z"
   },
   {
    "duration": 16,
    "start_time": "2024-02-17T19:22:05.357Z"
   },
   {
    "duration": 17,
    "start_time": "2024-02-17T19:23:47.852Z"
   },
   {
    "duration": 18,
    "start_time": "2024-02-17T19:24:08.072Z"
   },
   {
    "duration": 18,
    "start_time": "2024-02-17T19:26:15.588Z"
   },
   {
    "duration": 19,
    "start_time": "2024-02-17T19:26:18.102Z"
   },
   {
    "duration": 19,
    "start_time": "2024-02-17T19:27:18.919Z"
   },
   {
    "duration": 40,
    "start_time": "2024-02-17T19:33:18.134Z"
   },
   {
    "duration": 15,
    "start_time": "2024-02-17T19:33:42.190Z"
   },
   {
    "duration": 9,
    "start_time": "2024-02-17T19:35:32.785Z"
   },
   {
    "duration": 17,
    "start_time": "2024-02-17T19:35:44.176Z"
   },
   {
    "duration": 17,
    "start_time": "2024-02-17T19:35:53.593Z"
   },
   {
    "duration": 1538,
    "start_time": "2024-02-17T19:36:17.842Z"
   },
   {
    "duration": 14,
    "start_time": "2024-02-17T19:38:35.636Z"
   },
   {
    "duration": 24,
    "start_time": "2024-02-17T19:38:47.910Z"
   },
   {
    "duration": 44,
    "start_time": "2024-02-18T05:21:05.155Z"
   },
   {
    "duration": 7,
    "start_time": "2024-02-18T05:21:21.581Z"
   },
   {
    "duration": 678,
    "start_time": "2024-02-18T05:21:28.383Z"
   },
   {
    "duration": 20,
    "start_time": "2024-02-18T05:21:29.063Z"
   },
   {
    "duration": 14,
    "start_time": "2024-02-18T05:21:29.084Z"
   },
   {
    "duration": 10,
    "start_time": "2024-02-18T05:21:29.099Z"
   },
   {
    "duration": 59,
    "start_time": "2024-02-18T05:21:29.111Z"
   },
   {
    "duration": 3,
    "start_time": "2024-02-18T05:21:29.172Z"
   },
   {
    "duration": 8,
    "start_time": "2024-02-18T05:21:29.177Z"
   },
   {
    "duration": 5,
    "start_time": "2024-02-18T05:21:29.186Z"
   },
   {
    "duration": 9,
    "start_time": "2024-02-18T05:21:29.192Z"
   },
   {
    "duration": 5,
    "start_time": "2024-02-18T05:21:29.202Z"
   },
   {
    "duration": 71,
    "start_time": "2024-02-18T05:21:29.208Z"
   },
   {
    "duration": 9,
    "start_time": "2024-02-18T05:21:29.281Z"
   },
   {
    "duration": 10,
    "start_time": "2024-02-18T05:21:29.292Z"
   },
   {
    "duration": 12,
    "start_time": "2024-02-18T05:21:29.304Z"
   },
   {
    "duration": 20,
    "start_time": "2024-02-18T05:21:29.317Z"
   },
   {
    "duration": 41,
    "start_time": "2024-02-18T05:21:29.338Z"
   },
   {
    "duration": 22,
    "start_time": "2024-02-18T05:21:29.380Z"
   },
   {
    "duration": 34,
    "start_time": "2024-02-18T05:21:29.403Z"
   },
   {
    "duration": 12,
    "start_time": "2024-02-18T05:21:29.438Z"
   },
   {
    "duration": 4,
    "start_time": "2024-02-18T05:21:29.451Z"
   },
   {
    "duration": 32,
    "start_time": "2024-02-18T05:21:29.457Z"
   },
   {
    "duration": 35,
    "start_time": "2024-02-18T05:21:29.491Z"
   },
   {
    "duration": 42,
    "start_time": "2024-02-18T05:21:29.528Z"
   },
   {
    "duration": 20,
    "start_time": "2024-02-18T05:21:29.571Z"
   },
   {
    "duration": 85,
    "start_time": "2024-02-18T05:21:29.593Z"
   },
   {
    "duration": 8,
    "start_time": "2024-02-18T05:23:37.381Z"
   },
   {
    "duration": 17,
    "start_time": "2024-02-18T05:23:51.902Z"
   },
   {
    "duration": 17,
    "start_time": "2024-02-18T05:24:15.058Z"
   },
   {
    "duration": 70,
    "start_time": "2024-02-18T05:25:39.390Z"
   },
   {
    "duration": 16,
    "start_time": "2024-02-18T05:25:48.727Z"
   },
   {
    "duration": 27,
    "start_time": "2024-02-18T05:26:15.298Z"
   },
   {
    "duration": 99,
    "start_time": "2024-02-18T05:26:46.780Z"
   },
   {
    "duration": 34,
    "start_time": "2024-02-18T05:28:37.064Z"
   },
   {
    "duration": 474,
    "start_time": "2024-02-18T05:58:40.924Z"
   },
   {
    "duration": 21,
    "start_time": "2024-02-18T05:58:41.400Z"
   },
   {
    "duration": 19,
    "start_time": "2024-02-18T05:58:41.422Z"
   },
   {
    "duration": 25,
    "start_time": "2024-02-18T05:58:41.443Z"
   },
   {
    "duration": 32,
    "start_time": "2024-02-18T05:58:41.469Z"
   },
   {
    "duration": 3,
    "start_time": "2024-02-18T05:58:41.502Z"
   },
   {
    "duration": 8,
    "start_time": "2024-02-18T05:58:41.507Z"
   },
   {
    "duration": 4,
    "start_time": "2024-02-18T05:58:41.516Z"
   },
   {
    "duration": 9,
    "start_time": "2024-02-18T05:58:41.521Z"
   },
   {
    "duration": 4,
    "start_time": "2024-02-18T05:58:41.531Z"
   },
   {
    "duration": 30,
    "start_time": "2024-02-18T05:58:41.565Z"
   },
   {
    "duration": 9,
    "start_time": "2024-02-18T05:58:41.596Z"
   },
   {
    "duration": 3,
    "start_time": "2024-02-18T05:58:41.607Z"
   },
   {
    "duration": 11,
    "start_time": "2024-02-18T05:58:41.612Z"
   },
   {
    "duration": 43,
    "start_time": "2024-02-18T05:58:41.625Z"
   },
   {
    "duration": 17,
    "start_time": "2024-02-18T05:58:41.669Z"
   },
   {
    "duration": 4,
    "start_time": "2024-02-18T05:58:41.687Z"
   },
   {
    "duration": 15,
    "start_time": "2024-02-18T05:58:41.692Z"
   },
   {
    "duration": 16,
    "start_time": "2024-02-18T05:58:41.708Z"
   },
   {
    "duration": 4,
    "start_time": "2024-02-18T05:58:41.726Z"
   },
   {
    "duration": 15,
    "start_time": "2024-02-18T05:58:41.731Z"
   },
   {
    "duration": 46,
    "start_time": "2024-02-18T05:58:41.747Z"
   },
   {
    "duration": 47,
    "start_time": "2024-02-18T05:58:41.794Z"
   },
   {
    "duration": 31,
    "start_time": "2024-02-18T05:58:41.843Z"
   },
   {
    "duration": 32,
    "start_time": "2024-02-18T05:58:41.876Z"
   },
   {
    "duration": 51,
    "start_time": "2024-02-19T11:26:40.905Z"
   },
   {
    "duration": 575,
    "start_time": "2024-02-19T11:27:44.328Z"
   },
   {
    "duration": 16,
    "start_time": "2024-02-19T11:27:44.905Z"
   },
   {
    "duration": 27,
    "start_time": "2024-02-19T11:27:44.923Z"
   },
   {
    "duration": 35,
    "start_time": "2024-02-19T11:27:44.953Z"
   },
   {
    "duration": 37,
    "start_time": "2024-02-19T11:27:44.989Z"
   },
   {
    "duration": 3,
    "start_time": "2024-02-19T11:27:45.028Z"
   },
   {
    "duration": 22,
    "start_time": "2024-02-19T11:27:45.032Z"
   },
   {
    "duration": 34,
    "start_time": "2024-02-19T11:27:45.055Z"
   },
   {
    "duration": 13,
    "start_time": "2024-02-19T11:27:45.090Z"
   },
   {
    "duration": 17,
    "start_time": "2024-02-19T11:27:45.106Z"
   },
   {
    "duration": 47,
    "start_time": "2024-02-19T11:27:45.125Z"
   },
   {
    "duration": 66,
    "start_time": "2024-02-19T11:27:45.173Z"
   },
   {
    "duration": 5,
    "start_time": "2024-02-19T11:27:45.243Z"
   },
   {
    "duration": 13,
    "start_time": "2024-02-19T11:27:45.250Z"
   },
   {
    "duration": 26,
    "start_time": "2024-02-19T11:27:45.264Z"
   },
   {
    "duration": 17,
    "start_time": "2024-02-19T11:27:45.292Z"
   },
   {
    "duration": 4,
    "start_time": "2024-02-19T11:27:45.310Z"
   },
   {
    "duration": 34,
    "start_time": "2024-02-19T11:27:45.315Z"
   },
   {
    "duration": 15,
    "start_time": "2024-02-19T11:27:45.351Z"
   },
   {
    "duration": 5,
    "start_time": "2024-02-19T11:27:45.368Z"
   },
   {
    "duration": 25,
    "start_time": "2024-02-19T11:27:45.374Z"
   },
   {
    "duration": 48,
    "start_time": "2024-02-19T11:27:45.400Z"
   },
   {
    "duration": 39,
    "start_time": "2024-02-19T11:27:45.449Z"
   },
   {
    "duration": 19,
    "start_time": "2024-02-19T11:27:45.490Z"
   },
   {
    "duration": 38,
    "start_time": "2024-02-19T11:27:45.511Z"
   },
   {
    "duration": 34,
    "start_time": "2024-02-19T11:28:00.115Z"
   },
   {
    "duration": 35,
    "start_time": "2024-02-19T11:28:04.127Z"
   },
   {
    "duration": 38,
    "start_time": "2024-02-19T11:28:26.110Z"
   },
   {
    "duration": 37,
    "start_time": "2024-02-19T11:33:35.881Z"
   },
   {
    "duration": 40,
    "start_time": "2024-02-19T11:34:55.425Z"
   },
   {
    "duration": 47,
    "start_time": "2024-02-19T11:35:03.847Z"
   },
   {
    "duration": 31,
    "start_time": "2024-02-19T11:35:13.179Z"
   },
   {
    "duration": 117,
    "start_time": "2024-02-19T11:36:01.383Z"
   },
   {
    "duration": 0,
    "start_time": "2024-02-19T11:36:01.503Z"
   },
   {
    "duration": 0,
    "start_time": "2024-02-19T11:36:01.504Z"
   },
   {
    "duration": 0,
    "start_time": "2024-02-19T11:36:01.505Z"
   },
   {
    "duration": 0,
    "start_time": "2024-02-19T11:36:01.507Z"
   },
   {
    "duration": 0,
    "start_time": "2024-02-19T11:36:01.508Z"
   },
   {
    "duration": 0,
    "start_time": "2024-02-19T11:36:01.509Z"
   },
   {
    "duration": 0,
    "start_time": "2024-02-19T11:36:01.511Z"
   },
   {
    "duration": 0,
    "start_time": "2024-02-19T11:36:01.512Z"
   },
   {
    "duration": 0,
    "start_time": "2024-02-19T11:36:01.513Z"
   },
   {
    "duration": 0,
    "start_time": "2024-02-19T11:36:01.515Z"
   },
   {
    "duration": 0,
    "start_time": "2024-02-19T11:36:01.516Z"
   },
   {
    "duration": 0,
    "start_time": "2024-02-19T11:36:01.517Z"
   },
   {
    "duration": 0,
    "start_time": "2024-02-19T11:36:01.519Z"
   },
   {
    "duration": 0,
    "start_time": "2024-02-19T11:36:01.520Z"
   },
   {
    "duration": 0,
    "start_time": "2024-02-19T11:36:01.521Z"
   },
   {
    "duration": 0,
    "start_time": "2024-02-19T11:36:01.522Z"
   },
   {
    "duration": 0,
    "start_time": "2024-02-19T11:36:01.524Z"
   },
   {
    "duration": 0,
    "start_time": "2024-02-19T11:36:01.525Z"
   },
   {
    "duration": 0,
    "start_time": "2024-02-19T11:36:01.526Z"
   },
   {
    "duration": 0,
    "start_time": "2024-02-19T11:36:01.527Z"
   },
   {
    "duration": 0,
    "start_time": "2024-02-19T11:36:01.529Z"
   },
   {
    "duration": 103,
    "start_time": "2024-02-19T11:36:01.532Z"
   },
   {
    "duration": 0,
    "start_time": "2024-02-19T11:36:01.636Z"
   },
   {
    "duration": 0,
    "start_time": "2024-02-19T11:36:01.637Z"
   },
   {
    "duration": 8,
    "start_time": "2024-02-19T11:36:16.679Z"
   },
   {
    "duration": 112,
    "start_time": "2024-02-19T11:36:42.383Z"
   },
   {
    "duration": 0,
    "start_time": "2024-02-19T11:36:42.498Z"
   },
   {
    "duration": 0,
    "start_time": "2024-02-19T11:36:42.500Z"
   },
   {
    "duration": 0,
    "start_time": "2024-02-19T11:36:42.501Z"
   },
   {
    "duration": 0,
    "start_time": "2024-02-19T11:36:42.502Z"
   },
   {
    "duration": 0,
    "start_time": "2024-02-19T11:36:42.504Z"
   },
   {
    "duration": 0,
    "start_time": "2024-02-19T11:36:42.505Z"
   },
   {
    "duration": 0,
    "start_time": "2024-02-19T11:36:42.506Z"
   },
   {
    "duration": 0,
    "start_time": "2024-02-19T11:36:42.507Z"
   },
   {
    "duration": 0,
    "start_time": "2024-02-19T11:36:42.508Z"
   },
   {
    "duration": 0,
    "start_time": "2024-02-19T11:36:42.510Z"
   },
   {
    "duration": 0,
    "start_time": "2024-02-19T11:36:42.511Z"
   },
   {
    "duration": 0,
    "start_time": "2024-02-19T11:36:42.512Z"
   },
   {
    "duration": 0,
    "start_time": "2024-02-19T11:36:42.514Z"
   },
   {
    "duration": 0,
    "start_time": "2024-02-19T11:36:42.515Z"
   },
   {
    "duration": 0,
    "start_time": "2024-02-19T11:36:42.516Z"
   },
   {
    "duration": 0,
    "start_time": "2024-02-19T11:36:42.517Z"
   },
   {
    "duration": 0,
    "start_time": "2024-02-19T11:36:42.518Z"
   },
   {
    "duration": 0,
    "start_time": "2024-02-19T11:36:42.519Z"
   },
   {
    "duration": 0,
    "start_time": "2024-02-19T11:36:42.520Z"
   },
   {
    "duration": 0,
    "start_time": "2024-02-19T11:36:42.521Z"
   },
   {
    "duration": 0,
    "start_time": "2024-02-19T11:36:42.522Z"
   },
   {
    "duration": 0,
    "start_time": "2024-02-19T11:36:42.524Z"
   },
   {
    "duration": 99,
    "start_time": "2024-02-19T11:36:42.526Z"
   },
   {
    "duration": 0,
    "start_time": "2024-02-19T11:36:42.626Z"
   },
   {
    "duration": 11,
    "start_time": "2024-02-19T11:36:54.496Z"
   },
   {
    "duration": 7,
    "start_time": "2024-02-19T11:37:05.979Z"
   },
   {
    "duration": 480,
    "start_time": "2024-02-19T11:37:39.809Z"
   },
   {
    "duration": 29,
    "start_time": "2024-02-19T11:37:40.292Z"
   },
   {
    "duration": 17,
    "start_time": "2024-02-19T11:37:40.323Z"
   },
   {
    "duration": 12,
    "start_time": "2024-02-19T11:37:40.343Z"
   },
   {
    "duration": 64,
    "start_time": "2024-02-19T11:37:40.357Z"
   },
   {
    "duration": 3,
    "start_time": "2024-02-19T11:37:40.422Z"
   },
   {
    "duration": 9,
    "start_time": "2024-02-19T11:37:40.427Z"
   },
   {
    "duration": 3,
    "start_time": "2024-02-19T11:37:40.438Z"
   },
   {
    "duration": 7,
    "start_time": "2024-02-19T11:37:40.443Z"
   },
   {
    "duration": 5,
    "start_time": "2024-02-19T11:37:40.488Z"
   },
   {
    "duration": 42,
    "start_time": "2024-02-19T11:37:40.494Z"
   },
   {
    "duration": 10,
    "start_time": "2024-02-19T11:37:40.538Z"
   },
   {
    "duration": 8,
    "start_time": "2024-02-19T11:37:40.549Z"
   },
   {
    "duration": 32,
    "start_time": "2024-02-19T11:37:40.558Z"
   },
   {
    "duration": 22,
    "start_time": "2024-02-19T11:37:40.591Z"
   },
   {
    "duration": 17,
    "start_time": "2024-02-19T11:37:40.615Z"
   },
   {
    "duration": 4,
    "start_time": "2024-02-19T11:37:40.633Z"
   },
   {
    "duration": 25,
    "start_time": "2024-02-19T11:37:40.638Z"
   },
   {
    "duration": 25,
    "start_time": "2024-02-19T11:37:40.664Z"
   },
   {
    "duration": 4,
    "start_time": "2024-02-19T11:37:40.692Z"
   },
   {
    "duration": 13,
    "start_time": "2024-02-19T11:37:40.698Z"
   },
   {
    "duration": 50,
    "start_time": "2024-02-19T11:37:40.713Z"
   },
   {
    "duration": 75,
    "start_time": "2024-02-19T11:37:40.764Z"
   },
   {
    "duration": 18,
    "start_time": "2024-02-19T11:37:40.841Z"
   },
   {
    "duration": 71,
    "start_time": "2024-02-19T11:37:40.861Z"
   },
   {
    "duration": 27,
    "start_time": "2024-02-19T11:41:57.208Z"
   },
   {
    "duration": 49,
    "start_time": "2024-02-19T11:42:06.355Z"
   },
   {
    "duration": 38,
    "start_time": "2024-02-19T11:42:30.431Z"
   },
   {
    "duration": 38,
    "start_time": "2024-02-19T11:42:35.404Z"
   },
   {
    "duration": 21,
    "start_time": "2024-02-19T11:51:49.746Z"
   },
   {
    "duration": 21,
    "start_time": "2024-02-19T11:55:12.660Z"
   },
   {
    "duration": 20,
    "start_time": "2024-02-19T11:55:16.028Z"
   },
   {
    "duration": 11,
    "start_time": "2024-02-19T12:00:52.854Z"
   },
   {
    "duration": 10,
    "start_time": "2024-02-19T12:00:58.284Z"
   },
   {
    "duration": 498,
    "start_time": "2024-02-19T12:01:03.490Z"
   },
   {
    "duration": 22,
    "start_time": "2024-02-19T12:01:03.989Z"
   },
   {
    "duration": 15,
    "start_time": "2024-02-19T12:01:04.012Z"
   },
   {
    "duration": 10,
    "start_time": "2024-02-19T12:01:04.030Z"
   },
   {
    "duration": 65,
    "start_time": "2024-02-19T12:01:04.042Z"
   },
   {
    "duration": 3,
    "start_time": "2024-02-19T12:01:04.108Z"
   },
   {
    "duration": 14,
    "start_time": "2024-02-19T12:01:04.113Z"
   },
   {
    "duration": 9,
    "start_time": "2024-02-19T12:01:04.128Z"
   },
   {
    "duration": 18,
    "start_time": "2024-02-19T12:01:04.139Z"
   },
   {
    "duration": 9,
    "start_time": "2024-02-19T12:01:04.160Z"
   },
   {
    "duration": 45,
    "start_time": "2024-02-19T12:01:04.171Z"
   },
   {
    "duration": 10,
    "start_time": "2024-02-19T12:01:04.218Z"
   },
   {
    "duration": 31,
    "start_time": "2024-02-19T12:01:04.230Z"
   },
   {
    "duration": 22,
    "start_time": "2024-02-19T12:01:04.263Z"
   },
   {
    "duration": 37,
    "start_time": "2024-02-19T12:01:04.287Z"
   },
   {
    "duration": 25,
    "start_time": "2024-02-19T12:01:04.326Z"
   },
   {
    "duration": 15,
    "start_time": "2024-02-19T12:01:04.353Z"
   },
   {
    "duration": 35,
    "start_time": "2024-02-19T12:01:04.369Z"
   },
   {
    "duration": 21,
    "start_time": "2024-02-19T12:01:04.406Z"
   },
   {
    "duration": 4,
    "start_time": "2024-02-19T12:01:04.429Z"
   },
   {
    "duration": 33,
    "start_time": "2024-02-19T12:01:04.435Z"
   },
   {
    "duration": 43,
    "start_time": "2024-02-19T12:01:04.469Z"
   },
   {
    "duration": 41,
    "start_time": "2024-02-19T12:01:04.513Z"
   },
   {
    "duration": 38,
    "start_time": "2024-02-19T12:01:04.556Z"
   },
   {
    "duration": 19,
    "start_time": "2024-02-19T12:01:04.596Z"
   },
   {
    "duration": 41,
    "start_time": "2024-02-19T12:01:04.617Z"
   },
   {
    "duration": 10,
    "start_time": "2024-02-19T12:01:11.637Z"
   },
   {
    "duration": 101,
    "start_time": "2024-02-19T12:14:46.393Z"
   },
   {
    "duration": 517,
    "start_time": "2024-02-19T12:49:56.562Z"
   },
   {
    "duration": 22,
    "start_time": "2024-02-19T12:49:57.081Z"
   },
   {
    "duration": 28,
    "start_time": "2024-02-19T12:49:57.105Z"
   },
   {
    "duration": 10,
    "start_time": "2024-02-19T12:49:57.134Z"
   },
   {
    "duration": 43,
    "start_time": "2024-02-19T12:49:57.146Z"
   },
   {
    "duration": 3,
    "start_time": "2024-02-19T12:49:57.191Z"
   },
   {
    "duration": 33,
    "start_time": "2024-02-19T12:49:57.196Z"
   },
   {
    "duration": 6,
    "start_time": "2024-02-19T12:49:57.231Z"
   },
   {
    "duration": 27,
    "start_time": "2024-02-19T12:49:57.239Z"
   },
   {
    "duration": 19,
    "start_time": "2024-02-19T12:49:57.267Z"
   },
   {
    "duration": 64,
    "start_time": "2024-02-19T12:49:57.288Z"
   },
   {
    "duration": 12,
    "start_time": "2024-02-19T12:49:57.353Z"
   },
   {
    "duration": 10,
    "start_time": "2024-02-19T12:49:57.366Z"
   },
   {
    "duration": 25,
    "start_time": "2024-02-19T12:49:57.379Z"
   },
   {
    "duration": 74,
    "start_time": "2024-02-19T12:49:57.406Z"
   },
   {
    "duration": 42,
    "start_time": "2024-02-19T12:49:57.481Z"
   },
   {
    "duration": 15,
    "start_time": "2024-02-19T12:49:57.525Z"
   },
   {
    "duration": 31,
    "start_time": "2024-02-19T12:49:57.541Z"
   },
   {
    "duration": 31,
    "start_time": "2024-02-19T12:49:57.573Z"
   },
   {
    "duration": 11,
    "start_time": "2024-02-19T12:49:57.606Z"
   },
   {
    "duration": 28,
    "start_time": "2024-02-19T12:49:57.618Z"
   },
   {
    "duration": 60,
    "start_time": "2024-02-19T12:49:57.648Z"
   },
   {
    "duration": 41,
    "start_time": "2024-02-19T12:49:57.710Z"
   },
   {
    "duration": 21,
    "start_time": "2024-02-19T12:49:57.753Z"
   },
   {
    "duration": 20,
    "start_time": "2024-02-19T12:49:57.788Z"
   },
   {
    "duration": 39,
    "start_time": "2024-02-19T12:49:57.809Z"
   }
  ],
  "colab": {
   "provenance": []
  },
  "kernelspec": {
   "display_name": "Python 3 (ipykernel)",
   "language": "python",
   "name": "python3"
  },
  "language_info": {
   "codemirror_mode": {
    "name": "ipython",
    "version": 3
   },
   "file_extension": ".py",
   "mimetype": "text/x-python",
   "name": "python",
   "nbconvert_exporter": "python",
   "pygments_lexer": "ipython3",
   "version": "3.12.7"
  },
  "toc": {
   "base_numbering": 1,
   "nav_menu": {},
   "number_sections": true,
   "sideBar": true,
   "skip_h1_title": true,
   "title_cell": "Table of Contents",
   "title_sidebar": "Contents",
   "toc_cell": false,
   "toc_position": {},
   "toc_section_display": true,
   "toc_window_display": false
  }
 },
 "nbformat": 4,
 "nbformat_minor": 5
}
