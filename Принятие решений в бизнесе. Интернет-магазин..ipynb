{
 "cells": [
  {
   "cell_type": "markdown",
   "metadata": {},
   "source": [
    "# Принятие решений в бизнесе. Интернет-магазин."
   ]
  },
  {
   "cell_type": "markdown",
   "metadata": {},
   "source": [
    "## Описание проекта\n",
    "\n",
    "Вы — аналитик крупного интернет-магазина. Вместе с отделом маркетинга вы подготовили список гипотез для увеличения выручки.\n",
    "Приоритизируйте гипотезы, запустите A/B-тест и проанализируйте результаты. "
   ]
  },
  {
   "cell_type": "markdown",
   "metadata": {},
   "source": [
    "**Описание данных**  \n",
    "\n",
    "Данные для первой части  \n",
    "Файл /datasets/hypothesis.csv.  \n",
    "* Hypothesis — краткое описание гипотезы;  \n",
    "* Reach — охват пользователей по 10-балльной шкале;  \n",
    "* Impact — влияние на пользователей по 10-балльной шкале;  \n",
    "* Confidence — уверенность в гипотезе по 10-балльной шкале;  \n",
    "* Efforts — затраты ресурсов на проверку гипотезы по 10-балльной шкале. Чем больше значение Efforts, тем дороже проверка гипотезы.   \n",
    "\n",
    "Данные для второй части  \n",
    "Файл /datasets/orders.csv.  \n",
    "* transactionId — идентификатор заказа;  \n",
    "* visitorId — идентификатор пользователя, совершившего заказ;  \n",
    "* date — дата, когда был совершён заказ;  \n",
    "* revenue — выручка заказа;  \n",
    "* group — группа A/B-теста, в которую попал заказ.  \n",
    "\n",
    "Файл /datasets/visitors.csv.  \n",
    "* date — дата;  \n",
    "* group — группа A/B-теста;  \n",
    "* visitors — количество пользователей в указанную дату в указанной группе A/B-теста "
   ]
  },
  {
   "cell_type": "markdown",
   "metadata": {},
   "source": [
    "## Цели проекта\n",
    "\n",
    "**Часть 1. Приоритизация гипотез.**  \n",
    "В файле /datasets/hypothesis.csv 9 гипотез по увеличению выручки интернет-магазина с указанными параметрами Reach, Impact, Confidence, Effort.  \n",
    "\n",
    "* Примените фреймворк ICE для приоритизации гипотез. Отсортируйте их по убыванию приоритета.  \n",
    "* Примените фреймворк RICE для приоритизации гипотез. Отсортируйте их по убыванию приоритета.  \n",
    "* Укажите, как изменилась приоритизация гипотез при применении RICE вместо ICE. Объясните, почему так произошло.  \n",
    "\n",
    "**Часть 2. Анализ A/B-теста**  \n",
    "Вы провели A/B-тест и получили результаты, которые описаны в файлах /datasets/orders.csv и /datasets/visitors.csv.  \n",
    "\n",
    "Проанализируйте A/B-тест:  \n",
    "* Постройте график кумулятивной выручки по группам. Сделайте выводы и предположения.  \n",
    "* Постройте график кумулятивного среднего чека по группам. Сделайте выводы и предположения.  \n",
    "* Постройте график относительного изменения кумулятивного среднего чека группы B к группе A. Сделайте выводы и предположения.  \n",
    "* Постройте график кумулятивного среднего количества заказов на посетителя по группам. Сделайте выводы и предположения.  \n",
    "* Постройте график относительного изменения кумулятивного среднего количества заказов на посетителя группы B к группе A. Сделайте выводы и предположения.  \n",
    "* Постройте точечный график количества заказов по пользователям. Сделайте выводы и предположения.  \n",
    "* Посчитайте 95-й и 99-й перцентили количества заказов на пользователя. Выберите границу для определения аномальных пользователей.  \n",
    "* Постройте точечный график стоимостей заказов. Сделайте выводы и предположения.  \n",
    "* Посчитайте 95-й и 99-й перцентили стоимости заказов. Выберите границу для определения аномальных заказов.  \n",
    "* Посчитайте статистическую значимость различий в среднем количестве заказов на посетителя между группами по «сырым» данным. Сделайте выводы и предположения.  \n",
    "* Посчитайте статистическую значимость различий в среднем чеке заказа между группами по «сырым» данным. Сделайте выводы и предположения.  \n",
    "* Посчитайте статистическую значимость различий в среднем количестве заказов на посетителя между группами по «очищенным» данным. Сделайте выводы и предположения.  \n",
    "* Посчитайте статистическую значимость различий в среднем чеке заказа между группами по «очищенным» данным. Сделайте выводы и предположения.  \n",
    "* Примите решение по результатам теста и объясните его. Варианты решений:  \n",
    "1. Остановить тест, зафиксировать победу одной из групп.  \n",
    "2. Остановить тест, зафиксировать отсутствие различий между группами.  \n",
    "3. Продолжить тест.  "
   ]
  },
  {
   "cell_type": "markdown",
   "metadata": {},
   "source": [
    "## Импорт данных"
   ]
  },
  {
   "cell_type": "code",
   "execution_count": 1,
   "metadata": {},
   "outputs": [],
   "source": [
    "import pandas as pd\n",
    "import numpy as np\n",
    "from matplotlib import pyplot as plt\n",
    "import scipy.stats as st"
   ]
  },
  {
   "cell_type": "code",
   "execution_count": 2,
   "metadata": {},
   "outputs": [],
   "source": [
    "try:\n",
    "    hypothesis = pd.read_csv('/datasets/hypothesis.csv').copy()\n",
    "    orders = pd.read_csv('/datasets/orders.csv').copy()\n",
    "    visitors = pd.read_csv('/datasets/visitors.csv').copy()\n",
    "except:\n",
    "    hypothesis = pd.read_csv('https://code.s3.yandex.net/datasets/hypothesis.csv').copy()\n",
    "    orders = pd.read_csv('https://code.s3.yandex.net/datasets/orders.csv').copy()\n",
    "    visitors = pd.read_csv('https://code.s3.yandex.net/datasets/visitors.csv').copy()    "
   ]
  },
  {
   "cell_type": "markdown",
   "metadata": {},
   "source": [
    "## Приоритизация гипотез."
   ]
  },
  {
   "cell_type": "markdown",
   "metadata": {},
   "source": [
    "**Зачем и как рассчитываются гипотезы.**\n",
    "\n",
    "* гипотезы помогают проверить, являются ли определённые идеи или предположения обоснованными на основе данных.  \n",
    "* на основе результатов тестирования принимаются решения в бизнесе.  \n",
    "* гипотезы могут помочь определить, какие изменения или стратегии наиболее эффективны.  \n",
    "\n",
    "\n",
    "1. первым этапом формируется нулевая гипотеза (H₀) — предположение о том, что нет разницы, и альтернативная гипотеза (H₁) — предположение о наличии разницы.  \n",
    "2. далее собираются данные, которые будут использоваться для проверки гипотез.  \n",
    "3. потом данные анализируются, чтобы определить, поддерживают ли они нулевую или альтернативную гипотезу.  \n",
    "4. после этого результаты анализа оцениваются на основе уровня значимости (обычно 0.05). Если p-value меньше уровня значимости, то нулевая гипотеза отвергается в пользу альтернативной.\n",
    "5. завершающим этапом делается вывод о поддержке или отказе от нулевой гипотезы. Тут может быть принято решение о внедрении новой стратегии в бизнес или решение о продолжении теста.  "
   ]
  },
  {
   "cell_type": "markdown",
   "metadata": {},
   "source": [
    "**Применим фреймворк ICE для приоритизации гипотез. Отсортируйем их по убыванию приоритета.**"
   ]
  },
  {
   "cell_type": "code",
   "execution_count": 3,
   "metadata": {},
   "outputs": [
    {
     "data": {
      "text/html": [
       "<div>\n",
       "<style scoped>\n",
       "    .dataframe tbody tr th:only-of-type {\n",
       "        vertical-align: middle;\n",
       "    }\n",
       "\n",
       "    .dataframe tbody tr th {\n",
       "        vertical-align: top;\n",
       "    }\n",
       "\n",
       "    .dataframe thead th {\n",
       "        text-align: right;\n",
       "    }\n",
       "</style>\n",
       "<table border=\"1\" class=\"dataframe\">\n",
       "  <thead>\n",
       "    <tr style=\"text-align: right;\">\n",
       "      <th></th>\n",
       "      <th>Hypothesis</th>\n",
       "      <th>Reach</th>\n",
       "      <th>Impact</th>\n",
       "      <th>Confidence</th>\n",
       "      <th>Efforts</th>\n",
       "      <th>ice</th>\n",
       "    </tr>\n",
       "  </thead>\n",
       "  <tbody>\n",
       "    <tr>\n",
       "      <th>8</th>\n",
       "      <td>Запустить акцию, дающую скидку на товар в день рождения</td>\n",
       "      <td>1</td>\n",
       "      <td>9</td>\n",
       "      <td>9</td>\n",
       "      <td>5</td>\n",
       "      <td>16.200</td>\n",
       "    </tr>\n",
       "    <tr>\n",
       "      <th>0</th>\n",
       "      <td>Добавить два новых канала привлечения трафика, что позволит привлекать на 30% больше пользователей</td>\n",
       "      <td>3</td>\n",
       "      <td>10</td>\n",
       "      <td>8</td>\n",
       "      <td>6</td>\n",
       "      <td>13.333</td>\n",
       "    </tr>\n",
       "    <tr>\n",
       "      <th>7</th>\n",
       "      <td>Добавить форму подписки на все основные страницы, чтобы собрать базу клиентов для email-рассылок</td>\n",
       "      <td>10</td>\n",
       "      <td>7</td>\n",
       "      <td>8</td>\n",
       "      <td>5</td>\n",
       "      <td>11.200</td>\n",
       "    </tr>\n",
       "    <tr>\n",
       "      <th>6</th>\n",
       "      <td>Показать на главной странице баннеры с актуальными акциями и распродажами, чтобы увеличить конверсию</td>\n",
       "      <td>5</td>\n",
       "      <td>3</td>\n",
       "      <td>8</td>\n",
       "      <td>3</td>\n",
       "      <td>8.000</td>\n",
       "    </tr>\n",
       "    <tr>\n",
       "      <th>2</th>\n",
       "      <td>Добавить блоки рекомендаций товаров на сайт интернет магазина, чтобы повысить конверсию и средний чек заказа</td>\n",
       "      <td>8</td>\n",
       "      <td>3</td>\n",
       "      <td>7</td>\n",
       "      <td>3</td>\n",
       "      <td>7.000</td>\n",
       "    </tr>\n",
       "    <tr>\n",
       "      <th>1</th>\n",
       "      <td>Запустить собственную службу доставки, что сократит срок доставки заказов</td>\n",
       "      <td>2</td>\n",
       "      <td>5</td>\n",
       "      <td>4</td>\n",
       "      <td>10</td>\n",
       "      <td>2.000</td>\n",
       "    </tr>\n",
       "    <tr>\n",
       "      <th>5</th>\n",
       "      <td>Добавить страницу отзывов клиентов о магазине, что позволит увеличить количество заказов</td>\n",
       "      <td>3</td>\n",
       "      <td>2</td>\n",
       "      <td>2</td>\n",
       "      <td>3</td>\n",
       "      <td>1.333</td>\n",
       "    </tr>\n",
       "    <tr>\n",
       "      <th>3</th>\n",
       "      <td>Изменить структура категорий, что увеличит конверсию, т.к. пользователи быстрее найдут нужный товар</td>\n",
       "      <td>8</td>\n",
       "      <td>3</td>\n",
       "      <td>3</td>\n",
       "      <td>8</td>\n",
       "      <td>1.125</td>\n",
       "    </tr>\n",
       "    <tr>\n",
       "      <th>4</th>\n",
       "      <td>Изменить цвет фона главной страницы, чтобы увеличить вовлеченность пользователей</td>\n",
       "      <td>3</td>\n",
       "      <td>1</td>\n",
       "      <td>1</td>\n",
       "      <td>1</td>\n",
       "      <td>1.000</td>\n",
       "    </tr>\n",
       "  </tbody>\n",
       "</table>\n",
       "</div>"
      ],
      "text/plain": [
       "                                                                                                     Hypothesis  \\\n",
       "8                                                       Запустить акцию, дающую скидку на товар в день рождения   \n",
       "0            Добавить два новых канала привлечения трафика, что позволит привлекать на 30% больше пользователей   \n",
       "7              Добавить форму подписки на все основные страницы, чтобы собрать базу клиентов для email-рассылок   \n",
       "6          Показать на главной странице баннеры с актуальными акциями и распродажами, чтобы увеличить конверсию   \n",
       "2  Добавить блоки рекомендаций товаров на сайт интернет магазина, чтобы повысить конверсию и средний чек заказа   \n",
       "1                                     Запустить собственную службу доставки, что сократит срок доставки заказов   \n",
       "5                      Добавить страницу отзывов клиентов о магазине, что позволит увеличить количество заказов   \n",
       "3           Изменить структура категорий, что увеличит конверсию, т.к. пользователи быстрее найдут нужный товар   \n",
       "4                              Изменить цвет фона главной страницы, чтобы увеличить вовлеченность пользователей   \n",
       "\n",
       "   Reach  Impact  Confidence  Efforts     ice  \n",
       "8      1       9           9        5  16.200  \n",
       "0      3      10           8        6  13.333  \n",
       "7     10       7           8        5  11.200  \n",
       "6      5       3           8        3   8.000  \n",
       "2      8       3           7        3   7.000  \n",
       "1      2       5           4       10   2.000  \n",
       "5      3       2           2        3   1.333  \n",
       "3      8       3           3        8   1.125  \n",
       "4      3       1           1        1   1.000  "
      ]
     },
     "execution_count": 3,
     "metadata": {},
     "output_type": "execute_result"
    }
   ],
   "source": [
    "pd.options.display.max_colwidth = 400\n",
    "hypothesis['ice'] = round(hypothesis['Impact'] * hypothesis['Confidence'] / hypothesis['Efforts'], 3)\n",
    "hypothesis.sort_values(by='ice', ascending=False)"
   ]
  },
  {
   "cell_type": "markdown",
   "metadata": {},
   "source": [
    "**Применим фреймворк RICE для приоритизации гипотез. Отсортируем их по убыванию приоритета.**"
   ]
  },
  {
   "cell_type": "code",
   "execution_count": 4,
   "metadata": {},
   "outputs": [
    {
     "data": {
      "text/html": [
       "<div>\n",
       "<style scoped>\n",
       "    .dataframe tbody tr th:only-of-type {\n",
       "        vertical-align: middle;\n",
       "    }\n",
       "\n",
       "    .dataframe tbody tr th {\n",
       "        vertical-align: top;\n",
       "    }\n",
       "\n",
       "    .dataframe thead th {\n",
       "        text-align: right;\n",
       "    }\n",
       "</style>\n",
       "<table border=\"1\" class=\"dataframe\">\n",
       "  <thead>\n",
       "    <tr style=\"text-align: right;\">\n",
       "      <th></th>\n",
       "      <th>Hypothesis</th>\n",
       "      <th>Reach</th>\n",
       "      <th>Impact</th>\n",
       "      <th>Confidence</th>\n",
       "      <th>Efforts</th>\n",
       "      <th>ice</th>\n",
       "      <th>rice</th>\n",
       "    </tr>\n",
       "  </thead>\n",
       "  <tbody>\n",
       "    <tr>\n",
       "      <th>7</th>\n",
       "      <td>Добавить форму подписки на все основные страницы, чтобы собрать базу клиентов для email-рассылок</td>\n",
       "      <td>10</td>\n",
       "      <td>7</td>\n",
       "      <td>8</td>\n",
       "      <td>5</td>\n",
       "      <td>11.200</td>\n",
       "      <td>112.0</td>\n",
       "    </tr>\n",
       "    <tr>\n",
       "      <th>2</th>\n",
       "      <td>Добавить блоки рекомендаций товаров на сайт интернет магазина, чтобы повысить конверсию и средний чек заказа</td>\n",
       "      <td>8</td>\n",
       "      <td>3</td>\n",
       "      <td>7</td>\n",
       "      <td>3</td>\n",
       "      <td>7.000</td>\n",
       "      <td>56.0</td>\n",
       "    </tr>\n",
       "    <tr>\n",
       "      <th>0</th>\n",
       "      <td>Добавить два новых канала привлечения трафика, что позволит привлекать на 30% больше пользователей</td>\n",
       "      <td>3</td>\n",
       "      <td>10</td>\n",
       "      <td>8</td>\n",
       "      <td>6</td>\n",
       "      <td>13.333</td>\n",
       "      <td>40.0</td>\n",
       "    </tr>\n",
       "    <tr>\n",
       "      <th>6</th>\n",
       "      <td>Показать на главной странице баннеры с актуальными акциями и распродажами, чтобы увеличить конверсию</td>\n",
       "      <td>5</td>\n",
       "      <td>3</td>\n",
       "      <td>8</td>\n",
       "      <td>3</td>\n",
       "      <td>8.000</td>\n",
       "      <td>40.0</td>\n",
       "    </tr>\n",
       "    <tr>\n",
       "      <th>8</th>\n",
       "      <td>Запустить акцию, дающую скидку на товар в день рождения</td>\n",
       "      <td>1</td>\n",
       "      <td>9</td>\n",
       "      <td>9</td>\n",
       "      <td>5</td>\n",
       "      <td>16.200</td>\n",
       "      <td>16.2</td>\n",
       "    </tr>\n",
       "    <tr>\n",
       "      <th>3</th>\n",
       "      <td>Изменить структура категорий, что увеличит конверсию, т.к. пользователи быстрее найдут нужный товар</td>\n",
       "      <td>8</td>\n",
       "      <td>3</td>\n",
       "      <td>3</td>\n",
       "      <td>8</td>\n",
       "      <td>1.125</td>\n",
       "      <td>9.0</td>\n",
       "    </tr>\n",
       "    <tr>\n",
       "      <th>1</th>\n",
       "      <td>Запустить собственную службу доставки, что сократит срок доставки заказов</td>\n",
       "      <td>2</td>\n",
       "      <td>5</td>\n",
       "      <td>4</td>\n",
       "      <td>10</td>\n",
       "      <td>2.000</td>\n",
       "      <td>4.0</td>\n",
       "    </tr>\n",
       "    <tr>\n",
       "      <th>5</th>\n",
       "      <td>Добавить страницу отзывов клиентов о магазине, что позволит увеличить количество заказов</td>\n",
       "      <td>3</td>\n",
       "      <td>2</td>\n",
       "      <td>2</td>\n",
       "      <td>3</td>\n",
       "      <td>1.333</td>\n",
       "      <td>4.0</td>\n",
       "    </tr>\n",
       "    <tr>\n",
       "      <th>4</th>\n",
       "      <td>Изменить цвет фона главной страницы, чтобы увеличить вовлеченность пользователей</td>\n",
       "      <td>3</td>\n",
       "      <td>1</td>\n",
       "      <td>1</td>\n",
       "      <td>1</td>\n",
       "      <td>1.000</td>\n",
       "      <td>3.0</td>\n",
       "    </tr>\n",
       "  </tbody>\n",
       "</table>\n",
       "</div>"
      ],
      "text/plain": [
       "                                                                                                     Hypothesis  \\\n",
       "7              Добавить форму подписки на все основные страницы, чтобы собрать базу клиентов для email-рассылок   \n",
       "2  Добавить блоки рекомендаций товаров на сайт интернет магазина, чтобы повысить конверсию и средний чек заказа   \n",
       "0            Добавить два новых канала привлечения трафика, что позволит привлекать на 30% больше пользователей   \n",
       "6          Показать на главной странице баннеры с актуальными акциями и распродажами, чтобы увеличить конверсию   \n",
       "8                                                       Запустить акцию, дающую скидку на товар в день рождения   \n",
       "3           Изменить структура категорий, что увеличит конверсию, т.к. пользователи быстрее найдут нужный товар   \n",
       "1                                     Запустить собственную службу доставки, что сократит срок доставки заказов   \n",
       "5                      Добавить страницу отзывов клиентов о магазине, что позволит увеличить количество заказов   \n",
       "4                              Изменить цвет фона главной страницы, чтобы увеличить вовлеченность пользователей   \n",
       "\n",
       "   Reach  Impact  Confidence  Efforts     ice   rice  \n",
       "7     10       7           8        5  11.200  112.0  \n",
       "2      8       3           7        3   7.000   56.0  \n",
       "0      3      10           8        6  13.333   40.0  \n",
       "6      5       3           8        3   8.000   40.0  \n",
       "8      1       9           9        5  16.200   16.2  \n",
       "3      8       3           3        8   1.125    9.0  \n",
       "1      2       5           4       10   2.000    4.0  \n",
       "5      3       2           2        3   1.333    4.0  \n",
       "4      3       1           1        1   1.000    3.0  "
      ]
     },
     "execution_count": 4,
     "metadata": {},
     "output_type": "execute_result"
    }
   ],
   "source": [
    "pd.options.display.max_colwidth = 400\n",
    "hypothesis['rice'] = hypothesis['Reach'] * hypothesis['Impact'] * hypothesis['Confidence'] / hypothesis['Efforts']\n",
    "hypothesis.sort_values(by='rice', ascending=False)"
   ]
  },
  {
   "cell_type": "markdown",
   "metadata": {},
   "source": [
    "**Выводы:**"
   ]
  },
  {
   "cell_type": "markdown",
   "metadata": {},
   "source": [
    "* Согласно ICE самые перспективные гипотезы под номерами 8, 0 и 7.  \n",
    "* Согласно RICE самые перспективные гипотезы под номерами 7, 2 и 0.  \n",
    "\n",
    "RICE учитывает охват гипотезы, поэтому будем ориентироваться на него. Гипотезы следующие:  \n",
    "1. Добавить форму подписки на все основные страницы, чтобы собрать базу клиентов для email-рассылок\n",
    "2. Добавить блоки рекомендаций товаров на сайт интернет магазина, чтобы повысить конверсию и средний чек заказа\n",
    "3. Добавить два новых канала привлечения трафика, что позволит привлекать на 30% больше пользователей\n",
    "\n",
    "\n",
    "\n"
   ]
  },
  {
   "cell_type": "markdown",
   "metadata": {},
   "source": [
    "## Анализ A/B-теста"
   ]
  },
  {
   "cell_type": "markdown",
   "metadata": {},
   "source": [
    "**Изучим данные датасетов.**"
   ]
  },
  {
   "cell_type": "markdown",
   "metadata": {},
   "source": [
    "**orders**"
   ]
  },
  {
   "cell_type": "code",
   "execution_count": 5,
   "metadata": {},
   "outputs": [
    {
     "data": {
      "text/html": [
       "<div>\n",
       "<style scoped>\n",
       "    .dataframe tbody tr th:only-of-type {\n",
       "        vertical-align: middle;\n",
       "    }\n",
       "\n",
       "    .dataframe tbody tr th {\n",
       "        vertical-align: top;\n",
       "    }\n",
       "\n",
       "    .dataframe thead th {\n",
       "        text-align: right;\n",
       "    }\n",
       "</style>\n",
       "<table border=\"1\" class=\"dataframe\">\n",
       "  <thead>\n",
       "    <tr style=\"text-align: right;\">\n",
       "      <th></th>\n",
       "      <th>transactionId</th>\n",
       "      <th>visitorId</th>\n",
       "      <th>date</th>\n",
       "      <th>revenue</th>\n",
       "      <th>group</th>\n",
       "    </tr>\n",
       "  </thead>\n",
       "  <tbody>\n",
       "    <tr>\n",
       "      <th>0</th>\n",
       "      <td>3667963787</td>\n",
       "      <td>3312258926</td>\n",
       "      <td>2019-08-15</td>\n",
       "      <td>1650</td>\n",
       "      <td>B</td>\n",
       "    </tr>\n",
       "    <tr>\n",
       "      <th>1</th>\n",
       "      <td>2804400009</td>\n",
       "      <td>3642806036</td>\n",
       "      <td>2019-08-15</td>\n",
       "      <td>730</td>\n",
       "      <td>B</td>\n",
       "    </tr>\n",
       "    <tr>\n",
       "      <th>2</th>\n",
       "      <td>2961555356</td>\n",
       "      <td>4069496402</td>\n",
       "      <td>2019-08-15</td>\n",
       "      <td>400</td>\n",
       "      <td>A</td>\n",
       "    </tr>\n",
       "    <tr>\n",
       "      <th>3</th>\n",
       "      <td>3797467345</td>\n",
       "      <td>1196621759</td>\n",
       "      <td>2019-08-15</td>\n",
       "      <td>9759</td>\n",
       "      <td>B</td>\n",
       "    </tr>\n",
       "    <tr>\n",
       "      <th>4</th>\n",
       "      <td>2282983706</td>\n",
       "      <td>2322279887</td>\n",
       "      <td>2019-08-15</td>\n",
       "      <td>2308</td>\n",
       "      <td>B</td>\n",
       "    </tr>\n",
       "  </tbody>\n",
       "</table>\n",
       "</div>"
      ],
      "text/plain": [
       "   transactionId   visitorId        date  revenue group\n",
       "0     3667963787  3312258926  2019-08-15     1650     B\n",
       "1     2804400009  3642806036  2019-08-15      730     B\n",
       "2     2961555356  4069496402  2019-08-15      400     A\n",
       "3     3797467345  1196621759  2019-08-15     9759     B\n",
       "4     2282983706  2322279887  2019-08-15     2308     B"
      ]
     },
     "execution_count": 5,
     "metadata": {},
     "output_type": "execute_result"
    }
   ],
   "source": [
    "orders.head()"
   ]
  },
  {
   "cell_type": "code",
   "execution_count": 6,
   "metadata": {},
   "outputs": [
    {
     "name": "stdout",
     "output_type": "stream",
     "text": [
      "<class 'pandas.core.frame.DataFrame'>\n",
      "RangeIndex: 1197 entries, 0 to 1196\n",
      "Data columns (total 5 columns):\n",
      " #   Column         Non-Null Count  Dtype \n",
      "---  ------         --------------  ----- \n",
      " 0   transactionId  1197 non-null   int64 \n",
      " 1   visitorId      1197 non-null   int64 \n",
      " 2   date           1197 non-null   object\n",
      " 3   revenue        1197 non-null   int64 \n",
      " 4   group          1197 non-null   object\n",
      "dtypes: int64(3), object(2)\n",
      "memory usage: 46.9+ KB\n"
     ]
    },
    {
     "data": {
      "text/html": [
       "<div>\n",
       "<style scoped>\n",
       "    .dataframe tbody tr th:only-of-type {\n",
       "        vertical-align: middle;\n",
       "    }\n",
       "\n",
       "    .dataframe tbody tr th {\n",
       "        vertical-align: top;\n",
       "    }\n",
       "\n",
       "    .dataframe thead th {\n",
       "        text-align: right;\n",
       "    }\n",
       "</style>\n",
       "<table border=\"1\" class=\"dataframe\">\n",
       "  <thead>\n",
       "    <tr style=\"text-align: right;\">\n",
       "      <th></th>\n",
       "      <th>transactionId</th>\n",
       "      <th>visitorId</th>\n",
       "      <th>revenue</th>\n",
       "    </tr>\n",
       "  </thead>\n",
       "  <tbody>\n",
       "    <tr>\n",
       "      <th>count</th>\n",
       "      <td>1.197000e+03</td>\n",
       "      <td>1.197000e+03</td>\n",
       "      <td>1.197000e+03</td>\n",
       "    </tr>\n",
       "    <tr>\n",
       "      <th>mean</th>\n",
       "      <td>2.155621e+09</td>\n",
       "      <td>2.165960e+09</td>\n",
       "      <td>8.348006e+03</td>\n",
       "    </tr>\n",
       "    <tr>\n",
       "      <th>std</th>\n",
       "      <td>1.229085e+09</td>\n",
       "      <td>1.236014e+09</td>\n",
       "      <td>3.919113e+04</td>\n",
       "    </tr>\n",
       "    <tr>\n",
       "      <th>min</th>\n",
       "      <td>1.062393e+06</td>\n",
       "      <td>5.114589e+06</td>\n",
       "      <td>5.000000e+01</td>\n",
       "    </tr>\n",
       "    <tr>\n",
       "      <th>25%</th>\n",
       "      <td>1.166776e+09</td>\n",
       "      <td>1.111826e+09</td>\n",
       "      <td>1.220000e+03</td>\n",
       "    </tr>\n",
       "    <tr>\n",
       "      <th>50%</th>\n",
       "      <td>2.145194e+09</td>\n",
       "      <td>2.217985e+09</td>\n",
       "      <td>2.978000e+03</td>\n",
       "    </tr>\n",
       "    <tr>\n",
       "      <th>75%</th>\n",
       "      <td>3.237740e+09</td>\n",
       "      <td>3.177606e+09</td>\n",
       "      <td>8.290000e+03</td>\n",
       "    </tr>\n",
       "    <tr>\n",
       "      <th>max</th>\n",
       "      <td>4.293856e+09</td>\n",
       "      <td>4.283872e+09</td>\n",
       "      <td>1.294500e+06</td>\n",
       "    </tr>\n",
       "  </tbody>\n",
       "</table>\n",
       "</div>"
      ],
      "text/plain": [
       "       transactionId     visitorId       revenue\n",
       "count   1.197000e+03  1.197000e+03  1.197000e+03\n",
       "mean    2.155621e+09  2.165960e+09  8.348006e+03\n",
       "std     1.229085e+09  1.236014e+09  3.919113e+04\n",
       "min     1.062393e+06  5.114589e+06  5.000000e+01\n",
       "25%     1.166776e+09  1.111826e+09  1.220000e+03\n",
       "50%     2.145194e+09  2.217985e+09  2.978000e+03\n",
       "75%     3.237740e+09  3.177606e+09  8.290000e+03\n",
       "max     4.293856e+09  4.283872e+09  1.294500e+06"
      ]
     },
     "execution_count": 6,
     "metadata": {},
     "output_type": "execute_result"
    }
   ],
   "source": [
    "orders.info()\n",
    "orders.describe()"
   ]
  },
  {
   "cell_type": "code",
   "execution_count": 7,
   "metadata": {},
   "outputs": [
    {
     "data": {
      "text/plain": [
       "0"
      ]
     },
     "execution_count": 7,
     "metadata": {},
     "output_type": "execute_result"
    }
   ],
   "source": [
    "orders.duplicated().sum()"
   ]
  },
  {
   "cell_type": "code",
   "execution_count": 8,
   "metadata": {},
   "outputs": [],
   "source": [
    "orders['date'] = pd.to_datetime(orders['date']).dt.date"
   ]
  },
  {
   "cell_type": "code",
   "execution_count": 9,
   "metadata": {},
   "outputs": [
    {
     "data": {
      "text/html": [
       "<div>\n",
       "<style scoped>\n",
       "    .dataframe tbody tr th:only-of-type {\n",
       "        vertical-align: middle;\n",
       "    }\n",
       "\n",
       "    .dataframe tbody tr th {\n",
       "        vertical-align: top;\n",
       "    }\n",
       "\n",
       "    .dataframe thead th {\n",
       "        text-align: right;\n",
       "    }\n",
       "</style>\n",
       "<table border=\"1\" class=\"dataframe\">\n",
       "  <thead>\n",
       "    <tr style=\"text-align: right;\">\n",
       "      <th></th>\n",
       "      <th>transaction_id</th>\n",
       "      <th>visitor_id</th>\n",
       "      <th>date</th>\n",
       "      <th>revenue</th>\n",
       "      <th>group</th>\n",
       "    </tr>\n",
       "  </thead>\n",
       "  <tbody>\n",
       "    <tr>\n",
       "      <th>0</th>\n",
       "      <td>3667963787</td>\n",
       "      <td>3312258926</td>\n",
       "      <td>2019-08-15</td>\n",
       "      <td>1650</td>\n",
       "      <td>B</td>\n",
       "    </tr>\n",
       "    <tr>\n",
       "      <th>1</th>\n",
       "      <td>2804400009</td>\n",
       "      <td>3642806036</td>\n",
       "      <td>2019-08-15</td>\n",
       "      <td>730</td>\n",
       "      <td>B</td>\n",
       "    </tr>\n",
       "    <tr>\n",
       "      <th>2</th>\n",
       "      <td>2961555356</td>\n",
       "      <td>4069496402</td>\n",
       "      <td>2019-08-15</td>\n",
       "      <td>400</td>\n",
       "      <td>A</td>\n",
       "    </tr>\n",
       "    <tr>\n",
       "      <th>3</th>\n",
       "      <td>3797467345</td>\n",
       "      <td>1196621759</td>\n",
       "      <td>2019-08-15</td>\n",
       "      <td>9759</td>\n",
       "      <td>B</td>\n",
       "    </tr>\n",
       "    <tr>\n",
       "      <th>4</th>\n",
       "      <td>2282983706</td>\n",
       "      <td>2322279887</td>\n",
       "      <td>2019-08-15</td>\n",
       "      <td>2308</td>\n",
       "      <td>B</td>\n",
       "    </tr>\n",
       "  </tbody>\n",
       "</table>\n",
       "</div>"
      ],
      "text/plain": [
       "   transaction_id  visitor_id        date  revenue group\n",
       "0      3667963787  3312258926  2019-08-15     1650     B\n",
       "1      2804400009  3642806036  2019-08-15      730     B\n",
       "2      2961555356  4069496402  2019-08-15      400     A\n",
       "3      3797467345  1196621759  2019-08-15     9759     B\n",
       "4      2282983706  2322279887  2019-08-15     2308     B"
      ]
     },
     "execution_count": 9,
     "metadata": {},
     "output_type": "execute_result"
    }
   ],
   "source": [
    "orders.rename(columns={'transactionId':'transaction_id', 'visitorId':'visitor_id'}, inplace=True)\n",
    "orders.head()"
   ]
  },
  {
   "cell_type": "markdown",
   "metadata": {},
   "source": [
    "**visitors**"
   ]
  },
  {
   "cell_type": "code",
   "execution_count": 10,
   "metadata": {},
   "outputs": [
    {
     "data": {
      "text/html": [
       "<div>\n",
       "<style scoped>\n",
       "    .dataframe tbody tr th:only-of-type {\n",
       "        vertical-align: middle;\n",
       "    }\n",
       "\n",
       "    .dataframe tbody tr th {\n",
       "        vertical-align: top;\n",
       "    }\n",
       "\n",
       "    .dataframe thead th {\n",
       "        text-align: right;\n",
       "    }\n",
       "</style>\n",
       "<table border=\"1\" class=\"dataframe\">\n",
       "  <thead>\n",
       "    <tr style=\"text-align: right;\">\n",
       "      <th></th>\n",
       "      <th>date</th>\n",
       "      <th>group</th>\n",
       "      <th>visitors</th>\n",
       "    </tr>\n",
       "  </thead>\n",
       "  <tbody>\n",
       "    <tr>\n",
       "      <th>0</th>\n",
       "      <td>2019-08-01</td>\n",
       "      <td>A</td>\n",
       "      <td>719</td>\n",
       "    </tr>\n",
       "    <tr>\n",
       "      <th>1</th>\n",
       "      <td>2019-08-02</td>\n",
       "      <td>A</td>\n",
       "      <td>619</td>\n",
       "    </tr>\n",
       "    <tr>\n",
       "      <th>2</th>\n",
       "      <td>2019-08-03</td>\n",
       "      <td>A</td>\n",
       "      <td>507</td>\n",
       "    </tr>\n",
       "    <tr>\n",
       "      <th>3</th>\n",
       "      <td>2019-08-04</td>\n",
       "      <td>A</td>\n",
       "      <td>717</td>\n",
       "    </tr>\n",
       "    <tr>\n",
       "      <th>4</th>\n",
       "      <td>2019-08-05</td>\n",
       "      <td>A</td>\n",
       "      <td>756</td>\n",
       "    </tr>\n",
       "  </tbody>\n",
       "</table>\n",
       "</div>"
      ],
      "text/plain": [
       "         date group  visitors\n",
       "0  2019-08-01     A       719\n",
       "1  2019-08-02     A       619\n",
       "2  2019-08-03     A       507\n",
       "3  2019-08-04     A       717\n",
       "4  2019-08-05     A       756"
      ]
     },
     "execution_count": 10,
     "metadata": {},
     "output_type": "execute_result"
    }
   ],
   "source": [
    "visitors.head()"
   ]
  },
  {
   "cell_type": "code",
   "execution_count": 11,
   "metadata": {},
   "outputs": [
    {
     "name": "stdout",
     "output_type": "stream",
     "text": [
      "<class 'pandas.core.frame.DataFrame'>\n",
      "RangeIndex: 62 entries, 0 to 61\n",
      "Data columns (total 3 columns):\n",
      " #   Column    Non-Null Count  Dtype \n",
      "---  ------    --------------  ----- \n",
      " 0   date      62 non-null     object\n",
      " 1   group     62 non-null     object\n",
      " 2   visitors  62 non-null     int64 \n",
      "dtypes: int64(1), object(2)\n",
      "memory usage: 1.6+ KB\n"
     ]
    },
    {
     "data": {
      "text/html": [
       "<div>\n",
       "<style scoped>\n",
       "    .dataframe tbody tr th:only-of-type {\n",
       "        vertical-align: middle;\n",
       "    }\n",
       "\n",
       "    .dataframe tbody tr th {\n",
       "        vertical-align: top;\n",
       "    }\n",
       "\n",
       "    .dataframe thead th {\n",
       "        text-align: right;\n",
       "    }\n",
       "</style>\n",
       "<table border=\"1\" class=\"dataframe\">\n",
       "  <thead>\n",
       "    <tr style=\"text-align: right;\">\n",
       "      <th></th>\n",
       "      <th>visitors</th>\n",
       "    </tr>\n",
       "  </thead>\n",
       "  <tbody>\n",
       "    <tr>\n",
       "      <th>count</th>\n",
       "      <td>62.000000</td>\n",
       "    </tr>\n",
       "    <tr>\n",
       "      <th>mean</th>\n",
       "      <td>607.290323</td>\n",
       "    </tr>\n",
       "    <tr>\n",
       "      <th>std</th>\n",
       "      <td>114.400560</td>\n",
       "    </tr>\n",
       "    <tr>\n",
       "      <th>min</th>\n",
       "      <td>361.000000</td>\n",
       "    </tr>\n",
       "    <tr>\n",
       "      <th>25%</th>\n",
       "      <td>534.000000</td>\n",
       "    </tr>\n",
       "    <tr>\n",
       "      <th>50%</th>\n",
       "      <td>624.500000</td>\n",
       "    </tr>\n",
       "    <tr>\n",
       "      <th>75%</th>\n",
       "      <td>710.500000</td>\n",
       "    </tr>\n",
       "    <tr>\n",
       "      <th>max</th>\n",
       "      <td>770.000000</td>\n",
       "    </tr>\n",
       "  </tbody>\n",
       "</table>\n",
       "</div>"
      ],
      "text/plain": [
       "         visitors\n",
       "count   62.000000\n",
       "mean   607.290323\n",
       "std    114.400560\n",
       "min    361.000000\n",
       "25%    534.000000\n",
       "50%    624.500000\n",
       "75%    710.500000\n",
       "max    770.000000"
      ]
     },
     "execution_count": 11,
     "metadata": {},
     "output_type": "execute_result"
    }
   ],
   "source": [
    "visitors.info()\n",
    "visitors.describe()"
   ]
  },
  {
   "cell_type": "code",
   "execution_count": 12,
   "metadata": {},
   "outputs": [
    {
     "data": {
      "text/plain": [
       "0"
      ]
     },
     "execution_count": 12,
     "metadata": {},
     "output_type": "execute_result"
    }
   ],
   "source": [
    "visitors.duplicated().sum()"
   ]
  },
  {
   "cell_type": "code",
   "execution_count": 13,
   "metadata": {},
   "outputs": [],
   "source": [
    "visitors['date'] = pd.to_datetime(visitors['date']).dt.date"
   ]
  },
  {
   "cell_type": "markdown",
   "metadata": {},
   "source": [
    "На данном этапе выяснили:  \n",
    "* пропуски и дубликаты отсутствуют.  \n",
    "* по каждому датасету сделали корректный формат времени.  \n",
    "* у orders переименовали столбцы."
   ]
  },
  {
   "cell_type": "code",
   "execution_count": 14,
   "metadata": {},
   "outputs": [
    {
     "data": {
      "text/plain": [
       "'заказы'"
      ]
     },
     "metadata": {},
     "output_type": "display_data"
    },
    {
     "data": {
      "text/plain": [
       "datetime.date(2019, 8, 1)"
      ]
     },
     "metadata": {},
     "output_type": "display_data"
    },
    {
     "data": {
      "text/plain": [
       "datetime.date(2019, 8, 31)"
      ]
     },
     "metadata": {},
     "output_type": "display_data"
    },
    {
     "data": {
      "text/plain": [
       "'пользователи'"
      ]
     },
     "metadata": {},
     "output_type": "display_data"
    },
    {
     "data": {
      "text/plain": [
       "datetime.date(2019, 8, 1)"
      ]
     },
     "metadata": {},
     "output_type": "display_data"
    },
    {
     "data": {
      "text/plain": [
       "datetime.date(2019, 8, 31)"
      ]
     },
     "metadata": {},
     "output_type": "display_data"
    }
   ],
   "source": [
    "display('заказы', orders['date'].min(), orders['date'].max(),\n",
    "'пользователи', visitors['date'].min(), visitors['date'].max())"
   ]
  },
  {
   "cell_type": "code",
   "execution_count": 15,
   "metadata": {},
   "outputs": [
    {
     "data": {
      "text/html": [
       "<div>\n",
       "<style scoped>\n",
       "    .dataframe tbody tr th:only-of-type {\n",
       "        vertical-align: middle;\n",
       "    }\n",
       "\n",
       "    .dataframe tbody tr th {\n",
       "        vertical-align: top;\n",
       "    }\n",
       "\n",
       "    .dataframe thead th {\n",
       "        text-align: right;\n",
       "    }\n",
       "</style>\n",
       "<table border=\"1\" class=\"dataframe\">\n",
       "  <thead>\n",
       "    <tr style=\"text-align: right;\">\n",
       "      <th></th>\n",
       "      <th>transaction_id</th>\n",
       "    </tr>\n",
       "    <tr>\n",
       "      <th>group</th>\n",
       "      <th></th>\n",
       "    </tr>\n",
       "  </thead>\n",
       "  <tbody>\n",
       "    <tr>\n",
       "      <th>A</th>\n",
       "      <td>557</td>\n",
       "    </tr>\n",
       "    <tr>\n",
       "      <th>B</th>\n",
       "      <td>640</td>\n",
       "    </tr>\n",
       "  </tbody>\n",
       "</table>\n",
       "</div>"
      ],
      "text/plain": [
       "       transaction_id\n",
       "group                \n",
       "A                 557\n",
       "B                 640"
      ]
     },
     "metadata": {},
     "output_type": "display_data"
    },
    {
     "data": {
      "text/html": [
       "<div>\n",
       "<style scoped>\n",
       "    .dataframe tbody tr th:only-of-type {\n",
       "        vertical-align: middle;\n",
       "    }\n",
       "\n",
       "    .dataframe tbody tr th {\n",
       "        vertical-align: top;\n",
       "    }\n",
       "\n",
       "    .dataframe thead th {\n",
       "        text-align: right;\n",
       "    }\n",
       "</style>\n",
       "<table border=\"1\" class=\"dataframe\">\n",
       "  <thead>\n",
       "    <tr style=\"text-align: right;\">\n",
       "      <th></th>\n",
       "      <th>visitors</th>\n",
       "    </tr>\n",
       "    <tr>\n",
       "      <th>group</th>\n",
       "      <th></th>\n",
       "    </tr>\n",
       "  </thead>\n",
       "  <tbody>\n",
       "    <tr>\n",
       "      <th>A</th>\n",
       "      <td>18736</td>\n",
       "    </tr>\n",
       "    <tr>\n",
       "      <th>B</th>\n",
       "      <td>18916</td>\n",
       "    </tr>\n",
       "  </tbody>\n",
       "</table>\n",
       "</div>"
      ],
      "text/plain": [
       "       visitors\n",
       "group          \n",
       "A         18736\n",
       "B         18916"
      ]
     },
     "metadata": {},
     "output_type": "display_data"
    }
   ],
   "source": [
    "display(orders.groupby('group').agg({'transaction_id': 'count'}))\n",
    "display(visitors.groupby('group').agg({'visitors': 'sum'}))"
   ]
  },
  {
   "cell_type": "markdown",
   "metadata": {},
   "source": [
    "* период в файлах совпадает.  \n",
    "* выяснили, что 58 человек попали в обе группы, что незначительно исказит результат."
   ]
  },
  {
   "cell_type": "code",
   "execution_count": 17,
   "metadata": {},
   "outputs": [
    {
     "name": "stdout",
     "output_type": "stream",
     "text": [
      "58\n"
     ]
    }
   ],
   "source": [
    "users_a = orders.query('group == \"A\"')['visitor_id']\n",
    "users_b = orders.query('group == \"B\"')['visitor_id']\n",
    "orders_ab = orders.query('visitor_id in @users_a and visitor_id in @users_b')\n",
    "print(orders_ab['visitor_id'].nunique())"
   ]
  },
  {
   "cell_type": "code",
   "execution_count": 18,
   "metadata": {},
   "outputs": [],
   "source": [
    "orders = orders.query('visitor_id not in @orders_ab[\"visitor_id\"]')"
   ]
  },
  {
   "cell_type": "code",
   "execution_count": 19,
   "metadata": {},
   "outputs": [
    {
     "data": {
      "text/plain": [
       "group\n",
       "A    468\n",
       "B    548\n",
       "Name: visitor_id, dtype: int64"
      ]
     },
     "execution_count": 19,
     "metadata": {},
     "output_type": "execute_result"
    }
   ],
   "source": [
    "orders.groupby('group')['visitor_id'].count()"
   ]
  },
  {
   "cell_type": "markdown",
   "metadata": {},
   "source": [
    "## Кумулятивные показатели"
   ]
  },
  {
   "cell_type": "markdown",
   "metadata": {},
   "source": [
    "**Подготовка данных.**"
   ]
  },
  {
   "cell_type": "code",
   "execution_count": 20,
   "metadata": {},
   "outputs": [
    {
     "data": {
      "text/html": [
       "<div>\n",
       "<style scoped>\n",
       "    .dataframe tbody tr th:only-of-type {\n",
       "        vertical-align: middle;\n",
       "    }\n",
       "\n",
       "    .dataframe tbody tr th {\n",
       "        vertical-align: top;\n",
       "    }\n",
       "\n",
       "    .dataframe thead th {\n",
       "        text-align: right;\n",
       "    }\n",
       "</style>\n",
       "<table border=\"1\" class=\"dataframe\">\n",
       "  <thead>\n",
       "    <tr style=\"text-align: right;\">\n",
       "      <th></th>\n",
       "      <th>date</th>\n",
       "      <th>group</th>\n",
       "    </tr>\n",
       "  </thead>\n",
       "  <tbody>\n",
       "    <tr>\n",
       "      <th>0</th>\n",
       "      <td>2019-08-15</td>\n",
       "      <td>B</td>\n",
       "    </tr>\n",
       "    <tr>\n",
       "      <th>7</th>\n",
       "      <td>2019-08-15</td>\n",
       "      <td>A</td>\n",
       "    </tr>\n",
       "    <tr>\n",
       "      <th>45</th>\n",
       "      <td>2019-08-16</td>\n",
       "      <td>A</td>\n",
       "    </tr>\n",
       "    <tr>\n",
       "      <th>47</th>\n",
       "      <td>2019-08-16</td>\n",
       "      <td>B</td>\n",
       "    </tr>\n",
       "    <tr>\n",
       "      <th>55</th>\n",
       "      <td>2019-08-01</td>\n",
       "      <td>A</td>\n",
       "    </tr>\n",
       "  </tbody>\n",
       "</table>\n",
       "</div>"
      ],
      "text/plain": [
       "          date group\n",
       "0   2019-08-15     B\n",
       "7   2019-08-15     A\n",
       "45  2019-08-16     A\n",
       "47  2019-08-16     B\n",
       "55  2019-08-01     A"
      ]
     },
     "execution_count": 20,
     "metadata": {},
     "output_type": "execute_result"
    }
   ],
   "source": [
    "dates_groups = orders[['date','group']].drop_duplicates()\n",
    "dates_groups.head()"
   ]
  },
  {
   "cell_type": "code",
   "execution_count": 21,
   "metadata": {},
   "outputs": [
    {
     "data": {
      "text/html": [
       "<div>\n",
       "<style scoped>\n",
       "    .dataframe tbody tr th:only-of-type {\n",
       "        vertical-align: middle;\n",
       "    }\n",
       "\n",
       "    .dataframe tbody tr th {\n",
       "        vertical-align: top;\n",
       "    }\n",
       "\n",
       "    .dataframe thead th {\n",
       "        text-align: right;\n",
       "    }\n",
       "</style>\n",
       "<table border=\"1\" class=\"dataframe\">\n",
       "  <thead>\n",
       "    <tr style=\"text-align: right;\">\n",
       "      <th></th>\n",
       "      <th>date</th>\n",
       "      <th>group</th>\n",
       "      <th>transaction_id</th>\n",
       "      <th>visitor_id</th>\n",
       "      <th>revenue</th>\n",
       "    </tr>\n",
       "  </thead>\n",
       "  <tbody>\n",
       "    <tr>\n",
       "      <th>55</th>\n",
       "      <td>2019-08-01</td>\n",
       "      <td>A</td>\n",
       "      <td>23</td>\n",
       "      <td>19</td>\n",
       "      <td>142779</td>\n",
       "    </tr>\n",
       "    <tr>\n",
       "      <th>66</th>\n",
       "      <td>2019-08-01</td>\n",
       "      <td>B</td>\n",
       "      <td>17</td>\n",
       "      <td>17</td>\n",
       "      <td>59758</td>\n",
       "    </tr>\n",
       "    <tr>\n",
       "      <th>175</th>\n",
       "      <td>2019-08-02</td>\n",
       "      <td>A</td>\n",
       "      <td>42</td>\n",
       "      <td>36</td>\n",
       "      <td>234381</td>\n",
       "    </tr>\n",
       "    <tr>\n",
       "      <th>173</th>\n",
       "      <td>2019-08-02</td>\n",
       "      <td>B</td>\n",
       "      <td>40</td>\n",
       "      <td>39</td>\n",
       "      <td>221801</td>\n",
       "    </tr>\n",
       "    <tr>\n",
       "      <th>291</th>\n",
       "      <td>2019-08-03</td>\n",
       "      <td>A</td>\n",
       "      <td>66</td>\n",
       "      <td>60</td>\n",
       "      <td>346854</td>\n",
       "    </tr>\n",
       "  </tbody>\n",
       "</table>\n",
       "</div>"
      ],
      "text/plain": [
       "           date group  transaction_id  visitor_id  revenue\n",
       "55   2019-08-01     A              23          19   142779\n",
       "66   2019-08-01     B              17          17    59758\n",
       "175  2019-08-02     A              42          36   234381\n",
       "173  2019-08-02     B              40          39   221801\n",
       "291  2019-08-03     A              66          60   346854"
      ]
     },
     "execution_count": 21,
     "metadata": {},
     "output_type": "execute_result"
    }
   ],
   "source": [
    "orders_agg = (dates_groups.apply(lambda x:\n",
    "    orders[np.logical_and(orders['date'] <= x['date'],orders['group'] == x['group'])]\n",
    "    .agg({'date' : 'max','group' : 'max','transaction_id' : pd.Series.nunique,'visitor_id' : pd.Series.nunique,\n",
    "     'revenue' : 'sum'}), axis=1)\n",
    "                .sort_values(by=['date','group']))\n",
    "orders_agg.head()"
   ]
  },
  {
   "cell_type": "code",
   "execution_count": 22,
   "metadata": {},
   "outputs": [
    {
     "data": {
      "text/html": [
       "<div>\n",
       "<style scoped>\n",
       "    .dataframe tbody tr th:only-of-type {\n",
       "        vertical-align: middle;\n",
       "    }\n",
       "\n",
       "    .dataframe tbody tr th {\n",
       "        vertical-align: top;\n",
       "    }\n",
       "\n",
       "    .dataframe thead th {\n",
       "        text-align: right;\n",
       "    }\n",
       "</style>\n",
       "<table border=\"1\" class=\"dataframe\">\n",
       "  <thead>\n",
       "    <tr style=\"text-align: right;\">\n",
       "      <th></th>\n",
       "      <th>date</th>\n",
       "      <th>group</th>\n",
       "      <th>visitors</th>\n",
       "    </tr>\n",
       "  </thead>\n",
       "  <tbody>\n",
       "    <tr>\n",
       "      <th>55</th>\n",
       "      <td>2019-08-01</td>\n",
       "      <td>A</td>\n",
       "      <td>719</td>\n",
       "    </tr>\n",
       "    <tr>\n",
       "      <th>66</th>\n",
       "      <td>2019-08-01</td>\n",
       "      <td>B</td>\n",
       "      <td>713</td>\n",
       "    </tr>\n",
       "    <tr>\n",
       "      <th>175</th>\n",
       "      <td>2019-08-02</td>\n",
       "      <td>A</td>\n",
       "      <td>1338</td>\n",
       "    </tr>\n",
       "    <tr>\n",
       "      <th>173</th>\n",
       "      <td>2019-08-02</td>\n",
       "      <td>B</td>\n",
       "      <td>1294</td>\n",
       "    </tr>\n",
       "    <tr>\n",
       "      <th>291</th>\n",
       "      <td>2019-08-03</td>\n",
       "      <td>A</td>\n",
       "      <td>1845</td>\n",
       "    </tr>\n",
       "  </tbody>\n",
       "</table>\n",
       "</div>"
      ],
      "text/plain": [
       "           date group  visitors\n",
       "55   2019-08-01     A       719\n",
       "66   2019-08-01     B       713\n",
       "175  2019-08-02     A      1338\n",
       "173  2019-08-02     B      1294\n",
       "291  2019-08-03     A      1845"
      ]
     },
     "execution_count": 22,
     "metadata": {},
     "output_type": "execute_result"
    }
   ],
   "source": [
    "visitors_agg = (dates_groups.apply(lambda x:\n",
    "    visitors[np.logical_and(visitors['date'] <= x['date'], visitors['group'] == x['group'])]\n",
    "    .agg({'date' : 'max', 'group' : 'max', 'visitors' : 'sum'}), axis=1)\n",
    "                        .sort_values(by=['date','group']))\n",
    "visitors_agg.head()"
   ]
  },
  {
   "cell_type": "code",
   "execution_count": 23,
   "metadata": {},
   "outputs": [
    {
     "data": {
      "text/html": [
       "<div>\n",
       "<style scoped>\n",
       "    .dataframe tbody tr th:only-of-type {\n",
       "        vertical-align: middle;\n",
       "    }\n",
       "\n",
       "    .dataframe tbody tr th {\n",
       "        vertical-align: top;\n",
       "    }\n",
       "\n",
       "    .dataframe thead th {\n",
       "        text-align: right;\n",
       "    }\n",
       "</style>\n",
       "<table border=\"1\" class=\"dataframe\">\n",
       "  <thead>\n",
       "    <tr style=\"text-align: right;\">\n",
       "      <th></th>\n",
       "      <th>date</th>\n",
       "      <th>group</th>\n",
       "      <th>orders</th>\n",
       "      <th>buyers</th>\n",
       "      <th>revenue</th>\n",
       "      <th>visitors</th>\n",
       "    </tr>\n",
       "  </thead>\n",
       "  <tbody>\n",
       "    <tr>\n",
       "      <th>0</th>\n",
       "      <td>2019-08-01</td>\n",
       "      <td>A</td>\n",
       "      <td>23</td>\n",
       "      <td>19</td>\n",
       "      <td>142779</td>\n",
       "      <td>719</td>\n",
       "    </tr>\n",
       "    <tr>\n",
       "      <th>1</th>\n",
       "      <td>2019-08-01</td>\n",
       "      <td>B</td>\n",
       "      <td>17</td>\n",
       "      <td>17</td>\n",
       "      <td>59758</td>\n",
       "      <td>713</td>\n",
       "    </tr>\n",
       "    <tr>\n",
       "      <th>2</th>\n",
       "      <td>2019-08-02</td>\n",
       "      <td>A</td>\n",
       "      <td>42</td>\n",
       "      <td>36</td>\n",
       "      <td>234381</td>\n",
       "      <td>1338</td>\n",
       "    </tr>\n",
       "    <tr>\n",
       "      <th>3</th>\n",
       "      <td>2019-08-02</td>\n",
       "      <td>B</td>\n",
       "      <td>40</td>\n",
       "      <td>39</td>\n",
       "      <td>221801</td>\n",
       "      <td>1294</td>\n",
       "    </tr>\n",
       "    <tr>\n",
       "      <th>4</th>\n",
       "      <td>2019-08-03</td>\n",
       "      <td>A</td>\n",
       "      <td>66</td>\n",
       "      <td>60</td>\n",
       "      <td>346854</td>\n",
       "      <td>1845</td>\n",
       "    </tr>\n",
       "  </tbody>\n",
       "</table>\n",
       "</div>"
      ],
      "text/plain": [
       "         date group  orders  buyers  revenue  visitors\n",
       "0  2019-08-01     A      23      19   142779       719\n",
       "1  2019-08-01     B      17      17    59758       713\n",
       "2  2019-08-02     A      42      36   234381      1338\n",
       "3  2019-08-02     B      40      39   221801      1294\n",
       "4  2019-08-03     A      66      60   346854      1845"
      ]
     },
     "execution_count": 23,
     "metadata": {},
     "output_type": "execute_result"
    }
   ],
   "source": [
    "c_data = orders_agg.merge(visitors_agg, left_on=['date', 'group'], right_on=['date', 'group'])\n",
    "c_data.columns = ['date', 'group', 'orders', 'buyers', 'revenue', 'visitors']\n",
    "c_data.head()"
   ]
  },
  {
   "cell_type": "code",
   "execution_count": 24,
   "metadata": {},
   "outputs": [],
   "source": [
    "c_rev_a = c_data[c_data['group']=='A'][['date','revenue', 'orders']]\n",
    "c_rev_b = c_data[c_data['group']=='B'][['date','revenue', 'orders']]"
   ]
  },
  {
   "cell_type": "markdown",
   "metadata": {},
   "source": [
    "1. создадали таблицу с уникальными значениями даты и группы, удалили дубликаты.  \n",
    "2. создадали таблицу, где есть:\n",
    "   * дата\n",
    "   * группа \n",
    "   * количество уникальных заказов\n",
    "   * количество уникальных пользователей, совершивших заказ\n",
    "   * суммарная выручка\n",
    "3. создадили таблицу, где есть:  \n",
    "   * дата\n",
    "   * группа\n",
    "   * количество уникальных посетителей\n",
    "4. объеденили таблицы orders_agg и visitors_agg, тем самым создали общую кумулятивную таблицу.  \n",
    "5. разделили общую таблицу по группам."
   ]
  },
  {
   "cell_type": "markdown",
   "metadata": {},
   "source": [
    "### Построим график кумулятивной выручки по группам. Сделаем выводы и предположения."
   ]
  },
  {
   "cell_type": "code",
   "execution_count": 25,
   "metadata": {},
   "outputs": [
    {
     "data": {
      "image/png": "[encoded data removed]",
      "text/plain": [
       "<Figure size 1296x576 with 1 Axes>"
      ]
     },
     "metadata": {
      "needs_background": "light"
     },
     "output_type": "display_data"
    }
   ],
   "source": [
    "plt.figure(figsize=(18,8))\n",
    "plt.plot(c_rev_a['date'], c_rev_a['revenue'], label='A')\n",
    "plt.plot(c_rev_b['date'], c_rev_b['revenue'], label='B')\n",
    "plt.title('Кумулятивная выручка по группам')\n",
    "plt.xlabel(\"Дата\")\n",
    "plt.ylabel(\"Выручка\")\n",
    "plt.legend()\n",
    "plt.show()"
   ]
  },
  {
   "cell_type": "markdown",
   "metadata": {},
   "source": [
    "Группа В стала больше расти на 5 день и показала аномально резкий скачок на третьей неделе теста. Это может быть связано с увеличением количества крупных заказов. В связи с этим на данном этапе нельзя сделать вывод."
   ]
  },
  {
   "cell_type": "markdown",
   "metadata": {},
   "source": [
    "### Построим график кумулятивного среднего чека по группам. Сделаем выводы и предположения"
   ]
  },
  {
   "cell_type": "code",
   "execution_count": 26,
   "metadata": {},
   "outputs": [
    {
     "data": {
      "image/png": "[encoded data removed]",
      "text/plain": [
       "<Figure size 1296x576 with 1 Axes>"
      ]
     },
     "metadata": {
      "needs_background": "light"
     },
     "output_type": "display_data"
    }
   ],
   "source": [
    "plt.figure(figsize=(18,8))\n",
    "plt.plot(c_rev_a['date'], c_rev_a['revenue'] / c_rev_a['orders'], label='A')\n",
    "plt.plot(c_rev_b['date'], c_rev_b['revenue'] / c_rev_b['orders'], label='B')\n",
    "plt.title('Кумулятивный средний чек по группам')\n",
    "plt.xlabel(\"Дата\")\n",
    "plt.ylabel(\"Сумма\")\n",
    "plt.legend()\n",
    "plt.show()"
   ]
  },
  {
   "cell_type": "markdown",
   "metadata": {},
   "source": [
    "На основании этого графика можно предполодить, что теория верна. У группы В резко вырос средний чек.  \n",
    "В то время, как у группы А он примерно на одном уровне с середины месяца."
   ]
  },
  {
   "cell_type": "markdown",
   "metadata": {},
   "source": [
    "### Построим график относительного изменения кумулятивного среднего чека группы B к группе A. Сделаем выводы и предположения"
   ]
  },
  {
   "cell_type": "code",
   "execution_count": 27,
   "metadata": {},
   "outputs": [
    {
     "data": {
      "text/html": [
       "<div>\n",
       "<style scoped>\n",
       "    .dataframe tbody tr th:only-of-type {\n",
       "        vertical-align: middle;\n",
       "    }\n",
       "\n",
       "    .dataframe tbody tr th {\n",
       "        vertical-align: top;\n",
       "    }\n",
       "\n",
       "    .dataframe thead th {\n",
       "        text-align: right;\n",
       "    }\n",
       "</style>\n",
       "<table border=\"1\" class=\"dataframe\">\n",
       "  <thead>\n",
       "    <tr style=\"text-align: right;\">\n",
       "      <th></th>\n",
       "      <th>date</th>\n",
       "      <th>revenue_a</th>\n",
       "      <th>orders_a</th>\n",
       "      <th>revenue_b</th>\n",
       "      <th>orders_b</th>\n",
       "    </tr>\n",
       "  </thead>\n",
       "  <tbody>\n",
       "    <tr>\n",
       "      <th>0</th>\n",
       "      <td>2019-08-01</td>\n",
       "      <td>142779</td>\n",
       "      <td>23</td>\n",
       "      <td>59758</td>\n",
       "      <td>17</td>\n",
       "    </tr>\n",
       "    <tr>\n",
       "      <th>1</th>\n",
       "      <td>2019-08-02</td>\n",
       "      <td>234381</td>\n",
       "      <td>42</td>\n",
       "      <td>221801</td>\n",
       "      <td>40</td>\n",
       "    </tr>\n",
       "    <tr>\n",
       "      <th>2</th>\n",
       "      <td>2019-08-03</td>\n",
       "      <td>346854</td>\n",
       "      <td>66</td>\n",
       "      <td>288850</td>\n",
       "      <td>54</td>\n",
       "    </tr>\n",
       "    <tr>\n",
       "      <th>3</th>\n",
       "      <td>2019-08-04</td>\n",
       "      <td>388030</td>\n",
       "      <td>77</td>\n",
       "      <td>385740</td>\n",
       "      <td>68</td>\n",
       "    </tr>\n",
       "    <tr>\n",
       "      <th>4</th>\n",
       "      <td>2019-08-05</td>\n",
       "      <td>474413</td>\n",
       "      <td>99</td>\n",
       "      <td>475648</td>\n",
       "      <td>89</td>\n",
       "    </tr>\n",
       "  </tbody>\n",
       "</table>\n",
       "</div>"
      ],
      "text/plain": [
       "         date  revenue_a  orders_a  revenue_b  orders_b\n",
       "0  2019-08-01     142779        23      59758        17\n",
       "1  2019-08-02     234381        42     221801        40\n",
       "2  2019-08-03     346854        66     288850        54\n",
       "3  2019-08-04     388030        77     385740        68\n",
       "4  2019-08-05     474413        99     475648        89"
      ]
     },
     "execution_count": 27,
     "metadata": {},
     "output_type": "execute_result"
    }
   ],
   "source": [
    "merged_c_rev = (c_rev_a.merge(c_rev_b,left_on='date', right_on='date', how='left', suffixes=['_a', '_b']))\n",
    "merged_c_rev.head()"
   ]
  },
  {
   "cell_type": "markdown",
   "metadata": {},
   "source": [
    "Создали таблицу кумулятивных данных групп."
   ]
  },
  {
   "cell_type": "code",
   "execution_count": 28,
   "metadata": {},
   "outputs": [
    {
     "data": {
      "image/png": "[encoded data removed]",
      "text/plain": [
       "<Figure size 1296x576 with 1 Axes>"
      ]
     },
     "metadata": {
      "needs_background": "light"
     },
     "output_type": "display_data"
    }
   ],
   "source": [
    "plt.figure(figsize=(18,8))\n",
    "plt.plot(merged_c_rev['date'],\n",
    "         (merged_c_rev['revenue_b'] / merged_c_rev['orders_b']) / \n",
    "         (merged_c_rev['revenue_a'] / merged_c_rev['orders_a'])-1)\n",
    "plt.title('Относительное изменение кумулятивного среднего чека группы B к группе A')\n",
    "plt.axhline(y=0, color='green', linestyle='--')\n",
    "plt.show()"
   ]
  },
  {
   "cell_type": "markdown",
   "metadata": {},
   "source": [
    "Относительное изменение кумулятивного среднего чека группы В схоже с графиком кумулятивного среднего чека.\n"
   ]
  },
  {
   "cell_type": "markdown",
   "metadata": {},
   "source": [
    "### Построим график кумулятивного среднего количества заказов на посетителя по группам. Сделаем выводы и предположения"
   ]
  },
  {
   "cell_type": "code",
   "execution_count": 29,
   "metadata": {},
   "outputs": [
    {
     "data": {
      "text/html": [
       "<div>\n",
       "<style scoped>\n",
       "    .dataframe tbody tr th:only-of-type {\n",
       "        vertical-align: middle;\n",
       "    }\n",
       "\n",
       "    .dataframe tbody tr th {\n",
       "        vertical-align: top;\n",
       "    }\n",
       "\n",
       "    .dataframe thead th {\n",
       "        text-align: right;\n",
       "    }\n",
       "</style>\n",
       "<table border=\"1\" class=\"dataframe\">\n",
       "  <thead>\n",
       "    <tr style=\"text-align: right;\">\n",
       "      <th></th>\n",
       "      <th>date</th>\n",
       "      <th>group</th>\n",
       "      <th>orders</th>\n",
       "      <th>buyers</th>\n",
       "      <th>revenue</th>\n",
       "      <th>visitors</th>\n",
       "      <th>conversion</th>\n",
       "    </tr>\n",
       "  </thead>\n",
       "  <tbody>\n",
       "    <tr>\n",
       "      <th>0</th>\n",
       "      <td>2019-08-01</td>\n",
       "      <td>A</td>\n",
       "      <td>23</td>\n",
       "      <td>19</td>\n",
       "      <td>142779</td>\n",
       "      <td>719</td>\n",
       "      <td>0.031989</td>\n",
       "    </tr>\n",
       "    <tr>\n",
       "      <th>1</th>\n",
       "      <td>2019-08-01</td>\n",
       "      <td>B</td>\n",
       "      <td>17</td>\n",
       "      <td>17</td>\n",
       "      <td>59758</td>\n",
       "      <td>713</td>\n",
       "      <td>0.023843</td>\n",
       "    </tr>\n",
       "    <tr>\n",
       "      <th>2</th>\n",
       "      <td>2019-08-02</td>\n",
       "      <td>A</td>\n",
       "      <td>42</td>\n",
       "      <td>36</td>\n",
       "      <td>234381</td>\n",
       "      <td>1338</td>\n",
       "      <td>0.031390</td>\n",
       "    </tr>\n",
       "    <tr>\n",
       "      <th>3</th>\n",
       "      <td>2019-08-02</td>\n",
       "      <td>B</td>\n",
       "      <td>40</td>\n",
       "      <td>39</td>\n",
       "      <td>221801</td>\n",
       "      <td>1294</td>\n",
       "      <td>0.030912</td>\n",
       "    </tr>\n",
       "    <tr>\n",
       "      <th>4</th>\n",
       "      <td>2019-08-03</td>\n",
       "      <td>A</td>\n",
       "      <td>66</td>\n",
       "      <td>60</td>\n",
       "      <td>346854</td>\n",
       "      <td>1845</td>\n",
       "      <td>0.035772</td>\n",
       "    </tr>\n",
       "  </tbody>\n",
       "</table>\n",
       "</div>"
      ],
      "text/plain": [
       "         date group  orders  buyers  revenue  visitors  conversion\n",
       "0  2019-08-01     A      23      19   142779       719    0.031989\n",
       "1  2019-08-01     B      17      17    59758       713    0.023843\n",
       "2  2019-08-02     A      42      36   234381      1338    0.031390\n",
       "3  2019-08-02     B      40      39   221801      1294    0.030912\n",
       "4  2019-08-03     A      66      60   346854      1845    0.035772"
      ]
     },
     "execution_count": 29,
     "metadata": {},
     "output_type": "execute_result"
    }
   ],
   "source": [
    "c_data['conversion'] = c_data['orders'] / c_data['visitors']\n",
    "c_data_a = c_data[c_data['group']=='A']\n",
    "c_data_b = c_data[c_data['group']=='B']\n",
    "\n",
    "c_data.head()"
   ]
  },
  {
   "cell_type": "markdown",
   "metadata": {},
   "source": [
    "Добавили столбец с конверсией к кумулятивной таблице и создали две таблицы с разделением по группам."
   ]
  },
  {
   "cell_type": "code",
   "execution_count": 30,
   "metadata": {},
   "outputs": [
    {
     "data": {
      "image/png": "[encoded data removed]",
      "text/plain": [
       "<Figure size 1296x576 with 1 Axes>"
      ]
     },
     "metadata": {
      "needs_background": "light"
     },
     "output_type": "display_data"
    }
   ],
   "source": [
    "plt.figure(figsize=(18,8))\n",
    "plt.plot(c_data_a['date'], c_data_a['conversion'], label='A');\n",
    "plt.plot(c_data_b['date'], c_data_b['conversion'], label='B');\n",
    "plt.title('Кумулятивная конверсия по группам')\n",
    "plt.xlabel(\"Дата\")\n",
    "plt.ylabel(\"Кумулятивная конверсия\")\n",
    "plt.legend()\n",
    "plt.show()"
   ]
  },
  {
   "cell_type": "markdown",
   "metadata": {},
   "source": [
    "В начале месяца конверсия группы А была изначально выше группы В, но на шестой день конверсия группы B стала выше группы А.  \n",
    "Спустя две недели конверсии обоих групп начали стабилизироваться."
   ]
  },
  {
   "cell_type": "markdown",
   "metadata": {},
   "source": [
    "### Построим график относительного изменения кумулятивного среднего количества заказов на посетителя группы B к группе A. Сделаем выводы и предположения"
   ]
  },
  {
   "cell_type": "code",
   "execution_count": 31,
   "metadata": {},
   "outputs": [
    {
     "data": {
      "text/html": [
       "<div>\n",
       "<style scoped>\n",
       "    .dataframe tbody tr th:only-of-type {\n",
       "        vertical-align: middle;\n",
       "    }\n",
       "\n",
       "    .dataframe tbody tr th {\n",
       "        vertical-align: top;\n",
       "    }\n",
       "\n",
       "    .dataframe thead th {\n",
       "        text-align: right;\n",
       "    }\n",
       "</style>\n",
       "<table border=\"1\" class=\"dataframe\">\n",
       "  <thead>\n",
       "    <tr style=\"text-align: right;\">\n",
       "      <th></th>\n",
       "      <th>date</th>\n",
       "      <th>conversion_a</th>\n",
       "      <th>conversion_b</th>\n",
       "    </tr>\n",
       "  </thead>\n",
       "  <tbody>\n",
       "    <tr>\n",
       "      <th>0</th>\n",
       "      <td>2019-08-01</td>\n",
       "      <td>0.031989</td>\n",
       "      <td>0.023843</td>\n",
       "    </tr>\n",
       "    <tr>\n",
       "      <th>1</th>\n",
       "      <td>2019-08-02</td>\n",
       "      <td>0.031390</td>\n",
       "      <td>0.030912</td>\n",
       "    </tr>\n",
       "    <tr>\n",
       "      <th>2</th>\n",
       "      <td>2019-08-03</td>\n",
       "      <td>0.035772</td>\n",
       "      <td>0.029950</td>\n",
       "    </tr>\n",
       "    <tr>\n",
       "      <th>3</th>\n",
       "      <td>2019-08-04</td>\n",
       "      <td>0.030055</td>\n",
       "      <td>0.026428</td>\n",
       "    </tr>\n",
       "    <tr>\n",
       "      <th>4</th>\n",
       "      <td>2019-08-05</td>\n",
       "      <td>0.029837</td>\n",
       "      <td>0.027134</td>\n",
       "    </tr>\n",
       "  </tbody>\n",
       "</table>\n",
       "</div>"
      ],
      "text/plain": [
       "         date  conversion_a  conversion_b\n",
       "0  2019-08-01      0.031989      0.023843\n",
       "1  2019-08-02      0.031390      0.030912\n",
       "2  2019-08-03      0.035772      0.029950\n",
       "3  2019-08-04      0.030055      0.026428\n",
       "4  2019-08-05      0.029837      0.027134"
      ]
     },
     "execution_count": 31,
     "metadata": {},
     "output_type": "execute_result"
    }
   ],
   "source": [
    "mer_c_conversions = (c_data_a[['date','conversion']]\n",
    "                                     .merge(c_data_b[['date','conversion']],\n",
    "                                            left_on='date', right_on='date',\n",
    "                                            how='left', suffixes=['_a', '_b']))\n",
    "mer_c_conversions.head() "
   ]
  },
  {
   "cell_type": "markdown",
   "metadata": {},
   "source": [
    "Создали таблицу кумулятивной конверсии."
   ]
  },
  {
   "cell_type": "code",
   "execution_count": 32,
   "metadata": {},
   "outputs": [
    {
     "data": {
      "image/png": "[encoded data removed]",
      "text/plain": [
       "<Figure size 1296x576 with 1 Axes>"
      ]
     },
     "metadata": {
      "needs_background": "light"
     },
     "output_type": "display_data"
    }
   ],
   "source": [
    "plt.figure(figsize=(18,8))\n",
    "plt.plot(mer_c_conversions['date'],\n",
    "         mer_c_conversions['conversion_b'] / mer_c_conversions['conversion_a']-1)\n",
    "plt.title('Относительное изменение кумулятивной конверсии группы B к группе A')\n",
    "plt.axhline(y=0, color='red', linestyle='--')\n",
    "plt.axhline(y=0.15, color='green', linestyle='--')\n",
    "plt.show()"
   ]
  },
  {
   "cell_type": "markdown",
   "metadata": {},
   "source": [
    "На 6 день начался рост конверсии группы В. И на 10 день стабилизировалась на уровне 15% выше группы А."
   ]
  },
  {
   "cell_type": "markdown",
   "metadata": {},
   "source": [
    "### Построим точечный график количества заказов по пользователям. Сделаем выводы и предположения"
   ]
  },
  {
   "cell_type": "code",
   "execution_count": 33,
   "metadata": {},
   "outputs": [
    {
     "data": {
      "text/html": [
       "<div>\n",
       "<style scoped>\n",
       "    .dataframe tbody tr th:only-of-type {\n",
       "        vertical-align: middle;\n",
       "    }\n",
       "\n",
       "    .dataframe tbody tr th {\n",
       "        vertical-align: top;\n",
       "    }\n",
       "\n",
       "    .dataframe thead th {\n",
       "        text-align: right;\n",
       "    }\n",
       "</style>\n",
       "<table border=\"1\" class=\"dataframe\">\n",
       "  <thead>\n",
       "    <tr style=\"text-align: right;\">\n",
       "      <th></th>\n",
       "      <th>visitor_id</th>\n",
       "      <th>orders</th>\n",
       "    </tr>\n",
       "  </thead>\n",
       "  <tbody>\n",
       "    <tr>\n",
       "      <th>908</th>\n",
       "      <td>3967698036</td>\n",
       "      <td>3</td>\n",
       "    </tr>\n",
       "    <tr>\n",
       "      <th>55</th>\n",
       "      <td>249864742</td>\n",
       "      <td>3</td>\n",
       "    </tr>\n",
       "    <tr>\n",
       "      <th>478</th>\n",
       "      <td>2108163459</td>\n",
       "      <td>3</td>\n",
       "    </tr>\n",
       "    <tr>\n",
       "      <th>687</th>\n",
       "      <td>2988190573</td>\n",
       "      <td>3</td>\n",
       "    </tr>\n",
       "    <tr>\n",
       "      <th>890</th>\n",
       "      <td>3908431265</td>\n",
       "      <td>3</td>\n",
       "    </tr>\n",
       "  </tbody>\n",
       "</table>\n",
       "</div>"
      ],
      "text/plain": [
       "     visitor_id  orders\n",
       "908  3967698036       3\n",
       "55    249864742       3\n",
       "478  2108163459       3\n",
       "687  2988190573       3\n",
       "890  3908431265       3"
      ]
     },
     "execution_count": 33,
     "metadata": {},
     "output_type": "execute_result"
    }
   ],
   "source": [
    "orders_per_u = (orders.drop(['group', 'revenue', 'date'], axis=1)\n",
    "                   .groupby('visitor_id', as_index=False)\n",
    "                   .agg({'transaction_id' : pd.Series.nunique}))\n",
    "orders_per_u.columns = ['visitor_id','orders']\n",
    "orders_per_u.sort_values(by='orders', ascending=False).head()"
   ]
  },
  {
   "cell_type": "markdown",
   "metadata": {},
   "source": [
    "Создали таблицу с количеством заказов каждого пользователя."
   ]
  },
  {
   "cell_type": "code",
   "execution_count": 34,
   "metadata": {},
   "outputs": [
    {
     "data": {
      "image/png": "[encoded data removed]",
      "text/plain": [
       "<Figure size 1224x504 with 1 Axes>"
      ]
     },
     "metadata": {
      "needs_background": "light"
     },
     "output_type": "display_data"
    }
   ],
   "source": [
    "plt.figure(figsize=(17,7))\n",
    "plt.scatter(pd.Series(range(0,len(orders_per_u['orders']))), orders_per_u['orders'])\n",
    "plt.title('Распределение количества заказов')\n",
    "plt.ylabel('Количество заказов пользователя')\n",
    "plt.xlabel('Номер пользователя в таблице')\n",
    "plt.show()"
   ]
  },
  {
   "cell_type": "markdown",
   "metadata": {},
   "source": [
    "Как правило, пользователи ограничиваются одним заказом, максимум двумя. Небольшое количество пользователей совершают от 3 до 11 заказов."
   ]
  },
  {
   "cell_type": "markdown",
   "metadata": {},
   "source": [
    "### Посчитаем 95-й и 99-й перцентили количества заказов на пользователя. Выберем границу для определения аномальных пользователей"
   ]
  },
  {
   "cell_type": "code",
   "execution_count": 35,
   "metadata": {},
   "outputs": [
    {
     "data": {
      "text/plain": [
       "array([1., 2.])"
      ]
     },
     "metadata": {},
     "output_type": "display_data"
    }
   ],
   "source": [
    "display(np.percentile(orders_per_u['orders'], [95, 99]))"
   ]
  },
  {
   "cell_type": "markdown",
   "metadata": {},
   "source": [
    "Делаем вывод, что из всех пользоваетелй только 5% делает больше 2 заказов, и 1% делает больше 4 заказов. Тех, кто делает больше 3 заказов, считаем аномальными."
   ]
  },
  {
   "cell_type": "markdown",
   "metadata": {},
   "source": [
    "### Построим точечный график стоимостей заказов. Сделаем выводы и предположения"
   ]
  },
  {
   "cell_type": "code",
   "execution_count": 36,
   "metadata": {},
   "outputs": [
    {
     "data": {
      "image/png": "[encoded data removed]",
      "text/plain": [
       "<Figure size 1296x576 with 1 Axes>"
      ]
     },
     "metadata": {
      "needs_background": "light"
     },
     "output_type": "display_data"
    }
   ],
   "source": [
    "plt.figure(figsize=(18,8))\n",
    "plt.scatter(pd.Series(range(0,len(orders['revenue']))), orders['revenue'])\n",
    "plt.title('Распределение стоимости заказов')\n",
    "plt.ylabel('Выручка')\n",
    "plt.xlabel('Номер заказа в таблице')\n",
    "plt.show()"
   ]
  },
  {
   "cell_type": "markdown",
   "metadata": {},
   "source": [
    "Посмотрим так же заказы до 220 тысяч."
   ]
  },
  {
   "cell_type": "code",
   "execution_count": 37,
   "metadata": {},
   "outputs": [
    {
     "data": {
      "image/png": "[encoded data removed]",
      "text/plain": [
       "<Figure size 1224x504 with 1 Axes>"
      ]
     },
     "metadata": {
      "needs_background": "light"
     },
     "output_type": "display_data"
    }
   ],
   "source": [
    "plt.figure(figsize=(17,7))\n",
    "plt.scatter(pd.Series(range(0,len(orders['revenue']))), orders['revenue'])\n",
    "plt.title('Распределение стоимости заказов до 220 тысяс')\n",
    "plt.ylabel('Выручка заказа')\n",
    "plt.xlabel('Номер заказа в таблице')\n",
    "plt.ylim(0,220000)\n",
    "plt.show()"
   ]
  },
  {
   "cell_type": "markdown",
   "metadata": {},
   "source": [
    "Как правило, сумма заказа до 25 тысяч. Немного реже заказы делают на сумму до 60 тысяч. Еденичные случаи заказов от 60 тысяч до 1.2 миллиона."
   ]
  },
  {
   "cell_type": "markdown",
   "metadata": {},
   "source": [
    "### Посчитаем 95-й и 99-й перцентили стоимости заказов. Выберем границу для определения аномальных заказов"
   ]
  },
  {
   "cell_type": "code",
   "execution_count": 38,
   "metadata": {},
   "outputs": [
    {
     "name": "stdout",
     "output_type": "stream",
     "text": [
      "[26785. 53904.]\n"
     ]
    }
   ],
   "source": [
    "print(np.percentile(orders['revenue'], [95, 99])) "
   ]
  },
  {
   "cell_type": "markdown",
   "metadata": {},
   "source": [
    "Делаем вывод, что из всех заказов только 5% на сумму 28 тысяч, и 1% свыше 58 тысяч. Тех, кто делает заказ на сумму свыше 28 тысяч, считаем аномальными."
   ]
  },
  {
   "cell_type": "markdown",
   "metadata": {},
   "source": [
    "### Подготовим \"сырые\" данные для изучения статистической значимости"
   ]
  },
  {
   "cell_type": "code",
   "execution_count": 39,
   "metadata": {},
   "outputs": [],
   "source": [
    "vis_daily_A = visitors[visitors['group']=='A'][['date', 'visitors']]\n",
    "vis_daily_A.columns = ['date', 'vis_per_date_A']\n",
    "\n",
    "vis_daily_B = visitors[visitors['group']=='B'][['date', 'visitors']]\n",
    "vis_daily_B.columns = ['date', 'vis_per_date_B']\n",
    "\n",
    "\n",
    "vis_cummulative_A = vis_daily_A.apply(lambda x: \n",
    "                        vis_daily_A[vis_daily_A['date'] <= x['date']].agg({\n",
    "                        'date' : 'max', 'vis_per_date_A' : 'sum'}), axis=1)\n",
    "vis_cummulative_A.columns = ['date', 'vis_cummulative_A']\n",
    "\n",
    "vis_cummulative_B = vis_daily_B.apply(lambda x: \n",
    "                        vis_daily_B[vis_daily_B['date'] <= x['date']].agg({\n",
    "                        'date' : 'max', 'vis_per_date_B' : 'sum'}), axis=1)\n",
    "vis_cummulative_B.columns = ['date', 'vis_cummulative_B']"
   ]
  },
  {
   "cell_type": "markdown",
   "metadata": {},
   "source": [
    "Создали таблицы ежедневного количества пользователей по группам и с кумулятивным количеством пользователей к дате по группам."
   ]
  },
  {
   "cell_type": "code",
   "execution_count": 40,
   "metadata": {},
   "outputs": [],
   "source": [
    "or_daily_A = orders[orders['group']=='A'][['date', 'transaction_id','visitor_id', 'revenue']].groupby(\n",
    "    'date', as_index=False).agg({'transaction_id' : pd.Series.nunique, 'revenue' : 'sum'})\n",
    "or_daily_A.columns = ['date', 'or_per_date_A', 'rev_per_date_A']\n",
    "\n",
    "or_daily_B = orders[orders['group']=='B'][['date', 'transaction_id','visitor_id', 'revenue']].groupby(\n",
    "    'date', as_index=False).agg({'transaction_id' : pd.Series.nunique, 'revenue' : 'sum'})\n",
    "or_daily_B.columns = ['date', 'or_per_date_B', 'rev_per_date_B']\n",
    "\n",
    "\n",
    "or_cummulative_A = or_daily_A.apply(lambda x: or_daily_A[or_daily_A['date'] <= x['date']].agg({\n",
    "                'date' : 'max',\n",
    "                'or_per_date_A' : 'sum',\n",
    "                'rev_per_date_A' : 'sum'}), axis=1).sort_values(by=['date'])\n",
    "or_cummulative_A.columns = ['date', 'or_сummulative_A', 'rev_сummulative_A']\n",
    "\n",
    "or_cummulative_B = or_daily_B.apply(lambda x: or_daily_B[or_daily_B['date'] <= x['date']].agg({\n",
    "                'date' : 'max',\n",
    "                'or_per_date_B' : 'sum',\n",
    "                'rev_per_date_B' : 'sum'}), axis=1).sort_values(by=['date'])\n",
    "or_cummulative_B.columns = ['date', 'or_сummulative_B', 'rev_сummulative_B']"
   ]
  },
  {
   "cell_type": "markdown",
   "metadata": {},
   "source": [
    "Создали таблицы с количеством заказов и размером выручки по группам и с кумулятивным количеством заказов и выручки."
   ]
  },
  {
   "cell_type": "code",
   "execution_count": 41,
   "metadata": {},
   "outputs": [],
   "source": [
    "data = (vis_daily_A\n",
    "        .merge(vis_daily_B, left_on='date', right_on='date', how='left')\n",
    "        .merge(vis_cummulative_A, left_on='date', right_on='date', how='left')\n",
    "        .merge(vis_cummulative_B, left_on='date', right_on='date', how='left')\n",
    "        .merge(or_daily_A, left_on='date', right_on='date', how='left')\n",
    "        .merge(or_daily_B, left_on='date', right_on='date', how='left')\n",
    "        .merge(or_cummulative_A, left_on='date', right_on='date', how='left')\n",
    "        .merge(or_cummulative_B, left_on='date', right_on='date', how='left'))"
   ]
  },
  {
   "cell_type": "markdown",
   "metadata": {},
   "source": [
    "Объеденили все таблицы."
   ]
  },
  {
   "cell_type": "code",
   "execution_count": 42,
   "metadata": {},
   "outputs": [],
   "source": [
    "or_by_vis_A = orders[orders['group']=='A'].groupby(\n",
    "    'visitor_id', as_index=False).agg({'transaction_id' : pd.Series.nunique})\n",
    "\n",
    "or_by_vis_A.columns = ['visitor_id', 'orders']\n",
    "\n",
    "or_by_vis_B = orders[orders['group']=='B'].groupby(\n",
    "    'visitor_id', as_index=False).agg({'transaction_id' : pd.Series.nunique})\n",
    "\n",
    "or_by_vis_B.columns = ['visitor_id', 'orders']\n",
    "\n",
    "sample_A = pd.concat([or_by_vis_A['orders'],\n",
    "                     pd.Series(0, index=np.arange(\n",
    "                     data['vis_per_date_A'].sum() -\n",
    "                     len(or_by_vis_A['orders'])),\n",
    "                     name='orders')],axis=0)\n",
    "\n",
    "sample_B = pd.concat([or_by_vis_B['orders'],\n",
    "                     pd.Series(0, index=np.arange(\n",
    "                     data['vis_per_date_B'].sum() -\n",
    "                     len(or_by_vis_B['orders'])), \n",
    "                     name='orders')],axis=0)"
   ]
  },
  {
   "cell_type": "markdown",
   "metadata": {},
   "source": [
    "Создали таблицы для каждой группы с количеством заказов по пользователям."
   ]
  },
  {
   "cell_type": "markdown",
   "metadata": {},
   "source": [
    "### Посчитаем статистическую значимость различий в среднем количестве заказов на посетителя между группами по «сырым» данным. Сделаем выводы и предположения"
   ]
  },
  {
   "cell_type": "markdown",
   "metadata": {},
   "source": [
    "Проверка будет с помощью непараметрического критерия Манна-Уитни.\n",
    "\n",
    "Нулевая гипотеза: статистически значимых различий в конверсии между группами нет.  \n",
    "Альтернативная гипотеза: статистически значимые различия в конверсии между группами есть.\n",
    "\n",
    "Уровень статистической значимости alpha = 0.05."
   ]
  },
  {
   "cell_type": "code",
   "execution_count": 43,
   "metadata": {},
   "outputs": [
    {
     "name": "stdout",
     "output_type": "stream",
     "text": [
      "p-value для конверсий: 0.011\n",
      "Отвергаем нулевую гипотезу\n",
      "Относительный прирост конверсии группы B: 15.98%\n"
     ]
    }
   ],
   "source": [
    "print('p-value для конверсий: {:.3f}'.format(st.mannwhitneyu(sample_A, sample_B)[1]))\n",
    "\n",
    "if st.mannwhitneyu(sample_A, sample_B)[1] < 0.05:\n",
    "    print(\"Отвергаем нулевую гипотезу\")\n",
    "else:\n",
    "    print(\"Не получилось отвергнуть нулевую гипотезу\")\n",
    "    \n",
    "print('Относительный прирост конверсии группы B: {:.2%}'.format((sample_B.mean()/sample_A.mean()) - 1))"
   ]
  },
  {
   "cell_type": "markdown",
   "metadata": {},
   "source": [
    "Нулевую гипотезу - отвергаем. Различая в конверсии есть, относительный прирост конверсии группы В составляет 13.81%. Но в этих выборках есть выбросы."
   ]
  },
  {
   "cell_type": "markdown",
   "metadata": {},
   "source": [
    "### Посчитаем статистическую значимость различий в среднем чеке заказа между группами по «сырым» данным. Сделаем выводы и предположения"
   ]
  },
  {
   "cell_type": "markdown",
   "metadata": {},
   "source": [
    "Проверка будет с помощью непараметрического критерия Манна-Уитни.  Так же посчитаем относительный прирост среднего чека в группе В.\n",
    "\n",
    "Нулевая гипотеза: различий в среднем чеке групп нет.  \n",
    "Альтернативная гипотеза: различия в среднем чеке есть.\n",
    "\n",
    "Уровень статистической значимости alpha = 0.05."
   ]
  },
  {
   "cell_type": "code",
   "execution_count": 44,
   "metadata": {},
   "outputs": [
    {
     "name": "stdout",
     "output_type": "stream",
     "text": [
      "p-value для среднего чека: 0.829\n",
      "Не получилось отвергнуть нулевую гипотезу\n",
      "Относительный прирост среднего чека группы B: 28.66%\n"
     ]
    }
   ],
   "source": [
    "pvalue_mean_ch = st.mannwhitneyu(orders.query('group == \"A\"')['revenue'], orders.query('group == \"B\"')['revenue'])[1]\n",
    "\n",
    "print('p-value для среднего чека: {:.3f}'.format(pvalue_mean_ch))\n",
    "\n",
    "if pvalue_mean_ch < 0.05:\n",
    "    print(\"Отвергаем нулевую гипотезу\")\n",
    "else:\n",
    "    print(\"Не получилось отвергнуть нулевую гипотезу\")\n",
    "\n",
    "print('Относительный прирост среднего чека группы B: {:.2%}'\n",
    "    .format((orders.query('group == \"B\"')['revenue'].mean() / orders.query('group == \"A\"')['revenue'].mean()) - 1))"
   ]
  },
  {
   "cell_type": "markdown",
   "metadata": {},
   "source": [
    "Нулевую гипотезу - не отвергаем.  \n",
    "Но можем предположить влияние аномальных заказов на прирост среднего чека в группе В, который составляет 25.87%."
   ]
  },
  {
   "cell_type": "markdown",
   "metadata": {},
   "source": [
    "### Подготовка очищенных данных для изучения статистической значимости"
   ]
  },
  {
   "cell_type": "code",
   "execution_count": 45,
   "metadata": {},
   "outputs": [
    {
     "name": "stdout",
     "output_type": "stream",
     "text": [
      "Количество аномальных пользователей: 55\n",
      "Доля аномальных пользователей 5.65%\n"
     ]
    }
   ],
   "source": [
    "vis_orders = pd.concat([or_by_vis_A.query('orders > 2')['visitor_id'], \n",
    "                        or_by_vis_B.query('orders > 2')['visitor_id']], axis = 0)\n",
    "vis_orders_e = orders.query('revenue > 28000')['visitor_id']\n",
    "\n",
    "\n",
    "a_visitors = (pd.concat([vis_orders, vis_orders_e], axis = 0).drop_duplicates().sort_values())\n",
    "\n",
    "print('Количество аномальных пользователей:',len(a_visitors))\n",
    "print('Доля аномальных пользователей {:.2%}'.format(len(a_visitors) / len(orders['visitor_id'].unique())))"
   ]
  },
  {
   "cell_type": "markdown",
   "metadata": {},
   "source": [
    "Ранее выяснили, что пользователи, которые сделали более 2 заказов на сумму свыше 26 тысяч рублей, считаем аномальными. Их доля составляет 5.65%. Исключив их, сможем более точно изучить данные.  \n",
    "\n",
    "Cоздадим таблицы по пользователям для каждой группы без аномальных пользователей с количеством заказов."
   ]
  },
  {
   "cell_type": "code",
   "execution_count": 46,
   "metadata": {},
   "outputs": [],
   "source": [
    "sample_A_filter = pd.concat([or_by_vis_A[np.logical_not(or_by_vis_A['visitor_id']\n",
    "                            .isin(a_visitors))]['orders'],\n",
    "                            pd.Series(0, index=np.arange(data['vis_per_date_A'].sum() - \n",
    "                            len(or_by_vis_A['orders'])),\n",
    "                            name='orders')],\n",
    "                            axis=0)\n",
    "\n",
    "sample_B_filter = pd.concat([or_by_vis_B[np.logical_not(or_by_vis_B['visitor_id']\n",
    "                           .isin(a_visitors))]['orders'],\n",
    "                           pd.Series(0, index=np.arange(data['vis_per_date_B'].sum() - \n",
    "                           len(or_by_vis_B['orders'])),\n",
    "                           name='orders')],\n",
    "                           axis=0)"
   ]
  },
  {
   "cell_type": "markdown",
   "metadata": {},
   "source": [
    "### Посчитаем статистическую значимость различий в среднем количестве заказов на посетителя между группами по «очищенным» данным. Сделаем выводы и предположения"
   ]
  },
  {
   "cell_type": "markdown",
   "metadata": {},
   "source": [
    "Проверка будет с помощью непараметрического критерия Манна-Уитни. Так же узнаем относительный прирост конверсии группы B по очищенным данным.\n",
    "\n",
    "Нулевая гипотеза: статистически значимых различий в конверсии между группами нет.  \n",
    "Альтернативная гипотеза: статистически значимые различия в конверсии между группами есть.\n",
    "\n",
    "Уровень статистической значимости alpha = 0.05"
   ]
  },
  {
   "cell_type": "code",
   "execution_count": 47,
   "metadata": {},
   "outputs": [
    {
     "name": "stdout",
     "output_type": "stream",
     "text": [
      "p-value для конверсий: 0.009\n",
      "Отвергаем нулевую гипотезу\n",
      "Относительный прирост конверсии группы B: 18.86%\n"
     ]
    }
   ],
   "source": [
    "print('p-value для конверсий: {:.3f}'.format(st.mannwhitneyu(sample_A_filter, sample_B_filter)[1]))\n",
    "\n",
    "if st.mannwhitneyu(sample_A_filter, sample_B_filter)[1] < 0.05:\n",
    "    print(\"Отвергаем нулевую гипотезу\")\n",
    "else:\n",
    "    print(\"Не получилось отвергнуть нулевую гипотезу\")\n",
    "\n",
    "print('Относительный прирост конверсии группы B: {:.2%}'.format((sample_B_filter.mean() / sample_A_filter.mean()) - 1))"
   ]
  },
  {
   "cell_type": "markdown",
   "metadata": {},
   "source": [
    "После очистки данных результат тот же - различия между группами есть.  \n",
    "Прирост конверсии группы В составляет 17.27%."
   ]
  },
  {
   "cell_type": "markdown",
   "metadata": {},
   "source": [
    "### Посчитаем статистическую значимость различий в среднем чеке заказа между группами по «очищенным» данным. Сделаем выводы и предположения"
   ]
  },
  {
   "cell_type": "markdown",
   "metadata": {},
   "source": [
    "Проверка будет с помощью непараметрического критерия Манна-Уитни. Так же посчитаем относительный прирост среднего чека в группе В по очищенным данным.\n",
    "\n",
    "Нулевая гипотеза: различий в среднем чеке групп нет.  \n",
    "Альтернативная гипотеза: различия в среднем чеке есть.\n",
    "\n",
    "Уровень статистической значимости alpha = 0.05"
   ]
  },
  {
   "cell_type": "code",
   "execution_count": 48,
   "metadata": {},
   "outputs": [
    {
     "name": "stdout",
     "output_type": "stream",
     "text": [
      "p-value для среднего чека: 0.762\n",
      "Не получилось отвергнуть нулевую гипотезу\n",
      "Относительный прирост среднего чека группы B: -2.24%\n"
     ]
    }
   ],
   "source": [
    "filter_pvalue_mean_ch = st.mannwhitneyu(\n",
    " orders[np.logical_and(orders['group'] == \"A\", np.logical_not(orders['visitor_id'].isin(a_visitors)))]['revenue'],\n",
    " orders[np.logical_and(orders['group'] == \"B\", np.logical_not(orders['visitor_id'].isin(a_visitors)))]['revenue'])[1]\n",
    "\n",
    "print('p-value для среднего чека: {:.3f}'.format(filter_pvalue_mean_ch))\n",
    "\n",
    "if filter_pvalue_mean_ch < 0.05:\n",
    "    print(\"Отвергаем нулевую гипотезу\")\n",
    "else:\n",
    "    print(\"Не получилось отвергнуть нулевую гипотезу\")\n",
    "\n",
    "print('Относительный прирост среднего чека группы B: {:.2%}'.format(\n",
    " (orders[np.logical_and(orders['group']=='B', np.logical_not(orders['visitor_id'].isin(a_visitors)))]['revenue'].mean()/\n",
    " orders[np.logical_and(orders['group']=='A', np.logical_not(orders['visitor_id'].isin(a_visitors)))]['revenue']\n",
    " .mean()) - 1))"
   ]
  },
  {
   "cell_type": "markdown",
   "metadata": {},
   "source": [
    "После очистки данных результат тот же - нулевую гипотезу отвергнуть не можем. \n",
    "Относительный прирост среднего чека группы В после очистки данных изменился до -2.24%. Возможно потому что у группы В заказов больше, чем у группы А. Не смотря на это, статистически значимых различий в среднем чеке между группами нет."
   ]
  },
  {
   "cell_type": "markdown",
   "metadata": {},
   "source": [
    "## Примем решение по результатам теста и объясним его. Варианты решений:\n",
    "1. Остановить тест, зафиксировать победу одной из групп.  \n",
    "2. Остановить тест, зафиксировать отсутствие различий между группами.  \n",
    "3. Продолжить тест. "
   ]
  },
  {
   "cell_type": "markdown",
   "metadata": {},
   "source": [
    "В ходе проведенной работы выяснили:  \n",
    "* большая доля пользователей делает только один заказ в месяц. Более одного заказа совершает 5% пользователей. И 1% более 2 заказов.  \n",
    "* заказы на сумму свыше 26 тысяч рублей делают 5% пользователей. На сумму свыше 53 тысяч рублей делает только 1% пользователей.  \n",
    "\n",
    "Мы использовали фреймворк RICE, так как ICE не учитывает охват изменений. Таким образом выяснили, что наиболее перспективной является гипотеза \"Добавить форму подписки на все основные страницы, чтобы собрать базу клиентов для email-рассылок\".  \n",
    "А так же:  \n",
    "* Добавить блоки рекомендаций товаров на сайт интернет магазина, чтобы повысить конверсию и средний чек заказа\n",
    "* Добавить два новых канала привлечения трафика, что позволит привлекать на 30% больше пользователей.\n",
    "\n",
    "\n",
    "А/В тест:  \n",
    "* 58 пользователей попали в обе группы A/B-теста, что исказило бы результаты. Было принято решение удалить их для более корректного анализа.  \n",
    "* динамика конверсий обеих групп стабилизировалась в середине месяца. Более высокая конверсия у группы В.  \n",
    "* кумулятивная выручка у группы В выше, чем у группы А.  \n",
    "\n",
    "Статистический анализ:  \n",
    "* и на \"сырых\" и на очищенных данных статистические значимые различия в конверсии между группами теста есть.\n",
    "* и на \"сырых\" и на очищенных данных статистических значимых различий в среднем чеке между группами теста нет.\n",
    "\n",
    "Таким образом **мы можем останавливать тест и зафиксировать победу группы В**."
   ]
  }
 ],
 "metadata": {
  "ExecuteTimeLog": [
   {
    "duration": 1190,
    "start_time": "2024-07-18T05:44:14.810Z"
   },
   {
    "duration": 235,
    "start_time": "2024-07-18T05:44:26.499Z"
   },
   {
    "duration": 13,
    "start_time": "2024-07-18T05:49:04.370Z"
   },
   {
    "duration": 12,
    "start_time": "2024-07-18T05:50:37.988Z"
   },
   {
    "duration": 82,
    "start_time": "2024-07-18T05:53:12.040Z"
   },
   {
    "duration": 5,
    "start_time": "2024-07-18T05:53:23.706Z"
   },
   {
    "duration": 7,
    "start_time": "2024-07-18T06:04:54.510Z"
   },
   {
    "duration": 20,
    "start_time": "2024-07-18T06:05:08.355Z"
   },
   {
    "duration": 6,
    "start_time": "2024-07-18T06:05:27.128Z"
   },
   {
    "duration": 20,
    "start_time": "2024-07-18T06:05:31.364Z"
   },
   {
    "duration": 6,
    "start_time": "2024-07-18T06:05:50.166Z"
   },
   {
    "duration": 14,
    "start_time": "2024-07-18T06:05:57.679Z"
   },
   {
    "duration": 5,
    "start_time": "2024-07-18T06:06:45.514Z"
   },
   {
    "duration": 5,
    "start_time": "2024-07-18T06:07:08.284Z"
   },
   {
    "duration": 7,
    "start_time": "2024-07-18T06:07:32.632Z"
   },
   {
    "duration": 4,
    "start_time": "2024-07-18T06:08:32.195Z"
   },
   {
    "duration": 5,
    "start_time": "2024-07-18T06:09:54.369Z"
   },
   {
    "duration": 4,
    "start_time": "2024-07-18T06:10:45.113Z"
   },
   {
    "duration": 985,
    "start_time": "2024-07-18T06:11:47.416Z"
   },
   {
    "duration": 77,
    "start_time": "2024-07-18T06:11:48.402Z"
   },
   {
    "duration": 13,
    "start_time": "2024-07-18T06:11:48.480Z"
   },
   {
    "duration": 10,
    "start_time": "2024-07-18T06:11:48.495Z"
   },
   {
    "duration": 11,
    "start_time": "2024-07-18T06:11:48.507Z"
   },
   {
    "duration": 39,
    "start_time": "2024-07-18T06:11:48.519Z"
   },
   {
    "duration": 5,
    "start_time": "2024-07-18T06:11:48.559Z"
   },
   {
    "duration": 16,
    "start_time": "2024-07-18T06:11:48.565Z"
   },
   {
    "duration": 23,
    "start_time": "2024-07-18T06:11:48.583Z"
   },
   {
    "duration": 40,
    "start_time": "2024-07-18T06:11:48.607Z"
   },
   {
    "duration": 13,
    "start_time": "2024-07-18T06:11:48.648Z"
   },
   {
    "duration": 7,
    "start_time": "2024-07-18T06:12:21.928Z"
   },
   {
    "duration": 3,
    "start_time": "2024-07-18T06:12:44.897Z"
   },
   {
    "duration": 8,
    "start_time": "2024-07-18T06:16:01.840Z"
   },
   {
    "duration": 11,
    "start_time": "2024-07-18T06:16:54.865Z"
   },
   {
    "duration": 6,
    "start_time": "2024-07-18T06:17:26.956Z"
   },
   {
    "duration": 8,
    "start_time": "2024-07-18T06:23:44.977Z"
   },
   {
    "duration": 151,
    "start_time": "2024-07-18T06:24:53.273Z"
   },
   {
    "duration": 163,
    "start_time": "2024-07-18T06:26:26.757Z"
   },
   {
    "duration": 162,
    "start_time": "2024-07-18T06:31:20.293Z"
   },
   {
    "duration": 108,
    "start_time": "2024-07-18T06:31:22.394Z"
   },
   {
    "duration": 154,
    "start_time": "2024-07-18T06:31:44.773Z"
   },
   {
    "duration": 103,
    "start_time": "2024-07-18T06:31:52.611Z"
   },
   {
    "duration": 11,
    "start_time": "2024-07-18T06:33:51.883Z"
   },
   {
    "duration": 7,
    "start_time": "2024-07-18T06:34:45.033Z"
   },
   {
    "duration": 89,
    "start_time": "2024-07-18T06:39:28.582Z"
   },
   {
    "duration": 263,
    "start_time": "2024-07-18T06:39:46.049Z"
   },
   {
    "duration": 10,
    "start_time": "2024-07-18T06:49:48.819Z"
   },
   {
    "duration": 188,
    "start_time": "2024-07-18T06:50:23.534Z"
   },
   {
    "duration": 9,
    "start_time": "2024-07-18T06:56:55.342Z"
   },
   {
    "duration": 9,
    "start_time": "2024-07-18T06:57:19.529Z"
   },
   {
    "duration": 297,
    "start_time": "2024-07-18T06:58:15.290Z"
   },
   {
    "duration": 260,
    "start_time": "2024-07-18T06:58:43.646Z"
   },
   {
    "duration": 64,
    "start_time": "2024-07-18T06:59:07.798Z"
   },
   {
    "duration": 62,
    "start_time": "2024-07-18T06:59:13.710Z"
   },
   {
    "duration": 291,
    "start_time": "2024-07-18T06:59:18.911Z"
   },
   {
    "duration": 8,
    "start_time": "2024-07-18T07:02:21.333Z"
   },
   {
    "duration": 10,
    "start_time": "2024-07-18T07:02:33.337Z"
   },
   {
    "duration": 182,
    "start_time": "2024-07-18T07:03:18.633Z"
   },
   {
    "duration": 265,
    "start_time": "2024-07-18T07:03:25.525Z"
   },
   {
    "duration": 196,
    "start_time": "2024-07-18T07:03:35.341Z"
   },
   {
    "duration": 293,
    "start_time": "2024-07-18T07:03:44.215Z"
   },
   {
    "duration": 274,
    "start_time": "2024-07-18T07:03:51.556Z"
   },
   {
    "duration": 243,
    "start_time": "2024-07-18T07:04:02.961Z"
   },
   {
    "duration": 55,
    "start_time": "2024-07-23T08:03:17.973Z"
   },
   {
    "duration": 1415,
    "start_time": "2024-07-23T08:03:45.988Z"
   },
   {
    "duration": 225,
    "start_time": "2024-07-23T08:03:47.405Z"
   },
   {
    "duration": 16,
    "start_time": "2024-07-23T08:03:47.633Z"
   },
   {
    "duration": 11,
    "start_time": "2024-07-23T08:03:47.652Z"
   },
   {
    "duration": 14,
    "start_time": "2024-07-23T08:03:47.664Z"
   },
   {
    "duration": 30,
    "start_time": "2024-07-23T08:03:47.680Z"
   },
   {
    "duration": 8,
    "start_time": "2024-07-23T08:03:47.712Z"
   },
   {
    "duration": 7,
    "start_time": "2024-07-23T08:03:47.721Z"
   },
   {
    "duration": 11,
    "start_time": "2024-07-23T08:03:47.729Z"
   },
   {
    "duration": 31,
    "start_time": "2024-07-23T08:03:47.744Z"
   },
   {
    "duration": 36,
    "start_time": "2024-07-23T08:03:47.777Z"
   },
   {
    "duration": 6,
    "start_time": "2024-07-23T08:03:47.814Z"
   },
   {
    "duration": 19,
    "start_time": "2024-07-23T08:03:47.821Z"
   },
   {
    "duration": 40,
    "start_time": "2024-07-23T08:03:47.841Z"
   },
   {
    "duration": 12,
    "start_time": "2024-07-23T08:03:47.883Z"
   },
   {
    "duration": 6,
    "start_time": "2024-07-23T08:03:47.897Z"
   },
   {
    "duration": 24,
    "start_time": "2024-07-23T08:03:47.905Z"
   },
   {
    "duration": 189,
    "start_time": "2024-07-23T08:03:47.933Z"
   },
   {
    "duration": 128,
    "start_time": "2024-07-23T08:03:48.124Z"
   },
   {
    "duration": 11,
    "start_time": "2024-07-23T08:03:48.254Z"
   },
   {
    "duration": 9,
    "start_time": "2024-07-23T08:03:48.266Z"
   },
   {
    "duration": 346,
    "start_time": "2024-07-23T08:03:48.276Z"
   },
   {
    "duration": 260,
    "start_time": "2024-07-23T08:03:48.624Z"
   },
   {
    "duration": 11,
    "start_time": "2024-07-23T08:03:48.885Z"
   },
   {
    "duration": 391,
    "start_time": "2024-07-23T08:03:48.897Z"
   },
   {
    "duration": 11,
    "start_time": "2024-07-23T08:03:49.289Z"
   },
   {
    "duration": 247,
    "start_time": "2024-07-23T08:03:49.322Z"
   },
   {
    "duration": 12,
    "start_time": "2024-07-23T08:03:49.571Z"
   },
   {
    "duration": 311,
    "start_time": "2024-07-23T08:06:11.038Z"
   },
   {
    "duration": 127,
    "start_time": "2024-07-23T08:11:31.444Z"
   },
   {
    "duration": 153,
    "start_time": "2024-07-23T08:12:18.002Z"
   },
   {
    "duration": 153,
    "start_time": "2024-07-23T08:12:45.819Z"
   },
   {
    "duration": 95,
    "start_time": "2024-07-23T08:18:08.473Z"
   },
   {
    "duration": 4,
    "start_time": "2024-07-23T08:18:13.863Z"
   },
   {
    "duration": 181,
    "start_time": "2024-07-23T08:26:39.562Z"
   },
   {
    "duration": 233,
    "start_time": "2024-07-23T08:29:52.946Z"
   },
   {
    "duration": 159,
    "start_time": "2024-07-23T08:32:06.781Z"
   },
   {
    "duration": 156,
    "start_time": "2024-07-23T08:32:15.462Z"
   },
   {
    "duration": 178,
    "start_time": "2024-07-23T08:32:30.812Z"
   },
   {
    "duration": 3,
    "start_time": "2024-07-23T08:34:45.768Z"
   },
   {
    "duration": 78,
    "start_time": "2024-07-23T09:03:47.754Z"
   },
   {
    "duration": 96,
    "start_time": "2024-07-23T09:03:51.341Z"
   },
   {
    "duration": 21,
    "start_time": "2024-07-23T09:03:56.631Z"
   },
   {
    "duration": 146,
    "start_time": "2024-07-23T09:06:47.940Z"
   },
   {
    "duration": 37,
    "start_time": "2024-07-23T09:24:10.937Z"
   },
   {
    "duration": 13,
    "start_time": "2024-07-23T09:29:35.039Z"
   },
   {
    "duration": 11,
    "start_time": "2024-07-23T09:48:51.790Z"
   },
   {
    "duration": 6,
    "start_time": "2024-07-23T09:59:27.689Z"
   },
   {
    "duration": 37,
    "start_time": "2024-07-23T10:14:08.117Z"
   },
   {
    "duration": 12,
    "start_time": "2024-07-23T10:19:24.232Z"
   },
   {
    "duration": 3183,
    "start_time": "2024-07-23T11:23:56.178Z"
   },
   {
    "duration": 77,
    "start_time": "2024-07-23T11:23:59.362Z"
   },
   {
    "duration": 15,
    "start_time": "2024-07-23T11:23:59.441Z"
   },
   {
    "duration": 12,
    "start_time": "2024-07-23T11:23:59.458Z"
   },
   {
    "duration": 8,
    "start_time": "2024-07-23T11:23:59.471Z"
   },
   {
    "duration": 22,
    "start_time": "2024-07-23T11:23:59.480Z"
   },
   {
    "duration": 14,
    "start_time": "2024-07-23T11:23:59.503Z"
   },
   {
    "duration": 7,
    "start_time": "2024-07-23T11:23:59.520Z"
   },
   {
    "duration": 11,
    "start_time": "2024-07-23T11:23:59.530Z"
   },
   {
    "duration": 9,
    "start_time": "2024-07-23T11:23:59.544Z"
   },
   {
    "duration": 17,
    "start_time": "2024-07-23T11:23:59.554Z"
   },
   {
    "duration": 13,
    "start_time": "2024-07-23T11:23:59.572Z"
   },
   {
    "duration": 25,
    "start_time": "2024-07-23T11:23:59.587Z"
   },
   {
    "duration": 12,
    "start_time": "2024-07-23T11:23:59.614Z"
   },
   {
    "duration": 15,
    "start_time": "2024-07-23T11:23:59.628Z"
   },
   {
    "duration": 6,
    "start_time": "2024-07-23T11:23:59.644Z"
   },
   {
    "duration": 7,
    "start_time": "2024-07-23T11:23:59.652Z"
   },
   {
    "duration": 219,
    "start_time": "2024-07-23T11:23:59.660Z"
   },
   {
    "duration": 118,
    "start_time": "2024-07-23T11:23:59.880Z"
   },
   {
    "duration": 26,
    "start_time": "2024-07-23T11:24:00.000Z"
   },
   {
    "duration": 15,
    "start_time": "2024-07-23T11:24:00.028Z"
   },
   {
    "duration": 371,
    "start_time": "2024-07-23T11:24:00.044Z"
   },
   {
    "duration": 261,
    "start_time": "2024-07-23T11:24:00.417Z"
   },
   {
    "duration": 10,
    "start_time": "2024-07-23T11:24:00.680Z"
   },
   {
    "duration": 383,
    "start_time": "2024-07-23T11:24:00.691Z"
   },
   {
    "duration": 11,
    "start_time": "2024-07-23T11:24:01.075Z"
   },
   {
    "duration": 296,
    "start_time": "2024-07-23T11:24:01.087Z"
   },
   {
    "duration": 11,
    "start_time": "2024-07-23T11:24:01.387Z"
   },
   {
    "duration": 355,
    "start_time": "2024-07-23T11:24:01.400Z"
   },
   {
    "duration": 143,
    "start_time": "2024-07-23T11:24:01.756Z"
   },
   {
    "duration": 176,
    "start_time": "2024-07-23T11:24:01.911Z"
   },
   {
    "duration": 5,
    "start_time": "2024-07-23T11:24:02.088Z"
   },
   {
    "duration": 248,
    "start_time": "2024-07-23T11:24:02.094Z"
   },
   {
    "duration": 208,
    "start_time": "2024-07-23T11:24:02.343Z"
   },
   {
    "duration": 4,
    "start_time": "2024-07-23T11:24:02.553Z"
   },
   {
    "duration": 147,
    "start_time": "2024-07-23T11:24:02.558Z"
   },
   {
    "duration": 117,
    "start_time": "2024-07-23T11:24:02.707Z"
   },
   {
    "duration": 18,
    "start_time": "2024-07-23T11:24:02.826Z"
   },
   {
    "duration": 158,
    "start_time": "2024-07-23T11:24:02.846Z"
   },
   {
    "duration": 56,
    "start_time": "2024-07-23T11:24:03.005Z"
   },
   {
    "duration": 14,
    "start_time": "2024-07-23T11:24:03.062Z"
   },
   {
    "duration": 31,
    "start_time": "2024-07-23T11:24:03.077Z"
   },
   {
    "duration": 13,
    "start_time": "2024-07-23T11:24:03.113Z"
   },
   {
    "duration": 49,
    "start_time": "2024-07-23T11:24:03.128Z"
   },
   {
    "duration": 13,
    "start_time": "2024-07-23T11:24:03.179Z"
   },
   {
    "duration": 85,
    "start_time": "2024-07-24T08:29:41.306Z"
   },
   {
    "duration": 43,
    "start_time": "2024-07-24T08:30:06.626Z"
   },
   {
    "duration": 1353,
    "start_time": "2024-07-24T08:30:32.068Z"
   },
   {
    "duration": 212,
    "start_time": "2024-07-24T08:30:33.423Z"
   },
   {
    "duration": 16,
    "start_time": "2024-07-24T08:30:33.637Z"
   },
   {
    "duration": 19,
    "start_time": "2024-07-24T08:30:33.655Z"
   },
   {
    "duration": 20,
    "start_time": "2024-07-24T08:30:33.676Z"
   },
   {
    "duration": 36,
    "start_time": "2024-07-24T08:30:33.697Z"
   },
   {
    "duration": 8,
    "start_time": "2024-07-24T08:30:33.734Z"
   },
   {
    "duration": 17,
    "start_time": "2024-07-24T08:30:33.743Z"
   },
   {
    "duration": 27,
    "start_time": "2024-07-24T08:30:33.761Z"
   },
   {
    "duration": 11,
    "start_time": "2024-07-24T08:30:33.790Z"
   },
   {
    "duration": 21,
    "start_time": "2024-07-24T08:30:33.803Z"
   },
   {
    "duration": 5,
    "start_time": "2024-07-24T08:30:33.826Z"
   },
   {
    "duration": 30,
    "start_time": "2024-07-24T08:30:33.833Z"
   },
   {
    "duration": 42,
    "start_time": "2024-07-24T08:30:33.867Z"
   },
   {
    "duration": 53,
    "start_time": "2024-07-24T08:30:33.910Z"
   },
   {
    "duration": 26,
    "start_time": "2024-07-24T08:30:33.965Z"
   },
   {
    "duration": 139,
    "start_time": "2024-07-24T08:30:33.992Z"
   },
   {
    "duration": 0,
    "start_time": "2024-07-24T08:30:34.134Z"
   },
   {
    "duration": 0,
    "start_time": "2024-07-24T08:30:34.136Z"
   },
   {
    "duration": 0,
    "start_time": "2024-07-24T08:30:34.137Z"
   },
   {
    "duration": 0,
    "start_time": "2024-07-24T08:30:34.139Z"
   },
   {
    "duration": 0,
    "start_time": "2024-07-24T08:30:34.140Z"
   },
   {
    "duration": 0,
    "start_time": "2024-07-24T08:30:34.142Z"
   },
   {
    "duration": 0,
    "start_time": "2024-07-24T08:30:34.143Z"
   },
   {
    "duration": 0,
    "start_time": "2024-07-24T08:30:34.144Z"
   },
   {
    "duration": 0,
    "start_time": "2024-07-24T08:30:34.145Z"
   },
   {
    "duration": 0,
    "start_time": "2024-07-24T08:30:34.146Z"
   },
   {
    "duration": 0,
    "start_time": "2024-07-24T08:30:34.148Z"
   },
   {
    "duration": 0,
    "start_time": "2024-07-24T08:30:34.149Z"
   },
   {
    "duration": 0,
    "start_time": "2024-07-24T08:30:34.150Z"
   },
   {
    "duration": 0,
    "start_time": "2024-07-24T08:30:34.151Z"
   },
   {
    "duration": 0,
    "start_time": "2024-07-24T08:30:34.152Z"
   },
   {
    "duration": 0,
    "start_time": "2024-07-24T08:30:34.154Z"
   },
   {
    "duration": 0,
    "start_time": "2024-07-24T08:30:34.155Z"
   },
   {
    "duration": 0,
    "start_time": "2024-07-24T08:30:34.156Z"
   },
   {
    "duration": 0,
    "start_time": "2024-07-24T08:30:34.157Z"
   },
   {
    "duration": 0,
    "start_time": "2024-07-24T08:30:34.161Z"
   },
   {
    "duration": 0,
    "start_time": "2024-07-24T08:30:34.162Z"
   },
   {
    "duration": 0,
    "start_time": "2024-07-24T08:30:34.205Z"
   },
   {
    "duration": 0,
    "start_time": "2024-07-24T08:30:34.207Z"
   },
   {
    "duration": 0,
    "start_time": "2024-07-24T08:30:34.209Z"
   },
   {
    "duration": 0,
    "start_time": "2024-07-24T08:30:34.211Z"
   },
   {
    "duration": 0,
    "start_time": "2024-07-24T08:30:34.213Z"
   },
   {
    "duration": 0,
    "start_time": "2024-07-24T08:30:34.214Z"
   },
   {
    "duration": 0,
    "start_time": "2024-07-24T08:30:34.216Z"
   },
   {
    "duration": 0,
    "start_time": "2024-07-24T08:30:34.217Z"
   },
   {
    "duration": 17,
    "start_time": "2024-07-24T08:37:49.667Z"
   },
   {
    "duration": 14,
    "start_time": "2024-07-24T08:37:52.651Z"
   },
   {
    "duration": 7,
    "start_time": "2024-07-24T08:38:01.500Z"
   },
   {
    "duration": 64,
    "start_time": "2024-07-24T08:39:17.325Z"
   },
   {
    "duration": 72,
    "start_time": "2024-07-24T08:39:21.985Z"
   },
   {
    "duration": 1259,
    "start_time": "2024-07-24T08:40:49.341Z"
   },
   {
    "duration": 79,
    "start_time": "2024-07-24T08:40:50.602Z"
   },
   {
    "duration": 17,
    "start_time": "2024-07-24T08:40:50.682Z"
   },
   {
    "duration": 36,
    "start_time": "2024-07-24T08:40:50.701Z"
   },
   {
    "duration": 35,
    "start_time": "2024-07-24T08:40:50.739Z"
   },
   {
    "duration": 76,
    "start_time": "2024-07-24T08:40:50.776Z"
   },
   {
    "duration": 7,
    "start_time": "2024-07-24T08:40:50.854Z"
   },
   {
    "duration": 7,
    "start_time": "2024-07-24T08:40:50.862Z"
   },
   {
    "duration": 13,
    "start_time": "2024-07-24T08:40:50.871Z"
   },
   {
    "duration": 23,
    "start_time": "2024-07-24T08:40:50.887Z"
   },
   {
    "duration": 37,
    "start_time": "2024-07-24T08:40:50.919Z"
   },
   {
    "duration": 5,
    "start_time": "2024-07-24T08:40:50.957Z"
   },
   {
    "duration": 4,
    "start_time": "2024-07-24T08:40:50.964Z"
   },
   {
    "duration": 13,
    "start_time": "2024-07-24T08:40:50.970Z"
   },
   {
    "duration": 48,
    "start_time": "2024-07-24T08:40:50.985Z"
   },
   {
    "duration": 61,
    "start_time": "2024-07-24T08:40:51.034Z"
   },
   {
    "duration": 130,
    "start_time": "2024-07-24T08:40:51.097Z"
   },
   {
    "duration": 9,
    "start_time": "2024-07-24T08:40:51.229Z"
   },
   {
    "duration": 24,
    "start_time": "2024-07-24T08:40:51.239Z"
   },
   {
    "duration": 32,
    "start_time": "2024-07-24T08:40:51.265Z"
   },
   {
    "duration": 23,
    "start_time": "2024-07-24T08:40:51.299Z"
   },
   {
    "duration": 262,
    "start_time": "2024-07-24T08:40:51.329Z"
   },
   {
    "duration": 0,
    "start_time": "2024-07-24T08:40:51.594Z"
   },
   {
    "duration": 0,
    "start_time": "2024-07-24T08:40:51.595Z"
   },
   {
    "duration": 0,
    "start_time": "2024-07-24T08:40:51.596Z"
   },
   {
    "duration": 0,
    "start_time": "2024-07-24T08:40:51.597Z"
   },
   {
    "duration": 0,
    "start_time": "2024-07-24T08:40:51.598Z"
   },
   {
    "duration": 0,
    "start_time": "2024-07-24T08:40:51.599Z"
   },
   {
    "duration": 0,
    "start_time": "2024-07-24T08:40:51.600Z"
   },
   {
    "duration": 0,
    "start_time": "2024-07-24T08:40:51.601Z"
   },
   {
    "duration": 0,
    "start_time": "2024-07-24T08:40:51.602Z"
   },
   {
    "duration": 0,
    "start_time": "2024-07-24T08:40:51.603Z"
   },
   {
    "duration": 0,
    "start_time": "2024-07-24T08:40:51.604Z"
   },
   {
    "duration": 0,
    "start_time": "2024-07-24T08:40:51.605Z"
   },
   {
    "duration": 0,
    "start_time": "2024-07-24T08:40:51.605Z"
   },
   {
    "duration": 0,
    "start_time": "2024-07-24T08:40:51.606Z"
   },
   {
    "duration": 0,
    "start_time": "2024-07-24T08:40:51.609Z"
   },
   {
    "duration": 0,
    "start_time": "2024-07-24T08:40:51.610Z"
   },
   {
    "duration": 0,
    "start_time": "2024-07-24T08:40:51.617Z"
   },
   {
    "duration": 0,
    "start_time": "2024-07-24T08:40:51.618Z"
   },
   {
    "duration": 0,
    "start_time": "2024-07-24T08:40:51.620Z"
   },
   {
    "duration": 0,
    "start_time": "2024-07-24T08:40:51.621Z"
   },
   {
    "duration": 0,
    "start_time": "2024-07-24T08:40:51.622Z"
   },
   {
    "duration": 0,
    "start_time": "2024-07-24T08:40:51.623Z"
   },
   {
    "duration": 0,
    "start_time": "2024-07-24T08:40:51.624Z"
   },
   {
    "duration": 0,
    "start_time": "2024-07-24T08:40:51.625Z"
   },
   {
    "duration": 0,
    "start_time": "2024-07-24T08:40:51.627Z"
   },
   {
    "duration": 10,
    "start_time": "2024-07-24T08:41:21.509Z"
   },
   {
    "duration": 7,
    "start_time": "2024-07-24T08:41:37.476Z"
   },
   {
    "duration": 13,
    "start_time": "2024-07-24T08:41:50.932Z"
   },
   {
    "duration": 12,
    "start_time": "2024-07-24T08:44:28.946Z"
   },
   {
    "duration": 8,
    "start_time": "2024-07-24T08:44:40.070Z"
   },
   {
    "duration": 3,
    "start_time": "2024-07-24T08:45:44.038Z"
   },
   {
    "duration": 7,
    "start_time": "2024-07-24T08:45:55.766Z"
   },
   {
    "duration": 1174,
    "start_time": "2024-07-24T08:46:01.916Z"
   },
   {
    "duration": 84,
    "start_time": "2024-07-24T08:46:03.092Z"
   },
   {
    "duration": 16,
    "start_time": "2024-07-24T08:46:03.178Z"
   },
   {
    "duration": 54,
    "start_time": "2024-07-24T08:46:03.195Z"
   },
   {
    "duration": 80,
    "start_time": "2024-07-24T08:46:03.251Z"
   },
   {
    "duration": 41,
    "start_time": "2024-07-24T08:46:03.332Z"
   },
   {
    "duration": 5,
    "start_time": "2024-07-24T08:46:03.375Z"
   },
   {
    "duration": 39,
    "start_time": "2024-07-24T08:46:03.381Z"
   },
   {
    "duration": 14,
    "start_time": "2024-07-24T08:46:03.421Z"
   },
   {
    "duration": 33,
    "start_time": "2024-07-24T08:46:03.437Z"
   },
   {
    "duration": 20,
    "start_time": "2024-07-24T08:46:03.472Z"
   },
   {
    "duration": 22,
    "start_time": "2024-07-24T08:46:03.494Z"
   },
   {
    "duration": 4,
    "start_time": "2024-07-24T08:46:03.518Z"
   },
   {
    "duration": 13,
    "start_time": "2024-07-24T08:46:03.525Z"
   },
   {
    "duration": 13,
    "start_time": "2024-07-24T08:46:03.540Z"
   },
   {
    "duration": 8,
    "start_time": "2024-07-24T08:46:03.554Z"
   },
   {
    "duration": 7,
    "start_time": "2024-07-24T08:46:03.563Z"
   },
   {
    "duration": 12,
    "start_time": "2024-07-24T08:46:03.572Z"
   },
   {
    "duration": 12,
    "start_time": "2024-07-24T08:46:03.605Z"
   },
   {
    "duration": 9,
    "start_time": "2024-07-24T08:46:03.620Z"
   },
   {
    "duration": 16,
    "start_time": "2024-07-24T08:46:03.631Z"
   },
   {
    "duration": 209,
    "start_time": "2024-07-24T08:46:03.649Z"
   },
   {
    "duration": 159,
    "start_time": "2024-07-24T08:46:03.859Z"
   },
   {
    "duration": 13,
    "start_time": "2024-07-24T08:46:04.020Z"
   },
   {
    "duration": 25,
    "start_time": "2024-07-24T08:46:04.034Z"
   },
   {
    "duration": 381,
    "start_time": "2024-07-24T08:46:04.061Z"
   },
   {
    "duration": 251,
    "start_time": "2024-07-24T08:46:04.444Z"
   },
   {
    "duration": 21,
    "start_time": "2024-07-24T08:46:04.704Z"
   },
   {
    "duration": 396,
    "start_time": "2024-07-24T08:46:04.727Z"
   },
   {
    "duration": 12,
    "start_time": "2024-07-24T08:46:05.124Z"
   },
   {
    "duration": 280,
    "start_time": "2024-07-24T08:46:05.137Z"
   },
   {
    "duration": 16,
    "start_time": "2024-07-24T08:46:05.418Z"
   },
   {
    "duration": 408,
    "start_time": "2024-07-24T08:46:05.436Z"
   },
   {
    "duration": 184,
    "start_time": "2024-07-24T08:46:05.846Z"
   },
   {
    "duration": 192,
    "start_time": "2024-07-24T08:46:06.032Z"
   },
   {
    "duration": 6,
    "start_time": "2024-07-24T08:46:06.226Z"
   },
   {
    "duration": 213,
    "start_time": "2024-07-24T08:46:06.234Z"
   },
   {
    "duration": 204,
    "start_time": "2024-07-24T08:46:06.449Z"
   },
   {
    "duration": 5,
    "start_time": "2024-07-24T08:46:06.655Z"
   },
   {
    "duration": 181,
    "start_time": "2024-07-24T08:46:06.662Z"
   },
   {
    "duration": 123,
    "start_time": "2024-07-24T08:46:06.847Z"
   },
   {
    "duration": 20,
    "start_time": "2024-07-24T08:46:06.972Z"
   },
   {
    "duration": 170,
    "start_time": "2024-07-24T08:46:06.994Z"
   },
   {
    "duration": 68,
    "start_time": "2024-07-24T08:46:07.165Z"
   },
   {
    "duration": 21,
    "start_time": "2024-07-24T08:46:07.234Z"
   },
   {
    "duration": 22,
    "start_time": "2024-07-24T08:46:07.257Z"
   },
   {
    "duration": 33,
    "start_time": "2024-07-24T08:46:07.280Z"
   },
   {
    "duration": 58,
    "start_time": "2024-07-24T08:46:07.315Z"
   },
   {
    "duration": 14,
    "start_time": "2024-07-24T08:46:07.374Z"
   },
   {
    "duration": 6,
    "start_time": "2024-07-24T08:47:44.785Z"
   },
   {
    "duration": 7,
    "start_time": "2024-07-24T08:47:47.195Z"
   },
   {
    "duration": 1102,
    "start_time": "2024-07-24T08:47:57.360Z"
   },
   {
    "duration": 74,
    "start_time": "2024-07-24T08:47:58.464Z"
   },
   {
    "duration": 26,
    "start_time": "2024-07-24T08:47:58.540Z"
   },
   {
    "duration": 16,
    "start_time": "2024-07-24T08:47:58.568Z"
   },
   {
    "duration": 11,
    "start_time": "2024-07-24T08:47:58.587Z"
   },
   {
    "duration": 32,
    "start_time": "2024-07-24T08:47:58.600Z"
   },
   {
    "duration": 6,
    "start_time": "2024-07-24T08:47:58.633Z"
   },
   {
    "duration": 11,
    "start_time": "2024-07-24T08:47:58.641Z"
   },
   {
    "duration": 17,
    "start_time": "2024-07-24T08:47:58.653Z"
   },
   {
    "duration": 11,
    "start_time": "2024-07-24T08:47:58.671Z"
   },
   {
    "duration": 61,
    "start_time": "2024-07-24T08:47:58.684Z"
   },
   {
    "duration": 5,
    "start_time": "2024-07-24T08:47:58.746Z"
   },
   {
    "duration": 19,
    "start_time": "2024-07-24T08:47:58.752Z"
   },
   {
    "duration": 20,
    "start_time": "2024-07-24T08:47:58.774Z"
   },
   {
    "duration": 66,
    "start_time": "2024-07-24T08:47:58.796Z"
   },
   {
    "duration": 32,
    "start_time": "2024-07-24T08:47:58.864Z"
   },
   {
    "duration": 5,
    "start_time": "2024-07-24T08:47:58.898Z"
   },
   {
    "duration": 13,
    "start_time": "2024-07-24T08:47:58.905Z"
   },
   {
    "duration": 17,
    "start_time": "2024-07-24T08:47:58.920Z"
   },
   {
    "duration": 28,
    "start_time": "2024-07-24T08:47:58.939Z"
   },
   {
    "duration": 13,
    "start_time": "2024-07-24T08:47:58.969Z"
   },
   {
    "duration": 19,
    "start_time": "2024-07-24T08:47:58.983Z"
   },
   {
    "duration": 21,
    "start_time": "2024-07-24T08:47:59.003Z"
   },
   {
    "duration": 373,
    "start_time": "2024-07-24T08:47:59.026Z"
   },
   {
    "duration": 0,
    "start_time": "2024-07-24T08:47:59.401Z"
   },
   {
    "duration": 0,
    "start_time": "2024-07-24T08:47:59.402Z"
   },
   {
    "duration": 0,
    "start_time": "2024-07-24T08:47:59.403Z"
   },
   {
    "duration": 0,
    "start_time": "2024-07-24T08:47:59.404Z"
   },
   {
    "duration": 0,
    "start_time": "2024-07-24T08:47:59.405Z"
   },
   {
    "duration": 0,
    "start_time": "2024-07-24T08:47:59.406Z"
   },
   {
    "duration": 0,
    "start_time": "2024-07-24T08:47:59.407Z"
   },
   {
    "duration": 0,
    "start_time": "2024-07-24T08:47:59.409Z"
   },
   {
    "duration": 0,
    "start_time": "2024-07-24T08:47:59.409Z"
   },
   {
    "duration": 0,
    "start_time": "2024-07-24T08:47:59.410Z"
   },
   {
    "duration": 0,
    "start_time": "2024-07-24T08:47:59.412Z"
   },
   {
    "duration": 0,
    "start_time": "2024-07-24T08:47:59.413Z"
   },
   {
    "duration": 0,
    "start_time": "2024-07-24T08:47:59.414Z"
   },
   {
    "duration": 0,
    "start_time": "2024-07-24T08:47:59.415Z"
   },
   {
    "duration": 0,
    "start_time": "2024-07-24T08:47:59.416Z"
   },
   {
    "duration": 0,
    "start_time": "2024-07-24T08:47:59.417Z"
   },
   {
    "duration": 0,
    "start_time": "2024-07-24T08:47:59.418Z"
   },
   {
    "duration": 0,
    "start_time": "2024-07-24T08:47:59.420Z"
   },
   {
    "duration": 0,
    "start_time": "2024-07-24T08:47:59.420Z"
   },
   {
    "duration": 0,
    "start_time": "2024-07-24T08:47:59.421Z"
   },
   {
    "duration": 0,
    "start_time": "2024-07-24T08:47:59.422Z"
   },
   {
    "duration": 0,
    "start_time": "2024-07-24T08:47:59.424Z"
   },
   {
    "duration": 0,
    "start_time": "2024-07-24T08:47:59.425Z"
   },
   {
    "duration": 0,
    "start_time": "2024-07-24T08:47:59.426Z"
   },
   {
    "duration": 0,
    "start_time": "2024-07-24T08:47:59.427Z"
   },
   {
    "duration": 1182,
    "start_time": "2024-07-24T08:49:06.498Z"
   },
   {
    "duration": 78,
    "start_time": "2024-07-24T08:49:07.682Z"
   },
   {
    "duration": 19,
    "start_time": "2024-07-24T08:49:07.762Z"
   },
   {
    "duration": 13,
    "start_time": "2024-07-24T08:49:07.784Z"
   },
   {
    "duration": 26,
    "start_time": "2024-07-24T08:49:07.799Z"
   },
   {
    "duration": 30,
    "start_time": "2024-07-24T08:49:07.827Z"
   },
   {
    "duration": 5,
    "start_time": "2024-07-24T08:49:07.859Z"
   },
   {
    "duration": 10,
    "start_time": "2024-07-24T08:49:07.866Z"
   },
   {
    "duration": 12,
    "start_time": "2024-07-24T08:49:07.878Z"
   },
   {
    "duration": 7,
    "start_time": "2024-07-24T08:49:07.905Z"
   },
   {
    "duration": 24,
    "start_time": "2024-07-24T08:49:07.914Z"
   },
   {
    "duration": 5,
    "start_time": "2024-07-24T08:49:07.939Z"
   },
   {
    "duration": 6,
    "start_time": "2024-07-24T08:49:07.945Z"
   },
   {
    "duration": 12,
    "start_time": "2024-07-24T08:49:07.952Z"
   },
   {
    "duration": 49,
    "start_time": "2024-07-24T08:49:07.966Z"
   },
   {
    "duration": 7,
    "start_time": "2024-07-24T08:49:08.017Z"
   },
   {
    "duration": 2,
    "start_time": "2024-07-24T08:49:08.026Z"
   },
   {
    "duration": 11,
    "start_time": "2024-07-24T08:49:08.029Z"
   },
   {
    "duration": 13,
    "start_time": "2024-07-24T08:49:08.041Z"
   },
   {
    "duration": 209,
    "start_time": "2024-07-24T08:49:08.055Z"
   },
   {
    "duration": 123,
    "start_time": "2024-07-24T08:49:08.266Z"
   },
   {
    "duration": 50,
    "start_time": "2024-07-24T08:49:08.391Z"
   },
   {
    "duration": 18,
    "start_time": "2024-07-24T08:49:08.443Z"
   },
   {
    "duration": 318,
    "start_time": "2024-07-24T08:49:08.463Z"
   },
   {
    "duration": 259,
    "start_time": "2024-07-24T08:49:08.783Z"
   },
   {
    "duration": 11,
    "start_time": "2024-07-24T08:49:09.044Z"
   },
   {
    "duration": 334,
    "start_time": "2024-07-24T08:49:09.056Z"
   },
   {
    "duration": 19,
    "start_time": "2024-07-24T08:49:09.393Z"
   },
   {
    "duration": 268,
    "start_time": "2024-07-24T08:49:09.413Z"
   },
   {
    "duration": 24,
    "start_time": "2024-07-24T08:49:09.683Z"
   },
   {
    "duration": 361,
    "start_time": "2024-07-24T08:49:09.708Z"
   },
   {
    "duration": 162,
    "start_time": "2024-07-24T08:49:10.071Z"
   },
   {
    "duration": 199,
    "start_time": "2024-07-24T08:49:10.235Z"
   },
   {
    "duration": 5,
    "start_time": "2024-07-24T08:49:10.436Z"
   },
   {
    "duration": 206,
    "start_time": "2024-07-24T08:49:10.443Z"
   },
   {
    "duration": 230,
    "start_time": "2024-07-24T08:49:10.651Z"
   },
   {
    "duration": 5,
    "start_time": "2024-07-24T08:49:10.882Z"
   },
   {
    "duration": 165,
    "start_time": "2024-07-24T08:49:10.888Z"
   },
   {
    "duration": 112,
    "start_time": "2024-07-24T08:49:11.055Z"
   },
   {
    "duration": 20,
    "start_time": "2024-07-24T08:49:11.168Z"
   },
   {
    "duration": 186,
    "start_time": "2024-07-24T08:49:11.189Z"
   },
   {
    "duration": 49,
    "start_time": "2024-07-24T08:49:11.377Z"
   },
   {
    "duration": 15,
    "start_time": "2024-07-24T08:49:11.428Z"
   },
   {
    "duration": 11,
    "start_time": "2024-07-24T08:49:11.445Z"
   },
   {
    "duration": 18,
    "start_time": "2024-07-24T08:49:11.457Z"
   },
   {
    "duration": 62,
    "start_time": "2024-07-24T08:49:11.477Z"
   },
   {
    "duration": 13,
    "start_time": "2024-07-24T08:49:11.540Z"
   },
   {
    "duration": 1162,
    "start_time": "2024-07-24T08:54:51.708Z"
   },
   {
    "duration": 73,
    "start_time": "2024-07-24T08:54:52.872Z"
   },
   {
    "duration": 15,
    "start_time": "2024-07-24T08:54:52.947Z"
   },
   {
    "duration": 12,
    "start_time": "2024-07-24T08:54:52.964Z"
   },
   {
    "duration": 16,
    "start_time": "2024-07-24T08:54:52.978Z"
   },
   {
    "duration": 35,
    "start_time": "2024-07-24T08:54:52.996Z"
   },
   {
    "duration": 36,
    "start_time": "2024-07-24T08:54:53.033Z"
   },
   {
    "duration": 19,
    "start_time": "2024-07-24T08:54:53.071Z"
   },
   {
    "duration": 95,
    "start_time": "2024-07-24T08:54:53.092Z"
   },
   {
    "duration": 30,
    "start_time": "2024-07-24T08:54:53.189Z"
   },
   {
    "duration": 119,
    "start_time": "2024-07-24T08:54:53.221Z"
   },
   {
    "duration": 23,
    "start_time": "2024-07-24T08:54:53.341Z"
   },
   {
    "duration": 15,
    "start_time": "2024-07-24T08:54:53.366Z"
   },
   {
    "duration": 19,
    "start_time": "2024-07-24T08:54:53.382Z"
   },
   {
    "duration": 21,
    "start_time": "2024-07-24T08:54:53.403Z"
   },
   {
    "duration": 9,
    "start_time": "2024-07-24T08:54:53.426Z"
   },
   {
    "duration": 87,
    "start_time": "2024-07-24T08:54:53.436Z"
   },
   {
    "duration": 0,
    "start_time": "2024-07-24T08:54:53.525Z"
   },
   {
    "duration": 0,
    "start_time": "2024-07-24T08:54:53.526Z"
   },
   {
    "duration": 0,
    "start_time": "2024-07-24T08:54:53.527Z"
   },
   {
    "duration": 1,
    "start_time": "2024-07-24T08:54:53.528Z"
   },
   {
    "duration": 0,
    "start_time": "2024-07-24T08:54:53.530Z"
   },
   {
    "duration": 0,
    "start_time": "2024-07-24T08:54:53.531Z"
   },
   {
    "duration": 0,
    "start_time": "2024-07-24T08:54:53.533Z"
   },
   {
    "duration": 0,
    "start_time": "2024-07-24T08:54:53.533Z"
   },
   {
    "duration": 0,
    "start_time": "2024-07-24T08:54:53.535Z"
   },
   {
    "duration": 0,
    "start_time": "2024-07-24T08:54:53.536Z"
   },
   {
    "duration": 0,
    "start_time": "2024-07-24T08:54:53.537Z"
   },
   {
    "duration": 0,
    "start_time": "2024-07-24T08:54:53.538Z"
   },
   {
    "duration": 0,
    "start_time": "2024-07-24T08:54:53.538Z"
   },
   {
    "duration": 0,
    "start_time": "2024-07-24T08:54:53.539Z"
   },
   {
    "duration": 0,
    "start_time": "2024-07-24T08:54:53.541Z"
   },
   {
    "duration": 0,
    "start_time": "2024-07-24T08:54:53.541Z"
   },
   {
    "duration": 0,
    "start_time": "2024-07-24T08:54:53.542Z"
   },
   {
    "duration": 0,
    "start_time": "2024-07-24T08:54:53.543Z"
   },
   {
    "duration": 0,
    "start_time": "2024-07-24T08:54:53.544Z"
   },
   {
    "duration": 0,
    "start_time": "2024-07-24T08:54:53.545Z"
   },
   {
    "duration": 0,
    "start_time": "2024-07-24T08:54:53.546Z"
   },
   {
    "duration": 0,
    "start_time": "2024-07-24T08:54:53.548Z"
   },
   {
    "duration": 0,
    "start_time": "2024-07-24T08:54:53.549Z"
   },
   {
    "duration": 0,
    "start_time": "2024-07-24T08:54:53.550Z"
   },
   {
    "duration": 0,
    "start_time": "2024-07-24T08:54:53.551Z"
   },
   {
    "duration": 0,
    "start_time": "2024-07-24T08:54:53.552Z"
   },
   {
    "duration": 0,
    "start_time": "2024-07-24T08:54:53.553Z"
   },
   {
    "duration": 0,
    "start_time": "2024-07-24T08:54:53.554Z"
   },
   {
    "duration": 0,
    "start_time": "2024-07-24T08:54:53.555Z"
   },
   {
    "duration": 0,
    "start_time": "2024-07-24T08:54:53.556Z"
   },
   {
    "duration": 111,
    "start_time": "2024-07-24T08:55:17.897Z"
   },
   {
    "duration": 7,
    "start_time": "2024-07-24T08:55:19.976Z"
   },
   {
    "duration": 10,
    "start_time": "2024-07-24T08:55:33.429Z"
   },
   {
    "duration": 8,
    "start_time": "2024-07-24T08:55:43.319Z"
   },
   {
    "duration": 1151,
    "start_time": "2024-07-24T08:55:48.768Z"
   },
   {
    "duration": 73,
    "start_time": "2024-07-24T08:55:49.921Z"
   },
   {
    "duration": 17,
    "start_time": "2024-07-24T08:55:49.996Z"
   },
   {
    "duration": 27,
    "start_time": "2024-07-24T08:55:50.015Z"
   },
   {
    "duration": 34,
    "start_time": "2024-07-24T08:55:50.045Z"
   },
   {
    "duration": 41,
    "start_time": "2024-07-24T08:55:50.081Z"
   },
   {
    "duration": 14,
    "start_time": "2024-07-24T08:55:50.124Z"
   },
   {
    "duration": 11,
    "start_time": "2024-07-24T08:55:50.140Z"
   },
   {
    "duration": 19,
    "start_time": "2024-07-24T08:55:50.153Z"
   },
   {
    "duration": 14,
    "start_time": "2024-07-24T08:55:50.174Z"
   },
   {
    "duration": 28,
    "start_time": "2024-07-24T08:55:50.190Z"
   },
   {
    "duration": 12,
    "start_time": "2024-07-24T08:55:50.220Z"
   },
   {
    "duration": 7,
    "start_time": "2024-07-24T08:55:50.234Z"
   },
   {
    "duration": 30,
    "start_time": "2024-07-24T08:55:50.244Z"
   },
   {
    "duration": 37,
    "start_time": "2024-07-24T08:55:50.276Z"
   },
   {
    "duration": 21,
    "start_time": "2024-07-24T08:55:50.316Z"
   },
   {
    "duration": 142,
    "start_time": "2024-07-24T08:55:50.339Z"
   },
   {
    "duration": 22,
    "start_time": "2024-07-24T08:55:50.483Z"
   },
   {
    "duration": 95,
    "start_time": "2024-07-24T08:55:50.507Z"
   },
   {
    "duration": 251,
    "start_time": "2024-07-24T08:55:50.604Z"
   },
   {
    "duration": 127,
    "start_time": "2024-07-24T08:55:50.857Z"
   },
   {
    "duration": 28,
    "start_time": "2024-07-24T08:55:50.987Z"
   },
   {
    "duration": 90,
    "start_time": "2024-07-24T08:55:51.017Z"
   },
   {
    "duration": 482,
    "start_time": "2024-07-24T08:55:51.108Z"
   },
   {
    "duration": 244,
    "start_time": "2024-07-24T08:55:51.592Z"
   },
   {
    "duration": 16,
    "start_time": "2024-07-24T08:55:51.839Z"
   },
   {
    "duration": 399,
    "start_time": "2024-07-24T08:55:51.857Z"
   },
   {
    "duration": 12,
    "start_time": "2024-07-24T08:55:52.257Z"
   },
   {
    "duration": 291,
    "start_time": "2024-07-24T08:55:52.271Z"
   },
   {
    "duration": 13,
    "start_time": "2024-07-24T08:55:52.564Z"
   },
   {
    "duration": 360,
    "start_time": "2024-07-24T08:55:52.578Z"
   },
   {
    "duration": 142,
    "start_time": "2024-07-24T08:55:52.940Z"
   },
   {
    "duration": 184,
    "start_time": "2024-07-24T08:55:53.084Z"
   },
   {
    "duration": 6,
    "start_time": "2024-07-24T08:55:53.270Z"
   },
   {
    "duration": 234,
    "start_time": "2024-07-24T08:55:53.278Z"
   },
   {
    "duration": 216,
    "start_time": "2024-07-24T08:55:53.514Z"
   },
   {
    "duration": 4,
    "start_time": "2024-07-24T08:55:53.732Z"
   },
   {
    "duration": 176,
    "start_time": "2024-07-24T08:55:53.738Z"
   },
   {
    "duration": 126,
    "start_time": "2024-07-24T08:55:53.916Z"
   },
   {
    "duration": 23,
    "start_time": "2024-07-24T08:55:54.044Z"
   },
   {
    "duration": 160,
    "start_time": "2024-07-24T08:55:54.071Z"
   },
   {
    "duration": 48,
    "start_time": "2024-07-24T08:55:54.233Z"
   },
   {
    "duration": 32,
    "start_time": "2024-07-24T08:55:54.282Z"
   },
   {
    "duration": 28,
    "start_time": "2024-07-24T08:55:54.316Z"
   },
   {
    "duration": 13,
    "start_time": "2024-07-24T08:55:54.346Z"
   },
   {
    "duration": 74,
    "start_time": "2024-07-24T08:55:54.361Z"
   },
   {
    "duration": 14,
    "start_time": "2024-07-24T08:55:54.437Z"
   },
   {
    "duration": 8,
    "start_time": "2024-07-24T09:02:02.587Z"
   },
   {
    "duration": 8,
    "start_time": "2024-07-24T09:02:04.470Z"
   },
   {
    "duration": 1137,
    "start_time": "2024-07-24T09:02:10.256Z"
   },
   {
    "duration": 73,
    "start_time": "2024-07-24T09:02:11.395Z"
   },
   {
    "duration": 16,
    "start_time": "2024-07-24T09:02:11.469Z"
   },
   {
    "duration": 14,
    "start_time": "2024-07-24T09:02:11.487Z"
   },
   {
    "duration": 25,
    "start_time": "2024-07-24T09:02:11.503Z"
   },
   {
    "duration": 31,
    "start_time": "2024-07-24T09:02:11.530Z"
   },
   {
    "duration": 5,
    "start_time": "2024-07-24T09:02:11.563Z"
   },
   {
    "duration": 13,
    "start_time": "2024-07-24T09:02:11.569Z"
   },
   {
    "duration": 21,
    "start_time": "2024-07-24T09:02:11.583Z"
   },
   {
    "duration": 7,
    "start_time": "2024-07-24T09:02:11.606Z"
   },
   {
    "duration": 25,
    "start_time": "2024-07-24T09:02:11.615Z"
   },
   {
    "duration": 6,
    "start_time": "2024-07-24T09:02:11.642Z"
   },
   {
    "duration": 13,
    "start_time": "2024-07-24T09:02:11.649Z"
   },
   {
    "duration": 28,
    "start_time": "2024-07-24T09:02:11.663Z"
   },
   {
    "duration": 35,
    "start_time": "2024-07-24T09:02:11.693Z"
   },
   {
    "duration": 13,
    "start_time": "2024-07-24T09:02:11.729Z"
   },
   {
    "duration": 9,
    "start_time": "2024-07-24T09:02:11.745Z"
   },
   {
    "duration": 10,
    "start_time": "2024-07-24T09:02:11.756Z"
   },
   {
    "duration": 9,
    "start_time": "2024-07-24T09:02:11.767Z"
   },
   {
    "duration": 208,
    "start_time": "2024-07-24T09:02:11.777Z"
   },
   {
    "duration": 130,
    "start_time": "2024-07-24T09:02:11.987Z"
   },
   {
    "duration": 12,
    "start_time": "2024-07-24T09:02:12.118Z"
   },
   {
    "duration": 21,
    "start_time": "2024-07-24T09:02:12.132Z"
   },
   {
    "duration": 340,
    "start_time": "2024-07-24T09:02:12.155Z"
   },
   {
    "duration": 250,
    "start_time": "2024-07-24T09:02:12.498Z"
   },
   {
    "duration": 12,
    "start_time": "2024-07-24T09:02:12.750Z"
   },
   {
    "duration": 330,
    "start_time": "2024-07-24T09:02:12.763Z"
   },
   {
    "duration": 14,
    "start_time": "2024-07-24T09:02:13.097Z"
   },
   {
    "duration": 280,
    "start_time": "2024-07-24T09:02:13.113Z"
   },
   {
    "duration": 13,
    "start_time": "2024-07-24T09:02:13.395Z"
   },
   {
    "duration": 344,
    "start_time": "2024-07-24T09:02:13.409Z"
   },
   {
    "duration": 148,
    "start_time": "2024-07-24T09:02:13.754Z"
   },
   {
    "duration": 171,
    "start_time": "2024-07-24T09:02:13.905Z"
   },
   {
    "duration": 5,
    "start_time": "2024-07-24T09:02:14.078Z"
   },
   {
    "duration": 209,
    "start_time": "2024-07-24T09:02:14.084Z"
   },
   {
    "duration": 193,
    "start_time": "2024-07-24T09:02:14.295Z"
   },
   {
    "duration": 4,
    "start_time": "2024-07-24T09:02:14.490Z"
   },
   {
    "duration": 172,
    "start_time": "2024-07-24T09:02:14.496Z"
   },
   {
    "duration": 110,
    "start_time": "2024-07-24T09:02:14.669Z"
   },
   {
    "duration": 33,
    "start_time": "2024-07-24T09:02:14.781Z"
   },
   {
    "duration": 162,
    "start_time": "2024-07-24T09:02:14.816Z"
   },
   {
    "duration": 51,
    "start_time": "2024-07-24T09:02:14.979Z"
   },
   {
    "duration": 14,
    "start_time": "2024-07-24T09:02:15.031Z"
   },
   {
    "duration": 42,
    "start_time": "2024-07-24T09:02:15.047Z"
   },
   {
    "duration": 44,
    "start_time": "2024-07-24T09:02:15.090Z"
   },
   {
    "duration": 124,
    "start_time": "2024-07-24T09:02:15.136Z"
   },
   {
    "duration": 66,
    "start_time": "2024-07-24T09:02:15.261Z"
   },
   {
    "duration": 15,
    "start_time": "2024-07-24T09:03:03.270Z"
   },
   {
    "duration": 7,
    "start_time": "2024-07-24T09:48:02.274Z"
   },
   {
    "duration": 9,
    "start_time": "2024-07-24T09:48:04.366Z"
   },
   {
    "duration": 9,
    "start_time": "2024-07-24T09:48:16.965Z"
   },
   {
    "duration": 1246,
    "start_time": "2024-07-24T09:48:49.736Z"
   },
   {
    "duration": 73,
    "start_time": "2024-07-24T09:48:50.984Z"
   },
   {
    "duration": 17,
    "start_time": "2024-07-24T09:48:51.059Z"
   },
   {
    "duration": 40,
    "start_time": "2024-07-24T09:48:51.078Z"
   },
   {
    "duration": 22,
    "start_time": "2024-07-24T09:48:51.120Z"
   },
   {
    "duration": 34,
    "start_time": "2024-07-24T09:48:51.143Z"
   },
   {
    "duration": 7,
    "start_time": "2024-07-24T09:48:51.179Z"
   },
   {
    "duration": 21,
    "start_time": "2024-07-24T09:48:51.188Z"
   },
   {
    "duration": 30,
    "start_time": "2024-07-24T09:48:51.211Z"
   },
   {
    "duration": 28,
    "start_time": "2024-07-24T09:48:51.244Z"
   },
   {
    "duration": 110,
    "start_time": "2024-07-24T09:48:51.274Z"
   },
   {
    "duration": 124,
    "start_time": "2024-07-24T09:48:51.386Z"
   },
   {
    "duration": 39,
    "start_time": "2024-07-24T09:48:51.511Z"
   },
   {
    "duration": 33,
    "start_time": "2024-07-24T09:48:51.554Z"
   },
   {
    "duration": 22,
    "start_time": "2024-07-24T09:48:51.590Z"
   },
   {
    "duration": 9,
    "start_time": "2024-07-24T09:48:51.614Z"
   },
   {
    "duration": 42,
    "start_time": "2024-07-24T09:48:51.625Z"
   },
   {
    "duration": 17,
    "start_time": "2024-07-24T09:48:51.670Z"
   },
   {
    "duration": 51,
    "start_time": "2024-07-24T09:48:51.689Z"
   },
   {
    "duration": 228,
    "start_time": "2024-07-24T09:48:51.741Z"
   },
   {
    "duration": 123,
    "start_time": "2024-07-24T09:48:51.971Z"
   },
   {
    "duration": 14,
    "start_time": "2024-07-24T09:48:52.105Z"
   },
   {
    "duration": 27,
    "start_time": "2024-07-24T09:48:52.121Z"
   },
   {
    "duration": 346,
    "start_time": "2024-07-24T09:48:52.149Z"
   },
   {
    "duration": 250,
    "start_time": "2024-07-24T09:48:52.498Z"
   },
   {
    "duration": 12,
    "start_time": "2024-07-24T09:48:52.750Z"
   },
   {
    "duration": 386,
    "start_time": "2024-07-24T09:48:52.763Z"
   },
   {
    "duration": 13,
    "start_time": "2024-07-24T09:48:53.151Z"
   },
   {
    "duration": 339,
    "start_time": "2024-07-24T09:48:53.166Z"
   },
   {
    "duration": 14,
    "start_time": "2024-07-24T09:48:53.507Z"
   },
   {
    "duration": 330,
    "start_time": "2024-07-24T09:48:53.522Z"
   },
   {
    "duration": 138,
    "start_time": "2024-07-24T09:48:53.853Z"
   },
   {
    "duration": 171,
    "start_time": "2024-07-24T09:48:53.993Z"
   },
   {
    "duration": 5,
    "start_time": "2024-07-24T09:48:54.166Z"
   },
   {
    "duration": 234,
    "start_time": "2024-07-24T09:48:54.173Z"
   },
   {
    "duration": 213,
    "start_time": "2024-07-24T09:48:54.409Z"
   },
   {
    "duration": 6,
    "start_time": "2024-07-24T09:48:54.624Z"
   },
   {
    "duration": 211,
    "start_time": "2024-07-24T09:48:54.632Z"
   },
   {
    "duration": 116,
    "start_time": "2024-07-24T09:48:54.845Z"
   },
   {
    "duration": 21,
    "start_time": "2024-07-24T09:48:54.963Z"
   },
   {
    "duration": 159,
    "start_time": "2024-07-24T09:48:54.987Z"
   },
   {
    "duration": 60,
    "start_time": "2024-07-24T09:48:55.147Z"
   },
   {
    "duration": 16,
    "start_time": "2024-07-24T09:48:55.209Z"
   },
   {
    "duration": 21,
    "start_time": "2024-07-24T09:48:55.226Z"
   },
   {
    "duration": 19,
    "start_time": "2024-07-24T09:48:55.249Z"
   },
   {
    "duration": 52,
    "start_time": "2024-07-24T09:48:55.270Z"
   },
   {
    "duration": 15,
    "start_time": "2024-07-24T09:48:55.323Z"
   },
   {
    "duration": 5,
    "start_time": "2024-07-24T09:56:51.585Z"
   },
   {
    "duration": 890,
    "start_time": "2024-07-24T09:56:53.745Z"
   },
   {
    "duration": 1217,
    "start_time": "2024-07-24T09:57:08.760Z"
   },
   {
    "duration": 74,
    "start_time": "2024-07-24T09:57:09.979Z"
   },
   {
    "duration": 22,
    "start_time": "2024-07-24T09:57:10.054Z"
   },
   {
    "duration": 19,
    "start_time": "2024-07-24T09:57:10.079Z"
   },
   {
    "duration": 18,
    "start_time": "2024-07-24T09:57:10.100Z"
   },
   {
    "duration": 34,
    "start_time": "2024-07-24T09:57:10.120Z"
   },
   {
    "duration": 6,
    "start_time": "2024-07-24T09:57:10.156Z"
   },
   {
    "duration": 7,
    "start_time": "2024-07-24T09:57:10.164Z"
   },
   {
    "duration": 34,
    "start_time": "2024-07-24T09:57:10.172Z"
   },
   {
    "duration": 11,
    "start_time": "2024-07-24T09:57:10.210Z"
   },
   {
    "duration": 26,
    "start_time": "2024-07-24T09:57:10.223Z"
   },
   {
    "duration": 7,
    "start_time": "2024-07-24T09:57:10.251Z"
   },
   {
    "duration": 21,
    "start_time": "2024-07-24T09:57:10.259Z"
   },
   {
    "duration": 30,
    "start_time": "2024-07-24T09:57:10.282Z"
   },
   {
    "duration": 28,
    "start_time": "2024-07-24T09:57:10.313Z"
   },
   {
    "duration": 14,
    "start_time": "2024-07-24T09:57:10.342Z"
   },
   {
    "duration": 9,
    "start_time": "2024-07-24T09:57:10.357Z"
   },
   {
    "duration": 887,
    "start_time": "2024-07-24T09:57:10.368Z"
   },
   {
    "duration": 0,
    "start_time": "2024-07-24T09:57:11.259Z"
   },
   {
    "duration": 0,
    "start_time": "2024-07-24T09:57:11.260Z"
   },
   {
    "duration": 0,
    "start_time": "2024-07-24T09:57:11.261Z"
   },
   {
    "duration": 0,
    "start_time": "2024-07-24T09:57:11.262Z"
   },
   {
    "duration": 0,
    "start_time": "2024-07-24T09:57:11.264Z"
   },
   {
    "duration": 0,
    "start_time": "2024-07-24T09:57:11.265Z"
   },
   {
    "duration": 0,
    "start_time": "2024-07-24T09:57:11.266Z"
   },
   {
    "duration": 0,
    "start_time": "2024-07-24T09:57:11.268Z"
   },
   {
    "duration": 0,
    "start_time": "2024-07-24T09:57:11.269Z"
   },
   {
    "duration": 0,
    "start_time": "2024-07-24T09:57:11.270Z"
   },
   {
    "duration": 0,
    "start_time": "2024-07-24T09:57:11.272Z"
   },
   {
    "duration": 0,
    "start_time": "2024-07-24T09:57:11.273Z"
   },
   {
    "duration": 0,
    "start_time": "2024-07-24T09:57:11.275Z"
   },
   {
    "duration": 0,
    "start_time": "2024-07-24T09:57:11.276Z"
   },
   {
    "duration": 0,
    "start_time": "2024-07-24T09:57:11.278Z"
   },
   {
    "duration": 0,
    "start_time": "2024-07-24T09:57:11.279Z"
   },
   {
    "duration": 0,
    "start_time": "2024-07-24T09:57:11.280Z"
   },
   {
    "duration": 0,
    "start_time": "2024-07-24T09:57:11.282Z"
   },
   {
    "duration": 0,
    "start_time": "2024-07-24T09:57:11.283Z"
   },
   {
    "duration": 0,
    "start_time": "2024-07-24T09:57:11.285Z"
   },
   {
    "duration": 0,
    "start_time": "2024-07-24T09:57:11.286Z"
   },
   {
    "duration": 0,
    "start_time": "2024-07-24T09:57:11.287Z"
   },
   {
    "duration": 0,
    "start_time": "2024-07-24T09:57:11.288Z"
   },
   {
    "duration": 0,
    "start_time": "2024-07-24T09:57:11.289Z"
   },
   {
    "duration": 0,
    "start_time": "2024-07-24T09:57:11.291Z"
   },
   {
    "duration": 0,
    "start_time": "2024-07-24T09:57:11.292Z"
   },
   {
    "duration": 0,
    "start_time": "2024-07-24T09:57:11.294Z"
   },
   {
    "duration": 0,
    "start_time": "2024-07-24T09:57:11.296Z"
   },
   {
    "duration": 0,
    "start_time": "2024-07-24T09:57:11.305Z"
   },
   {
    "duration": 12,
    "start_time": "2024-07-24T09:59:26.517Z"
   },
   {
    "duration": 10,
    "start_time": "2024-07-24T09:59:56.727Z"
   },
   {
    "duration": 771,
    "start_time": "2024-07-24T10:04:27.543Z"
   },
   {
    "duration": 1264,
    "start_time": "2024-07-24T10:05:09.512Z"
   },
   {
    "duration": 74,
    "start_time": "2024-07-24T10:05:10.778Z"
   },
   {
    "duration": 27,
    "start_time": "2024-07-24T10:05:10.854Z"
   },
   {
    "duration": 17,
    "start_time": "2024-07-24T10:05:10.884Z"
   },
   {
    "duration": 15,
    "start_time": "2024-07-24T10:05:10.903Z"
   },
   {
    "duration": 37,
    "start_time": "2024-07-24T10:05:10.920Z"
   },
   {
    "duration": 7,
    "start_time": "2024-07-24T10:05:10.959Z"
   },
   {
    "duration": 59,
    "start_time": "2024-07-24T10:05:10.968Z"
   },
   {
    "duration": 13,
    "start_time": "2024-07-24T10:05:11.029Z"
   },
   {
    "duration": 14,
    "start_time": "2024-07-24T10:05:11.045Z"
   },
   {
    "duration": 23,
    "start_time": "2024-07-24T10:05:11.061Z"
   },
   {
    "duration": 14,
    "start_time": "2024-07-24T10:05:11.086Z"
   },
   {
    "duration": 9,
    "start_time": "2024-07-24T10:05:11.101Z"
   },
   {
    "duration": 56,
    "start_time": "2024-07-24T10:05:11.112Z"
   },
   {
    "duration": 25,
    "start_time": "2024-07-24T10:05:11.170Z"
   },
   {
    "duration": 6,
    "start_time": "2024-07-24T10:05:11.197Z"
   },
   {
    "duration": 8,
    "start_time": "2024-07-24T10:05:11.206Z"
   },
   {
    "duration": 8,
    "start_time": "2024-07-24T10:05:11.215Z"
   },
   {
    "duration": 12,
    "start_time": "2024-07-24T10:05:11.224Z"
   },
   {
    "duration": 236,
    "start_time": "2024-07-24T10:05:11.237Z"
   },
   {
    "duration": 135,
    "start_time": "2024-07-24T10:05:11.475Z"
   },
   {
    "duration": 35,
    "start_time": "2024-07-24T10:05:11.611Z"
   },
   {
    "duration": 8,
    "start_time": "2024-07-24T10:05:11.648Z"
   },
   {
    "duration": 339,
    "start_time": "2024-07-24T10:05:11.657Z"
   },
   {
    "duration": 308,
    "start_time": "2024-07-24T10:05:11.999Z"
   },
   {
    "duration": 10,
    "start_time": "2024-07-24T10:05:12.309Z"
   },
   {
    "duration": 347,
    "start_time": "2024-07-24T10:05:12.321Z"
   },
   {
    "duration": 12,
    "start_time": "2024-07-24T10:05:12.672Z"
   },
   {
    "duration": 315,
    "start_time": "2024-07-24T10:05:12.686Z"
   },
   {
    "duration": 15,
    "start_time": "2024-07-24T10:05:13.003Z"
   },
   {
    "duration": 334,
    "start_time": "2024-07-24T10:05:13.019Z"
   },
   {
    "duration": 157,
    "start_time": "2024-07-24T10:05:13.355Z"
   },
   {
    "duration": 199,
    "start_time": "2024-07-24T10:05:13.514Z"
   },
   {
    "duration": 6,
    "start_time": "2024-07-24T10:05:13.715Z"
   },
   {
    "duration": 206,
    "start_time": "2024-07-24T10:05:13.723Z"
   },
   {
    "duration": 196,
    "start_time": "2024-07-24T10:05:13.931Z"
   },
   {
    "duration": 4,
    "start_time": "2024-07-24T10:05:14.129Z"
   },
   {
    "duration": 190,
    "start_time": "2024-07-24T10:05:14.135Z"
   },
   {
    "duration": 137,
    "start_time": "2024-07-24T10:05:14.327Z"
   },
   {
    "duration": 22,
    "start_time": "2024-07-24T10:05:14.466Z"
   },
   {
    "duration": 199,
    "start_time": "2024-07-24T10:05:14.489Z"
   },
   {
    "duration": 91,
    "start_time": "2024-07-24T10:05:14.691Z"
   },
   {
    "duration": 37,
    "start_time": "2024-07-24T10:05:14.784Z"
   },
   {
    "duration": 28,
    "start_time": "2024-07-24T10:05:14.823Z"
   },
   {
    "duration": 19,
    "start_time": "2024-07-24T10:05:14.853Z"
   },
   {
    "duration": 77,
    "start_time": "2024-07-24T10:05:14.875Z"
   },
   {
    "duration": 19,
    "start_time": "2024-07-24T10:05:14.954Z"
   },
   {
    "duration": 8,
    "start_time": "2024-07-24T10:08:51.432Z"
   },
   {
    "duration": 8,
    "start_time": "2024-07-24T10:08:53.106Z"
   },
   {
    "duration": 1202,
    "start_time": "2024-07-24T10:08:58.079Z"
   },
   {
    "duration": 73,
    "start_time": "2024-07-24T10:08:59.284Z"
   },
   {
    "duration": 15,
    "start_time": "2024-07-24T10:08:59.359Z"
   },
   {
    "duration": 12,
    "start_time": "2024-07-24T10:08:59.376Z"
   },
   {
    "duration": 120,
    "start_time": "2024-07-24T10:08:59.390Z"
   },
   {
    "duration": 28,
    "start_time": "2024-07-24T10:08:59.511Z"
   },
   {
    "duration": 6,
    "start_time": "2024-07-24T10:08:59.541Z"
   },
   {
    "duration": 8,
    "start_time": "2024-07-24T10:08:59.549Z"
   },
   {
    "duration": 26,
    "start_time": "2024-07-24T10:08:59.559Z"
   },
   {
    "duration": 61,
    "start_time": "2024-07-24T10:08:59.586Z"
   },
   {
    "duration": 30,
    "start_time": "2024-07-24T10:08:59.649Z"
   },
   {
    "duration": 8,
    "start_time": "2024-07-24T10:08:59.680Z"
   },
   {
    "duration": 24,
    "start_time": "2024-07-24T10:08:59.690Z"
   },
   {
    "duration": 14,
    "start_time": "2024-07-24T10:08:59.719Z"
   },
   {
    "duration": 15,
    "start_time": "2024-07-24T10:08:59.734Z"
   },
   {
    "duration": 10,
    "start_time": "2024-07-24T10:08:59.750Z"
   },
   {
    "duration": 7,
    "start_time": "2024-07-24T10:08:59.762Z"
   },
   {
    "duration": 44,
    "start_time": "2024-07-24T10:08:59.771Z"
   },
   {
    "duration": 22,
    "start_time": "2024-07-24T10:08:59.817Z"
   },
   {
    "duration": 211,
    "start_time": "2024-07-24T10:08:59.841Z"
   },
   {
    "duration": 130,
    "start_time": "2024-07-24T10:09:00.054Z"
   },
   {
    "duration": 21,
    "start_time": "2024-07-24T10:09:00.186Z"
   },
   {
    "duration": 97,
    "start_time": "2024-07-24T10:09:00.209Z"
   },
   {
    "duration": 415,
    "start_time": "2024-07-24T10:09:00.308Z"
   },
   {
    "duration": 251,
    "start_time": "2024-07-24T10:09:00.725Z"
   },
   {
    "duration": 11,
    "start_time": "2024-07-24T10:09:00.977Z"
   },
   {
    "duration": 460,
    "start_time": "2024-07-24T10:09:00.990Z"
   },
   {
    "duration": 12,
    "start_time": "2024-07-24T10:09:01.452Z"
   },
   {
    "duration": 483,
    "start_time": "2024-07-24T10:09:01.466Z"
   },
   {
    "duration": 18,
    "start_time": "2024-07-24T10:09:01.951Z"
   },
   {
    "duration": 689,
    "start_time": "2024-07-24T10:09:01.970Z"
   },
   {
    "duration": 175,
    "start_time": "2024-07-24T10:09:02.661Z"
   },
   {
    "duration": 224,
    "start_time": "2024-07-24T10:09:02.838Z"
   },
   {
    "duration": 5,
    "start_time": "2024-07-24T10:09:03.064Z"
   },
   {
    "duration": 199,
    "start_time": "2024-07-24T10:09:03.072Z"
   },
   {
    "duration": 195,
    "start_time": "2024-07-24T10:09:03.272Z"
   },
   {
    "duration": 5,
    "start_time": "2024-07-24T10:09:03.469Z"
   },
   {
    "duration": 222,
    "start_time": "2024-07-24T10:09:03.476Z"
   },
   {
    "duration": 113,
    "start_time": "2024-07-24T10:09:03.700Z"
   },
   {
    "duration": 22,
    "start_time": "2024-07-24T10:09:03.815Z"
   },
   {
    "duration": 156,
    "start_time": "2024-07-24T10:09:03.840Z"
   },
   {
    "duration": 53,
    "start_time": "2024-07-24T10:09:03.998Z"
   },
   {
    "duration": 20,
    "start_time": "2024-07-24T10:09:04.053Z"
   },
   {
    "duration": 40,
    "start_time": "2024-07-24T10:09:04.076Z"
   },
   {
    "duration": 21,
    "start_time": "2024-07-24T10:09:04.118Z"
   },
   {
    "duration": 59,
    "start_time": "2024-07-24T10:09:04.141Z"
   },
   {
    "duration": 15,
    "start_time": "2024-07-24T10:09:04.202Z"
   },
   {
    "duration": 6,
    "start_time": "2024-07-24T10:11:28.553Z"
   },
   {
    "duration": 6,
    "start_time": "2024-07-24T10:11:59.702Z"
   },
   {
    "duration": 8,
    "start_time": "2024-07-24T10:12:01.409Z"
   },
   {
    "duration": 1214,
    "start_time": "2024-07-24T10:12:06.098Z"
   },
   {
    "duration": 73,
    "start_time": "2024-07-24T10:12:07.314Z"
   },
   {
    "duration": 17,
    "start_time": "2024-07-24T10:12:07.388Z"
   },
   {
    "duration": 121,
    "start_time": "2024-07-24T10:12:07.407Z"
   },
   {
    "duration": 13,
    "start_time": "2024-07-24T10:12:07.531Z"
   },
   {
    "duration": 29,
    "start_time": "2024-07-24T10:12:07.546Z"
   },
   {
    "duration": 6,
    "start_time": "2024-07-24T10:12:07.576Z"
   },
   {
    "duration": 5,
    "start_time": "2024-07-24T10:12:07.584Z"
   },
   {
    "duration": 19,
    "start_time": "2024-07-24T10:12:07.591Z"
   },
   {
    "duration": 9,
    "start_time": "2024-07-24T10:12:07.612Z"
   },
   {
    "duration": 30,
    "start_time": "2024-07-24T10:12:07.623Z"
   },
   {
    "duration": 7,
    "start_time": "2024-07-24T10:12:07.654Z"
   },
   {
    "duration": 19,
    "start_time": "2024-07-24T10:12:07.663Z"
   },
   {
    "duration": 22,
    "start_time": "2024-07-24T10:12:07.685Z"
   },
   {
    "duration": 14,
    "start_time": "2024-07-24T10:12:07.709Z"
   },
   {
    "duration": 8,
    "start_time": "2024-07-24T10:12:07.724Z"
   },
   {
    "duration": 6,
    "start_time": "2024-07-24T10:12:07.734Z"
   },
   {
    "duration": 11,
    "start_time": "2024-07-24T10:12:07.742Z"
   },
   {
    "duration": 17,
    "start_time": "2024-07-24T10:12:07.754Z"
   },
   {
    "duration": 200,
    "start_time": "2024-07-24T10:12:07.806Z"
   },
   {
    "duration": 135,
    "start_time": "2024-07-24T10:12:08.017Z"
   },
   {
    "duration": 12,
    "start_time": "2024-07-24T10:12:08.154Z"
   },
   {
    "duration": 7,
    "start_time": "2024-07-24T10:12:08.167Z"
   },
   {
    "duration": 360,
    "start_time": "2024-07-24T10:12:08.175Z"
   },
   {
    "duration": 270,
    "start_time": "2024-07-24T10:12:08.537Z"
   },
   {
    "duration": 11,
    "start_time": "2024-07-24T10:12:08.808Z"
   },
   {
    "duration": 352,
    "start_time": "2024-07-24T10:12:08.821Z"
   },
   {
    "duration": 12,
    "start_time": "2024-07-24T10:12:09.175Z"
   },
   {
    "duration": 309,
    "start_time": "2024-07-24T10:12:09.188Z"
   },
   {
    "duration": 14,
    "start_time": "2024-07-24T10:12:09.499Z"
   },
   {
    "duration": 349,
    "start_time": "2024-07-24T10:12:09.516Z"
   },
   {
    "duration": 165,
    "start_time": "2024-07-24T10:12:09.866Z"
   },
   {
    "duration": 182,
    "start_time": "2024-07-24T10:12:10.032Z"
   },
   {
    "duration": 5,
    "start_time": "2024-07-24T10:12:10.215Z"
   },
   {
    "duration": 197,
    "start_time": "2024-07-24T10:12:10.222Z"
   },
   {
    "duration": 201,
    "start_time": "2024-07-24T10:12:10.420Z"
   },
   {
    "duration": 5,
    "start_time": "2024-07-24T10:12:10.623Z"
   },
   {
    "duration": 167,
    "start_time": "2024-07-24T10:12:10.630Z"
   },
   {
    "duration": 128,
    "start_time": "2024-07-24T10:12:10.799Z"
   },
   {
    "duration": 22,
    "start_time": "2024-07-24T10:12:10.929Z"
   },
   {
    "duration": 196,
    "start_time": "2024-07-24T10:12:10.954Z"
   },
   {
    "duration": 55,
    "start_time": "2024-07-24T10:12:11.152Z"
   },
   {
    "duration": 18,
    "start_time": "2024-07-24T10:12:11.209Z"
   },
   {
    "duration": 13,
    "start_time": "2024-07-24T10:12:11.229Z"
   },
   {
    "duration": 40,
    "start_time": "2024-07-24T10:12:11.244Z"
   },
   {
    "duration": 56,
    "start_time": "2024-07-24T10:12:11.285Z"
   },
   {
    "duration": 15,
    "start_time": "2024-07-24T10:12:11.343Z"
   },
   {
    "duration": 11,
    "start_time": "2024-07-24T10:25:00.217Z"
   },
   {
    "duration": 105,
    "start_time": "2024-07-24T10:26:35.072Z"
   },
   {
    "duration": 7,
    "start_time": "2024-07-24T10:27:25.693Z"
   },
   {
    "duration": 1191,
    "start_time": "2024-07-24T10:27:34.590Z"
   },
   {
    "duration": 73,
    "start_time": "2024-07-24T10:27:35.783Z"
   },
   {
    "duration": 16,
    "start_time": "2024-07-24T10:27:35.858Z"
   },
   {
    "duration": 14,
    "start_time": "2024-07-24T10:27:35.875Z"
   },
   {
    "duration": 16,
    "start_time": "2024-07-24T10:27:35.890Z"
   },
   {
    "duration": 28,
    "start_time": "2024-07-24T10:27:35.907Z"
   },
   {
    "duration": 6,
    "start_time": "2024-07-24T10:27:35.936Z"
   },
   {
    "duration": 23,
    "start_time": "2024-07-24T10:27:35.943Z"
   },
   {
    "duration": 36,
    "start_time": "2024-07-24T10:27:35.968Z"
   },
   {
    "duration": 48,
    "start_time": "2024-07-24T10:27:36.007Z"
   },
   {
    "duration": 38,
    "start_time": "2024-07-24T10:27:36.056Z"
   },
   {
    "duration": 10,
    "start_time": "2024-07-24T10:27:36.096Z"
   },
   {
    "duration": 9,
    "start_time": "2024-07-24T10:27:36.108Z"
   },
   {
    "duration": 19,
    "start_time": "2024-07-24T10:27:36.119Z"
   },
   {
    "duration": 16,
    "start_time": "2024-07-24T10:27:36.140Z"
   },
   {
    "duration": 18,
    "start_time": "2024-07-24T10:27:36.158Z"
   },
   {
    "duration": 23,
    "start_time": "2024-07-24T10:27:36.178Z"
   },
   {
    "duration": 117,
    "start_time": "2024-07-24T10:27:36.202Z"
   },
   {
    "duration": 6,
    "start_time": "2024-07-24T10:27:36.321Z"
   },
   {
    "duration": 10,
    "start_time": "2024-07-24T10:27:36.328Z"
   },
   {
    "duration": 193,
    "start_time": "2024-07-24T10:27:36.340Z"
   },
   {
    "duration": 126,
    "start_time": "2024-07-24T10:27:36.535Z"
   },
   {
    "duration": 12,
    "start_time": "2024-07-24T10:27:36.662Z"
   },
   {
    "duration": 12,
    "start_time": "2024-07-24T10:27:36.675Z"
   },
   {
    "duration": 334,
    "start_time": "2024-07-24T10:27:36.688Z"
   },
   {
    "duration": 251,
    "start_time": "2024-07-24T10:27:37.024Z"
   },
   {
    "duration": 12,
    "start_time": "2024-07-24T10:27:37.277Z"
   },
   {
    "duration": 347,
    "start_time": "2024-07-24T10:27:37.305Z"
   },
   {
    "duration": 13,
    "start_time": "2024-07-24T10:27:37.655Z"
   },
   {
    "duration": 259,
    "start_time": "2024-07-24T10:27:37.670Z"
   },
   {
    "duration": 14,
    "start_time": "2024-07-24T10:27:37.930Z"
   },
   {
    "duration": 314,
    "start_time": "2024-07-24T10:27:37.946Z"
   },
   {
    "duration": 184,
    "start_time": "2024-07-24T10:27:38.262Z"
   },
   {
    "duration": 196,
    "start_time": "2024-07-24T10:27:38.448Z"
   },
   {
    "duration": 5,
    "start_time": "2024-07-24T10:27:38.645Z"
   },
   {
    "duration": 196,
    "start_time": "2024-07-24T10:27:38.651Z"
   },
   {
    "duration": 206,
    "start_time": "2024-07-24T10:27:38.849Z"
   },
   {
    "duration": 5,
    "start_time": "2024-07-24T10:27:39.056Z"
   },
   {
    "duration": 177,
    "start_time": "2024-07-24T10:27:39.062Z"
   },
   {
    "duration": 118,
    "start_time": "2024-07-24T10:27:39.241Z"
   },
   {
    "duration": 23,
    "start_time": "2024-07-24T10:27:39.360Z"
   },
   {
    "duration": 156,
    "start_time": "2024-07-24T10:27:39.385Z"
   },
   {
    "duration": 48,
    "start_time": "2024-07-24T10:27:39.542Z"
   },
   {
    "duration": 25,
    "start_time": "2024-07-24T10:27:39.592Z"
   },
   {
    "duration": 13,
    "start_time": "2024-07-24T10:27:39.618Z"
   },
   {
    "duration": 12,
    "start_time": "2024-07-24T10:27:39.632Z"
   },
   {
    "duration": 71,
    "start_time": "2024-07-24T10:27:39.646Z"
   },
   {
    "duration": 14,
    "start_time": "2024-07-24T10:27:39.718Z"
   },
   {
    "duration": 83,
    "start_time": "2024-07-24T11:44:53.667Z"
   },
   {
    "duration": 73,
    "start_time": "2024-07-24T11:45:08.224Z"
   },
   {
    "duration": 6,
    "start_time": "2024-07-24T11:45:36.149Z"
   },
   {
    "duration": 5,
    "start_time": "2024-07-24T11:45:41.191Z"
   },
   {
    "duration": 5,
    "start_time": "2024-07-24T11:47:07.093Z"
   },
   {
    "duration": 1162,
    "start_time": "2024-07-24T11:47:27.711Z"
   },
   {
    "duration": 76,
    "start_time": "2024-07-24T11:47:28.875Z"
   },
   {
    "duration": 7,
    "start_time": "2024-07-24T11:47:28.953Z"
   },
   {
    "duration": 46,
    "start_time": "2024-07-24T11:47:28.961Z"
   },
   {
    "duration": 37,
    "start_time": "2024-07-24T11:47:29.010Z"
   },
   {
    "duration": 37,
    "start_time": "2024-07-24T11:47:29.048Z"
   },
   {
    "duration": 5,
    "start_time": "2024-07-24T11:47:29.086Z"
   },
   {
    "duration": 26,
    "start_time": "2024-07-24T11:47:29.093Z"
   },
   {
    "duration": 85,
    "start_time": "2024-07-24T11:47:29.121Z"
   },
   {
    "duration": 103,
    "start_time": "2024-07-24T11:47:29.208Z"
   },
   {
    "duration": 40,
    "start_time": "2024-07-24T11:47:29.313Z"
   },
   {
    "duration": 7,
    "start_time": "2024-07-24T11:47:29.355Z"
   },
   {
    "duration": 39,
    "start_time": "2024-07-24T11:47:29.364Z"
   },
   {
    "duration": 36,
    "start_time": "2024-07-24T11:47:29.406Z"
   },
   {
    "duration": 20,
    "start_time": "2024-07-24T11:47:29.444Z"
   },
   {
    "duration": 9,
    "start_time": "2024-07-24T11:47:29.466Z"
   },
   {
    "duration": 19,
    "start_time": "2024-07-24T11:47:29.477Z"
   },
   {
    "duration": 108,
    "start_time": "2024-07-24T11:47:29.497Z"
   },
   {
    "duration": 6,
    "start_time": "2024-07-24T11:47:29.607Z"
   },
   {
    "duration": 28,
    "start_time": "2024-07-24T11:47:29.615Z"
   },
   {
    "duration": 188,
    "start_time": "2024-07-24T11:47:29.645Z"
   },
   {
    "duration": 135,
    "start_time": "2024-07-24T11:47:29.835Z"
   },
   {
    "duration": 11,
    "start_time": "2024-07-24T11:47:29.972Z"
   },
   {
    "duration": 46,
    "start_time": "2024-07-24T11:47:29.984Z"
   },
   {
    "duration": 354,
    "start_time": "2024-07-24T11:47:30.032Z"
   },
   {
    "duration": 240,
    "start_time": "2024-07-24T11:47:30.388Z"
   },
   {
    "duration": 11,
    "start_time": "2024-07-24T11:47:30.629Z"
   },
   {
    "duration": 421,
    "start_time": "2024-07-24T11:47:30.642Z"
   },
   {
    "duration": 11,
    "start_time": "2024-07-24T11:47:31.065Z"
   },
   {
    "duration": 351,
    "start_time": "2024-07-24T11:47:31.077Z"
   },
   {
    "duration": 12,
    "start_time": "2024-07-24T11:47:31.430Z"
   },
   {
    "duration": 363,
    "start_time": "2024-07-24T11:47:31.444Z"
   },
   {
    "duration": 164,
    "start_time": "2024-07-24T11:47:31.809Z"
   },
   {
    "duration": 197,
    "start_time": "2024-07-24T11:47:31.974Z"
   },
   {
    "duration": 6,
    "start_time": "2024-07-24T11:47:32.173Z"
   },
   {
    "duration": 214,
    "start_time": "2024-07-24T11:47:32.181Z"
   },
   {
    "duration": 177,
    "start_time": "2024-07-24T11:47:32.397Z"
   },
   {
    "duration": 4,
    "start_time": "2024-07-24T11:47:32.576Z"
   },
   {
    "duration": 176,
    "start_time": "2024-07-24T11:47:32.581Z"
   },
   {
    "duration": 113,
    "start_time": "2024-07-24T11:47:32.758Z"
   },
   {
    "duration": 20,
    "start_time": "2024-07-24T11:47:32.875Z"
   },
   {
    "duration": 138,
    "start_time": "2024-07-24T11:47:32.896Z"
   },
   {
    "duration": 46,
    "start_time": "2024-07-24T11:47:33.036Z"
   },
   {
    "duration": 29,
    "start_time": "2024-07-24T11:47:33.084Z"
   },
   {
    "duration": 74,
    "start_time": "2024-07-24T11:47:33.114Z"
   },
   {
    "duration": 91,
    "start_time": "2024-07-24T11:47:33.190Z"
   },
   {
    "duration": 53,
    "start_time": "2024-07-24T11:47:33.282Z"
   },
   {
    "duration": 14,
    "start_time": "2024-07-24T11:47:33.336Z"
   },
   {
    "duration": 13,
    "start_time": "2024-07-24T11:48:30.808Z"
   },
   {
    "duration": 13,
    "start_time": "2024-07-24T11:48:40.277Z"
   },
   {
    "duration": 1040,
    "start_time": "2024-07-24T14:53:21.286Z"
   },
   {
    "duration": 83,
    "start_time": "2024-07-24T14:53:22.328Z"
   },
   {
    "duration": 14,
    "start_time": "2024-07-24T14:53:22.413Z"
   },
   {
    "duration": 11,
    "start_time": "2024-07-24T14:53:22.429Z"
   },
   {
    "duration": 7,
    "start_time": "2024-07-24T14:53:22.441Z"
   },
   {
    "duration": 22,
    "start_time": "2024-07-24T14:53:22.450Z"
   },
   {
    "duration": 5,
    "start_time": "2024-07-24T14:53:22.473Z"
   },
   {
    "duration": 17,
    "start_time": "2024-07-24T14:53:22.480Z"
   },
   {
    "duration": 10,
    "start_time": "2024-07-24T14:53:22.499Z"
   },
   {
    "duration": 11,
    "start_time": "2024-07-24T14:53:22.511Z"
   },
   {
    "duration": 17,
    "start_time": "2024-07-24T14:53:22.523Z"
   },
   {
    "duration": 5,
    "start_time": "2024-07-24T14:53:22.541Z"
   },
   {
    "duration": 3,
    "start_time": "2024-07-24T14:53:22.547Z"
   },
   {
    "duration": 44,
    "start_time": "2024-07-24T14:53:22.552Z"
   },
   {
    "duration": 13,
    "start_time": "2024-07-24T14:53:22.597Z"
   },
   {
    "duration": 3,
    "start_time": "2024-07-24T14:53:22.611Z"
   },
   {
    "duration": 9,
    "start_time": "2024-07-24T14:53:22.617Z"
   },
   {
    "duration": 110,
    "start_time": "2024-07-24T14:53:22.627Z"
   },
   {
    "duration": 6,
    "start_time": "2024-07-24T14:53:22.738Z"
   },
   {
    "duration": 26,
    "start_time": "2024-07-24T14:53:22.745Z"
   },
   {
    "duration": 243,
    "start_time": "2024-07-24T14:53:22.772Z"
   },
   {
    "duration": 293,
    "start_time": "2024-07-24T14:53:23.017Z"
   },
   {
    "duration": 10,
    "start_time": "2024-07-24T14:53:23.312Z"
   },
   {
    "duration": 23,
    "start_time": "2024-07-24T14:53:23.324Z"
   },
   {
    "duration": 542,
    "start_time": "2024-07-24T14:53:23.396Z"
   },
   {
    "duration": 398,
    "start_time": "2024-07-24T14:53:23.939Z"
   },
   {
    "duration": 10,
    "start_time": "2024-07-24T14:53:24.338Z"
   },
   {
    "duration": 319,
    "start_time": "2024-07-24T14:53:24.350Z"
   },
   {
    "duration": 11,
    "start_time": "2024-07-24T14:53:24.670Z"
   },
   {
    "duration": 240,
    "start_time": "2024-07-24T14:53:24.683Z"
   },
   {
    "duration": 12,
    "start_time": "2024-07-24T14:53:24.925Z"
   },
   {
    "duration": 296,
    "start_time": "2024-07-24T14:53:24.939Z"
   },
   {
    "duration": 162,
    "start_time": "2024-07-24T14:53:25.236Z"
   },
   {
    "duration": 198,
    "start_time": "2024-07-24T14:53:25.400Z"
   },
   {
    "duration": 5,
    "start_time": "2024-07-24T14:53:25.599Z"
   },
   {
    "duration": 173,
    "start_time": "2024-07-24T14:53:25.605Z"
   },
   {
    "duration": 186,
    "start_time": "2024-07-24T14:53:25.780Z"
   },
   {
    "duration": 4,
    "start_time": "2024-07-24T14:53:25.969Z"
   },
   {
    "duration": 156,
    "start_time": "2024-07-24T14:53:25.975Z"
   },
   {
    "duration": 110,
    "start_time": "2024-07-24T14:53:26.132Z"
   },
   {
    "duration": 18,
    "start_time": "2024-07-24T14:53:26.244Z"
   },
   {
    "duration": 134,
    "start_time": "2024-07-24T14:53:26.263Z"
   },
   {
    "duration": 41,
    "start_time": "2024-07-24T14:53:26.399Z"
   },
   {
    "duration": 13,
    "start_time": "2024-07-24T14:53:26.441Z"
   },
   {
    "duration": 10,
    "start_time": "2024-07-24T14:53:26.455Z"
   },
   {
    "duration": 32,
    "start_time": "2024-07-24T14:53:26.466Z"
   },
   {
    "duration": 49,
    "start_time": "2024-07-24T14:53:26.499Z"
   },
   {
    "duration": 13,
    "start_time": "2024-07-24T14:53:26.549Z"
   }
  ],
  "kernelspec": {
   "display_name": "Python 3 (ipykernel)",
   "language": "python",
   "name": "python3"
  },
  "language_info": {
   "codemirror_mode": {
    "name": "ipython",
    "version": 3
   },
   "file_extension": ".py",
   "mimetype": "text/x-python",
   "name": "python",
   "nbconvert_exporter": "python",
   "pygments_lexer": "ipython3",
   "version": "3.12.7"
  },
  "toc": {
   "base_numbering": 1,
   "nav_menu": {},
   "number_sections": true,
   "sideBar": true,
   "skip_h1_title": true,
   "title_cell": "Table of Contents",
   "title_sidebar": "Contents",
   "toc_cell": false,
   "toc_position": {
    "height": "calc(100% - 180px)",
    "left": "10px",
    "top": "150px",
    "width": "407.037506px"
   },
   "toc_section_display": true,
   "toc_window_display": true
  }
 },
 "nbformat": 4,
 "nbformat_minor": 4
}
